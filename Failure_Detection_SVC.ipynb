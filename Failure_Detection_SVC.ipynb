{
  "cells": [
    {
      "cell_type": "markdown",
      "metadata": {
        "id": "view-in-github",
        "colab_type": "text"
      },
      "source": [
        "<a href=\"https://colab.research.google.com/github/matyi101/MP2-Code/blob/main/Failure_Detection_SVC.ipynb\" target=\"_parent\"><img src=\"https://colab.research.google.com/assets/colab-badge.svg\" alt=\"Open In Colab\"/></a>"
      ]
    },
    {
      "cell_type": "code",
      "execution_count": null,
      "metadata": {
        "colab": {
          "base_uri": "https://localhost:8080/"
        },
        "id": "Vsr1DT-teT0I",
        "outputId": "87566833-2a4c-4668-ab7d-5be5f001c15c"
      },
      "outputs": [
        {
          "output_type": "stream",
          "name": "stdout",
          "text": [
            "Drive already mounted at /content/drive/; to attempt to forcibly remount, call drive.mount(\"/content/drive/\", force_remount=True).\n"
          ]
        }
      ],
      "source": [
        "from google.colab import drive\n",
        "from google.colab import data_table\n",
        "\n",
        "drive.mount('/content/drive/')\n",
        "data_table.enable_dataframe_formatter()"
      ]
    },
    {
      "cell_type": "code",
      "execution_count": null,
      "metadata": {
        "id": "00O_gJByq_rn"
      },
      "outputs": [],
      "source": [
        "import os\n",
        "import pandas as pd\n",
        "import numpy as np\n",
        "import seaborn as sns\n",
        "import re\n",
        "import matplotlib.pyplot as plt\n",
        "from collections import Counter\n",
        "from imblearn.over_sampling import SMOTE\n",
        "from math import log"
      ]
    },
    {
      "cell_type": "markdown",
      "metadata": {
        "id": "2wc4xb0T9q6g"
      },
      "source": [
        "# DATA INFORMATION:\n",
        "\n",
        "\n",
        "\n",
        "> The dataset is available publicly for the users from https://www.backblaze.com/b2/hard-drive-test-data.html#how-you-can-use-the-data\n",
        "\n",
        "\n",
        "> The first row of the each file contains the column names, the remaining rows are the actual data. The columns are as follows:\n",
        "\n",
        "##### Date – The date of the file in yyyy-mm-dd format.\n",
        "##### Serial Number – The manufacturer-assigned serial number of the drive.\n",
        "##### Model – The manufacturer-assigned model number of the drive.\n",
        "##### Capacity – The drive capacity in bytes.\n",
        "##### Failure – Contains a “0” if the drive is OK. Contains a “1” if the drive is failed.\n",
        "##### S.M.A.R.T Attributes - Raw and Normalized.\n",
        "\n",
        "> In this dataset SMART attributes have two variants namely raw value often corresponds to counts or a physical unit, such as degrees Celsius or seconds and normalized value which ranges from 1 to 253 (1 as worst case and 253 as best case).\n",
        "\n",
        "\n",
        "\n",
        "\n",
        "\n",
        "\n",
        "\n"
      ]
    },
    {
      "cell_type": "markdown",
      "metadata": {
        "id": "jtNSJKkGA8ab"
      },
      "source": [
        "# ML PROBLEM FORMULATION:\n",
        "\n",
        "> It is the Binary class classification problem where we have to predict Hard Drive failure. These are predicted by using attributes that are recorded during normal operations of hard drive. These attributes are known as SMART(Self – Monitoring and Reporting Technology) which is the monitoring system included in computer HDD.\n",
        "\n",
        "> The motive of this prediction is to reduce the rate of failures as a cost saving measure by the HDD vendors and software running on the host system may notify the user so preventive action can be taken to prevent data loss and failing drive can be replaced and data integrity is maintained.\n",
        "\n",
        "> The HDD is said to be failed or critical when some of these attributes crosses the threshold values. Depending upon the manufacturers they use different SMART attributes in which the common attributes are like Read Error Rate, Throughput Performance, Spin-Up Time etc.\n",
        "\n",
        "> References:\n",
        "###### https://en.wikipedia.org/wiki/S.M.A.R.T\n",
        "###### https://www.backblaze.com/b2/hard-drive-test-data.html#how-you-can-use-the-data\n",
        "\n",
        "\n",
        "\n",
        "\n",
        "\n",
        "\n",
        "\n"
      ]
    },
    {
      "cell_type": "markdown",
      "metadata": {
        "id": "pbdpwrt2DJLd"
      },
      "source": [
        "# PERFORMANCE METRICS:\n",
        "\n",
        "\n",
        "1.   PRECISION, RECALL SCORES\n",
        "2.   AUC SCORE AND CONFUSION MATRIX\n",
        "\n"
      ]
    },
    {
      "cell_type": "markdown",
      "metadata": {
        "id": "SdIIo0TQ0OCD"
      },
      "source": [
        "# 1. Importing Data\n",
        "\n",
        "\n"
      ]
    },
    {
      "cell_type": "code",
      "execution_count": null,
      "metadata": {
        "id": "Utoqk-Ia2RCp"
      },
      "outputs": [],
      "source": [
        "# Using 5 days of data for Train and Val.\n",
        "# dates = ['02', '03', '04', '05', '06', '07', '08', '09', '10']\n",
        "dates = ['02', '03', '04', '05']\n",
        "Data = pd.read_csv(\"/content/drive/My Drive/hdddata/2021/2021-01-01.csv\")\n",
        "for i in dates:\n",
        "  Data = Data.append(pd.read_csv(\"/content/drive/My Drive/hdddata/2021/2021-01-\" + i + \".csv\"))"
      ]
    },
    {
      "cell_type": "code",
      "execution_count": null,
      "metadata": {
        "colab": {
          "base_uri": "https://localhost:8080/"
        },
        "id": "iPodCMoH8nhu",
        "outputId": "04d1968d-a0e9-4263-a756-7f2e008bf920"
      },
      "outputs": [
        {
          "output_type": "stream",
          "name": "stdout",
          "text": [
            "<class 'pandas.core.frame.DataFrame'>\n",
            "Int64Index: 827509 entries, 0 to 165532\n",
            "Columns: 149 entries, date to smart_255_raw\n",
            "dtypes: float64(144), int64(2), object(3)\n",
            "memory usage: 947.0+ MB\n",
            "None\n",
            "\n",
            "Shape of the Data:  (827509, 149)\n"
          ]
        }
      ],
      "source": [
        "print(Data.info())\n",
        "print()\n",
        "print(\"Shape of the Data: \", Data.shape)"
      ]
    },
    {
      "cell_type": "code",
      "execution_count": null,
      "metadata": {
        "colab": {
          "base_uri": "https://localhost:8080/",
          "height": 404
        },
        "id": "qXosMjoJPcfw",
        "outputId": "7dbdf39e-a8a3-42ff-b868-9f01ec86d05d"
      },
      "outputs": [
        {
          "output_type": "stream",
          "name": "stdout",
          "text": [
            "Warning: Total number of columns (149) exceeds max_columns (20). Falling back to pandas display.\n"
          ]
        },
        {
          "output_type": "execute_result",
          "data": {
            "text/plain": [
              "         date serial_number          model  capacity_bytes  failure  \\\n",
              "0  2021-01-01      ZLW0EGC6  ST12000NM001G  12000138625024        0   \n",
              "1  2021-01-01      Z305B2QN    ST4000DM000   4000787030016        0   \n",
              "2  2021-01-01      ZLW0C6NE  ST12000NM001G  12000138625024        0   \n",
              "3  2021-01-01      ZJV0XJQ3  ST12000NM0007  12000138625024        0   \n",
              "4  2021-01-01      ZLW18MKT  ST14000NM001G  14000519643136        0   \n",
              "\n",
              "   smart_1_normalized  smart_1_raw  smart_2_normalized  smart_2_raw  \\\n",
              "0                83.0  213166608.0                 NaN          NaN   \n",
              "1               114.0   79306032.0                 NaN          NaN   \n",
              "2                72.0   17162816.0                 NaN          NaN   \n",
              "3               100.0    1102160.0                 NaN          NaN   \n",
              "4                75.0   33233248.0                 NaN          NaN   \n",
              "\n",
              "   smart_3_normalized  ...  smart_250_normalized  smart_250_raw  \\\n",
              "0                99.0  ...                   NaN            NaN   \n",
              "1                91.0  ...                   NaN            NaN   \n",
              "2                98.0  ...                   NaN            NaN   \n",
              "3                98.0  ...                   NaN            NaN   \n",
              "4                95.0  ...                   NaN            NaN   \n",
              "\n",
              "   smart_251_normalized  smart_251_raw  smart_252_normalized  smart_252_raw  \\\n",
              "0                   NaN            NaN                   NaN            NaN   \n",
              "1                   NaN            NaN                   NaN            NaN   \n",
              "2                   NaN            NaN                   NaN            NaN   \n",
              "3                   NaN            NaN                   NaN            NaN   \n",
              "4                   NaN            NaN                   NaN            NaN   \n",
              "\n",
              "   smart_254_normalized  smart_254_raw  smart_255_normalized  smart_255_raw  \n",
              "0                   NaN            NaN                   NaN            NaN  \n",
              "1                   NaN            NaN                   NaN            NaN  \n",
              "2                   NaN            NaN                   NaN            NaN  \n",
              "3                   NaN            NaN                   NaN            NaN  \n",
              "4                   NaN            NaN                   NaN            NaN  \n",
              "\n",
              "[5 rows x 149 columns]"
            ],
            "text/html": [
              "\n",
              "  <div id=\"df-801aa8fd-1562-45e8-9810-2db4dd9a056c\">\n",
              "    <div class=\"colab-df-container\">\n",
              "      <div>\n",
              "<style scoped>\n",
              "    .dataframe tbody tr th:only-of-type {\n",
              "        vertical-align: middle;\n",
              "    }\n",
              "\n",
              "    .dataframe tbody tr th {\n",
              "        vertical-align: top;\n",
              "    }\n",
              "\n",
              "    .dataframe thead th {\n",
              "        text-align: right;\n",
              "    }\n",
              "</style>\n",
              "<table border=\"1\" class=\"dataframe\">\n",
              "  <thead>\n",
              "    <tr style=\"text-align: right;\">\n",
              "      <th></th>\n",
              "      <th>date</th>\n",
              "      <th>serial_number</th>\n",
              "      <th>model</th>\n",
              "      <th>capacity_bytes</th>\n",
              "      <th>failure</th>\n",
              "      <th>smart_1_normalized</th>\n",
              "      <th>smart_1_raw</th>\n",
              "      <th>smart_2_normalized</th>\n",
              "      <th>smart_2_raw</th>\n",
              "      <th>smart_3_normalized</th>\n",
              "      <th>...</th>\n",
              "      <th>smart_250_normalized</th>\n",
              "      <th>smart_250_raw</th>\n",
              "      <th>smart_251_normalized</th>\n",
              "      <th>smart_251_raw</th>\n",
              "      <th>smart_252_normalized</th>\n",
              "      <th>smart_252_raw</th>\n",
              "      <th>smart_254_normalized</th>\n",
              "      <th>smart_254_raw</th>\n",
              "      <th>smart_255_normalized</th>\n",
              "      <th>smart_255_raw</th>\n",
              "    </tr>\n",
              "  </thead>\n",
              "  <tbody>\n",
              "    <tr>\n",
              "      <th>0</th>\n",
              "      <td>2021-01-01</td>\n",
              "      <td>ZLW0EGC6</td>\n",
              "      <td>ST12000NM001G</td>\n",
              "      <td>12000138625024</td>\n",
              "      <td>0</td>\n",
              "      <td>83.0</td>\n",
              "      <td>213166608.0</td>\n",
              "      <td>NaN</td>\n",
              "      <td>NaN</td>\n",
              "      <td>99.0</td>\n",
              "      <td>...</td>\n",
              "      <td>NaN</td>\n",
              "      <td>NaN</td>\n",
              "      <td>NaN</td>\n",
              "      <td>NaN</td>\n",
              "      <td>NaN</td>\n",
              "      <td>NaN</td>\n",
              "      <td>NaN</td>\n",
              "      <td>NaN</td>\n",
              "      <td>NaN</td>\n",
              "      <td>NaN</td>\n",
              "    </tr>\n",
              "    <tr>\n",
              "      <th>1</th>\n",
              "      <td>2021-01-01</td>\n",
              "      <td>Z305B2QN</td>\n",
              "      <td>ST4000DM000</td>\n",
              "      <td>4000787030016</td>\n",
              "      <td>0</td>\n",
              "      <td>114.0</td>\n",
              "      <td>79306032.0</td>\n",
              "      <td>NaN</td>\n",
              "      <td>NaN</td>\n",
              "      <td>91.0</td>\n",
              "      <td>...</td>\n",
              "      <td>NaN</td>\n",
              "      <td>NaN</td>\n",
              "      <td>NaN</td>\n",
              "      <td>NaN</td>\n",
              "      <td>NaN</td>\n",
              "      <td>NaN</td>\n",
              "      <td>NaN</td>\n",
              "      <td>NaN</td>\n",
              "      <td>NaN</td>\n",
              "      <td>NaN</td>\n",
              "    </tr>\n",
              "    <tr>\n",
              "      <th>2</th>\n",
              "      <td>2021-01-01</td>\n",
              "      <td>ZLW0C6NE</td>\n",
              "      <td>ST12000NM001G</td>\n",
              "      <td>12000138625024</td>\n",
              "      <td>0</td>\n",
              "      <td>72.0</td>\n",
              "      <td>17162816.0</td>\n",
              "      <td>NaN</td>\n",
              "      <td>NaN</td>\n",
              "      <td>98.0</td>\n",
              "      <td>...</td>\n",
              "      <td>NaN</td>\n",
              "      <td>NaN</td>\n",
              "      <td>NaN</td>\n",
              "      <td>NaN</td>\n",
              "      <td>NaN</td>\n",
              "      <td>NaN</td>\n",
              "      <td>NaN</td>\n",
              "      <td>NaN</td>\n",
              "      <td>NaN</td>\n",
              "      <td>NaN</td>\n",
              "    </tr>\n",
              "    <tr>\n",
              "      <th>3</th>\n",
              "      <td>2021-01-01</td>\n",
              "      <td>ZJV0XJQ3</td>\n",
              "      <td>ST12000NM0007</td>\n",
              "      <td>12000138625024</td>\n",
              "      <td>0</td>\n",
              "      <td>100.0</td>\n",
              "      <td>1102160.0</td>\n",
              "      <td>NaN</td>\n",
              "      <td>NaN</td>\n",
              "      <td>98.0</td>\n",
              "      <td>...</td>\n",
              "      <td>NaN</td>\n",
              "      <td>NaN</td>\n",
              "      <td>NaN</td>\n",
              "      <td>NaN</td>\n",
              "      <td>NaN</td>\n",
              "      <td>NaN</td>\n",
              "      <td>NaN</td>\n",
              "      <td>NaN</td>\n",
              "      <td>NaN</td>\n",
              "      <td>NaN</td>\n",
              "    </tr>\n",
              "    <tr>\n",
              "      <th>4</th>\n",
              "      <td>2021-01-01</td>\n",
              "      <td>ZLW18MKT</td>\n",
              "      <td>ST14000NM001G</td>\n",
              "      <td>14000519643136</td>\n",
              "      <td>0</td>\n",
              "      <td>75.0</td>\n",
              "      <td>33233248.0</td>\n",
              "      <td>NaN</td>\n",
              "      <td>NaN</td>\n",
              "      <td>95.0</td>\n",
              "      <td>...</td>\n",
              "      <td>NaN</td>\n",
              "      <td>NaN</td>\n",
              "      <td>NaN</td>\n",
              "      <td>NaN</td>\n",
              "      <td>NaN</td>\n",
              "      <td>NaN</td>\n",
              "      <td>NaN</td>\n",
              "      <td>NaN</td>\n",
              "      <td>NaN</td>\n",
              "      <td>NaN</td>\n",
              "    </tr>\n",
              "  </tbody>\n",
              "</table>\n",
              "<p>5 rows × 149 columns</p>\n",
              "</div>\n",
              "      <button class=\"colab-df-convert\" onclick=\"convertToInteractive('df-801aa8fd-1562-45e8-9810-2db4dd9a056c')\"\n",
              "              title=\"Convert this dataframe to an interactive table.\"\n",
              "              style=\"display:none;\">\n",
              "        \n",
              "  <svg xmlns=\"http://www.w3.org/2000/svg\" height=\"24px\"viewBox=\"0 0 24 24\"\n",
              "       width=\"24px\">\n",
              "    <path d=\"M0 0h24v24H0V0z\" fill=\"none\"/>\n",
              "    <path d=\"M18.56 5.44l.94 2.06.94-2.06 2.06-.94-2.06-.94-.94-2.06-.94 2.06-2.06.94zm-11 1L8.5 8.5l.94-2.06 2.06-.94-2.06-.94L8.5 2.5l-.94 2.06-2.06.94zm10 10l.94 2.06.94-2.06 2.06-.94-2.06-.94-.94-2.06-.94 2.06-2.06.94z\"/><path d=\"M17.41 7.96l-1.37-1.37c-.4-.4-.92-.59-1.43-.59-.52 0-1.04.2-1.43.59L10.3 9.45l-7.72 7.72c-.78.78-.78 2.05 0 2.83L4 21.41c.39.39.9.59 1.41.59.51 0 1.02-.2 1.41-.59l7.78-7.78 2.81-2.81c.8-.78.8-2.07 0-2.86zM5.41 20L4 18.59l7.72-7.72 1.47 1.35L5.41 20z\"/>\n",
              "  </svg>\n",
              "      </button>\n",
              "      \n",
              "  <style>\n",
              "    .colab-df-container {\n",
              "      display:flex;\n",
              "      flex-wrap:wrap;\n",
              "      gap: 12px;\n",
              "    }\n",
              "\n",
              "    .colab-df-convert {\n",
              "      background-color: #E8F0FE;\n",
              "      border: none;\n",
              "      border-radius: 50%;\n",
              "      cursor: pointer;\n",
              "      display: none;\n",
              "      fill: #1967D2;\n",
              "      height: 32px;\n",
              "      padding: 0 0 0 0;\n",
              "      width: 32px;\n",
              "    }\n",
              "\n",
              "    .colab-df-convert:hover {\n",
              "      background-color: #E2EBFA;\n",
              "      box-shadow: 0px 1px 2px rgba(60, 64, 67, 0.3), 0px 1px 3px 1px rgba(60, 64, 67, 0.15);\n",
              "      fill: #174EA6;\n",
              "    }\n",
              "\n",
              "    [theme=dark] .colab-df-convert {\n",
              "      background-color: #3B4455;\n",
              "      fill: #D2E3FC;\n",
              "    }\n",
              "\n",
              "    [theme=dark] .colab-df-convert:hover {\n",
              "      background-color: #434B5C;\n",
              "      box-shadow: 0px 1px 3px 1px rgba(0, 0, 0, 0.15);\n",
              "      filter: drop-shadow(0px 1px 2px rgba(0, 0, 0, 0.3));\n",
              "      fill: #FFFFFF;\n",
              "    }\n",
              "  </style>\n",
              "\n",
              "      <script>\n",
              "        const buttonEl =\n",
              "          document.querySelector('#df-801aa8fd-1562-45e8-9810-2db4dd9a056c button.colab-df-convert');\n",
              "        buttonEl.style.display =\n",
              "          google.colab.kernel.accessAllowed ? 'block' : 'none';\n",
              "\n",
              "        async function convertToInteractive(key) {\n",
              "          const element = document.querySelector('#df-801aa8fd-1562-45e8-9810-2db4dd9a056c');\n",
              "          const dataTable =\n",
              "            await google.colab.kernel.invokeFunction('convertToInteractive',\n",
              "                                                     [key], {});\n",
              "          if (!dataTable) return;\n",
              "\n",
              "          const docLinkHtml = 'Like what you see? Visit the ' +\n",
              "            '<a target=\"_blank\" href=https://colab.research.google.com/notebooks/data_table.ipynb>data table notebook</a>'\n",
              "            + ' to learn more about interactive tables.';\n",
              "          element.innerHTML = '';\n",
              "          dataTable['output_type'] = 'display_data';\n",
              "          await google.colab.output.renderOutput(dataTable, element);\n",
              "          const docLink = document.createElement('div');\n",
              "          docLink.innerHTML = docLinkHtml;\n",
              "          element.appendChild(docLink);\n",
              "        }\n",
              "      </script>\n",
              "    </div>\n",
              "  </div>\n",
              "  "
            ]
          },
          "metadata": {},
          "execution_count": 89
        }
      ],
      "source": [
        "Data.head()"
      ]
    },
    {
      "cell_type": "code",
      "execution_count": null,
      "metadata": {
        "colab": {
          "base_uri": "https://localhost:8080/",
          "height": 404
        },
        "id": "gXHSrWH6-91D",
        "outputId": "30542b36-0aff-444f-bafc-b21b1fa7a0bf"
      },
      "outputs": [
        {
          "output_type": "stream",
          "name": "stdout",
          "text": [
            "Warning: Total number of columns (149) exceeds max_columns (20). Falling back to pandas display.\n"
          ]
        },
        {
          "output_type": "execute_result",
          "data": {
            "text/plain": [
              "              date   serial_number                 model  capacity_bytes  \\\n",
              "165528  2021-01-05        ZJV2ESXT         ST12000NM0007  12000138625024   \n",
              "165529  2021-01-05        ZA13ZBCT           ST8000DM002   8001563222016   \n",
              "165530  2021-01-05  PL1331LAHGD9NH  HGST HMS5C4040BLE640   4000787030016   \n",
              "165531  2021-01-05  PL2331LAHDS4TJ  HGST HMS5C4040BLE640   4000787030016   \n",
              "165532  2021-01-05        X0GEV9EC   WDC WUH721414ALE6L4  14000519643136   \n",
              "\n",
              "        failure  smart_1_normalized  smart_1_raw  smart_2_normalized  \\\n",
              "165528        0                80.0   97876120.0                 NaN   \n",
              "165529        0                84.0  227496000.0                 NaN   \n",
              "165530        0               100.0          0.0               134.0   \n",
              "165531        0               100.0          0.0               133.0   \n",
              "165532        0               100.0          0.0               138.0   \n",
              "\n",
              "        smart_2_raw  smart_3_normalized  ...  smart_250_normalized  \\\n",
              "165528          NaN                98.0  ...                   NaN   \n",
              "165529          NaN                86.0  ...                   NaN   \n",
              "165530        100.0               100.0  ...                   NaN   \n",
              "165531        104.0               100.0  ...                   NaN   \n",
              "165532         92.0                85.0  ...                   NaN   \n",
              "\n",
              "        smart_250_raw  smart_251_normalized  smart_251_raw  \\\n",
              "165528            NaN                   NaN            NaN   \n",
              "165529            NaN                   NaN            NaN   \n",
              "165530            NaN                   NaN            NaN   \n",
              "165531            NaN                   NaN            NaN   \n",
              "165532            NaN                   NaN            NaN   \n",
              "\n",
              "        smart_252_normalized  smart_252_raw  smart_254_normalized  \\\n",
              "165528                   NaN            NaN                   NaN   \n",
              "165529                   NaN            NaN                   NaN   \n",
              "165530                   NaN            NaN                   NaN   \n",
              "165531                   NaN            NaN                   NaN   \n",
              "165532                   NaN            NaN                   NaN   \n",
              "\n",
              "        smart_254_raw  smart_255_normalized  smart_255_raw  \n",
              "165528            NaN                   NaN            NaN  \n",
              "165529            NaN                   NaN            NaN  \n",
              "165530            NaN                   NaN            NaN  \n",
              "165531            NaN                   NaN            NaN  \n",
              "165532            NaN                   NaN            NaN  \n",
              "\n",
              "[5 rows x 149 columns]"
            ],
            "text/html": [
              "\n",
              "  <div id=\"df-270176cf-efc5-43de-b6e3-3d26ae12f363\">\n",
              "    <div class=\"colab-df-container\">\n",
              "      <div>\n",
              "<style scoped>\n",
              "    .dataframe tbody tr th:only-of-type {\n",
              "        vertical-align: middle;\n",
              "    }\n",
              "\n",
              "    .dataframe tbody tr th {\n",
              "        vertical-align: top;\n",
              "    }\n",
              "\n",
              "    .dataframe thead th {\n",
              "        text-align: right;\n",
              "    }\n",
              "</style>\n",
              "<table border=\"1\" class=\"dataframe\">\n",
              "  <thead>\n",
              "    <tr style=\"text-align: right;\">\n",
              "      <th></th>\n",
              "      <th>date</th>\n",
              "      <th>serial_number</th>\n",
              "      <th>model</th>\n",
              "      <th>capacity_bytes</th>\n",
              "      <th>failure</th>\n",
              "      <th>smart_1_normalized</th>\n",
              "      <th>smart_1_raw</th>\n",
              "      <th>smart_2_normalized</th>\n",
              "      <th>smart_2_raw</th>\n",
              "      <th>smart_3_normalized</th>\n",
              "      <th>...</th>\n",
              "      <th>smart_250_normalized</th>\n",
              "      <th>smart_250_raw</th>\n",
              "      <th>smart_251_normalized</th>\n",
              "      <th>smart_251_raw</th>\n",
              "      <th>smart_252_normalized</th>\n",
              "      <th>smart_252_raw</th>\n",
              "      <th>smart_254_normalized</th>\n",
              "      <th>smart_254_raw</th>\n",
              "      <th>smart_255_normalized</th>\n",
              "      <th>smart_255_raw</th>\n",
              "    </tr>\n",
              "  </thead>\n",
              "  <tbody>\n",
              "    <tr>\n",
              "      <th>165528</th>\n",
              "      <td>2021-01-05</td>\n",
              "      <td>ZJV2ESXT</td>\n",
              "      <td>ST12000NM0007</td>\n",
              "      <td>12000138625024</td>\n",
              "      <td>0</td>\n",
              "      <td>80.0</td>\n",
              "      <td>97876120.0</td>\n",
              "      <td>NaN</td>\n",
              "      <td>NaN</td>\n",
              "      <td>98.0</td>\n",
              "      <td>...</td>\n",
              "      <td>NaN</td>\n",
              "      <td>NaN</td>\n",
              "      <td>NaN</td>\n",
              "      <td>NaN</td>\n",
              "      <td>NaN</td>\n",
              "      <td>NaN</td>\n",
              "      <td>NaN</td>\n",
              "      <td>NaN</td>\n",
              "      <td>NaN</td>\n",
              "      <td>NaN</td>\n",
              "    </tr>\n",
              "    <tr>\n",
              "      <th>165529</th>\n",
              "      <td>2021-01-05</td>\n",
              "      <td>ZA13ZBCT</td>\n",
              "      <td>ST8000DM002</td>\n",
              "      <td>8001563222016</td>\n",
              "      <td>0</td>\n",
              "      <td>84.0</td>\n",
              "      <td>227496000.0</td>\n",
              "      <td>NaN</td>\n",
              "      <td>NaN</td>\n",
              "      <td>86.0</td>\n",
              "      <td>...</td>\n",
              "      <td>NaN</td>\n",
              "      <td>NaN</td>\n",
              "      <td>NaN</td>\n",
              "      <td>NaN</td>\n",
              "      <td>NaN</td>\n",
              "      <td>NaN</td>\n",
              "      <td>NaN</td>\n",
              "      <td>NaN</td>\n",
              "      <td>NaN</td>\n",
              "      <td>NaN</td>\n",
              "    </tr>\n",
              "    <tr>\n",
              "      <th>165530</th>\n",
              "      <td>2021-01-05</td>\n",
              "      <td>PL1331LAHGD9NH</td>\n",
              "      <td>HGST HMS5C4040BLE640</td>\n",
              "      <td>4000787030016</td>\n",
              "      <td>0</td>\n",
              "      <td>100.0</td>\n",
              "      <td>0.0</td>\n",
              "      <td>134.0</td>\n",
              "      <td>100.0</td>\n",
              "      <td>100.0</td>\n",
              "      <td>...</td>\n",
              "      <td>NaN</td>\n",
              "      <td>NaN</td>\n",
              "      <td>NaN</td>\n",
              "      <td>NaN</td>\n",
              "      <td>NaN</td>\n",
              "      <td>NaN</td>\n",
              "      <td>NaN</td>\n",
              "      <td>NaN</td>\n",
              "      <td>NaN</td>\n",
              "      <td>NaN</td>\n",
              "    </tr>\n",
              "    <tr>\n",
              "      <th>165531</th>\n",
              "      <td>2021-01-05</td>\n",
              "      <td>PL2331LAHDS4TJ</td>\n",
              "      <td>HGST HMS5C4040BLE640</td>\n",
              "      <td>4000787030016</td>\n",
              "      <td>0</td>\n",
              "      <td>100.0</td>\n",
              "      <td>0.0</td>\n",
              "      <td>133.0</td>\n",
              "      <td>104.0</td>\n",
              "      <td>100.0</td>\n",
              "      <td>...</td>\n",
              "      <td>NaN</td>\n",
              "      <td>NaN</td>\n",
              "      <td>NaN</td>\n",
              "      <td>NaN</td>\n",
              "      <td>NaN</td>\n",
              "      <td>NaN</td>\n",
              "      <td>NaN</td>\n",
              "      <td>NaN</td>\n",
              "      <td>NaN</td>\n",
              "      <td>NaN</td>\n",
              "    </tr>\n",
              "    <tr>\n",
              "      <th>165532</th>\n",
              "      <td>2021-01-05</td>\n",
              "      <td>X0GEV9EC</td>\n",
              "      <td>WDC WUH721414ALE6L4</td>\n",
              "      <td>14000519643136</td>\n",
              "      <td>0</td>\n",
              "      <td>100.0</td>\n",
              "      <td>0.0</td>\n",
              "      <td>138.0</td>\n",
              "      <td>92.0</td>\n",
              "      <td>85.0</td>\n",
              "      <td>...</td>\n",
              "      <td>NaN</td>\n",
              "      <td>NaN</td>\n",
              "      <td>NaN</td>\n",
              "      <td>NaN</td>\n",
              "      <td>NaN</td>\n",
              "      <td>NaN</td>\n",
              "      <td>NaN</td>\n",
              "      <td>NaN</td>\n",
              "      <td>NaN</td>\n",
              "      <td>NaN</td>\n",
              "    </tr>\n",
              "  </tbody>\n",
              "</table>\n",
              "<p>5 rows × 149 columns</p>\n",
              "</div>\n",
              "      <button class=\"colab-df-convert\" onclick=\"convertToInteractive('df-270176cf-efc5-43de-b6e3-3d26ae12f363')\"\n",
              "              title=\"Convert this dataframe to an interactive table.\"\n",
              "              style=\"display:none;\">\n",
              "        \n",
              "  <svg xmlns=\"http://www.w3.org/2000/svg\" height=\"24px\"viewBox=\"0 0 24 24\"\n",
              "       width=\"24px\">\n",
              "    <path d=\"M0 0h24v24H0V0z\" fill=\"none\"/>\n",
              "    <path d=\"M18.56 5.44l.94 2.06.94-2.06 2.06-.94-2.06-.94-.94-2.06-.94 2.06-2.06.94zm-11 1L8.5 8.5l.94-2.06 2.06-.94-2.06-.94L8.5 2.5l-.94 2.06-2.06.94zm10 10l.94 2.06.94-2.06 2.06-.94-2.06-.94-.94-2.06-.94 2.06-2.06.94z\"/><path d=\"M17.41 7.96l-1.37-1.37c-.4-.4-.92-.59-1.43-.59-.52 0-1.04.2-1.43.59L10.3 9.45l-7.72 7.72c-.78.78-.78 2.05 0 2.83L4 21.41c.39.39.9.59 1.41.59.51 0 1.02-.2 1.41-.59l7.78-7.78 2.81-2.81c.8-.78.8-2.07 0-2.86zM5.41 20L4 18.59l7.72-7.72 1.47 1.35L5.41 20z\"/>\n",
              "  </svg>\n",
              "      </button>\n",
              "      \n",
              "  <style>\n",
              "    .colab-df-container {\n",
              "      display:flex;\n",
              "      flex-wrap:wrap;\n",
              "      gap: 12px;\n",
              "    }\n",
              "\n",
              "    .colab-df-convert {\n",
              "      background-color: #E8F0FE;\n",
              "      border: none;\n",
              "      border-radius: 50%;\n",
              "      cursor: pointer;\n",
              "      display: none;\n",
              "      fill: #1967D2;\n",
              "      height: 32px;\n",
              "      padding: 0 0 0 0;\n",
              "      width: 32px;\n",
              "    }\n",
              "\n",
              "    .colab-df-convert:hover {\n",
              "      background-color: #E2EBFA;\n",
              "      box-shadow: 0px 1px 2px rgba(60, 64, 67, 0.3), 0px 1px 3px 1px rgba(60, 64, 67, 0.15);\n",
              "      fill: #174EA6;\n",
              "    }\n",
              "\n",
              "    [theme=dark] .colab-df-convert {\n",
              "      background-color: #3B4455;\n",
              "      fill: #D2E3FC;\n",
              "    }\n",
              "\n",
              "    [theme=dark] .colab-df-convert:hover {\n",
              "      background-color: #434B5C;\n",
              "      box-shadow: 0px 1px 3px 1px rgba(0, 0, 0, 0.15);\n",
              "      filter: drop-shadow(0px 1px 2px rgba(0, 0, 0, 0.3));\n",
              "      fill: #FFFFFF;\n",
              "    }\n",
              "  </style>\n",
              "\n",
              "      <script>\n",
              "        const buttonEl =\n",
              "          document.querySelector('#df-270176cf-efc5-43de-b6e3-3d26ae12f363 button.colab-df-convert');\n",
              "        buttonEl.style.display =\n",
              "          google.colab.kernel.accessAllowed ? 'block' : 'none';\n",
              "\n",
              "        async function convertToInteractive(key) {\n",
              "          const element = document.querySelector('#df-270176cf-efc5-43de-b6e3-3d26ae12f363');\n",
              "          const dataTable =\n",
              "            await google.colab.kernel.invokeFunction('convertToInteractive',\n",
              "                                                     [key], {});\n",
              "          if (!dataTable) return;\n",
              "\n",
              "          const docLinkHtml = 'Like what you see? Visit the ' +\n",
              "            '<a target=\"_blank\" href=https://colab.research.google.com/notebooks/data_table.ipynb>data table notebook</a>'\n",
              "            + ' to learn more about interactive tables.';\n",
              "          element.innerHTML = '';\n",
              "          dataTable['output_type'] = 'display_data';\n",
              "          await google.colab.output.renderOutput(dataTable, element);\n",
              "          const docLink = document.createElement('div');\n",
              "          docLink.innerHTML = docLinkHtml;\n",
              "          element.appendChild(docLink);\n",
              "        }\n",
              "      </script>\n",
              "    </div>\n",
              "  </div>\n",
              "  "
            ]
          },
          "metadata": {},
          "execution_count": 90
        }
      ],
      "source": [
        "Data.tail()"
      ]
    },
    {
      "cell_type": "code",
      "execution_count": null,
      "metadata": {
        "colab": {
          "base_uri": "https://localhost:8080/"
        },
        "id": "OFLQ4fIy_Er9",
        "outputId": "f07fada8-3653-4d0d-bdef-c10e7a80c32c"
      },
      "outputs": [
        {
          "output_type": "execute_result",
          "data": {
            "text/plain": [
              "Index(['index', 'date', 'serial_number', 'model', 'capacity_bytes', 'failure',\n",
              "       'smart_1_normalized', 'smart_1_raw', 'smart_2_normalized',\n",
              "       'smart_2_raw',\n",
              "       ...\n",
              "       'smart_250_normalized', 'smart_250_raw', 'smart_251_normalized',\n",
              "       'smart_251_raw', 'smart_252_normalized', 'smart_252_raw',\n",
              "       'smart_254_normalized', 'smart_254_raw', 'smart_255_normalized',\n",
              "       'smart_255_raw'],\n",
              "      dtype='object', length=150)"
            ]
          },
          "metadata": {},
          "execution_count": 91
        }
      ],
      "source": [
        "Data.reset_index(inplace = True)\n",
        "Data['date'] = pd.to_datetime(Data['date'])\n",
        "Data.columns"
      ]
    },
    {
      "cell_type": "markdown",
      "metadata": {
        "id": "jbDTDRywuYl7"
      },
      "source": [
        "From the above Dataset it is found that it many features contains NaN values."
      ]
    },
    {
      "cell_type": "markdown",
      "metadata": {
        "id": "mMvcgQLEpinl"
      },
      "source": [
        "# 2. To Find the common features of all the models of HDD.\n",
        "\n",
        "\n",
        "\n",
        "\n",
        "\n"
      ]
    },
    {
      "cell_type": "markdown",
      "metadata": {
        "id": "Z4b7XudXLS7j"
      },
      "source": [
        "> Since each vendors provide different SMART attributes, I am finding and keeping the common attributes that each model have defined values.\n",
        "\n",
        "\n",
        "> Attributes with many NaN are removed."
      ]
    },
    {
      "cell_type": "code",
      "execution_count": null,
      "metadata": {
        "colab": {
          "base_uri": "https://localhost:8080/"
        },
        "id": "7V_Mmy6UXI7n",
        "outputId": "4e055a64-de86-4451-f258-c4a6e6d95ae2"
      },
      "outputs": [
        {
          "output_type": "execute_result",
          "data": {
            "text/plain": [
              "Index(['date', 'serial_number', 'model', 'capacity_bytes', 'failure',\n",
              "       'smart_1_normalized', 'smart_1_raw', 'smart_2_normalized',\n",
              "       'smart_2_raw', 'smart_3_normalized',\n",
              "       ...\n",
              "       'smart_250_normalized', 'smart_250_raw', 'smart_251_normalized',\n",
              "       'smart_251_raw', 'smart_252_normalized', 'smart_252_raw',\n",
              "       'smart_254_normalized', 'smart_254_raw', 'smart_255_normalized',\n",
              "       'smart_255_raw'],\n",
              "      dtype='object', length=149)"
            ]
          },
          "metadata": {},
          "execution_count": 92
        }
      ],
      "source": [
        "# Creating the copy of original data with removing the columns containing all instances as NaN.\n",
        "Data.drop('index', axis = 1, inplace = True)\n",
        "Test = Data.dropna(how = 'all', axis = 1)\n",
        "Initial = Data.columns\n",
        "Initial"
      ]
    },
    {
      "cell_type": "code",
      "execution_count": null,
      "metadata": {
        "colab": {
          "base_uri": "https://localhost:8080/"
        },
        "id": "-wnh46ZXA1Dx",
        "outputId": "5af7110a-cffe-46e6-89a2-ee9857adabe2"
      },
      "outputs": [
        {
          "output_type": "execute_result",
          "data": {
            "text/plain": [
              "(827509, 139)"
            ]
          },
          "metadata": {},
          "execution_count": 93
        }
      ],
      "source": [
        "Test.shape # Shape of the data after removing the NaN Features."
      ]
    },
    {
      "cell_type": "code",
      "execution_count": null,
      "metadata": {
        "colab": {
          "base_uri": "https://localhost:8080/"
        },
        "id": "8WDwz9QzA884",
        "outputId": "b73f6c5f-93af-4bef-e6c4-b99cd151f5f4"
      },
      "outputs": [
        {
          "output_type": "execute_result",
          "data": {
            "text/plain": [
              "8"
            ]
          },
          "metadata": {},
          "execution_count": 94
        }
      ],
      "source": [
        "# Critical Features for HDD failure as mentioned in Wikipedia and BlackBlaze.\n",
        "# These features are removed to find other common features of all the models.\n",
        "Features = ['5', '10', '184', '187', '188', '196', '197', '198']\n",
        "len(Features)"
      ]
    },
    {
      "cell_type": "code",
      "execution_count": null,
      "metadata": {
        "id": "GXeV334bA846"
      },
      "outputs": [],
      "source": [
        "for i in Features:\n",
        "  features = ['smart_' + i + '_normalized', 'smart_' + i + '_raw']\n",
        "  Test.drop(features, axis = 1, inplace = True)"
      ]
    },
    {
      "cell_type": "code",
      "execution_count": null,
      "metadata": {
        "colab": {
          "base_uri": "https://localhost:8080/"
        },
        "id": "j_AAlxPLA832",
        "outputId": "7f8508bc-8fa9-4137-df40-aac36d0c4663"
      },
      "outputs": [
        {
          "output_type": "execute_result",
          "data": {
            "text/plain": [
              "(827509, 123)"
            ]
          },
          "metadata": {},
          "execution_count": 96
        }
      ],
      "source": [
        "# Shape of the data after removing the critical features.\n",
        "Test.shape "
      ]
    },
    {
      "cell_type": "code",
      "execution_count": null,
      "metadata": {
        "colab": {
          "base_uri": "https://localhost:8080/",
          "height": 1000
        },
        "id": "oQfgRDw3tZWI",
        "outputId": "1a5ea9b9-73ff-4f1d-c0bf-29f5b74e5f48"
      },
      "outputs": [
        {
          "output_type": "display_data",
          "data": {
            "text/plain": [
              "<Figure size 1440x1440 with 1 Axes>"
            ],
            "image/png": "[encoded data removed]"
          },
          "metadata": {
            "needs_background": "light"
          }
        }
      ],
      "source": [
        "# Checking the count and percentage of unique models from the data.\n",
        "total = len(Data)\n",
        "plt.figure(figsize = (20,20))\n",
        "ax = sns.countplot(x = \"model\", data = Test, order = Test.model.value_counts().index)\n",
        "for p in ax.patches:\n",
        "        ax.annotate('{:.4f}% ({})'.format(100*p.get_height()/total, p.get_height()), (p.get_x()+0.1, p.get_height()+5), rotation = 'vertical')\n",
        "\n",
        "#put 11 ticks (therefore 10 steps), from 0 to the total number of rows in the dataframe\n",
        "ax.yaxis.set_ticks(np.linspace(0, total, 11))\n",
        "\n",
        "#adjust the ticklabel to the desired format, without changing the position of the ticks. \n",
        "ax.set_yticklabels(map('{:.1f}%'.format, 100*ax.yaxis.get_majorticklocs()/total))\n",
        "plt.xticks(rotation=90)\n",
        "plt.title('Counts of every HDD model')\n",
        "plt.grid(True)\n",
        "plt.show()"
      ]
    },
    {
      "cell_type": "code",
      "execution_count": null,
      "metadata": {
        "colab": {
          "base_uri": "https://localhost:8080/",
          "height": 390
        },
        "id": "yH5s7PO6jdBa",
        "outputId": "f80c03aa-2efe-4cdd-ccc6-04a902502c9c"
      },
      "outputs": [
        {
          "output_type": "display_data",
          "data": {
            "text/plain": [
              "<Figure size 432x288 with 1 Axes>"
            ],
            "image/png": "[encoded data removed]"
          },
          "metadata": {
            "needs_background": "light"
          }
        }
      ],
      "source": [
        "#This plot tells the number of HDD failed in each days\n",
        "ax = Test.groupby(['date', 'failure'])['failure'].count().unstack(1)[1].plot.bar()\n",
        "for p in ax.patches:\n",
        "        ax.annotate('({})'.format(p.get_height()), (p.get_x()+0.1, p.get_height()+0.1))\n",
        "plt.legend()\n",
        "plt.title(\"Number of HDD failed in each Day's\")\n",
        "plt.show()"
      ]
    },
    {
      "cell_type": "code",
      "execution_count": null,
      "metadata": {
        "colab": {
          "base_uri": "https://localhost:8080/"
        },
        "id": "z2T1WSOPA8yU",
        "outputId": "a3f3a8df-7f2f-4d16-80af-e058921b0107"
      },
      "outputs": [
        {
          "output_type": "stream",
          "name": "stdout",
          "text": [
            "Number of Unique Models:  59\n",
            "Index(['ST12000NM0007', 'TOSHIBA MG07ACA14TA', 'ST12000NM0008', 'ST4000DM000',\n",
            "       'ST8000NM0055', 'HGST HMS5C4040BLE640', 'HGST HUH721212ALN604',\n",
            "       'ST8000DM002', 'ST12000NM001G', 'ST14000NM001G', 'WDC WUH721414ALE6L4',\n",
            "       'HGST HMS5C4040ALE640', 'HGST HUH721212ALE600', 'HGST HUH721212ALE604',\n",
            "       'ST10000NM0086', 'HGST HUH728080ALE600', 'TOSHIBA MG08ACA16TEY',\n",
            "       'ST6000DX000', 'Seagate BarraCuda SSD ZA250CM10002', 'ST500LM012 HN',\n",
            "       'Seagate BarraCuda 120 SSD ZA250CM10003', 'TOSHIBA MQ01ABF050M',\n",
            "       'ST14000NM0138', 'TOSHIBA MQ01ABF050', 'ST500LM030', 'WDC WD5000LPVX',\n",
            "       'TOSHIBA MG07ACA14TEY', 'DELLBOSS VD', 'Seagate SSD',\n",
            "       'TOSHIBA MD04ABA400V', 'WDC  WUH721414ALE6L4', 'ST18000NM000J',\n",
            "       'ST16000NM001G', 'WDC WD5000LPCX', 'TOSHIBA MG08ACA16TA', 'ST4000DM005',\n",
            "       'MTFDDAV240TCB', 'ST500LM021', 'HGST HUS726040ALE610', 'ST16000NM005G',\n",
            "       'ST8000DM005', 'HGST HDS5C4040ALE630', 'HGST HUH721010ALE600',\n",
            "       'Seagate BarraCuda SSD ZA500CM10002', 'TOSHIBA HDWF180',\n",
            "       'ST12000NM0117', 'WDC WD5000BPKT', 'ST14000NM0018', 'TOSHIBA HDWE160',\n",
            "       'Seagate BarraCuda SSD ZA2000CM10002', 'SSDSCKKB480G8R', 'ST6000DM001',\n",
            "       'WDC WD60EFRX', 'Hitachi HDS5C4040ALE630', 'MTFDDAV240TDU',\n",
            "       'HGST HMS5C4040BLE641', 'ST1000LM024 HN', 'ST6000DM004', 'ST8000DM004'],\n",
            "      dtype='object')\n"
          ]
        }
      ],
      "source": [
        "models = Test.model.value_counts().index\n",
        "print(\"Number of Unique Models: \", len(models))\n",
        "print(models)"
      ]
    },
    {
      "cell_type": "code",
      "execution_count": null,
      "metadata": {
        "colab": {
          "base_uri": "https://localhost:8080/"
        },
        "id": "xbPG_Nw_nbge",
        "outputId": "3906d50e-a8e3-47cb-ffbe-9a38a7f8609b"
      },
      "outputs": [
        {
          "output_type": "stream",
          "name": "stdout",
          "text": [
            "ST12000NM0007 failure_rate is 0.00347 %\n",
            "TOSHIBA MG07ACA14TA failure_rate is 0.00095 %\n",
            "ST12000NM0008 failure_rate is 0.00622 %\n",
            "ST4000DM000 failure_rate is 0.00423 %\n",
            "ST8000NM0055 failure_rate is 0 %\n",
            "HGST HMS5C4040BLE640 failure_rate is 0.00157 %\n",
            "HGST HUH721212ALN604 failure_rate is 0 %\n",
            "ST8000DM002 failure_rate is 0 %\n",
            "ST12000NM001G failure_rate is 0.00561 %\n",
            "ST14000NM001G failure_rate is 0 %\n",
            "WDC WUH721414ALE6L4 failure_rate is 0 %\n",
            "HGST HMS5C4040ALE640 failure_rate is 0 %\n",
            "HGST HUH721212ALE600 failure_rate is 0 %\n",
            "HGST HUH721212ALE604 failure_rate is 0 %\n",
            "ST10000NM0086 failure_rate is 0.03331 %\n",
            "HGST HUH728080ALE600 failure_rate is 0 %\n",
            "TOSHIBA MG08ACA16TEY failure_rate is 0 %\n",
            "ST6000DX000 failure_rate is 0 %\n",
            "Seagate BarraCuda SSD ZA250CM10002 failure_rate is 0 %\n",
            "ST500LM012 HN failure_rate is 0 %\n",
            "Seagate BarraCuda 120 SSD ZA250CM10003 failure_rate is 0.04924 %\n",
            "TOSHIBA MQ01ABF050M failure_rate is 0 %\n",
            "ST14000NM0138 failure_rate is 0 %\n",
            "TOSHIBA MQ01ABF050 failure_rate is 0.17007 %\n",
            "ST500LM030 failure_rate is 0 %\n",
            "WDC WD5000LPVX failure_rate is 0 %\n",
            "TOSHIBA MG07ACA14TEY failure_rate is 0 %\n",
            "DELLBOSS VD failure_rate is 0 %\n",
            "Seagate SSD failure_rate is 0 %\n",
            "TOSHIBA MD04ABA400V failure_rate is 0 %\n",
            "WDC  WUH721414ALE6L4 failure_rate is 0 %\n",
            "ST18000NM000J failure_rate is 0 %\n",
            "ST16000NM001G failure_rate is 0 %\n",
            "WDC WD5000LPCX failure_rate is 0 %\n",
            "TOSHIBA MG08ACA16TA failure_rate is 0 %\n",
            "ST4000DM005 failure_rate is 0 %\n",
            "MTFDDAV240TCB failure_rate is 0 %\n",
            "ST500LM021 failure_rate is 0 %\n",
            "HGST HUS726040ALE610 failure_rate is 0 %\n",
            "ST16000NM005G failure_rate is 0 %\n",
            "ST8000DM005 failure_rate is 0 %\n",
            "HGST HDS5C4040ALE630 failure_rate is 0 %\n",
            "HGST HUH721010ALE600 failure_rate is 0 %\n",
            "Seagate BarraCuda SSD ZA500CM10002 failure_rate is 0 %\n",
            "TOSHIBA HDWF180 failure_rate is 0 %\n",
            "ST12000NM0117 failure_rate is 0 %\n",
            "WDC WD5000BPKT failure_rate is 0 %\n",
            "ST14000NM0018 failure_rate is 0 %\n",
            "TOSHIBA HDWE160 failure_rate is 0 %\n",
            "Seagate BarraCuda SSD ZA2000CM10002 failure_rate is 0 %\n",
            "SSDSCKKB480G8R failure_rate is 0 %\n",
            "ST6000DM001 failure_rate is 0 %\n",
            "WDC WD60EFRX failure_rate is 0 %\n",
            "Hitachi HDS5C4040ALE630 failure_rate is 0 %\n",
            "MTFDDAV240TDU failure_rate is 0 %\n",
            "HGST HMS5C4040BLE641 failure_rate is 0 %\n",
            "ST1000LM024 HN failure_rate is 0 %\n",
            "ST6000DM004 failure_rate is 0 %\n",
            "ST8000DM004 failure_rate is 0 %\n"
          ]
        }
      ],
      "source": [
        "# Finding the failure rate of every model in 7 days.\n",
        "for i in models:\n",
        "  try:\n",
        "    c = Test[Test.model == i].failure.value_counts()[1] / len(Test[Test.model == i]) * 100\n",
        "    print(i, 'failure_rate is {:.5f} %'.format(c))\n",
        "  except KeyError:\n",
        "    print(i, 'failure_rate is 0 %')"
      ]
    },
    {
      "cell_type": "markdown",
      "metadata": {
        "id": "SnqlZkpJr19K"
      },
      "source": [
        "From the above it is found that only five models have failed in these 7 days."
      ]
    },
    {
      "cell_type": "code",
      "execution_count": null,
      "metadata": {
        "colab": {
          "base_uri": "https://localhost:8080/",
          "height": 404
        },
        "id": "__PgAGjT_HLA",
        "outputId": "de70c209-9f71-4202-cc6b-39c554c6c98f"
      },
      "outputs": [
        {
          "output_type": "stream",
          "name": "stdout",
          "text": [
            "Warning: Total number of columns (123) exceeds max_columns (20). Falling back to pandas display.\n"
          ]
        },
        {
          "output_type": "execute_result",
          "data": {
            "text/plain": [
              "        date serial_number          model  capacity_bytes  failure  \\\n",
              "0 2021-01-01      ZLW0EGC6  ST12000NM001G  12000138625024        0   \n",
              "1 2021-01-01      Z305B2QN    ST4000DM000   4000787030016        0   \n",
              "2 2021-01-01      ZLW0C6NE  ST12000NM001G  12000138625024        0   \n",
              "3 2021-01-01      ZJV0XJQ3  ST12000NM0007  12000138625024        0   \n",
              "4 2021-01-01      ZLW18MKT  ST14000NM001G  14000519643136        0   \n",
              "\n",
              "   smart_1_normalized  smart_1_raw  smart_2_normalized  smart_2_raw  \\\n",
              "0                83.0  213166608.0                 NaN          NaN   \n",
              "1               114.0   79306032.0                 NaN          NaN   \n",
              "2                72.0   17162816.0                 NaN          NaN   \n",
              "3               100.0    1102160.0                 NaN          NaN   \n",
              "4                75.0   33233248.0                 NaN          NaN   \n",
              "\n",
              "   smart_3_normalized  ...  smart_242_normalized  smart_242_raw  \\\n",
              "0                99.0  ...                 100.0   7.022831e+10   \n",
              "1                91.0  ...                 100.0   5.457889e+11   \n",
              "2                98.0  ...                 100.0   8.706921e+10   \n",
              "3                98.0  ...                 100.0   1.295292e+11   \n",
              "4                95.0  ...                 100.0   1.872005e+10   \n",
              "\n",
              "   smart_245_normalized  smart_245_raw  smart_247_normalized  smart_247_raw  \\\n",
              "0                   NaN            NaN                   NaN            NaN   \n",
              "1                   NaN            NaN                   NaN            NaN   \n",
              "2                   NaN            NaN                   NaN            NaN   \n",
              "3                   NaN            NaN                   NaN            NaN   \n",
              "4                   NaN            NaN                   NaN            NaN   \n",
              "\n",
              "   smart_248_normalized  smart_248_raw  smart_254_normalized  smart_254_raw  \n",
              "0                   NaN            NaN                   NaN            NaN  \n",
              "1                   NaN            NaN                   NaN            NaN  \n",
              "2                   NaN            NaN                   NaN            NaN  \n",
              "3                   NaN            NaN                   NaN            NaN  \n",
              "4                   NaN            NaN                   NaN            NaN  \n",
              "\n",
              "[5 rows x 123 columns]"
            ],
            "text/html": [
              "\n",
              "  <div id=\"df-d99f1508-dd94-42bf-a05a-20ca907ad3bf\">\n",
              "    <div class=\"colab-df-container\">\n",
              "      <div>\n",
              "<style scoped>\n",
              "    .dataframe tbody tr th:only-of-type {\n",
              "        vertical-align: middle;\n",
              "    }\n",
              "\n",
              "    .dataframe tbody tr th {\n",
              "        vertical-align: top;\n",
              "    }\n",
              "\n",
              "    .dataframe thead th {\n",
              "        text-align: right;\n",
              "    }\n",
              "</style>\n",
              "<table border=\"1\" class=\"dataframe\">\n",
              "  <thead>\n",
              "    <tr style=\"text-align: right;\">\n",
              "      <th></th>\n",
              "      <th>date</th>\n",
              "      <th>serial_number</th>\n",
              "      <th>model</th>\n",
              "      <th>capacity_bytes</th>\n",
              "      <th>failure</th>\n",
              "      <th>smart_1_normalized</th>\n",
              "      <th>smart_1_raw</th>\n",
              "      <th>smart_2_normalized</th>\n",
              "      <th>smart_2_raw</th>\n",
              "      <th>smart_3_normalized</th>\n",
              "      <th>...</th>\n",
              "      <th>smart_242_normalized</th>\n",
              "      <th>smart_242_raw</th>\n",
              "      <th>smart_245_normalized</th>\n",
              "      <th>smart_245_raw</th>\n",
              "      <th>smart_247_normalized</th>\n",
              "      <th>smart_247_raw</th>\n",
              "      <th>smart_248_normalized</th>\n",
              "      <th>smart_248_raw</th>\n",
              "      <th>smart_254_normalized</th>\n",
              "      <th>smart_254_raw</th>\n",
              "    </tr>\n",
              "  </thead>\n",
              "  <tbody>\n",
              "    <tr>\n",
              "      <th>0</th>\n",
              "      <td>2021-01-01</td>\n",
              "      <td>ZLW0EGC6</td>\n",
              "      <td>ST12000NM001G</td>\n",
              "      <td>12000138625024</td>\n",
              "      <td>0</td>\n",
              "      <td>83.0</td>\n",
              "      <td>213166608.0</td>\n",
              "      <td>NaN</td>\n",
              "      <td>NaN</td>\n",
              "      <td>99.0</td>\n",
              "      <td>...</td>\n",
              "      <td>100.0</td>\n",
              "      <td>7.022831e+10</td>\n",
              "      <td>NaN</td>\n",
              "      <td>NaN</td>\n",
              "      <td>NaN</td>\n",
              "      <td>NaN</td>\n",
              "      <td>NaN</td>\n",
              "      <td>NaN</td>\n",
              "      <td>NaN</td>\n",
              "      <td>NaN</td>\n",
              "    </tr>\n",
              "    <tr>\n",
              "      <th>1</th>\n",
              "      <td>2021-01-01</td>\n",
              "      <td>Z305B2QN</td>\n",
              "      <td>ST4000DM000</td>\n",
              "      <td>4000787030016</td>\n",
              "      <td>0</td>\n",
              "      <td>114.0</td>\n",
              "      <td>79306032.0</td>\n",
              "      <td>NaN</td>\n",
              "      <td>NaN</td>\n",
              "      <td>91.0</td>\n",
              "      <td>...</td>\n",
              "      <td>100.0</td>\n",
              "      <td>5.457889e+11</td>\n",
              "      <td>NaN</td>\n",
              "      <td>NaN</td>\n",
              "      <td>NaN</td>\n",
              "      <td>NaN</td>\n",
              "      <td>NaN</td>\n",
              "      <td>NaN</td>\n",
              "      <td>NaN</td>\n",
              "      <td>NaN</td>\n",
              "    </tr>\n",
              "    <tr>\n",
              "      <th>2</th>\n",
              "      <td>2021-01-01</td>\n",
              "      <td>ZLW0C6NE</td>\n",
              "      <td>ST12000NM001G</td>\n",
              "      <td>12000138625024</td>\n",
              "      <td>0</td>\n",
              "      <td>72.0</td>\n",
              "      <td>17162816.0</td>\n",
              "      <td>NaN</td>\n",
              "      <td>NaN</td>\n",
              "      <td>98.0</td>\n",
              "      <td>...</td>\n",
              "      <td>100.0</td>\n",
              "      <td>8.706921e+10</td>\n",
              "      <td>NaN</td>\n",
              "      <td>NaN</td>\n",
              "      <td>NaN</td>\n",
              "      <td>NaN</td>\n",
              "      <td>NaN</td>\n",
              "      <td>NaN</td>\n",
              "      <td>NaN</td>\n",
              "      <td>NaN</td>\n",
              "    </tr>\n",
              "    <tr>\n",
              "      <th>3</th>\n",
              "      <td>2021-01-01</td>\n",
              "      <td>ZJV0XJQ3</td>\n",
              "      <td>ST12000NM0007</td>\n",
              "      <td>12000138625024</td>\n",
              "      <td>0</td>\n",
              "      <td>100.0</td>\n",
              "      <td>1102160.0</td>\n",
              "      <td>NaN</td>\n",
              "      <td>NaN</td>\n",
              "      <td>98.0</td>\n",
              "      <td>...</td>\n",
              "      <td>100.0</td>\n",
              "      <td>1.295292e+11</td>\n",
              "      <td>NaN</td>\n",
              "      <td>NaN</td>\n",
              "      <td>NaN</td>\n",
              "      <td>NaN</td>\n",
              "      <td>NaN</td>\n",
              "      <td>NaN</td>\n",
              "      <td>NaN</td>\n",
              "      <td>NaN</td>\n",
              "    </tr>\n",
              "    <tr>\n",
              "      <th>4</th>\n",
              "      <td>2021-01-01</td>\n",
              "      <td>ZLW18MKT</td>\n",
              "      <td>ST14000NM001G</td>\n",
              "      <td>14000519643136</td>\n",
              "      <td>0</td>\n",
              "      <td>75.0</td>\n",
              "      <td>33233248.0</td>\n",
              "      <td>NaN</td>\n",
              "      <td>NaN</td>\n",
              "      <td>95.0</td>\n",
              "      <td>...</td>\n",
              "      <td>100.0</td>\n",
              "      <td>1.872005e+10</td>\n",
              "      <td>NaN</td>\n",
              "      <td>NaN</td>\n",
              "      <td>NaN</td>\n",
              "      <td>NaN</td>\n",
              "      <td>NaN</td>\n",
              "      <td>NaN</td>\n",
              "      <td>NaN</td>\n",
              "      <td>NaN</td>\n",
              "    </tr>\n",
              "  </tbody>\n",
              "</table>\n",
              "<p>5 rows × 123 columns</p>\n",
              "</div>\n",
              "      <button class=\"colab-df-convert\" onclick=\"convertToInteractive('df-d99f1508-dd94-42bf-a05a-20ca907ad3bf')\"\n",
              "              title=\"Convert this dataframe to an interactive table.\"\n",
              "              style=\"display:none;\">\n",
              "        \n",
              "  <svg xmlns=\"http://www.w3.org/2000/svg\" height=\"24px\"viewBox=\"0 0 24 24\"\n",
              "       width=\"24px\">\n",
              "    <path d=\"M0 0h24v24H0V0z\" fill=\"none\"/>\n",
              "    <path d=\"M18.56 5.44l.94 2.06.94-2.06 2.06-.94-2.06-.94-.94-2.06-.94 2.06-2.06.94zm-11 1L8.5 8.5l.94-2.06 2.06-.94-2.06-.94L8.5 2.5l-.94 2.06-2.06.94zm10 10l.94 2.06.94-2.06 2.06-.94-2.06-.94-.94-2.06-.94 2.06-2.06.94z\"/><path d=\"M17.41 7.96l-1.37-1.37c-.4-.4-.92-.59-1.43-.59-.52 0-1.04.2-1.43.59L10.3 9.45l-7.72 7.72c-.78.78-.78 2.05 0 2.83L4 21.41c.39.39.9.59 1.41.59.51 0 1.02-.2 1.41-.59l7.78-7.78 2.81-2.81c.8-.78.8-2.07 0-2.86zM5.41 20L4 18.59l7.72-7.72 1.47 1.35L5.41 20z\"/>\n",
              "  </svg>\n",
              "      </button>\n",
              "      \n",
              "  <style>\n",
              "    .colab-df-container {\n",
              "      display:flex;\n",
              "      flex-wrap:wrap;\n",
              "      gap: 12px;\n",
              "    }\n",
              "\n",
              "    .colab-df-convert {\n",
              "      background-color: #E8F0FE;\n",
              "      border: none;\n",
              "      border-radius: 50%;\n",
              "      cursor: pointer;\n",
              "      display: none;\n",
              "      fill: #1967D2;\n",
              "      height: 32px;\n",
              "      padding: 0 0 0 0;\n",
              "      width: 32px;\n",
              "    }\n",
              "\n",
              "    .colab-df-convert:hover {\n",
              "      background-color: #E2EBFA;\n",
              "      box-shadow: 0px 1px 2px rgba(60, 64, 67, 0.3), 0px 1px 3px 1px rgba(60, 64, 67, 0.15);\n",
              "      fill: #174EA6;\n",
              "    }\n",
              "\n",
              "    [theme=dark] .colab-df-convert {\n",
              "      background-color: #3B4455;\n",
              "      fill: #D2E3FC;\n",
              "    }\n",
              "\n",
              "    [theme=dark] .colab-df-convert:hover {\n",
              "      background-color: #434B5C;\n",
              "      box-shadow: 0px 1px 3px 1px rgba(0, 0, 0, 0.15);\n",
              "      filter: drop-shadow(0px 1px 2px rgba(0, 0, 0, 0.3));\n",
              "      fill: #FFFFFF;\n",
              "    }\n",
              "  </style>\n",
              "\n",
              "      <script>\n",
              "        const buttonEl =\n",
              "          document.querySelector('#df-d99f1508-dd94-42bf-a05a-20ca907ad3bf button.colab-df-convert');\n",
              "        buttonEl.style.display =\n",
              "          google.colab.kernel.accessAllowed ? 'block' : 'none';\n",
              "\n",
              "        async function convertToInteractive(key) {\n",
              "          const element = document.querySelector('#df-d99f1508-dd94-42bf-a05a-20ca907ad3bf');\n",
              "          const dataTable =\n",
              "            await google.colab.kernel.invokeFunction('convertToInteractive',\n",
              "                                                     [key], {});\n",
              "          if (!dataTable) return;\n",
              "\n",
              "          const docLinkHtml = 'Like what you see? Visit the ' +\n",
              "            '<a target=\"_blank\" href=https://colab.research.google.com/notebooks/data_table.ipynb>data table notebook</a>'\n",
              "            + ' to learn more about interactive tables.';\n",
              "          element.innerHTML = '';\n",
              "          dataTable['output_type'] = 'display_data';\n",
              "          await google.colab.output.renderOutput(dataTable, element);\n",
              "          const docLink = document.createElement('div');\n",
              "          docLink.innerHTML = docLinkHtml;\n",
              "          element.appendChild(docLink);\n",
              "        }\n",
              "      </script>\n",
              "    </div>\n",
              "  </div>\n",
              "  "
            ]
          },
          "metadata": {},
          "execution_count": 101
        }
      ],
      "source": [
        "Test.head()"
      ]
    },
    {
      "cell_type": "code",
      "execution_count": null,
      "metadata": {
        "colab": {
          "base_uri": "https://localhost:8080/"
        },
        "id": "qIrnuvjuZac5",
        "outputId": "d191475e-51f5-4a3e-fcca-fcf3d233cb94"
      },
      "outputs": [
        {
          "output_type": "stream",
          "name": "stdout",
          "text": [
            "date                    0.000000\n",
            "serial_number           0.000000\n",
            "model                   0.000000\n",
            "capacity_bytes          0.000000\n",
            "failure                 0.000000\n",
            "                          ...   \n",
            "smart_247_raw           0.999988\n",
            "smart_248_normalized    0.999988\n",
            "smart_248_raw           0.999988\n",
            "smart_254_normalized    0.998284\n",
            "smart_254_raw           0.998284\n",
            "Length: 123, dtype: float64\n"
          ]
        },
        {
          "output_type": "execute_result",
          "data": {
            "text/plain": [
              "90"
            ]
          },
          "metadata": {},
          "execution_count": 102
        }
      ],
      "source": [
        "# Finding the features which has NaN percentage greater than 50%\n",
        "M_features = Test.columns\n",
        "print(Test.isnull().sum(axis = 0) / len(Test))\n",
        "index = np.where(Test.isnull().sum(axis = 0) / len(Test) >= 0.5)[0]\n",
        "len(index) # Count of the found features."
      ]
    },
    {
      "cell_type": "code",
      "execution_count": null,
      "metadata": {
        "colab": {
          "base_uri": "https://localhost:8080/"
        },
        "id": "MoHqoQayZrVe",
        "outputId": "2589ae94-461a-4a6c-b8ed-9ff92b3ebd61"
      },
      "outputs": [
        {
          "output_type": "execute_result",
          "data": {
            "text/plain": [
              "Index(['smart_2_normalized', 'smart_2_raw', 'smart_8_normalized',\n",
              "       'smart_8_raw', 'smart_11_normalized', 'smart_11_raw',\n",
              "       'smart_13_normalized', 'smart_13_raw', 'smart_16_normalized',\n",
              "       'smart_16_raw', 'smart_17_normalized', 'smart_17_raw',\n",
              "       'smart_18_normalized', 'smart_18_raw', 'smart_22_normalized',\n",
              "       'smart_22_raw', 'smart_23_normalized', 'smart_23_raw',\n",
              "       'smart_24_normalized', 'smart_24_raw', 'smart_168_normalized',\n",
              "       'smart_168_raw', 'smart_170_normalized', 'smart_170_raw',\n",
              "       'smart_173_normalized', 'smart_173_raw', 'smart_174_normalized',\n",
              "       'smart_174_raw', 'smart_175_normalized', 'smart_175_raw',\n",
              "       'smart_177_normalized', 'smart_177_raw', 'smart_179_normalized',\n",
              "       'smart_179_raw', 'smart_180_normalized', 'smart_180_raw',\n",
              "       'smart_181_normalized', 'smart_181_raw', 'smart_182_normalized',\n",
              "       'smart_182_raw', 'smart_183_normalized', 'smart_183_raw',\n",
              "       'smart_189_normalized', 'smart_189_raw', 'smart_191_normalized',\n",
              "       'smart_191_raw', 'smart_195_normalized', 'smart_195_raw',\n",
              "       'smart_200_normalized', 'smart_200_raw', 'smart_201_normalized',\n",
              "       'smart_201_raw', 'smart_202_normalized', 'smart_202_raw',\n",
              "       'smart_206_normalized', 'smart_206_raw', 'smart_210_normalized',\n",
              "       'smart_210_raw', 'smart_218_normalized', 'smart_218_raw',\n",
              "       'smart_220_normalized', 'smart_220_raw', 'smart_222_normalized',\n",
              "       'smart_222_raw', 'smart_223_normalized', 'smart_223_raw',\n",
              "       'smart_224_normalized', 'smart_224_raw', 'smart_225_normalized',\n",
              "       'smart_225_raw', 'smart_226_normalized', 'smart_226_raw',\n",
              "       'smart_231_normalized', 'smart_231_raw', 'smart_232_normalized',\n",
              "       'smart_232_raw', 'smart_233_normalized', 'smart_233_raw',\n",
              "       'smart_234_normalized', 'smart_234_raw', 'smart_235_normalized',\n",
              "       'smart_235_raw', 'smart_245_normalized', 'smart_245_raw',\n",
              "       'smart_247_normalized', 'smart_247_raw', 'smart_248_normalized',\n",
              "       'smart_248_raw', 'smart_254_normalized', 'smart_254_raw'],\n",
              "      dtype='object')"
            ]
          },
          "metadata": {},
          "execution_count": 103
        }
      ],
      "source": [
        "M_features[index]"
      ]
    },
    {
      "cell_type": "markdown",
      "metadata": {
        "id": "WXU7S9oQRTRY"
      },
      "source": [
        "##### These are the attributes which have more than 50% of NaN."
      ]
    },
    {
      "cell_type": "markdown",
      "metadata": {
        "id": "3xksfbafvM4j"
      },
      "source": [
        "# 3. Relevant Features for Dataset"
      ]
    },
    {
      "cell_type": "code",
      "execution_count": null,
      "metadata": {
        "id": "kv6Ej__mDw9Y"
      },
      "outputs": [],
      "source": [
        "f = ['date',\t'serial_number',\t'model',\t'capacity_bytes',\t'failure']"
      ]
    },
    {
      "cell_type": "code",
      "execution_count": null,
      "metadata": {
        "colab": {
          "base_uri": "https://localhost:8080/"
        },
        "id": "ceWtz821xuBE",
        "outputId": "b825371c-bddb-46bb-91a9-0a5ce57ba0e1"
      },
      "outputs": [
        {
          "output_type": "execute_result",
          "data": {
            "text/plain": [
              "10"
            ]
          },
          "metadata": {},
          "execution_count": 105
        }
      ],
      "source": [
        "Null = np.where(Data.isnull().sum(axis = 0) == len(Data))[0]\n",
        "len(Initial[Null])"
      ]
    },
    {
      "cell_type": "code",
      "execution_count": null,
      "metadata": {
        "colab": {
          "base_uri": "https://localhost:8080/"
        },
        "id": "gX70BgpLXmSr",
        "outputId": "417f217c-b0a6-4452-d381-d543b1bd853a"
      },
      "outputs": [
        {
          "output_type": "stream",
          "name": "stdout",
          "text": [
            "(827509, 139)\n"
          ]
        }
      ],
      "source": [
        "# Dropping the features with all instances as NaN from the original Dataset.\n",
        "Data.dropna(how = 'all', axis = 1, inplace = True) \n",
        "print(Data.shape)\n",
        "del Test # Removing the Test Dataframe to free the memory."
      ]
    },
    {
      "cell_type": "code",
      "execution_count": null,
      "metadata": {
        "colab": {
          "base_uri": "https://localhost:8080/"
        },
        "id": "yHgE7Y6cZ7yY",
        "outputId": "9c2f63dc-4409-4c9a-82df-94ccdcdd94b4"
      },
      "outputs": [
        {
          "output_type": "execute_result",
          "data": {
            "text/plain": [
              "(827509, 49)"
            ]
          },
          "metadata": {},
          "execution_count": 107
        }
      ],
      "source": [
        "# Dropping the uncommon features found from above task from the original Dataset.\n",
        "Data.drop(M_features[index], axis = 1, inplace = True)\n",
        "Data.shape # Final shape of Data with relevant SMART attributes."
      ]
    },
    {
      "cell_type": "code",
      "execution_count": null,
      "metadata": {
        "colab": {
          "base_uri": "https://localhost:8080/",
          "height": 404
        },
        "id": "MODn4jrYXmku",
        "outputId": "fe03605b-e373-4793-bebe-b05d3cd4851c"
      },
      "outputs": [
        {
          "output_type": "stream",
          "name": "stdout",
          "text": [
            "Warning: Total number of columns (49) exceeds max_columns (20). Falling back to pandas display.\n"
          ]
        },
        {
          "output_type": "execute_result",
          "data": {
            "text/plain": [
              "        date serial_number          model  capacity_bytes  failure  \\\n",
              "0 2021-01-01      ZLW0EGC6  ST12000NM001G  12000138625024        0   \n",
              "1 2021-01-01      Z305B2QN    ST4000DM000   4000787030016        0   \n",
              "2 2021-01-01      ZLW0C6NE  ST12000NM001G  12000138625024        0   \n",
              "3 2021-01-01      ZJV0XJQ3  ST12000NM0007  12000138625024        0   \n",
              "4 2021-01-01      ZLW18MKT  ST14000NM001G  14000519643136        0   \n",
              "\n",
              "   smart_1_normalized  smart_1_raw  smart_3_normalized  smart_3_raw  \\\n",
              "0                83.0  213166608.0                99.0          0.0   \n",
              "1               114.0   79306032.0                91.0          0.0   \n",
              "2                72.0   17162816.0                98.0          0.0   \n",
              "3               100.0    1102160.0                98.0          0.0   \n",
              "4                75.0   33233248.0                95.0          0.0   \n",
              "\n",
              "   smart_4_normalized  ...  smart_198_normalized  smart_198_raw  \\\n",
              "0               100.0  ...                 100.0            0.0   \n",
              "1               100.0  ...                 100.0            0.0   \n",
              "2               100.0  ...                 100.0            0.0   \n",
              "3               100.0  ...                 100.0            0.0   \n",
              "4               100.0  ...                 100.0            0.0   \n",
              "\n",
              "   smart_199_normalized  smart_199_raw  smart_240_normalized  smart_240_raw  \\\n",
              "0                 200.0            0.0                 100.0         4910.0   \n",
              "1                 200.0            0.0                 100.0        44001.0   \n",
              "2                 200.0            0.0                 100.0         5414.0   \n",
              "3                 200.0            0.0                 100.0        17282.0   \n",
              "4                 200.0            0.0                 100.0          745.0   \n",
              "\n",
              "   smart_241_normalized  smart_241_raw  smart_242_normalized  smart_242_raw  \n",
              "0                 100.0   4.839342e+10                 100.0   7.022831e+10  \n",
              "1                 100.0   5.940338e+10                 100.0   5.457889e+11  \n",
              "2                 100.0   4.917863e+10                 100.0   8.706921e+10  \n",
              "3                 100.0   5.260102e+10                 100.0   1.295292e+11  \n",
              "4                 100.0   1.647225e+10                 100.0   1.872005e+10  \n",
              "\n",
              "[5 rows x 49 columns]"
            ],
            "text/html": [
              "\n",
              "  <div id=\"df-a1db18fe-5dc2-40f6-bcb3-fd37f3262e3a\">\n",
              "    <div class=\"colab-df-container\">\n",
              "      <div>\n",
              "<style scoped>\n",
              "    .dataframe tbody tr th:only-of-type {\n",
              "        vertical-align: middle;\n",
              "    }\n",
              "\n",
              "    .dataframe tbody tr th {\n",
              "        vertical-align: top;\n",
              "    }\n",
              "\n",
              "    .dataframe thead th {\n",
              "        text-align: right;\n",
              "    }\n",
              "</style>\n",
              "<table border=\"1\" class=\"dataframe\">\n",
              "  <thead>\n",
              "    <tr style=\"text-align: right;\">\n",
              "      <th></th>\n",
              "      <th>date</th>\n",
              "      <th>serial_number</th>\n",
              "      <th>model</th>\n",
              "      <th>capacity_bytes</th>\n",
              "      <th>failure</th>\n",
              "      <th>smart_1_normalized</th>\n",
              "      <th>smart_1_raw</th>\n",
              "      <th>smart_3_normalized</th>\n",
              "      <th>smart_3_raw</th>\n",
              "      <th>smart_4_normalized</th>\n",
              "      <th>...</th>\n",
              "      <th>smart_198_normalized</th>\n",
              "      <th>smart_198_raw</th>\n",
              "      <th>smart_199_normalized</th>\n",
              "      <th>smart_199_raw</th>\n",
              "      <th>smart_240_normalized</th>\n",
              "      <th>smart_240_raw</th>\n",
              "      <th>smart_241_normalized</th>\n",
              "      <th>smart_241_raw</th>\n",
              "      <th>smart_242_normalized</th>\n",
              "      <th>smart_242_raw</th>\n",
              "    </tr>\n",
              "  </thead>\n",
              "  <tbody>\n",
              "    <tr>\n",
              "      <th>0</th>\n",
              "      <td>2021-01-01</td>\n",
              "      <td>ZLW0EGC6</td>\n",
              "      <td>ST12000NM001G</td>\n",
              "      <td>12000138625024</td>\n",
              "      <td>0</td>\n",
              "      <td>83.0</td>\n",
              "      <td>213166608.0</td>\n",
              "      <td>99.0</td>\n",
              "      <td>0.0</td>\n",
              "      <td>100.0</td>\n",
              "      <td>...</td>\n",
              "      <td>100.0</td>\n",
              "      <td>0.0</td>\n",
              "      <td>200.0</td>\n",
              "      <td>0.0</td>\n",
              "      <td>100.0</td>\n",
              "      <td>4910.0</td>\n",
              "      <td>100.0</td>\n",
              "      <td>4.839342e+10</td>\n",
              "      <td>100.0</td>\n",
              "      <td>7.022831e+10</td>\n",
              "    </tr>\n",
              "    <tr>\n",
              "      <th>1</th>\n",
              "      <td>2021-01-01</td>\n",
              "      <td>Z305B2QN</td>\n",
              "      <td>ST4000DM000</td>\n",
              "      <td>4000787030016</td>\n",
              "      <td>0</td>\n",
              "      <td>114.0</td>\n",
              "      <td>79306032.0</td>\n",
              "      <td>91.0</td>\n",
              "      <td>0.0</td>\n",
              "      <td>100.0</td>\n",
              "      <td>...</td>\n",
              "      <td>100.0</td>\n",
              "      <td>0.0</td>\n",
              "      <td>200.0</td>\n",
              "      <td>0.0</td>\n",
              "      <td>100.0</td>\n",
              "      <td>44001.0</td>\n",
              "      <td>100.0</td>\n",
              "      <td>5.940338e+10</td>\n",
              "      <td>100.0</td>\n",
              "      <td>5.457889e+11</td>\n",
              "    </tr>\n",
              "    <tr>\n",
              "      <th>2</th>\n",
              "      <td>2021-01-01</td>\n",
              "      <td>ZLW0C6NE</td>\n",
              "      <td>ST12000NM001G</td>\n",
              "      <td>12000138625024</td>\n",
              "      <td>0</td>\n",
              "      <td>72.0</td>\n",
              "      <td>17162816.0</td>\n",
              "      <td>98.0</td>\n",
              "      <td>0.0</td>\n",
              "      <td>100.0</td>\n",
              "      <td>...</td>\n",
              "      <td>100.0</td>\n",
              "      <td>0.0</td>\n",
              "      <td>200.0</td>\n",
              "      <td>0.0</td>\n",
              "      <td>100.0</td>\n",
              "      <td>5414.0</td>\n",
              "      <td>100.0</td>\n",
              "      <td>4.917863e+10</td>\n",
              "      <td>100.0</td>\n",
              "      <td>8.706921e+10</td>\n",
              "    </tr>\n",
              "    <tr>\n",
              "      <th>3</th>\n",
              "      <td>2021-01-01</td>\n",
              "      <td>ZJV0XJQ3</td>\n",
              "      <td>ST12000NM0007</td>\n",
              "      <td>12000138625024</td>\n",
              "      <td>0</td>\n",
              "      <td>100.0</td>\n",
              "      <td>1102160.0</td>\n",
              "      <td>98.0</td>\n",
              "      <td>0.0</td>\n",
              "      <td>100.0</td>\n",
              "      <td>...</td>\n",
              "      <td>100.0</td>\n",
              "      <td>0.0</td>\n",
              "      <td>200.0</td>\n",
              "      <td>0.0</td>\n",
              "      <td>100.0</td>\n",
              "      <td>17282.0</td>\n",
              "      <td>100.0</td>\n",
              "      <td>5.260102e+10</td>\n",
              "      <td>100.0</td>\n",
              "      <td>1.295292e+11</td>\n",
              "    </tr>\n",
              "    <tr>\n",
              "      <th>4</th>\n",
              "      <td>2021-01-01</td>\n",
              "      <td>ZLW18MKT</td>\n",
              "      <td>ST14000NM001G</td>\n",
              "      <td>14000519643136</td>\n",
              "      <td>0</td>\n",
              "      <td>75.0</td>\n",
              "      <td>33233248.0</td>\n",
              "      <td>95.0</td>\n",
              "      <td>0.0</td>\n",
              "      <td>100.0</td>\n",
              "      <td>...</td>\n",
              "      <td>100.0</td>\n",
              "      <td>0.0</td>\n",
              "      <td>200.0</td>\n",
              "      <td>0.0</td>\n",
              "      <td>100.0</td>\n",
              "      <td>745.0</td>\n",
              "      <td>100.0</td>\n",
              "      <td>1.647225e+10</td>\n",
              "      <td>100.0</td>\n",
              "      <td>1.872005e+10</td>\n",
              "    </tr>\n",
              "  </tbody>\n",
              "</table>\n",
              "<p>5 rows × 49 columns</p>\n",
              "</div>\n",
              "      <button class=\"colab-df-convert\" onclick=\"convertToInteractive('df-a1db18fe-5dc2-40f6-bcb3-fd37f3262e3a')\"\n",
              "              title=\"Convert this dataframe to an interactive table.\"\n",
              "              style=\"display:none;\">\n",
              "        \n",
              "  <svg xmlns=\"http://www.w3.org/2000/svg\" height=\"24px\"viewBox=\"0 0 24 24\"\n",
              "       width=\"24px\">\n",
              "    <path d=\"M0 0h24v24H0V0z\" fill=\"none\"/>\n",
              "    <path d=\"M18.56 5.44l.94 2.06.94-2.06 2.06-.94-2.06-.94-.94-2.06-.94 2.06-2.06.94zm-11 1L8.5 8.5l.94-2.06 2.06-.94-2.06-.94L8.5 2.5l-.94 2.06-2.06.94zm10 10l.94 2.06.94-2.06 2.06-.94-2.06-.94-.94-2.06-.94 2.06-2.06.94z\"/><path d=\"M17.41 7.96l-1.37-1.37c-.4-.4-.92-.59-1.43-.59-.52 0-1.04.2-1.43.59L10.3 9.45l-7.72 7.72c-.78.78-.78 2.05 0 2.83L4 21.41c.39.39.9.59 1.41.59.51 0 1.02-.2 1.41-.59l7.78-7.78 2.81-2.81c.8-.78.8-2.07 0-2.86zM5.41 20L4 18.59l7.72-7.72 1.47 1.35L5.41 20z\"/>\n",
              "  </svg>\n",
              "      </button>\n",
              "      \n",
              "  <style>\n",
              "    .colab-df-container {\n",
              "      display:flex;\n",
              "      flex-wrap:wrap;\n",
              "      gap: 12px;\n",
              "    }\n",
              "\n",
              "    .colab-df-convert {\n",
              "      background-color: #E8F0FE;\n",
              "      border: none;\n",
              "      border-radius: 50%;\n",
              "      cursor: pointer;\n",
              "      display: none;\n",
              "      fill: #1967D2;\n",
              "      height: 32px;\n",
              "      padding: 0 0 0 0;\n",
              "      width: 32px;\n",
              "    }\n",
              "\n",
              "    .colab-df-convert:hover {\n",
              "      background-color: #E2EBFA;\n",
              "      box-shadow: 0px 1px 2px rgba(60, 64, 67, 0.3), 0px 1px 3px 1px rgba(60, 64, 67, 0.15);\n",
              "      fill: #174EA6;\n",
              "    }\n",
              "\n",
              "    [theme=dark] .colab-df-convert {\n",
              "      background-color: #3B4455;\n",
              "      fill: #D2E3FC;\n",
              "    }\n",
              "\n",
              "    [theme=dark] .colab-df-convert:hover {\n",
              "      background-color: #434B5C;\n",
              "      box-shadow: 0px 1px 3px 1px rgba(0, 0, 0, 0.15);\n",
              "      filter: drop-shadow(0px 1px 2px rgba(0, 0, 0, 0.3));\n",
              "      fill: #FFFFFF;\n",
              "    }\n",
              "  </style>\n",
              "\n",
              "      <script>\n",
              "        const buttonEl =\n",
              "          document.querySelector('#df-a1db18fe-5dc2-40f6-bcb3-fd37f3262e3a button.colab-df-convert');\n",
              "        buttonEl.style.display =\n",
              "          google.colab.kernel.accessAllowed ? 'block' : 'none';\n",
              "\n",
              "        async function convertToInteractive(key) {\n",
              "          const element = document.querySelector('#df-a1db18fe-5dc2-40f6-bcb3-fd37f3262e3a');\n",
              "          const dataTable =\n",
              "            await google.colab.kernel.invokeFunction('convertToInteractive',\n",
              "                                                     [key], {});\n",
              "          if (!dataTable) return;\n",
              "\n",
              "          const docLinkHtml = 'Like what you see? Visit the ' +\n",
              "            '<a target=\"_blank\" href=https://colab.research.google.com/notebooks/data_table.ipynb>data table notebook</a>'\n",
              "            + ' to learn more about interactive tables.';\n",
              "          element.innerHTML = '';\n",
              "          dataTable['output_type'] = 'display_data';\n",
              "          await google.colab.output.renderOutput(dataTable, element);\n",
              "          const docLink = document.createElement('div');\n",
              "          docLink.innerHTML = docLinkHtml;\n",
              "          element.appendChild(docLink);\n",
              "        }\n",
              "      </script>\n",
              "    </div>\n",
              "  </div>\n",
              "  "
            ]
          },
          "metadata": {},
          "execution_count": 108
        }
      ],
      "source": [
        "Data.head()"
      ]
    },
    {
      "cell_type": "code",
      "execution_count": null,
      "metadata": {
        "colab": {
          "base_uri": "https://localhost:8080/",
          "height": 411
        },
        "id": "cipKObSpgLZW",
        "outputId": "e27e74f7-8512-42fc-ad2a-56dc7e209057"
      },
      "outputs": [
        {
          "output_type": "stream",
          "name": "stdout",
          "text": [
            "Warning: Total number of columns (46) exceeds max_columns (20). Falling back to pandas display.\n"
          ]
        },
        {
          "output_type": "execute_result",
          "data": {
            "text/plain": [
              "       capacity_bytes        failure  smart_1_normalized   smart_1_raw  \\\n",
              "count    8.275090e+05  827509.000000       826837.000000  8.268370e+05   \n",
              "mean     9.877604e+12       0.000029           92.109367  7.489772e+07   \n",
              "std      3.878876e+12       0.005385           13.814933  8.108625e+07   \n",
              "min     -1.000000e+00       0.000000           48.000000  0.000000e+00   \n",
              "25%      8.001563e+12       0.000000           81.000000  0.000000e+00   \n",
              "50%      1.200014e+13       0.000000          100.000000  4.528490e+07   \n",
              "75%      1.200014e+13       0.000000          100.000000  1.441926e+08   \n",
              "max      1.800021e+13       1.000000          200.000000  4.515787e+08   \n",
              "\n",
              "       smart_3_normalized    smart_3_raw  smart_4_normalized    smart_4_raw  \\\n",
              "count       821146.000000  821146.000000       821146.000000  821146.000000   \n",
              "mean            98.571473    1108.194427           99.998563       9.613792   \n",
              "std             15.400574    2610.030659            0.105493     113.979821   \n",
              "min             75.000000       0.000000           75.000000       1.000000   \n",
              "25%             91.000000       0.000000          100.000000       2.000000   \n",
              "50%             97.000000       0.000000          100.000000       5.000000   \n",
              "75%            100.000000     380.000000          100.000000      10.000000   \n",
              "max            253.000000   11111.000000          100.000000   25141.000000   \n",
              "\n",
              "       smart_5_normalized    smart_5_raw  ...  smart_198_normalized  \\\n",
              "count       821366.000000  821366.000000  ...         821366.000000   \n",
              "mean           100.555372      39.525386  ...            100.420319   \n",
              "std              8.978446    1035.302951  ...              7.992256   \n",
              "min              1.000000       0.000000  ...              1.000000   \n",
              "25%            100.000000       0.000000  ...            100.000000   \n",
              "50%            100.000000       0.000000  ...            100.000000   \n",
              "75%            100.000000       0.000000  ...            100.000000   \n",
              "max            252.000000   65480.000000  ...            252.000000   \n",
              "\n",
              "       smart_198_raw  smart_199_normalized  smart_199_raw  \\\n",
              "count  821366.000000         821366.000000  821366.000000   \n",
              "mean        0.411193            196.317354       0.523777   \n",
              "std       101.417785             18.833564      37.496426   \n",
              "min         0.000000            100.000000       0.000000   \n",
              "25%         0.000000            200.000000       0.000000   \n",
              "50%         0.000000            200.000000       0.000000   \n",
              "75%         0.000000            200.000000       0.000000   \n",
              "max     41040.000000            200.000000    7670.000000   \n",
              "\n",
              "       smart_240_normalized  smart_240_raw  smart_241_normalized  \\\n",
              "count         617451.000000  617451.000000         531854.000000   \n",
              "mean              99.958756   19539.948509            100.009401   \n",
              "std                1.596372   16815.497165              0.969547   \n",
              "min                8.000000       0.000000            100.000000   \n",
              "25%              100.000000    2641.000000            100.000000   \n",
              "50%              100.000000   17421.000000            100.000000   \n",
              "75%              100.000000   33203.000000            100.000000   \n",
              "max              100.000000   67845.000000            200.000000   \n",
              "\n",
              "       smart_241_raw  smart_242_normalized  smart_242_raw  \n",
              "count   5.318540e+05         531844.000000   5.318440e+05  \n",
              "mean    5.612417e+10            100.009401   1.923745e+11  \n",
              "std     1.795249e+10              0.969556   1.765763e+11  \n",
              "min     0.000000e+00            100.000000   1.000000e+00  \n",
              "25%     4.848800e+10            100.000000   1.001612e+11  \n",
              "50%     5.912925e+10            100.000000   2.255465e+11  \n",
              "75%     6.771780e+10            100.000000   2.620806e+11  \n",
              "max     2.202436e+11            200.000000   2.818246e+13  \n",
              "\n",
              "[8 rows x 46 columns]"
            ],
            "text/html": [
              "\n",
              "  <div id=\"df-99f2eb21-7937-4b32-a00a-0299a263e7d8\">\n",
              "    <div class=\"colab-df-container\">\n",
              "      <div>\n",
              "<style scoped>\n",
              "    .dataframe tbody tr th:only-of-type {\n",
              "        vertical-align: middle;\n",
              "    }\n",
              "\n",
              "    .dataframe tbody tr th {\n",
              "        vertical-align: top;\n",
              "    }\n",
              "\n",
              "    .dataframe thead th {\n",
              "        text-align: right;\n",
              "    }\n",
              "</style>\n",
              "<table border=\"1\" class=\"dataframe\">\n",
              "  <thead>\n",
              "    <tr style=\"text-align: right;\">\n",
              "      <th></th>\n",
              "      <th>capacity_bytes</th>\n",
              "      <th>failure</th>\n",
              "      <th>smart_1_normalized</th>\n",
              "      <th>smart_1_raw</th>\n",
              "      <th>smart_3_normalized</th>\n",
              "      <th>smart_3_raw</th>\n",
              "      <th>smart_4_normalized</th>\n",
              "      <th>smart_4_raw</th>\n",
              "      <th>smart_5_normalized</th>\n",
              "      <th>smart_5_raw</th>\n",
              "      <th>...</th>\n",
              "      <th>smart_198_normalized</th>\n",
              "      <th>smart_198_raw</th>\n",
              "      <th>smart_199_normalized</th>\n",
              "      <th>smart_199_raw</th>\n",
              "      <th>smart_240_normalized</th>\n",
              "      <th>smart_240_raw</th>\n",
              "      <th>smart_241_normalized</th>\n",
              "      <th>smart_241_raw</th>\n",
              "      <th>smart_242_normalized</th>\n",
              "      <th>smart_242_raw</th>\n",
              "    </tr>\n",
              "  </thead>\n",
              "  <tbody>\n",
              "    <tr>\n",
              "      <th>count</th>\n",
              "      <td>8.275090e+05</td>\n",
              "      <td>827509.000000</td>\n",
              "      <td>826837.000000</td>\n",
              "      <td>8.268370e+05</td>\n",
              "      <td>821146.000000</td>\n",
              "      <td>821146.000000</td>\n",
              "      <td>821146.000000</td>\n",
              "      <td>821146.000000</td>\n",
              "      <td>821366.000000</td>\n",
              "      <td>821366.000000</td>\n",
              "      <td>...</td>\n",
              "      <td>821366.000000</td>\n",
              "      <td>821366.000000</td>\n",
              "      <td>821366.000000</td>\n",
              "      <td>821366.000000</td>\n",
              "      <td>617451.000000</td>\n",
              "      <td>617451.000000</td>\n",
              "      <td>531854.000000</td>\n",
              "      <td>5.318540e+05</td>\n",
              "      <td>531844.000000</td>\n",
              "      <td>5.318440e+05</td>\n",
              "    </tr>\n",
              "    <tr>\n",
              "      <th>mean</th>\n",
              "      <td>9.877604e+12</td>\n",
              "      <td>0.000029</td>\n",
              "      <td>92.109367</td>\n",
              "      <td>7.489772e+07</td>\n",
              "      <td>98.571473</td>\n",
              "      <td>1108.194427</td>\n",
              "      <td>99.998563</td>\n",
              "      <td>9.613792</td>\n",
              "      <td>100.555372</td>\n",
              "      <td>39.525386</td>\n",
              "      <td>...</td>\n",
              "      <td>100.420319</td>\n",
              "      <td>0.411193</td>\n",
              "      <td>196.317354</td>\n",
              "      <td>0.523777</td>\n",
              "      <td>99.958756</td>\n",
              "      <td>19539.948509</td>\n",
              "      <td>100.009401</td>\n",
              "      <td>5.612417e+10</td>\n",
              "      <td>100.009401</td>\n",
              "      <td>1.923745e+11</td>\n",
              "    </tr>\n",
              "    <tr>\n",
              "      <th>std</th>\n",
              "      <td>3.878876e+12</td>\n",
              "      <td>0.005385</td>\n",
              "      <td>13.814933</td>\n",
              "      <td>8.108625e+07</td>\n",
              "      <td>15.400574</td>\n",
              "      <td>2610.030659</td>\n",
              "      <td>0.105493</td>\n",
              "      <td>113.979821</td>\n",
              "      <td>8.978446</td>\n",
              "      <td>1035.302951</td>\n",
              "      <td>...</td>\n",
              "      <td>7.992256</td>\n",
              "      <td>101.417785</td>\n",
              "      <td>18.833564</td>\n",
              "      <td>37.496426</td>\n",
              "      <td>1.596372</td>\n",
              "      <td>16815.497165</td>\n",
              "      <td>0.969547</td>\n",
              "      <td>1.795249e+10</td>\n",
              "      <td>0.969556</td>\n",
              "      <td>1.765763e+11</td>\n",
              "    </tr>\n",
              "    <tr>\n",
              "      <th>min</th>\n",
              "      <td>-1.000000e+00</td>\n",
              "      <td>0.000000</td>\n",
              "      <td>48.000000</td>\n",
              "      <td>0.000000e+00</td>\n",
              "      <td>75.000000</td>\n",
              "      <td>0.000000</td>\n",
              "      <td>75.000000</td>\n",
              "      <td>1.000000</td>\n",
              "      <td>1.000000</td>\n",
              "      <td>0.000000</td>\n",
              "      <td>...</td>\n",
              "      <td>1.000000</td>\n",
              "      <td>0.000000</td>\n",
              "      <td>100.000000</td>\n",
              "      <td>0.000000</td>\n",
              "      <td>8.000000</td>\n",
              "      <td>0.000000</td>\n",
              "      <td>100.000000</td>\n",
              "      <td>0.000000e+00</td>\n",
              "      <td>100.000000</td>\n",
              "      <td>1.000000e+00</td>\n",
              "    </tr>\n",
              "    <tr>\n",
              "      <th>25%</th>\n",
              "      <td>8.001563e+12</td>\n",
              "      <td>0.000000</td>\n",
              "      <td>81.000000</td>\n",
              "      <td>0.000000e+00</td>\n",
              "      <td>91.000000</td>\n",
              "      <td>0.000000</td>\n",
              "      <td>100.000000</td>\n",
              "      <td>2.000000</td>\n",
              "      <td>100.000000</td>\n",
              "      <td>0.000000</td>\n",
              "      <td>...</td>\n",
              "      <td>100.000000</td>\n",
              "      <td>0.000000</td>\n",
              "      <td>200.000000</td>\n",
              "      <td>0.000000</td>\n",
              "      <td>100.000000</td>\n",
              "      <td>2641.000000</td>\n",
              "      <td>100.000000</td>\n",
              "      <td>4.848800e+10</td>\n",
              "      <td>100.000000</td>\n",
              "      <td>1.001612e+11</td>\n",
              "    </tr>\n",
              "    <tr>\n",
              "      <th>50%</th>\n",
              "      <td>1.200014e+13</td>\n",
              "      <td>0.000000</td>\n",
              "      <td>100.000000</td>\n",
              "      <td>4.528490e+07</td>\n",
              "      <td>97.000000</td>\n",
              "      <td>0.000000</td>\n",
              "      <td>100.000000</td>\n",
              "      <td>5.000000</td>\n",
              "      <td>100.000000</td>\n",
              "      <td>0.000000</td>\n",
              "      <td>...</td>\n",
              "      <td>100.000000</td>\n",
              "      <td>0.000000</td>\n",
              "      <td>200.000000</td>\n",
              "      <td>0.000000</td>\n",
              "      <td>100.000000</td>\n",
              "      <td>17421.000000</td>\n",
              "      <td>100.000000</td>\n",
              "      <td>5.912925e+10</td>\n",
              "      <td>100.000000</td>\n",
              "      <td>2.255465e+11</td>\n",
              "    </tr>\n",
              "    <tr>\n",
              "      <th>75%</th>\n",
              "      <td>1.200014e+13</td>\n",
              "      <td>0.000000</td>\n",
              "      <td>100.000000</td>\n",
              "      <td>1.441926e+08</td>\n",
              "      <td>100.000000</td>\n",
              "      <td>380.000000</td>\n",
              "      <td>100.000000</td>\n",
              "      <td>10.000000</td>\n",
              "      <td>100.000000</td>\n",
              "      <td>0.000000</td>\n",
              "      <td>...</td>\n",
              "      <td>100.000000</td>\n",
              "      <td>0.000000</td>\n",
              "      <td>200.000000</td>\n",
              "      <td>0.000000</td>\n",
              "      <td>100.000000</td>\n",
              "      <td>33203.000000</td>\n",
              "      <td>100.000000</td>\n",
              "      <td>6.771780e+10</td>\n",
              "      <td>100.000000</td>\n",
              "      <td>2.620806e+11</td>\n",
              "    </tr>\n",
              "    <tr>\n",
              "      <th>max</th>\n",
              "      <td>1.800021e+13</td>\n",
              "      <td>1.000000</td>\n",
              "      <td>200.000000</td>\n",
              "      <td>4.515787e+08</td>\n",
              "      <td>253.000000</td>\n",
              "      <td>11111.000000</td>\n",
              "      <td>100.000000</td>\n",
              "      <td>25141.000000</td>\n",
              "      <td>252.000000</td>\n",
              "      <td>65480.000000</td>\n",
              "      <td>...</td>\n",
              "      <td>252.000000</td>\n",
              "      <td>41040.000000</td>\n",
              "      <td>200.000000</td>\n",
              "      <td>7670.000000</td>\n",
              "      <td>100.000000</td>\n",
              "      <td>67845.000000</td>\n",
              "      <td>200.000000</td>\n",
              "      <td>2.202436e+11</td>\n",
              "      <td>200.000000</td>\n",
              "      <td>2.818246e+13</td>\n",
              "    </tr>\n",
              "  </tbody>\n",
              "</table>\n",
              "<p>8 rows × 46 columns</p>\n",
              "</div>\n",
              "      <button class=\"colab-df-convert\" onclick=\"convertToInteractive('df-99f2eb21-7937-4b32-a00a-0299a263e7d8')\"\n",
              "              title=\"Convert this dataframe to an interactive table.\"\n",
              "              style=\"display:none;\">\n",
              "        \n",
              "  <svg xmlns=\"http://www.w3.org/2000/svg\" height=\"24px\"viewBox=\"0 0 24 24\"\n",
              "       width=\"24px\">\n",
              "    <path d=\"M0 0h24v24H0V0z\" fill=\"none\"/>\n",
              "    <path d=\"M18.56 5.44l.94 2.06.94-2.06 2.06-.94-2.06-.94-.94-2.06-.94 2.06-2.06.94zm-11 1L8.5 8.5l.94-2.06 2.06-.94-2.06-.94L8.5 2.5l-.94 2.06-2.06.94zm10 10l.94 2.06.94-2.06 2.06-.94-2.06-.94-.94-2.06-.94 2.06-2.06.94z\"/><path d=\"M17.41 7.96l-1.37-1.37c-.4-.4-.92-.59-1.43-.59-.52 0-1.04.2-1.43.59L10.3 9.45l-7.72 7.72c-.78.78-.78 2.05 0 2.83L4 21.41c.39.39.9.59 1.41.59.51 0 1.02-.2 1.41-.59l7.78-7.78 2.81-2.81c.8-.78.8-2.07 0-2.86zM5.41 20L4 18.59l7.72-7.72 1.47 1.35L5.41 20z\"/>\n",
              "  </svg>\n",
              "      </button>\n",
              "      \n",
              "  <style>\n",
              "    .colab-df-container {\n",
              "      display:flex;\n",
              "      flex-wrap:wrap;\n",
              "      gap: 12px;\n",
              "    }\n",
              "\n",
              "    .colab-df-convert {\n",
              "      background-color: #E8F0FE;\n",
              "      border: none;\n",
              "      border-radius: 50%;\n",
              "      cursor: pointer;\n",
              "      display: none;\n",
              "      fill: #1967D2;\n",
              "      height: 32px;\n",
              "      padding: 0 0 0 0;\n",
              "      width: 32px;\n",
              "    }\n",
              "\n",
              "    .colab-df-convert:hover {\n",
              "      background-color: #E2EBFA;\n",
              "      box-shadow: 0px 1px 2px rgba(60, 64, 67, 0.3), 0px 1px 3px 1px rgba(60, 64, 67, 0.15);\n",
              "      fill: #174EA6;\n",
              "    }\n",
              "\n",
              "    [theme=dark] .colab-df-convert {\n",
              "      background-color: #3B4455;\n",
              "      fill: #D2E3FC;\n",
              "    }\n",
              "\n",
              "    [theme=dark] .colab-df-convert:hover {\n",
              "      background-color: #434B5C;\n",
              "      box-shadow: 0px 1px 3px 1px rgba(0, 0, 0, 0.15);\n",
              "      filter: drop-shadow(0px 1px 2px rgba(0, 0, 0, 0.3));\n",
              "      fill: #FFFFFF;\n",
              "    }\n",
              "  </style>\n",
              "\n",
              "      <script>\n",
              "        const buttonEl =\n",
              "          document.querySelector('#df-99f2eb21-7937-4b32-a00a-0299a263e7d8 button.colab-df-convert');\n",
              "        buttonEl.style.display =\n",
              "          google.colab.kernel.accessAllowed ? 'block' : 'none';\n",
              "\n",
              "        async function convertToInteractive(key) {\n",
              "          const element = document.querySelector('#df-99f2eb21-7937-4b32-a00a-0299a263e7d8');\n",
              "          const dataTable =\n",
              "            await google.colab.kernel.invokeFunction('convertToInteractive',\n",
              "                                                     [key], {});\n",
              "          if (!dataTable) return;\n",
              "\n",
              "          const docLinkHtml = 'Like what you see? Visit the ' +\n",
              "            '<a target=\"_blank\" href=https://colab.research.google.com/notebooks/data_table.ipynb>data table notebook</a>'\n",
              "            + ' to learn more about interactive tables.';\n",
              "          element.innerHTML = '';\n",
              "          dataTable['output_type'] = 'display_data';\n",
              "          await google.colab.output.renderOutput(dataTable, element);\n",
              "          const docLink = document.createElement('div');\n",
              "          docLink.innerHTML = docLinkHtml;\n",
              "          element.appendChild(docLink);\n",
              "        }\n",
              "      </script>\n",
              "    </div>\n",
              "  </div>\n",
              "  "
            ]
          },
          "metadata": {},
          "execution_count": 109
        }
      ],
      "source": [
        "Data.describe()"
      ]
    },
    {
      "cell_type": "code",
      "execution_count": null,
      "metadata": {
        "colab": {
          "base_uri": "https://localhost:8080/"
        },
        "id": "AbWfLdnnmZ6D",
        "outputId": "586238c0-7f6a-4ce5-f67c-f9233584b47e"
      },
      "outputs": [
        {
          "output_type": "execute_result",
          "data": {
            "text/plain": [
              "Index(['date', 'serial_number', 'model', 'capacity_bytes', 'failure',\n",
              "       'smart_1_normalized', 'smart_1_raw', 'smart_3_normalized',\n",
              "       'smart_3_raw', 'smart_4_normalized', 'smart_4_raw',\n",
              "       'smart_5_normalized', 'smart_5_raw', 'smart_7_normalized',\n",
              "       'smart_7_raw', 'smart_9_normalized', 'smart_9_raw',\n",
              "       'smart_10_normalized', 'smart_10_raw', 'smart_12_normalized',\n",
              "       'smart_12_raw', 'smart_184_normalized', 'smart_184_raw',\n",
              "       'smart_187_normalized', 'smart_187_raw', 'smart_188_normalized',\n",
              "       'smart_188_raw', 'smart_190_normalized', 'smart_190_raw',\n",
              "       'smart_192_normalized', 'smart_192_raw', 'smart_193_normalized',\n",
              "       'smart_193_raw', 'smart_194_normalized', 'smart_194_raw',\n",
              "       'smart_196_normalized', 'smart_196_raw', 'smart_197_normalized',\n",
              "       'smart_197_raw', 'smart_198_normalized', 'smart_198_raw',\n",
              "       'smart_199_normalized', 'smart_199_raw', 'smart_240_normalized',\n",
              "       'smart_240_raw', 'smart_241_normalized', 'smart_241_raw',\n",
              "       'smart_242_normalized', 'smart_242_raw'],\n",
              "      dtype='object')"
            ]
          },
          "metadata": {},
          "execution_count": 110
        }
      ],
      "source": [
        "RE = Data.columns \n",
        "RE"
      ]
    },
    {
      "cell_type": "code",
      "execution_count": null,
      "metadata": {
        "colab": {
          "base_uri": "https://localhost:8080/"
        },
        "id": "CzgZTu7bM8bd",
        "outputId": "429f923b-d895-4b36-808b-bc57122171e1"
      },
      "outputs": [
        {
          "output_type": "execute_result",
          "data": {
            "text/plain": [
              " 12000.0    326984\n",
              " 4000.0     174751\n",
              " 14000.0    167734\n",
              " 8001.0     126496\n",
              " 500.0        8713\n",
              " 10000.0      6076\n",
              " 16000.0      5693\n",
              " 250.0        5361\n",
              " 6001.0       4490\n",
              " 480.0         600\n",
              " 18000.0       300\n",
              " 240.0         200\n",
              "-1.0            86\n",
              " 2000.0         20\n",
              " 1000.0          5\n",
              "Name: capacity_bytes, dtype: int64"
            ]
          },
          "metadata": {},
          "execution_count": 111
        }
      ],
      "source": [
        "# Since the capacity is in \"bytes\" notation, it is difficult to interpret so it is converted into \"GB\" notation.\n",
        "Data['capacity_bytes'] = (Data['capacity_bytes'] // 1e+9)\n",
        "Data['capacity_bytes'].value_counts() # Finding the counts of each category of HDD based on GB size."
      ]
    },
    {
      "cell_type": "markdown",
      "metadata": {
        "id": "FitTbo9QxMYg"
      },
      "source": [
        "From the above capacity_bytes unique counts, it is found that there is unmatched size value (-1) which is seems to be odd, so datapoints with that capacity is removed."
      ]
    },
    {
      "cell_type": "code",
      "execution_count": null,
      "metadata": {
        "colab": {
          "base_uri": "https://localhost:8080/"
        },
        "id": "cSZt6F47T0z0",
        "outputId": "0b5e06b6-e41e-4717-db50-357f242b96cd"
      },
      "outputs": [
        {
          "output_type": "stream",
          "name": "stdout",
          "text": [
            "(827509, 49)\n",
            "(827423, 49)\n"
          ]
        }
      ],
      "source": [
        "# Removal of odd capacity datapoints.\n",
        "print(Data.shape)\n",
        "Data.drop(np.where(Data['capacity_bytes'] == -1)[0], inplace = True)\n",
        "print(Data.shape)"
      ]
    },
    {
      "cell_type": "code",
      "execution_count": null,
      "metadata": {
        "colab": {
          "base_uri": "https://localhost:8080/"
        },
        "id": "RVXPlqR3ck8L",
        "outputId": "c7a3e2ec-fc57-48f8-ece7-f4ae8add9543"
      },
      "outputs": [
        {
          "output_type": "execute_result",
          "data": {
            "text/plain": [
              "date                    0\n",
              "serial_number           0\n",
              "model                   0\n",
              "capacity_bytes          0\n",
              "failure                 0\n",
              "smart_1_normalized      0\n",
              "smart_1_raw             0\n",
              "smart_3_normalized      0\n",
              "smart_3_raw             0\n",
              "smart_4_normalized      0\n",
              "smart_4_raw             0\n",
              "smart_5_normalized      0\n",
              "smart_5_raw             0\n",
              "smart_7_normalized      0\n",
              "smart_7_raw             0\n",
              "smart_9_normalized      0\n",
              "smart_9_raw             0\n",
              "smart_10_normalized     0\n",
              "smart_10_raw            0\n",
              "smart_12_normalized     0\n",
              "smart_12_raw            0\n",
              "smart_184_normalized    0\n",
              "smart_184_raw           0\n",
              "smart_187_normalized    0\n",
              "smart_187_raw           0\n",
              "smart_188_normalized    0\n",
              "smart_188_raw           0\n",
              "smart_190_normalized    0\n",
              "smart_190_raw           0\n",
              "smart_192_normalized    0\n",
              "smart_192_raw           0\n",
              "smart_193_normalized    0\n",
              "smart_193_raw           0\n",
              "smart_194_normalized    0\n",
              "smart_194_raw           0\n",
              "smart_196_normalized    0\n",
              "smart_196_raw           0\n",
              "smart_197_normalized    0\n",
              "smart_197_raw           0\n",
              "smart_198_normalized    0\n",
              "smart_198_raw           0\n",
              "smart_199_normalized    0\n",
              "smart_199_raw           0\n",
              "smart_240_normalized    0\n",
              "smart_240_raw           0\n",
              "smart_241_normalized    0\n",
              "smart_241_raw           0\n",
              "smart_242_normalized    0\n",
              "smart_242_raw           0\n",
              "dtype: int64"
            ]
          },
          "metadata": {},
          "execution_count": 113
        }
      ],
      "source": [
        "# Filling the NaN values with zero since imputing with anyother values,\n",
        "# may not be suitable as per the BalckBlaze documentation on SMART attributes.\n",
        "\n",
        "Data = Data.fillna(0)\n",
        "Data.isnull().sum(axis = 0)"
      ]
    },
    {
      "cell_type": "markdown",
      "metadata": {
        "id": "RwjKo-wdj02P"
      },
      "source": [
        "# 4. Feature Engineering\n",
        "\n",
        "\n",
        "\n",
        "\n",
        "\n"
      ]
    },
    {
      "cell_type": "markdown",
      "metadata": {
        "id": "QGLFRXD3LASV"
      },
      "source": [
        "> Feature engineering based on correlation of attributes with target variable(Failure).\n",
        "\n",
        "> Mathematical based feature engineering."
      ]
    },
    {
      "cell_type": "code",
      "execution_count": null,
      "metadata": {
        "colab": {
          "base_uri": "https://localhost:8080/"
        },
        "id": "T7ykLcgvoriF",
        "outputId": "c91f53bd-01a2-406a-fbe5-d788c434dca8"
      },
      "outputs": [
        {
          "output_type": "execute_result",
          "data": {
            "text/plain": [
              "(827423, 49)"
            ]
          },
          "metadata": {},
          "execution_count": 114
        }
      ],
      "source": [
        "Test = Data.copy()\n",
        "Test.shape "
      ]
    },
    {
      "cell_type": "code",
      "execution_count": null,
      "metadata": {
        "colab": {
          "base_uri": "https://localhost:8080/",
          "height": 411
        },
        "id": "eSvRSBLVvNWw",
        "outputId": "231f7eb4-3615-4a40-85ce-4a91247ac2a9"
      },
      "outputs": [
        {
          "output_type": "stream",
          "name": "stdout",
          "text": [
            "Warning: Total number of columns (46) exceeds max_columns (20). Falling back to pandas display.\n"
          ]
        },
        {
          "output_type": "execute_result",
          "data": {
            "text/plain": [
              "       capacity_bytes        failure  smart_1_normalized   smart_1_raw  \\\n",
              "count   827423.000000  827423.000000       827423.000000  8.274230e+05   \n",
              "mean      9878.203453       0.000029           92.044133  7.484468e+07   \n",
              "std       3877.916088       0.005386           14.025749  8.108202e+07   \n",
              "min        240.000000       0.000000            0.000000  0.000000e+00   \n",
              "25%       8001.000000       0.000000           81.000000  0.000000e+00   \n",
              "50%      12000.000000       0.000000          100.000000  4.514909e+07   \n",
              "75%      12000.000000       0.000000          100.000000  1.441262e+08   \n",
              "max      18000.000000       1.000000          200.000000  4.515787e+08   \n",
              "\n",
              "       smart_3_normalized    smart_3_raw  smart_4_normalized    smart_4_raw  \\\n",
              "count       827423.000000  827423.000000       827423.000000  827423.000000   \n",
              "mean            97.823690    1099.787438           99.239953       9.540860   \n",
              "std             17.565005    2601.889063            8.677299     113.549724   \n",
              "min              0.000000       0.000000            0.000000       0.000000   \n",
              "25%             91.000000       0.000000          100.000000       2.000000   \n",
              "50%             97.000000       0.000000          100.000000       5.000000   \n",
              "75%            100.000000     380.000000          100.000000      10.000000   \n",
              "max            253.000000   11111.000000          100.000000   25141.000000   \n",
              "\n",
              "       smart_5_normalized    smart_5_raw  ...  smart_198_normalized  \\\n",
              "count       827423.000000  827423.000000  ...         827423.000000   \n",
              "mean            99.819275      39.236047  ...             99.685211   \n",
              "std             12.389478    1031.512115  ...             11.691369   \n",
              "min              0.000000       0.000000  ...              0.000000   \n",
              "25%            100.000000       0.000000  ...            100.000000   \n",
              "50%            100.000000       0.000000  ...            100.000000   \n",
              "75%            100.000000       0.000000  ...            100.000000   \n",
              "max            252.000000   65480.000000  ...            252.000000   \n",
              "\n",
              "       smart_198_raw  smart_199_normalized  smart_199_raw  \\\n",
              "count  827423.000000         827423.000000  827423.000000   \n",
              "mean        0.408183            194.880249       0.519943   \n",
              "std       101.045904             25.142999      37.358957   \n",
              "min         0.000000              0.000000       0.000000   \n",
              "25%         0.000000            200.000000       0.000000   \n",
              "50%         0.000000            200.000000       0.000000   \n",
              "75%         0.000000            200.000000       0.000000   \n",
              "max     41040.000000            200.000000    7670.000000   \n",
              "\n",
              "       smart_240_normalized  smart_240_raw  smart_241_normalized  \\\n",
              "count         827423.000000  827423.000000         827423.000000   \n",
              "mean              74.592601   14581.369804             64.284411   \n",
              "std               43.520472   16831.774762             47.928770   \n",
              "min                0.000000       0.000000              0.000000   \n",
              "25%                0.000000       0.000000              0.000000   \n",
              "50%              100.000000    5816.000000            100.000000   \n",
              "75%              100.000000   29337.000000            100.000000   \n",
              "max              100.000000   67845.000000            200.000000   \n",
              "\n",
              "       smart_241_raw  smart_242_normalized  smart_242_raw  \n",
              "count   8.274230e+05         827423.000000   8.274230e+05  \n",
              "mean    3.607570e+10             64.283202   1.236529e+11  \n",
              "std     3.050290e+10             47.929130   1.689341e+11  \n",
              "min     0.000000e+00              0.000000   0.000000e+00  \n",
              "25%     0.000000e+00              0.000000   0.000000e+00  \n",
              "50%     4.683655e+10            100.000000   9.188942e+10  \n",
              "75%     6.341446e+10            100.000000   2.468640e+11  \n",
              "max     2.202436e+11            200.000000   2.818246e+13  \n",
              "\n",
              "[8 rows x 46 columns]"
            ],
            "text/html": [
              "\n",
              "  <div id=\"df-830dbeed-2667-42c3-86e0-7ba31dbd2f51\">\n",
              "    <div class=\"colab-df-container\">\n",
              "      <div>\n",
              "<style scoped>\n",
              "    .dataframe tbody tr th:only-of-type {\n",
              "        vertical-align: middle;\n",
              "    }\n",
              "\n",
              "    .dataframe tbody tr th {\n",
              "        vertical-align: top;\n",
              "    }\n",
              "\n",
              "    .dataframe thead th {\n",
              "        text-align: right;\n",
              "    }\n",
              "</style>\n",
              "<table border=\"1\" class=\"dataframe\">\n",
              "  <thead>\n",
              "    <tr style=\"text-align: right;\">\n",
              "      <th></th>\n",
              "      <th>capacity_bytes</th>\n",
              "      <th>failure</th>\n",
              "      <th>smart_1_normalized</th>\n",
              "      <th>smart_1_raw</th>\n",
              "      <th>smart_3_normalized</th>\n",
              "      <th>smart_3_raw</th>\n",
              "      <th>smart_4_normalized</th>\n",
              "      <th>smart_4_raw</th>\n",
              "      <th>smart_5_normalized</th>\n",
              "      <th>smart_5_raw</th>\n",
              "      <th>...</th>\n",
              "      <th>smart_198_normalized</th>\n",
              "      <th>smart_198_raw</th>\n",
              "      <th>smart_199_normalized</th>\n",
              "      <th>smart_199_raw</th>\n",
              "      <th>smart_240_normalized</th>\n",
              "      <th>smart_240_raw</th>\n",
              "      <th>smart_241_normalized</th>\n",
              "      <th>smart_241_raw</th>\n",
              "      <th>smart_242_normalized</th>\n",
              "      <th>smart_242_raw</th>\n",
              "    </tr>\n",
              "  </thead>\n",
              "  <tbody>\n",
              "    <tr>\n",
              "      <th>count</th>\n",
              "      <td>827423.000000</td>\n",
              "      <td>827423.000000</td>\n",
              "      <td>827423.000000</td>\n",
              "      <td>8.274230e+05</td>\n",
              "      <td>827423.000000</td>\n",
              "      <td>827423.000000</td>\n",
              "      <td>827423.000000</td>\n",
              "      <td>827423.000000</td>\n",
              "      <td>827423.000000</td>\n",
              "      <td>827423.000000</td>\n",
              "      <td>...</td>\n",
              "      <td>827423.000000</td>\n",
              "      <td>827423.000000</td>\n",
              "      <td>827423.000000</td>\n",
              "      <td>827423.000000</td>\n",
              "      <td>827423.000000</td>\n",
              "      <td>827423.000000</td>\n",
              "      <td>827423.000000</td>\n",
              "      <td>8.274230e+05</td>\n",
              "      <td>827423.000000</td>\n",
              "      <td>8.274230e+05</td>\n",
              "    </tr>\n",
              "    <tr>\n",
              "      <th>mean</th>\n",
              "      <td>9878.203453</td>\n",
              "      <td>0.000029</td>\n",
              "      <td>92.044133</td>\n",
              "      <td>7.484468e+07</td>\n",
              "      <td>97.823690</td>\n",
              "      <td>1099.787438</td>\n",
              "      <td>99.239953</td>\n",
              "      <td>9.540860</td>\n",
              "      <td>99.819275</td>\n",
              "      <td>39.236047</td>\n",
              "      <td>...</td>\n",
              "      <td>99.685211</td>\n",
              "      <td>0.408183</td>\n",
              "      <td>194.880249</td>\n",
              "      <td>0.519943</td>\n",
              "      <td>74.592601</td>\n",
              "      <td>14581.369804</td>\n",
              "      <td>64.284411</td>\n",
              "      <td>3.607570e+10</td>\n",
              "      <td>64.283202</td>\n",
              "      <td>1.236529e+11</td>\n",
              "    </tr>\n",
              "    <tr>\n",
              "      <th>std</th>\n",
              "      <td>3877.916088</td>\n",
              "      <td>0.005386</td>\n",
              "      <td>14.025749</td>\n",
              "      <td>8.108202e+07</td>\n",
              "      <td>17.565005</td>\n",
              "      <td>2601.889063</td>\n",
              "      <td>8.677299</td>\n",
              "      <td>113.549724</td>\n",
              "      <td>12.389478</td>\n",
              "      <td>1031.512115</td>\n",
              "      <td>...</td>\n",
              "      <td>11.691369</td>\n",
              "      <td>101.045904</td>\n",
              "      <td>25.142999</td>\n",
              "      <td>37.358957</td>\n",
              "      <td>43.520472</td>\n",
              "      <td>16831.774762</td>\n",
              "      <td>47.928770</td>\n",
              "      <td>3.050290e+10</td>\n",
              "      <td>47.929130</td>\n",
              "      <td>1.689341e+11</td>\n",
              "    </tr>\n",
              "    <tr>\n",
              "      <th>min</th>\n",
              "      <td>240.000000</td>\n",
              "      <td>0.000000</td>\n",
              "      <td>0.000000</td>\n",
              "      <td>0.000000e+00</td>\n",
              "      <td>0.000000</td>\n",
              "      <td>0.000000</td>\n",
              "      <td>0.000000</td>\n",
              "      <td>0.000000</td>\n",
              "      <td>0.000000</td>\n",
              "      <td>0.000000</td>\n",
              "      <td>...</td>\n",
              "      <td>0.000000</td>\n",
              "      <td>0.000000</td>\n",
              "      <td>0.000000</td>\n",
              "      <td>0.000000</td>\n",
              "      <td>0.000000</td>\n",
              "      <td>0.000000</td>\n",
              "      <td>0.000000</td>\n",
              "      <td>0.000000e+00</td>\n",
              "      <td>0.000000</td>\n",
              "      <td>0.000000e+00</td>\n",
              "    </tr>\n",
              "    <tr>\n",
              "      <th>25%</th>\n",
              "      <td>8001.000000</td>\n",
              "      <td>0.000000</td>\n",
              "      <td>81.000000</td>\n",
              "      <td>0.000000e+00</td>\n",
              "      <td>91.000000</td>\n",
              "      <td>0.000000</td>\n",
              "      <td>100.000000</td>\n",
              "      <td>2.000000</td>\n",
              "      <td>100.000000</td>\n",
              "      <td>0.000000</td>\n",
              "      <td>...</td>\n",
              "      <td>100.000000</td>\n",
              "      <td>0.000000</td>\n",
              "      <td>200.000000</td>\n",
              "      <td>0.000000</td>\n",
              "      <td>0.000000</td>\n",
              "      <td>0.000000</td>\n",
              "      <td>0.000000</td>\n",
              "      <td>0.000000e+00</td>\n",
              "      <td>0.000000</td>\n",
              "      <td>0.000000e+00</td>\n",
              "    </tr>\n",
              "    <tr>\n",
              "      <th>50%</th>\n",
              "      <td>12000.000000</td>\n",
              "      <td>0.000000</td>\n",
              "      <td>100.000000</td>\n",
              "      <td>4.514909e+07</td>\n",
              "      <td>97.000000</td>\n",
              "      <td>0.000000</td>\n",
              "      <td>100.000000</td>\n",
              "      <td>5.000000</td>\n",
              "      <td>100.000000</td>\n",
              "      <td>0.000000</td>\n",
              "      <td>...</td>\n",
              "      <td>100.000000</td>\n",
              "      <td>0.000000</td>\n",
              "      <td>200.000000</td>\n",
              "      <td>0.000000</td>\n",
              "      <td>100.000000</td>\n",
              "      <td>5816.000000</td>\n",
              "      <td>100.000000</td>\n",
              "      <td>4.683655e+10</td>\n",
              "      <td>100.000000</td>\n",
              "      <td>9.188942e+10</td>\n",
              "    </tr>\n",
              "    <tr>\n",
              "      <th>75%</th>\n",
              "      <td>12000.000000</td>\n",
              "      <td>0.000000</td>\n",
              "      <td>100.000000</td>\n",
              "      <td>1.441262e+08</td>\n",
              "      <td>100.000000</td>\n",
              "      <td>380.000000</td>\n",
              "      <td>100.000000</td>\n",
              "      <td>10.000000</td>\n",
              "      <td>100.000000</td>\n",
              "      <td>0.000000</td>\n",
              "      <td>...</td>\n",
              "      <td>100.000000</td>\n",
              "      <td>0.000000</td>\n",
              "      <td>200.000000</td>\n",
              "      <td>0.000000</td>\n",
              "      <td>100.000000</td>\n",
              "      <td>29337.000000</td>\n",
              "      <td>100.000000</td>\n",
              "      <td>6.341446e+10</td>\n",
              "      <td>100.000000</td>\n",
              "      <td>2.468640e+11</td>\n",
              "    </tr>\n",
              "    <tr>\n",
              "      <th>max</th>\n",
              "      <td>18000.000000</td>\n",
              "      <td>1.000000</td>\n",
              "      <td>200.000000</td>\n",
              "      <td>4.515787e+08</td>\n",
              "      <td>253.000000</td>\n",
              "      <td>11111.000000</td>\n",
              "      <td>100.000000</td>\n",
              "      <td>25141.000000</td>\n",
              "      <td>252.000000</td>\n",
              "      <td>65480.000000</td>\n",
              "      <td>...</td>\n",
              "      <td>252.000000</td>\n",
              "      <td>41040.000000</td>\n",
              "      <td>200.000000</td>\n",
              "      <td>7670.000000</td>\n",
              "      <td>100.000000</td>\n",
              "      <td>67845.000000</td>\n",
              "      <td>200.000000</td>\n",
              "      <td>2.202436e+11</td>\n",
              "      <td>200.000000</td>\n",
              "      <td>2.818246e+13</td>\n",
              "    </tr>\n",
              "  </tbody>\n",
              "</table>\n",
              "<p>8 rows × 46 columns</p>\n",
              "</div>\n",
              "      <button class=\"colab-df-convert\" onclick=\"convertToInteractive('df-830dbeed-2667-42c3-86e0-7ba31dbd2f51')\"\n",
              "              title=\"Convert this dataframe to an interactive table.\"\n",
              "              style=\"display:none;\">\n",
              "        \n",
              "  <svg xmlns=\"http://www.w3.org/2000/svg\" height=\"24px\"viewBox=\"0 0 24 24\"\n",
              "       width=\"24px\">\n",
              "    <path d=\"M0 0h24v24H0V0z\" fill=\"none\"/>\n",
              "    <path d=\"M18.56 5.44l.94 2.06.94-2.06 2.06-.94-2.06-.94-.94-2.06-.94 2.06-2.06.94zm-11 1L8.5 8.5l.94-2.06 2.06-.94-2.06-.94L8.5 2.5l-.94 2.06-2.06.94zm10 10l.94 2.06.94-2.06 2.06-.94-2.06-.94-.94-2.06-.94 2.06-2.06.94z\"/><path d=\"M17.41 7.96l-1.37-1.37c-.4-.4-.92-.59-1.43-.59-.52 0-1.04.2-1.43.59L10.3 9.45l-7.72 7.72c-.78.78-.78 2.05 0 2.83L4 21.41c.39.39.9.59 1.41.59.51 0 1.02-.2 1.41-.59l7.78-7.78 2.81-2.81c.8-.78.8-2.07 0-2.86zM5.41 20L4 18.59l7.72-7.72 1.47 1.35L5.41 20z\"/>\n",
              "  </svg>\n",
              "      </button>\n",
              "      \n",
              "  <style>\n",
              "    .colab-df-container {\n",
              "      display:flex;\n",
              "      flex-wrap:wrap;\n",
              "      gap: 12px;\n",
              "    }\n",
              "\n",
              "    .colab-df-convert {\n",
              "      background-color: #E8F0FE;\n",
              "      border: none;\n",
              "      border-radius: 50%;\n",
              "      cursor: pointer;\n",
              "      display: none;\n",
              "      fill: #1967D2;\n",
              "      height: 32px;\n",
              "      padding: 0 0 0 0;\n",
              "      width: 32px;\n",
              "    }\n",
              "\n",
              "    .colab-df-convert:hover {\n",
              "      background-color: #E2EBFA;\n",
              "      box-shadow: 0px 1px 2px rgba(60, 64, 67, 0.3), 0px 1px 3px 1px rgba(60, 64, 67, 0.15);\n",
              "      fill: #174EA6;\n",
              "    }\n",
              "\n",
              "    [theme=dark] .colab-df-convert {\n",
              "      background-color: #3B4455;\n",
              "      fill: #D2E3FC;\n",
              "    }\n",
              "\n",
              "    [theme=dark] .colab-df-convert:hover {\n",
              "      background-color: #434B5C;\n",
              "      box-shadow: 0px 1px 3px 1px rgba(0, 0, 0, 0.15);\n",
              "      filter: drop-shadow(0px 1px 2px rgba(0, 0, 0, 0.3));\n",
              "      fill: #FFFFFF;\n",
              "    }\n",
              "  </style>\n",
              "\n",
              "      <script>\n",
              "        const buttonEl =\n",
              "          document.querySelector('#df-830dbeed-2667-42c3-86e0-7ba31dbd2f51 button.colab-df-convert');\n",
              "        buttonEl.style.display =\n",
              "          google.colab.kernel.accessAllowed ? 'block' : 'none';\n",
              "\n",
              "        async function convertToInteractive(key) {\n",
              "          const element = document.querySelector('#df-830dbeed-2667-42c3-86e0-7ba31dbd2f51');\n",
              "          const dataTable =\n",
              "            await google.colab.kernel.invokeFunction('convertToInteractive',\n",
              "                                                     [key], {});\n",
              "          if (!dataTable) return;\n",
              "\n",
              "          const docLinkHtml = 'Like what you see? Visit the ' +\n",
              "            '<a target=\"_blank\" href=https://colab.research.google.com/notebooks/data_table.ipynb>data table notebook</a>'\n",
              "            + ' to learn more about interactive tables.';\n",
              "          element.innerHTML = '';\n",
              "          dataTable['output_type'] = 'display_data';\n",
              "          await google.colab.output.renderOutput(dataTable, element);\n",
              "          const docLink = document.createElement('div');\n",
              "          docLink.innerHTML = docLinkHtml;\n",
              "          element.appendChild(docLink);\n",
              "        }\n",
              "      </script>\n",
              "    </div>\n",
              "  </div>\n",
              "  "
            ]
          },
          "metadata": {},
          "execution_count": 115
        }
      ],
      "source": [
        "Test.describe()"
      ]
    },
    {
      "cell_type": "markdown",
      "metadata": {
        "id": "M9wB7VPFS9PY"
      },
      "source": [
        "##### From the above description it is seen that some attributes have values ranging from 10^7 to 10^13 which seems to be odd. Such attributes are choosen for Feature engineering. \n",
        "##### Inspite of Column Standardisation or Normalisation, Sigmoid and Tanh functions are applied on these attributes as a scaling function and it's correlation with target varibale is compared with its original correlation values."
      ]
    },
    {
      "cell_type": "code",
      "execution_count": null,
      "metadata": {
        "id": "fdI7Fb-L3YBn"
      },
      "outputs": [],
      "source": [
        "# Sigmoid and TanH Functions.\n",
        "# Instead of using original value, it is added with random normal distributed value just like adding bias to the input value.\n",
        "def Sigmoid(x):\n",
        "  return 1 / (1 + np.exp(-(x + np.random.normal(scale = 0.5)))) \n",
        "def TanH(x):\n",
        "  return np.tanh(x + np.random.normal(scale = 0.5))"
      ]
    },
    {
      "cell_type": "code",
      "execution_count": null,
      "metadata": {
        "id": "HWxLbNiiwS57"
      },
      "outputs": [],
      "source": [
        "# Creating new attributes based on above description.\n",
        "\n",
        "#Test['smart_1_sig'] = Test['smart_1_raw'].apply(Sigmoid)\n",
        "#Test['smart_7_sig'] = Test['smart_7_raw'].apply(Sigmoid)\n",
        "#Test['smart_188_sig'] = Test['smart_188_raw'].apply(Sigmoid)\n",
        "#Test['smart_193_sig'] = Test['smart_193_raw'].apply(Sigmoid)\n",
        "#Test['smart_240_sig'] = Test['smart_240_raw'].apply(Sigmoid)\n",
        "#Test['smart_241_sig'] = Test['smart_241_raw'].apply(Sigmoid)\n",
        "#Test['smart_242_sig'] = Test['smart_242_raw'].apply(Sigmoid)\n",
        "\n",
        "#Test['smart_1_tan'] = Test['smart_1_raw'].apply(TanH)\n",
        "#Test['smart_7_tan'] = Test['smart_7_raw'].apply(TanH)\n",
        "#Test['smart_188_tan'] = Test['smart_188_raw'].apply(TanH)\n",
        "#Test['smart_193_tan'] = Test['smart_193_raw'].apply(TanH)\n",
        "#Test['smart_240_tan'] = Test['smart_240_raw'].apply(TanH)\n",
        "#Test['smart_241_tan'] = Test['smart_241_raw'].apply(TanH)\n",
        "#Test['smart_242_tan'] = Test['smart_242_raw'].apply(TanH)\n",
        "\n",
        "cf = ['smart_1_raw', 'smart_7_raw', 'smart_188_raw', 'smart_193_raw', 'smart_240_raw', 'smart_241_raw', 'smart_242_raw']\n",
        "for i in cf:\n",
        "   n = re.findall('\\d+',i) \n",
        "   s = 'smart_' + ''.join(n) + '_sig'\n",
        "   t = 'smart_' + ''.join(n) + '_tan'\n",
        "   Test[s] = Test[i].apply(Sigmoid)\n",
        "   Test[t] = Test[i].apply(TanH)"
      ]
    },
    {
      "cell_type": "code",
      "execution_count": null,
      "metadata": {
        "colab": {
          "base_uri": "https://localhost:8080/",
          "height": 404
        },
        "id": "8sCyRVcpoCuY",
        "outputId": "880235d7-9cbb-4562-d883-6335905bdd86"
      },
      "outputs": [
        {
          "output_type": "stream",
          "name": "stdout",
          "text": [
            "Warning: Total number of columns (63) exceeds max_columns (20). Falling back to pandas display.\n"
          ]
        },
        {
          "output_type": "execute_result",
          "data": {
            "text/plain": [
              "        date serial_number          model  capacity_bytes  failure  \\\n",
              "0 2021-01-01      ZLW0EGC6  ST12000NM001G         12000.0        0   \n",
              "1 2021-01-01      Z305B2QN    ST4000DM000          4000.0        0   \n",
              "2 2021-01-01      ZLW0C6NE  ST12000NM001G         12000.0        0   \n",
              "3 2021-01-01      ZJV0XJQ3  ST12000NM0007         12000.0        0   \n",
              "4 2021-01-01      ZLW18MKT  ST14000NM001G         14000.0        0   \n",
              "\n",
              "   smart_1_normalized  smart_1_raw  smart_3_normalized  smart_3_raw  \\\n",
              "0                83.0  213166608.0                99.0          0.0   \n",
              "1               114.0   79306032.0                91.0          0.0   \n",
              "2                72.0   17162816.0                98.0          0.0   \n",
              "3               100.0    1102160.0                98.0          0.0   \n",
              "4                75.0   33233248.0                95.0          0.0   \n",
              "\n",
              "   smart_4_normalized  ...  smart_188_sig  smart_188_tan  smart_193_sig  \\\n",
              "0               100.0  ...       0.658755      -0.141375            1.0   \n",
              "1               100.0  ...       0.660519       0.292221            1.0   \n",
              "2               100.0  ...       0.706462      -0.045763            1.0   \n",
              "3               100.0  ...       0.670716      -0.021745            1.0   \n",
              "4               100.0  ...       0.539438       0.370374            1.0   \n",
              "\n",
              "   smart_193_tan  smart_240_sig  smart_240_tan  smart_241_sig  smart_241_tan  \\\n",
              "0            1.0            1.0            1.0            1.0            1.0   \n",
              "1            1.0            1.0            1.0            1.0            1.0   \n",
              "2            1.0            1.0            1.0            1.0            1.0   \n",
              "3            1.0            1.0            1.0            1.0            1.0   \n",
              "4            1.0            1.0            1.0            1.0            1.0   \n",
              "\n",
              "   smart_242_sig  smart_242_tan  \n",
              "0            1.0            1.0  \n",
              "1            1.0            1.0  \n",
              "2            1.0            1.0  \n",
              "3            1.0            1.0  \n",
              "4            1.0            1.0  \n",
              "\n",
              "[5 rows x 63 columns]"
            ],
            "text/html": [
              "\n",
              "  <div id=\"df-968f62a9-0840-4a73-9542-40e8613ea911\">\n",
              "    <div class=\"colab-df-container\">\n",
              "      <div>\n",
              "<style scoped>\n",
              "    .dataframe tbody tr th:only-of-type {\n",
              "        vertical-align: middle;\n",
              "    }\n",
              "\n",
              "    .dataframe tbody tr th {\n",
              "        vertical-align: top;\n",
              "    }\n",
              "\n",
              "    .dataframe thead th {\n",
              "        text-align: right;\n",
              "    }\n",
              "</style>\n",
              "<table border=\"1\" class=\"dataframe\">\n",
              "  <thead>\n",
              "    <tr style=\"text-align: right;\">\n",
              "      <th></th>\n",
              "      <th>date</th>\n",
              "      <th>serial_number</th>\n",
              "      <th>model</th>\n",
              "      <th>capacity_bytes</th>\n",
              "      <th>failure</th>\n",
              "      <th>smart_1_normalized</th>\n",
              "      <th>smart_1_raw</th>\n",
              "      <th>smart_3_normalized</th>\n",
              "      <th>smart_3_raw</th>\n",
              "      <th>smart_4_normalized</th>\n",
              "      <th>...</th>\n",
              "      <th>smart_188_sig</th>\n",
              "      <th>smart_188_tan</th>\n",
              "      <th>smart_193_sig</th>\n",
              "      <th>smart_193_tan</th>\n",
              "      <th>smart_240_sig</th>\n",
              "      <th>smart_240_tan</th>\n",
              "      <th>smart_241_sig</th>\n",
              "      <th>smart_241_tan</th>\n",
              "      <th>smart_242_sig</th>\n",
              "      <th>smart_242_tan</th>\n",
              "    </tr>\n",
              "  </thead>\n",
              "  <tbody>\n",
              "    <tr>\n",
              "      <th>0</th>\n",
              "      <td>2021-01-01</td>\n",
              "      <td>ZLW0EGC6</td>\n",
              "      <td>ST12000NM001G</td>\n",
              "      <td>12000.0</td>\n",
              "      <td>0</td>\n",
              "      <td>83.0</td>\n",
              "      <td>213166608.0</td>\n",
              "      <td>99.0</td>\n",
              "      <td>0.0</td>\n",
              "      <td>100.0</td>\n",
              "      <td>...</td>\n",
              "      <td>0.658755</td>\n",
              "      <td>-0.141375</td>\n",
              "      <td>1.0</td>\n",
              "      <td>1.0</td>\n",
              "      <td>1.0</td>\n",
              "      <td>1.0</td>\n",
              "      <td>1.0</td>\n",
              "      <td>1.0</td>\n",
              "      <td>1.0</td>\n",
              "      <td>1.0</td>\n",
              "    </tr>\n",
              "    <tr>\n",
              "      <th>1</th>\n",
              "      <td>2021-01-01</td>\n",
              "      <td>Z305B2QN</td>\n",
              "      <td>ST4000DM000</td>\n",
              "      <td>4000.0</td>\n",
              "      <td>0</td>\n",
              "      <td>114.0</td>\n",
              "      <td>79306032.0</td>\n",
              "      <td>91.0</td>\n",
              "      <td>0.0</td>\n",
              "      <td>100.0</td>\n",
              "      <td>...</td>\n",
              "      <td>0.660519</td>\n",
              "      <td>0.292221</td>\n",
              "      <td>1.0</td>\n",
              "      <td>1.0</td>\n",
              "      <td>1.0</td>\n",
              "      <td>1.0</td>\n",
              "      <td>1.0</td>\n",
              "      <td>1.0</td>\n",
              "      <td>1.0</td>\n",
              "      <td>1.0</td>\n",
              "    </tr>\n",
              "    <tr>\n",
              "      <th>2</th>\n",
              "      <td>2021-01-01</td>\n",
              "      <td>ZLW0C6NE</td>\n",
              "      <td>ST12000NM001G</td>\n",
              "      <td>12000.0</td>\n",
              "      <td>0</td>\n",
              "      <td>72.0</td>\n",
              "      <td>17162816.0</td>\n",
              "      <td>98.0</td>\n",
              "      <td>0.0</td>\n",
              "      <td>100.0</td>\n",
              "      <td>...</td>\n",
              "      <td>0.706462</td>\n",
              "      <td>-0.045763</td>\n",
              "      <td>1.0</td>\n",
              "      <td>1.0</td>\n",
              "      <td>1.0</td>\n",
              "      <td>1.0</td>\n",
              "      <td>1.0</td>\n",
              "      <td>1.0</td>\n",
              "      <td>1.0</td>\n",
              "      <td>1.0</td>\n",
              "    </tr>\n",
              "    <tr>\n",
              "      <th>3</th>\n",
              "      <td>2021-01-01</td>\n",
              "      <td>ZJV0XJQ3</td>\n",
              "      <td>ST12000NM0007</td>\n",
              "      <td>12000.0</td>\n",
              "      <td>0</td>\n",
              "      <td>100.0</td>\n",
              "      <td>1102160.0</td>\n",
              "      <td>98.0</td>\n",
              "      <td>0.0</td>\n",
              "      <td>100.0</td>\n",
              "      <td>...</td>\n",
              "      <td>0.670716</td>\n",
              "      <td>-0.021745</td>\n",
              "      <td>1.0</td>\n",
              "      <td>1.0</td>\n",
              "      <td>1.0</td>\n",
              "      <td>1.0</td>\n",
              "      <td>1.0</td>\n",
              "      <td>1.0</td>\n",
              "      <td>1.0</td>\n",
              "      <td>1.0</td>\n",
              "    </tr>\n",
              "    <tr>\n",
              "      <th>4</th>\n",
              "      <td>2021-01-01</td>\n",
              "      <td>ZLW18MKT</td>\n",
              "      <td>ST14000NM001G</td>\n",
              "      <td>14000.0</td>\n",
              "      <td>0</td>\n",
              "      <td>75.0</td>\n",
              "      <td>33233248.0</td>\n",
              "      <td>95.0</td>\n",
              "      <td>0.0</td>\n",
              "      <td>100.0</td>\n",
              "      <td>...</td>\n",
              "      <td>0.539438</td>\n",
              "      <td>0.370374</td>\n",
              "      <td>1.0</td>\n",
              "      <td>1.0</td>\n",
              "      <td>1.0</td>\n",
              "      <td>1.0</td>\n",
              "      <td>1.0</td>\n",
              "      <td>1.0</td>\n",
              "      <td>1.0</td>\n",
              "      <td>1.0</td>\n",
              "    </tr>\n",
              "  </tbody>\n",
              "</table>\n",
              "<p>5 rows × 63 columns</p>\n",
              "</div>\n",
              "      <button class=\"colab-df-convert\" onclick=\"convertToInteractive('df-968f62a9-0840-4a73-9542-40e8613ea911')\"\n",
              "              title=\"Convert this dataframe to an interactive table.\"\n",
              "              style=\"display:none;\">\n",
              "        \n",
              "  <svg xmlns=\"http://www.w3.org/2000/svg\" height=\"24px\"viewBox=\"0 0 24 24\"\n",
              "       width=\"24px\">\n",
              "    <path d=\"M0 0h24v24H0V0z\" fill=\"none\"/>\n",
              "    <path d=\"M18.56 5.44l.94 2.06.94-2.06 2.06-.94-2.06-.94-.94-2.06-.94 2.06-2.06.94zm-11 1L8.5 8.5l.94-2.06 2.06-.94-2.06-.94L8.5 2.5l-.94 2.06-2.06.94zm10 10l.94 2.06.94-2.06 2.06-.94-2.06-.94-.94-2.06-.94 2.06-2.06.94z\"/><path d=\"M17.41 7.96l-1.37-1.37c-.4-.4-.92-.59-1.43-.59-.52 0-1.04.2-1.43.59L10.3 9.45l-7.72 7.72c-.78.78-.78 2.05 0 2.83L4 21.41c.39.39.9.59 1.41.59.51 0 1.02-.2 1.41-.59l7.78-7.78 2.81-2.81c.8-.78.8-2.07 0-2.86zM5.41 20L4 18.59l7.72-7.72 1.47 1.35L5.41 20z\"/>\n",
              "  </svg>\n",
              "      </button>\n",
              "      \n",
              "  <style>\n",
              "    .colab-df-container {\n",
              "      display:flex;\n",
              "      flex-wrap:wrap;\n",
              "      gap: 12px;\n",
              "    }\n",
              "\n",
              "    .colab-df-convert {\n",
              "      background-color: #E8F0FE;\n",
              "      border: none;\n",
              "      border-radius: 50%;\n",
              "      cursor: pointer;\n",
              "      display: none;\n",
              "      fill: #1967D2;\n",
              "      height: 32px;\n",
              "      padding: 0 0 0 0;\n",
              "      width: 32px;\n",
              "    }\n",
              "\n",
              "    .colab-df-convert:hover {\n",
              "      background-color: #E2EBFA;\n",
              "      box-shadow: 0px 1px 2px rgba(60, 64, 67, 0.3), 0px 1px 3px 1px rgba(60, 64, 67, 0.15);\n",
              "      fill: #174EA6;\n",
              "    }\n",
              "\n",
              "    [theme=dark] .colab-df-convert {\n",
              "      background-color: #3B4455;\n",
              "      fill: #D2E3FC;\n",
              "    }\n",
              "\n",
              "    [theme=dark] .colab-df-convert:hover {\n",
              "      background-color: #434B5C;\n",
              "      box-shadow: 0px 1px 3px 1px rgba(0, 0, 0, 0.15);\n",
              "      filter: drop-shadow(0px 1px 2px rgba(0, 0, 0, 0.3));\n",
              "      fill: #FFFFFF;\n",
              "    }\n",
              "  </style>\n",
              "\n",
              "      <script>\n",
              "        const buttonEl =\n",
              "          document.querySelector('#df-968f62a9-0840-4a73-9542-40e8613ea911 button.colab-df-convert');\n",
              "        buttonEl.style.display =\n",
              "          google.colab.kernel.accessAllowed ? 'block' : 'none';\n",
              "\n",
              "        async function convertToInteractive(key) {\n",
              "          const element = document.querySelector('#df-968f62a9-0840-4a73-9542-40e8613ea911');\n",
              "          const dataTable =\n",
              "            await google.colab.kernel.invokeFunction('convertToInteractive',\n",
              "                                                     [key], {});\n",
              "          if (!dataTable) return;\n",
              "\n",
              "          const docLinkHtml = 'Like what you see? Visit the ' +\n",
              "            '<a target=\"_blank\" href=https://colab.research.google.com/notebooks/data_table.ipynb>data table notebook</a>'\n",
              "            + ' to learn more about interactive tables.';\n",
              "          element.innerHTML = '';\n",
              "          dataTable['output_type'] = 'display_data';\n",
              "          await google.colab.output.renderOutput(dataTable, element);\n",
              "          const docLink = document.createElement('div');\n",
              "          docLink.innerHTML = docLinkHtml;\n",
              "          element.appendChild(docLink);\n",
              "        }\n",
              "      </script>\n",
              "    </div>\n",
              "  </div>\n",
              "  "
            ]
          },
          "metadata": {},
          "execution_count": 118
        }
      ],
      "source": [
        "Test.head()"
      ]
    },
    {
      "cell_type": "code",
      "execution_count": null,
      "metadata": {
        "colab": {
          "base_uri": "https://localhost:8080/"
        },
        "id": "1ZQ2B73No_u6",
        "outputId": "c75b518a-526a-4261-c376-fc30b0c6717a"
      },
      "outputs": [
        {
          "output_type": "stream",
          "name": "stdout",
          "text": [
            "smart_1_raw feature Correlation with target(Failure) is 0.0004930565827411704\n",
            "smart_1_sig feature Correlation with target(Failure) is 0.0013126177063138688\n",
            "smart_1_tan feature Correlation with target(Failure) is 0.0015404776482304148\n",
            "\n",
            "smart_7_raw feature Correlation with target(Failure) is -1.8360522051362562e-05\n",
            "smart_7_sig feature Correlation with target(Failure) is 0.0008324912138650206\n",
            "smart_7_tan feature Correlation with target(Failure) is 0.0010181727762949618\n",
            "\n",
            "smart_188_raw feature Correlation with target(Failure) is 0.00044184288658845447\n",
            "smart_188_sig feature Correlation with target(Failure) is 0.002710240078355296\n",
            "smart_188_tan feature Correlation with target(Failure) is 0.0016118735461156798\n",
            "\n",
            "smart_193_raw feature Correlation with target(Failure) is -0.0016981571065426927\n",
            "smart_193_sig feature Correlation with target(Failure) is -0.004027170957570938\n",
            "smart_193_tan feature Correlation with target(Failure) is -0.0030840430439657103\n",
            "\n",
            "smart_240_raw feature Correlation with target(Failure) is 0.00028027466558763574\n",
            "smart_240_sig feature Correlation with target(Failure) is 0.0005234346889891986\n",
            "smart_240_tan feature Correlation with target(Failure) is 0.0006937560503096254\n",
            "\n",
            "smart_241_raw feature Correlation with target(Failure) is 0.0012396855933433362\n",
            "smart_241_sig feature Correlation with target(Failure) is 0.0011795351574798495\n",
            "smart_241_tan feature Correlation with target(Failure) is 0.00019518974383707458\n",
            "\n",
            "smart_242_raw feature Correlation with target(Failure) is 0.0004745561839035194\n",
            "smart_242_sig feature Correlation with target(Failure) is 0.0012198748200162764\n",
            "smart_242_tan feature Correlation with target(Failure) is 0.0007698098780969987\n",
            "\n"
          ]
        }
      ],
      "source": [
        "# Checking the correlation of attributes with target variable.\n",
        "cf = ['smart_1_raw', 'smart_1_sig', 'smart_1_tan', 'smart_7_raw', 'smart_7_sig', 'smart_7_tan', 'smart_188_raw', 'smart_188_sig', 'smart_188_tan', 'smart_193_raw', 'smart_193_sig', 'smart_193_tan', 'smart_240_raw', 'smart_240_sig', 'smart_240_tan', 'smart_241_raw', 'smart_241_sig', 'smart_241_tan', 'smart_242_raw', 'smart_242_sig', 'smart_242_tan']\n",
        "j = 1\n",
        "for i in cf:\n",
        "  print(i + ' feature' + ' Correlation with target(Failure)' + ' is ' + str(Test[i].corr(Test['failure']))) # This line computes the correlation.\n",
        "  if(j % 3 == 0):\n",
        "    print()\n",
        "  j+=1"
      ]
    },
    {
      "cell_type": "markdown",
      "metadata": {
        "id": "jmNIV-zWXY2Z"
      },
      "source": [
        "##### From the above correlation values, attributes obtained from Sigmoid function shows the better correlation than the TanH function. It also show good values when compared with original raw values. \n",
        "##### But, smart_241_sig correlation values are still less than it's original raw values, which seems that sigmoidal values dosen't improve the correlation result. Thus, these attributes are not used for feature engineering."
      ]
    },
    {
      "cell_type": "markdown",
      "metadata": {
        "id": "27XNBP5-v-XL"
      },
      "source": [
        "#### Response Encoding the \"Model\" feature.\n",
        "\n",
        "> It is a method of creating the True and False probabilities for Categorical Data.\n",
        "\n",
        "> True Probability = No. of (respec. cat. data with target = 1) / (Total no. of that cat. data).\n",
        "\n",
        "> False Probability = No. of (respec. cat. data with target = 0) / (Total no. of that cat. data).\n",
        "\n",
        "\n",
        "\n",
        "\n",
        "\n",
        "\n",
        "\n"
      ]
    },
    {
      "cell_type": "code",
      "execution_count": null,
      "metadata": {
        "id": "7McICI9RIuwZ"
      },
      "outputs": [],
      "source": [
        "# Function for Claculating the probabilities of categorical data.\n",
        "def res_fit(cat, Y):\n",
        "    j = dict(cat.value_counts()) # Storing the counts of each category in Dictionary. \n",
        "    true, false = 0, 0\n",
        "    TRUE, FALSE = {}, {} \n",
        "    for key, value in j.items(): # Iterating over each category\n",
        "        sum, neg, = 0, 0\n",
        "        for state, y in zip(cat, Y): # Iterating over every data in given Series\n",
        "            if (key == state and y == 1): \n",
        "                sum+= 1              # Calculating count when target of respective category data is 1\n",
        "            elif (key == state and y == 0):\n",
        "                neg+= 1              # Calculating count when target of respective category data is 0\n",
        "        true = sum / value           # Dividing the True count with the respective total category count.\n",
        "        false = neg / value          # Dividing the False count with the respective total category count.\n",
        "        TRUE[key] = true\n",
        "        FALSE[key] = false           # The respective category data with it's True probability and False probability is stored in dictionary.\n",
        "    return j, TRUE, FALSE"
      ]
    },
    {
      "cell_type": "code",
      "execution_count": null,
      "metadata": {
        "id": "btVcJmKdIvE3"
      },
      "outputs": [],
      "source": [
        "# Function for transforming the query data points into respective calculated probability values.\n",
        "def res_transform(cat, TRUE, FALSE):\n",
        "    t = []\n",
        "    f = []\n",
        "    for state in cat: # Iterating over each data point in a given query series.\n",
        "        for ((key_t, value_t), (key_f, value_f)) in zip(TRUE.items(), FALSE.items()): # Iterating over the calculated True and False probabilities \n",
        "\n",
        "            # When the respective category data from query series is matched, it is then appended with it's respective probability values. \n",
        "            if state == key_t and state == key_f: \n",
        "                t.append(value_t)                 \n",
        "                f.append(value_f)\n",
        "                break\n",
        "        else :           # Incase, when the unknown category data is found, it's True and False probability values are considered as 0.5 and 0.5.\n",
        "                t.append(1/2)\n",
        "                f.append(1/2) \n",
        "\n",
        "    X_t = np.array(t).reshape(-1, 1)\n",
        "    X_f = np.array(f).reshape(-1, 1) # Reshaping the above array\n",
        "    \n",
        "    return np.concatenate((X_t, X_f), axis = 1) "
      ]
    },
    {
      "cell_type": "code",
      "execution_count": null,
      "metadata": {
        "id": "kKINAanZGen2"
      },
      "outputs": [],
      "source": [
        "del Test"
      ]
    },
    {
      "cell_type": "markdown",
      "metadata": {
        "id": "uVf3UCABZMB0"
      },
      "source": [
        "# 5. Final Dataset\n",
        "\n",
        "\n",
        "\n"
      ]
    },
    {
      "cell_type": "markdown",
      "metadata": {
        "id": "Ju7gmaq1K8EF"
      },
      "source": [
        "> From the above task, attributes with respective transformation which given better correlation values than it's original raw values are used as a attributes for feature transformation in final dataset."
      ]
    },
    {
      "cell_type": "code",
      "execution_count": null,
      "metadata": {
        "colab": {
          "base_uri": "https://localhost:8080/"
        },
        "id": "u9a7v5ke1bxf",
        "outputId": "b27cdb21-ebb1-4acc-fd12-50a316ea0b40"
      },
      "outputs": [
        {
          "output_type": "stream",
          "name": "stdout",
          "text": [
            "Original shape of Data :  (827423, 49)\n",
            "Final shape of Data :  (827423, 55)\n"
          ]
        }
      ],
      "source": [
        "print(\"Original shape of Data : \", Data.shape)\n",
        "cf = ['smart_1_raw', 'smart_7_raw', 'smart_188_raw', 'smart_193_raw', 'smart_240_raw', 'smart_242_raw']\n",
        "for i in cf:\n",
        "   n = re.findall('\\d+',i) \n",
        "   s = 'smart_' + ''.join(n) + '_sig'\n",
        "   Data[s] = Data[i].apply(Sigmoid)\n",
        "\n",
        "print(\"Final shape of Data : \", Data.shape)"
      ]
    },
    {
      "cell_type": "code",
      "execution_count": null,
      "metadata": {
        "colab": {
          "base_uri": "https://localhost:8080/",
          "height": 404
        },
        "id": "j5nCyDpc-rFu",
        "outputId": "6e83ff7b-ddbc-46f6-b366-984ef64cd693"
      },
      "outputs": [
        {
          "output_type": "stream",
          "name": "stdout",
          "text": [
            "Warning: Total number of columns (55) exceeds max_columns (20). Falling back to pandas display.\n"
          ]
        },
        {
          "output_type": "execute_result",
          "data": {
            "text/plain": [
              "        date serial_number          model  capacity_bytes  failure  \\\n",
              "0 2021-01-01      ZLW0EGC6  ST12000NM001G         12000.0        0   \n",
              "1 2021-01-01      Z305B2QN    ST4000DM000          4000.0        0   \n",
              "2 2021-01-01      ZLW0C6NE  ST12000NM001G         12000.0        0   \n",
              "3 2021-01-01      ZJV0XJQ3  ST12000NM0007         12000.0        0   \n",
              "4 2021-01-01      ZLW18MKT  ST14000NM001G         14000.0        0   \n",
              "\n",
              "   smart_1_normalized  smart_1_raw  smart_3_normalized  smart_3_raw  \\\n",
              "0                83.0  213166608.0                99.0          0.0   \n",
              "1               114.0   79306032.0                91.0          0.0   \n",
              "2                72.0   17162816.0                98.0          0.0   \n",
              "3               100.0    1102160.0                98.0          0.0   \n",
              "4                75.0   33233248.0                95.0          0.0   \n",
              "\n",
              "   smart_4_normalized  ...  smart_241_normalized  smart_241_raw  \\\n",
              "0               100.0  ...                 100.0   4.839342e+10   \n",
              "1               100.0  ...                 100.0   5.940338e+10   \n",
              "2               100.0  ...                 100.0   4.917863e+10   \n",
              "3               100.0  ...                 100.0   5.260102e+10   \n",
              "4               100.0  ...                 100.0   1.647225e+10   \n",
              "\n",
              "   smart_242_normalized  smart_242_raw  smart_1_sig  smart_7_sig  \\\n",
              "0                 100.0   7.022831e+10          1.0          1.0   \n",
              "1                 100.0   5.457889e+11          1.0          1.0   \n",
              "2                 100.0   8.706921e+10          1.0          1.0   \n",
              "3                 100.0   1.295292e+11          1.0          1.0   \n",
              "4                 100.0   1.872005e+10          1.0          1.0   \n",
              "\n",
              "   smart_188_sig  smart_193_sig  smart_240_sig  smart_242_sig  \n",
              "0       0.340090            1.0            1.0            1.0  \n",
              "1       0.331491            1.0            1.0            1.0  \n",
              "2       0.469375            1.0            1.0            1.0  \n",
              "3       0.783909            1.0            1.0            1.0  \n",
              "4       0.512370            1.0            1.0            1.0  \n",
              "\n",
              "[5 rows x 55 columns]"
            ],
            "text/html": [
              "\n",
              "  <div id=\"df-2f34c32e-e208-49da-ab57-497ef720dbd5\">\n",
              "    <div class=\"colab-df-container\">\n",
              "      <div>\n",
              "<style scoped>\n",
              "    .dataframe tbody tr th:only-of-type {\n",
              "        vertical-align: middle;\n",
              "    }\n",
              "\n",
              "    .dataframe tbody tr th {\n",
              "        vertical-align: top;\n",
              "    }\n",
              "\n",
              "    .dataframe thead th {\n",
              "        text-align: right;\n",
              "    }\n",
              "</style>\n",
              "<table border=\"1\" class=\"dataframe\">\n",
              "  <thead>\n",
              "    <tr style=\"text-align: right;\">\n",
              "      <th></th>\n",
              "      <th>date</th>\n",
              "      <th>serial_number</th>\n",
              "      <th>model</th>\n",
              "      <th>capacity_bytes</th>\n",
              "      <th>failure</th>\n",
              "      <th>smart_1_normalized</th>\n",
              "      <th>smart_1_raw</th>\n",
              "      <th>smart_3_normalized</th>\n",
              "      <th>smart_3_raw</th>\n",
              "      <th>smart_4_normalized</th>\n",
              "      <th>...</th>\n",
              "      <th>smart_241_normalized</th>\n",
              "      <th>smart_241_raw</th>\n",
              "      <th>smart_242_normalized</th>\n",
              "      <th>smart_242_raw</th>\n",
              "      <th>smart_1_sig</th>\n",
              "      <th>smart_7_sig</th>\n",
              "      <th>smart_188_sig</th>\n",
              "      <th>smart_193_sig</th>\n",
              "      <th>smart_240_sig</th>\n",
              "      <th>smart_242_sig</th>\n",
              "    </tr>\n",
              "  </thead>\n",
              "  <tbody>\n",
              "    <tr>\n",
              "      <th>0</th>\n",
              "      <td>2021-01-01</td>\n",
              "      <td>ZLW0EGC6</td>\n",
              "      <td>ST12000NM001G</td>\n",
              "      <td>12000.0</td>\n",
              "      <td>0</td>\n",
              "      <td>83.0</td>\n",
              "      <td>213166608.0</td>\n",
              "      <td>99.0</td>\n",
              "      <td>0.0</td>\n",
              "      <td>100.0</td>\n",
              "      <td>...</td>\n",
              "      <td>100.0</td>\n",
              "      <td>4.839342e+10</td>\n",
              "      <td>100.0</td>\n",
              "      <td>7.022831e+10</td>\n",
              "      <td>1.0</td>\n",
              "      <td>1.0</td>\n",
              "      <td>0.340090</td>\n",
              "      <td>1.0</td>\n",
              "      <td>1.0</td>\n",
              "      <td>1.0</td>\n",
              "    </tr>\n",
              "    <tr>\n",
              "      <th>1</th>\n",
              "      <td>2021-01-01</td>\n",
              "      <td>Z305B2QN</td>\n",
              "      <td>ST4000DM000</td>\n",
              "      <td>4000.0</td>\n",
              "      <td>0</td>\n",
              "      <td>114.0</td>\n",
              "      <td>79306032.0</td>\n",
              "      <td>91.0</td>\n",
              "      <td>0.0</td>\n",
              "      <td>100.0</td>\n",
              "      <td>...</td>\n",
              "      <td>100.0</td>\n",
              "      <td>5.940338e+10</td>\n",
              "      <td>100.0</td>\n",
              "      <td>5.457889e+11</td>\n",
              "      <td>1.0</td>\n",
              "      <td>1.0</td>\n",
              "      <td>0.331491</td>\n",
              "      <td>1.0</td>\n",
              "      <td>1.0</td>\n",
              "      <td>1.0</td>\n",
              "    </tr>\n",
              "    <tr>\n",
              "      <th>2</th>\n",
              "      <td>2021-01-01</td>\n",
              "      <td>ZLW0C6NE</td>\n",
              "      <td>ST12000NM001G</td>\n",
              "      <td>12000.0</td>\n",
              "      <td>0</td>\n",
              "      <td>72.0</td>\n",
              "      <td>17162816.0</td>\n",
              "      <td>98.0</td>\n",
              "      <td>0.0</td>\n",
              "      <td>100.0</td>\n",
              "      <td>...</td>\n",
              "      <td>100.0</td>\n",
              "      <td>4.917863e+10</td>\n",
              "      <td>100.0</td>\n",
              "      <td>8.706921e+10</td>\n",
              "      <td>1.0</td>\n",
              "      <td>1.0</td>\n",
              "      <td>0.469375</td>\n",
              "      <td>1.0</td>\n",
              "      <td>1.0</td>\n",
              "      <td>1.0</td>\n",
              "    </tr>\n",
              "    <tr>\n",
              "      <th>3</th>\n",
              "      <td>2021-01-01</td>\n",
              "      <td>ZJV0XJQ3</td>\n",
              "      <td>ST12000NM0007</td>\n",
              "      <td>12000.0</td>\n",
              "      <td>0</td>\n",
              "      <td>100.0</td>\n",
              "      <td>1102160.0</td>\n",
              "      <td>98.0</td>\n",
              "      <td>0.0</td>\n",
              "      <td>100.0</td>\n",
              "      <td>...</td>\n",
              "      <td>100.0</td>\n",
              "      <td>5.260102e+10</td>\n",
              "      <td>100.0</td>\n",
              "      <td>1.295292e+11</td>\n",
              "      <td>1.0</td>\n",
              "      <td>1.0</td>\n",
              "      <td>0.783909</td>\n",
              "      <td>1.0</td>\n",
              "      <td>1.0</td>\n",
              "      <td>1.0</td>\n",
              "    </tr>\n",
              "    <tr>\n",
              "      <th>4</th>\n",
              "      <td>2021-01-01</td>\n",
              "      <td>ZLW18MKT</td>\n",
              "      <td>ST14000NM001G</td>\n",
              "      <td>14000.0</td>\n",
              "      <td>0</td>\n",
              "      <td>75.0</td>\n",
              "      <td>33233248.0</td>\n",
              "      <td>95.0</td>\n",
              "      <td>0.0</td>\n",
              "      <td>100.0</td>\n",
              "      <td>...</td>\n",
              "      <td>100.0</td>\n",
              "      <td>1.647225e+10</td>\n",
              "      <td>100.0</td>\n",
              "      <td>1.872005e+10</td>\n",
              "      <td>1.0</td>\n",
              "      <td>1.0</td>\n",
              "      <td>0.512370</td>\n",
              "      <td>1.0</td>\n",
              "      <td>1.0</td>\n",
              "      <td>1.0</td>\n",
              "    </tr>\n",
              "  </tbody>\n",
              "</table>\n",
              "<p>5 rows × 55 columns</p>\n",
              "</div>\n",
              "      <button class=\"colab-df-convert\" onclick=\"convertToInteractive('df-2f34c32e-e208-49da-ab57-497ef720dbd5')\"\n",
              "              title=\"Convert this dataframe to an interactive table.\"\n",
              "              style=\"display:none;\">\n",
              "        \n",
              "  <svg xmlns=\"http://www.w3.org/2000/svg\" height=\"24px\"viewBox=\"0 0 24 24\"\n",
              "       width=\"24px\">\n",
              "    <path d=\"M0 0h24v24H0V0z\" fill=\"none\"/>\n",
              "    <path d=\"M18.56 5.44l.94 2.06.94-2.06 2.06-.94-2.06-.94-.94-2.06-.94 2.06-2.06.94zm-11 1L8.5 8.5l.94-2.06 2.06-.94-2.06-.94L8.5 2.5l-.94 2.06-2.06.94zm10 10l.94 2.06.94-2.06 2.06-.94-2.06-.94-.94-2.06-.94 2.06-2.06.94z\"/><path d=\"M17.41 7.96l-1.37-1.37c-.4-.4-.92-.59-1.43-.59-.52 0-1.04.2-1.43.59L10.3 9.45l-7.72 7.72c-.78.78-.78 2.05 0 2.83L4 21.41c.39.39.9.59 1.41.59.51 0 1.02-.2 1.41-.59l7.78-7.78 2.81-2.81c.8-.78.8-2.07 0-2.86zM5.41 20L4 18.59l7.72-7.72 1.47 1.35L5.41 20z\"/>\n",
              "  </svg>\n",
              "      </button>\n",
              "      \n",
              "  <style>\n",
              "    .colab-df-container {\n",
              "      display:flex;\n",
              "      flex-wrap:wrap;\n",
              "      gap: 12px;\n",
              "    }\n",
              "\n",
              "    .colab-df-convert {\n",
              "      background-color: #E8F0FE;\n",
              "      border: none;\n",
              "      border-radius: 50%;\n",
              "      cursor: pointer;\n",
              "      display: none;\n",
              "      fill: #1967D2;\n",
              "      height: 32px;\n",
              "      padding: 0 0 0 0;\n",
              "      width: 32px;\n",
              "    }\n",
              "\n",
              "    .colab-df-convert:hover {\n",
              "      background-color: #E2EBFA;\n",
              "      box-shadow: 0px 1px 2px rgba(60, 64, 67, 0.3), 0px 1px 3px 1px rgba(60, 64, 67, 0.15);\n",
              "      fill: #174EA6;\n",
              "    }\n",
              "\n",
              "    [theme=dark] .colab-df-convert {\n",
              "      background-color: #3B4455;\n",
              "      fill: #D2E3FC;\n",
              "    }\n",
              "\n",
              "    [theme=dark] .colab-df-convert:hover {\n",
              "      background-color: #434B5C;\n",
              "      box-shadow: 0px 1px 3px 1px rgba(0, 0, 0, 0.15);\n",
              "      filter: drop-shadow(0px 1px 2px rgba(0, 0, 0, 0.3));\n",
              "      fill: #FFFFFF;\n",
              "    }\n",
              "  </style>\n",
              "\n",
              "      <script>\n",
              "        const buttonEl =\n",
              "          document.querySelector('#df-2f34c32e-e208-49da-ab57-497ef720dbd5 button.colab-df-convert');\n",
              "        buttonEl.style.display =\n",
              "          google.colab.kernel.accessAllowed ? 'block' : 'none';\n",
              "\n",
              "        async function convertToInteractive(key) {\n",
              "          const element = document.querySelector('#df-2f34c32e-e208-49da-ab57-497ef720dbd5');\n",
              "          const dataTable =\n",
              "            await google.colab.kernel.invokeFunction('convertToInteractive',\n",
              "                                                     [key], {});\n",
              "          if (!dataTable) return;\n",
              "\n",
              "          const docLinkHtml = 'Like what you see? Visit the ' +\n",
              "            '<a target=\"_blank\" href=https://colab.research.google.com/notebooks/data_table.ipynb>data table notebook</a>'\n",
              "            + ' to learn more about interactive tables.';\n",
              "          element.innerHTML = '';\n",
              "          dataTable['output_type'] = 'display_data';\n",
              "          await google.colab.output.renderOutput(dataTable, element);\n",
              "          const docLink = document.createElement('div');\n",
              "          docLink.innerHTML = docLinkHtml;\n",
              "          element.appendChild(docLink);\n",
              "        }\n",
              "      </script>\n",
              "    </div>\n",
              "  </div>\n",
              "  "
            ]
          },
          "metadata": {},
          "execution_count": 124
        }
      ],
      "source": [
        "Data.head()"
      ]
    },
    {
      "cell_type": "code",
      "execution_count": null,
      "metadata": {
        "id": "3QAlS29T6rlB"
      },
      "outputs": [],
      "source": [
        "# Splitting the Dataset into Train and Val Dataset based on date\n",
        "split_date = '2021-01-03'"
      ]
    },
    {
      "cell_type": "code",
      "execution_count": null,
      "metadata": {
        "colab": {
          "base_uri": "https://localhost:8080/"
        },
        "id": "DzBEaUAp6_fi",
        "outputId": "a6ad5aae-a4d5-4e81-c754-424128458087"
      },
      "outputs": [
        {
          "output_type": "stream",
          "name": "stdout",
          "text": [
            "(496415, 55) (331008, 55)\n"
          ]
        }
      ],
      "source": [
        "Train = Data.loc[Data.date <= split_date]\n",
        "Val = Data.loc[Data.date > split_date]\n",
        "print(Train.shape, Val.shape)"
      ]
    },
    {
      "cell_type": "code",
      "execution_count": null,
      "metadata": {
        "colab": {
          "base_uri": "https://localhost:8080/"
        },
        "id": "SYGMOpVx6xox",
        "outputId": "175e6a64-491c-4009-e4bb-de20e9ed2db5"
      },
      "outputs": [
        {
          "output_type": "stream",
          "name": "stdout",
          "text": [
            "{'ST12000NM0007': 69106, 'TOSHIBA MG07ACA14TA': 63099, 'ST12000NM0008': 57859, 'ST4000DM000': 56775, 'ST8000NM0055': 43219, 'HGST HMS5C4040BLE640': 38229, 'HGST HUH721212ALN604': 32490, 'ST8000DM002': 29310, 'ST12000NM001G': 21386, 'ST14000NM001G': 17961, 'WDC WUH721414ALE6L4': 17686, 'HGST HMS5C4040ALE640': 9241, 'HGST HUH721212ALE600': 7800, 'HGST HUH721212ALE604': 7518, 'ST10000NM0086': 3603, 'HGST HUH728080ALE600': 3238, 'TOSHIBA MG08ACA16TEY': 3042, 'ST6000DX000': 2658, 'Seagate BarraCuda SSD ZA250CM10002': 1674, 'ST500LM012 HN': 1362, 'Seagate BarraCuda 120 SSD ZA250CM10003': 1218, 'TOSHIBA MQ01ABF050M': 1149, 'ST14000NM0138': 1080, 'TOSHIBA MQ01ABF050': 1059, 'ST500LM030': 723, 'WDC WD5000LPVX': 593, 'TOSHIBA MG07ACA14TEY': 480, 'DELLBOSS VD': 348, 'Seagate SSD': 324, 'TOSHIBA MD04ABA400V': 297, 'WDC  WUH721414ALE6L4': 293, 'ST18000NM000J': 180, 'ST16000NM001G': 177, 'WDC WD5000LPCX': 159, 'TOSHIBA MG08ACA16TA': 118, 'ST4000DM005': 114, 'MTFDDAV240TCB': 114, 'ST500LM021': 99, 'HGST HUS726040ALE610': 82, 'ST16000NM005G': 78, 'ST8000DM005': 75, 'HGST HDS5C4040ALE630': 75, 'HGST HUH721010ALE600': 60, 'Seagate BarraCuda SSD ZA500CM10002': 54, 'TOSHIBA HDWF180': 51, 'ST12000NM0117': 30, 'WDC WD5000BPKT': 30, 'ST14000NM0018': 15, 'TOSHIBA HDWE160': 12, 'Seagate BarraCuda SSD ZA2000CM10002': 12, 'SSDSCKKB480G8R': 12, 'ST6000DM001': 12, 'WDC WD60EFRX': 9, 'Hitachi HDS5C4040ALE630': 9, 'MTFDDAV240TDU': 6, 'HGST HMS5C4040BLE641': 3, 'ST1000LM024 HN': 3, 'ST6000DM004': 3, 'ST8000DM004': 3}\n",
            "\n",
            "**************************************************\n",
            "(496415, 2)\n",
            "(331008, 2)\n"
          ]
        }
      ],
      "source": [
        "# Response encoding the 'model' feature.\n",
        "values, TR, FA = res_fit(Train['model'], Train['failure'].values)\n",
        "print(values)\n",
        "print()\n",
        "Train_model = res_transform(Train['model'], TR, FA)\n",
        "Val_model = res_transform(Val['model'], TR, FA)\n",
        "print('*'*50)\n",
        "print(Train_model.shape)\n",
        "print(Val_model.shape)"
      ]
    },
    {
      "cell_type": "code",
      "execution_count": null,
      "metadata": {
        "colab": {
          "base_uri": "https://localhost:8080/",
          "height": 364
        },
        "id": "ZRn1AKVA9Toz",
        "outputId": "2a815446-da3e-4b92-f589-b083bc38cb94"
      },
      "outputs": [
        {
          "output_type": "stream",
          "name": "stderr",
          "text": [
            "WARNING:matplotlib.legend:No handles with labels found to put in legend.\n"
          ]
        },
        {
          "output_type": "stream",
          "name": "stdout",
          "text": [
            "0    496406\n",
            "1         9\n",
            "Name: failure, dtype: int64\n"
          ]
        },
        {
          "output_type": "display_data",
          "data": {
            "text/plain": [
              "<Figure size 432x288 with 1 Axes>"
            ],
            "image/png": "[encoded data removed]"
          },
          "metadata": {
            "needs_background": "light"
          }
        }
      ],
      "source": [
        "# Checking the balance of the Train Dataset.\n",
        "total = len(Train)\n",
        "print(Train.failure.value_counts())\n",
        "ax = sns.countplot(x = 'failure', data = Train)\n",
        "for p in ax.patches:\n",
        "  ax.annotate('{}'.format(p.get_height()), (p.get_x()+0.25, p.get_height()+5))\n",
        "ax.yaxis.set_ticks(np.linspace(0, total, 11))\n",
        "plt.legend()\n",
        "plt.title(\"Failure Counts\")\n",
        "plt.show()"
      ]
    },
    {
      "cell_type": "code",
      "execution_count": null,
      "metadata": {
        "colab": {
          "base_uri": "https://localhost:8080/",
          "height": 364
        },
        "id": "QYjz4-iJ9ftm",
        "outputId": "7eb43603-28e1-41ce-bced-1e1d262dcf14"
      },
      "outputs": [
        {
          "output_type": "stream",
          "name": "stderr",
          "text": [
            "WARNING:matplotlib.legend:No handles with labels found to put in legend.\n"
          ]
        },
        {
          "output_type": "stream",
          "name": "stdout",
          "text": [
            "0    330993\n",
            "1        15\n",
            "Name: failure, dtype: int64\n"
          ]
        },
        {
          "output_type": "display_data",
          "data": {
            "text/plain": [
              "<Figure size 432x288 with 1 Axes>"
            ],
            "image/png": "[encoded data removed]"
          },
          "metadata": {
            "needs_background": "light"
          }
        }
      ],
      "source": [
        "# Checking the balance of the Val Dataset.\n",
        "total = len(Val)\n",
        "print(Val.failure.value_counts())\n",
        "ax = sns.countplot(x = 'failure', data = Val)\n",
        "for p in ax.patches:\n",
        "  ax.annotate('{}'.format(p.get_height()), (p.get_x()+0.25, p.get_height()+5))\n",
        "ax.yaxis.set_ticks(np.linspace(0, total, 11))\n",
        "plt.legend()\n",
        "plt.title(\"Failure Counts\")\n",
        "plt.show()"
      ]
    },
    {
      "cell_type": "markdown",
      "metadata": {
        "id": "2zZY14OkzpMd"
      },
      "source": [
        "From the above, it is found that Dataset is highly imbalanced with class 1 (i.e. HDD is failure) as minority."
      ]
    },
    {
      "cell_type": "code",
      "execution_count": null,
      "metadata": {
        "id": "nljjqfZ79xGn"
      },
      "outputs": [],
      "source": [
        "#del Data"
      ]
    },
    {
      "cell_type": "code",
      "execution_count": null,
      "metadata": {
        "id": "MVAMFSxJdncm"
      },
      "outputs": [],
      "source": [
        "#Train.drop('smart_241_normalized', axis = 1, inplace = True)\n",
        "#Val.drop('smart_241_normalized', axis = 1, inplace = True)"
      ]
    },
    {
      "cell_type": "markdown",
      "metadata": {
        "id": "d3yK3kWBr5Vh"
      },
      "source": [
        "# 6. Upsampling of Minority Class of Train using SMOTE\n",
        "\n",
        "\n",
        "\n"
      ]
    },
    {
      "cell_type": "markdown",
      "metadata": {
        "id": "Udw33iYPKy1A"
      },
      "source": [
        "> Instead of upsampling the minority class by normal sampling (i.e. creating duplicates of same points) SMOTE technique is used as upsampling technique as it upsamples by interpolation."
      ]
    },
    {
      "cell_type": "code",
      "execution_count": null,
      "metadata": {
        "id": "cfRuGFdV96K9"
      },
      "outputs": [],
      "source": [
        "X_Train_orig = Train.drop(f, axis = 1).values\n",
        "Y_Train_orig = Train.failure.values\n",
        "X_Val_orig = Val.drop(f, axis = 1).values\n",
        "Y_Val_orig = Val.failure.values"
      ]
    },
    {
      "cell_type": "code",
      "execution_count": null,
      "metadata": {
        "colab": {
          "base_uri": "https://localhost:8080/"
        },
        "id": "AdqDxKPifOVJ",
        "outputId": "cf202f76-c628-43d1-ffe3-74646b0a95cd"
      },
      "outputs": [
        {
          "output_type": "execute_result",
          "data": {
            "text/plain": [
              "((496415, 50), (496415,))"
            ]
          },
          "metadata": {},
          "execution_count": 133
        }
      ],
      "source": [
        "X_Train_orig.shape, Y_Train_orig.shape"
      ]
    },
    {
      "cell_type": "code",
      "execution_count": null,
      "metadata": {
        "colab": {
          "base_uri": "https://localhost:8080/"
        },
        "id": "v4rPjqq1-eij",
        "outputId": "320eeb49-39c3-419d-bace-a00d8cb5e746"
      },
      "outputs": [
        {
          "output_type": "execute_result",
          "data": {
            "text/plain": [
              "((331008, 50), (331008,))"
            ]
          },
          "metadata": {},
          "execution_count": 134
        }
      ],
      "source": [
        "X_Val_orig.shape, Y_Val_orig.shape"
      ]
    },
    {
      "cell_type": "code",
      "execution_count": null,
      "metadata": {
        "colab": {
          "base_uri": "https://localhost:8080/"
        },
        "id": "oLm712gdq87g",
        "outputId": "02687282-5e90-4dd8-def3-127dab5fa95d"
      },
      "outputs": [
        {
          "output_type": "execute_result",
          "data": {
            "text/plain": [
              "((496415, 52), (331008, 52))"
            ]
          },
          "metadata": {},
          "execution_count": 135
        }
      ],
      "source": [
        "# Stacking the response encoded array with respective Train and Val dataset.\n",
        "X_Train_orig = np.hstack((X_Train_orig, Train_model))\n",
        "X_Val_orig = np.hstack((X_Val_orig, Val_model))\n",
        "X_Train_orig.shape, X_Val_orig.shape"
      ]
    },
    {
      "cell_type": "code",
      "execution_count": null,
      "metadata": {
        "id": "UpWqZuTZGbP7"
      },
      "outputs": [],
      "source": [
        "del Train_model\n",
        "del Val_model"
      ]
    },
    {
      "cell_type": "code",
      "execution_count": null,
      "metadata": {
        "colab": {
          "base_uri": "https://localhost:8080/"
        },
        "id": "kn2-CUWfg7Ha",
        "outputId": "41d443b6-49dc-40ec-9b20-9889ff21ca7b"
      },
      "outputs": [
        {
          "output_type": "execute_result",
          "data": {
            "text/plain": [
              "(Counter({0: 496406, 1: 9}), Counter({0: 330993, 1: 15}))"
            ]
          },
          "metadata": {},
          "execution_count": 137
        }
      ],
      "source": [
        "Counter(Y_Train_orig), Counter(Y_Val_orig)"
      ]
    },
    {
      "cell_type": "code",
      "execution_count": null,
      "metadata": {
        "id": "HPbTQ3VZg8aH"
      },
      "outputs": [],
      "source": [
        "# SMOTE sampling\n",
        "# class imblearn.over_sampling.SMOTE(sampling_strategy='auto', random_state=None, k_neighbors=5, m_neighbors='deprecated', out_step='deprecated', kind='deprecated', svm_estimator='deprecated', n_jobs=1, ratio=None)\n",
        "# k_neighbors (default=5) : number of nearest neighbours to used to construct synthetic samples.\n",
        "from imblearn.under_sampling import RandomUnderSampler\n",
        "from imblearn.pipeline import Pipeline\n",
        "\n",
        "under = RandomUnderSampler(sampling_strategy = 0.8)\n",
        "over_smote = SMOTE(n_jobs = -1, k_neighbors = 1, sampling_strategy = 0.5)\n",
        "steps = [('o', over_smote), ('u', under)]\n",
        "pipeline = Pipeline(steps = steps)"
      ]
    },
    {
      "cell_type": "code",
      "execution_count": null,
      "metadata": {
        "id": "rGmZBD2phFh4"
      },
      "outputs": [],
      "source": [
        "# SMOTE oversampling is applied on Train dataset as per oversampling concepts.\n",
        "# Since Val dataset is also highly imbalanced, regular oversampling is applied(i.e creating duplicates of minority class)\n",
        "\n",
        "x_train_sam, y_train_sam = pipeline.fit_resample(X_Train_orig, Y_Train_orig) # Resampling the Training Data by oversampling the minority class using SMOTE \n",
        "#and undersampling the majority class.\n",
        "x_val, y_val = X_Val_orig, Y_Val_orig"
      ]
    },
    {
      "cell_type": "code",
      "execution_count": null,
      "metadata": {
        "colab": {
          "base_uri": "https://localhost:8080/"
        },
        "id": "HvaU_DlWhRX1",
        "outputId": "21725b6f-188d-4558-8e01-3c846824d510"
      },
      "outputs": [
        {
          "output_type": "execute_result",
          "data": {
            "text/plain": [
              "((558456, 52), (558456,))"
            ]
          },
          "metadata": {},
          "execution_count": 140
        }
      ],
      "source": [
        "x_train_sam.shape, y_train_sam.shape # Final shape of Train datapoints."
      ]
    },
    {
      "cell_type": "code",
      "execution_count": null,
      "metadata": {
        "colab": {
          "base_uri": "https://localhost:8080/"
        },
        "id": "zVsgKmeAACO-",
        "outputId": "55bc287e-22fa-4176-8988-917505583f10"
      },
      "outputs": [
        {
          "output_type": "execute_result",
          "data": {
            "text/plain": [
              "((331008, 52), (331008,))"
            ]
          },
          "metadata": {},
          "execution_count": 141
        }
      ],
      "source": [
        "x_val.shape, y_val.shape # Final shape of Val datapoints."
      ]
    },
    {
      "cell_type": "code",
      "execution_count": null,
      "metadata": {
        "colab": {
          "base_uri": "https://localhost:8080/",
          "height": 298
        },
        "id": "CFmCkWbefdYi",
        "outputId": "c717b03b-6250-4add-da94-2f8782e92022"
      },
      "outputs": [
        {
          "output_type": "stream",
          "name": "stdout",
          "text": [
            "Counter({0: 310253, 1: 248203})\n"
          ]
        },
        {
          "output_type": "display_data",
          "data": {
            "text/plain": [
              "<Figure size 432x288 with 1 Axes>"
            ],
            "image/png": "[encoded data removed]"
          },
          "metadata": {
            "needs_background": "light"
          }
        }
      ],
      "source": [
        "# Visualization after balancing Train Dataset.\n",
        "total = len(X_Train_orig)\n",
        "print(Counter(y_train_sam))\n",
        "ax = sns.countplot(y_train_sam)\n",
        "for p in ax.patches:\n",
        "  ax.annotate('{}'.format(p.get_height()), (p.get_x()+0.25, p.get_height()+5))\n",
        "\n",
        "ax.yaxis.set_ticks(np.linspace(0, total, 11))\n",
        "plt.title(\"Failure counts after sampling\")\n",
        "plt.show()"
      ]
    },
    {
      "cell_type": "code",
      "execution_count": null,
      "metadata": {
        "colab": {
          "base_uri": "https://localhost:8080/",
          "height": 298
        },
        "id": "vNkJypyqALV-",
        "outputId": "bd90ab39-54e7-48dd-e3f1-efd7439b1132"
      },
      "outputs": [
        {
          "output_type": "stream",
          "name": "stdout",
          "text": [
            "Counter({0: 330993, 1: 15})\n"
          ]
        },
        {
          "output_type": "display_data",
          "data": {
            "text/plain": [
              "<Figure size 432x288 with 1 Axes>"
            ],
            "image/png": "[encoded data removed]"
          },
          "metadata": {
            "needs_background": "light"
          }
        }
      ],
      "source": [
        "# Visualization after balancing Val Dataset.\n",
        "total = len(X_Val_orig)\n",
        "print(Counter(y_val))\n",
        "ax = sns.countplot(y_val)\n",
        "for p in ax.patches:\n",
        "  ax.annotate('{}'.format(p.get_height()), (p.get_x()+0.25, p.get_height()+5))\n",
        "\n",
        "ax.yaxis.set_ticks(np.linspace(0, total, 11))\n",
        "plt.title(\"Failure counts after sampling\")\n",
        "plt.show()"
      ]
    },
    {
      "cell_type": "markdown",
      "metadata": {
        "id": "USW9WhReu7eP"
      },
      "source": [
        "From the above it is seen that, after oversampling both classes are balanced."
      ]
    },
    {
      "cell_type": "markdown",
      "metadata": {
        "id": "eT72b-HvAx2T"
      },
      "source": [
        "# 7. Standardization:"
      ]
    },
    {
      "cell_type": "code",
      "execution_count": null,
      "metadata": {
        "id": "2Lx2yzno3sgG"
      },
      "outputs": [],
      "source": [
        "from sklearn.preprocessing import Normalizer, StandardScaler\n",
        "normalizer = Normalizer()\n",
        "sc = StandardScaler()"
      ]
    },
    {
      "cell_type": "code",
      "execution_count": null,
      "metadata": {
        "id": "RuQGHLW9BA7w"
      },
      "outputs": [],
      "source": [
        "# Standardizing both Train and Val Dataset.\n",
        "sc.fit(x_train_sam)\n",
        "\n",
        "X_train_standard = sc.transform(x_train_sam)\n",
        "X_val_standard = sc.transform(x_val)"
      ]
    },
    {
      "cell_type": "code",
      "execution_count": null,
      "metadata": {
        "colab": {
          "base_uri": "https://localhost:8080/"
        },
        "id": "LJUGKcCcYVl_",
        "outputId": "7ed51831-9f5d-40c1-b5c4-2144a6743d0c"
      },
      "outputs": [
        {
          "output_type": "stream",
          "name": "stdout",
          "text": [
            "Train 8.138576058221481e-11 1.00000000000069\n",
            "Val 0.022280775477222937 1.0338737521436392\n",
            "(558456, 52) (331008, 52)\n"
          ]
        }
      ],
      "source": [
        "print(\"Train\", np.mean(X_train_standard), np.std(X_train_standard))\n",
        "print(\"Val\", np.mean(X_val_standard), np.std(X_val_standard))\n",
        "print(X_train_standard.shape, X_val_standard.shape)"
      ]
    },
    {
      "cell_type": "code",
      "execution_count": null,
      "metadata": {
        "colab": {
          "base_uri": "https://localhost:8080/"
        },
        "id": "cTOUclsgIIAD",
        "outputId": "4690a5ff-01bf-4fae-fe97-53409e614578"
      },
      "outputs": [
        {
          "output_type": "execute_result",
          "data": {
            "text/plain": [
              "array([-0.69957378,  1.32236923,  0.33758865, -0.48583706,  0.28991213,\n",
              "       -0.11153156,  0.29029252, -0.33428923,  0.14541655, -0.00203615,\n",
              "        0.81691176, -0.95441558,  0.264358  , -0.01516239,  0.01869521,\n",
              "       -0.69564299, -0.65687034, -0.00263455,  1.05747809, -0.13293667,\n",
              "        0.75547886, -0.03640348,  0.74217297,  0.73490165, -0.01797713,\n",
              "       -0.22845721,  0.42944151, -0.35027538, -0.62696785, -0.01494602,\n",
              "       -0.68949209, -0.0081794 ,  0.26599415, -0.24007113,  0.26530395,\n",
              "       -0.2394277 ,  0.32645605, -0.01024398,  0.56756785, -0.62358732,\n",
              "        0.67798968,  0.34407019,  0.67799528, -0.41761244,  0.68501445,\n",
              "        0.72139117,  0.13874333,  0.30765032,  0.73025154,  0.63389327,\n",
              "       -0.45268544,  0.45268544])"
            ]
          },
          "metadata": {},
          "execution_count": 147
        }
      ],
      "source": [
        "X_val_standard[0]"
      ]
    },
    {
      "cell_type": "markdown",
      "metadata": {
        "id": "ibqu809NDoqf"
      },
      "source": [
        "# 8. Test Dataset"
      ]
    },
    {
      "cell_type": "code",
      "execution_count": null,
      "metadata": {
        "colab": {
          "base_uri": "https://localhost:8080/"
        },
        "id": "hy7C32blKL5V",
        "outputId": "39a9b20c-70d6-45dd-bbcf-93ae2e812a1d"
      },
      "outputs": [
        {
          "output_type": "execute_result",
          "data": {
            "text/plain": [
              "(330211, 149)"
            ]
          },
          "metadata": {},
          "execution_count": 148
        }
      ],
      "source": [
        "# Creating the Test Dataset to check performance of the model.\n",
        "# Test data is from 2021-01-06 to 2019-01-07\n",
        "\n",
        "Dates = ['07']\n",
        "Test = pd.read_csv(\"/content/drive/My Drive/hdddata/2021/2021-01-06.csv\")\n",
        "for i in Dates:\n",
        "  Test = Test.append(pd.read_csv(\"/content/drive/My Drive/hdddata/2021/2021-01-\" + i + \".csv\"))\n",
        "\n",
        "# Test = pd.read_csv(\"/content/drive/My Drive/hdddata/2021/2021-01-06.csv\")\n",
        "# Test = Test.append(pd.read_csv(\"/content/drive/My Drive/hdddata/2021/2021-01-07\"))\n",
        "\n",
        "Test.reset_index(inplace = True)\n",
        "Test.drop('index', axis = 1, inplace = True)\n",
        "Test.shape"
      ]
    },
    {
      "cell_type": "code",
      "execution_count": null,
      "metadata": {
        "colab": {
          "base_uri": "https://localhost:8080/"
        },
        "id": "-6w9KFRDoO6m",
        "outputId": "fa66b955-ab1d-45fa-d5a7-4bca9adeb6d5"
      },
      "outputs": [
        {
          "output_type": "execute_result",
          "data": {
            "text/plain": [
              "0    330204\n",
              "1         7\n",
              "Name: failure, dtype: int64"
            ]
          },
          "metadata": {},
          "execution_count": 149
        }
      ],
      "source": [
        "Test.failure.value_counts()"
      ]
    },
    {
      "cell_type": "code",
      "execution_count": null,
      "metadata": {
        "colab": {
          "base_uri": "https://localhost:8080/"
        },
        "id": "2ZAlaYf6KLyS",
        "outputId": "4b35afbd-e82a-4af8-81a4-7a699e678b9f"
      },
      "outputs": [
        {
          "output_type": "execute_result",
          "data": {
            "text/plain": [
              "(330211, 49)"
            ]
          },
          "metadata": {},
          "execution_count": 150
        }
      ],
      "source": [
        "# Preprocessing of Test Data.\n",
        "Test.drop(Initial[Null], axis = 1, inplace = True)\n",
        "Test.drop(M_features[index], axis = 1, inplace = True)\n",
        "Test.shape"
      ]
    },
    {
      "cell_type": "code",
      "execution_count": null,
      "metadata": {
        "colab": {
          "base_uri": "https://localhost:8080/"
        },
        "id": "k7bGNfZprH7P",
        "outputId": "b51ec2fb-3c19-4ad7-a290-9195da587a95"
      },
      "outputs": [
        {
          "output_type": "stream",
          "name": "stdout",
          "text": [
            "(330211, 49)\n",
            "(330155, 49)\n"
          ]
        }
      ],
      "source": [
        "print(Test.shape)\n",
        "Test.drop(np.where(Test['capacity_bytes'] == -1)[0], inplace = True)\n",
        "print(Test.shape)"
      ]
    },
    {
      "cell_type": "code",
      "execution_count": null,
      "metadata": {
        "colab": {
          "base_uri": "https://localhost:8080/"
        },
        "id": "ds6QtRN0TV6L",
        "outputId": "451edb11-5ef4-47ff-b8eb-c2b638d894d0"
      },
      "outputs": [
        {
          "output_type": "execute_result",
          "data": {
            "text/plain": [
              "0    330148\n",
              "1         7\n",
              "Name: failure, dtype: int64"
            ]
          },
          "metadata": {},
          "execution_count": 152
        }
      ],
      "source": [
        "Test.failure.value_counts()"
      ]
    },
    {
      "cell_type": "code",
      "execution_count": null,
      "metadata": {
        "id": "W9w_Ez_nsw2u"
      },
      "outputs": [],
      "source": [
        "Test = Test.fillna(0)"
      ]
    },
    {
      "cell_type": "code",
      "execution_count": null,
      "metadata": {
        "colab": {
          "base_uri": "https://localhost:8080/"
        },
        "id": "UofI_2KBnmvt",
        "outputId": "dfe67878-92ed-4819-9df8-067067420bc7"
      },
      "outputs": [
        {
          "output_type": "execute_result",
          "data": {
            "text/plain": [
              "(330155, 55)"
            ]
          },
          "metadata": {},
          "execution_count": 154
        }
      ],
      "source": [
        "for i in cf:\n",
        "   n = re.findall('\\d+',i) \n",
        "   s = 'smart_' + ''.join(n) + '_sig'\n",
        "   Test[s] = Test[i].apply(Sigmoid)\n",
        "Test.shape"
      ]
    },
    {
      "cell_type": "code",
      "execution_count": null,
      "metadata": {
        "id": "GDmdT8u5nmhL"
      },
      "outputs": [],
      "source": [
        "Test_model = res_transform(Test['model'], TR, FA)"
      ]
    },
    {
      "cell_type": "code",
      "execution_count": null,
      "metadata": {
        "id": "r5-dHoXaobSS"
      },
      "outputs": [],
      "source": [
        "X_Test_orig = Test.drop(f, axis = 1).values\n",
        "Y_Test_orig = Test.failure.values"
      ]
    },
    {
      "cell_type": "code",
      "execution_count": null,
      "metadata": {
        "colab": {
          "base_uri": "https://localhost:8080/"
        },
        "id": "-LbqqfhvobI8",
        "outputId": "117cb4cc-e6c7-4652-d906-8efcfed94e4c"
      },
      "outputs": [
        {
          "output_type": "execute_result",
          "data": {
            "text/plain": [
              "(330155, 52)"
            ]
          },
          "metadata": {},
          "execution_count": 157
        }
      ],
      "source": [
        "X_Test_orig = np.hstack((X_Test_orig, Test_model))\n",
        "X_Test_orig.shape"
      ]
    },
    {
      "cell_type": "code",
      "execution_count": null,
      "metadata": {
        "id": "7GuNFmP-uRoe"
      },
      "outputs": [],
      "source": [
        "x_test, y_test = X_Test_orig, Y_Test_orig"
      ]
    },
    {
      "cell_type": "code",
      "execution_count": null,
      "metadata": {
        "colab": {
          "base_uri": "https://localhost:8080/"
        },
        "id": "mN7ts7SWFq8I",
        "outputId": "c9f638de-5260-4e48-ee7a-32e203c1dcea"
      },
      "outputs": [
        {
          "output_type": "execute_result",
          "data": {
            "text/plain": [
              "(330155, 52)"
            ]
          },
          "metadata": {},
          "execution_count": 159
        }
      ],
      "source": [
        "x_test.shape"
      ]
    },
    {
      "cell_type": "code",
      "execution_count": null,
      "metadata": {
        "colab": {
          "base_uri": "https://localhost:8080/"
        },
        "id": "dA8Unaz6F7f0",
        "outputId": "3349681e-2dab-49bc-aae6-0ecbcd6cc7fc"
      },
      "outputs": [
        {
          "output_type": "execute_result",
          "data": {
            "text/plain": [
              "Counter({0: 330148, 1: 7})"
            ]
          },
          "metadata": {},
          "execution_count": 160
        }
      ],
      "source": [
        "(Counter(y_test))"
      ]
    },
    {
      "cell_type": "code",
      "execution_count": null,
      "metadata": {
        "colab": {
          "base_uri": "https://localhost:8080/"
        },
        "id": "hcDmxKp4pFXX",
        "outputId": "94044443-f528-4402-869e-ab227d9594d1"
      },
      "outputs": [
        {
          "output_type": "execute_result",
          "data": {
            "text/plain": [
              "(330155, 52)"
            ]
          },
          "metadata": {},
          "execution_count": 161
        }
      ],
      "source": [
        "# Standardisation of Test Dataset.\n",
        "X_test_standard = sc.transform(x_test)\n",
        "X_test_standard.shape"
      ]
    },
    {
      "cell_type": "markdown",
      "metadata": {
        "id": "0XaXwc65r-VD"
      },
      "source": [
        "# 9. Modelling"
      ]
    },
    {
      "cell_type": "code",
      "execution_count": null,
      "metadata": {
        "id": "Hh6aUpAKrgDH"
      },
      "outputs": [],
      "source": [
        "import warnings\n",
        "warnings.filterwarnings(\"ignore\")\n",
        "from random import sample, choice\n",
        "from tqdm import tqdm\n",
        "\n",
        "from sklearn.linear_model import LogisticRegression\n",
        "from sklearn.metrics import roc_auc_score, confusion_matrix, precision_score, recall_score, roc_curve, auc, classification_report, f1_score, precision_recall_curve\n",
        "from scipy.stats import randint as sp_randint, uniform\n",
        "from sklearn.model_selection import RandomizedSearchCV, StratifiedKFold\n",
        "from sklearn.calibration import CalibratedClassifierCV\n",
        "from sklearn.ensemble import StackingClassifier\n",
        "from sklearn.linear_model import SGDClassifier\n",
        "from sklearn.kernel_approximation import Nystroem\n",
        "from sklearn.svm import LinearSVC\n",
        "\n",
        "balance = [{0:1,1:10}, {0:1,1:100}, {0:1,1:1000}, {0:1,1:10000}, {0:10,1:100000}]"
      ]
    },
    {
      "cell_type": "code",
      "execution_count": null,
      "metadata": {
        "id": "3drECh-zrksQ"
      },
      "outputs": [],
      "source": [
        "# This function is used to plot Cofusion Matrix, Precision Matrix and Recall Matrix.\n",
        "def plot_matrices(Y, Y_Pred):\n",
        "    C = confusion_matrix(Y, Y_Pred) # Confusion Matrix\n",
        "    \n",
        "    A =(((C.T)/(C.sum(axis=1))).T) # Calculating Recall Matrix\n",
        "    \n",
        "    B =(C/C.sum(axis=0)) # Calculating Precision Matrix\n",
        "    plt.figure(figsize=(20,4))\n",
        "    \n",
        "    labels = [0,1]\n",
        "    # representing A in heatmap format\n",
        "    cmap=sns.light_palette(\"blue\")\n",
        "    plt.subplot(1, 3, 1)\n",
        "    sns.heatmap(C, annot=True, cmap=cmap, fmt=\".3f\", xticklabels=labels, yticklabels=labels)\n",
        "    plt.xlabel('Predicted Class')\n",
        "    plt.ylabel('Original Class')\n",
        "    plt.title(\"Confusion matrix\")\n",
        "    \n",
        "    plt.subplot(1, 3, 2)\n",
        "    sns.heatmap(B, annot=True, cmap=cmap, fmt=\".3f\", xticklabels=labels, yticklabels=labels)\n",
        "    plt.xlabel('Predicted Class')\n",
        "    plt.ylabel('Original Class')\n",
        "    plt.title(\"Precision matrix\")\n",
        "    print(\"Sum of columns in precision matrix\",B.sum(axis=0))\n",
        "    \n",
        "    plt.subplot(1, 3, 3)\n",
        "    # representing B in heatmap format\n",
        "    sns.heatmap(A, annot=True, cmap=cmap, fmt=\".3f\", xticklabels=labels, yticklabels=labels)\n",
        "    plt.xlabel('Predicted Class')\n",
        "    plt.ylabel('Original Class')\n",
        "    plt.title(\"Recall matrix\")\n",
        "    print(\"Sum of rows in recall matrix\",A.sum(axis=1))\n",
        "    \n",
        "    plt.show()\n"
      ]
    },
    {
      "cell_type": "code",
      "execution_count": null,
      "metadata": {
        "id": "fg3-Y1ZOroMB"
      },
      "outputs": [],
      "source": [
        "# This function prints the metrics of the model.\n",
        "def Metrics(model, X, Y, threshold):\n",
        "    y_pred_prob = model.predict_proba(X)[:, 1]\n",
        "    y_pred = model.predict(X)\n",
        "\n",
        "    print(\"The Prescision Score: \", precision_score(Y, predict_with_best_t(y_pred_prob, threshold)))\n",
        "    print(\"The Recall Score: \", recall_score(Y, predict_with_best_t(y_pred_prob, threshold)))\n",
        "    print(\"The ROC Score: \", roc_auc_score(Y, y_pred_prob))\n",
        "    print(\"The F1 Score: \", f1_score(Y, predict_with_best_t(y_pred_prob, threshold)))\n",
        "    print('*'*100)\n",
        "    print(classification_report(Y, predict_with_best_t(y_pred_prob, threshold)))\n",
        "    print('*'*100)\n",
        "    plot_matrices(Y, predict_with_best_t(y_pred_prob, threshold))"
      ]
    },
    {
      "cell_type": "code",
      "execution_count": null,
      "metadata": {
        "id": "TRwipCbh6sZn"
      },
      "outputs": [],
      "source": [
        "def to_labels(pos_probs, threshold):\n",
        "\treturn (pos_probs >= threshold).astype('int')"
      ]
    },
    {
      "cell_type": "code",
      "execution_count": null,
      "metadata": {
        "id": "cHwuTub86tb-"
      },
      "outputs": [],
      "source": [
        "def find_best_threshold(threshould, fpr, tpr):\n",
        "    # This function finds the optimal threshold value based on G-Mean metric\n",
        "    # The Geometric Mean or G-Mean is a metric for imbalanced classification that, if optimized, will seek a balance between the sensitivity and the specificity.\n",
        "    # Ref: https://machinelearningmastery.com/threshold-moving-for-imbalanced-classification/\n",
        "    t = threshould[np.argmax(np.sqrt(tpr*(1-fpr)))]\n",
        "    # sqrt(tpr*(1-fpr)) will be maximum if your fpr is very low and tpr is very high\n",
        "    print(\"the maximum value of sqrt(tpr*(1-fpr))\", max(np.sqrt(tpr*(1-fpr))), \"for threshold\", np.round(t,3))\n",
        "    return t\n",
        "\n",
        "def predict_with_best_t(proba, threshould): # This function predicts class labels based on the optimal threshold value.\n",
        "    predictions = []\n",
        "    for i in proba:\n",
        "        if i>=threshould:\n",
        "            predictions.append(1)\n",
        "        else:\n",
        "            predictions.append(0)\n",
        "    return predictions\n",
        "\n",
        "def BEST(trainscores, testscores, TR, Models): # This function is used to get the best model based on the highest test score.\n",
        "  ind = np.argmax(testscores)\n",
        "  test_score = testscores[ind]\n",
        "  train_score = trainscores[ind]\n",
        "  threshold = TR[ind]\n",
        "  best_est = Models[ind]\n",
        "  return test_score, train_score, threshold, best_est"
      ]
    },
    {
      "cell_type": "markdown",
      "metadata": {
        "id": "mvlWAduJbQO8"
      },
      "source": [
        "# 9.2. SVC"
      ]
    },
    {
      "cell_type": "markdown",
      "metadata": {
        "id": "FpQ2t7JCm3lE"
      },
      "source": [
        "\n",
        "\n",
        "> Since Training data is large enough, both libsvm and liblinear solver tends to get hang more time on training the model. Thus, SGD classifier with hinge loss is used as linear SVC.\n",
        "\n",
        "> As libsvm will take more time on training, kernel SVC are modelled as follows:\n",
        "\n",
        "1.   Fitting the kernel trick on Training data using sklearn's Nystroem library and then transforming the train, val and test data. This kernel transformation is same as kernel trick done by sklearn svm.\n",
        "Ref : https://scikit-learn.org/stable/modules/generated/sklearn.kernel_approximation.Nystroem.html#sklearn.kernel_approximation.Nystroem\n",
        "2.   Then fitting the linear SVC(SGD classifier) over the transformed Data.\n",
        "\n",
        "\n",
        "\n",
        "\n",
        "\n"
      ]
    },
    {
      "cell_type": "code",
      "execution_count": null,
      "metadata": {
        "colab": {
          "base_uri": "https://localhost:8080/"
        },
        "id": "sZTTXX1L4ZKX",
        "outputId": "fcebd09a-5a6d-4f7f-97b2-a738ddbc619d"
      },
      "outputs": [
        {
          "output_type": "execute_result",
          "data": {
            "text/plain": [
              "{'alpha': [0.0001,\n",
              "  0.001,\n",
              "  0.01,\n",
              "  0.1,\n",
              "  1,\n",
              "  10.0,\n",
              "  100.0,\n",
              "  1000.0,\n",
              "  10000.0,\n",
              "  100000.0],\n",
              " 'penalty': ['l1', 'l2', 'elasticnet'],\n",
              " 'l1_ratio': [0.06346710398165645,\n",
              "  0.1581392691189918,\n",
              "  0.3287129279158896,\n",
              "  0.46947362277793103,\n",
              "  0.482671849748752,\n",
              "  0.5288145562348497,\n",
              "  0.5617889492226862,\n",
              "  0.7064166101384032,\n",
              "  0.9089349375073855,\n",
              "  0.912580034882105],\n",
              " 'class_weight': [{0: 1, 1: 10},\n",
              "  {0: 1, 1: 100},\n",
              "  {0: 1, 1: 1000},\n",
              "  {0: 1, 1: 10000},\n",
              "  {0: 10, 1: 100000}],\n",
              " 'kernel': ['linear', 'poly', 'rbf', 'sigmoid'],\n",
              " 'degree': [2, 2, 3, 3, 3, 4, 4, 4, 5, 6],\n",
              " 'gamma': [1.866035726840779,\n",
              "  2.835937944607548,\n",
              "  3.0525080076673206,\n",
              "  3.8244582473624145,\n",
              "  4.241920337274623,\n",
              "  4.845203354053015,\n",
              "  6.758301236951882,\n",
              "  7.235434264478771,\n",
              "  9.240919822607832,\n",
              "  9.90301741277203],\n",
              " 'n_components': [30, 60, 90, 120, 150, 180, 210, 240, 270, 300]}"
            ]
          },
          "metadata": {},
          "execution_count": 167
        }
      ],
      "source": [
        "# Hyperparameter tuning of SGD Classifier and Kernel transformation\n",
        "param = {'alpha' : [1e-4, 1e-3, 1e-2, 1e-1, 1, 1e1, 1e2, 1e3, 1e4, 1e5],\n",
        "         'penalty' : ['l1', 'l2', 'elasticnet'],\n",
        "         'l1_ratio' : list(np.sort(np.random.uniform(0, 1, 10))),\n",
        "         'class_weight' : balance,\n",
        "         'kernel' : ['linear', 'poly', 'rbf', 'sigmoid'],\n",
        "         'degree' : list(np.sort(np.random.randint(1, 7, 10))),\n",
        "         'gamma' : list(np.sort(np.random.uniform(0, 10, 10))),\n",
        "         'n_components' : list(30 * np.arange(1, 11))}\n",
        "svc = SGDClassifier(loss='hinge', n_jobs = -1)\n",
        "feature_map = Nystroem(random_state=1) # Initialising the kernel transformer.\n",
        "param"
      ]
    },
    {
      "cell_type": "markdown",
      "metadata": {
        "id": "jzWL5J-bpliL"
      },
      "source": [
        "This custom Random SearchCV is built on the original Training dataset with stratifiedkfold split where at each fold the generated training data is sampled and trained with assigned parameter and evaluated on the generated unsampled val data using f1-score metric."
      ]
    },
    {
      "cell_type": "code",
      "execution_count": null,
      "metadata": {
        "colab": {
          "base_uri": "https://localhost:8080/"
        },
        "id": "4uga8ExEbQPE",
        "outputId": "72a0b586-a624-4c05-b72e-270937696f27"
      },
      "outputs": [
        {
          "metadata": {
            "tags": null
          },
          "name": "stderr",
          "output_type": "stream",
          "text": [
            "\r  0%|          | 0/10 [00:00<?, ?it/s]"
          ]
        },
        {
          "metadata": {
            "tags": null
          },
          "name": "stdout",
          "output_type": "stream",
          "text": [
            "\n",
            "B Counter({0: 446765, 1: 8})\n",
            "A Counter({0: 279227, 1: 223382})\n",
            "Test 0.0\n",
            "Train 0.9928110951357669\n",
            "\n",
            "B Counter({0: 446765, 1: 8})\n",
            "A Counter({0: 279227, 1: 223382})\n",
            "Test 0.0\n",
            "Train 0.9915705274745762\n",
            "\n",
            "B Counter({0: 446765, 1: 8})\n",
            "A Counter({0: 279227, 1: 223382})\n",
            "Test 0.0024330900243309\n",
            "Train 0.9894710731355117\n",
            "\n",
            "B Counter({0: 446765, 1: 8})\n",
            "A Counter({0: 279227, 1: 223382})\n",
            "Test 0.0025380710659898475\n",
            "Train 0.9903001285631955\n",
            "\n",
            "B Counter({0: 446765, 1: 8})\n",
            "A Counter({0: 279227, 1: 223382})\n",
            "Test 0.0\n",
            "Train 0.9900913187988152\n",
            "\n",
            "B Counter({0: 446765, 1: 9})\n",
            "A Counter({0: 279227, 1: 223382})\n",
            "Test 0.0\n",
            "Train 0.9880661712668083\n",
            "\n",
            "B Counter({0: 446766, 1: 8})\n",
            "A Counter({0: 279228, 1: 223383})\n",
            "Test 0.0\n",
            "Train 0.991449539411343\n",
            "\n",
            "B Counter({0: 446766, 1: 8})\n",
            "A Counter({0: 279228, 1: 223383})\n",
            "Test 0.0016694490818030048\n",
            "Train 0.985696603853511\n",
            "\n",
            "B Counter({0: 446766, 1: 8})\n",
            "A Counter({0: 279228, 1: 223383})\n",
            "Test 0.0\n",
            "Train 0.9917928886501223\n",
            "\n",
            "B Counter({0: 446766, 1: 8})\n",
            "A Counter({0: 279228, 1: 223383})\n",
            "Test 0.0\n"
          ]
        },
        {
          "metadata": {
            "tags": null
          },
          "name": "stderr",
          "output_type": "stream",
          "text": [
            "\r 10%|█         | 1/10 [00:38<05:43, 38.19s/it]"
          ]
        },
        {
          "metadata": {
            "tags": null
          },
          "name": "stdout",
          "output_type": "stream",
          "text": [
            "Train 0.9911987806528476\n",
            "\n",
            "\n",
            "B Counter({0: 446765, 1: 8})\n",
            "A Counter({0: 279227, 1: 223382})\n",
            "Test 0.0\n",
            "Train 0.7739950824350729\n",
            "\n",
            "B Counter({0: 446765, 1: 8})\n",
            "A Counter({0: 279227, 1: 223382})\n",
            "Test 0.0\n",
            "Train 0.8108103793264934\n",
            "\n",
            "B Counter({0: 446765, 1: 8})\n",
            "A Counter({0: 279227, 1: 223382})\n",
            "Test 0.0\n",
            "Train 0.7459389687828833\n",
            "\n",
            "B Counter({0: 446765, 1: 8})\n",
            "A Counter({0: 279227, 1: 223382})\n",
            "Test 0.0\n",
            "Train 0.8883016971334593\n",
            "\n",
            "B Counter({0: 446765, 1: 8})\n",
            "A Counter({0: 279227, 1: 223382})\n",
            "Test 0.0\n",
            "Train 0.7957161995692478\n",
            "\n",
            "B Counter({0: 446765, 1: 9})\n",
            "A Counter({0: 279227, 1: 223382})\n",
            "Test 0.0\n",
            "Train 0.7785617857162377\n",
            "\n",
            "B Counter({0: 446766, 1: 8})\n",
            "A Counter({0: 279228, 1: 223383})\n",
            "Test 0.0\n",
            "Train 0.8586763537523407\n",
            "\n",
            "B Counter({0: 446766, 1: 8})\n",
            "A Counter({0: 279228, 1: 223383})\n",
            "Test 0.0\n",
            "Train 0.8300715890464045\n",
            "\n",
            "B Counter({0: 446766, 1: 8})\n",
            "A Counter({0: 279228, 1: 223383})\n",
            "Test 0.0\n",
            "Train 0.9063335827062339\n",
            "\n",
            "B Counter({0: 446766, 1: 8})\n",
            "A Counter({0: 279228, 1: 223383})\n",
            "Test 0.0\n"
          ]
        },
        {
          "metadata": {
            "tags": null
          },
          "name": "stderr",
          "output_type": "stream",
          "text": [
            "\r 20%|██        | 2/10 [01:34<06:29, 48.73s/it]"
          ]
        },
        {
          "metadata": {
            "tags": null
          },
          "name": "stdout",
          "output_type": "stream",
          "text": [
            "Train 0.7734435049961569\n",
            "\n",
            "\n",
            "B Counter({0: 446765, 1: 8})\n",
            "A Counter({0: 279227, 1: 223382})\n",
            "Test 0.0\n",
            "Train 0.921607484666427\n",
            "\n",
            "B Counter({0: 446765, 1: 8})\n",
            "A Counter({0: 279227, 1: 223382})\n",
            "Test 0.0\n",
            "Train 0.9461898001631898\n",
            "\n",
            "B Counter({0: 446765, 1: 8})\n",
            "A Counter({0: 279227, 1: 223382})\n",
            "Test 0.0\n",
            "Train 0.8901651504513913\n",
            "\n",
            "B Counter({0: 446765, 1: 8})\n",
            "A Counter({0: 279227, 1: 223382})\n",
            "Test 0.0\n",
            "Train 0.8833056001119322\n",
            "\n",
            "B Counter({0: 446765, 1: 8})\n",
            "A Counter({0: 279227, 1: 223382})\n",
            "Test 0.0\n",
            "Train 0.904381766828809\n",
            "\n",
            "B Counter({0: 446765, 1: 9})\n",
            "A Counter({0: 279227, 1: 223382})\n",
            "Test 0.0\n",
            "Train 0.8876348886197403\n",
            "\n",
            "B Counter({0: 446766, 1: 8})\n",
            "A Counter({0: 279228, 1: 223383})\n",
            "Test 0.0\n",
            "Train 0.9038065200716556\n",
            "\n",
            "B Counter({0: 446766, 1: 8})\n",
            "A Counter({0: 279228, 1: 223383})\n",
            "Test 0.0\n",
            "Train 0.9089352318271743\n",
            "\n",
            "B Counter({0: 446766, 1: 8})\n",
            "A Counter({0: 279228, 1: 223383})\n",
            "Test 0.0\n",
            "Train 0.9513608823694923\n",
            "\n",
            "B Counter({0: 446766, 1: 8})\n",
            "A Counter({0: 279228, 1: 223383})\n",
            "Test 0.0\n"
          ]
        },
        {
          "metadata": {
            "tags": null
          },
          "name": "stderr",
          "output_type": "stream",
          "text": [
            "\r 30%|███       | 3/10 [02:56<07:27, 63.89s/it]"
          ]
        },
        {
          "metadata": {
            "tags": null
          },
          "name": "stdout",
          "output_type": "stream",
          "text": [
            "Train 0.9229938662135618\n",
            "\n",
            "\n",
            "B Counter({0: 446765, 1: 8})\n",
            "A Counter({0: 279227, 1: 223382})\n",
            "Test 0.0\n",
            "Train 0.9615550896505556\n",
            "\n",
            "B Counter({0: 446765, 1: 8})\n",
            "A Counter({0: 279227, 1: 223382})\n",
            "Test 0.0\n",
            "Train 0.9359620692365029\n",
            "\n",
            "B Counter({0: 446765, 1: 8})\n",
            "A Counter({0: 279227, 1: 223382})\n",
            "Test 0.0\n",
            "Train 0.9292080024281648\n",
            "\n",
            "B Counter({0: 446765, 1: 8})\n",
            "A Counter({0: 279227, 1: 223382})\n",
            "Test 0.0\n",
            "Train 0.9817581871671525\n",
            "\n",
            "B Counter({0: 446765, 1: 8})\n",
            "A Counter({0: 279227, 1: 223382})\n",
            "Test 0.0\n",
            "Train 0.9485261416607644\n",
            "\n",
            "B Counter({0: 446765, 1: 9})\n",
            "A Counter({0: 279227, 1: 223382})\n",
            "Test 0.0\n",
            "Train 0.9763280265719848\n",
            "\n",
            "B Counter({0: 446766, 1: 8})\n",
            "A Counter({0: 279228, 1: 223383})\n",
            "Test 0.0\n",
            "Train 0.9887908461971934\n",
            "\n",
            "B Counter({0: 446766, 1: 8})\n",
            "A Counter({0: 279228, 1: 223383})\n",
            "Test 0.0\n",
            "Train 0.9456766070464029\n",
            "\n",
            "B Counter({0: 446766, 1: 8})\n",
            "A Counter({0: 279228, 1: 223383})\n",
            "Test 0.0\n",
            "Train 0.9681108809175715\n",
            "\n",
            "B Counter({0: 446766, 1: 8})\n",
            "A Counter({0: 279228, 1: 223383})\n",
            "Test 0.0\n"
          ]
        },
        {
          "metadata": {
            "tags": null
          },
          "name": "stderr",
          "output_type": "stream",
          "text": [
            "\r 40%|████      | 4/10 [04:36<07:49, 78.20s/it]"
          ]
        },
        {
          "metadata": {
            "tags": null
          },
          "name": "stdout",
          "output_type": "stream",
          "text": [
            "Train 0.9625389807760627\n",
            "\n",
            "\n",
            "B Counter({0: 446765, 1: 8})\n",
            "A Counter({0: 279227, 1: 223382})\n",
            "Test 0.0\n",
            "Train 0.9529028220807133\n",
            "\n",
            "B Counter({0: 446765, 1: 8})\n",
            "A Counter({0: 279227, 1: 223382})\n",
            "Test 0.0\n",
            "Train 0.9251479432282897\n",
            "\n",
            "B Counter({0: 446765, 1: 8})\n",
            "A Counter({0: 279227, 1: 223382})\n",
            "Test 0.0\n",
            "Train 0.949692409315402\n",
            "\n",
            "B Counter({0: 446765, 1: 8})\n",
            "A Counter({0: 279227, 1: 223382})\n",
            "Test 0.0\n",
            "Train 0.948386489349182\n",
            "\n",
            "B Counter({0: 446765, 1: 8})\n",
            "A Counter({0: 279227, 1: 223382})\n",
            "Test 0.0\n",
            "Train 0.9349172519346025\n",
            "\n",
            "B Counter({0: 446765, 1: 9})\n",
            "A Counter({0: 279227, 1: 223382})\n",
            "Test 0.0\n",
            "Train 0.9324109916367981\n",
            "\n",
            "B Counter({0: 446766, 1: 8})\n",
            "A Counter({0: 279228, 1: 223383})\n",
            "Test 0.0\n",
            "Train 0.932187388713752\n",
            "\n",
            "B Counter({0: 446766, 1: 8})\n",
            "A Counter({0: 279228, 1: 223383})\n",
            "Test 0.0\n",
            "Train 0.9505243995537025\n",
            "\n",
            "B Counter({0: 446766, 1: 8})\n",
            "A Counter({0: 279228, 1: 223383})\n",
            "Test 0.0\n",
            "Train 0.9928517165122868\n",
            "\n",
            "B Counter({0: 446766, 1: 8})\n",
            "A Counter({0: 279228, 1: 223383})\n",
            "Test 0.0\n"
          ]
        },
        {
          "metadata": {
            "tags": null
          },
          "name": "stderr",
          "output_type": "stream",
          "text": [
            "\r 50%|█████     | 5/10 [06:31<07:36, 91.36s/it]"
          ]
        },
        {
          "output_type": "stream",
          "name": "stdout",
          "text": [
            "Train 0.952132574709301\n",
            "\n",
            "\n",
            "B Counter({0: 446765, 1: 8})\n",
            "A Counter({0: 279227, 1: 223382})\n",
            "Test 0.0\n",
            "Train 0.765084539348683\n",
            "\n",
            "B Counter({0: 446765, 1: 8})\n",
            "A Counter({0: 279227, 1: 223382})\n",
            "Test 0.0\n",
            "Train 0.7901552342383926\n",
            "\n",
            "B Counter({0: 446765, 1: 8})\n",
            "A Counter({0: 279227, 1: 223382})\n",
            "Test 0.00029739776951672863\n",
            "Train 0.7953644656630072\n",
            "\n",
            "B Counter({0: 446765, 1: 8})\n",
            "A Counter({0: 279227, 1: 223382})\n",
            "Test 0.00021807872642023773\n",
            "Train 0.7331639047968589\n",
            "\n",
            "B Counter({0: 446765, 1: 8})\n",
            "A Counter({0: 279227, 1: 223382})\n",
            "Test 0.0\n",
            "Train 0.7548104295018075\n",
            "\n",
            "B Counter({0: 446765, 1: 9})\n",
            "A Counter({0: 279227, 1: 223382})\n",
            "Test 0.0\n",
            "Train 0.8098569262525448\n",
            "\n",
            "B Counter({0: 446766, 1: 8})\n",
            "A Counter({0: 279228, 1: 223383})\n",
            "Test 0.0\n",
            "Train 0.7805518439961504\n",
            "\n",
            "B Counter({0: 446766, 1: 8})\n",
            "A Counter({0: 279228, 1: 223383})\n"
          ]
        }
      ],
      "source": [
        "# Creating custom RandomSearchCV for hyperparameter tuning.\n",
        "# In this Cross-Validation is done by StratifiedKFold\n",
        "trainscores = [] # This list is to store the trainscores\n",
        "testscores  = [] # This list is to store the testscores\n",
        "Models = [] # This list is to store the models on each iter\n",
        "TR = []\n",
        "F = [] # This list is to store the kernel map on each iter\n",
        "\n",
        "# This loop is to use ten random values for each hyperparameter\n",
        "for iter in tqdm(range(0, 10)):\n",
        "  #print(iter)\n",
        "  Thresholds = []\n",
        "  trainscores_folds = []\n",
        "  testscores_folds  = []\n",
        "  svc = SGDClassifier(loss='hinge', n_jobs = -1)\n",
        "  feature_map = Nystroem(random_state=1)\n",
        "  for key, value in param.items(): # Assigns the value for each hyperparameter\n",
        "    if isinstance(value, list):\n",
        "      if (key == 'alpha'):\n",
        "        svc.C = value[iter]\n",
        "      if (key == 'penalty'):\n",
        "        svc.penalty = choice(value)\n",
        "      if (key == 'l1_ratio'):\n",
        "        svc.l1_ratio = value[iter]\n",
        "      if (key == 'kernel'):\n",
        "        feature_map.kernel = choice(value)\n",
        "      if (key == 'degree'):\n",
        "        feature_map.degree = value[iter]\n",
        "      if (key == 'gamma'):\n",
        "        feature_map.gamma = value[iter]\n",
        "      if (key == 'n_components'):\n",
        "        feature_map.n_components = value[iter]\n",
        "  Models.append(svc)\n",
        "  F.append(feature_map)\n",
        "  ss = StratifiedKFold(n_splits = 10, shuffle = True, random_state = 1) # Splitting the training data into train and val data using\n",
        "  # using stratifiedKFold (10-folds) to ensure that each fold consists of both classes.\n",
        "  # Running the loop for each fold\n",
        "  for train, test in ss.split(X_Train_orig, Y_Train_orig): # This loop uses original training dataset.\n",
        "      print()\n",
        "      X_train = np.zeros(len(train))\n",
        "      Y_train = np.zeros(len(train))\n",
        "      X_test = np.zeros(len(test))\n",
        "      Y_test = np.zeros(len(test))\n",
        "\n",
        "      # selecting the data points based on the train_indices and test_indices\n",
        "      X_train = X_Train_orig[train]\n",
        "      Y_train = Y_Train_orig[train]\n",
        "      X_test  = X_Train_orig[test]\n",
        "      Y_test  = Y_Train_orig[test]\n",
        "      print(\"B\", Counter(Y_train)) # Count of training classes before sampling\n",
        "\n",
        "      X_train, Y_train = pipeline.fit_resample(X_train, Y_train) # Sampling the training data by the above defined pipeline\n",
        "      print(\"A\", Counter(Y_train)) # Count of training classes after sampling\n",
        "      # Standardizing the above train and val data.\n",
        "      sc = StandardScaler()\n",
        "      sc.fit(X_train)\n",
        "      X_train = sc.transform(X_train)\n",
        "      X_test = sc.transform(X_test)\n",
        "      # This code snippet applies the kernel transform on Train and Val data\n",
        "      X_train = feature_map.fit_transform(X_train)\n",
        "      X_test = feature_map.transform(X_test)\n",
        "      # This transformed data is used for the model.\n",
        "\n",
        "      svc.fit(X_train, Y_train)\n",
        "\n",
        "      Y_predicted_test = svc.predict(X_test)\n",
        "      print('Test', f1_score(Y_test, Y_predicted_test))\n",
        "      testscores_folds.append(f1_score(Y_test, Y_predicted_test))\n",
        "\n",
        "      Y_predicted_train = svc.predict(X_train)\n",
        "      print('Train', f1_score(Y_train, Y_predicted_train))\n",
        "      trainscores_folds.append(f1_score(Y_train, Y_predicted_train))\n",
        "\n",
        "  trainscores.append(np.mean(np.array(trainscores_folds))) # Taking the mean of trainscores obtained from each fold\n",
        "  testscores.append(np.mean(np.array(testscores_folds))) # Taking the mean of testscores obtained from each fold\n",
        "  print() "
      ]
    },
    {
      "cell_type": "code",
      "execution_count": null,
      "metadata": {
        "id": "vovQo8oQbQPG"
      },
      "outputs": [],
      "source": [
        "print(trainscores)\n",
        "print(testscores)"
      ]
    },
    {
      "cell_type": "code",
      "execution_count": null,
      "metadata": {
        "id": "Nf62pCpcbQPK"
      },
      "outputs": [],
      "source": [
        "plt.plot(trainscores,label = \"Train\")\n",
        "plt.plot(testscores, label = 'Val')\n",
        "plt.legend()\n",
        "plt.grid(True)\n",
        "plt.show()"
      ]
    },
    {
      "cell_type": "markdown",
      "metadata": {
        "id": "iA5SkXN96N9a"
      },
      "source": [
        "This plot shows the trainscores and testscores on each iteration"
      ]
    },
    {
      "cell_type": "code",
      "execution_count": null,
      "metadata": {
        "id": "8nE_KHErQZP5"
      },
      "outputs": [],
      "source": [
        "TR = list(np.zeros(10))\n",
        "TR"
      ]
    },
    {
      "cell_type": "code",
      "execution_count": null,
      "metadata": {
        "id": "dfzyCXBMbQPM"
      },
      "outputs": [],
      "source": [
        "# Choosing the best model based on highest test score.\n",
        "test_score, train_score, threshold, est = BEST(trainscores, testscores, TR, Models)\n",
        "print(test_score, train_score)"
      ]
    },
    {
      "cell_type": "code",
      "execution_count": null,
      "metadata": {
        "id": "SYIB5Bp4QosK"
      },
      "outputs": [],
      "source": [
        "# Getting the best kernel map based on highest test score.\n",
        "f_map = F[testscores.index(0.006299812654906578)]\n",
        "f_map"
      ]
    },
    {
      "cell_type": "code",
      "execution_count": null,
      "metadata": {
        "id": "-Mbo-PfdbQPO"
      },
      "outputs": [],
      "source": [
        "# Using the best model\n",
        "svc = est\n",
        "svc"
      ]
    },
    {
      "cell_type": "code",
      "execution_count": null,
      "metadata": {
        "id": "9kotTgnZRmgi"
      },
      "outputs": [],
      "source": [
        "# Applying the best kernel transform on Train, Original Val and Original Test Datset.\n",
        "X_TR = f_map.fit_transform(X_train_standard)\n",
        "X_VA = f_map.transform(X_val_standard)\n",
        "X_TE = f_map.transform(X_test_standard)"
      ]
    },
    {
      "cell_type": "code",
      "execution_count": null,
      "metadata": {
        "id": "yYkGjsL_bQPR"
      },
      "outputs": [],
      "source": [
        "# Fitting the calibrated classifier over the best model\n",
        "sig_clf = CalibratedClassifierCV(svc, method=\"isotonic\")\n",
        "sig_clf.fit(X_TR, y_train_sam)"
      ]
    },
    {
      "cell_type": "code",
      "execution_count": null,
      "metadata": {
        "id": "zhDiwKf4bQPT"
      },
      "outputs": [],
      "source": [
        "# Threshold Tuning based on the original Val Dataset.\n",
        "Y_predicted_val = sig_clf.predict_proba(X_VA)[:, 1]\n",
        "\n",
        "Y_predicted_train = sig_clf.predict_proba(X_TR)[:, 1]\n",
        "\n",
        "train_fpr, train_tpr, tr_thresholds = roc_curve(y_train_sam, Y_predicted_train)\n",
        "val_fpr, val_tpr, val_thresholds = roc_curve(y_val, Y_predicted_val)\n",
        "thresholds = np.linspace(0.0, 1.0, num=len(val_thresholds))\n",
        "best_t = find_best_threshold(val_thresholds, val_fpr, val_tpr)"
      ]
    },
    {
      "cell_type": "code",
      "execution_count": null,
      "metadata": {
        "id": "-3VsOJ_WbQPW"
      },
      "outputs": [],
      "source": [
        "# Getting the metrics based on the optimal threshold value\n",
        "Metrics(sig_clf, X_TR, y_train_sam, best_t)\n",
        "print('='*100)\n",
        "print('='*100)\n",
        "Metrics(sig_clf, X_VA, y_val, best_t)"
      ]
    },
    {
      "cell_type": "code",
      "execution_count": null,
      "metadata": {
        "id": "ZP6EuoLUbQPZ"
      },
      "outputs": [],
      "source": [
        "Metrics(sig_clf, X_TE, y_test, best_t)"
      ]
    },
    {
      "cell_type": "code",
      "execution_count": null,
      "metadata": {
        "id": "6UpWwwjvbQPd"
      },
      "outputs": [],
      "source": [
        "# Plotting ROC curve for Train, Val and Test.\n",
        "Y_predicted_test = sig_clf.predict_proba(X_TE)[:, 1]\n",
        "\n",
        "test_fpr, test_tpr, te_thresholds = roc_curve(y_test, Y_predicted_test)\n",
        "\n",
        "plt.plot(train_fpr, train_tpr, label=\"train AUC =\"+str(auc(train_fpr, train_tpr)))\n",
        "plt.plot(test_fpr, test_tpr, label=\"test AUC =\"+str(auc(test_fpr, test_tpr)))\n",
        "plt.plot(val_fpr, val_tpr, label=\"val AUC =\"+str(auc(val_fpr, val_tpr)))\n",
        "plt.legend()\n",
        "plt.xlabel(\"FPR\")\n",
        "plt.ylabel(\"TPR\")\n",
        "plt.title(\"ERROR PLOTS\")\n",
        "plt.grid()\n",
        "plt.show()"
      ]
    },
    {
      "cell_type": "markdown",
      "metadata": {
        "id": "50TcDE-K656z"
      },
      "source": [
        "This plot shows the roc_curve of train, val and test dataset."
      ]
    },
    {
      "cell_type": "markdown",
      "metadata": {
        "id": "pT87em2oCZSC"
      },
      "source": [
        "|  Data| Precision  | Recall | ROC-Score | F1-Score |\n",
        "|------------|--------|----------------------|----------||\n",
        "|      Train |  0.7723|           0.9999 |  0.9975 | 0.8714|\n",
        "|    Val   |  9.629458439257376e-05    | 1.0       |   0.9357 |0.00019|\n",
        "|    Test  |   9.681666795755558e-05   |    0.8333  |   0.9203 |0.00019|"
      ]
    }
  ],
  "metadata": {
    "accelerator": "TPU",
    "colab": {
      "collapsed_sections": [
        "d3yK3kWBr5Vh",
        "eT72b-HvAx2T",
        "mvlWAduJbQO8",
        "BDFbUjuuYUwN"
      ],
      "provenance": [],
      "include_colab_link": true
    },
    "gpuClass": "standard",
    "kernelspec": {
      "display_name": "Python 3",
      "language": "python",
      "name": "python3"
    },
    "language_info": {
      "codemirror_mode": {
        "name": "ipython",
        "version": 3
      },
      "file_extension": ".py",
      "mimetype": "text/x-python",
      "name": "python",
      "nbconvert_exporter": "python",
      "pygments_lexer": "ipython3",
      "version": "3.7.6"
    }
  },
  "nbformat": 4,
  "nbformat_minor": 0
}