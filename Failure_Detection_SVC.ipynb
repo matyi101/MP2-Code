{
  "cells": [
    {
      "cell_type": "markdown",
      "metadata": {
        "id": "view-in-github",
        "colab_type": "text"
      },
      "source": [
        "<a href=\"https://colab.research.google.com/github/matyi101/MP2-Code/blob/main/Failure_Detection_SVC.ipynb\" target=\"_parent\"><img src=\"https://colab.research.google.com/assets/colab-badge.svg\" alt=\"Open In Colab\"/></a>"
      ]
    },
    {
      "cell_type": "code",
      "execution_count": 1,
      "metadata": {
        "colab": {
          "base_uri": "https://localhost:8080/"
        },
        "id": "Vsr1DT-teT0I",
        "outputId": "4d683fa1-fb88-4c67-bca6-7294495028cc"
      },
      "outputs": [
        {
          "output_type": "stream",
          "name": "stdout",
          "text": [
            "Mounted at /content/drive/\n"
          ]
        }
      ],
      "source": [
        "from google.colab import drive\n",
        "from google.colab import data_table\n",
        "\n",
        "drive.mount('/content/drive/')\n",
        "data_table.enable_dataframe_formatter()"
      ]
    },
    {
      "cell_type": "code",
      "execution_count": 2,
      "metadata": {
        "id": "00O_gJByq_rn"
      },
      "outputs": [],
      "source": [
        "import os\n",
        "import pandas as pd\n",
        "import numpy as np\n",
        "import seaborn as sns\n",
        "import re\n",
        "import matplotlib.pyplot as plt\n",
        "from collections import Counter\n",
        "from imblearn.over_sampling import SMOTE\n",
        "from math import log"
      ]
    },
    {
      "cell_type": "markdown",
      "metadata": {
        "id": "2wc4xb0T9q6g"
      },
      "source": [
        "# DATA INFORMATION:\n",
        "\n",
        "\n",
        "\n",
        "> The dataset is available publicly for the users from https://www.backblaze.com/b2/hard-drive-test-data.html#how-you-can-use-the-data\n",
        "\n",
        "\n",
        "> The first row of the each file contains the column names, the remaining rows are the actual data. The columns are as follows:\n",
        "\n",
        "##### Date – The date of the file in yyyy-mm-dd format.\n",
        "##### Serial Number – The manufacturer-assigned serial number of the drive.\n",
        "##### Model – The manufacturer-assigned model number of the drive.\n",
        "##### Capacity – The drive capacity in bytes.\n",
        "##### Failure – Contains a “0” if the drive is OK. Contains a “1” if the drive is failed.\n",
        "##### S.M.A.R.T Attributes - Raw and Normalized.\n",
        "\n",
        "> In this dataset SMART attributes have two variants namely raw value often corresponds to counts or a physical unit, such as degrees Celsius or seconds and normalized value which ranges from 1 to 253 (1 as worst case and 253 as best case).\n",
        "\n",
        "\n",
        "\n",
        "\n",
        "\n",
        "\n",
        "\n"
      ]
    },
    {
      "cell_type": "markdown",
      "metadata": {
        "id": "jtNSJKkGA8ab"
      },
      "source": [
        "# ML PROBLEM FORMULATION:\n",
        "\n",
        "> It is the Binary class classification problem where we have to predict Hard Drive failure. These are predicted by using attributes that are recorded during normal operations of hard drive. These attributes are known as SMART(Self – Monitoring and Reporting Technology) which is the monitoring system included in computer HDD.\n",
        "\n",
        "> The motive of this prediction is to reduce the rate of failures as a cost saving measure by the HDD vendors and software running on the host system may notify the user so preventive action can be taken to prevent data loss and failing drive can be replaced and data integrity is maintained.\n",
        "\n",
        "> The HDD is said to be failed or critical when some of these attributes crosses the threshold values. Depending upon the manufacturers they use different SMART attributes in which the common attributes are like Read Error Rate, Throughput Performance, Spin-Up Time etc.\n",
        "\n",
        "> References:\n",
        "###### https://en.wikipedia.org/wiki/S.M.A.R.T\n",
        "###### https://www.backblaze.com/b2/hard-drive-test-data.html#how-you-can-use-the-data\n",
        "\n",
        "\n",
        "\n",
        "\n",
        "\n",
        "\n",
        "\n"
      ]
    },
    {
      "cell_type": "markdown",
      "metadata": {
        "id": "pbdpwrt2DJLd"
      },
      "source": [
        "# PERFORMANCE METRICS:\n",
        "\n",
        "\n",
        "1.   PRECISION, RECALL SCORES\n",
        "2.   AUC SCORE AND CONFUSION MATRIX\n",
        "\n"
      ]
    },
    {
      "cell_type": "markdown",
      "metadata": {
        "id": "SdIIo0TQ0OCD"
      },
      "source": [
        "# 1. Importing Data\n",
        "\n",
        "\n"
      ]
    },
    {
      "cell_type": "code",
      "execution_count": 3,
      "metadata": {
        "id": "Utoqk-Ia2RCp"
      },
      "outputs": [],
      "source": [
        "# Using 5 days of data for Train and Val.\n",
        "# dates = ['02', '03', '04', '05', '06', '07', '08', '09', '10']\n",
        "dates = ['02', '03', '04', '05']\n",
        "Data = pd.read_csv(\"/content/drive/My Drive/hdddata/2021/2021-01-01.csv\")\n",
        "for i in dates:\n",
        "  Data = Data.append(pd.read_csv(\"/content/drive/My Drive/hdddata/2021/2021-01-\" + i + \".csv\"))"
      ]
    },
    {
      "cell_type": "code",
      "execution_count": 4,
      "metadata": {
        "colab": {
          "base_uri": "https://localhost:8080/"
        },
        "id": "iPodCMoH8nhu",
        "outputId": "96217fa2-7ce2-4934-d5fe-ea06f6b6e17e"
      },
      "outputs": [
        {
          "output_type": "stream",
          "name": "stdout",
          "text": [
            "<class 'pandas.core.frame.DataFrame'>\n",
            "Int64Index: 827509 entries, 0 to 165532\n",
            "Columns: 149 entries, date to smart_255_raw\n",
            "dtypes: float64(144), int64(2), object(3)\n",
            "memory usage: 947.0+ MB\n",
            "None\n",
            "\n",
            "Shape of the Data:  (827509, 149)\n"
          ]
        }
      ],
      "source": [
        "print(Data.info())\n",
        "print()\n",
        "print(\"Shape of the Data: \", Data.shape)"
      ]
    },
    {
      "cell_type": "code",
      "execution_count": 5,
      "metadata": {
        "colab": {
          "base_uri": "https://localhost:8080/",
          "height": 404
        },
        "id": "qXosMjoJPcfw",
        "outputId": "888195fc-9bc8-4824-a500-0d0fd5926b76"
      },
      "outputs": [
        {
          "output_type": "stream",
          "name": "stdout",
          "text": [
            "Warning: Total number of columns (149) exceeds max_columns (20). Falling back to pandas display.\n"
          ]
        },
        {
          "output_type": "execute_result",
          "data": {
            "text/plain": [
              "         date serial_number          model  capacity_bytes  failure  \\\n",
              "0  2021-01-01      ZLW0EGC6  ST12000NM001G  12000138625024        0   \n",
              "1  2021-01-01      Z305B2QN    ST4000DM000   4000787030016        0   \n",
              "2  2021-01-01      ZLW0C6NE  ST12000NM001G  12000138625024        0   \n",
              "3  2021-01-01      ZJV0XJQ3  ST12000NM0007  12000138625024        0   \n",
              "4  2021-01-01      ZLW18MKT  ST14000NM001G  14000519643136        0   \n",
              "\n",
              "   smart_1_normalized  smart_1_raw  smart_2_normalized  smart_2_raw  \\\n",
              "0                83.0  213166608.0                 NaN          NaN   \n",
              "1               114.0   79306032.0                 NaN          NaN   \n",
              "2                72.0   17162816.0                 NaN          NaN   \n",
              "3               100.0    1102160.0                 NaN          NaN   \n",
              "4                75.0   33233248.0                 NaN          NaN   \n",
              "\n",
              "   smart_3_normalized  ...  smart_250_normalized  smart_250_raw  \\\n",
              "0                99.0  ...                   NaN            NaN   \n",
              "1                91.0  ...                   NaN            NaN   \n",
              "2                98.0  ...                   NaN            NaN   \n",
              "3                98.0  ...                   NaN            NaN   \n",
              "4                95.0  ...                   NaN            NaN   \n",
              "\n",
              "   smart_251_normalized  smart_251_raw  smart_252_normalized  smart_252_raw  \\\n",
              "0                   NaN            NaN                   NaN            NaN   \n",
              "1                   NaN            NaN                   NaN            NaN   \n",
              "2                   NaN            NaN                   NaN            NaN   \n",
              "3                   NaN            NaN                   NaN            NaN   \n",
              "4                   NaN            NaN                   NaN            NaN   \n",
              "\n",
              "   smart_254_normalized  smart_254_raw  smart_255_normalized  smart_255_raw  \n",
              "0                   NaN            NaN                   NaN            NaN  \n",
              "1                   NaN            NaN                   NaN            NaN  \n",
              "2                   NaN            NaN                   NaN            NaN  \n",
              "3                   NaN            NaN                   NaN            NaN  \n",
              "4                   NaN            NaN                   NaN            NaN  \n",
              "\n",
              "[5 rows x 149 columns]"
            ],
            "text/html": [
              "\n",
              "  <div id=\"df-e6adbc0a-dd34-4bd3-95b7-b48cf14c6c52\">\n",
              "    <div class=\"colab-df-container\">\n",
              "      <div>\n",
              "<style scoped>\n",
              "    .dataframe tbody tr th:only-of-type {\n",
              "        vertical-align: middle;\n",
              "    }\n",
              "\n",
              "    .dataframe tbody tr th {\n",
              "        vertical-align: top;\n",
              "    }\n",
              "\n",
              "    .dataframe thead th {\n",
              "        text-align: right;\n",
              "    }\n",
              "</style>\n",
              "<table border=\"1\" class=\"dataframe\">\n",
              "  <thead>\n",
              "    <tr style=\"text-align: right;\">\n",
              "      <th></th>\n",
              "      <th>date</th>\n",
              "      <th>serial_number</th>\n",
              "      <th>model</th>\n",
              "      <th>capacity_bytes</th>\n",
              "      <th>failure</th>\n",
              "      <th>smart_1_normalized</th>\n",
              "      <th>smart_1_raw</th>\n",
              "      <th>smart_2_normalized</th>\n",
              "      <th>smart_2_raw</th>\n",
              "      <th>smart_3_normalized</th>\n",
              "      <th>...</th>\n",
              "      <th>smart_250_normalized</th>\n",
              "      <th>smart_250_raw</th>\n",
              "      <th>smart_251_normalized</th>\n",
              "      <th>smart_251_raw</th>\n",
              "      <th>smart_252_normalized</th>\n",
              "      <th>smart_252_raw</th>\n",
              "      <th>smart_254_normalized</th>\n",
              "      <th>smart_254_raw</th>\n",
              "      <th>smart_255_normalized</th>\n",
              "      <th>smart_255_raw</th>\n",
              "    </tr>\n",
              "  </thead>\n",
              "  <tbody>\n",
              "    <tr>\n",
              "      <th>0</th>\n",
              "      <td>2021-01-01</td>\n",
              "      <td>ZLW0EGC6</td>\n",
              "      <td>ST12000NM001G</td>\n",
              "      <td>12000138625024</td>\n",
              "      <td>0</td>\n",
              "      <td>83.0</td>\n",
              "      <td>213166608.0</td>\n",
              "      <td>NaN</td>\n",
              "      <td>NaN</td>\n",
              "      <td>99.0</td>\n",
              "      <td>...</td>\n",
              "      <td>NaN</td>\n",
              "      <td>NaN</td>\n",
              "      <td>NaN</td>\n",
              "      <td>NaN</td>\n",
              "      <td>NaN</td>\n",
              "      <td>NaN</td>\n",
              "      <td>NaN</td>\n",
              "      <td>NaN</td>\n",
              "      <td>NaN</td>\n",
              "      <td>NaN</td>\n",
              "    </tr>\n",
              "    <tr>\n",
              "      <th>1</th>\n",
              "      <td>2021-01-01</td>\n",
              "      <td>Z305B2QN</td>\n",
              "      <td>ST4000DM000</td>\n",
              "      <td>4000787030016</td>\n",
              "      <td>0</td>\n",
              "      <td>114.0</td>\n",
              "      <td>79306032.0</td>\n",
              "      <td>NaN</td>\n",
              "      <td>NaN</td>\n",
              "      <td>91.0</td>\n",
              "      <td>...</td>\n",
              "      <td>NaN</td>\n",
              "      <td>NaN</td>\n",
              "      <td>NaN</td>\n",
              "      <td>NaN</td>\n",
              "      <td>NaN</td>\n",
              "      <td>NaN</td>\n",
              "      <td>NaN</td>\n",
              "      <td>NaN</td>\n",
              "      <td>NaN</td>\n",
              "      <td>NaN</td>\n",
              "    </tr>\n",
              "    <tr>\n",
              "      <th>2</th>\n",
              "      <td>2021-01-01</td>\n",
              "      <td>ZLW0C6NE</td>\n",
              "      <td>ST12000NM001G</td>\n",
              "      <td>12000138625024</td>\n",
              "      <td>0</td>\n",
              "      <td>72.0</td>\n",
              "      <td>17162816.0</td>\n",
              "      <td>NaN</td>\n",
              "      <td>NaN</td>\n",
              "      <td>98.0</td>\n",
              "      <td>...</td>\n",
              "      <td>NaN</td>\n",
              "      <td>NaN</td>\n",
              "      <td>NaN</td>\n",
              "      <td>NaN</td>\n",
              "      <td>NaN</td>\n",
              "      <td>NaN</td>\n",
              "      <td>NaN</td>\n",
              "      <td>NaN</td>\n",
              "      <td>NaN</td>\n",
              "      <td>NaN</td>\n",
              "    </tr>\n",
              "    <tr>\n",
              "      <th>3</th>\n",
              "      <td>2021-01-01</td>\n",
              "      <td>ZJV0XJQ3</td>\n",
              "      <td>ST12000NM0007</td>\n",
              "      <td>12000138625024</td>\n",
              "      <td>0</td>\n",
              "      <td>100.0</td>\n",
              "      <td>1102160.0</td>\n",
              "      <td>NaN</td>\n",
              "      <td>NaN</td>\n",
              "      <td>98.0</td>\n",
              "      <td>...</td>\n",
              "      <td>NaN</td>\n",
              "      <td>NaN</td>\n",
              "      <td>NaN</td>\n",
              "      <td>NaN</td>\n",
              "      <td>NaN</td>\n",
              "      <td>NaN</td>\n",
              "      <td>NaN</td>\n",
              "      <td>NaN</td>\n",
              "      <td>NaN</td>\n",
              "      <td>NaN</td>\n",
              "    </tr>\n",
              "    <tr>\n",
              "      <th>4</th>\n",
              "      <td>2021-01-01</td>\n",
              "      <td>ZLW18MKT</td>\n",
              "      <td>ST14000NM001G</td>\n",
              "      <td>14000519643136</td>\n",
              "      <td>0</td>\n",
              "      <td>75.0</td>\n",
              "      <td>33233248.0</td>\n",
              "      <td>NaN</td>\n",
              "      <td>NaN</td>\n",
              "      <td>95.0</td>\n",
              "      <td>...</td>\n",
              "      <td>NaN</td>\n",
              "      <td>NaN</td>\n",
              "      <td>NaN</td>\n",
              "      <td>NaN</td>\n",
              "      <td>NaN</td>\n",
              "      <td>NaN</td>\n",
              "      <td>NaN</td>\n",
              "      <td>NaN</td>\n",
              "      <td>NaN</td>\n",
              "      <td>NaN</td>\n",
              "    </tr>\n",
              "  </tbody>\n",
              "</table>\n",
              "<p>5 rows × 149 columns</p>\n",
              "</div>\n",
              "      <button class=\"colab-df-convert\" onclick=\"convertToInteractive('df-e6adbc0a-dd34-4bd3-95b7-b48cf14c6c52')\"\n",
              "              title=\"Convert this dataframe to an interactive table.\"\n",
              "              style=\"display:none;\">\n",
              "        \n",
              "  <svg xmlns=\"http://www.w3.org/2000/svg\" height=\"24px\"viewBox=\"0 0 24 24\"\n",
              "       width=\"24px\">\n",
              "    <path d=\"M0 0h24v24H0V0z\" fill=\"none\"/>\n",
              "    <path d=\"M18.56 5.44l.94 2.06.94-2.06 2.06-.94-2.06-.94-.94-2.06-.94 2.06-2.06.94zm-11 1L8.5 8.5l.94-2.06 2.06-.94-2.06-.94L8.5 2.5l-.94 2.06-2.06.94zm10 10l.94 2.06.94-2.06 2.06-.94-2.06-.94-.94-2.06-.94 2.06-2.06.94z\"/><path d=\"M17.41 7.96l-1.37-1.37c-.4-.4-.92-.59-1.43-.59-.52 0-1.04.2-1.43.59L10.3 9.45l-7.72 7.72c-.78.78-.78 2.05 0 2.83L4 21.41c.39.39.9.59 1.41.59.51 0 1.02-.2 1.41-.59l7.78-7.78 2.81-2.81c.8-.78.8-2.07 0-2.86zM5.41 20L4 18.59l7.72-7.72 1.47 1.35L5.41 20z\"/>\n",
              "  </svg>\n",
              "      </button>\n",
              "      \n",
              "  <style>\n",
              "    .colab-df-container {\n",
              "      display:flex;\n",
              "      flex-wrap:wrap;\n",
              "      gap: 12px;\n",
              "    }\n",
              "\n",
              "    .colab-df-convert {\n",
              "      background-color: #E8F0FE;\n",
              "      border: none;\n",
              "      border-radius: 50%;\n",
              "      cursor: pointer;\n",
              "      display: none;\n",
              "      fill: #1967D2;\n",
              "      height: 32px;\n",
              "      padding: 0 0 0 0;\n",
              "      width: 32px;\n",
              "    }\n",
              "\n",
              "    .colab-df-convert:hover {\n",
              "      background-color: #E2EBFA;\n",
              "      box-shadow: 0px 1px 2px rgba(60, 64, 67, 0.3), 0px 1px 3px 1px rgba(60, 64, 67, 0.15);\n",
              "      fill: #174EA6;\n",
              "    }\n",
              "\n",
              "    [theme=dark] .colab-df-convert {\n",
              "      background-color: #3B4455;\n",
              "      fill: #D2E3FC;\n",
              "    }\n",
              "\n",
              "    [theme=dark] .colab-df-convert:hover {\n",
              "      background-color: #434B5C;\n",
              "      box-shadow: 0px 1px 3px 1px rgba(0, 0, 0, 0.15);\n",
              "      filter: drop-shadow(0px 1px 2px rgba(0, 0, 0, 0.3));\n",
              "      fill: #FFFFFF;\n",
              "    }\n",
              "  </style>\n",
              "\n",
              "      <script>\n",
              "        const buttonEl =\n",
              "          document.querySelector('#df-e6adbc0a-dd34-4bd3-95b7-b48cf14c6c52 button.colab-df-convert');\n",
              "        buttonEl.style.display =\n",
              "          google.colab.kernel.accessAllowed ? 'block' : 'none';\n",
              "\n",
              "        async function convertToInteractive(key) {\n",
              "          const element = document.querySelector('#df-e6adbc0a-dd34-4bd3-95b7-b48cf14c6c52');\n",
              "          const dataTable =\n",
              "            await google.colab.kernel.invokeFunction('convertToInteractive',\n",
              "                                                     [key], {});\n",
              "          if (!dataTable) return;\n",
              "\n",
              "          const docLinkHtml = 'Like what you see? Visit the ' +\n",
              "            '<a target=\"_blank\" href=https://colab.research.google.com/notebooks/data_table.ipynb>data table notebook</a>'\n",
              "            + ' to learn more about interactive tables.';\n",
              "          element.innerHTML = '';\n",
              "          dataTable['output_type'] = 'display_data';\n",
              "          await google.colab.output.renderOutput(dataTable, element);\n",
              "          const docLink = document.createElement('div');\n",
              "          docLink.innerHTML = docLinkHtml;\n",
              "          element.appendChild(docLink);\n",
              "        }\n",
              "      </script>\n",
              "    </div>\n",
              "  </div>\n",
              "  "
            ]
          },
          "metadata": {},
          "execution_count": 5
        }
      ],
      "source": [
        "Data.head()"
      ]
    },
    {
      "cell_type": "code",
      "execution_count": 6,
      "metadata": {
        "colab": {
          "base_uri": "https://localhost:8080/",
          "height": 404
        },
        "id": "gXHSrWH6-91D",
        "outputId": "04bb5d94-ae71-4d4a-e755-9fc586fdaf6e"
      },
      "outputs": [
        {
          "output_type": "stream",
          "name": "stdout",
          "text": [
            "Warning: Total number of columns (149) exceeds max_columns (20). Falling back to pandas display.\n"
          ]
        },
        {
          "output_type": "execute_result",
          "data": {
            "text/plain": [
              "              date   serial_number                 model  capacity_bytes  \\\n",
              "165528  2021-01-05        ZJV2ESXT         ST12000NM0007  12000138625024   \n",
              "165529  2021-01-05        ZA13ZBCT           ST8000DM002   8001563222016   \n",
              "165530  2021-01-05  PL1331LAHGD9NH  HGST HMS5C4040BLE640   4000787030016   \n",
              "165531  2021-01-05  PL2331LAHDS4TJ  HGST HMS5C4040BLE640   4000787030016   \n",
              "165532  2021-01-05        X0GEV9EC   WDC WUH721414ALE6L4  14000519643136   \n",
              "\n",
              "        failure  smart_1_normalized  smart_1_raw  smart_2_normalized  \\\n",
              "165528        0                80.0   97876120.0                 NaN   \n",
              "165529        0                84.0  227496000.0                 NaN   \n",
              "165530        0               100.0          0.0               134.0   \n",
              "165531        0               100.0          0.0               133.0   \n",
              "165532        0               100.0          0.0               138.0   \n",
              "\n",
              "        smart_2_raw  smart_3_normalized  ...  smart_250_normalized  \\\n",
              "165528          NaN                98.0  ...                   NaN   \n",
              "165529          NaN                86.0  ...                   NaN   \n",
              "165530        100.0               100.0  ...                   NaN   \n",
              "165531        104.0               100.0  ...                   NaN   \n",
              "165532         92.0                85.0  ...                   NaN   \n",
              "\n",
              "        smart_250_raw  smart_251_normalized  smart_251_raw  \\\n",
              "165528            NaN                   NaN            NaN   \n",
              "165529            NaN                   NaN            NaN   \n",
              "165530            NaN                   NaN            NaN   \n",
              "165531            NaN                   NaN            NaN   \n",
              "165532            NaN                   NaN            NaN   \n",
              "\n",
              "        smart_252_normalized  smart_252_raw  smart_254_normalized  \\\n",
              "165528                   NaN            NaN                   NaN   \n",
              "165529                   NaN            NaN                   NaN   \n",
              "165530                   NaN            NaN                   NaN   \n",
              "165531                   NaN            NaN                   NaN   \n",
              "165532                   NaN            NaN                   NaN   \n",
              "\n",
              "        smart_254_raw  smart_255_normalized  smart_255_raw  \n",
              "165528            NaN                   NaN            NaN  \n",
              "165529            NaN                   NaN            NaN  \n",
              "165530            NaN                   NaN            NaN  \n",
              "165531            NaN                   NaN            NaN  \n",
              "165532            NaN                   NaN            NaN  \n",
              "\n",
              "[5 rows x 149 columns]"
            ],
            "text/html": [
              "\n",
              "  <div id=\"df-ae2a6523-2757-4129-92a9-1f3386e69751\">\n",
              "    <div class=\"colab-df-container\">\n",
              "      <div>\n",
              "<style scoped>\n",
              "    .dataframe tbody tr th:only-of-type {\n",
              "        vertical-align: middle;\n",
              "    }\n",
              "\n",
              "    .dataframe tbody tr th {\n",
              "        vertical-align: top;\n",
              "    }\n",
              "\n",
              "    .dataframe thead th {\n",
              "        text-align: right;\n",
              "    }\n",
              "</style>\n",
              "<table border=\"1\" class=\"dataframe\">\n",
              "  <thead>\n",
              "    <tr style=\"text-align: right;\">\n",
              "      <th></th>\n",
              "      <th>date</th>\n",
              "      <th>serial_number</th>\n",
              "      <th>model</th>\n",
              "      <th>capacity_bytes</th>\n",
              "      <th>failure</th>\n",
              "      <th>smart_1_normalized</th>\n",
              "      <th>smart_1_raw</th>\n",
              "      <th>smart_2_normalized</th>\n",
              "      <th>smart_2_raw</th>\n",
              "      <th>smart_3_normalized</th>\n",
              "      <th>...</th>\n",
              "      <th>smart_250_normalized</th>\n",
              "      <th>smart_250_raw</th>\n",
              "      <th>smart_251_normalized</th>\n",
              "      <th>smart_251_raw</th>\n",
              "      <th>smart_252_normalized</th>\n",
              "      <th>smart_252_raw</th>\n",
              "      <th>smart_254_normalized</th>\n",
              "      <th>smart_254_raw</th>\n",
              "      <th>smart_255_normalized</th>\n",
              "      <th>smart_255_raw</th>\n",
              "    </tr>\n",
              "  </thead>\n",
              "  <tbody>\n",
              "    <tr>\n",
              "      <th>165528</th>\n",
              "      <td>2021-01-05</td>\n",
              "      <td>ZJV2ESXT</td>\n",
              "      <td>ST12000NM0007</td>\n",
              "      <td>12000138625024</td>\n",
              "      <td>0</td>\n",
              "      <td>80.0</td>\n",
              "      <td>97876120.0</td>\n",
              "      <td>NaN</td>\n",
              "      <td>NaN</td>\n",
              "      <td>98.0</td>\n",
              "      <td>...</td>\n",
              "      <td>NaN</td>\n",
              "      <td>NaN</td>\n",
              "      <td>NaN</td>\n",
              "      <td>NaN</td>\n",
              "      <td>NaN</td>\n",
              "      <td>NaN</td>\n",
              "      <td>NaN</td>\n",
              "      <td>NaN</td>\n",
              "      <td>NaN</td>\n",
              "      <td>NaN</td>\n",
              "    </tr>\n",
              "    <tr>\n",
              "      <th>165529</th>\n",
              "      <td>2021-01-05</td>\n",
              "      <td>ZA13ZBCT</td>\n",
              "      <td>ST8000DM002</td>\n",
              "      <td>8001563222016</td>\n",
              "      <td>0</td>\n",
              "      <td>84.0</td>\n",
              "      <td>227496000.0</td>\n",
              "      <td>NaN</td>\n",
              "      <td>NaN</td>\n",
              "      <td>86.0</td>\n",
              "      <td>...</td>\n",
              "      <td>NaN</td>\n",
              "      <td>NaN</td>\n",
              "      <td>NaN</td>\n",
              "      <td>NaN</td>\n",
              "      <td>NaN</td>\n",
              "      <td>NaN</td>\n",
              "      <td>NaN</td>\n",
              "      <td>NaN</td>\n",
              "      <td>NaN</td>\n",
              "      <td>NaN</td>\n",
              "    </tr>\n",
              "    <tr>\n",
              "      <th>165530</th>\n",
              "      <td>2021-01-05</td>\n",
              "      <td>PL1331LAHGD9NH</td>\n",
              "      <td>HGST HMS5C4040BLE640</td>\n",
              "      <td>4000787030016</td>\n",
              "      <td>0</td>\n",
              "      <td>100.0</td>\n",
              "      <td>0.0</td>\n",
              "      <td>134.0</td>\n",
              "      <td>100.0</td>\n",
              "      <td>100.0</td>\n",
              "      <td>...</td>\n",
              "      <td>NaN</td>\n",
              "      <td>NaN</td>\n",
              "      <td>NaN</td>\n",
              "      <td>NaN</td>\n",
              "      <td>NaN</td>\n",
              "      <td>NaN</td>\n",
              "      <td>NaN</td>\n",
              "      <td>NaN</td>\n",
              "      <td>NaN</td>\n",
              "      <td>NaN</td>\n",
              "    </tr>\n",
              "    <tr>\n",
              "      <th>165531</th>\n",
              "      <td>2021-01-05</td>\n",
              "      <td>PL2331LAHDS4TJ</td>\n",
              "      <td>HGST HMS5C4040BLE640</td>\n",
              "      <td>4000787030016</td>\n",
              "      <td>0</td>\n",
              "      <td>100.0</td>\n",
              "      <td>0.0</td>\n",
              "      <td>133.0</td>\n",
              "      <td>104.0</td>\n",
              "      <td>100.0</td>\n",
              "      <td>...</td>\n",
              "      <td>NaN</td>\n",
              "      <td>NaN</td>\n",
              "      <td>NaN</td>\n",
              "      <td>NaN</td>\n",
              "      <td>NaN</td>\n",
              "      <td>NaN</td>\n",
              "      <td>NaN</td>\n",
              "      <td>NaN</td>\n",
              "      <td>NaN</td>\n",
              "      <td>NaN</td>\n",
              "    </tr>\n",
              "    <tr>\n",
              "      <th>165532</th>\n",
              "      <td>2021-01-05</td>\n",
              "      <td>X0GEV9EC</td>\n",
              "      <td>WDC WUH721414ALE6L4</td>\n",
              "      <td>14000519643136</td>\n",
              "      <td>0</td>\n",
              "      <td>100.0</td>\n",
              "      <td>0.0</td>\n",
              "      <td>138.0</td>\n",
              "      <td>92.0</td>\n",
              "      <td>85.0</td>\n",
              "      <td>...</td>\n",
              "      <td>NaN</td>\n",
              "      <td>NaN</td>\n",
              "      <td>NaN</td>\n",
              "      <td>NaN</td>\n",
              "      <td>NaN</td>\n",
              "      <td>NaN</td>\n",
              "      <td>NaN</td>\n",
              "      <td>NaN</td>\n",
              "      <td>NaN</td>\n",
              "      <td>NaN</td>\n",
              "    </tr>\n",
              "  </tbody>\n",
              "</table>\n",
              "<p>5 rows × 149 columns</p>\n",
              "</div>\n",
              "      <button class=\"colab-df-convert\" onclick=\"convertToInteractive('df-ae2a6523-2757-4129-92a9-1f3386e69751')\"\n",
              "              title=\"Convert this dataframe to an interactive table.\"\n",
              "              style=\"display:none;\">\n",
              "        \n",
              "  <svg xmlns=\"http://www.w3.org/2000/svg\" height=\"24px\"viewBox=\"0 0 24 24\"\n",
              "       width=\"24px\">\n",
              "    <path d=\"M0 0h24v24H0V0z\" fill=\"none\"/>\n",
              "    <path d=\"M18.56 5.44l.94 2.06.94-2.06 2.06-.94-2.06-.94-.94-2.06-.94 2.06-2.06.94zm-11 1L8.5 8.5l.94-2.06 2.06-.94-2.06-.94L8.5 2.5l-.94 2.06-2.06.94zm10 10l.94 2.06.94-2.06 2.06-.94-2.06-.94-.94-2.06-.94 2.06-2.06.94z\"/><path d=\"M17.41 7.96l-1.37-1.37c-.4-.4-.92-.59-1.43-.59-.52 0-1.04.2-1.43.59L10.3 9.45l-7.72 7.72c-.78.78-.78 2.05 0 2.83L4 21.41c.39.39.9.59 1.41.59.51 0 1.02-.2 1.41-.59l7.78-7.78 2.81-2.81c.8-.78.8-2.07 0-2.86zM5.41 20L4 18.59l7.72-7.72 1.47 1.35L5.41 20z\"/>\n",
              "  </svg>\n",
              "      </button>\n",
              "      \n",
              "  <style>\n",
              "    .colab-df-container {\n",
              "      display:flex;\n",
              "      flex-wrap:wrap;\n",
              "      gap: 12px;\n",
              "    }\n",
              "\n",
              "    .colab-df-convert {\n",
              "      background-color: #E8F0FE;\n",
              "      border: none;\n",
              "      border-radius: 50%;\n",
              "      cursor: pointer;\n",
              "      display: none;\n",
              "      fill: #1967D2;\n",
              "      height: 32px;\n",
              "      padding: 0 0 0 0;\n",
              "      width: 32px;\n",
              "    }\n",
              "\n",
              "    .colab-df-convert:hover {\n",
              "      background-color: #E2EBFA;\n",
              "      box-shadow: 0px 1px 2px rgba(60, 64, 67, 0.3), 0px 1px 3px 1px rgba(60, 64, 67, 0.15);\n",
              "      fill: #174EA6;\n",
              "    }\n",
              "\n",
              "    [theme=dark] .colab-df-convert {\n",
              "      background-color: #3B4455;\n",
              "      fill: #D2E3FC;\n",
              "    }\n",
              "\n",
              "    [theme=dark] .colab-df-convert:hover {\n",
              "      background-color: #434B5C;\n",
              "      box-shadow: 0px 1px 3px 1px rgba(0, 0, 0, 0.15);\n",
              "      filter: drop-shadow(0px 1px 2px rgba(0, 0, 0, 0.3));\n",
              "      fill: #FFFFFF;\n",
              "    }\n",
              "  </style>\n",
              "\n",
              "      <script>\n",
              "        const buttonEl =\n",
              "          document.querySelector('#df-ae2a6523-2757-4129-92a9-1f3386e69751 button.colab-df-convert');\n",
              "        buttonEl.style.display =\n",
              "          google.colab.kernel.accessAllowed ? 'block' : 'none';\n",
              "\n",
              "        async function convertToInteractive(key) {\n",
              "          const element = document.querySelector('#df-ae2a6523-2757-4129-92a9-1f3386e69751');\n",
              "          const dataTable =\n",
              "            await google.colab.kernel.invokeFunction('convertToInteractive',\n",
              "                                                     [key], {});\n",
              "          if (!dataTable) return;\n",
              "\n",
              "          const docLinkHtml = 'Like what you see? Visit the ' +\n",
              "            '<a target=\"_blank\" href=https://colab.research.google.com/notebooks/data_table.ipynb>data table notebook</a>'\n",
              "            + ' to learn more about interactive tables.';\n",
              "          element.innerHTML = '';\n",
              "          dataTable['output_type'] = 'display_data';\n",
              "          await google.colab.output.renderOutput(dataTable, element);\n",
              "          const docLink = document.createElement('div');\n",
              "          docLink.innerHTML = docLinkHtml;\n",
              "          element.appendChild(docLink);\n",
              "        }\n",
              "      </script>\n",
              "    </div>\n",
              "  </div>\n",
              "  "
            ]
          },
          "metadata": {},
          "execution_count": 6
        }
      ],
      "source": [
        "Data.tail()"
      ]
    },
    {
      "cell_type": "code",
      "execution_count": 7,
      "metadata": {
        "colab": {
          "base_uri": "https://localhost:8080/"
        },
        "id": "OFLQ4fIy_Er9",
        "outputId": "de7bd30d-a197-4edd-fd36-de33bb39933e"
      },
      "outputs": [
        {
          "output_type": "execute_result",
          "data": {
            "text/plain": [
              "Index(['index', 'date', 'serial_number', 'model', 'capacity_bytes', 'failure',\n",
              "       'smart_1_normalized', 'smart_1_raw', 'smart_2_normalized',\n",
              "       'smart_2_raw',\n",
              "       ...\n",
              "       'smart_250_normalized', 'smart_250_raw', 'smart_251_normalized',\n",
              "       'smart_251_raw', 'smart_252_normalized', 'smart_252_raw',\n",
              "       'smart_254_normalized', 'smart_254_raw', 'smart_255_normalized',\n",
              "       'smart_255_raw'],\n",
              "      dtype='object', length=150)"
            ]
          },
          "metadata": {},
          "execution_count": 7
        }
      ],
      "source": [
        "Data.reset_index(inplace = True)\n",
        "Data['date'] = pd.to_datetime(Data['date'])\n",
        "Data.columns"
      ]
    },
    {
      "cell_type": "markdown",
      "metadata": {
        "id": "jbDTDRywuYl7"
      },
      "source": [
        "From the above Dataset it is found that it many features contains NaN values."
      ]
    },
    {
      "cell_type": "markdown",
      "metadata": {
        "id": "mMvcgQLEpinl"
      },
      "source": [
        "# 2. To Find the common features of all the models of HDD.\n",
        "\n",
        "\n",
        "\n",
        "\n",
        "\n"
      ]
    },
    {
      "cell_type": "markdown",
      "metadata": {
        "id": "Z4b7XudXLS7j"
      },
      "source": [
        "> Since each vendors provide different SMART attributes, I am finding and keeping the common attributes that each model have defined values.\n",
        "\n",
        "\n",
        "> Attributes with many NaN are removed."
      ]
    },
    {
      "cell_type": "code",
      "execution_count": 8,
      "metadata": {
        "colab": {
          "base_uri": "https://localhost:8080/"
        },
        "id": "7V_Mmy6UXI7n",
        "outputId": "50078f93-2d99-498a-9f62-e5002523510f"
      },
      "outputs": [
        {
          "output_type": "execute_result",
          "data": {
            "text/plain": [
              "Index(['date', 'serial_number', 'model', 'capacity_bytes', 'failure',\n",
              "       'smart_1_normalized', 'smart_1_raw', 'smart_2_normalized',\n",
              "       'smart_2_raw', 'smart_3_normalized',\n",
              "       ...\n",
              "       'smart_250_normalized', 'smart_250_raw', 'smart_251_normalized',\n",
              "       'smart_251_raw', 'smart_252_normalized', 'smart_252_raw',\n",
              "       'smart_254_normalized', 'smart_254_raw', 'smart_255_normalized',\n",
              "       'smart_255_raw'],\n",
              "      dtype='object', length=149)"
            ]
          },
          "metadata": {},
          "execution_count": 8
        }
      ],
      "source": [
        "# Creating the copy of original data with removing the columns containing all instances as NaN.\n",
        "Data.drop('index', axis = 1, inplace = True)\n",
        "Test = Data.dropna(how = 'all', axis = 1)\n",
        "Initial = Data.columns\n",
        "Initial"
      ]
    },
    {
      "cell_type": "code",
      "execution_count": 9,
      "metadata": {
        "colab": {
          "base_uri": "https://localhost:8080/"
        },
        "id": "-wnh46ZXA1Dx",
        "outputId": "427b1c27-99f3-4561-d535-ad8ce3d55641"
      },
      "outputs": [
        {
          "output_type": "execute_result",
          "data": {
            "text/plain": [
              "(827509, 139)"
            ]
          },
          "metadata": {},
          "execution_count": 9
        }
      ],
      "source": [
        "Test.shape # Shape of the data after removing the NaN Features."
      ]
    },
    {
      "cell_type": "code",
      "execution_count": 10,
      "metadata": {
        "colab": {
          "base_uri": "https://localhost:8080/"
        },
        "id": "8WDwz9QzA884",
        "outputId": "e3ddf5df-dc85-4be9-d0be-4213ca278017"
      },
      "outputs": [
        {
          "output_type": "execute_result",
          "data": {
            "text/plain": [
              "8"
            ]
          },
          "metadata": {},
          "execution_count": 10
        }
      ],
      "source": [
        "# Critical Features for HDD failure as mentioned in Wikipedia and BlackBlaze.\n",
        "# These features are removed to find other common features of all the models.\n",
        "Features = ['5', '10', '184', '187', '188', '196', '197', '198']\n",
        "len(Features)"
      ]
    },
    {
      "cell_type": "code",
      "execution_count": 11,
      "metadata": {
        "id": "GXeV334bA846",
        "outputId": "2d413ac5-5fd6-40db-d6b3-7a50b8fb0f1e",
        "colab": {
          "base_uri": "https://localhost:8080/"
        }
      },
      "outputs": [
        {
          "output_type": "stream",
          "name": "stderr",
          "text": [
            "/usr/local/lib/python3.8/dist-packages/pandas/core/frame.py:4906: SettingWithCopyWarning: \n",
            "A value is trying to be set on a copy of a slice from a DataFrame\n",
            "\n",
            "See the caveats in the documentation: https://pandas.pydata.org/pandas-docs/stable/user_guide/indexing.html#returning-a-view-versus-a-copy\n",
            "  return super().drop(\n"
          ]
        }
      ],
      "source": [
        "for i in Features:\n",
        "  features = ['smart_' + i + '_normalized', 'smart_' + i + '_raw']\n",
        "  Test.drop(features, axis = 1, inplace = True)"
      ]
    },
    {
      "cell_type": "code",
      "execution_count": 12,
      "metadata": {
        "colab": {
          "base_uri": "https://localhost:8080/"
        },
        "id": "j_AAlxPLA832",
        "outputId": "9e9ae1f1-7c45-4d19-df0d-8e6fc8ded6d7"
      },
      "outputs": [
        {
          "output_type": "execute_result",
          "data": {
            "text/plain": [
              "(827509, 123)"
            ]
          },
          "metadata": {},
          "execution_count": 12
        }
      ],
      "source": [
        "# Shape of the data after removing the critical features.\n",
        "Test.shape "
      ]
    },
    {
      "cell_type": "code",
      "execution_count": 13,
      "metadata": {
        "colab": {
          "base_uri": "https://localhost:8080/",
          "height": 1000
        },
        "id": "oQfgRDw3tZWI",
        "outputId": "5a856696-b776-4e7f-eb18-ca756e528ee0"
      },
      "outputs": [
        {
          "output_type": "display_data",
          "data": {
            "text/plain": [
              "<Figure size 1440x1440 with 1 Axes>"
            ],
            "image/png": "[encoded data removed]"
          },
          "metadata": {
            "needs_background": "light"
          }
        }
      ],
      "source": [
        "# Checking the count and percentage of unique models from the data.\n",
        "total = len(Data)\n",
        "plt.figure(figsize = (20,20))\n",
        "ax = sns.countplot(x = \"model\", data = Test, order = Test.model.value_counts().index)\n",
        "for p in ax.patches:\n",
        "        ax.annotate('{:.4f}% ({})'.format(100*p.get_height()/total, p.get_height()), (p.get_x()+0.1, p.get_height()+5), rotation = 'vertical')\n",
        "\n",
        "#put 11 ticks (therefore 10 steps), from 0 to the total number of rows in the dataframe\n",
        "ax.yaxis.set_ticks(np.linspace(0, total, 11))\n",
        "\n",
        "#adjust the ticklabel to the desired format, without changing the position of the ticks. \n",
        "ax.set_yticklabels(map('{:.1f}%'.format, 100*ax.yaxis.get_majorticklocs()/total))\n",
        "plt.xticks(rotation=90)\n",
        "plt.title('Counts of every HDD model')\n",
        "plt.grid(True)\n",
        "plt.show()"
      ]
    },
    {
      "cell_type": "code",
      "execution_count": 14,
      "metadata": {
        "colab": {
          "base_uri": "https://localhost:8080/",
          "height": 390
        },
        "id": "yH5s7PO6jdBa",
        "outputId": "069686e9-a42d-4e98-c6cc-bef0d8c73b9a"
      },
      "outputs": [
        {
          "output_type": "display_data",
          "data": {
            "text/plain": [
              "<Figure size 432x288 with 1 Axes>"
            ],
            "image/png": "[encoded data removed]"
          },
          "metadata": {
            "needs_background": "light"
          }
        }
      ],
      "source": [
        "#This plot tells the number of HDD failed in each days\n",
        "ax = Test.groupby(['date', 'failure'])['failure'].count().unstack(1)[1].plot.bar()\n",
        "for p in ax.patches:\n",
        "        ax.annotate('({})'.format(p.get_height()), (p.get_x()+0.1, p.get_height()+0.1))\n",
        "plt.legend()\n",
        "plt.title(\"Number of HDD failed in each Day's\")\n",
        "plt.show()"
      ]
    },
    {
      "cell_type": "code",
      "execution_count": 15,
      "metadata": {
        "colab": {
          "base_uri": "https://localhost:8080/"
        },
        "id": "z2T1WSOPA8yU",
        "outputId": "f52096a3-5a08-4f3a-f19d-d5419a5da2d8"
      },
      "outputs": [
        {
          "output_type": "stream",
          "name": "stdout",
          "text": [
            "Number of Unique Models:  59\n",
            "Index(['ST12000NM0007', 'TOSHIBA MG07ACA14TA', 'ST12000NM0008', 'ST4000DM000',\n",
            "       'ST8000NM0055', 'HGST HMS5C4040BLE640', 'HGST HUH721212ALN604',\n",
            "       'ST8000DM002', 'ST12000NM001G', 'ST14000NM001G', 'WDC WUH721414ALE6L4',\n",
            "       'HGST HMS5C4040ALE640', 'HGST HUH721212ALE600', 'HGST HUH721212ALE604',\n",
            "       'ST10000NM0086', 'HGST HUH728080ALE600', 'TOSHIBA MG08ACA16TEY',\n",
            "       'ST6000DX000', 'Seagate BarraCuda SSD ZA250CM10002', 'ST500LM012 HN',\n",
            "       'Seagate BarraCuda 120 SSD ZA250CM10003', 'TOSHIBA MQ01ABF050M',\n",
            "       'ST14000NM0138', 'TOSHIBA MQ01ABF050', 'ST500LM030', 'WDC WD5000LPVX',\n",
            "       'TOSHIBA MG07ACA14TEY', 'DELLBOSS VD', 'Seagate SSD',\n",
            "       'TOSHIBA MD04ABA400V', 'WDC  WUH721414ALE6L4', 'ST18000NM000J',\n",
            "       'ST16000NM001G', 'WDC WD5000LPCX', 'TOSHIBA MG08ACA16TA', 'ST4000DM005',\n",
            "       'MTFDDAV240TCB', 'ST500LM021', 'HGST HUS726040ALE610', 'ST16000NM005G',\n",
            "       'ST8000DM005', 'HGST HDS5C4040ALE630', 'HGST HUH721010ALE600',\n",
            "       'Seagate BarraCuda SSD ZA500CM10002', 'TOSHIBA HDWF180',\n",
            "       'ST12000NM0117', 'WDC WD5000BPKT', 'ST14000NM0018', 'TOSHIBA HDWE160',\n",
            "       'Seagate BarraCuda SSD ZA2000CM10002', 'SSDSCKKB480G8R', 'ST6000DM001',\n",
            "       'WDC WD60EFRX', 'Hitachi HDS5C4040ALE630', 'MTFDDAV240TDU',\n",
            "       'HGST HMS5C4040BLE641', 'ST1000LM024 HN', 'ST6000DM004', 'ST8000DM004'],\n",
            "      dtype='object')\n"
          ]
        }
      ],
      "source": [
        "models = Test.model.value_counts().index\n",
        "print(\"Number of Unique Models: \", len(models))\n",
        "print(models)"
      ]
    },
    {
      "cell_type": "code",
      "execution_count": 16,
      "metadata": {
        "colab": {
          "base_uri": "https://localhost:8080/"
        },
        "id": "xbPG_Nw_nbge",
        "outputId": "0ef431ad-0242-46de-963e-30f138ab6048"
      },
      "outputs": [
        {
          "output_type": "stream",
          "name": "stdout",
          "text": [
            "ST12000NM0007 failure_rate is 0.00347 %\n",
            "TOSHIBA MG07ACA14TA failure_rate is 0.00095 %\n",
            "ST12000NM0008 failure_rate is 0.00622 %\n",
            "ST4000DM000 failure_rate is 0.00423 %\n",
            "ST8000NM0055 failure_rate is 0 %\n",
            "HGST HMS5C4040BLE640 failure_rate is 0.00157 %\n",
            "HGST HUH721212ALN604 failure_rate is 0 %\n",
            "ST8000DM002 failure_rate is 0 %\n",
            "ST12000NM001G failure_rate is 0.00561 %\n",
            "ST14000NM001G failure_rate is 0 %\n",
            "WDC WUH721414ALE6L4 failure_rate is 0 %\n",
            "HGST HMS5C4040ALE640 failure_rate is 0 %\n",
            "HGST HUH721212ALE600 failure_rate is 0 %\n",
            "HGST HUH721212ALE604 failure_rate is 0 %\n",
            "ST10000NM0086 failure_rate is 0.03331 %\n",
            "HGST HUH728080ALE600 failure_rate is 0 %\n",
            "TOSHIBA MG08ACA16TEY failure_rate is 0 %\n",
            "ST6000DX000 failure_rate is 0 %\n",
            "Seagate BarraCuda SSD ZA250CM10002 failure_rate is 0 %\n",
            "ST500LM012 HN failure_rate is 0 %\n",
            "Seagate BarraCuda 120 SSD ZA250CM10003 failure_rate is 0.04924 %\n",
            "TOSHIBA MQ01ABF050M failure_rate is 0 %\n",
            "ST14000NM0138 failure_rate is 0 %\n",
            "TOSHIBA MQ01ABF050 failure_rate is 0.17007 %\n",
            "ST500LM030 failure_rate is 0 %\n",
            "WDC WD5000LPVX failure_rate is 0 %\n",
            "TOSHIBA MG07ACA14TEY failure_rate is 0 %\n",
            "DELLBOSS VD failure_rate is 0 %\n",
            "Seagate SSD failure_rate is 0 %\n",
            "TOSHIBA MD04ABA400V failure_rate is 0 %\n",
            "WDC  WUH721414ALE6L4 failure_rate is 0 %\n",
            "ST18000NM000J failure_rate is 0 %\n",
            "ST16000NM001G failure_rate is 0 %\n",
            "WDC WD5000LPCX failure_rate is 0 %\n",
            "TOSHIBA MG08ACA16TA failure_rate is 0 %\n",
            "ST4000DM005 failure_rate is 0 %\n",
            "MTFDDAV240TCB failure_rate is 0 %\n",
            "ST500LM021 failure_rate is 0 %\n",
            "HGST HUS726040ALE610 failure_rate is 0 %\n",
            "ST16000NM005G failure_rate is 0 %\n",
            "ST8000DM005 failure_rate is 0 %\n",
            "HGST HDS5C4040ALE630 failure_rate is 0 %\n",
            "HGST HUH721010ALE600 failure_rate is 0 %\n",
            "Seagate BarraCuda SSD ZA500CM10002 failure_rate is 0 %\n",
            "TOSHIBA HDWF180 failure_rate is 0 %\n",
            "ST12000NM0117 failure_rate is 0 %\n",
            "WDC WD5000BPKT failure_rate is 0 %\n",
            "ST14000NM0018 failure_rate is 0 %\n",
            "TOSHIBA HDWE160 failure_rate is 0 %\n",
            "Seagate BarraCuda SSD ZA2000CM10002 failure_rate is 0 %\n",
            "SSDSCKKB480G8R failure_rate is 0 %\n",
            "ST6000DM001 failure_rate is 0 %\n",
            "WDC WD60EFRX failure_rate is 0 %\n",
            "Hitachi HDS5C4040ALE630 failure_rate is 0 %\n",
            "MTFDDAV240TDU failure_rate is 0 %\n",
            "HGST HMS5C4040BLE641 failure_rate is 0 %\n",
            "ST1000LM024 HN failure_rate is 0 %\n",
            "ST6000DM004 failure_rate is 0 %\n",
            "ST8000DM004 failure_rate is 0 %\n"
          ]
        }
      ],
      "source": [
        "# Finding the failure rate of every model in 7 days.\n",
        "for i in models:\n",
        "  try:\n",
        "    c = Test[Test.model == i].failure.value_counts()[1] / len(Test[Test.model == i]) * 100\n",
        "    print(i, 'failure_rate is {:.5f} %'.format(c))\n",
        "  except KeyError:\n",
        "    print(i, 'failure_rate is 0 %')"
      ]
    },
    {
      "cell_type": "markdown",
      "metadata": {
        "id": "SnqlZkpJr19K"
      },
      "source": [
        "From the above it is found that only five models have failed in these 7 days."
      ]
    },
    {
      "cell_type": "code",
      "execution_count": 17,
      "metadata": {
        "colab": {
          "base_uri": "https://localhost:8080/",
          "height": 404
        },
        "id": "__PgAGjT_HLA",
        "outputId": "ac06396a-0398-4af9-98e2-b8aefa9a2a52"
      },
      "outputs": [
        {
          "output_type": "stream",
          "name": "stdout",
          "text": [
            "Warning: Total number of columns (123) exceeds max_columns (20). Falling back to pandas display.\n"
          ]
        },
        {
          "output_type": "execute_result",
          "data": {
            "text/plain": [
              "        date serial_number          model  capacity_bytes  failure  \\\n",
              "0 2021-01-01      ZLW0EGC6  ST12000NM001G  12000138625024        0   \n",
              "1 2021-01-01      Z305B2QN    ST4000DM000   4000787030016        0   \n",
              "2 2021-01-01      ZLW0C6NE  ST12000NM001G  12000138625024        0   \n",
              "3 2021-01-01      ZJV0XJQ3  ST12000NM0007  12000138625024        0   \n",
              "4 2021-01-01      ZLW18MKT  ST14000NM001G  14000519643136        0   \n",
              "\n",
              "   smart_1_normalized  smart_1_raw  smart_2_normalized  smart_2_raw  \\\n",
              "0                83.0  213166608.0                 NaN          NaN   \n",
              "1               114.0   79306032.0                 NaN          NaN   \n",
              "2                72.0   17162816.0                 NaN          NaN   \n",
              "3               100.0    1102160.0                 NaN          NaN   \n",
              "4                75.0   33233248.0                 NaN          NaN   \n",
              "\n",
              "   smart_3_normalized  ...  smart_242_normalized  smart_242_raw  \\\n",
              "0                99.0  ...                 100.0   7.022831e+10   \n",
              "1                91.0  ...                 100.0   5.457889e+11   \n",
              "2                98.0  ...                 100.0   8.706921e+10   \n",
              "3                98.0  ...                 100.0   1.295292e+11   \n",
              "4                95.0  ...                 100.0   1.872005e+10   \n",
              "\n",
              "   smart_245_normalized  smart_245_raw  smart_247_normalized  smart_247_raw  \\\n",
              "0                   NaN            NaN                   NaN            NaN   \n",
              "1                   NaN            NaN                   NaN            NaN   \n",
              "2                   NaN            NaN                   NaN            NaN   \n",
              "3                   NaN            NaN                   NaN            NaN   \n",
              "4                   NaN            NaN                   NaN            NaN   \n",
              "\n",
              "   smart_248_normalized  smart_248_raw  smart_254_normalized  smart_254_raw  \n",
              "0                   NaN            NaN                   NaN            NaN  \n",
              "1                   NaN            NaN                   NaN            NaN  \n",
              "2                   NaN            NaN                   NaN            NaN  \n",
              "3                   NaN            NaN                   NaN            NaN  \n",
              "4                   NaN            NaN                   NaN            NaN  \n",
              "\n",
              "[5 rows x 123 columns]"
            ],
            "text/html": [
              "\n",
              "  <div id=\"df-27a0619f-9276-476e-8888-f2ed838f9a1d\">\n",
              "    <div class=\"colab-df-container\">\n",
              "      <div>\n",
              "<style scoped>\n",
              "    .dataframe tbody tr th:only-of-type {\n",
              "        vertical-align: middle;\n",
              "    }\n",
              "\n",
              "    .dataframe tbody tr th {\n",
              "        vertical-align: top;\n",
              "    }\n",
              "\n",
              "    .dataframe thead th {\n",
              "        text-align: right;\n",
              "    }\n",
              "</style>\n",
              "<table border=\"1\" class=\"dataframe\">\n",
              "  <thead>\n",
              "    <tr style=\"text-align: right;\">\n",
              "      <th></th>\n",
              "      <th>date</th>\n",
              "      <th>serial_number</th>\n",
              "      <th>model</th>\n",
              "      <th>capacity_bytes</th>\n",
              "      <th>failure</th>\n",
              "      <th>smart_1_normalized</th>\n",
              "      <th>smart_1_raw</th>\n",
              "      <th>smart_2_normalized</th>\n",
              "      <th>smart_2_raw</th>\n",
              "      <th>smart_3_normalized</th>\n",
              "      <th>...</th>\n",
              "      <th>smart_242_normalized</th>\n",
              "      <th>smart_242_raw</th>\n",
              "      <th>smart_245_normalized</th>\n",
              "      <th>smart_245_raw</th>\n",
              "      <th>smart_247_normalized</th>\n",
              "      <th>smart_247_raw</th>\n",
              "      <th>smart_248_normalized</th>\n",
              "      <th>smart_248_raw</th>\n",
              "      <th>smart_254_normalized</th>\n",
              "      <th>smart_254_raw</th>\n",
              "    </tr>\n",
              "  </thead>\n",
              "  <tbody>\n",
              "    <tr>\n",
              "      <th>0</th>\n",
              "      <td>2021-01-01</td>\n",
              "      <td>ZLW0EGC6</td>\n",
              "      <td>ST12000NM001G</td>\n",
              "      <td>12000138625024</td>\n",
              "      <td>0</td>\n",
              "      <td>83.0</td>\n",
              "      <td>213166608.0</td>\n",
              "      <td>NaN</td>\n",
              "      <td>NaN</td>\n",
              "      <td>99.0</td>\n",
              "      <td>...</td>\n",
              "      <td>100.0</td>\n",
              "      <td>7.022831e+10</td>\n",
              "      <td>NaN</td>\n",
              "      <td>NaN</td>\n",
              "      <td>NaN</td>\n",
              "      <td>NaN</td>\n",
              "      <td>NaN</td>\n",
              "      <td>NaN</td>\n",
              "      <td>NaN</td>\n",
              "      <td>NaN</td>\n",
              "    </tr>\n",
              "    <tr>\n",
              "      <th>1</th>\n",
              "      <td>2021-01-01</td>\n",
              "      <td>Z305B2QN</td>\n",
              "      <td>ST4000DM000</td>\n",
              "      <td>4000787030016</td>\n",
              "      <td>0</td>\n",
              "      <td>114.0</td>\n",
              "      <td>79306032.0</td>\n",
              "      <td>NaN</td>\n",
              "      <td>NaN</td>\n",
              "      <td>91.0</td>\n",
              "      <td>...</td>\n",
              "      <td>100.0</td>\n",
              "      <td>5.457889e+11</td>\n",
              "      <td>NaN</td>\n",
              "      <td>NaN</td>\n",
              "      <td>NaN</td>\n",
              "      <td>NaN</td>\n",
              "      <td>NaN</td>\n",
              "      <td>NaN</td>\n",
              "      <td>NaN</td>\n",
              "      <td>NaN</td>\n",
              "    </tr>\n",
              "    <tr>\n",
              "      <th>2</th>\n",
              "      <td>2021-01-01</td>\n",
              "      <td>ZLW0C6NE</td>\n",
              "      <td>ST12000NM001G</td>\n",
              "      <td>12000138625024</td>\n",
              "      <td>0</td>\n",
              "      <td>72.0</td>\n",
              "      <td>17162816.0</td>\n",
              "      <td>NaN</td>\n",
              "      <td>NaN</td>\n",
              "      <td>98.0</td>\n",
              "      <td>...</td>\n",
              "      <td>100.0</td>\n",
              "      <td>8.706921e+10</td>\n",
              "      <td>NaN</td>\n",
              "      <td>NaN</td>\n",
              "      <td>NaN</td>\n",
              "      <td>NaN</td>\n",
              "      <td>NaN</td>\n",
              "      <td>NaN</td>\n",
              "      <td>NaN</td>\n",
              "      <td>NaN</td>\n",
              "    </tr>\n",
              "    <tr>\n",
              "      <th>3</th>\n",
              "      <td>2021-01-01</td>\n",
              "      <td>ZJV0XJQ3</td>\n",
              "      <td>ST12000NM0007</td>\n",
              "      <td>12000138625024</td>\n",
              "      <td>0</td>\n",
              "      <td>100.0</td>\n",
              "      <td>1102160.0</td>\n",
              "      <td>NaN</td>\n",
              "      <td>NaN</td>\n",
              "      <td>98.0</td>\n",
              "      <td>...</td>\n",
              "      <td>100.0</td>\n",
              "      <td>1.295292e+11</td>\n",
              "      <td>NaN</td>\n",
              "      <td>NaN</td>\n",
              "      <td>NaN</td>\n",
              "      <td>NaN</td>\n",
              "      <td>NaN</td>\n",
              "      <td>NaN</td>\n",
              "      <td>NaN</td>\n",
              "      <td>NaN</td>\n",
              "    </tr>\n",
              "    <tr>\n",
              "      <th>4</th>\n",
              "      <td>2021-01-01</td>\n",
              "      <td>ZLW18MKT</td>\n",
              "      <td>ST14000NM001G</td>\n",
              "      <td>14000519643136</td>\n",
              "      <td>0</td>\n",
              "      <td>75.0</td>\n",
              "      <td>33233248.0</td>\n",
              "      <td>NaN</td>\n",
              "      <td>NaN</td>\n",
              "      <td>95.0</td>\n",
              "      <td>...</td>\n",
              "      <td>100.0</td>\n",
              "      <td>1.872005e+10</td>\n",
              "      <td>NaN</td>\n",
              "      <td>NaN</td>\n",
              "      <td>NaN</td>\n",
              "      <td>NaN</td>\n",
              "      <td>NaN</td>\n",
              "      <td>NaN</td>\n",
              "      <td>NaN</td>\n",
              "      <td>NaN</td>\n",
              "    </tr>\n",
              "  </tbody>\n",
              "</table>\n",
              "<p>5 rows × 123 columns</p>\n",
              "</div>\n",
              "      <button class=\"colab-df-convert\" onclick=\"convertToInteractive('df-27a0619f-9276-476e-8888-f2ed838f9a1d')\"\n",
              "              title=\"Convert this dataframe to an interactive table.\"\n",
              "              style=\"display:none;\">\n",
              "        \n",
              "  <svg xmlns=\"http://www.w3.org/2000/svg\" height=\"24px\"viewBox=\"0 0 24 24\"\n",
              "       width=\"24px\">\n",
              "    <path d=\"M0 0h24v24H0V0z\" fill=\"none\"/>\n",
              "    <path d=\"M18.56 5.44l.94 2.06.94-2.06 2.06-.94-2.06-.94-.94-2.06-.94 2.06-2.06.94zm-11 1L8.5 8.5l.94-2.06 2.06-.94-2.06-.94L8.5 2.5l-.94 2.06-2.06.94zm10 10l.94 2.06.94-2.06 2.06-.94-2.06-.94-.94-2.06-.94 2.06-2.06.94z\"/><path d=\"M17.41 7.96l-1.37-1.37c-.4-.4-.92-.59-1.43-.59-.52 0-1.04.2-1.43.59L10.3 9.45l-7.72 7.72c-.78.78-.78 2.05 0 2.83L4 21.41c.39.39.9.59 1.41.59.51 0 1.02-.2 1.41-.59l7.78-7.78 2.81-2.81c.8-.78.8-2.07 0-2.86zM5.41 20L4 18.59l7.72-7.72 1.47 1.35L5.41 20z\"/>\n",
              "  </svg>\n",
              "      </button>\n",
              "      \n",
              "  <style>\n",
              "    .colab-df-container {\n",
              "      display:flex;\n",
              "      flex-wrap:wrap;\n",
              "      gap: 12px;\n",
              "    }\n",
              "\n",
              "    .colab-df-convert {\n",
              "      background-color: #E8F0FE;\n",
              "      border: none;\n",
              "      border-radius: 50%;\n",
              "      cursor: pointer;\n",
              "      display: none;\n",
              "      fill: #1967D2;\n",
              "      height: 32px;\n",
              "      padding: 0 0 0 0;\n",
              "      width: 32px;\n",
              "    }\n",
              "\n",
              "    .colab-df-convert:hover {\n",
              "      background-color: #E2EBFA;\n",
              "      box-shadow: 0px 1px 2px rgba(60, 64, 67, 0.3), 0px 1px 3px 1px rgba(60, 64, 67, 0.15);\n",
              "      fill: #174EA6;\n",
              "    }\n",
              "\n",
              "    [theme=dark] .colab-df-convert {\n",
              "      background-color: #3B4455;\n",
              "      fill: #D2E3FC;\n",
              "    }\n",
              "\n",
              "    [theme=dark] .colab-df-convert:hover {\n",
              "      background-color: #434B5C;\n",
              "      box-shadow: 0px 1px 3px 1px rgba(0, 0, 0, 0.15);\n",
              "      filter: drop-shadow(0px 1px 2px rgba(0, 0, 0, 0.3));\n",
              "      fill: #FFFFFF;\n",
              "    }\n",
              "  </style>\n",
              "\n",
              "      <script>\n",
              "        const buttonEl =\n",
              "          document.querySelector('#df-27a0619f-9276-476e-8888-f2ed838f9a1d button.colab-df-convert');\n",
              "        buttonEl.style.display =\n",
              "          google.colab.kernel.accessAllowed ? 'block' : 'none';\n",
              "\n",
              "        async function convertToInteractive(key) {\n",
              "          const element = document.querySelector('#df-27a0619f-9276-476e-8888-f2ed838f9a1d');\n",
              "          const dataTable =\n",
              "            await google.colab.kernel.invokeFunction('convertToInteractive',\n",
              "                                                     [key], {});\n",
              "          if (!dataTable) return;\n",
              "\n",
              "          const docLinkHtml = 'Like what you see? Visit the ' +\n",
              "            '<a target=\"_blank\" href=https://colab.research.google.com/notebooks/data_table.ipynb>data table notebook</a>'\n",
              "            + ' to learn more about interactive tables.';\n",
              "          element.innerHTML = '';\n",
              "          dataTable['output_type'] = 'display_data';\n",
              "          await google.colab.output.renderOutput(dataTable, element);\n",
              "          const docLink = document.createElement('div');\n",
              "          docLink.innerHTML = docLinkHtml;\n",
              "          element.appendChild(docLink);\n",
              "        }\n",
              "      </script>\n",
              "    </div>\n",
              "  </div>\n",
              "  "
            ]
          },
          "metadata": {},
          "execution_count": 17
        }
      ],
      "source": [
        "Test.head()"
      ]
    },
    {
      "cell_type": "code",
      "execution_count": 18,
      "metadata": {
        "colab": {
          "base_uri": "https://localhost:8080/"
        },
        "id": "qIrnuvjuZac5",
        "outputId": "f141e967-8179-4f38-be64-8905d4a1d13f"
      },
      "outputs": [
        {
          "output_type": "stream",
          "name": "stdout",
          "text": [
            "date                    0.000000\n",
            "serial_number           0.000000\n",
            "model                   0.000000\n",
            "capacity_bytes          0.000000\n",
            "failure                 0.000000\n",
            "                          ...   \n",
            "smart_247_raw           0.999988\n",
            "smart_248_normalized    0.999988\n",
            "smart_248_raw           0.999988\n",
            "smart_254_normalized    0.998284\n",
            "smart_254_raw           0.998284\n",
            "Length: 123, dtype: float64\n"
          ]
        },
        {
          "output_type": "execute_result",
          "data": {
            "text/plain": [
              "90"
            ]
          },
          "metadata": {},
          "execution_count": 18
        }
      ],
      "source": [
        "# Finding the features which has NaN percentage greater than 50%\n",
        "M_features = Test.columns\n",
        "print(Test.isnull().sum(axis = 0) / len(Test))\n",
        "index = np.where(Test.isnull().sum(axis = 0) / len(Test) >= 0.5)[0]\n",
        "len(index) # Count of the found features."
      ]
    },
    {
      "cell_type": "code",
      "execution_count": 19,
      "metadata": {
        "colab": {
          "base_uri": "https://localhost:8080/"
        },
        "id": "MoHqoQayZrVe",
        "outputId": "e5273749-147b-4fc1-a5ae-82fb1cb77ba7"
      },
      "outputs": [
        {
          "output_type": "execute_result",
          "data": {
            "text/plain": [
              "Index(['smart_2_normalized', 'smart_2_raw', 'smart_8_normalized',\n",
              "       'smart_8_raw', 'smart_11_normalized', 'smart_11_raw',\n",
              "       'smart_13_normalized', 'smart_13_raw', 'smart_16_normalized',\n",
              "       'smart_16_raw', 'smart_17_normalized', 'smart_17_raw',\n",
              "       'smart_18_normalized', 'smart_18_raw', 'smart_22_normalized',\n",
              "       'smart_22_raw', 'smart_23_normalized', 'smart_23_raw',\n",
              "       'smart_24_normalized', 'smart_24_raw', 'smart_168_normalized',\n",
              "       'smart_168_raw', 'smart_170_normalized', 'smart_170_raw',\n",
              "       'smart_173_normalized', 'smart_173_raw', 'smart_174_normalized',\n",
              "       'smart_174_raw', 'smart_175_normalized', 'smart_175_raw',\n",
              "       'smart_177_normalized', 'smart_177_raw', 'smart_179_normalized',\n",
              "       'smart_179_raw', 'smart_180_normalized', 'smart_180_raw',\n",
              "       'smart_181_normalized', 'smart_181_raw', 'smart_182_normalized',\n",
              "       'smart_182_raw', 'smart_183_normalized', 'smart_183_raw',\n",
              "       'smart_189_normalized', 'smart_189_raw', 'smart_191_normalized',\n",
              "       'smart_191_raw', 'smart_195_normalized', 'smart_195_raw',\n",
              "       'smart_200_normalized', 'smart_200_raw', 'smart_201_normalized',\n",
              "       'smart_201_raw', 'smart_202_normalized', 'smart_202_raw',\n",
              "       'smart_206_normalized', 'smart_206_raw', 'smart_210_normalized',\n",
              "       'smart_210_raw', 'smart_218_normalized', 'smart_218_raw',\n",
              "       'smart_220_normalized', 'smart_220_raw', 'smart_222_normalized',\n",
              "       'smart_222_raw', 'smart_223_normalized', 'smart_223_raw',\n",
              "       'smart_224_normalized', 'smart_224_raw', 'smart_225_normalized',\n",
              "       'smart_225_raw', 'smart_226_normalized', 'smart_226_raw',\n",
              "       'smart_231_normalized', 'smart_231_raw', 'smart_232_normalized',\n",
              "       'smart_232_raw', 'smart_233_normalized', 'smart_233_raw',\n",
              "       'smart_234_normalized', 'smart_234_raw', 'smart_235_normalized',\n",
              "       'smart_235_raw', 'smart_245_normalized', 'smart_245_raw',\n",
              "       'smart_247_normalized', 'smart_247_raw', 'smart_248_normalized',\n",
              "       'smart_248_raw', 'smart_254_normalized', 'smart_254_raw'],\n",
              "      dtype='object')"
            ]
          },
          "metadata": {},
          "execution_count": 19
        }
      ],
      "source": [
        "M_features[index]"
      ]
    },
    {
      "cell_type": "markdown",
      "metadata": {
        "id": "WXU7S9oQRTRY"
      },
      "source": [
        "##### These are the attributes which have more than 50% of NaN."
      ]
    },
    {
      "cell_type": "markdown",
      "metadata": {
        "id": "3xksfbafvM4j"
      },
      "source": [
        "# 3. Relevant Features for Dataset"
      ]
    },
    {
      "cell_type": "code",
      "execution_count": 20,
      "metadata": {
        "id": "kv6Ej__mDw9Y"
      },
      "outputs": [],
      "source": [
        "f = ['date',\t'serial_number',\t'model',\t'capacity_bytes',\t'failure']"
      ]
    },
    {
      "cell_type": "code",
      "execution_count": 21,
      "metadata": {
        "colab": {
          "base_uri": "https://localhost:8080/"
        },
        "id": "ceWtz821xuBE",
        "outputId": "37251241-47e2-477e-9af6-5b4bae253bc2"
      },
      "outputs": [
        {
          "output_type": "execute_result",
          "data": {
            "text/plain": [
              "10"
            ]
          },
          "metadata": {},
          "execution_count": 21
        }
      ],
      "source": [
        "Null = np.where(Data.isnull().sum(axis = 0) == len(Data))[0]\n",
        "len(Initial[Null])"
      ]
    },
    {
      "cell_type": "code",
      "execution_count": 22,
      "metadata": {
        "colab": {
          "base_uri": "https://localhost:8080/"
        },
        "id": "gX70BgpLXmSr",
        "outputId": "c59f7d80-12eb-47b3-c597-6fc94ae91ca3"
      },
      "outputs": [
        {
          "output_type": "stream",
          "name": "stdout",
          "text": [
            "(827509, 139)\n"
          ]
        }
      ],
      "source": [
        "# Dropping the features with all instances as NaN from the original Dataset.\n",
        "Data.dropna(how = 'all', axis = 1, inplace = True) \n",
        "print(Data.shape)\n",
        "del Test # Removing the Test Dataframe to free the memory."
      ]
    },
    {
      "cell_type": "code",
      "execution_count": 23,
      "metadata": {
        "colab": {
          "base_uri": "https://localhost:8080/"
        },
        "id": "yHgE7Y6cZ7yY",
        "outputId": "ea27a242-1075-487b-a949-bc38baf5a4f1"
      },
      "outputs": [
        {
          "output_type": "execute_result",
          "data": {
            "text/plain": [
              "(827509, 49)"
            ]
          },
          "metadata": {},
          "execution_count": 23
        }
      ],
      "source": [
        "# Dropping the uncommon features found from above task from the original Dataset.\n",
        "Data.drop(M_features[index], axis = 1, inplace = True)\n",
        "Data.shape # Final shape of Data with relevant SMART attributes."
      ]
    },
    {
      "cell_type": "code",
      "execution_count": 24,
      "metadata": {
        "colab": {
          "base_uri": "https://localhost:8080/",
          "height": 404
        },
        "id": "MODn4jrYXmku",
        "outputId": "384eeba1-2482-4734-809b-5c3b67f26da0"
      },
      "outputs": [
        {
          "output_type": "stream",
          "name": "stdout",
          "text": [
            "Warning: Total number of columns (49) exceeds max_columns (20). Falling back to pandas display.\n"
          ]
        },
        {
          "output_type": "execute_result",
          "data": {
            "text/plain": [
              "        date serial_number          model  capacity_bytes  failure  \\\n",
              "0 2021-01-01      ZLW0EGC6  ST12000NM001G  12000138625024        0   \n",
              "1 2021-01-01      Z305B2QN    ST4000DM000   4000787030016        0   \n",
              "2 2021-01-01      ZLW0C6NE  ST12000NM001G  12000138625024        0   \n",
              "3 2021-01-01      ZJV0XJQ3  ST12000NM0007  12000138625024        0   \n",
              "4 2021-01-01      ZLW18MKT  ST14000NM001G  14000519643136        0   \n",
              "\n",
              "   smart_1_normalized  smart_1_raw  smart_3_normalized  smart_3_raw  \\\n",
              "0                83.0  213166608.0                99.0          0.0   \n",
              "1               114.0   79306032.0                91.0          0.0   \n",
              "2                72.0   17162816.0                98.0          0.0   \n",
              "3               100.0    1102160.0                98.0          0.0   \n",
              "4                75.0   33233248.0                95.0          0.0   \n",
              "\n",
              "   smart_4_normalized  ...  smart_198_normalized  smart_198_raw  \\\n",
              "0               100.0  ...                 100.0            0.0   \n",
              "1               100.0  ...                 100.0            0.0   \n",
              "2               100.0  ...                 100.0            0.0   \n",
              "3               100.0  ...                 100.0            0.0   \n",
              "4               100.0  ...                 100.0            0.0   \n",
              "\n",
              "   smart_199_normalized  smart_199_raw  smart_240_normalized  smart_240_raw  \\\n",
              "0                 200.0            0.0                 100.0         4910.0   \n",
              "1                 200.0            0.0                 100.0        44001.0   \n",
              "2                 200.0            0.0                 100.0         5414.0   \n",
              "3                 200.0            0.0                 100.0        17282.0   \n",
              "4                 200.0            0.0                 100.0          745.0   \n",
              "\n",
              "   smart_241_normalized  smart_241_raw  smart_242_normalized  smart_242_raw  \n",
              "0                 100.0   4.839342e+10                 100.0   7.022831e+10  \n",
              "1                 100.0   5.940338e+10                 100.0   5.457889e+11  \n",
              "2                 100.0   4.917863e+10                 100.0   8.706921e+10  \n",
              "3                 100.0   5.260102e+10                 100.0   1.295292e+11  \n",
              "4                 100.0   1.647225e+10                 100.0   1.872005e+10  \n",
              "\n",
              "[5 rows x 49 columns]"
            ],
            "text/html": [
              "\n",
              "  <div id=\"df-7df7b55f-2481-48dc-a3f7-7a49c109a269\">\n",
              "    <div class=\"colab-df-container\">\n",
              "      <div>\n",
              "<style scoped>\n",
              "    .dataframe tbody tr th:only-of-type {\n",
              "        vertical-align: middle;\n",
              "    }\n",
              "\n",
              "    .dataframe tbody tr th {\n",
              "        vertical-align: top;\n",
              "    }\n",
              "\n",
              "    .dataframe thead th {\n",
              "        text-align: right;\n",
              "    }\n",
              "</style>\n",
              "<table border=\"1\" class=\"dataframe\">\n",
              "  <thead>\n",
              "    <tr style=\"text-align: right;\">\n",
              "      <th></th>\n",
              "      <th>date</th>\n",
              "      <th>serial_number</th>\n",
              "      <th>model</th>\n",
              "      <th>capacity_bytes</th>\n",
              "      <th>failure</th>\n",
              "      <th>smart_1_normalized</th>\n",
              "      <th>smart_1_raw</th>\n",
              "      <th>smart_3_normalized</th>\n",
              "      <th>smart_3_raw</th>\n",
              "      <th>smart_4_normalized</th>\n",
              "      <th>...</th>\n",
              "      <th>smart_198_normalized</th>\n",
              "      <th>smart_198_raw</th>\n",
              "      <th>smart_199_normalized</th>\n",
              "      <th>smart_199_raw</th>\n",
              "      <th>smart_240_normalized</th>\n",
              "      <th>smart_240_raw</th>\n",
              "      <th>smart_241_normalized</th>\n",
              "      <th>smart_241_raw</th>\n",
              "      <th>smart_242_normalized</th>\n",
              "      <th>smart_242_raw</th>\n",
              "    </tr>\n",
              "  </thead>\n",
              "  <tbody>\n",
              "    <tr>\n",
              "      <th>0</th>\n",
              "      <td>2021-01-01</td>\n",
              "      <td>ZLW0EGC6</td>\n",
              "      <td>ST12000NM001G</td>\n",
              "      <td>12000138625024</td>\n",
              "      <td>0</td>\n",
              "      <td>83.0</td>\n",
              "      <td>213166608.0</td>\n",
              "      <td>99.0</td>\n",
              "      <td>0.0</td>\n",
              "      <td>100.0</td>\n",
              "      <td>...</td>\n",
              "      <td>100.0</td>\n",
              "      <td>0.0</td>\n",
              "      <td>200.0</td>\n",
              "      <td>0.0</td>\n",
              "      <td>100.0</td>\n",
              "      <td>4910.0</td>\n",
              "      <td>100.0</td>\n",
              "      <td>4.839342e+10</td>\n",
              "      <td>100.0</td>\n",
              "      <td>7.022831e+10</td>\n",
              "    </tr>\n",
              "    <tr>\n",
              "      <th>1</th>\n",
              "      <td>2021-01-01</td>\n",
              "      <td>Z305B2QN</td>\n",
              "      <td>ST4000DM000</td>\n",
              "      <td>4000787030016</td>\n",
              "      <td>0</td>\n",
              "      <td>114.0</td>\n",
              "      <td>79306032.0</td>\n",
              "      <td>91.0</td>\n",
              "      <td>0.0</td>\n",
              "      <td>100.0</td>\n",
              "      <td>...</td>\n",
              "      <td>100.0</td>\n",
              "      <td>0.0</td>\n",
              "      <td>200.0</td>\n",
              "      <td>0.0</td>\n",
              "      <td>100.0</td>\n",
              "      <td>44001.0</td>\n",
              "      <td>100.0</td>\n",
              "      <td>5.940338e+10</td>\n",
              "      <td>100.0</td>\n",
              "      <td>5.457889e+11</td>\n",
              "    </tr>\n",
              "    <tr>\n",
              "      <th>2</th>\n",
              "      <td>2021-01-01</td>\n",
              "      <td>ZLW0C6NE</td>\n",
              "      <td>ST12000NM001G</td>\n",
              "      <td>12000138625024</td>\n",
              "      <td>0</td>\n",
              "      <td>72.0</td>\n",
              "      <td>17162816.0</td>\n",
              "      <td>98.0</td>\n",
              "      <td>0.0</td>\n",
              "      <td>100.0</td>\n",
              "      <td>...</td>\n",
              "      <td>100.0</td>\n",
              "      <td>0.0</td>\n",
              "      <td>200.0</td>\n",
              "      <td>0.0</td>\n",
              "      <td>100.0</td>\n",
              "      <td>5414.0</td>\n",
              "      <td>100.0</td>\n",
              "      <td>4.917863e+10</td>\n",
              "      <td>100.0</td>\n",
              "      <td>8.706921e+10</td>\n",
              "    </tr>\n",
              "    <tr>\n",
              "      <th>3</th>\n",
              "      <td>2021-01-01</td>\n",
              "      <td>ZJV0XJQ3</td>\n",
              "      <td>ST12000NM0007</td>\n",
              "      <td>12000138625024</td>\n",
              "      <td>0</td>\n",
              "      <td>100.0</td>\n",
              "      <td>1102160.0</td>\n",
              "      <td>98.0</td>\n",
              "      <td>0.0</td>\n",
              "      <td>100.0</td>\n",
              "      <td>...</td>\n",
              "      <td>100.0</td>\n",
              "      <td>0.0</td>\n",
              "      <td>200.0</td>\n",
              "      <td>0.0</td>\n",
              "      <td>100.0</td>\n",
              "      <td>17282.0</td>\n",
              "      <td>100.0</td>\n",
              "      <td>5.260102e+10</td>\n",
              "      <td>100.0</td>\n",
              "      <td>1.295292e+11</td>\n",
              "    </tr>\n",
              "    <tr>\n",
              "      <th>4</th>\n",
              "      <td>2021-01-01</td>\n",
              "      <td>ZLW18MKT</td>\n",
              "      <td>ST14000NM001G</td>\n",
              "      <td>14000519643136</td>\n",
              "      <td>0</td>\n",
              "      <td>75.0</td>\n",
              "      <td>33233248.0</td>\n",
              "      <td>95.0</td>\n",
              "      <td>0.0</td>\n",
              "      <td>100.0</td>\n",
              "      <td>...</td>\n",
              "      <td>100.0</td>\n",
              "      <td>0.0</td>\n",
              "      <td>200.0</td>\n",
              "      <td>0.0</td>\n",
              "      <td>100.0</td>\n",
              "      <td>745.0</td>\n",
              "      <td>100.0</td>\n",
              "      <td>1.647225e+10</td>\n",
              "      <td>100.0</td>\n",
              "      <td>1.872005e+10</td>\n",
              "    </tr>\n",
              "  </tbody>\n",
              "</table>\n",
              "<p>5 rows × 49 columns</p>\n",
              "</div>\n",
              "      <button class=\"colab-df-convert\" onclick=\"convertToInteractive('df-7df7b55f-2481-48dc-a3f7-7a49c109a269')\"\n",
              "              title=\"Convert this dataframe to an interactive table.\"\n",
              "              style=\"display:none;\">\n",
              "        \n",
              "  <svg xmlns=\"http://www.w3.org/2000/svg\" height=\"24px\"viewBox=\"0 0 24 24\"\n",
              "       width=\"24px\">\n",
              "    <path d=\"M0 0h24v24H0V0z\" fill=\"none\"/>\n",
              "    <path d=\"M18.56 5.44l.94 2.06.94-2.06 2.06-.94-2.06-.94-.94-2.06-.94 2.06-2.06.94zm-11 1L8.5 8.5l.94-2.06 2.06-.94-2.06-.94L8.5 2.5l-.94 2.06-2.06.94zm10 10l.94 2.06.94-2.06 2.06-.94-2.06-.94-.94-2.06-.94 2.06-2.06.94z\"/><path d=\"M17.41 7.96l-1.37-1.37c-.4-.4-.92-.59-1.43-.59-.52 0-1.04.2-1.43.59L10.3 9.45l-7.72 7.72c-.78.78-.78 2.05 0 2.83L4 21.41c.39.39.9.59 1.41.59.51 0 1.02-.2 1.41-.59l7.78-7.78 2.81-2.81c.8-.78.8-2.07 0-2.86zM5.41 20L4 18.59l7.72-7.72 1.47 1.35L5.41 20z\"/>\n",
              "  </svg>\n",
              "      </button>\n",
              "      \n",
              "  <style>\n",
              "    .colab-df-container {\n",
              "      display:flex;\n",
              "      flex-wrap:wrap;\n",
              "      gap: 12px;\n",
              "    }\n",
              "\n",
              "    .colab-df-convert {\n",
              "      background-color: #E8F0FE;\n",
              "      border: none;\n",
              "      border-radius: 50%;\n",
              "      cursor: pointer;\n",
              "      display: none;\n",
              "      fill: #1967D2;\n",
              "      height: 32px;\n",
              "      padding: 0 0 0 0;\n",
              "      width: 32px;\n",
              "    }\n",
              "\n",
              "    .colab-df-convert:hover {\n",
              "      background-color: #E2EBFA;\n",
              "      box-shadow: 0px 1px 2px rgba(60, 64, 67, 0.3), 0px 1px 3px 1px rgba(60, 64, 67, 0.15);\n",
              "      fill: #174EA6;\n",
              "    }\n",
              "\n",
              "    [theme=dark] .colab-df-convert {\n",
              "      background-color: #3B4455;\n",
              "      fill: #D2E3FC;\n",
              "    }\n",
              "\n",
              "    [theme=dark] .colab-df-convert:hover {\n",
              "      background-color: #434B5C;\n",
              "      box-shadow: 0px 1px 3px 1px rgba(0, 0, 0, 0.15);\n",
              "      filter: drop-shadow(0px 1px 2px rgba(0, 0, 0, 0.3));\n",
              "      fill: #FFFFFF;\n",
              "    }\n",
              "  </style>\n",
              "\n",
              "      <script>\n",
              "        const buttonEl =\n",
              "          document.querySelector('#df-7df7b55f-2481-48dc-a3f7-7a49c109a269 button.colab-df-convert');\n",
              "        buttonEl.style.display =\n",
              "          google.colab.kernel.accessAllowed ? 'block' : 'none';\n",
              "\n",
              "        async function convertToInteractive(key) {\n",
              "          const element = document.querySelector('#df-7df7b55f-2481-48dc-a3f7-7a49c109a269');\n",
              "          const dataTable =\n",
              "            await google.colab.kernel.invokeFunction('convertToInteractive',\n",
              "                                                     [key], {});\n",
              "          if (!dataTable) return;\n",
              "\n",
              "          const docLinkHtml = 'Like what you see? Visit the ' +\n",
              "            '<a target=\"_blank\" href=https://colab.research.google.com/notebooks/data_table.ipynb>data table notebook</a>'\n",
              "            + ' to learn more about interactive tables.';\n",
              "          element.innerHTML = '';\n",
              "          dataTable['output_type'] = 'display_data';\n",
              "          await google.colab.output.renderOutput(dataTable, element);\n",
              "          const docLink = document.createElement('div');\n",
              "          docLink.innerHTML = docLinkHtml;\n",
              "          element.appendChild(docLink);\n",
              "        }\n",
              "      </script>\n",
              "    </div>\n",
              "  </div>\n",
              "  "
            ]
          },
          "metadata": {},
          "execution_count": 24
        }
      ],
      "source": [
        "Data.head()"
      ]
    },
    {
      "cell_type": "code",
      "execution_count": 25,
      "metadata": {
        "colab": {
          "base_uri": "https://localhost:8080/",
          "height": 411
        },
        "id": "cipKObSpgLZW",
        "outputId": "a871d86b-b96f-4f0c-8776-a9be69c95912"
      },
      "outputs": [
        {
          "output_type": "stream",
          "name": "stdout",
          "text": [
            "Warning: Total number of columns (46) exceeds max_columns (20). Falling back to pandas display.\n"
          ]
        },
        {
          "output_type": "execute_result",
          "data": {
            "text/plain": [
              "       capacity_bytes        failure  smart_1_normalized   smart_1_raw  \\\n",
              "count    8.275090e+05  827509.000000       826837.000000  8.268370e+05   \n",
              "mean     9.877604e+12       0.000029           92.109367  7.489772e+07   \n",
              "std      3.878876e+12       0.005385           13.814933  8.108625e+07   \n",
              "min     -1.000000e+00       0.000000           48.000000  0.000000e+00   \n",
              "25%      8.001563e+12       0.000000           81.000000  0.000000e+00   \n",
              "50%      1.200014e+13       0.000000          100.000000  4.528490e+07   \n",
              "75%      1.200014e+13       0.000000          100.000000  1.441926e+08   \n",
              "max      1.800021e+13       1.000000          200.000000  4.515787e+08   \n",
              "\n",
              "       smart_3_normalized    smart_3_raw  smart_4_normalized    smart_4_raw  \\\n",
              "count       821146.000000  821146.000000       821146.000000  821146.000000   \n",
              "mean            98.571473    1108.194427           99.998563       9.613792   \n",
              "std             15.400574    2610.030659            0.105493     113.979821   \n",
              "min             75.000000       0.000000           75.000000       1.000000   \n",
              "25%             91.000000       0.000000          100.000000       2.000000   \n",
              "50%             97.000000       0.000000          100.000000       5.000000   \n",
              "75%            100.000000     380.000000          100.000000      10.000000   \n",
              "max            253.000000   11111.000000          100.000000   25141.000000   \n",
              "\n",
              "       smart_5_normalized    smart_5_raw  ...  smart_198_normalized  \\\n",
              "count       821366.000000  821366.000000  ...         821366.000000   \n",
              "mean           100.555372      39.525386  ...            100.420319   \n",
              "std              8.978446    1035.302951  ...              7.992256   \n",
              "min              1.000000       0.000000  ...              1.000000   \n",
              "25%            100.000000       0.000000  ...            100.000000   \n",
              "50%            100.000000       0.000000  ...            100.000000   \n",
              "75%            100.000000       0.000000  ...            100.000000   \n",
              "max            252.000000   65480.000000  ...            252.000000   \n",
              "\n",
              "       smart_198_raw  smart_199_normalized  smart_199_raw  \\\n",
              "count  821366.000000         821366.000000  821366.000000   \n",
              "mean        0.411193            196.317354       0.523777   \n",
              "std       101.417785             18.833564      37.496426   \n",
              "min         0.000000            100.000000       0.000000   \n",
              "25%         0.000000            200.000000       0.000000   \n",
              "50%         0.000000            200.000000       0.000000   \n",
              "75%         0.000000            200.000000       0.000000   \n",
              "max     41040.000000            200.000000    7670.000000   \n",
              "\n",
              "       smart_240_normalized  smart_240_raw  smart_241_normalized  \\\n",
              "count         617451.000000  617451.000000         531854.000000   \n",
              "mean              99.958756   19539.948509            100.009401   \n",
              "std                1.596372   16815.497165              0.969547   \n",
              "min                8.000000       0.000000            100.000000   \n",
              "25%              100.000000    2641.000000            100.000000   \n",
              "50%              100.000000   17421.000000            100.000000   \n",
              "75%              100.000000   33203.000000            100.000000   \n",
              "max              100.000000   67845.000000            200.000000   \n",
              "\n",
              "       smart_241_raw  smart_242_normalized  smart_242_raw  \n",
              "count   5.318540e+05         531844.000000   5.318440e+05  \n",
              "mean    5.612417e+10            100.009401   1.923745e+11  \n",
              "std     1.795249e+10              0.969556   1.765763e+11  \n",
              "min     0.000000e+00            100.000000   1.000000e+00  \n",
              "25%     4.848800e+10            100.000000   1.001612e+11  \n",
              "50%     5.912925e+10            100.000000   2.255465e+11  \n",
              "75%     6.771780e+10            100.000000   2.620806e+11  \n",
              "max     2.202436e+11            200.000000   2.818246e+13  \n",
              "\n",
              "[8 rows x 46 columns]"
            ],
            "text/html": [
              "\n",
              "  <div id=\"df-154d374e-7884-4484-a8cf-a5c1f289bfb8\">\n",
              "    <div class=\"colab-df-container\">\n",
              "      <div>\n",
              "<style scoped>\n",
              "    .dataframe tbody tr th:only-of-type {\n",
              "        vertical-align: middle;\n",
              "    }\n",
              "\n",
              "    .dataframe tbody tr th {\n",
              "        vertical-align: top;\n",
              "    }\n",
              "\n",
              "    .dataframe thead th {\n",
              "        text-align: right;\n",
              "    }\n",
              "</style>\n",
              "<table border=\"1\" class=\"dataframe\">\n",
              "  <thead>\n",
              "    <tr style=\"text-align: right;\">\n",
              "      <th></th>\n",
              "      <th>capacity_bytes</th>\n",
              "      <th>failure</th>\n",
              "      <th>smart_1_normalized</th>\n",
              "      <th>smart_1_raw</th>\n",
              "      <th>smart_3_normalized</th>\n",
              "      <th>smart_3_raw</th>\n",
              "      <th>smart_4_normalized</th>\n",
              "      <th>smart_4_raw</th>\n",
              "      <th>smart_5_normalized</th>\n",
              "      <th>smart_5_raw</th>\n",
              "      <th>...</th>\n",
              "      <th>smart_198_normalized</th>\n",
              "      <th>smart_198_raw</th>\n",
              "      <th>smart_199_normalized</th>\n",
              "      <th>smart_199_raw</th>\n",
              "      <th>smart_240_normalized</th>\n",
              "      <th>smart_240_raw</th>\n",
              "      <th>smart_241_normalized</th>\n",
              "      <th>smart_241_raw</th>\n",
              "      <th>smart_242_normalized</th>\n",
              "      <th>smart_242_raw</th>\n",
              "    </tr>\n",
              "  </thead>\n",
              "  <tbody>\n",
              "    <tr>\n",
              "      <th>count</th>\n",
              "      <td>8.275090e+05</td>\n",
              "      <td>827509.000000</td>\n",
              "      <td>826837.000000</td>\n",
              "      <td>8.268370e+05</td>\n",
              "      <td>821146.000000</td>\n",
              "      <td>821146.000000</td>\n",
              "      <td>821146.000000</td>\n",
              "      <td>821146.000000</td>\n",
              "      <td>821366.000000</td>\n",
              "      <td>821366.000000</td>\n",
              "      <td>...</td>\n",
              "      <td>821366.000000</td>\n",
              "      <td>821366.000000</td>\n",
              "      <td>821366.000000</td>\n",
              "      <td>821366.000000</td>\n",
              "      <td>617451.000000</td>\n",
              "      <td>617451.000000</td>\n",
              "      <td>531854.000000</td>\n",
              "      <td>5.318540e+05</td>\n",
              "      <td>531844.000000</td>\n",
              "      <td>5.318440e+05</td>\n",
              "    </tr>\n",
              "    <tr>\n",
              "      <th>mean</th>\n",
              "      <td>9.877604e+12</td>\n",
              "      <td>0.000029</td>\n",
              "      <td>92.109367</td>\n",
              "      <td>7.489772e+07</td>\n",
              "      <td>98.571473</td>\n",
              "      <td>1108.194427</td>\n",
              "      <td>99.998563</td>\n",
              "      <td>9.613792</td>\n",
              "      <td>100.555372</td>\n",
              "      <td>39.525386</td>\n",
              "      <td>...</td>\n",
              "      <td>100.420319</td>\n",
              "      <td>0.411193</td>\n",
              "      <td>196.317354</td>\n",
              "      <td>0.523777</td>\n",
              "      <td>99.958756</td>\n",
              "      <td>19539.948509</td>\n",
              "      <td>100.009401</td>\n",
              "      <td>5.612417e+10</td>\n",
              "      <td>100.009401</td>\n",
              "      <td>1.923745e+11</td>\n",
              "    </tr>\n",
              "    <tr>\n",
              "      <th>std</th>\n",
              "      <td>3.878876e+12</td>\n",
              "      <td>0.005385</td>\n",
              "      <td>13.814933</td>\n",
              "      <td>8.108625e+07</td>\n",
              "      <td>15.400574</td>\n",
              "      <td>2610.030659</td>\n",
              "      <td>0.105493</td>\n",
              "      <td>113.979821</td>\n",
              "      <td>8.978446</td>\n",
              "      <td>1035.302951</td>\n",
              "      <td>...</td>\n",
              "      <td>7.992256</td>\n",
              "      <td>101.417785</td>\n",
              "      <td>18.833564</td>\n",
              "      <td>37.496426</td>\n",
              "      <td>1.596372</td>\n",
              "      <td>16815.497165</td>\n",
              "      <td>0.969547</td>\n",
              "      <td>1.795249e+10</td>\n",
              "      <td>0.969556</td>\n",
              "      <td>1.765763e+11</td>\n",
              "    </tr>\n",
              "    <tr>\n",
              "      <th>min</th>\n",
              "      <td>-1.000000e+00</td>\n",
              "      <td>0.000000</td>\n",
              "      <td>48.000000</td>\n",
              "      <td>0.000000e+00</td>\n",
              "      <td>75.000000</td>\n",
              "      <td>0.000000</td>\n",
              "      <td>75.000000</td>\n",
              "      <td>1.000000</td>\n",
              "      <td>1.000000</td>\n",
              "      <td>0.000000</td>\n",
              "      <td>...</td>\n",
              "      <td>1.000000</td>\n",
              "      <td>0.000000</td>\n",
              "      <td>100.000000</td>\n",
              "      <td>0.000000</td>\n",
              "      <td>8.000000</td>\n",
              "      <td>0.000000</td>\n",
              "      <td>100.000000</td>\n",
              "      <td>0.000000e+00</td>\n",
              "      <td>100.000000</td>\n",
              "      <td>1.000000e+00</td>\n",
              "    </tr>\n",
              "    <tr>\n",
              "      <th>25%</th>\n",
              "      <td>8.001563e+12</td>\n",
              "      <td>0.000000</td>\n",
              "      <td>81.000000</td>\n",
              "      <td>0.000000e+00</td>\n",
              "      <td>91.000000</td>\n",
              "      <td>0.000000</td>\n",
              "      <td>100.000000</td>\n",
              "      <td>2.000000</td>\n",
              "      <td>100.000000</td>\n",
              "      <td>0.000000</td>\n",
              "      <td>...</td>\n",
              "      <td>100.000000</td>\n",
              "      <td>0.000000</td>\n",
              "      <td>200.000000</td>\n",
              "      <td>0.000000</td>\n",
              "      <td>100.000000</td>\n",
              "      <td>2641.000000</td>\n",
              "      <td>100.000000</td>\n",
              "      <td>4.848800e+10</td>\n",
              "      <td>100.000000</td>\n",
              "      <td>1.001612e+11</td>\n",
              "    </tr>\n",
              "    <tr>\n",
              "      <th>50%</th>\n",
              "      <td>1.200014e+13</td>\n",
              "      <td>0.000000</td>\n",
              "      <td>100.000000</td>\n",
              "      <td>4.528490e+07</td>\n",
              "      <td>97.000000</td>\n",
              "      <td>0.000000</td>\n",
              "      <td>100.000000</td>\n",
              "      <td>5.000000</td>\n",
              "      <td>100.000000</td>\n",
              "      <td>0.000000</td>\n",
              "      <td>...</td>\n",
              "      <td>100.000000</td>\n",
              "      <td>0.000000</td>\n",
              "      <td>200.000000</td>\n",
              "      <td>0.000000</td>\n",
              "      <td>100.000000</td>\n",
              "      <td>17421.000000</td>\n",
              "      <td>100.000000</td>\n",
              "      <td>5.912925e+10</td>\n",
              "      <td>100.000000</td>\n",
              "      <td>2.255465e+11</td>\n",
              "    </tr>\n",
              "    <tr>\n",
              "      <th>75%</th>\n",
              "      <td>1.200014e+13</td>\n",
              "      <td>0.000000</td>\n",
              "      <td>100.000000</td>\n",
              "      <td>1.441926e+08</td>\n",
              "      <td>100.000000</td>\n",
              "      <td>380.000000</td>\n",
              "      <td>100.000000</td>\n",
              "      <td>10.000000</td>\n",
              "      <td>100.000000</td>\n",
              "      <td>0.000000</td>\n",
              "      <td>...</td>\n",
              "      <td>100.000000</td>\n",
              "      <td>0.000000</td>\n",
              "      <td>200.000000</td>\n",
              "      <td>0.000000</td>\n",
              "      <td>100.000000</td>\n",
              "      <td>33203.000000</td>\n",
              "      <td>100.000000</td>\n",
              "      <td>6.771780e+10</td>\n",
              "      <td>100.000000</td>\n",
              "      <td>2.620806e+11</td>\n",
              "    </tr>\n",
              "    <tr>\n",
              "      <th>max</th>\n",
              "      <td>1.800021e+13</td>\n",
              "      <td>1.000000</td>\n",
              "      <td>200.000000</td>\n",
              "      <td>4.515787e+08</td>\n",
              "      <td>253.000000</td>\n",
              "      <td>11111.000000</td>\n",
              "      <td>100.000000</td>\n",
              "      <td>25141.000000</td>\n",
              "      <td>252.000000</td>\n",
              "      <td>65480.000000</td>\n",
              "      <td>...</td>\n",
              "      <td>252.000000</td>\n",
              "      <td>41040.000000</td>\n",
              "      <td>200.000000</td>\n",
              "      <td>7670.000000</td>\n",
              "      <td>100.000000</td>\n",
              "      <td>67845.000000</td>\n",
              "      <td>200.000000</td>\n",
              "      <td>2.202436e+11</td>\n",
              "      <td>200.000000</td>\n",
              "      <td>2.818246e+13</td>\n",
              "    </tr>\n",
              "  </tbody>\n",
              "</table>\n",
              "<p>8 rows × 46 columns</p>\n",
              "</div>\n",
              "      <button class=\"colab-df-convert\" onclick=\"convertToInteractive('df-154d374e-7884-4484-a8cf-a5c1f289bfb8')\"\n",
              "              title=\"Convert this dataframe to an interactive table.\"\n",
              "              style=\"display:none;\">\n",
              "        \n",
              "  <svg xmlns=\"http://www.w3.org/2000/svg\" height=\"24px\"viewBox=\"0 0 24 24\"\n",
              "       width=\"24px\">\n",
              "    <path d=\"M0 0h24v24H0V0z\" fill=\"none\"/>\n",
              "    <path d=\"M18.56 5.44l.94 2.06.94-2.06 2.06-.94-2.06-.94-.94-2.06-.94 2.06-2.06.94zm-11 1L8.5 8.5l.94-2.06 2.06-.94-2.06-.94L8.5 2.5l-.94 2.06-2.06.94zm10 10l.94 2.06.94-2.06 2.06-.94-2.06-.94-.94-2.06-.94 2.06-2.06.94z\"/><path d=\"M17.41 7.96l-1.37-1.37c-.4-.4-.92-.59-1.43-.59-.52 0-1.04.2-1.43.59L10.3 9.45l-7.72 7.72c-.78.78-.78 2.05 0 2.83L4 21.41c.39.39.9.59 1.41.59.51 0 1.02-.2 1.41-.59l7.78-7.78 2.81-2.81c.8-.78.8-2.07 0-2.86zM5.41 20L4 18.59l7.72-7.72 1.47 1.35L5.41 20z\"/>\n",
              "  </svg>\n",
              "      </button>\n",
              "      \n",
              "  <style>\n",
              "    .colab-df-container {\n",
              "      display:flex;\n",
              "      flex-wrap:wrap;\n",
              "      gap: 12px;\n",
              "    }\n",
              "\n",
              "    .colab-df-convert {\n",
              "      background-color: #E8F0FE;\n",
              "      border: none;\n",
              "      border-radius: 50%;\n",
              "      cursor: pointer;\n",
              "      display: none;\n",
              "      fill: #1967D2;\n",
              "      height: 32px;\n",
              "      padding: 0 0 0 0;\n",
              "      width: 32px;\n",
              "    }\n",
              "\n",
              "    .colab-df-convert:hover {\n",
              "      background-color: #E2EBFA;\n",
              "      box-shadow: 0px 1px 2px rgba(60, 64, 67, 0.3), 0px 1px 3px 1px rgba(60, 64, 67, 0.15);\n",
              "      fill: #174EA6;\n",
              "    }\n",
              "\n",
              "    [theme=dark] .colab-df-convert {\n",
              "      background-color: #3B4455;\n",
              "      fill: #D2E3FC;\n",
              "    }\n",
              "\n",
              "    [theme=dark] .colab-df-convert:hover {\n",
              "      background-color: #434B5C;\n",
              "      box-shadow: 0px 1px 3px 1px rgba(0, 0, 0, 0.15);\n",
              "      filter: drop-shadow(0px 1px 2px rgba(0, 0, 0, 0.3));\n",
              "      fill: #FFFFFF;\n",
              "    }\n",
              "  </style>\n",
              "\n",
              "      <script>\n",
              "        const buttonEl =\n",
              "          document.querySelector('#df-154d374e-7884-4484-a8cf-a5c1f289bfb8 button.colab-df-convert');\n",
              "        buttonEl.style.display =\n",
              "          google.colab.kernel.accessAllowed ? 'block' : 'none';\n",
              "\n",
              "        async function convertToInteractive(key) {\n",
              "          const element = document.querySelector('#df-154d374e-7884-4484-a8cf-a5c1f289bfb8');\n",
              "          const dataTable =\n",
              "            await google.colab.kernel.invokeFunction('convertToInteractive',\n",
              "                                                     [key], {});\n",
              "          if (!dataTable) return;\n",
              "\n",
              "          const docLinkHtml = 'Like what you see? Visit the ' +\n",
              "            '<a target=\"_blank\" href=https://colab.research.google.com/notebooks/data_table.ipynb>data table notebook</a>'\n",
              "            + ' to learn more about interactive tables.';\n",
              "          element.innerHTML = '';\n",
              "          dataTable['output_type'] = 'display_data';\n",
              "          await google.colab.output.renderOutput(dataTable, element);\n",
              "          const docLink = document.createElement('div');\n",
              "          docLink.innerHTML = docLinkHtml;\n",
              "          element.appendChild(docLink);\n",
              "        }\n",
              "      </script>\n",
              "    </div>\n",
              "  </div>\n",
              "  "
            ]
          },
          "metadata": {},
          "execution_count": 25
        }
      ],
      "source": [
        "Data.describe()"
      ]
    },
    {
      "cell_type": "code",
      "execution_count": 26,
      "metadata": {
        "colab": {
          "base_uri": "https://localhost:8080/"
        },
        "id": "AbWfLdnnmZ6D",
        "outputId": "b64b77fe-a570-4d75-fd82-3cfc096723c1"
      },
      "outputs": [
        {
          "output_type": "execute_result",
          "data": {
            "text/plain": [
              "Index(['date', 'serial_number', 'model', 'capacity_bytes', 'failure',\n",
              "       'smart_1_normalized', 'smart_1_raw', 'smart_3_normalized',\n",
              "       'smart_3_raw', 'smart_4_normalized', 'smart_4_raw',\n",
              "       'smart_5_normalized', 'smart_5_raw', 'smart_7_normalized',\n",
              "       'smart_7_raw', 'smart_9_normalized', 'smart_9_raw',\n",
              "       'smart_10_normalized', 'smart_10_raw', 'smart_12_normalized',\n",
              "       'smart_12_raw', 'smart_184_normalized', 'smart_184_raw',\n",
              "       'smart_187_normalized', 'smart_187_raw', 'smart_188_normalized',\n",
              "       'smart_188_raw', 'smart_190_normalized', 'smart_190_raw',\n",
              "       'smart_192_normalized', 'smart_192_raw', 'smart_193_normalized',\n",
              "       'smart_193_raw', 'smart_194_normalized', 'smart_194_raw',\n",
              "       'smart_196_normalized', 'smart_196_raw', 'smart_197_normalized',\n",
              "       'smart_197_raw', 'smart_198_normalized', 'smart_198_raw',\n",
              "       'smart_199_normalized', 'smart_199_raw', 'smart_240_normalized',\n",
              "       'smart_240_raw', 'smart_241_normalized', 'smart_241_raw',\n",
              "       'smart_242_normalized', 'smart_242_raw'],\n",
              "      dtype='object')"
            ]
          },
          "metadata": {},
          "execution_count": 26
        }
      ],
      "source": [
        "RE = Data.columns \n",
        "RE"
      ]
    },
    {
      "cell_type": "code",
      "execution_count": 27,
      "metadata": {
        "colab": {
          "base_uri": "https://localhost:8080/"
        },
        "id": "CzgZTu7bM8bd",
        "outputId": "19220f94-c315-4fba-8986-4df2c490f49a"
      },
      "outputs": [
        {
          "output_type": "execute_result",
          "data": {
            "text/plain": [
              " 12000.0    326984\n",
              " 4000.0     174751\n",
              " 14000.0    167734\n",
              " 8001.0     126496\n",
              " 500.0        8713\n",
              " 10000.0      6076\n",
              " 16000.0      5693\n",
              " 250.0        5361\n",
              " 6001.0       4490\n",
              " 480.0         600\n",
              " 18000.0       300\n",
              " 240.0         200\n",
              "-1.0            86\n",
              " 2000.0         20\n",
              " 1000.0          5\n",
              "Name: capacity_bytes, dtype: int64"
            ]
          },
          "metadata": {},
          "execution_count": 27
        }
      ],
      "source": [
        "# Since the capacity is in \"bytes\" notation, it is difficult to interpret so it is converted into \"GB\" notation.\n",
        "Data['capacity_bytes'] = (Data['capacity_bytes'] // 1e+9)\n",
        "Data['capacity_bytes'].value_counts() # Finding the counts of each category of HDD based on GB size."
      ]
    },
    {
      "cell_type": "markdown",
      "metadata": {
        "id": "FitTbo9QxMYg"
      },
      "source": [
        "From the above capacity_bytes unique counts, it is found that there is unmatched size value (-1) which is seems to be odd, so datapoints with that capacity is removed."
      ]
    },
    {
      "cell_type": "code",
      "execution_count": 28,
      "metadata": {
        "colab": {
          "base_uri": "https://localhost:8080/"
        },
        "id": "cSZt6F47T0z0",
        "outputId": "80e046b4-ed6c-490a-b029-9b0309e960d4"
      },
      "outputs": [
        {
          "output_type": "stream",
          "name": "stdout",
          "text": [
            "(827509, 49)\n",
            "(827423, 49)\n"
          ]
        }
      ],
      "source": [
        "# Removal of odd capacity datapoints.\n",
        "print(Data.shape)\n",
        "Data.drop(np.where(Data['capacity_bytes'] == -1)[0], inplace = True)\n",
        "print(Data.shape)"
      ]
    },
    {
      "cell_type": "code",
      "execution_count": 29,
      "metadata": {
        "colab": {
          "base_uri": "https://localhost:8080/"
        },
        "id": "RVXPlqR3ck8L",
        "outputId": "a2759101-452e-4a5a-e698-ee2c9e1a64a7"
      },
      "outputs": [
        {
          "output_type": "execute_result",
          "data": {
            "text/plain": [
              "date                    0\n",
              "serial_number           0\n",
              "model                   0\n",
              "capacity_bytes          0\n",
              "failure                 0\n",
              "smart_1_normalized      0\n",
              "smart_1_raw             0\n",
              "smart_3_normalized      0\n",
              "smart_3_raw             0\n",
              "smart_4_normalized      0\n",
              "smart_4_raw             0\n",
              "smart_5_normalized      0\n",
              "smart_5_raw             0\n",
              "smart_7_normalized      0\n",
              "smart_7_raw             0\n",
              "smart_9_normalized      0\n",
              "smart_9_raw             0\n",
              "smart_10_normalized     0\n",
              "smart_10_raw            0\n",
              "smart_12_normalized     0\n",
              "smart_12_raw            0\n",
              "smart_184_normalized    0\n",
              "smart_184_raw           0\n",
              "smart_187_normalized    0\n",
              "smart_187_raw           0\n",
              "smart_188_normalized    0\n",
              "smart_188_raw           0\n",
              "smart_190_normalized    0\n",
              "smart_190_raw           0\n",
              "smart_192_normalized    0\n",
              "smart_192_raw           0\n",
              "smart_193_normalized    0\n",
              "smart_193_raw           0\n",
              "smart_194_normalized    0\n",
              "smart_194_raw           0\n",
              "smart_196_normalized    0\n",
              "smart_196_raw           0\n",
              "smart_197_normalized    0\n",
              "smart_197_raw           0\n",
              "smart_198_normalized    0\n",
              "smart_198_raw           0\n",
              "smart_199_normalized    0\n",
              "smart_199_raw           0\n",
              "smart_240_normalized    0\n",
              "smart_240_raw           0\n",
              "smart_241_normalized    0\n",
              "smart_241_raw           0\n",
              "smart_242_normalized    0\n",
              "smart_242_raw           0\n",
              "dtype: int64"
            ]
          },
          "metadata": {},
          "execution_count": 29
        }
      ],
      "source": [
        "# Filling the NaN values with zero since imputing with anyother values,\n",
        "# may not be suitable as per the BalckBlaze documentation on SMART attributes.\n",
        "\n",
        "Data = Data.fillna(0)\n",
        "Data.isnull().sum(axis = 0)"
      ]
    },
    {
      "cell_type": "markdown",
      "metadata": {
        "id": "RwjKo-wdj02P"
      },
      "source": [
        "# 4. Feature Engineering\n",
        "\n",
        "\n",
        "\n",
        "\n",
        "\n"
      ]
    },
    {
      "cell_type": "markdown",
      "metadata": {
        "id": "QGLFRXD3LASV"
      },
      "source": [
        "> Feature engineering based on correlation of attributes with target variable(Failure).\n",
        "\n",
        "> Mathematical based feature engineering."
      ]
    },
    {
      "cell_type": "code",
      "execution_count": 30,
      "metadata": {
        "colab": {
          "base_uri": "https://localhost:8080/"
        },
        "id": "T7ykLcgvoriF",
        "outputId": "67e5ad01-0e57-4f24-f366-e0e935925ae7"
      },
      "outputs": [
        {
          "output_type": "execute_result",
          "data": {
            "text/plain": [
              "(827423, 49)"
            ]
          },
          "metadata": {},
          "execution_count": 30
        }
      ],
      "source": [
        "Test = Data.copy()\n",
        "Test.shape "
      ]
    },
    {
      "cell_type": "code",
      "execution_count": 31,
      "metadata": {
        "colab": {
          "base_uri": "https://localhost:8080/",
          "height": 411
        },
        "id": "eSvRSBLVvNWw",
        "outputId": "cdfd0a78-1144-40aa-d1e1-a3d3885dee1e"
      },
      "outputs": [
        {
          "output_type": "stream",
          "name": "stdout",
          "text": [
            "Warning: Total number of columns (46) exceeds max_columns (20). Falling back to pandas display.\n"
          ]
        },
        {
          "output_type": "execute_result",
          "data": {
            "text/plain": [
              "       capacity_bytes        failure  smart_1_normalized   smart_1_raw  \\\n",
              "count   827423.000000  827423.000000       827423.000000  8.274230e+05   \n",
              "mean      9878.203453       0.000029           92.044133  7.484468e+07   \n",
              "std       3877.916088       0.005386           14.025749  8.108202e+07   \n",
              "min        240.000000       0.000000            0.000000  0.000000e+00   \n",
              "25%       8001.000000       0.000000           81.000000  0.000000e+00   \n",
              "50%      12000.000000       0.000000          100.000000  4.514909e+07   \n",
              "75%      12000.000000       0.000000          100.000000  1.441262e+08   \n",
              "max      18000.000000       1.000000          200.000000  4.515787e+08   \n",
              "\n",
              "       smart_3_normalized    smart_3_raw  smart_4_normalized    smart_4_raw  \\\n",
              "count       827423.000000  827423.000000       827423.000000  827423.000000   \n",
              "mean            97.823690    1099.787438           99.239953       9.540860   \n",
              "std             17.565005    2601.889063            8.677299     113.549724   \n",
              "min              0.000000       0.000000            0.000000       0.000000   \n",
              "25%             91.000000       0.000000          100.000000       2.000000   \n",
              "50%             97.000000       0.000000          100.000000       5.000000   \n",
              "75%            100.000000     380.000000          100.000000      10.000000   \n",
              "max            253.000000   11111.000000          100.000000   25141.000000   \n",
              "\n",
              "       smart_5_normalized    smart_5_raw  ...  smart_198_normalized  \\\n",
              "count       827423.000000  827423.000000  ...         827423.000000   \n",
              "mean            99.819275      39.236047  ...             99.685211   \n",
              "std             12.389478    1031.512115  ...             11.691369   \n",
              "min              0.000000       0.000000  ...              0.000000   \n",
              "25%            100.000000       0.000000  ...            100.000000   \n",
              "50%            100.000000       0.000000  ...            100.000000   \n",
              "75%            100.000000       0.000000  ...            100.000000   \n",
              "max            252.000000   65480.000000  ...            252.000000   \n",
              "\n",
              "       smart_198_raw  smart_199_normalized  smart_199_raw  \\\n",
              "count  827423.000000         827423.000000  827423.000000   \n",
              "mean        0.408183            194.880249       0.519943   \n",
              "std       101.045904             25.142999      37.358957   \n",
              "min         0.000000              0.000000       0.000000   \n",
              "25%         0.000000            200.000000       0.000000   \n",
              "50%         0.000000            200.000000       0.000000   \n",
              "75%         0.000000            200.000000       0.000000   \n",
              "max     41040.000000            200.000000    7670.000000   \n",
              "\n",
              "       smart_240_normalized  smart_240_raw  smart_241_normalized  \\\n",
              "count         827423.000000  827423.000000         827423.000000   \n",
              "mean              74.592601   14581.369804             64.284411   \n",
              "std               43.520472   16831.774762             47.928770   \n",
              "min                0.000000       0.000000              0.000000   \n",
              "25%                0.000000       0.000000              0.000000   \n",
              "50%              100.000000    5816.000000            100.000000   \n",
              "75%              100.000000   29337.000000            100.000000   \n",
              "max              100.000000   67845.000000            200.000000   \n",
              "\n",
              "       smart_241_raw  smart_242_normalized  smart_242_raw  \n",
              "count   8.274230e+05         827423.000000   8.274230e+05  \n",
              "mean    3.607570e+10             64.283202   1.236529e+11  \n",
              "std     3.050290e+10             47.929130   1.689341e+11  \n",
              "min     0.000000e+00              0.000000   0.000000e+00  \n",
              "25%     0.000000e+00              0.000000   0.000000e+00  \n",
              "50%     4.683655e+10            100.000000   9.188942e+10  \n",
              "75%     6.341446e+10            100.000000   2.468640e+11  \n",
              "max     2.202436e+11            200.000000   2.818246e+13  \n",
              "\n",
              "[8 rows x 46 columns]"
            ],
            "text/html": [
              "\n",
              "  <div id=\"df-ee345c01-3bc6-423b-9d62-21fcca3eebb0\">\n",
              "    <div class=\"colab-df-container\">\n",
              "      <div>\n",
              "<style scoped>\n",
              "    .dataframe tbody tr th:only-of-type {\n",
              "        vertical-align: middle;\n",
              "    }\n",
              "\n",
              "    .dataframe tbody tr th {\n",
              "        vertical-align: top;\n",
              "    }\n",
              "\n",
              "    .dataframe thead th {\n",
              "        text-align: right;\n",
              "    }\n",
              "</style>\n",
              "<table border=\"1\" class=\"dataframe\">\n",
              "  <thead>\n",
              "    <tr style=\"text-align: right;\">\n",
              "      <th></th>\n",
              "      <th>capacity_bytes</th>\n",
              "      <th>failure</th>\n",
              "      <th>smart_1_normalized</th>\n",
              "      <th>smart_1_raw</th>\n",
              "      <th>smart_3_normalized</th>\n",
              "      <th>smart_3_raw</th>\n",
              "      <th>smart_4_normalized</th>\n",
              "      <th>smart_4_raw</th>\n",
              "      <th>smart_5_normalized</th>\n",
              "      <th>smart_5_raw</th>\n",
              "      <th>...</th>\n",
              "      <th>smart_198_normalized</th>\n",
              "      <th>smart_198_raw</th>\n",
              "      <th>smart_199_normalized</th>\n",
              "      <th>smart_199_raw</th>\n",
              "      <th>smart_240_normalized</th>\n",
              "      <th>smart_240_raw</th>\n",
              "      <th>smart_241_normalized</th>\n",
              "      <th>smart_241_raw</th>\n",
              "      <th>smart_242_normalized</th>\n",
              "      <th>smart_242_raw</th>\n",
              "    </tr>\n",
              "  </thead>\n",
              "  <tbody>\n",
              "    <tr>\n",
              "      <th>count</th>\n",
              "      <td>827423.000000</td>\n",
              "      <td>827423.000000</td>\n",
              "      <td>827423.000000</td>\n",
              "      <td>8.274230e+05</td>\n",
              "      <td>827423.000000</td>\n",
              "      <td>827423.000000</td>\n",
              "      <td>827423.000000</td>\n",
              "      <td>827423.000000</td>\n",
              "      <td>827423.000000</td>\n",
              "      <td>827423.000000</td>\n",
              "      <td>...</td>\n",
              "      <td>827423.000000</td>\n",
              "      <td>827423.000000</td>\n",
              "      <td>827423.000000</td>\n",
              "      <td>827423.000000</td>\n",
              "      <td>827423.000000</td>\n",
              "      <td>827423.000000</td>\n",
              "      <td>827423.000000</td>\n",
              "      <td>8.274230e+05</td>\n",
              "      <td>827423.000000</td>\n",
              "      <td>8.274230e+05</td>\n",
              "    </tr>\n",
              "    <tr>\n",
              "      <th>mean</th>\n",
              "      <td>9878.203453</td>\n",
              "      <td>0.000029</td>\n",
              "      <td>92.044133</td>\n",
              "      <td>7.484468e+07</td>\n",
              "      <td>97.823690</td>\n",
              "      <td>1099.787438</td>\n",
              "      <td>99.239953</td>\n",
              "      <td>9.540860</td>\n",
              "      <td>99.819275</td>\n",
              "      <td>39.236047</td>\n",
              "      <td>...</td>\n",
              "      <td>99.685211</td>\n",
              "      <td>0.408183</td>\n",
              "      <td>194.880249</td>\n",
              "      <td>0.519943</td>\n",
              "      <td>74.592601</td>\n",
              "      <td>14581.369804</td>\n",
              "      <td>64.284411</td>\n",
              "      <td>3.607570e+10</td>\n",
              "      <td>64.283202</td>\n",
              "      <td>1.236529e+11</td>\n",
              "    </tr>\n",
              "    <tr>\n",
              "      <th>std</th>\n",
              "      <td>3877.916088</td>\n",
              "      <td>0.005386</td>\n",
              "      <td>14.025749</td>\n",
              "      <td>8.108202e+07</td>\n",
              "      <td>17.565005</td>\n",
              "      <td>2601.889063</td>\n",
              "      <td>8.677299</td>\n",
              "      <td>113.549724</td>\n",
              "      <td>12.389478</td>\n",
              "      <td>1031.512115</td>\n",
              "      <td>...</td>\n",
              "      <td>11.691369</td>\n",
              "      <td>101.045904</td>\n",
              "      <td>25.142999</td>\n",
              "      <td>37.358957</td>\n",
              "      <td>43.520472</td>\n",
              "      <td>16831.774762</td>\n",
              "      <td>47.928770</td>\n",
              "      <td>3.050290e+10</td>\n",
              "      <td>47.929130</td>\n",
              "      <td>1.689341e+11</td>\n",
              "    </tr>\n",
              "    <tr>\n",
              "      <th>min</th>\n",
              "      <td>240.000000</td>\n",
              "      <td>0.000000</td>\n",
              "      <td>0.000000</td>\n",
              "      <td>0.000000e+00</td>\n",
              "      <td>0.000000</td>\n",
              "      <td>0.000000</td>\n",
              "      <td>0.000000</td>\n",
              "      <td>0.000000</td>\n",
              "      <td>0.000000</td>\n",
              "      <td>0.000000</td>\n",
              "      <td>...</td>\n",
              "      <td>0.000000</td>\n",
              "      <td>0.000000</td>\n",
              "      <td>0.000000</td>\n",
              "      <td>0.000000</td>\n",
              "      <td>0.000000</td>\n",
              "      <td>0.000000</td>\n",
              "      <td>0.000000</td>\n",
              "      <td>0.000000e+00</td>\n",
              "      <td>0.000000</td>\n",
              "      <td>0.000000e+00</td>\n",
              "    </tr>\n",
              "    <tr>\n",
              "      <th>25%</th>\n",
              "      <td>8001.000000</td>\n",
              "      <td>0.000000</td>\n",
              "      <td>81.000000</td>\n",
              "      <td>0.000000e+00</td>\n",
              "      <td>91.000000</td>\n",
              "      <td>0.000000</td>\n",
              "      <td>100.000000</td>\n",
              "      <td>2.000000</td>\n",
              "      <td>100.000000</td>\n",
              "      <td>0.000000</td>\n",
              "      <td>...</td>\n",
              "      <td>100.000000</td>\n",
              "      <td>0.000000</td>\n",
              "      <td>200.000000</td>\n",
              "      <td>0.000000</td>\n",
              "      <td>0.000000</td>\n",
              "      <td>0.000000</td>\n",
              "      <td>0.000000</td>\n",
              "      <td>0.000000e+00</td>\n",
              "      <td>0.000000</td>\n",
              "      <td>0.000000e+00</td>\n",
              "    </tr>\n",
              "    <tr>\n",
              "      <th>50%</th>\n",
              "      <td>12000.000000</td>\n",
              "      <td>0.000000</td>\n",
              "      <td>100.000000</td>\n",
              "      <td>4.514909e+07</td>\n",
              "      <td>97.000000</td>\n",
              "      <td>0.000000</td>\n",
              "      <td>100.000000</td>\n",
              "      <td>5.000000</td>\n",
              "      <td>100.000000</td>\n",
              "      <td>0.000000</td>\n",
              "      <td>...</td>\n",
              "      <td>100.000000</td>\n",
              "      <td>0.000000</td>\n",
              "      <td>200.000000</td>\n",
              "      <td>0.000000</td>\n",
              "      <td>100.000000</td>\n",
              "      <td>5816.000000</td>\n",
              "      <td>100.000000</td>\n",
              "      <td>4.683655e+10</td>\n",
              "      <td>100.000000</td>\n",
              "      <td>9.188942e+10</td>\n",
              "    </tr>\n",
              "    <tr>\n",
              "      <th>75%</th>\n",
              "      <td>12000.000000</td>\n",
              "      <td>0.000000</td>\n",
              "      <td>100.000000</td>\n",
              "      <td>1.441262e+08</td>\n",
              "      <td>100.000000</td>\n",
              "      <td>380.000000</td>\n",
              "      <td>100.000000</td>\n",
              "      <td>10.000000</td>\n",
              "      <td>100.000000</td>\n",
              "      <td>0.000000</td>\n",
              "      <td>...</td>\n",
              "      <td>100.000000</td>\n",
              "      <td>0.000000</td>\n",
              "      <td>200.000000</td>\n",
              "      <td>0.000000</td>\n",
              "      <td>100.000000</td>\n",
              "      <td>29337.000000</td>\n",
              "      <td>100.000000</td>\n",
              "      <td>6.341446e+10</td>\n",
              "      <td>100.000000</td>\n",
              "      <td>2.468640e+11</td>\n",
              "    </tr>\n",
              "    <tr>\n",
              "      <th>max</th>\n",
              "      <td>18000.000000</td>\n",
              "      <td>1.000000</td>\n",
              "      <td>200.000000</td>\n",
              "      <td>4.515787e+08</td>\n",
              "      <td>253.000000</td>\n",
              "      <td>11111.000000</td>\n",
              "      <td>100.000000</td>\n",
              "      <td>25141.000000</td>\n",
              "      <td>252.000000</td>\n",
              "      <td>65480.000000</td>\n",
              "      <td>...</td>\n",
              "      <td>252.000000</td>\n",
              "      <td>41040.000000</td>\n",
              "      <td>200.000000</td>\n",
              "      <td>7670.000000</td>\n",
              "      <td>100.000000</td>\n",
              "      <td>67845.000000</td>\n",
              "      <td>200.000000</td>\n",
              "      <td>2.202436e+11</td>\n",
              "      <td>200.000000</td>\n",
              "      <td>2.818246e+13</td>\n",
              "    </tr>\n",
              "  </tbody>\n",
              "</table>\n",
              "<p>8 rows × 46 columns</p>\n",
              "</div>\n",
              "      <button class=\"colab-df-convert\" onclick=\"convertToInteractive('df-ee345c01-3bc6-423b-9d62-21fcca3eebb0')\"\n",
              "              title=\"Convert this dataframe to an interactive table.\"\n",
              "              style=\"display:none;\">\n",
              "        \n",
              "  <svg xmlns=\"http://www.w3.org/2000/svg\" height=\"24px\"viewBox=\"0 0 24 24\"\n",
              "       width=\"24px\">\n",
              "    <path d=\"M0 0h24v24H0V0z\" fill=\"none\"/>\n",
              "    <path d=\"M18.56 5.44l.94 2.06.94-2.06 2.06-.94-2.06-.94-.94-2.06-.94 2.06-2.06.94zm-11 1L8.5 8.5l.94-2.06 2.06-.94-2.06-.94L8.5 2.5l-.94 2.06-2.06.94zm10 10l.94 2.06.94-2.06 2.06-.94-2.06-.94-.94-2.06-.94 2.06-2.06.94z\"/><path d=\"M17.41 7.96l-1.37-1.37c-.4-.4-.92-.59-1.43-.59-.52 0-1.04.2-1.43.59L10.3 9.45l-7.72 7.72c-.78.78-.78 2.05 0 2.83L4 21.41c.39.39.9.59 1.41.59.51 0 1.02-.2 1.41-.59l7.78-7.78 2.81-2.81c.8-.78.8-2.07 0-2.86zM5.41 20L4 18.59l7.72-7.72 1.47 1.35L5.41 20z\"/>\n",
              "  </svg>\n",
              "      </button>\n",
              "      \n",
              "  <style>\n",
              "    .colab-df-container {\n",
              "      display:flex;\n",
              "      flex-wrap:wrap;\n",
              "      gap: 12px;\n",
              "    }\n",
              "\n",
              "    .colab-df-convert {\n",
              "      background-color: #E8F0FE;\n",
              "      border: none;\n",
              "      border-radius: 50%;\n",
              "      cursor: pointer;\n",
              "      display: none;\n",
              "      fill: #1967D2;\n",
              "      height: 32px;\n",
              "      padding: 0 0 0 0;\n",
              "      width: 32px;\n",
              "    }\n",
              "\n",
              "    .colab-df-convert:hover {\n",
              "      background-color: #E2EBFA;\n",
              "      box-shadow: 0px 1px 2px rgba(60, 64, 67, 0.3), 0px 1px 3px 1px rgba(60, 64, 67, 0.15);\n",
              "      fill: #174EA6;\n",
              "    }\n",
              "\n",
              "    [theme=dark] .colab-df-convert {\n",
              "      background-color: #3B4455;\n",
              "      fill: #D2E3FC;\n",
              "    }\n",
              "\n",
              "    [theme=dark] .colab-df-convert:hover {\n",
              "      background-color: #434B5C;\n",
              "      box-shadow: 0px 1px 3px 1px rgba(0, 0, 0, 0.15);\n",
              "      filter: drop-shadow(0px 1px 2px rgba(0, 0, 0, 0.3));\n",
              "      fill: #FFFFFF;\n",
              "    }\n",
              "  </style>\n",
              "\n",
              "      <script>\n",
              "        const buttonEl =\n",
              "          document.querySelector('#df-ee345c01-3bc6-423b-9d62-21fcca3eebb0 button.colab-df-convert');\n",
              "        buttonEl.style.display =\n",
              "          google.colab.kernel.accessAllowed ? 'block' : 'none';\n",
              "\n",
              "        async function convertToInteractive(key) {\n",
              "          const element = document.querySelector('#df-ee345c01-3bc6-423b-9d62-21fcca3eebb0');\n",
              "          const dataTable =\n",
              "            await google.colab.kernel.invokeFunction('convertToInteractive',\n",
              "                                                     [key], {});\n",
              "          if (!dataTable) return;\n",
              "\n",
              "          const docLinkHtml = 'Like what you see? Visit the ' +\n",
              "            '<a target=\"_blank\" href=https://colab.research.google.com/notebooks/data_table.ipynb>data table notebook</a>'\n",
              "            + ' to learn more about interactive tables.';\n",
              "          element.innerHTML = '';\n",
              "          dataTable['output_type'] = 'display_data';\n",
              "          await google.colab.output.renderOutput(dataTable, element);\n",
              "          const docLink = document.createElement('div');\n",
              "          docLink.innerHTML = docLinkHtml;\n",
              "          element.appendChild(docLink);\n",
              "        }\n",
              "      </script>\n",
              "    </div>\n",
              "  </div>\n",
              "  "
            ]
          },
          "metadata": {},
          "execution_count": 31
        }
      ],
      "source": [
        "Test.describe()"
      ]
    },
    {
      "cell_type": "markdown",
      "metadata": {
        "id": "M9wB7VPFS9PY"
      },
      "source": [
        "##### From the above description it is seen that some attributes have values ranging from 10^7 to 10^13 which seems to be odd. Such attributes are choosen for Feature engineering. \n",
        "##### Inspite of Column Standardisation or Normalisation, Sigmoid and Tanh functions are applied on these attributes as a scaling function and it's correlation with target varibale is compared with its original correlation values."
      ]
    },
    {
      "cell_type": "code",
      "execution_count": 32,
      "metadata": {
        "id": "fdI7Fb-L3YBn"
      },
      "outputs": [],
      "source": [
        "# Sigmoid and TanH Functions.\n",
        "# Instead of using original value, it is added with random normal distributed value just like adding bias to the input value.\n",
        "def Sigmoid(x):\n",
        "  return 1 / (1 + np.exp(-(x + np.random.normal(scale = 0.5)))) \n",
        "def TanH(x):\n",
        "  return np.tanh(x + np.random.normal(scale = 0.5))"
      ]
    },
    {
      "cell_type": "code",
      "execution_count": 33,
      "metadata": {
        "id": "HWxLbNiiwS57"
      },
      "outputs": [],
      "source": [
        "# Creating new attributes based on above description.\n",
        "\n",
        "#Test['smart_1_sig'] = Test['smart_1_raw'].apply(Sigmoid)\n",
        "#Test['smart_7_sig'] = Test['smart_7_raw'].apply(Sigmoid)\n",
        "#Test['smart_188_sig'] = Test['smart_188_raw'].apply(Sigmoid)\n",
        "#Test['smart_193_sig'] = Test['smart_193_raw'].apply(Sigmoid)\n",
        "#Test['smart_240_sig'] = Test['smart_240_raw'].apply(Sigmoid)\n",
        "#Test['smart_241_sig'] = Test['smart_241_raw'].apply(Sigmoid)\n",
        "#Test['smart_242_sig'] = Test['smart_242_raw'].apply(Sigmoid)\n",
        "\n",
        "#Test['smart_1_tan'] = Test['smart_1_raw'].apply(TanH)\n",
        "#Test['smart_7_tan'] = Test['smart_7_raw'].apply(TanH)\n",
        "#Test['smart_188_tan'] = Test['smart_188_raw'].apply(TanH)\n",
        "#Test['smart_193_tan'] = Test['smart_193_raw'].apply(TanH)\n",
        "#Test['smart_240_tan'] = Test['smart_240_raw'].apply(TanH)\n",
        "#Test['smart_241_tan'] = Test['smart_241_raw'].apply(TanH)\n",
        "#Test['smart_242_tan'] = Test['smart_242_raw'].apply(TanH)\n",
        "\n",
        "cf = ['smart_1_raw', 'smart_7_raw', 'smart_188_raw', 'smart_193_raw', 'smart_240_raw', 'smart_241_raw', 'smart_242_raw']\n",
        "for i in cf:\n",
        "   n = re.findall('\\d+',i) \n",
        "   s = 'smart_' + ''.join(n) + '_sig'\n",
        "   t = 'smart_' + ''.join(n) + '_tan'\n",
        "   Test[s] = Test[i].apply(Sigmoid)\n",
        "   Test[t] = Test[i].apply(TanH)"
      ]
    },
    {
      "cell_type": "code",
      "execution_count": 34,
      "metadata": {
        "colab": {
          "base_uri": "https://localhost:8080/",
          "height": 404
        },
        "id": "8sCyRVcpoCuY",
        "outputId": "90d20f93-a650-4d89-b6d5-1e461b64e0a4"
      },
      "outputs": [
        {
          "output_type": "stream",
          "name": "stdout",
          "text": [
            "Warning: Total number of columns (63) exceeds max_columns (20). Falling back to pandas display.\n"
          ]
        },
        {
          "output_type": "execute_result",
          "data": {
            "text/plain": [
              "        date serial_number          model  capacity_bytes  failure  \\\n",
              "0 2021-01-01      ZLW0EGC6  ST12000NM001G         12000.0        0   \n",
              "1 2021-01-01      Z305B2QN    ST4000DM000          4000.0        0   \n",
              "2 2021-01-01      ZLW0C6NE  ST12000NM001G         12000.0        0   \n",
              "3 2021-01-01      ZJV0XJQ3  ST12000NM0007         12000.0        0   \n",
              "4 2021-01-01      ZLW18MKT  ST14000NM001G         14000.0        0   \n",
              "\n",
              "   smart_1_normalized  smart_1_raw  smart_3_normalized  smart_3_raw  \\\n",
              "0                83.0  213166608.0                99.0          0.0   \n",
              "1               114.0   79306032.0                91.0          0.0   \n",
              "2                72.0   17162816.0                98.0          0.0   \n",
              "3               100.0    1102160.0                98.0          0.0   \n",
              "4                75.0   33233248.0                95.0          0.0   \n",
              "\n",
              "   smart_4_normalized  ...  smart_188_sig  smart_188_tan  smart_193_sig  \\\n",
              "0               100.0  ...       0.469078       0.463002            1.0   \n",
              "1               100.0  ...       0.427707       0.032484            1.0   \n",
              "2               100.0  ...       0.280797      -0.338263            1.0   \n",
              "3               100.0  ...       0.376124      -0.347452            1.0   \n",
              "4               100.0  ...       0.680128       0.250683            1.0   \n",
              "\n",
              "   smart_193_tan  smart_240_sig  smart_240_tan  smart_241_sig  smart_241_tan  \\\n",
              "0            1.0            1.0            1.0            1.0            1.0   \n",
              "1            1.0            1.0            1.0            1.0            1.0   \n",
              "2            1.0            1.0            1.0            1.0            1.0   \n",
              "3            1.0            1.0            1.0            1.0            1.0   \n",
              "4            1.0            1.0            1.0            1.0            1.0   \n",
              "\n",
              "   smart_242_sig  smart_242_tan  \n",
              "0            1.0            1.0  \n",
              "1            1.0            1.0  \n",
              "2            1.0            1.0  \n",
              "3            1.0            1.0  \n",
              "4            1.0            1.0  \n",
              "\n",
              "[5 rows x 63 columns]"
            ],
            "text/html": [
              "\n",
              "  <div id=\"df-623a797c-f764-40cc-9f21-cf5393f7172d\">\n",
              "    <div class=\"colab-df-container\">\n",
              "      <div>\n",
              "<style scoped>\n",
              "    .dataframe tbody tr th:only-of-type {\n",
              "        vertical-align: middle;\n",
              "    }\n",
              "\n",
              "    .dataframe tbody tr th {\n",
              "        vertical-align: top;\n",
              "    }\n",
              "\n",
              "    .dataframe thead th {\n",
              "        text-align: right;\n",
              "    }\n",
              "</style>\n",
              "<table border=\"1\" class=\"dataframe\">\n",
              "  <thead>\n",
              "    <tr style=\"text-align: right;\">\n",
              "      <th></th>\n",
              "      <th>date</th>\n",
              "      <th>serial_number</th>\n",
              "      <th>model</th>\n",
              "      <th>capacity_bytes</th>\n",
              "      <th>failure</th>\n",
              "      <th>smart_1_normalized</th>\n",
              "      <th>smart_1_raw</th>\n",
              "      <th>smart_3_normalized</th>\n",
              "      <th>smart_3_raw</th>\n",
              "      <th>smart_4_normalized</th>\n",
              "      <th>...</th>\n",
              "      <th>smart_188_sig</th>\n",
              "      <th>smart_188_tan</th>\n",
              "      <th>smart_193_sig</th>\n",
              "      <th>smart_193_tan</th>\n",
              "      <th>smart_240_sig</th>\n",
              "      <th>smart_240_tan</th>\n",
              "      <th>smart_241_sig</th>\n",
              "      <th>smart_241_tan</th>\n",
              "      <th>smart_242_sig</th>\n",
              "      <th>smart_242_tan</th>\n",
              "    </tr>\n",
              "  </thead>\n",
              "  <tbody>\n",
              "    <tr>\n",
              "      <th>0</th>\n",
              "      <td>2021-01-01</td>\n",
              "      <td>ZLW0EGC6</td>\n",
              "      <td>ST12000NM001G</td>\n",
              "      <td>12000.0</td>\n",
              "      <td>0</td>\n",
              "      <td>83.0</td>\n",
              "      <td>213166608.0</td>\n",
              "      <td>99.0</td>\n",
              "      <td>0.0</td>\n",
              "      <td>100.0</td>\n",
              "      <td>...</td>\n",
              "      <td>0.469078</td>\n",
              "      <td>0.463002</td>\n",
              "      <td>1.0</td>\n",
              "      <td>1.0</td>\n",
              "      <td>1.0</td>\n",
              "      <td>1.0</td>\n",
              "      <td>1.0</td>\n",
              "      <td>1.0</td>\n",
              "      <td>1.0</td>\n",
              "      <td>1.0</td>\n",
              "    </tr>\n",
              "    <tr>\n",
              "      <th>1</th>\n",
              "      <td>2021-01-01</td>\n",
              "      <td>Z305B2QN</td>\n",
              "      <td>ST4000DM000</td>\n",
              "      <td>4000.0</td>\n",
              "      <td>0</td>\n",
              "      <td>114.0</td>\n",
              "      <td>79306032.0</td>\n",
              "      <td>91.0</td>\n",
              "      <td>0.0</td>\n",
              "      <td>100.0</td>\n",
              "      <td>...</td>\n",
              "      <td>0.427707</td>\n",
              "      <td>0.032484</td>\n",
              "      <td>1.0</td>\n",
              "      <td>1.0</td>\n",
              "      <td>1.0</td>\n",
              "      <td>1.0</td>\n",
              "      <td>1.0</td>\n",
              "      <td>1.0</td>\n",
              "      <td>1.0</td>\n",
              "      <td>1.0</td>\n",
              "    </tr>\n",
              "    <tr>\n",
              "      <th>2</th>\n",
              "      <td>2021-01-01</td>\n",
              "      <td>ZLW0C6NE</td>\n",
              "      <td>ST12000NM001G</td>\n",
              "      <td>12000.0</td>\n",
              "      <td>0</td>\n",
              "      <td>72.0</td>\n",
              "      <td>17162816.0</td>\n",
              "      <td>98.0</td>\n",
              "      <td>0.0</td>\n",
              "      <td>100.0</td>\n",
              "      <td>...</td>\n",
              "      <td>0.280797</td>\n",
              "      <td>-0.338263</td>\n",
              "      <td>1.0</td>\n",
              "      <td>1.0</td>\n",
              "      <td>1.0</td>\n",
              "      <td>1.0</td>\n",
              "      <td>1.0</td>\n",
              "      <td>1.0</td>\n",
              "      <td>1.0</td>\n",
              "      <td>1.0</td>\n",
              "    </tr>\n",
              "    <tr>\n",
              "      <th>3</th>\n",
              "      <td>2021-01-01</td>\n",
              "      <td>ZJV0XJQ3</td>\n",
              "      <td>ST12000NM0007</td>\n",
              "      <td>12000.0</td>\n",
              "      <td>0</td>\n",
              "      <td>100.0</td>\n",
              "      <td>1102160.0</td>\n",
              "      <td>98.0</td>\n",
              "      <td>0.0</td>\n",
              "      <td>100.0</td>\n",
              "      <td>...</td>\n",
              "      <td>0.376124</td>\n",
              "      <td>-0.347452</td>\n",
              "      <td>1.0</td>\n",
              "      <td>1.0</td>\n",
              "      <td>1.0</td>\n",
              "      <td>1.0</td>\n",
              "      <td>1.0</td>\n",
              "      <td>1.0</td>\n",
              "      <td>1.0</td>\n",
              "      <td>1.0</td>\n",
              "    </tr>\n",
              "    <tr>\n",
              "      <th>4</th>\n",
              "      <td>2021-01-01</td>\n",
              "      <td>ZLW18MKT</td>\n",
              "      <td>ST14000NM001G</td>\n",
              "      <td>14000.0</td>\n",
              "      <td>0</td>\n",
              "      <td>75.0</td>\n",
              "      <td>33233248.0</td>\n",
              "      <td>95.0</td>\n",
              "      <td>0.0</td>\n",
              "      <td>100.0</td>\n",
              "      <td>...</td>\n",
              "      <td>0.680128</td>\n",
              "      <td>0.250683</td>\n",
              "      <td>1.0</td>\n",
              "      <td>1.0</td>\n",
              "      <td>1.0</td>\n",
              "      <td>1.0</td>\n",
              "      <td>1.0</td>\n",
              "      <td>1.0</td>\n",
              "      <td>1.0</td>\n",
              "      <td>1.0</td>\n",
              "    </tr>\n",
              "  </tbody>\n",
              "</table>\n",
              "<p>5 rows × 63 columns</p>\n",
              "</div>\n",
              "      <button class=\"colab-df-convert\" onclick=\"convertToInteractive('df-623a797c-f764-40cc-9f21-cf5393f7172d')\"\n",
              "              title=\"Convert this dataframe to an interactive table.\"\n",
              "              style=\"display:none;\">\n",
              "        \n",
              "  <svg xmlns=\"http://www.w3.org/2000/svg\" height=\"24px\"viewBox=\"0 0 24 24\"\n",
              "       width=\"24px\">\n",
              "    <path d=\"M0 0h24v24H0V0z\" fill=\"none\"/>\n",
              "    <path d=\"M18.56 5.44l.94 2.06.94-2.06 2.06-.94-2.06-.94-.94-2.06-.94 2.06-2.06.94zm-11 1L8.5 8.5l.94-2.06 2.06-.94-2.06-.94L8.5 2.5l-.94 2.06-2.06.94zm10 10l.94 2.06.94-2.06 2.06-.94-2.06-.94-.94-2.06-.94 2.06-2.06.94z\"/><path d=\"M17.41 7.96l-1.37-1.37c-.4-.4-.92-.59-1.43-.59-.52 0-1.04.2-1.43.59L10.3 9.45l-7.72 7.72c-.78.78-.78 2.05 0 2.83L4 21.41c.39.39.9.59 1.41.59.51 0 1.02-.2 1.41-.59l7.78-7.78 2.81-2.81c.8-.78.8-2.07 0-2.86zM5.41 20L4 18.59l7.72-7.72 1.47 1.35L5.41 20z\"/>\n",
              "  </svg>\n",
              "      </button>\n",
              "      \n",
              "  <style>\n",
              "    .colab-df-container {\n",
              "      display:flex;\n",
              "      flex-wrap:wrap;\n",
              "      gap: 12px;\n",
              "    }\n",
              "\n",
              "    .colab-df-convert {\n",
              "      background-color: #E8F0FE;\n",
              "      border: none;\n",
              "      border-radius: 50%;\n",
              "      cursor: pointer;\n",
              "      display: none;\n",
              "      fill: #1967D2;\n",
              "      height: 32px;\n",
              "      padding: 0 0 0 0;\n",
              "      width: 32px;\n",
              "    }\n",
              "\n",
              "    .colab-df-convert:hover {\n",
              "      background-color: #E2EBFA;\n",
              "      box-shadow: 0px 1px 2px rgba(60, 64, 67, 0.3), 0px 1px 3px 1px rgba(60, 64, 67, 0.15);\n",
              "      fill: #174EA6;\n",
              "    }\n",
              "\n",
              "    [theme=dark] .colab-df-convert {\n",
              "      background-color: #3B4455;\n",
              "      fill: #D2E3FC;\n",
              "    }\n",
              "\n",
              "    [theme=dark] .colab-df-convert:hover {\n",
              "      background-color: #434B5C;\n",
              "      box-shadow: 0px 1px 3px 1px rgba(0, 0, 0, 0.15);\n",
              "      filter: drop-shadow(0px 1px 2px rgba(0, 0, 0, 0.3));\n",
              "      fill: #FFFFFF;\n",
              "    }\n",
              "  </style>\n",
              "\n",
              "      <script>\n",
              "        const buttonEl =\n",
              "          document.querySelector('#df-623a797c-f764-40cc-9f21-cf5393f7172d button.colab-df-convert');\n",
              "        buttonEl.style.display =\n",
              "          google.colab.kernel.accessAllowed ? 'block' : 'none';\n",
              "\n",
              "        async function convertToInteractive(key) {\n",
              "          const element = document.querySelector('#df-623a797c-f764-40cc-9f21-cf5393f7172d');\n",
              "          const dataTable =\n",
              "            await google.colab.kernel.invokeFunction('convertToInteractive',\n",
              "                                                     [key], {});\n",
              "          if (!dataTable) return;\n",
              "\n",
              "          const docLinkHtml = 'Like what you see? Visit the ' +\n",
              "            '<a target=\"_blank\" href=https://colab.research.google.com/notebooks/data_table.ipynb>data table notebook</a>'\n",
              "            + ' to learn more about interactive tables.';\n",
              "          element.innerHTML = '';\n",
              "          dataTable['output_type'] = 'display_data';\n",
              "          await google.colab.output.renderOutput(dataTable, element);\n",
              "          const docLink = document.createElement('div');\n",
              "          docLink.innerHTML = docLinkHtml;\n",
              "          element.appendChild(docLink);\n",
              "        }\n",
              "      </script>\n",
              "    </div>\n",
              "  </div>\n",
              "  "
            ]
          },
          "metadata": {},
          "execution_count": 34
        }
      ],
      "source": [
        "Test.head()"
      ]
    },
    {
      "cell_type": "code",
      "execution_count": 35,
      "metadata": {
        "colab": {
          "base_uri": "https://localhost:8080/"
        },
        "id": "1ZQ2B73No_u6",
        "outputId": "0fbfff67-bcea-44a4-bba8-d6a153e093c9"
      },
      "outputs": [
        {
          "output_type": "stream",
          "name": "stdout",
          "text": [
            "smart_1_raw feature Correlation with target(Failure) is 0.0004930565827411704\n",
            "smart_1_sig feature Correlation with target(Failure) is 0.0014745877679282805\n",
            "smart_1_tan feature Correlation with target(Failure) is 0.0016372545943467722\n",
            "\n",
            "smart_7_raw feature Correlation with target(Failure) is -1.8360522051362562e-05\n",
            "smart_7_sig feature Correlation with target(Failure) is 0.0015240765464984497\n",
            "smart_7_tan feature Correlation with target(Failure) is 0.0011192289645524608\n",
            "\n",
            "smart_188_raw feature Correlation with target(Failure) is 0.00044184288658845447\n",
            "smart_188_sig feature Correlation with target(Failure) is 0.0034546617436966714\n",
            "smart_188_tan feature Correlation with target(Failure) is 0.002258702290354728\n",
            "\n",
            "smart_193_raw feature Correlation with target(Failure) is -0.0016981571065426927\n",
            "smart_193_sig feature Correlation with target(Failure) is -0.004078309532314879\n",
            "smart_193_tan feature Correlation with target(Failure) is -0.003123431050452165\n",
            "\n",
            "smart_240_raw feature Correlation with target(Failure) is 0.00028027466558763574\n",
            "smart_240_sig feature Correlation with target(Failure) is 0.0010122036103277351\n",
            "smart_240_tan feature Correlation with target(Failure) is 0.0007617293961807126\n",
            "\n",
            "smart_241_raw feature Correlation with target(Failure) is 0.0012396855933433362\n",
            "smart_241_sig feature Correlation with target(Failure) is 0.0012395372511324256\n",
            "smart_241_tan feature Correlation with target(Failure) is 0.001548574306094097\n",
            "\n",
            "smart_242_raw feature Correlation with target(Failure) is 0.0004745561839035194\n",
            "smart_242_sig feature Correlation with target(Failure) is 0.0011771233431861461\n",
            "smart_242_tan feature Correlation with target(Failure) is 0.0007387797121057094\n",
            "\n"
          ]
        }
      ],
      "source": [
        "# Checking the correlation of attributes with target variable.\n",
        "cf = ['smart_1_raw', 'smart_1_sig', 'smart_1_tan', 'smart_7_raw', 'smart_7_sig', 'smart_7_tan', 'smart_188_raw', 'smart_188_sig', 'smart_188_tan', 'smart_193_raw', 'smart_193_sig', 'smart_193_tan', 'smart_240_raw', 'smart_240_sig', 'smart_240_tan', 'smart_241_raw', 'smart_241_sig', 'smart_241_tan', 'smart_242_raw', 'smart_242_sig', 'smart_242_tan']\n",
        "j = 1\n",
        "for i in cf:\n",
        "  print(i + ' feature' + ' Correlation with target(Failure)' + ' is ' + str(Test[i].corr(Test['failure']))) # This line computes the correlation.\n",
        "  if(j % 3 == 0):\n",
        "    print()\n",
        "  j+=1"
      ]
    },
    {
      "cell_type": "markdown",
      "metadata": {
        "id": "jmNIV-zWXY2Z"
      },
      "source": [
        "##### From the above correlation values, attributes obtained from Sigmoid function shows the better correlation than the TanH function. It also show good values when compared with original raw values. \n",
        "##### But, smart_241_sig correlation values are still less than it's original raw values, which seems that sigmoidal values dosen't improve the correlation result. Thus, these attributes are not used for feature engineering."
      ]
    },
    {
      "cell_type": "markdown",
      "metadata": {
        "id": "27XNBP5-v-XL"
      },
      "source": [
        "#### Response Encoding the \"Model\" feature.\n",
        "\n",
        "> It is a method of creating the True and False probabilities for Categorical Data.\n",
        "\n",
        "> True Probability = No. of (respec. cat. data with target = 1) / (Total no. of that cat. data).\n",
        "\n",
        "> False Probability = No. of (respec. cat. data with target = 0) / (Total no. of that cat. data).\n",
        "\n",
        "\n",
        "\n",
        "\n",
        "\n",
        "\n",
        "\n"
      ]
    },
    {
      "cell_type": "code",
      "execution_count": 36,
      "metadata": {
        "id": "7McICI9RIuwZ"
      },
      "outputs": [],
      "source": [
        "# Function for Claculating the probabilities of categorical data.\n",
        "def res_fit(cat, Y):\n",
        "    j = dict(cat.value_counts()) # Storing the counts of each category in Dictionary. \n",
        "    true, false = 0, 0\n",
        "    TRUE, FALSE = {}, {} \n",
        "    for key, value in j.items(): # Iterating over each category\n",
        "        sum, neg, = 0, 0\n",
        "        for state, y in zip(cat, Y): # Iterating over every data in given Series\n",
        "            if (key == state and y == 1): \n",
        "                sum+= 1              # Calculating count when target of respective category data is 1\n",
        "            elif (key == state and y == 0):\n",
        "                neg+= 1              # Calculating count when target of respective category data is 0\n",
        "        true = sum / value           # Dividing the True count with the respective total category count.\n",
        "        false = neg / value          # Dividing the False count with the respective total category count.\n",
        "        TRUE[key] = true\n",
        "        FALSE[key] = false           # The respective category data with it's True probability and False probability is stored in dictionary.\n",
        "    return j, TRUE, FALSE"
      ]
    },
    {
      "cell_type": "code",
      "execution_count": 37,
      "metadata": {
        "id": "btVcJmKdIvE3"
      },
      "outputs": [],
      "source": [
        "# Function for transforming the query data points into respective calculated probability values.\n",
        "def res_transform(cat, TRUE, FALSE):\n",
        "    t = []\n",
        "    f = []\n",
        "    for state in cat: # Iterating over each data point in a given query series.\n",
        "        for ((key_t, value_t), (key_f, value_f)) in zip(TRUE.items(), FALSE.items()): # Iterating over the calculated True and False probabilities \n",
        "\n",
        "            # When the respective category data from query series is matched, it is then appended with it's respective probability values. \n",
        "            if state == key_t and state == key_f: \n",
        "                t.append(value_t)                 \n",
        "                f.append(value_f)\n",
        "                break\n",
        "        else :           # Incase, when the unknown category data is found, it's True and False probability values are considered as 0.5 and 0.5.\n",
        "                t.append(1/2)\n",
        "                f.append(1/2) \n",
        "\n",
        "    X_t = np.array(t).reshape(-1, 1)\n",
        "    X_f = np.array(f).reshape(-1, 1) # Reshaping the above array\n",
        "    \n",
        "    return np.concatenate((X_t, X_f), axis = 1) "
      ]
    },
    {
      "cell_type": "code",
      "execution_count": 38,
      "metadata": {
        "id": "kKINAanZGen2"
      },
      "outputs": [],
      "source": [
        "del Test"
      ]
    },
    {
      "cell_type": "markdown",
      "metadata": {
        "id": "uVf3UCABZMB0"
      },
      "source": [
        "# 5. Final Dataset\n",
        "\n",
        "\n",
        "\n"
      ]
    },
    {
      "cell_type": "markdown",
      "metadata": {
        "id": "Ju7gmaq1K8EF"
      },
      "source": [
        "> From the above task, attributes with respective transformation which given better correlation values than it's original raw values are used as a attributes for feature transformation in final dataset."
      ]
    },
    {
      "cell_type": "code",
      "execution_count": 39,
      "metadata": {
        "colab": {
          "base_uri": "https://localhost:8080/"
        },
        "id": "u9a7v5ke1bxf",
        "outputId": "b62643c9-1e97-42eb-d807-cb931fdb286d"
      },
      "outputs": [
        {
          "output_type": "stream",
          "name": "stdout",
          "text": [
            "Original shape of Data :  (827423, 49)\n",
            "Final shape of Data :  (827423, 55)\n"
          ]
        }
      ],
      "source": [
        "print(\"Original shape of Data : \", Data.shape)\n",
        "cf = ['smart_1_raw', 'smart_7_raw', 'smart_188_raw', 'smart_193_raw', 'smart_240_raw', 'smart_242_raw']\n",
        "for i in cf:\n",
        "   n = re.findall('\\d+',i) \n",
        "   s = 'smart_' + ''.join(n) + '_sig'\n",
        "   Data[s] = Data[i].apply(Sigmoid)\n",
        "\n",
        "print(\"Final shape of Data : \", Data.shape)"
      ]
    },
    {
      "cell_type": "code",
      "execution_count": 40,
      "metadata": {
        "colab": {
          "base_uri": "https://localhost:8080/",
          "height": 404
        },
        "id": "j5nCyDpc-rFu",
        "outputId": "16188284-0385-4b90-94e7-a1a708b156ce"
      },
      "outputs": [
        {
          "output_type": "stream",
          "name": "stdout",
          "text": [
            "Warning: Total number of columns (55) exceeds max_columns (20). Falling back to pandas display.\n"
          ]
        },
        {
          "output_type": "execute_result",
          "data": {
            "text/plain": [
              "        date serial_number          model  capacity_bytes  failure  \\\n",
              "0 2021-01-01      ZLW0EGC6  ST12000NM001G         12000.0        0   \n",
              "1 2021-01-01      Z305B2QN    ST4000DM000          4000.0        0   \n",
              "2 2021-01-01      ZLW0C6NE  ST12000NM001G         12000.0        0   \n",
              "3 2021-01-01      ZJV0XJQ3  ST12000NM0007         12000.0        0   \n",
              "4 2021-01-01      ZLW18MKT  ST14000NM001G         14000.0        0   \n",
              "\n",
              "   smart_1_normalized  smart_1_raw  smart_3_normalized  smart_3_raw  \\\n",
              "0                83.0  213166608.0                99.0          0.0   \n",
              "1               114.0   79306032.0                91.0          0.0   \n",
              "2                72.0   17162816.0                98.0          0.0   \n",
              "3               100.0    1102160.0                98.0          0.0   \n",
              "4                75.0   33233248.0                95.0          0.0   \n",
              "\n",
              "   smart_4_normalized  ...  smart_241_normalized  smart_241_raw  \\\n",
              "0               100.0  ...                 100.0   4.839342e+10   \n",
              "1               100.0  ...                 100.0   5.940338e+10   \n",
              "2               100.0  ...                 100.0   4.917863e+10   \n",
              "3               100.0  ...                 100.0   5.260102e+10   \n",
              "4               100.0  ...                 100.0   1.647225e+10   \n",
              "\n",
              "   smart_242_normalized  smart_242_raw  smart_1_sig  smart_7_sig  \\\n",
              "0                 100.0   7.022831e+10          1.0          1.0   \n",
              "1                 100.0   5.457889e+11          1.0          1.0   \n",
              "2                 100.0   8.706921e+10          1.0          1.0   \n",
              "3                 100.0   1.295292e+11          1.0          1.0   \n",
              "4                 100.0   1.872005e+10          1.0          1.0   \n",
              "\n",
              "   smart_188_sig  smart_193_sig  smart_240_sig  smart_242_sig  \n",
              "0       0.371280            1.0            1.0            1.0  \n",
              "1       0.524317            1.0            1.0            1.0  \n",
              "2       0.509386            1.0            1.0            1.0  \n",
              "3       0.642052            1.0            1.0            1.0  \n",
              "4       0.461944            1.0            1.0            1.0  \n",
              "\n",
              "[5 rows x 55 columns]"
            ],
            "text/html": [
              "\n",
              "  <div id=\"df-7443f5b6-1cab-43f7-b4ef-5164fe5cb4c9\">\n",
              "    <div class=\"colab-df-container\">\n",
              "      <div>\n",
              "<style scoped>\n",
              "    .dataframe tbody tr th:only-of-type {\n",
              "        vertical-align: middle;\n",
              "    }\n",
              "\n",
              "    .dataframe tbody tr th {\n",
              "        vertical-align: top;\n",
              "    }\n",
              "\n",
              "    .dataframe thead th {\n",
              "        text-align: right;\n",
              "    }\n",
              "</style>\n",
              "<table border=\"1\" class=\"dataframe\">\n",
              "  <thead>\n",
              "    <tr style=\"text-align: right;\">\n",
              "      <th></th>\n",
              "      <th>date</th>\n",
              "      <th>serial_number</th>\n",
              "      <th>model</th>\n",
              "      <th>capacity_bytes</th>\n",
              "      <th>failure</th>\n",
              "      <th>smart_1_normalized</th>\n",
              "      <th>smart_1_raw</th>\n",
              "      <th>smart_3_normalized</th>\n",
              "      <th>smart_3_raw</th>\n",
              "      <th>smart_4_normalized</th>\n",
              "      <th>...</th>\n",
              "      <th>smart_241_normalized</th>\n",
              "      <th>smart_241_raw</th>\n",
              "      <th>smart_242_normalized</th>\n",
              "      <th>smart_242_raw</th>\n",
              "      <th>smart_1_sig</th>\n",
              "      <th>smart_7_sig</th>\n",
              "      <th>smart_188_sig</th>\n",
              "      <th>smart_193_sig</th>\n",
              "      <th>smart_240_sig</th>\n",
              "      <th>smart_242_sig</th>\n",
              "    </tr>\n",
              "  </thead>\n",
              "  <tbody>\n",
              "    <tr>\n",
              "      <th>0</th>\n",
              "      <td>2021-01-01</td>\n",
              "      <td>ZLW0EGC6</td>\n",
              "      <td>ST12000NM001G</td>\n",
              "      <td>12000.0</td>\n",
              "      <td>0</td>\n",
              "      <td>83.0</td>\n",
              "      <td>213166608.0</td>\n",
              "      <td>99.0</td>\n",
              "      <td>0.0</td>\n",
              "      <td>100.0</td>\n",
              "      <td>...</td>\n",
              "      <td>100.0</td>\n",
              "      <td>4.839342e+10</td>\n",
              "      <td>100.0</td>\n",
              "      <td>7.022831e+10</td>\n",
              "      <td>1.0</td>\n",
              "      <td>1.0</td>\n",
              "      <td>0.371280</td>\n",
              "      <td>1.0</td>\n",
              "      <td>1.0</td>\n",
              "      <td>1.0</td>\n",
              "    </tr>\n",
              "    <tr>\n",
              "      <th>1</th>\n",
              "      <td>2021-01-01</td>\n",
              "      <td>Z305B2QN</td>\n",
              "      <td>ST4000DM000</td>\n",
              "      <td>4000.0</td>\n",
              "      <td>0</td>\n",
              "      <td>114.0</td>\n",
              "      <td>79306032.0</td>\n",
              "      <td>91.0</td>\n",
              "      <td>0.0</td>\n",
              "      <td>100.0</td>\n",
              "      <td>...</td>\n",
              "      <td>100.0</td>\n",
              "      <td>5.940338e+10</td>\n",
              "      <td>100.0</td>\n",
              "      <td>5.457889e+11</td>\n",
              "      <td>1.0</td>\n",
              "      <td>1.0</td>\n",
              "      <td>0.524317</td>\n",
              "      <td>1.0</td>\n",
              "      <td>1.0</td>\n",
              "      <td>1.0</td>\n",
              "    </tr>\n",
              "    <tr>\n",
              "      <th>2</th>\n",
              "      <td>2021-01-01</td>\n",
              "      <td>ZLW0C6NE</td>\n",
              "      <td>ST12000NM001G</td>\n",
              "      <td>12000.0</td>\n",
              "      <td>0</td>\n",
              "      <td>72.0</td>\n",
              "      <td>17162816.0</td>\n",
              "      <td>98.0</td>\n",
              "      <td>0.0</td>\n",
              "      <td>100.0</td>\n",
              "      <td>...</td>\n",
              "      <td>100.0</td>\n",
              "      <td>4.917863e+10</td>\n",
              "      <td>100.0</td>\n",
              "      <td>8.706921e+10</td>\n",
              "      <td>1.0</td>\n",
              "      <td>1.0</td>\n",
              "      <td>0.509386</td>\n",
              "      <td>1.0</td>\n",
              "      <td>1.0</td>\n",
              "      <td>1.0</td>\n",
              "    </tr>\n",
              "    <tr>\n",
              "      <th>3</th>\n",
              "      <td>2021-01-01</td>\n",
              "      <td>ZJV0XJQ3</td>\n",
              "      <td>ST12000NM0007</td>\n",
              "      <td>12000.0</td>\n",
              "      <td>0</td>\n",
              "      <td>100.0</td>\n",
              "      <td>1102160.0</td>\n",
              "      <td>98.0</td>\n",
              "      <td>0.0</td>\n",
              "      <td>100.0</td>\n",
              "      <td>...</td>\n",
              "      <td>100.0</td>\n",
              "      <td>5.260102e+10</td>\n",
              "      <td>100.0</td>\n",
              "      <td>1.295292e+11</td>\n",
              "      <td>1.0</td>\n",
              "      <td>1.0</td>\n",
              "      <td>0.642052</td>\n",
              "      <td>1.0</td>\n",
              "      <td>1.0</td>\n",
              "      <td>1.0</td>\n",
              "    </tr>\n",
              "    <tr>\n",
              "      <th>4</th>\n",
              "      <td>2021-01-01</td>\n",
              "      <td>ZLW18MKT</td>\n",
              "      <td>ST14000NM001G</td>\n",
              "      <td>14000.0</td>\n",
              "      <td>0</td>\n",
              "      <td>75.0</td>\n",
              "      <td>33233248.0</td>\n",
              "      <td>95.0</td>\n",
              "      <td>0.0</td>\n",
              "      <td>100.0</td>\n",
              "      <td>...</td>\n",
              "      <td>100.0</td>\n",
              "      <td>1.647225e+10</td>\n",
              "      <td>100.0</td>\n",
              "      <td>1.872005e+10</td>\n",
              "      <td>1.0</td>\n",
              "      <td>1.0</td>\n",
              "      <td>0.461944</td>\n",
              "      <td>1.0</td>\n",
              "      <td>1.0</td>\n",
              "      <td>1.0</td>\n",
              "    </tr>\n",
              "  </tbody>\n",
              "</table>\n",
              "<p>5 rows × 55 columns</p>\n",
              "</div>\n",
              "      <button class=\"colab-df-convert\" onclick=\"convertToInteractive('df-7443f5b6-1cab-43f7-b4ef-5164fe5cb4c9')\"\n",
              "              title=\"Convert this dataframe to an interactive table.\"\n",
              "              style=\"display:none;\">\n",
              "        \n",
              "  <svg xmlns=\"http://www.w3.org/2000/svg\" height=\"24px\"viewBox=\"0 0 24 24\"\n",
              "       width=\"24px\">\n",
              "    <path d=\"M0 0h24v24H0V0z\" fill=\"none\"/>\n",
              "    <path d=\"M18.56 5.44l.94 2.06.94-2.06 2.06-.94-2.06-.94-.94-2.06-.94 2.06-2.06.94zm-11 1L8.5 8.5l.94-2.06 2.06-.94-2.06-.94L8.5 2.5l-.94 2.06-2.06.94zm10 10l.94 2.06.94-2.06 2.06-.94-2.06-.94-.94-2.06-.94 2.06-2.06.94z\"/><path d=\"M17.41 7.96l-1.37-1.37c-.4-.4-.92-.59-1.43-.59-.52 0-1.04.2-1.43.59L10.3 9.45l-7.72 7.72c-.78.78-.78 2.05 0 2.83L4 21.41c.39.39.9.59 1.41.59.51 0 1.02-.2 1.41-.59l7.78-7.78 2.81-2.81c.8-.78.8-2.07 0-2.86zM5.41 20L4 18.59l7.72-7.72 1.47 1.35L5.41 20z\"/>\n",
              "  </svg>\n",
              "      </button>\n",
              "      \n",
              "  <style>\n",
              "    .colab-df-container {\n",
              "      display:flex;\n",
              "      flex-wrap:wrap;\n",
              "      gap: 12px;\n",
              "    }\n",
              "\n",
              "    .colab-df-convert {\n",
              "      background-color: #E8F0FE;\n",
              "      border: none;\n",
              "      border-radius: 50%;\n",
              "      cursor: pointer;\n",
              "      display: none;\n",
              "      fill: #1967D2;\n",
              "      height: 32px;\n",
              "      padding: 0 0 0 0;\n",
              "      width: 32px;\n",
              "    }\n",
              "\n",
              "    .colab-df-convert:hover {\n",
              "      background-color: #E2EBFA;\n",
              "      box-shadow: 0px 1px 2px rgba(60, 64, 67, 0.3), 0px 1px 3px 1px rgba(60, 64, 67, 0.15);\n",
              "      fill: #174EA6;\n",
              "    }\n",
              "\n",
              "    [theme=dark] .colab-df-convert {\n",
              "      background-color: #3B4455;\n",
              "      fill: #D2E3FC;\n",
              "    }\n",
              "\n",
              "    [theme=dark] .colab-df-convert:hover {\n",
              "      background-color: #434B5C;\n",
              "      box-shadow: 0px 1px 3px 1px rgba(0, 0, 0, 0.15);\n",
              "      filter: drop-shadow(0px 1px 2px rgba(0, 0, 0, 0.3));\n",
              "      fill: #FFFFFF;\n",
              "    }\n",
              "  </style>\n",
              "\n",
              "      <script>\n",
              "        const buttonEl =\n",
              "          document.querySelector('#df-7443f5b6-1cab-43f7-b4ef-5164fe5cb4c9 button.colab-df-convert');\n",
              "        buttonEl.style.display =\n",
              "          google.colab.kernel.accessAllowed ? 'block' : 'none';\n",
              "\n",
              "        async function convertToInteractive(key) {\n",
              "          const element = document.querySelector('#df-7443f5b6-1cab-43f7-b4ef-5164fe5cb4c9');\n",
              "          const dataTable =\n",
              "            await google.colab.kernel.invokeFunction('convertToInteractive',\n",
              "                                                     [key], {});\n",
              "          if (!dataTable) return;\n",
              "\n",
              "          const docLinkHtml = 'Like what you see? Visit the ' +\n",
              "            '<a target=\"_blank\" href=https://colab.research.google.com/notebooks/data_table.ipynb>data table notebook</a>'\n",
              "            + ' to learn more about interactive tables.';\n",
              "          element.innerHTML = '';\n",
              "          dataTable['output_type'] = 'display_data';\n",
              "          await google.colab.output.renderOutput(dataTable, element);\n",
              "          const docLink = document.createElement('div');\n",
              "          docLink.innerHTML = docLinkHtml;\n",
              "          element.appendChild(docLink);\n",
              "        }\n",
              "      </script>\n",
              "    </div>\n",
              "  </div>\n",
              "  "
            ]
          },
          "metadata": {},
          "execution_count": 40
        }
      ],
      "source": [
        "Data.head()"
      ]
    },
    {
      "cell_type": "code",
      "execution_count": 41,
      "metadata": {
        "id": "3QAlS29T6rlB"
      },
      "outputs": [],
      "source": [
        "# Splitting the Dataset into Train and Val Dataset based on date\n",
        "split_date = '2021-01-03'"
      ]
    },
    {
      "cell_type": "code",
      "execution_count": 42,
      "metadata": {
        "colab": {
          "base_uri": "https://localhost:8080/"
        },
        "id": "DzBEaUAp6_fi",
        "outputId": "e8a500fc-d9e1-4fe6-eea0-2bf492afffbe"
      },
      "outputs": [
        {
          "output_type": "stream",
          "name": "stdout",
          "text": [
            "(496415, 55) (331008, 55)\n"
          ]
        }
      ],
      "source": [
        "Train = Data.loc[Data.date <= split_date]\n",
        "Val = Data.loc[Data.date > split_date]\n",
        "print(Train.shape, Val.shape)"
      ]
    },
    {
      "cell_type": "code",
      "execution_count": 43,
      "metadata": {
        "colab": {
          "base_uri": "https://localhost:8080/"
        },
        "id": "SYGMOpVx6xox",
        "outputId": "76b45ed0-d3a4-44bf-c425-737f34cea498"
      },
      "outputs": [
        {
          "output_type": "stream",
          "name": "stdout",
          "text": [
            "{'ST12000NM0007': 69106, 'TOSHIBA MG07ACA14TA': 63099, 'ST12000NM0008': 57859, 'ST4000DM000': 56775, 'ST8000NM0055': 43219, 'HGST HMS5C4040BLE640': 38229, 'HGST HUH721212ALN604': 32490, 'ST8000DM002': 29310, 'ST12000NM001G': 21386, 'ST14000NM001G': 17961, 'WDC WUH721414ALE6L4': 17686, 'HGST HMS5C4040ALE640': 9241, 'HGST HUH721212ALE600': 7800, 'HGST HUH721212ALE604': 7518, 'ST10000NM0086': 3603, 'HGST HUH728080ALE600': 3238, 'TOSHIBA MG08ACA16TEY': 3042, 'ST6000DX000': 2658, 'Seagate BarraCuda SSD ZA250CM10002': 1674, 'ST500LM012 HN': 1362, 'Seagate BarraCuda 120 SSD ZA250CM10003': 1218, 'TOSHIBA MQ01ABF050M': 1149, 'ST14000NM0138': 1080, 'TOSHIBA MQ01ABF050': 1059, 'ST500LM030': 723, 'WDC WD5000LPVX': 593, 'TOSHIBA MG07ACA14TEY': 480, 'DELLBOSS VD': 348, 'Seagate SSD': 324, 'TOSHIBA MD04ABA400V': 297, 'WDC  WUH721414ALE6L4': 293, 'ST18000NM000J': 180, 'ST16000NM001G': 177, 'WDC WD5000LPCX': 159, 'TOSHIBA MG08ACA16TA': 118, 'ST4000DM005': 114, 'MTFDDAV240TCB': 114, 'ST500LM021': 99, 'HGST HUS726040ALE610': 82, 'ST16000NM005G': 78, 'ST8000DM005': 75, 'HGST HDS5C4040ALE630': 75, 'HGST HUH721010ALE600': 60, 'Seagate BarraCuda SSD ZA500CM10002': 54, 'TOSHIBA HDWF180': 51, 'ST12000NM0117': 30, 'WDC WD5000BPKT': 30, 'ST14000NM0018': 15, 'TOSHIBA HDWE160': 12, 'Seagate BarraCuda SSD ZA2000CM10002': 12, 'SSDSCKKB480G8R': 12, 'ST6000DM001': 12, 'WDC WD60EFRX': 9, 'Hitachi HDS5C4040ALE630': 9, 'MTFDDAV240TDU': 6, 'HGST HMS5C4040BLE641': 3, 'ST1000LM024 HN': 3, 'ST6000DM004': 3, 'ST8000DM004': 3}\n",
            "\n",
            "**************************************************\n",
            "(496415, 2)\n",
            "(331008, 2)\n"
          ]
        }
      ],
      "source": [
        "# Response encoding the 'model' feature.\n",
        "values, TR, FA = res_fit(Train['model'], Train['failure'].values)\n",
        "print(values)\n",
        "print()\n",
        "Train_model = res_transform(Train['model'], TR, FA)\n",
        "Val_model = res_transform(Val['model'], TR, FA)\n",
        "print('*'*50)\n",
        "print(Train_model.shape)\n",
        "print(Val_model.shape)"
      ]
    },
    {
      "cell_type": "code",
      "execution_count": 44,
      "metadata": {
        "colab": {
          "base_uri": "https://localhost:8080/",
          "height": 364
        },
        "id": "ZRn1AKVA9Toz",
        "outputId": "2ea70dea-5623-4fd1-fd67-ab863e3a80ea"
      },
      "outputs": [
        {
          "output_type": "stream",
          "name": "stderr",
          "text": [
            "WARNING:matplotlib.legend:No handles with labels found to put in legend.\n"
          ]
        },
        {
          "output_type": "stream",
          "name": "stdout",
          "text": [
            "0    496406\n",
            "1         9\n",
            "Name: failure, dtype: int64\n"
          ]
        },
        {
          "output_type": "display_data",
          "data": {
            "text/plain": [
              "<Figure size 432x288 with 1 Axes>"
            ],
            "image/png": "[encoded data removed]"
          },
          "metadata": {
            "needs_background": "light"
          }
        }
      ],
      "source": [
        "# Checking the balance of the Train Dataset.\n",
        "total = len(Train)\n",
        "print(Train.failure.value_counts())\n",
        "ax = sns.countplot(x = 'failure', data = Train)\n",
        "for p in ax.patches:\n",
        "  ax.annotate('{}'.format(p.get_height()), (p.get_x()+0.25, p.get_height()+5))\n",
        "ax.yaxis.set_ticks(np.linspace(0, total, 11))\n",
        "plt.legend()\n",
        "plt.title(\"Failure Counts\")\n",
        "plt.show()"
      ]
    },
    {
      "cell_type": "code",
      "execution_count": 45,
      "metadata": {
        "colab": {
          "base_uri": "https://localhost:8080/",
          "height": 364
        },
        "id": "QYjz4-iJ9ftm",
        "outputId": "2a3fa8cb-e40a-4424-9e45-41800075ed7f"
      },
      "outputs": [
        {
          "output_type": "stream",
          "name": "stdout",
          "text": [
            "0    330993\n",
            "1        15\n",
            "Name: failure, dtype: int64\n"
          ]
        },
        {
          "output_type": "stream",
          "name": "stderr",
          "text": [
            "WARNING:matplotlib.legend:No handles with labels found to put in legend.\n"
          ]
        },
        {
          "output_type": "display_data",
          "data": {
            "text/plain": [
              "<Figure size 432x288 with 1 Axes>"
            ],
            "image/png": "[encoded data removed]"
          },
          "metadata": {
            "needs_background": "light"
          }
        }
      ],
      "source": [
        "# Checking the balance of the Val Dataset.\n",
        "total = len(Val)\n",
        "print(Val.failure.value_counts())\n",
        "ax = sns.countplot(x = 'failure', data = Val)\n",
        "for p in ax.patches:\n",
        "  ax.annotate('{}'.format(p.get_height()), (p.get_x()+0.25, p.get_height()+5))\n",
        "ax.yaxis.set_ticks(np.linspace(0, total, 11))\n",
        "plt.legend()\n",
        "plt.title(\"Failure Counts\")\n",
        "plt.show()"
      ]
    },
    {
      "cell_type": "markdown",
      "metadata": {
        "id": "2zZY14OkzpMd"
      },
      "source": [
        "From the above, it is found that Dataset is highly imbalanced with class 1 (i.e. HDD is failure) as minority."
      ]
    },
    {
      "cell_type": "code",
      "execution_count": 46,
      "metadata": {
        "id": "nljjqfZ79xGn"
      },
      "outputs": [],
      "source": [
        "#del Data"
      ]
    },
    {
      "cell_type": "code",
      "execution_count": 47,
      "metadata": {
        "id": "MVAMFSxJdncm"
      },
      "outputs": [],
      "source": [
        "#Train.drop('smart_241_normalized', axis = 1, inplace = True)\n",
        "#Val.drop('smart_241_normalized', axis = 1, inplace = True)"
      ]
    },
    {
      "cell_type": "markdown",
      "metadata": {
        "id": "d3yK3kWBr5Vh"
      },
      "source": [
        "# 6. Upsampling of Minority Class of Train using SMOTE\n",
        "\n",
        "\n",
        "\n"
      ]
    },
    {
      "cell_type": "markdown",
      "metadata": {
        "id": "Udw33iYPKy1A"
      },
      "source": [
        "> Instead of upsampling the minority class by normal sampling (i.e. creating duplicates of same points) SMOTE technique is used as upsampling technique as it upsamples by interpolation."
      ]
    },
    {
      "cell_type": "code",
      "execution_count": 48,
      "metadata": {
        "id": "cfRuGFdV96K9"
      },
      "outputs": [],
      "source": [
        "X_Train_orig = Train.drop(f, axis = 1).values\n",
        "Y_Train_orig = Train.failure.values\n",
        "X_Val_orig = Val.drop(f, axis = 1).values\n",
        "Y_Val_orig = Val.failure.values"
      ]
    },
    {
      "cell_type": "code",
      "execution_count": 49,
      "metadata": {
        "colab": {
          "base_uri": "https://localhost:8080/"
        },
        "id": "AdqDxKPifOVJ",
        "outputId": "932ee441-f516-46dc-d5dc-b3493964461a"
      },
      "outputs": [
        {
          "output_type": "execute_result",
          "data": {
            "text/plain": [
              "((496415, 50), (496415,))"
            ]
          },
          "metadata": {},
          "execution_count": 49
        }
      ],
      "source": [
        "X_Train_orig.shape, Y_Train_orig.shape"
      ]
    },
    {
      "cell_type": "code",
      "execution_count": 50,
      "metadata": {
        "colab": {
          "base_uri": "https://localhost:8080/"
        },
        "id": "v4rPjqq1-eij",
        "outputId": "805c7c15-cd3d-415e-a066-5ba1cb6825c2"
      },
      "outputs": [
        {
          "output_type": "execute_result",
          "data": {
            "text/plain": [
              "((331008, 50), (331008,))"
            ]
          },
          "metadata": {},
          "execution_count": 50
        }
      ],
      "source": [
        "X_Val_orig.shape, Y_Val_orig.shape"
      ]
    },
    {
      "cell_type": "code",
      "execution_count": 51,
      "metadata": {
        "colab": {
          "base_uri": "https://localhost:8080/"
        },
        "id": "oLm712gdq87g",
        "outputId": "0aa68ab1-884f-4575-8e26-3f25d023004e"
      },
      "outputs": [
        {
          "output_type": "execute_result",
          "data": {
            "text/plain": [
              "((496415, 52), (331008, 52))"
            ]
          },
          "metadata": {},
          "execution_count": 51
        }
      ],
      "source": [
        "# Stacking the response encoded array with respective Train and Val dataset.\n",
        "X_Train_orig = np.hstack((X_Train_orig, Train_model))\n",
        "X_Val_orig = np.hstack((X_Val_orig, Val_model))\n",
        "X_Train_orig.shape, X_Val_orig.shape"
      ]
    },
    {
      "cell_type": "code",
      "execution_count": 52,
      "metadata": {
        "id": "UpWqZuTZGbP7"
      },
      "outputs": [],
      "source": [
        "del Train_model\n",
        "del Val_model"
      ]
    },
    {
      "cell_type": "code",
      "execution_count": 53,
      "metadata": {
        "colab": {
          "base_uri": "https://localhost:8080/"
        },
        "id": "kn2-CUWfg7Ha",
        "outputId": "ec476025-a6b1-4f5c-c050-efd0303b9945"
      },
      "outputs": [
        {
          "output_type": "execute_result",
          "data": {
            "text/plain": [
              "(Counter({0: 496406, 1: 9}), Counter({0: 330993, 1: 15}))"
            ]
          },
          "metadata": {},
          "execution_count": 53
        }
      ],
      "source": [
        "Counter(Y_Train_orig), Counter(Y_Val_orig)"
      ]
    },
    {
      "cell_type": "code",
      "execution_count": 54,
      "metadata": {
        "id": "HPbTQ3VZg8aH"
      },
      "outputs": [],
      "source": [
        "# SMOTE sampling\n",
        "# class imblearn.over_sampling.SMOTE(sampling_strategy='auto', random_state=None, k_neighbors=5, m_neighbors='deprecated', out_step='deprecated', kind='deprecated', svm_estimator='deprecated', n_jobs=1, ratio=None)\n",
        "# k_neighbors (default=5) : number of nearest neighbours to used to construct synthetic samples.\n",
        "from imblearn.under_sampling import RandomUnderSampler\n",
        "from imblearn.pipeline import Pipeline\n",
        "\n",
        "under = RandomUnderSampler(sampling_strategy = 0.8)\n",
        "over_smote = SMOTE(n_jobs = -1, k_neighbors = 1, sampling_strategy = 0.5)\n",
        "steps = [('o', over_smote), ('u', under)]\n",
        "pipeline = Pipeline(steps = steps)"
      ]
    },
    {
      "cell_type": "code",
      "execution_count": 55,
      "metadata": {
        "id": "rGmZBD2phFh4"
      },
      "outputs": [],
      "source": [
        "# SMOTE oversampling is applied on Train dataset as per oversampling concepts.\n",
        "# Since Val dataset is also highly imbalanced, regular oversampling is applied(i.e creating duplicates of minority class)\n",
        "\n",
        "x_train_sam, y_train_sam = pipeline.fit_resample(X_Train_orig, Y_Train_orig) # Resampling the Training Data by oversampling the minority class using SMOTE \n",
        "#and undersampling the majority class.\n",
        "x_val, y_val = X_Val_orig, Y_Val_orig"
      ]
    },
    {
      "cell_type": "code",
      "execution_count": 56,
      "metadata": {
        "colab": {
          "base_uri": "https://localhost:8080/"
        },
        "id": "HvaU_DlWhRX1",
        "outputId": "e73a0f1d-d5d6-4b6e-aaa2-5db9f0880a08"
      },
      "outputs": [
        {
          "output_type": "execute_result",
          "data": {
            "text/plain": [
              "((558456, 52), (558456,))"
            ]
          },
          "metadata": {},
          "execution_count": 56
        }
      ],
      "source": [
        "x_train_sam.shape, y_train_sam.shape # Final shape of Train datapoints."
      ]
    },
    {
      "cell_type": "code",
      "execution_count": 57,
      "metadata": {
        "colab": {
          "base_uri": "https://localhost:8080/"
        },
        "id": "zVsgKmeAACO-",
        "outputId": "8a95658a-b536-4867-ec18-8cd878f355a2"
      },
      "outputs": [
        {
          "output_type": "execute_result",
          "data": {
            "text/plain": [
              "((331008, 52), (331008,))"
            ]
          },
          "metadata": {},
          "execution_count": 57
        }
      ],
      "source": [
        "x_val.shape, y_val.shape # Final shape of Val datapoints."
      ]
    },
    {
      "cell_type": "code",
      "execution_count": 58,
      "metadata": {
        "colab": {
          "base_uri": "https://localhost:8080/",
          "height": 0
        },
        "id": "CFmCkWbefdYi",
        "outputId": "3a2bb37a-0644-4a07-b0b7-2bc9d923fcfe"
      },
      "outputs": [
        {
          "output_type": "stream",
          "name": "stdout",
          "text": [
            "Counter({0: 310253, 1: 248203})\n"
          ]
        },
        {
          "output_type": "stream",
          "name": "stderr",
          "text": [
            "/usr/local/lib/python3.8/dist-packages/seaborn/_decorators.py:36: FutureWarning: Pass the following variable as a keyword arg: x. From version 0.12, the only valid positional argument will be `data`, and passing other arguments without an explicit keyword will result in an error or misinterpretation.\n",
            "  warnings.warn(\n"
          ]
        },
        {
          "output_type": "display_data",
          "data": {
            "text/plain": [
              "<Figure size 432x288 with 1 Axes>"
            ],
            "image/png": "[encoded data removed]"
          },
          "metadata": {
            "needs_background": "light"
          }
        }
      ],
      "source": [
        "# Visualization after balancing Train Dataset.\n",
        "total = len(X_Train_orig)\n",
        "print(Counter(y_train_sam))\n",
        "ax = sns.countplot(y_train_sam)\n",
        "for p in ax.patches:\n",
        "  ax.annotate('{}'.format(p.get_height()), (p.get_x()+0.25, p.get_height()+5))\n",
        "\n",
        "ax.yaxis.set_ticks(np.linspace(0, total, 11))\n",
        "plt.title(\"Failure counts after sampling\")\n",
        "plt.show()"
      ]
    },
    {
      "cell_type": "code",
      "execution_count": 59,
      "metadata": {
        "colab": {
          "base_uri": "https://localhost:8080/",
          "height": 0
        },
        "id": "vNkJypyqALV-",
        "outputId": "c7522469-379d-4213-8ea1-39585697ea0d"
      },
      "outputs": [
        {
          "output_type": "stream",
          "name": "stdout",
          "text": [
            "Counter({0: 330993, 1: 15})\n"
          ]
        },
        {
          "output_type": "stream",
          "name": "stderr",
          "text": [
            "/usr/local/lib/python3.8/dist-packages/seaborn/_decorators.py:36: FutureWarning: Pass the following variable as a keyword arg: x. From version 0.12, the only valid positional argument will be `data`, and passing other arguments without an explicit keyword will result in an error or misinterpretation.\n",
            "  warnings.warn(\n"
          ]
        },
        {
          "output_type": "display_data",
          "data": {
            "text/plain": [
              "<Figure size 432x288 with 1 Axes>"
            ],
            "image/png": "[encoded data removed]"
          },
          "metadata": {
            "needs_background": "light"
          }
        }
      ],
      "source": [
        "# Visualization after balancing Val Dataset.\n",
        "total = len(X_Val_orig)\n",
        "print(Counter(y_val))\n",
        "ax = sns.countplot(y_val)\n",
        "for p in ax.patches:\n",
        "  ax.annotate('{}'.format(p.get_height()), (p.get_x()+0.25, p.get_height()+5))\n",
        "\n",
        "ax.yaxis.set_ticks(np.linspace(0, total, 11))\n",
        "plt.title(\"Failure counts after sampling\")\n",
        "plt.show()"
      ]
    },
    {
      "cell_type": "markdown",
      "metadata": {
        "id": "USW9WhReu7eP"
      },
      "source": [
        "From the above it is seen that, after oversampling both classes are balanced."
      ]
    },
    {
      "cell_type": "markdown",
      "metadata": {
        "id": "eT72b-HvAx2T"
      },
      "source": [
        "# 7. Standardization:"
      ]
    },
    {
      "cell_type": "code",
      "execution_count": 60,
      "metadata": {
        "id": "2Lx2yzno3sgG"
      },
      "outputs": [],
      "source": [
        "from sklearn.preprocessing import Normalizer, StandardScaler\n",
        "normalizer = Normalizer()\n",
        "sc = StandardScaler()"
      ]
    },
    {
      "cell_type": "code",
      "execution_count": 61,
      "metadata": {
        "id": "RuQGHLW9BA7w"
      },
      "outputs": [],
      "source": [
        "# Standardizing both Train and Val Dataset.\n",
        "sc.fit(x_train_sam)\n",
        "\n",
        "X_train_standard = sc.transform(x_train_sam)\n",
        "X_val_standard = sc.transform(x_val)"
      ]
    },
    {
      "cell_type": "code",
      "execution_count": 62,
      "metadata": {
        "colab": {
          "base_uri": "https://localhost:8080/"
        },
        "id": "LJUGKcCcYVl_",
        "outputId": "fc50debf-5cc3-457d-ab29-e6fe223c4e31"
      },
      "outputs": [
        {
          "output_type": "stream",
          "name": "stdout",
          "text": [
            "Train 7.622524035894667e-11 0.9999999999998588\n",
            "Val 0.02387235391725918 1.0763113942522515\n",
            "(558456, 52) (331008, 52)\n"
          ]
        }
      ],
      "source": [
        "print(\"Train\", np.mean(X_train_standard), np.std(X_train_standard))\n",
        "print(\"Val\", np.mean(X_val_standard), np.std(X_val_standard))\n",
        "print(X_train_standard.shape, X_val_standard.shape)"
      ]
    },
    {
      "cell_type": "code",
      "execution_count": 63,
      "metadata": {
        "colab": {
          "base_uri": "https://localhost:8080/"
        },
        "id": "cTOUclsgIIAD",
        "outputId": "380b8ebf-e492-4b76-f4e6-ecd3efbfa96d"
      },
      "outputs": [
        {
          "output_type": "execute_result",
          "data": {
            "text/plain": [
              "array([-0.69589316,  1.32129199,  0.33741423, -0.48544696,  0.28960602,\n",
              "       -0.11182781,  0.28838262, -0.33547866,  0.14413911, -0.00164131,\n",
              "        0.81621598, -0.95338313,  0.26236077, -0.01556104,  0.0191657 ,\n",
              "       -0.67539577, -0.65599117, -0.00216395,  1.05787759, -0.13635895,\n",
              "        0.75513387, -0.03772221,  0.74237717,  0.73341341, -0.01748038,\n",
              "       -0.22681965,  0.42917434, -0.35228727, -0.6267583 , -0.01652609,\n",
              "       -0.6886767 , -0.00771139,  0.2641991 , -0.21687766,  0.26328957,\n",
              "       -0.21616814,  0.32589919, -0.01109082,  0.56694587, -0.62301861,\n",
              "        0.67735256,  0.34309324,  0.67736378, -0.42625108,  0.68688752,\n",
              "        0.73343175, -0.27508374,  0.31855888,  0.73471338,  0.66622339,\n",
              "       -0.45191856,  0.45191856])"
            ]
          },
          "metadata": {},
          "execution_count": 63
        }
      ],
      "source": [
        "X_val_standard[0]"
      ]
    },
    {
      "cell_type": "markdown",
      "metadata": {
        "id": "ibqu809NDoqf"
      },
      "source": [
        "# 8. Test Dataset"
      ]
    },
    {
      "cell_type": "code",
      "execution_count": 64,
      "metadata": {
        "colab": {
          "base_uri": "https://localhost:8080/"
        },
        "id": "hy7C32blKL5V",
        "outputId": "1315bb51-4b81-4f28-9345-906ddb1d114f"
      },
      "outputs": [
        {
          "output_type": "execute_result",
          "data": {
            "text/plain": [
              "(330211, 149)"
            ]
          },
          "metadata": {},
          "execution_count": 64
        }
      ],
      "source": [
        "# Creating the Test Dataset to check performance of the model.\n",
        "# Test data is from 2021-01-06 to 2019-01-07\n",
        "\n",
        "Dates = ['07']\n",
        "Test = pd.read_csv(\"/content/drive/My Drive/hdddata/2021/2021-01-06.csv\")\n",
        "for i in Dates:\n",
        "  Test = Test.append(pd.read_csv(\"/content/drive/My Drive/hdddata/2021/2021-01-\" + i + \".csv\"))\n",
        "\n",
        "# Test = pd.read_csv(\"/content/drive/My Drive/hdddata/2021/2021-01-06.csv\")\n",
        "# Test = Test.append(pd.read_csv(\"/content/drive/My Drive/hdddata/2021/2021-01-07\"))\n",
        "\n",
        "Test.reset_index(inplace = True)\n",
        "Test.drop('index', axis = 1, inplace = True)\n",
        "Test.shape"
      ]
    },
    {
      "cell_type": "code",
      "execution_count": 65,
      "metadata": {
        "colab": {
          "base_uri": "https://localhost:8080/"
        },
        "id": "-6w9KFRDoO6m",
        "outputId": "7ff37e1a-e1d3-48c0-881a-8cd000ce87aa"
      },
      "outputs": [
        {
          "output_type": "execute_result",
          "data": {
            "text/plain": [
              "0    330204\n",
              "1         7\n",
              "Name: failure, dtype: int64"
            ]
          },
          "metadata": {},
          "execution_count": 65
        }
      ],
      "source": [
        "Test.failure.value_counts()"
      ]
    },
    {
      "cell_type": "code",
      "execution_count": 66,
      "metadata": {
        "colab": {
          "base_uri": "https://localhost:8080/"
        },
        "id": "2ZAlaYf6KLyS",
        "outputId": "362799fd-6b02-4369-9242-4ff0ebdc2e63"
      },
      "outputs": [
        {
          "output_type": "execute_result",
          "data": {
            "text/plain": [
              "(330211, 49)"
            ]
          },
          "metadata": {},
          "execution_count": 66
        }
      ],
      "source": [
        "# Preprocessing of Test Data.\n",
        "Test.drop(Initial[Null], axis = 1, inplace = True)\n",
        "Test.drop(M_features[index], axis = 1, inplace = True)\n",
        "Test.shape"
      ]
    },
    {
      "cell_type": "code",
      "execution_count": 67,
      "metadata": {
        "colab": {
          "base_uri": "https://localhost:8080/"
        },
        "id": "k7bGNfZprH7P",
        "outputId": "283ebf86-f927-44ed-823c-eedff9c43452"
      },
      "outputs": [
        {
          "output_type": "stream",
          "name": "stdout",
          "text": [
            "(330211, 49)\n",
            "(330155, 49)\n"
          ]
        }
      ],
      "source": [
        "print(Test.shape)\n",
        "Test.drop(np.where(Test['capacity_bytes'] == -1)[0], inplace = True)\n",
        "print(Test.shape)"
      ]
    },
    {
      "cell_type": "code",
      "execution_count": 68,
      "metadata": {
        "colab": {
          "base_uri": "https://localhost:8080/"
        },
        "id": "ds6QtRN0TV6L",
        "outputId": "2ca11c02-ceb1-4c6d-c597-eba16d21cdad"
      },
      "outputs": [
        {
          "output_type": "execute_result",
          "data": {
            "text/plain": [
              "0    330148\n",
              "1         7\n",
              "Name: failure, dtype: int64"
            ]
          },
          "metadata": {},
          "execution_count": 68
        }
      ],
      "source": [
        "Test.failure.value_counts()"
      ]
    },
    {
      "cell_type": "code",
      "execution_count": 69,
      "metadata": {
        "id": "W9w_Ez_nsw2u"
      },
      "outputs": [],
      "source": [
        "Test = Test.fillna(0)"
      ]
    },
    {
      "cell_type": "code",
      "execution_count": 70,
      "metadata": {
        "colab": {
          "base_uri": "https://localhost:8080/"
        },
        "id": "UofI_2KBnmvt",
        "outputId": "f753475e-b2a5-49a1-c3c4-60eec0f5e963"
      },
      "outputs": [
        {
          "output_type": "execute_result",
          "data": {
            "text/plain": [
              "(330155, 55)"
            ]
          },
          "metadata": {},
          "execution_count": 70
        }
      ],
      "source": [
        "for i in cf:\n",
        "   n = re.findall('\\d+',i) \n",
        "   s = 'smart_' + ''.join(n) + '_sig'\n",
        "   Test[s] = Test[i].apply(Sigmoid)\n",
        "Test.shape"
      ]
    },
    {
      "cell_type": "code",
      "execution_count": 71,
      "metadata": {
        "id": "GDmdT8u5nmhL"
      },
      "outputs": [],
      "source": [
        "Test_model = res_transform(Test['model'], TR, FA)"
      ]
    },
    {
      "cell_type": "code",
      "execution_count": 72,
      "metadata": {
        "id": "r5-dHoXaobSS"
      },
      "outputs": [],
      "source": [
        "X_Test_orig = Test.drop(f, axis = 1).values\n",
        "Y_Test_orig = Test.failure.values"
      ]
    },
    {
      "cell_type": "code",
      "execution_count": 73,
      "metadata": {
        "colab": {
          "base_uri": "https://localhost:8080/"
        },
        "id": "-LbqqfhvobI8",
        "outputId": "3ae8c206-52a1-4c11-e7c0-ca16b73a1370"
      },
      "outputs": [
        {
          "output_type": "execute_result",
          "data": {
            "text/plain": [
              "(330155, 52)"
            ]
          },
          "metadata": {},
          "execution_count": 73
        }
      ],
      "source": [
        "X_Test_orig = np.hstack((X_Test_orig, Test_model))\n",
        "X_Test_orig.shape"
      ]
    },
    {
      "cell_type": "code",
      "execution_count": 74,
      "metadata": {
        "id": "7GuNFmP-uRoe"
      },
      "outputs": [],
      "source": [
        "x_test, y_test = X_Test_orig, Y_Test_orig"
      ]
    },
    {
      "cell_type": "code",
      "execution_count": 75,
      "metadata": {
        "colab": {
          "base_uri": "https://localhost:8080/"
        },
        "id": "mN7ts7SWFq8I",
        "outputId": "5cd116e8-de7b-4250-8f45-8f45e389bbbe"
      },
      "outputs": [
        {
          "output_type": "execute_result",
          "data": {
            "text/plain": [
              "(330155, 52)"
            ]
          },
          "metadata": {},
          "execution_count": 75
        }
      ],
      "source": [
        "x_test.shape"
      ]
    },
    {
      "cell_type": "code",
      "execution_count": 76,
      "metadata": {
        "colab": {
          "base_uri": "https://localhost:8080/"
        },
        "id": "dA8Unaz6F7f0",
        "outputId": "a107a25a-beaa-4615-c2ee-be457d6cd151"
      },
      "outputs": [
        {
          "output_type": "execute_result",
          "data": {
            "text/plain": [
              "Counter({0: 330148, 1: 7})"
            ]
          },
          "metadata": {},
          "execution_count": 76
        }
      ],
      "source": [
        "(Counter(y_test))"
      ]
    },
    {
      "cell_type": "code",
      "execution_count": 77,
      "metadata": {
        "colab": {
          "base_uri": "https://localhost:8080/"
        },
        "id": "hcDmxKp4pFXX",
        "outputId": "56faae42-a31c-47e3-823f-f0b529a4f4cc"
      },
      "outputs": [
        {
          "output_type": "execute_result",
          "data": {
            "text/plain": [
              "(330155, 52)"
            ]
          },
          "metadata": {},
          "execution_count": 77
        }
      ],
      "source": [
        "# Standardisation of Test Dataset.\n",
        "X_test_standard = sc.transform(x_test)\n",
        "X_test_standard.shape"
      ]
    },
    {
      "cell_type": "markdown",
      "metadata": {
        "id": "0XaXwc65r-VD"
      },
      "source": [
        "# 9. Modelling"
      ]
    },
    {
      "cell_type": "code",
      "execution_count": 78,
      "metadata": {
        "id": "Hh6aUpAKrgDH"
      },
      "outputs": [],
      "source": [
        "import warnings\n",
        "warnings.filterwarnings(\"ignore\")\n",
        "from random import sample, choice\n",
        "from tqdm import tqdm\n",
        "\n",
        "from sklearn.linear_model import LogisticRegression\n",
        "from sklearn.metrics import roc_auc_score, confusion_matrix, precision_score, recall_score, roc_curve, auc, classification_report, f1_score, precision_recall_curve\n",
        "from scipy.stats import randint as sp_randint, uniform\n",
        "from sklearn.model_selection import RandomizedSearchCV, StratifiedKFold\n",
        "from sklearn.calibration import CalibratedClassifierCV\n",
        "from sklearn.ensemble import StackingClassifier\n",
        "from sklearn.linear_model import SGDClassifier\n",
        "from sklearn.kernel_approximation import Nystroem\n",
        "from sklearn.svm import LinearSVC\n",
        "\n",
        "balance = [{0:1,1:10}, {0:1,1:100}, {0:1,1:1000}, {0:1,1:10000}, {0:10,1:100000}]"
      ]
    },
    {
      "cell_type": "code",
      "execution_count": 79,
      "metadata": {
        "id": "3drECh-zrksQ"
      },
      "outputs": [],
      "source": [
        "# This function is used to plot Cofusion Matrix, Precision Matrix and Recall Matrix.\n",
        "def plot_matrices(Y, Y_Pred):\n",
        "    C = confusion_matrix(Y, Y_Pred) # Confusion Matrix\n",
        "    \n",
        "    A =(((C.T)/(C.sum(axis=1))).T) # Calculating Recall Matrix\n",
        "    \n",
        "    B =(C/C.sum(axis=0)) # Calculating Precision Matrix\n",
        "    plt.figure(figsize=(20,4))\n",
        "    \n",
        "    labels = [0,1]\n",
        "    # representing A in heatmap format\n",
        "    cmap=sns.light_palette(\"blue\")\n",
        "    plt.subplot(1, 3, 1)\n",
        "    sns.heatmap(C, annot=True, cmap=cmap, fmt=\".3f\", xticklabels=labels, yticklabels=labels)\n",
        "    plt.xlabel('Predicted Class')\n",
        "    plt.ylabel('Original Class')\n",
        "    plt.title(\"Confusion matrix\")\n",
        "    \n",
        "    plt.subplot(1, 3, 2)\n",
        "    sns.heatmap(B, annot=True, cmap=cmap, fmt=\".3f\", xticklabels=labels, yticklabels=labels)\n",
        "    plt.xlabel('Predicted Class')\n",
        "    plt.ylabel('Original Class')\n",
        "    plt.title(\"Precision matrix\")\n",
        "    print(\"Sum of columns in precision matrix\",B.sum(axis=0))\n",
        "    \n",
        "    plt.subplot(1, 3, 3)\n",
        "    # representing B in heatmap format\n",
        "    sns.heatmap(A, annot=True, cmap=cmap, fmt=\".3f\", xticklabels=labels, yticklabels=labels)\n",
        "    plt.xlabel('Predicted Class')\n",
        "    plt.ylabel('Original Class')\n",
        "    plt.title(\"Recall matrix\")\n",
        "    print(\"Sum of rows in recall matrix\",A.sum(axis=1))\n",
        "    \n",
        "    plt.show()\n"
      ]
    },
    {
      "cell_type": "code",
      "execution_count": 80,
      "metadata": {
        "id": "fg3-Y1ZOroMB"
      },
      "outputs": [],
      "source": [
        "# This function prints the metrics of the model.\n",
        "def Metrics(model, X, Y, threshold):\n",
        "    y_pred_prob = model.predict_proba(X)[:, 1]\n",
        "    y_pred = model.predict(X)\n",
        "\n",
        "    print(\"The Prescision Score: \", precision_score(Y, predict_with_best_t(y_pred_prob, threshold)))\n",
        "    print(\"The Recall Score: \", recall_score(Y, predict_with_best_t(y_pred_prob, threshold)))\n",
        "    print(\"The ROC Score: \", roc_auc_score(Y, y_pred_prob))\n",
        "    print(\"The F1 Score: \", f1_score(Y, predict_with_best_t(y_pred_prob, threshold)))\n",
        "    print('*'*100)\n",
        "    print(classification_report(Y, predict_with_best_t(y_pred_prob, threshold)))\n",
        "    print('*'*100)\n",
        "    plot_matrices(Y, predict_with_best_t(y_pred_prob, threshold))"
      ]
    },
    {
      "cell_type": "code",
      "execution_count": 81,
      "metadata": {
        "id": "TRwipCbh6sZn"
      },
      "outputs": [],
      "source": [
        "def to_labels(pos_probs, threshold):\n",
        "\treturn (pos_probs >= threshold).astype('int')"
      ]
    },
    {
      "cell_type": "code",
      "execution_count": 82,
      "metadata": {
        "id": "cHwuTub86tb-"
      },
      "outputs": [],
      "source": [
        "def find_best_threshold(threshould, fpr, tpr):\n",
        "    # This function finds the optimal threshold value based on G-Mean metric\n",
        "    # The Geometric Mean or G-Mean is a metric for imbalanced classification that, if optimized, will seek a balance between the sensitivity and the specificity.\n",
        "    # Ref: https://machinelearningmastery.com/threshold-moving-for-imbalanced-classification/\n",
        "    t = threshould[np.argmax(np.sqrt(tpr*(1-fpr)))]\n",
        "    # sqrt(tpr*(1-fpr)) will be maximum if your fpr is very low and tpr is very high\n",
        "    print(\"the maximum value of sqrt(tpr*(1-fpr))\", max(np.sqrt(tpr*(1-fpr))), \"for threshold\", np.round(t,3))\n",
        "    return t\n",
        "\n",
        "def predict_with_best_t(proba, threshould): # This function predicts class labels based on the optimal threshold value.\n",
        "    predictions = []\n",
        "    for i in proba:\n",
        "        if i>=threshould:\n",
        "            predictions.append(1)\n",
        "        else:\n",
        "            predictions.append(0)\n",
        "    return predictions\n",
        "\n",
        "def BEST(trainscores, testscores, TR, Models): # This function is used to get the best model based on the highest test score.\n",
        "  ind = np.argmax(testscores)\n",
        "  test_score = testscores[ind]\n",
        "  train_score = trainscores[ind]\n",
        "  threshold = TR[ind]\n",
        "  best_est = Models[ind]\n",
        "  return test_score, train_score, threshold, best_est"
      ]
    },
    {
      "cell_type": "markdown",
      "metadata": {
        "id": "mvlWAduJbQO8"
      },
      "source": [
        "# 9.2. SVC"
      ]
    },
    {
      "cell_type": "markdown",
      "metadata": {
        "id": "FpQ2t7JCm3lE"
      },
      "source": [
        "\n",
        "\n",
        "> Since Training data is large enough, both libsvm and liblinear solver tends to get hang more time on training the model. Thus, SGD classifier with hinge loss is used as linear SVC.\n",
        "\n",
        "> As libsvm will take more time on training, kernel SVC are modelled as follows:\n",
        "\n",
        "1.   Fitting the kernel trick on Training data using sklearn's Nystroem library and then transforming the train, val and test data. This kernel transformation is same as kernel trick done by sklearn svm.\n",
        "Ref : https://scikit-learn.org/stable/modules/generated/sklearn.kernel_approximation.Nystroem.html#sklearn.kernel_approximation.Nystroem\n",
        "2.   Then fitting the linear SVC(SGD classifier) over the transformed Data.\n",
        "\n",
        "\n",
        "\n",
        "\n",
        "\n"
      ]
    },
    {
      "cell_type": "code",
      "execution_count": 83,
      "metadata": {
        "colab": {
          "base_uri": "https://localhost:8080/"
        },
        "id": "sZTTXX1L4ZKX",
        "outputId": "7e724c41-746a-4a7e-8e12-20b80c59b100"
      },
      "outputs": [
        {
          "output_type": "execute_result",
          "data": {
            "text/plain": [
              "{'alpha': [0.0001,\n",
              "  0.001,\n",
              "  0.01,\n",
              "  0.1,\n",
              "  1,\n",
              "  10.0,\n",
              "  100.0,\n",
              "  1000.0,\n",
              "  10000.0,\n",
              "  100000.0],\n",
              " 'penalty': ['l1', 'l2', 'elasticnet'],\n",
              " 'l1_ratio': [0.06276186835288966,\n",
              "  0.07659584950025111,\n",
              "  0.09548214211026962,\n",
              "  0.16256992763406486,\n",
              "  0.47619449040780903,\n",
              "  0.48944473773141317,\n",
              "  0.5600486994172572,\n",
              "  0.5721063936818512,\n",
              "  0.6182041913508739,\n",
              "  0.7764272998585865],\n",
              " 'class_weight': [{0: 1, 1: 10},\n",
              "  {0: 1, 1: 100},\n",
              "  {0: 1, 1: 1000},\n",
              "  {0: 1, 1: 10000},\n",
              "  {0: 10, 1: 100000}],\n",
              " 'kernel': ['linear', 'poly', 'rbf', 'sigmoid'],\n",
              " 'degree': [1, 2, 2, 3, 5, 5, 5, 6, 6, 6],\n",
              " 'gamma': [0.6424697202628571,\n",
              "  2.7178157582384257,\n",
              "  4.758401330899863,\n",
              "  5.4059082353829835,\n",
              "  6.991722337612606,\n",
              "  7.646020769270157,\n",
              "  7.833109676932503,\n",
              "  8.33426668801756,\n",
              "  8.742085257842781,\n",
              "  9.201323142546716],\n",
              " 'n_components': [30, 60, 90, 120, 150, 180, 210, 240, 270, 300]}"
            ]
          },
          "metadata": {},
          "execution_count": 83
        }
      ],
      "source": [
        "# Hyperparameter tuning of SGD Classifier and Kernel transformation\n",
        "param = {'alpha' : [1e-4, 1e-3, 1e-2, 1e-1, 1, 1e1, 1e2, 1e3, 1e4, 1e5],\n",
        "         'penalty' : ['l1', 'l2', 'elasticnet'],\n",
        "         'l1_ratio' : list(np.sort(np.random.uniform(0, 1, 10))),\n",
        "         'class_weight' : balance,\n",
        "         'kernel' : ['linear', 'poly', 'rbf', 'sigmoid'],\n",
        "         'degree' : list(np.sort(np.random.randint(1, 7, 10))),\n",
        "         'gamma' : list(np.sort(np.random.uniform(0, 10, 10))),\n",
        "         'n_components' : list(30 * np.arange(1, 11))}\n",
        "svc = SGDClassifier(loss='hinge', n_jobs = -1)\n",
        "feature_map = Nystroem(random_state=1) # Initialising the kernel transformer.\n",
        "param"
      ]
    },
    {
      "cell_type": "markdown",
      "metadata": {
        "id": "jzWL5J-bpliL"
      },
      "source": [
        "This custom Random SearchCV is built on the original Training dataset with stratifiedkfold split where at each fold the generated training data is sampled and trained with assigned parameter and evaluated on the generated unsampled val data using f1-score metric."
      ]
    },
    {
      "cell_type": "code",
      "execution_count": 84,
      "metadata": {
        "colab": {
          "base_uri": "https://localhost:8080/"
        },
        "id": "4uga8ExEbQPE",
        "outputId": "820e2d7c-2445-4d53-93f4-590cc76afc02"
      },
      "outputs": [
        {
          "output_type": "stream",
          "name": "stderr",
          "text": [
            "\r  0%|          | 0/10 [00:00<?, ?it/s]"
          ]
        },
        {
          "output_type": "stream",
          "name": "stdout",
          "text": [
            "\n",
            "B Counter({0: 446765, 1: 8})\n",
            "A Counter({0: 279227, 1: 223382})\n",
            "Test 0.0\n",
            "Train 0.9849620247583143\n",
            "\n",
            "B Counter({0: 446765, 1: 8})\n",
            "A Counter({0: 279227, 1: 223382})\n",
            "Test 0.0\n",
            "Train 0.984341365718453\n",
            "\n",
            "B Counter({0: 446765, 1: 8})\n",
            "A Counter({0: 279227, 1: 223382})\n",
            "Test 0.001196888090963495\n",
            "Train 0.9785396068880021\n",
            "\n",
            "B Counter({0: 446765, 1: 8})\n",
            "A Counter({0: 279227, 1: 223382})\n",
            "Test 0.0011883541295306\n",
            "Train 0.979268864719369\n",
            "\n",
            "B Counter({0: 446765, 1: 8})\n",
            "A Counter({0: 279227, 1: 223382})\n",
            "Test 0.000984251968503937\n",
            "Train 0.9752351514595872\n",
            "\n",
            "B Counter({0: 446765, 1: 9})\n",
            "A Counter({0: 279227, 1: 223382})\n",
            "Test 0.0\n",
            "Train 0.9705656803088334\n",
            "\n",
            "B Counter({0: 446766, 1: 8})\n",
            "A Counter({0: 279228, 1: 223383})\n",
            "Test 0.0\n",
            "Train 0.9859273057941714\n",
            "\n",
            "B Counter({0: 446766, 1: 8})\n",
            "A Counter({0: 279228, 1: 223383})\n",
            "Test 0.00103359173126615\n",
            "Train 0.9761749732339896\n",
            "\n",
            "B Counter({0: 446766, 1: 8})\n",
            "A Counter({0: 279228, 1: 223383})\n",
            "Test 0.0\n",
            "Train 0.9779656416363127\n",
            "\n",
            "B Counter({0: 446766, 1: 8})\n",
            "A Counter({0: 279228, 1: 223383})\n",
            "Test 0.0\n",
            "Train 0.993972968463207\n"
          ]
        },
        {
          "output_type": "stream",
          "name": "stderr",
          "text": [
            "\r 10%|█         | 1/10 [00:23<03:31, 23.53s/it]"
          ]
        },
        {
          "output_type": "stream",
          "name": "stdout",
          "text": [
            "\n",
            "\n",
            "B Counter({0: 446765, 1: 8})\n",
            "A Counter({0: 279227, 1: 223382})\n",
            "Test 0.0\n",
            "Train 0.9983976973324006\n",
            "\n",
            "B Counter({0: 446765, 1: 8})\n",
            "A Counter({0: 279227, 1: 223382})\n",
            "Test 0.0\n",
            "Train 0.9976352264175802\n",
            "\n",
            "B Counter({0: 446765, 1: 8})\n",
            "A Counter({0: 279227, 1: 223382})\n",
            "Test 0.0\n",
            "Train 0.9975633343234848\n",
            "\n",
            "B Counter({0: 446765, 1: 8})\n",
            "A Counter({0: 279227, 1: 223382})\n",
            "Test 0.0\n",
            "Train 0.9982832694775148\n",
            "\n",
            "B Counter({0: 446765, 1: 8})\n",
            "A Counter({0: 279227, 1: 223382})\n",
            "Test 0.0\n",
            "Train 0.9894761512008905\n",
            "\n",
            "B Counter({0: 446765, 1: 9})\n",
            "A Counter({0: 279227, 1: 223382})\n",
            "Test 0.0\n",
            "Train 0.9981120566963898\n",
            "\n",
            "B Counter({0: 446766, 1: 8})\n",
            "A Counter({0: 279228, 1: 223383})\n",
            "Test 0.0\n",
            "Train 0.9975483397607394\n",
            "\n",
            "B Counter({0: 446766, 1: 8})\n",
            "A Counter({0: 279228, 1: 223383})\n",
            "Test 0.00558659217877095\n",
            "Train 0.9890591005943703\n",
            "\n",
            "B Counter({0: 446766, 1: 8})\n",
            "A Counter({0: 279228, 1: 223383})\n",
            "Test 0.0\n",
            "Train 0.9975840017148675\n",
            "\n",
            "B Counter({0: 446766, 1: 8})\n",
            "A Counter({0: 279228, 1: 223383})\n",
            "Test 0.0\n",
            "Train 0.9991278211630841\n"
          ]
        },
        {
          "output_type": "stream",
          "name": "stderr",
          "text": [
            "\r 20%|██        | 2/10 [02:20<10:29, 78.71s/it]"
          ]
        },
        {
          "output_type": "stream",
          "name": "stdout",
          "text": [
            "\n",
            "\n",
            "B Counter({0: 446765, 1: 8})\n",
            "A Counter({0: 279227, 1: 223382})\n",
            "Test 0.0\n",
            "Train 0.9993937834845146\n",
            "\n",
            "B Counter({0: 446765, 1: 8})\n",
            "A Counter({0: 279227, 1: 223382})\n",
            "Test 0.0\n",
            "Train 0.9958357589424122\n",
            "\n",
            "B Counter({0: 446765, 1: 8})\n",
            "A Counter({0: 279227, 1: 223382})\n",
            "Test 0.030303030303030307\n",
            "Train 0.9989668404998525\n",
            "\n",
            "B Counter({0: 446765, 1: 8})\n",
            "A Counter({0: 279227, 1: 223382})\n",
            "Test 0.0\n",
            "Train 0.9993803700331737\n",
            "\n",
            "B Counter({0: 446765, 1: 8})\n",
            "A Counter({0: 279227, 1: 223382})\n",
            "Test 0.0\n",
            "Train 0.9982390117011862\n",
            "\n",
            "B Counter({0: 446765, 1: 9})\n",
            "A Counter({0: 279227, 1: 223382})\n",
            "Test 0.0\n",
            "Train 0.9989334609304603\n",
            "\n",
            "B Counter({0: 446766, 1: 8})\n",
            "A Counter({0: 279228, 1: 223383})\n",
            "Test 0.0\n",
            "Train 0.9989889138429328\n",
            "\n",
            "B Counter({0: 446766, 1: 8})\n",
            "A Counter({0: 279228, 1: 223383})\n",
            "Test 0.0\n",
            "Train 0.9991859190839353\n",
            "\n",
            "B Counter({0: 446766, 1: 8})\n",
            "A Counter({0: 279228, 1: 223383})\n",
            "Test 0.0\n",
            "Train 0.998040849516244\n",
            "\n",
            "B Counter({0: 446766, 1: 8})\n",
            "A Counter({0: 279228, 1: 223383})\n",
            "Test 0.0\n"
          ]
        },
        {
          "output_type": "stream",
          "name": "stderr",
          "text": [
            "\r 30%|███       | 3/10 [06:11<17:16, 148.03s/it]"
          ]
        },
        {
          "output_type": "stream",
          "name": "stdout",
          "text": [
            "Train 0.9759122183006715\n",
            "\n",
            "\n",
            "B Counter({0: 446765, 1: 8})\n",
            "A Counter({0: 279227, 1: 223382})\n",
            "Test 0.0\n",
            "Train 0.9944951105986373\n",
            "\n",
            "B Counter({0: 446765, 1: 8})\n",
            "A Counter({0: 279227, 1: 223382})\n",
            "Test 0.0\n",
            "Train 0.9910602181927887\n",
            "\n",
            "B Counter({0: 446765, 1: 8})\n",
            "A Counter({0: 279227, 1: 223382})\n",
            "Test 0.0030211480362537764\n",
            "Train 0.9911613584530603\n",
            "\n",
            "B Counter({0: 446765, 1: 8})\n",
            "A Counter({0: 279227, 1: 223382})\n",
            "Test 0.0027662517289073303\n",
            "Train 0.9911943434361363\n",
            "\n",
            "B Counter({0: 446765, 1: 8})\n",
            "A Counter({0: 279227, 1: 223382})\n",
            "Test 0.0018814675446848542\n",
            "Train 0.985617937775026\n",
            "\n",
            "B Counter({0: 446765, 1: 9})\n",
            "A Counter({0: 279227, 1: 223382})\n",
            "Test 0.0\n",
            "Train 0.9901026084258582\n",
            "\n",
            "B Counter({0: 446766, 1: 8})\n",
            "A Counter({0: 279228, 1: 223383})\n",
            "Test 0.0\n",
            "Train 0.9897977495231196\n",
            "\n",
            "B Counter({0: 446766, 1: 8})\n",
            "A Counter({0: 279228, 1: 223383})\n",
            "Test 0.0\n",
            "Train 0.9890877694019193\n",
            "\n",
            "B Counter({0: 446766, 1: 8})\n",
            "A Counter({0: 279228, 1: 223383})\n",
            "Test 0.0\n",
            "Train 0.9913439413136529\n",
            "\n",
            "B Counter({0: 446766, 1: 8})\n",
            "A Counter({0: 279228, 1: 223383})\n",
            "Test 0.0\n"
          ]
        },
        {
          "output_type": "stream",
          "name": "stderr",
          "text": [
            "\r 40%|████      | 4/10 [08:09<13:38, 136.39s/it]"
          ]
        },
        {
          "output_type": "stream",
          "name": "stdout",
          "text": [
            "Train 0.9976374647182822\n",
            "\n",
            "\n",
            "B Counter({0: 446765, 1: 8})\n",
            "A Counter({0: 279227, 1: 223382})\n",
            "Test 0.0\n",
            "Train 0.8369579807843253\n",
            "\n",
            "B Counter({0: 446765, 1: 8})\n",
            "A Counter({0: 279227, 1: 223382})\n",
            "Test 0.0\n",
            "Train 0.852911187717302\n",
            "\n",
            "B Counter({0: 446765, 1: 8})\n",
            "A Counter({0: 279227, 1: 223382})\n",
            "Test 0.0\n",
            "Train 0.8441058124725268\n",
            "\n",
            "B Counter({0: 446765, 1: 8})\n",
            "A Counter({0: 279227, 1: 223382})\n",
            "Test 0.0\n",
            "Train 0.8177741768756898\n",
            "\n",
            "B Counter({0: 446765, 1: 8})\n",
            "A Counter({0: 279227, 1: 223382})\n",
            "Test 0.00047382136934375743\n",
            "Train 0.7910677065495004\n",
            "\n",
            "B Counter({0: 446765, 1: 9})\n",
            "A Counter({0: 279227, 1: 223382})\n",
            "Test 0.0\n",
            "Train 0.7193608989901747\n",
            "\n",
            "B Counter({0: 446766, 1: 8})\n",
            "A Counter({0: 279228, 1: 223383})\n",
            "Test 0.00023823704586063132\n",
            "Train 0.8569505103088526\n",
            "\n",
            "B Counter({0: 446766, 1: 8})\n",
            "A Counter({0: 279228, 1: 223383})\n",
            "Test 0.0\n",
            "Train 0.8235710754159432\n",
            "\n",
            "B Counter({0: 446766, 1: 8})\n",
            "A Counter({0: 279228, 1: 223383})\n",
            "Test 0.0\n",
            "Train 0.7981950800004248\n",
            "\n",
            "B Counter({0: 446766, 1: 8})\n",
            "A Counter({0: 279228, 1: 223383})\n",
            "Test 0.0\n"
          ]
        },
        {
          "output_type": "stream",
          "name": "stderr",
          "text": [
            "\r 50%|█████     | 5/10 [1:17:39<2:12:34, 1590.95s/it]"
          ]
        },
        {
          "output_type": "stream",
          "name": "stdout",
          "text": [
            "Train 0.7746740960704146\n",
            "\n",
            "\n",
            "B Counter({0: 446765, 1: 8})\n",
            "A Counter({0: 279227, 1: 223382})\n",
            "Test 0.0\n",
            "Train 0.9942118322521781\n",
            "\n",
            "B Counter({0: 446765, 1: 8})\n",
            "A Counter({0: 279227, 1: 223382})\n",
            "Test 0.0\n",
            "Train 0.989315505913563\n",
            "\n",
            "B Counter({0: 446765, 1: 8})\n",
            "A Counter({0: 279227, 1: 223382})\n",
            "Test 0.002375296912114014\n",
            "Train 0.9889475979342877\n",
            "\n",
            "B Counter({0: 446765, 1: 8})\n",
            "A Counter({0: 279227, 1: 223382})\n",
            "Test 0.0024096385542168672\n",
            "Train 0.9901662451989246\n",
            "\n",
            "B Counter({0: 446765, 1: 8})\n",
            "A Counter({0: 279227, 1: 223382})\n",
            "Test 0.0\n",
            "Train 0.9915248771874423\n",
            "\n",
            "B Counter({0: 446765, 1: 9})\n",
            "A Counter({0: 279227, 1: 223382})\n",
            "Test 0.0\n",
            "Train 0.988520904874854\n",
            "\n",
            "B Counter({0: 446766, 1: 8})\n",
            "A Counter({0: 279228, 1: 223383})\n",
            "Test 0.0\n",
            "Train 0.9918853694654557\n",
            "\n",
            "B Counter({0: 446766, 1: 8})\n",
            "A Counter({0: 279228, 1: 223383})\n",
            "Test 0.0\n",
            "Train 0.9894294844963558\n",
            "\n",
            "B Counter({0: 446766, 1: 8})\n",
            "A Counter({0: 279228, 1: 223383})\n",
            "Test 0.0\n",
            "Train 0.9910250836268777\n",
            "\n",
            "B Counter({0: 446766, 1: 8})\n",
            "A Counter({0: 279228, 1: 223383})\n",
            "Test 0.0\n"
          ]
        },
        {
          "output_type": "stream",
          "name": "stderr",
          "text": [
            "\r 60%|██████    | 6/10 [1:20:29<1:13:50, 1107.63s/it]"
          ]
        },
        {
          "output_type": "stream",
          "name": "stdout",
          "text": [
            "Train 0.9984691061144125\n",
            "\n",
            "\n",
            "B Counter({0: 446765, 1: 8})\n",
            "A Counter({0: 279227, 1: 223382})\n",
            "Test 0.0\n",
            "Train 0.9585317696204242\n",
            "\n",
            "B Counter({0: 446765, 1: 8})\n",
            "A Counter({0: 279227, 1: 223382})\n",
            "Test 0.0\n",
            "Train 0.939574185279248\n",
            "\n",
            "B Counter({0: 446765, 1: 8})\n",
            "A Counter({0: 279227, 1: 223382})\n",
            "Test 0.0\n",
            "Train 0.9608570558011987\n",
            "\n",
            "B Counter({0: 446765, 1: 8})\n",
            "A Counter({0: 279227, 1: 223382})\n",
            "Test 0.0\n",
            "Train 0.9519966971926138\n",
            "\n",
            "B Counter({0: 446765, 1: 8})\n",
            "A Counter({0: 279227, 1: 223382})\n",
            "Test 0.0\n",
            "Train 0.9692076969221541\n",
            "\n",
            "B Counter({0: 446765, 1: 9})\n",
            "A Counter({0: 279227, 1: 223382})\n",
            "Test 0.0\n",
            "Train 0.933027963326941\n",
            "\n",
            "B Counter({0: 446766, 1: 8})\n",
            "A Counter({0: 279228, 1: 223383})\n",
            "Test 0.0\n",
            "Train 0.9427186005400379\n",
            "\n",
            "B Counter({0: 446766, 1: 8})\n",
            "A Counter({0: 279228, 1: 223383})\n",
            "Test 0.0\n",
            "Train 0.9448368865680877\n",
            "\n",
            "B Counter({0: 446766, 1: 8})\n",
            "A Counter({0: 279228, 1: 223383})\n",
            "Test 0.0\n",
            "Train 0.9832872123507137\n",
            "\n",
            "B Counter({0: 446766, 1: 8})\n",
            "A Counter({0: 279228, 1: 223383})\n",
            "Test 0.0\n"
          ]
        },
        {
          "output_type": "stream",
          "name": "stderr",
          "text": [
            "\r 70%|███████   | 7/10 [1:22:14<38:59, 779.77s/it]   "
          ]
        },
        {
          "output_type": "stream",
          "name": "stdout",
          "text": [
            "Train 0.943288764424976\n",
            "\n",
            "\n",
            "B Counter({0: 446765, 1: 8})\n",
            "A Counter({0: 279227, 1: 223382})\n",
            "Test 0.0\n",
            "Train 0.6686685494947892\n",
            "\n",
            "B Counter({0: 446765, 1: 8})\n",
            "A Counter({0: 279227, 1: 223382})\n",
            "Test 0.0\n",
            "Train 0.7283236712859529\n",
            "\n",
            "B Counter({0: 446765, 1: 8})\n",
            "A Counter({0: 279227, 1: 223382})\n",
            "Test 0.0\n",
            "Train 0.989033569338664\n",
            "\n",
            "B Counter({0: 446765, 1: 8})\n",
            "A Counter({0: 279227, 1: 223382})\n",
            "Test 0.0\n",
            "Train 0.42772443126893084\n",
            "\n",
            "B Counter({0: 446765, 1: 8})\n",
            "A Counter({0: 279227, 1: 223382})\n",
            "Test 7.779376871912559e-05\n",
            "Train 0.4552942605883117\n",
            "\n",
            "B Counter({0: 446765, 1: 9})\n",
            "A Counter({0: 279227, 1: 223382})\n",
            "Test 0.0\n",
            "Train 0.44056176517046514\n",
            "\n",
            "B Counter({0: 446766, 1: 8})\n",
            "A Counter({0: 279228, 1: 223383})\n",
            "Test 0.0\n",
            "Train 0.9893084296336112\n",
            "\n",
            "B Counter({0: 446766, 1: 8})\n",
            "A Counter({0: 279228, 1: 223383})\n",
            "Test 0.0\n",
            "Train 0.4771303688551701\n",
            "\n",
            "B Counter({0: 446766, 1: 8})\n",
            "A Counter({0: 279228, 1: 223383})\n",
            "Test 0.0\n",
            "Train 0.8767139187050664\n",
            "\n",
            "B Counter({0: 446766, 1: 8})\n",
            "A Counter({0: 279228, 1: 223383})\n",
            "Test 0.0\n"
          ]
        },
        {
          "output_type": "stream",
          "name": "stderr",
          "text": [
            "\r 80%|████████  | 8/10 [2:43:00<1:09:08, 2074.38s/it]"
          ]
        },
        {
          "output_type": "stream",
          "name": "stdout",
          "text": [
            "Train 0.9969136354690379\n",
            "\n",
            "\n",
            "B Counter({0: 446765, 1: 8})\n",
            "A Counter({0: 279227, 1: 223382})\n",
            "Test 0.0003491620111731843\n",
            "Train 0.8559251577836977\n",
            "\n",
            "B Counter({0: 446765, 1: 8})\n",
            "A Counter({0: 279227, 1: 223382})\n",
            "Test 0.00031113876789047915\n",
            "Train 0.8384004873067344\n",
            "\n",
            "B Counter({0: 446765, 1: 8})\n",
            "A Counter({0: 279227, 1: 223382})\n",
            "Test 0.0\n",
            "Train 0.8260661278732446\n",
            "\n",
            "B Counter({0: 446765, 1: 8})\n",
            "A Counter({0: 279227, 1: 223382})\n",
            "Test 0.0\n",
            "Train 0.8073073600370846\n",
            "\n",
            "B Counter({0: 446765, 1: 8})\n",
            "A Counter({0: 279227, 1: 223382})\n",
            "Test 0.0\n",
            "Train 0.839817720269365\n",
            "\n",
            "B Counter({0: 446765, 1: 9})\n",
            "A Counter({0: 279227, 1: 223382})\n",
            "Test 0.0\n",
            "Train 0.801168522914004\n",
            "\n",
            "B Counter({0: 446766, 1: 8})\n",
            "A Counter({0: 279228, 1: 223383})\n",
            "Test 0.0\n",
            "Train 0.7921636493147017\n",
            "\n",
            "B Counter({0: 446766, 1: 8})\n",
            "A Counter({0: 279228, 1: 223383})\n",
            "Test 0.0003043213633597078\n",
            "Train 0.8336412020088712\n",
            "\n",
            "B Counter({0: 446766, 1: 8})\n",
            "A Counter({0: 279228, 1: 223383})\n",
            "Test 0.0\n",
            "Train 0.7934546481634552\n",
            "\n",
            "B Counter({0: 446766, 1: 8})\n",
            "A Counter({0: 279228, 1: 223383})\n",
            "Test 0.0\n"
          ]
        },
        {
          "output_type": "stream",
          "name": "stderr",
          "text": [
            "\r 90%|█████████ | 9/10 [3:28:46<38:04, 2284.24s/it]  "
          ]
        },
        {
          "output_type": "stream",
          "name": "stdout",
          "text": [
            "Train 0.8885489670565475\n",
            "\n",
            "\n",
            "B Counter({0: 446765, 1: 8})\n",
            "A Counter({0: 279227, 1: 223382})\n",
            "Test 0.0\n",
            "Train 0.8415103552287232\n",
            "\n",
            "B Counter({0: 446765, 1: 8})\n",
            "A Counter({0: 279227, 1: 223382})\n",
            "Test 0.0\n",
            "Train 0.8508126113185227\n",
            "\n",
            "B Counter({0: 446765, 1: 8})\n",
            "A Counter({0: 279227, 1: 223382})\n",
            "Test 0.0\n",
            "Train 0.8167631439608043\n",
            "\n",
            "B Counter({0: 446765, 1: 8})\n",
            "A Counter({0: 279227, 1: 223382})\n",
            "Test 0.0\n",
            "Train 0.8706843900039021\n",
            "\n",
            "B Counter({0: 446765, 1: 8})\n",
            "A Counter({0: 279227, 1: 223382})\n",
            "Test 0.0\n",
            "Train 0.8222022829235051\n",
            "\n",
            "B Counter({0: 446765, 1: 9})\n",
            "A Counter({0: 279227, 1: 223382})\n",
            "Test 0.0\n",
            "Train 0.857355676399453\n",
            "\n",
            "B Counter({0: 446766, 1: 8})\n",
            "A Counter({0: 279228, 1: 223383})\n",
            "Test 0.0002605523710265763\n",
            "Train 0.8426577763656978\n",
            "\n",
            "B Counter({0: 446766, 1: 8})\n",
            "A Counter({0: 279228, 1: 223383})\n",
            "Test 0.0\n",
            "Train 0.8556715379262353\n",
            "\n",
            "B Counter({0: 446766, 1: 8})\n",
            "A Counter({0: 279228, 1: 223383})\n",
            "Test 0.0\n",
            "Train 0.7527706284452026\n",
            "\n",
            "B Counter({0: 446766, 1: 8})\n",
            "A Counter({0: 279228, 1: 223383})\n",
            "Test 0.0\n"
          ]
        },
        {
          "output_type": "stream",
          "name": "stderr",
          "text": [
            "100%|██████████| 10/10 [3:39:19<00:00, 1315.96s/it]"
          ]
        },
        {
          "output_type": "stream",
          "name": "stdout",
          "text": [
            "Train 0.842544883274394\n",
            "\n"
          ]
        },
        {
          "output_type": "stream",
          "name": "stderr",
          "text": [
            "\n"
          ]
        }
      ],
      "source": [
        "# Creating custom RandomSearchCV for hyperparameter tuning.\n",
        "# In this Cross-Validation is done by StratifiedKFold\n",
        "trainscores = [] # This list is to store the trainscores\n",
        "testscores  = [] # This list is to store the testscores\n",
        "Models = [] # This list is to store the models on each iter\n",
        "TR = []\n",
        "F = [] # This list is to store the kernel map on each iter\n",
        "\n",
        "# This loop is to use ten random values for each hyperparameter\n",
        "for iter in tqdm(range(0, 10)):\n",
        "  #print(iter)\n",
        "  Thresholds = []\n",
        "  trainscores_folds = []\n",
        "  testscores_folds  = []\n",
        "  svc = SGDClassifier(loss='hinge', n_jobs = -1)\n",
        "  feature_map = Nystroem(random_state=1)\n",
        "  for key, value in param.items(): # Assigns the value for each hyperparameter\n",
        "    if isinstance(value, list):\n",
        "      if (key == 'alpha'):\n",
        "        svc.C = value[iter]\n",
        "      if (key == 'penalty'):\n",
        "        svc.penalty = choice(value)\n",
        "      if (key == 'l1_ratio'):\n",
        "        svc.l1_ratio = value[iter]\n",
        "      if (key == 'kernel'):\n",
        "        feature_map.kernel = choice(value)\n",
        "      if (key == 'degree'):\n",
        "        feature_map.degree = value[iter]\n",
        "      if (key == 'gamma'):\n",
        "        feature_map.gamma = value[iter]\n",
        "      if (key == 'n_components'):\n",
        "        feature_map.n_components = value[iter]\n",
        "  Models.append(svc)\n",
        "  F.append(feature_map)\n",
        "  ss = StratifiedKFold(n_splits = 10, shuffle = True, random_state = 1) # Splitting the training data into train and val data using\n",
        "  # using stratifiedKFold (10-folds) to ensure that each fold consists of both classes.\n",
        "  # Running the loop for each fold\n",
        "  for train, test in ss.split(X_Train_orig, Y_Train_orig): # This loop uses original training dataset.\n",
        "      print()\n",
        "      X_train = np.zeros(len(train))\n",
        "      Y_train = np.zeros(len(train))\n",
        "      X_test = np.zeros(len(test))\n",
        "      Y_test = np.zeros(len(test))\n",
        "\n",
        "      # selecting the data points based on the train_indices and test_indices\n",
        "      X_train = X_Train_orig[train]\n",
        "      Y_train = Y_Train_orig[train]\n",
        "      X_test  = X_Train_orig[test]\n",
        "      Y_test  = Y_Train_orig[test]\n",
        "      print(\"B\", Counter(Y_train)) # Count of training classes before sampling\n",
        "\n",
        "      X_train, Y_train = pipeline.fit_resample(X_train, Y_train) # Sampling the training data by the above defined pipeline\n",
        "      print(\"A\", Counter(Y_train)) # Count of training classes after sampling\n",
        "      # Standardizing the above train and val data.\n",
        "      sc = StandardScaler()\n",
        "      sc.fit(X_train)\n",
        "      X_train = sc.transform(X_train)\n",
        "      X_test = sc.transform(X_test)\n",
        "      # This code snippet applies the kernel transform on Train and Val data\n",
        "      X_train = feature_map.fit_transform(X_train)\n",
        "      X_test = feature_map.transform(X_test)\n",
        "      # This transformed data is used for the model.\n",
        "\n",
        "      svc.fit(X_train, Y_train)\n",
        "\n",
        "      Y_predicted_test = svc.predict(X_test)\n",
        "      print('Test', f1_score(Y_test, Y_predicted_test))\n",
        "      testscores_folds.append(f1_score(Y_test, Y_predicted_test))\n",
        "\n",
        "      Y_predicted_train = svc.predict(X_train)\n",
        "      print('Train', f1_score(Y_train, Y_predicted_train))\n",
        "      trainscores_folds.append(f1_score(Y_train, Y_predicted_train))\n",
        "\n",
        "  trainscores.append(np.mean(np.array(trainscores_folds))) # Taking the mean of trainscores obtained from each fold\n",
        "  testscores.append(np.mean(np.array(testscores_folds))) # Taking the mean of testscores obtained from each fold\n",
        "  print() "
      ]
    },
    {
      "cell_type": "code",
      "execution_count": 85,
      "metadata": {
        "id": "vovQo8oQbQPG",
        "outputId": "673581f1-4d45-4004-a51c-c3016b7c0985",
        "colab": {
          "base_uri": "https://localhost:8080/"
        }
      },
      "outputs": [
        {
          "output_type": "stream",
          "name": "stdout",
          "text": [
            "[0.980695358298024, 0.9962786998681322, 0.9962877126335382, 0.9911498501838482, 0.8115568525185154, 0.9913496007064353, 0.9527326832026395, 0.704967259981, 0.8276493842727707, 0.835297328584644]\n",
            "[0.00044030859202641816, 0.000558659217877095, 0.0030303030303030307, 0.000766886730984596, 7.120584152043888e-05, 0.00047849354663308805, 0.0, 7.77937687191256e-06, 9.646221424233713e-05, 2.605523710265763e-05]\n"
          ]
        }
      ],
      "source": [
        "print(trainscores)\n",
        "print(testscores)"
      ]
    },
    {
      "cell_type": "code",
      "execution_count": 86,
      "metadata": {
        "id": "Nf62pCpcbQPK",
        "outputId": "25fda986-9ca0-4d96-febf-523aea9f2a6d",
        "colab": {
          "base_uri": "https://localhost:8080/",
          "height": 265
        }
      },
      "outputs": [
        {
          "output_type": "display_data",
          "data": {
            "text/plain": [
              "<Figure size 432x288 with 1 Axes>"
            ],
            "image/png": "[encoded data removed]"
          },
          "metadata": {
            "needs_background": "light"
          }
        }
      ],
      "source": [
        "plt.plot(trainscores,label = \"Train\")\n",
        "plt.plot(testscores, label = 'Val')\n",
        "plt.legend()\n",
        "plt.grid(True)\n",
        "plt.show()"
      ]
    },
    {
      "cell_type": "markdown",
      "metadata": {
        "id": "iA5SkXN96N9a"
      },
      "source": [
        "This plot shows the trainscores and testscores on each iteration"
      ]
    },
    {
      "cell_type": "code",
      "execution_count": 87,
      "metadata": {
        "id": "8nE_KHErQZP5",
        "outputId": "71c01d56-27cf-4824-d747-2043b6506ff2",
        "colab": {
          "base_uri": "https://localhost:8080/"
        }
      },
      "outputs": [
        {
          "output_type": "execute_result",
          "data": {
            "text/plain": [
              "[0.0, 0.0, 0.0, 0.0, 0.0, 0.0, 0.0, 0.0, 0.0, 0.0]"
            ]
          },
          "metadata": {},
          "execution_count": 87
        }
      ],
      "source": [
        "TR = list(np.zeros(10))\n",
        "TR"
      ]
    },
    {
      "cell_type": "code",
      "execution_count": 88,
      "metadata": {
        "id": "dfzyCXBMbQPM",
        "colab": {
          "base_uri": "https://localhost:8080/"
        },
        "outputId": "e2df2395-10c5-4756-ca3a-9e0536eaeb28"
      },
      "outputs": [
        {
          "output_type": "stream",
          "name": "stdout",
          "text": [
            "0.0030303030303030307 0.9962877126335382\n"
          ]
        }
      ],
      "source": [
        "# Choosing the best model based on highest test score.\n",
        "test_score, train_score, threshold, est = BEST(trainscores, testscores, TR, Models)\n",
        "print(test_score, train_score)"
      ]
    },
    {
      "cell_type": "code",
      "execution_count": 97,
      "metadata": {
        "id": "SYIB5Bp4QosK",
        "outputId": "151153ee-2d9d-4763-ceb4-7643dc8e9d3a",
        "colab": {
          "base_uri": "https://localhost:8080/"
        }
      },
      "outputs": [
        {
          "output_type": "execute_result",
          "data": {
            "text/plain": [
              "Nystroem(degree=2, gamma=4.758401330899863, kernel='poly', n_components=90,\n",
              "         random_state=1)"
            ]
          },
          "metadata": {},
          "execution_count": 97
        }
      ],
      "source": [
        "# Getting the best kernel map based on highest test score.\n",
        "f_map = F[testscores.index(0.0030303030303030307)]\n",
        "f_map"
      ]
    },
    {
      "cell_type": "code",
      "execution_count": 98,
      "metadata": {
        "outputId": "1786c791-e0a3-44eb-f423-64f14f04bfc6",
        "colab": {
          "base_uri": "https://localhost:8080/"
        },
        "id": "SL5laML_3UZv"
      },
      "outputs": [
        {
          "output_type": "stream",
          "name": "stdout",
          "text": [
            "0.0030303030303030307 0.9962877126335382\n"
          ]
        }
      ],
      "source": [
        "# Choosing the best model based on highest test score.\n",
        "test_score, train_score, threshold, est = BEST(trainscores, testscores, TR, Models)\n",
        "print(test_score, train_score)"
      ]
    },
    {
      "cell_type": "code",
      "execution_count": 99,
      "metadata": {
        "id": "-Mbo-PfdbQPO",
        "outputId": "eb48ab9d-f795-4baf-da49-84ba3714850d",
        "colab": {
          "base_uri": "https://localhost:8080/"
        }
      },
      "outputs": [
        {
          "output_type": "execute_result",
          "data": {
            "text/plain": [
              "SGDClassifier(l1_ratio=0.09548214211026962, n_jobs=-1, penalty='elasticnet')"
            ]
          },
          "metadata": {},
          "execution_count": 99
        }
      ],
      "source": [
        "# Using the best model\n",
        "svc = est\n",
        "svc"
      ]
    },
    {
      "cell_type": "code",
      "execution_count": 100,
      "metadata": {
        "id": "9kotTgnZRmgi"
      },
      "outputs": [],
      "source": [
        "# Applying the best kernel transform on Train, Original Val and Original Test Datset.\n",
        "X_TR = f_map.fit_transform(X_train_standard)\n",
        "X_VA = f_map.transform(X_val_standard)\n",
        "X_TE = f_map.transform(X_test_standard)"
      ]
    },
    {
      "cell_type": "code",
      "execution_count": 101,
      "metadata": {
        "id": "yYkGjsL_bQPR",
        "outputId": "7f908834-ea15-44d8-948e-529b1286452a",
        "colab": {
          "base_uri": "https://localhost:8080/"
        }
      },
      "outputs": [
        {
          "output_type": "execute_result",
          "data": {
            "text/plain": [
              "CalibratedClassifierCV(base_estimator=SGDClassifier(l1_ratio=0.09548214211026962,\n",
              "                                                    n_jobs=-1,\n",
              "                                                    penalty='elasticnet'),\n",
              "                       method='isotonic')"
            ]
          },
          "metadata": {},
          "execution_count": 101
        }
      ],
      "source": [
        "# Fitting the calibrated classifier over the best model\n",
        "sig_clf = CalibratedClassifierCV(svc, method=\"isotonic\")\n",
        "sig_clf.fit(X_TR, y_train_sam)"
      ]
    },
    {
      "cell_type": "code",
      "execution_count": 102,
      "metadata": {
        "id": "zhDiwKf4bQPT",
        "outputId": "a62b9f34-b99b-43cf-9eb4-25a29082faae",
        "colab": {
          "base_uri": "https://localhost:8080/"
        }
      },
      "outputs": [
        {
          "output_type": "stream",
          "name": "stdout",
          "text": [
            "the maximum value of sqrt(tpr*(1-fpr)) 0.0 for threshold 2.0\n"
          ]
        }
      ],
      "source": [
        "# Threshold Tuning based on the original Val Dataset.\n",
        "Y_predicted_val = sig_clf.predict_proba(X_VA)[:, 1]\n",
        "\n",
        "Y_predicted_train = sig_clf.predict_proba(X_TR)[:, 1]\n",
        "\n",
        "train_fpr, train_tpr, tr_thresholds = roc_curve(y_train_sam, Y_predicted_train)\n",
        "val_fpr, val_tpr, val_thresholds = roc_curve(y_val, Y_predicted_val)\n",
        "thresholds = np.linspace(0.0, 1.0, num=len(val_thresholds))\n",
        "best_t = find_best_threshold(val_thresholds, val_fpr, val_tpr)"
      ]
    },
    {
      "cell_type": "code",
      "execution_count": 103,
      "metadata": {
        "id": "-3VsOJ_WbQPW",
        "outputId": "1bcbe42d-9650-486b-fa45-164ace29f9c6",
        "colab": {
          "base_uri": "https://localhost:8080/",
          "height": 1000
        }
      },
      "outputs": [
        {
          "output_type": "stream",
          "name": "stdout",
          "text": [
            "The Prescision Score:  0.0\n",
            "The Recall Score:  0.0\n",
            "The ROC Score:  0.9997230621632278\n",
            "The F1 Score:  0.0\n",
            "****************************************************************************************************\n",
            "              precision    recall  f1-score   support\n",
            "\n",
            "           0       0.56      1.00      0.71    310253\n",
            "           1       0.00      0.00      0.00    248203\n",
            "\n",
            "    accuracy                           0.56    558456\n",
            "   macro avg       0.28      0.50      0.36    558456\n",
            "weighted avg       0.31      0.56      0.40    558456\n",
            "\n",
            "****************************************************************************************************\n",
            "Sum of columns in precision matrix [ 1. nan]\n",
            "Sum of rows in recall matrix [1. 1.]\n"
          ]
        },
        {
          "output_type": "display_data",
          "data": {
            "text/plain": [
              "<Figure size 1440x288 with 6 Axes>"
            ],
            "image/png": "[encoded data removed]"
          },
          "metadata": {
            "needs_background": "light"
          }
        },
        {
          "output_type": "stream",
          "name": "stdout",
          "text": [
            "====================================================================================================\n",
            "====================================================================================================\n",
            "The Prescision Score:  0.0\n",
            "The Recall Score:  0.0\n",
            "The ROC Score:  0.4987235379600173\n",
            "The F1 Score:  0.0\n",
            "****************************************************************************************************\n",
            "              precision    recall  f1-score   support\n",
            "\n",
            "           0       1.00      1.00      1.00    330993\n",
            "           1       0.00      0.00      0.00        15\n",
            "\n",
            "    accuracy                           1.00    331008\n",
            "   macro avg       0.50      0.50      0.50    331008\n",
            "weighted avg       1.00      1.00      1.00    331008\n",
            "\n",
            "****************************************************************************************************\n",
            "Sum of columns in precision matrix [ 1. nan]\n",
            "Sum of rows in recall matrix [1. 1.]\n"
          ]
        },
        {
          "output_type": "display_data",
          "data": {
            "text/plain": [
              "<Figure size 1440x288 with 6 Axes>"
            ],
            "image/png": "[encoded data removed]"
          },
          "metadata": {
            "needs_background": "light"
          }
        }
      ],
      "source": [
        "# Getting the metrics based on the optimal threshold value\n",
        "Metrics(sig_clf, X_TR, y_train_sam, best_t)\n",
        "print('='*100)\n",
        "print('='*100)\n",
        "Metrics(sig_clf, X_VA, y_val, best_t)"
      ]
    },
    {
      "cell_type": "code",
      "execution_count": 104,
      "metadata": {
        "id": "ZP6EuoLUbQPZ",
        "outputId": "6fc80e1a-bb00-4c75-830f-62593cafb101",
        "colab": {
          "base_uri": "https://localhost:8080/",
          "height": 590
        }
      },
      "outputs": [
        {
          "output_type": "stream",
          "name": "stdout",
          "text": [
            "The Prescision Score:  0.0\n",
            "The Recall Score:  0.0\n",
            "The ROC Score:  0.4986763512121836\n",
            "The F1 Score:  0.0\n",
            "****************************************************************************************************\n",
            "              precision    recall  f1-score   support\n",
            "\n",
            "           0       1.00      1.00      1.00    330148\n",
            "           1       0.00      0.00      0.00         7\n",
            "\n",
            "    accuracy                           1.00    330155\n",
            "   macro avg       0.50      0.50      0.50    330155\n",
            "weighted avg       1.00      1.00      1.00    330155\n",
            "\n",
            "****************************************************************************************************\n",
            "Sum of columns in precision matrix [ 1. nan]\n",
            "Sum of rows in recall matrix [1. 1.]\n"
          ]
        },
        {
          "output_type": "display_data",
          "data": {
            "text/plain": [
              "<Figure size 1440x288 with 6 Axes>"
            ],
            "image/png": "[encoded data removed]"
          },
          "metadata": {
            "needs_background": "light"
          }
        }
      ],
      "source": [
        "Metrics(sig_clf, X_TE, y_test, best_t)"
      ]
    },
    {
      "cell_type": "code",
      "execution_count": 105,
      "metadata": {
        "id": "6UpWwwjvbQPd",
        "outputId": "52c47990-2406-4170-e476-839daa1569ff",
        "colab": {
          "base_uri": "https://localhost:8080/",
          "height": 295
        }
      },
      "outputs": [
        {
          "output_type": "display_data",
          "data": {
            "text/plain": [
              "<Figure size 432x288 with 1 Axes>"
            ],
            "image/png": "[encoded data removed]"
          },
          "metadata": {
            "needs_background": "light"
          }
        }
      ],
      "source": [
        "# Plotting ROC curve for Train, Val and Test.\n",
        "Y_predicted_test = sig_clf.predict_proba(X_TE)[:, 1]\n",
        "\n",
        "test_fpr, test_tpr, te_thresholds = roc_curve(y_test, Y_predicted_test)\n",
        "\n",
        "plt.plot(train_fpr, train_tpr, label=\"train AUC =\"+str(auc(train_fpr, train_tpr)))\n",
        "plt.plot(test_fpr, test_tpr, label=\"test AUC =\"+str(auc(test_fpr, test_tpr)))\n",
        "plt.plot(val_fpr, val_tpr, label=\"val AUC =\"+str(auc(val_fpr, val_tpr)))\n",
        "plt.legend()\n",
        "plt.xlabel(\"FPR\")\n",
        "plt.ylabel(\"TPR\")\n",
        "plt.title(\"ERROR PLOTS\")\n",
        "plt.grid()\n",
        "plt.show()"
      ]
    },
    {
      "cell_type": "markdown",
      "metadata": {
        "id": "50TcDE-K656z"
      },
      "source": [
        "This plot shows the roc_curve of train, val and test dataset."
      ]
    },
    {
      "cell_type": "markdown",
      "metadata": {
        "id": "pT87em2oCZSC"
      },
      "source": [
        "|  Data| Precision  | Recall | ROC-Score | F1-Score |\n",
        "|------------|--------|----------------------|----------||\n",
        "|      Train |  0.7723|           0.9999 |  0.9975 | 0.8714|\n",
        "|    Val   |  9.629458439257376e-05    | 1.0       |   0.9357 |0.00019|\n",
        "|    Test  |   9.681666795755558e-05   |    0.8333  |   0.9203 |0.00019|"
      ]
    }
  ],
  "metadata": {
    "accelerator": "TPU",
    "colab": {
      "collapsed_sections": [
        "d3yK3kWBr5Vh",
        "eT72b-HvAx2T",
        "mvlWAduJbQO8",
        "BDFbUjuuYUwN"
      ],
      "provenance": [],
      "include_colab_link": true
    },
    "gpuClass": "standard",
    "kernelspec": {
      "display_name": "Python 3",
      "language": "python",
      "name": "python3"
    },
    "language_info": {
      "codemirror_mode": {
        "name": "ipython",
        "version": 3
      },
      "file_extension": ".py",
      "mimetype": "text/x-python",
      "name": "python",
      "nbconvert_exporter": "python",
      "pygments_lexer": "ipython3",
      "version": "3.7.6"
    }
  },
  "nbformat": 4,
  "nbformat_minor": 0
}