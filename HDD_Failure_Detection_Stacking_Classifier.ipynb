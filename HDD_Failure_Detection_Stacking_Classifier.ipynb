{
  "cells": [
    {
      "cell_type": "markdown",
      "metadata": {
        "id": "view-in-github",
        "colab_type": "text"
      },
      "source": [
        "<a href=\"https://colab.research.google.com/github/matyi101/MP2-Code/blob/main/HDD_Failure_Detection_Stacking_Classifier.ipynb\" target=\"_parent\"><img src=\"https://colab.research.google.com/assets/colab-badge.svg\" alt=\"Open In Colab\"/></a>"
      ]
    },
    {
      "cell_type": "code",
      "execution_count": 1,
      "metadata": {
        "id": "Vsr1DT-teT0I",
        "colab": {
          "base_uri": "https://localhost:8080/"
        },
        "outputId": "8ece6ef5-5d7e-4b52-b1b0-4f96843aedd0"
      },
      "outputs": [
        {
          "output_type": "stream",
          "name": "stdout",
          "text": [
            "Mounted at /content/drive/\n"
          ]
        }
      ],
      "source": [
        "from google.colab import drive\n",
        "from google.colab import data_table\n",
        "\n",
        "drive.mount('/content/drive/')\n",
        "data_table.enable_dataframe_formatter()"
      ]
    },
    {
      "cell_type": "code",
      "execution_count": 2,
      "metadata": {
        "id": "00O_gJByq_rn"
      },
      "outputs": [],
      "source": [
        "import os\n",
        "import pandas as pd\n",
        "import numpy as np\n",
        "import seaborn as sns\n",
        "import re\n",
        "import matplotlib.pyplot as plt\n",
        "from collections import Counter\n",
        "from imblearn.over_sampling import SMOTE\n",
        "from math import log"
      ]
    },
    {
      "cell_type": "markdown",
      "metadata": {
        "id": "2wc4xb0T9q6g"
      },
      "source": [
        "# DATA INFORMATION:\n",
        "\n",
        "\n",
        "\n",
        "> The dataset is available publicly for the users from https://www.backblaze.com/b2/hard-drive-test-data.html#how-you-can-use-the-data\n",
        "\n",
        "\n",
        "> The first row of the each file contains the column names, the remaining rows are the actual data. The columns are as follows:\n",
        "\n",
        "##### Date – The date of the file in yyyy-mm-dd format.\n",
        "##### Serial Number – The manufacturer-assigned serial number of the drive.\n",
        "##### Model – The manufacturer-assigned model number of the drive.\n",
        "##### Capacity – The drive capacity in bytes.\n",
        "##### Failure – Contains a “0” if the drive is OK. Contains a “1” if the drive is failed.\n",
        "##### S.M.A.R.T Attributes - Raw and Normalized.\n",
        "\n",
        "> In this dataset SMART attributes have two variants namely raw value often corresponds to counts or a physical unit, such as degrees Celsius or seconds and normalized value which ranges from 1 to 253 (1 as worst case and 253 as best case).\n",
        "\n",
        "\n",
        "\n",
        "\n",
        "\n",
        "\n",
        "\n"
      ]
    },
    {
      "cell_type": "markdown",
      "metadata": {
        "id": "jtNSJKkGA8ab"
      },
      "source": [
        "# ML PROBLEM FORMULATION:\n",
        "\n",
        "> It is the Binary class classification problem where we have to predict Hard Drive failure. These are predicted by using attributes that are recorded during normal operations of hard drive. These attributes are known as SMART(Self – Monitoring and Reporting Technology) which is the monitoring system included in computer HDD.\n",
        "\n",
        "> The motive of this prediction is to reduce the rate of failures as a cost saving measure by the HDD vendors and software running on the host system may notify the user so preventive action can be taken to prevent data loss and failing drive can be replaced and data integrity is maintained.\n",
        "\n",
        "> The HDD is said to be failed or critical when some of these attributes crosses the threshold values. Depending upon the manufacturers they use different SMART attributes in which the common attributes are like Read Error Rate, Throughput Performance, Spin-Up Time etc.\n",
        "\n",
        "> References:\n",
        "###### https://en.wikipedia.org/wiki/S.M.A.R.T\n",
        "###### https://www.backblaze.com/b2/hard-drive-test-data.html#how-you-can-use-the-data\n",
        "\n",
        "\n",
        "\n",
        "\n",
        "\n",
        "\n",
        "\n"
      ]
    },
    {
      "cell_type": "markdown",
      "metadata": {
        "id": "pbdpwrt2DJLd"
      },
      "source": [
        "# PERFORMANCE METRICS:\n",
        "\n",
        "\n",
        "1.   PRECISION, RECALL SCORES\n",
        "2.   AUC SCORE AND CONFUSION MATRIX\n",
        "\n"
      ]
    },
    {
      "cell_type": "markdown",
      "metadata": {
        "id": "SdIIo0TQ0OCD"
      },
      "source": [
        "# 1. Importing Data\n",
        "\n",
        "\n"
      ]
    },
    {
      "cell_type": "code",
      "execution_count": 3,
      "metadata": {
        "id": "Utoqk-Ia2RCp"
      },
      "outputs": [],
      "source": [
        "# Using 5 days of data for Train and Val.\n",
        "# dates = ['02', '03', '04', '05', '06', '07', '08', '09', '10']\n",
        "dates = ['02', '03', '04', '05']\n",
        "Data = pd.read_csv(\"/content/drive/My Drive/hdddata/2021/2021-01-01.csv\")\n",
        "for i in dates:\n",
        "  Data = Data.append(pd.read_csv(\"/content/drive/My Drive/hdddata/2021/2021-01-\" + i + \".csv\"))"
      ]
    },
    {
      "cell_type": "code",
      "execution_count": 4,
      "metadata": {
        "id": "iPodCMoH8nhu",
        "colab": {
          "base_uri": "https://localhost:8080/"
        },
        "outputId": "3dcdffab-6f9f-48e7-8e32-fb5b6e6a1374"
      },
      "outputs": [
        {
          "output_type": "stream",
          "name": "stdout",
          "text": [
            "<class 'pandas.core.frame.DataFrame'>\n",
            "Int64Index: 827509 entries, 0 to 165532\n",
            "Columns: 149 entries, date to smart_255_raw\n",
            "dtypes: float64(144), int64(2), object(3)\n",
            "memory usage: 947.0+ MB\n",
            "None\n",
            "\n",
            "Shape of the Data:  (827509, 149)\n"
          ]
        }
      ],
      "source": [
        "print(Data.info())\n",
        "print()\n",
        "print(\"Shape of the Data: \", Data.shape)"
      ]
    },
    {
      "cell_type": "code",
      "execution_count": 5,
      "metadata": {
        "id": "qXosMjoJPcfw",
        "colab": {
          "base_uri": "https://localhost:8080/",
          "height": 404
        },
        "outputId": "ab0553a6-9d97-4653-fe7f-27e1b925c155"
      },
      "outputs": [
        {
          "output_type": "stream",
          "name": "stdout",
          "text": [
            "Warning: Total number of columns (149) exceeds max_columns (20). Falling back to pandas display.\n"
          ]
        },
        {
          "output_type": "execute_result",
          "data": {
            "text/plain": [
              "         date serial_number          model  capacity_bytes  failure  \\\n",
              "0  2021-01-01      ZLW0EGC6  ST12000NM001G  12000138625024        0   \n",
              "1  2021-01-01      Z305B2QN    ST4000DM000   4000787030016        0   \n",
              "2  2021-01-01      ZLW0C6NE  ST12000NM001G  12000138625024        0   \n",
              "3  2021-01-01      ZJV0XJQ3  ST12000NM0007  12000138625024        0   \n",
              "4  2021-01-01      ZLW18MKT  ST14000NM001G  14000519643136        0   \n",
              "\n",
              "   smart_1_normalized  smart_1_raw  smart_2_normalized  smart_2_raw  \\\n",
              "0                83.0  213166608.0                 NaN          NaN   \n",
              "1               114.0   79306032.0                 NaN          NaN   \n",
              "2                72.0   17162816.0                 NaN          NaN   \n",
              "3               100.0    1102160.0                 NaN          NaN   \n",
              "4                75.0   33233248.0                 NaN          NaN   \n",
              "\n",
              "   smart_3_normalized  ...  smart_250_normalized  smart_250_raw  \\\n",
              "0                99.0  ...                   NaN            NaN   \n",
              "1                91.0  ...                   NaN            NaN   \n",
              "2                98.0  ...                   NaN            NaN   \n",
              "3                98.0  ...                   NaN            NaN   \n",
              "4                95.0  ...                   NaN            NaN   \n",
              "\n",
              "   smart_251_normalized  smart_251_raw  smart_252_normalized  smart_252_raw  \\\n",
              "0                   NaN            NaN                   NaN            NaN   \n",
              "1                   NaN            NaN                   NaN            NaN   \n",
              "2                   NaN            NaN                   NaN            NaN   \n",
              "3                   NaN            NaN                   NaN            NaN   \n",
              "4                   NaN            NaN                   NaN            NaN   \n",
              "\n",
              "   smart_254_normalized  smart_254_raw  smart_255_normalized  smart_255_raw  \n",
              "0                   NaN            NaN                   NaN            NaN  \n",
              "1                   NaN            NaN                   NaN            NaN  \n",
              "2                   NaN            NaN                   NaN            NaN  \n",
              "3                   NaN            NaN                   NaN            NaN  \n",
              "4                   NaN            NaN                   NaN            NaN  \n",
              "\n",
              "[5 rows x 149 columns]"
            ],
            "text/html": [
              "\n",
              "  <div id=\"df-edf942a5-1be5-423a-b99e-835591eaf1b6\">\n",
              "    <div class=\"colab-df-container\">\n",
              "      <div>\n",
              "<style scoped>\n",
              "    .dataframe tbody tr th:only-of-type {\n",
              "        vertical-align: middle;\n",
              "    }\n",
              "\n",
              "    .dataframe tbody tr th {\n",
              "        vertical-align: top;\n",
              "    }\n",
              "\n",
              "    .dataframe thead th {\n",
              "        text-align: right;\n",
              "    }\n",
              "</style>\n",
              "<table border=\"1\" class=\"dataframe\">\n",
              "  <thead>\n",
              "    <tr style=\"text-align: right;\">\n",
              "      <th></th>\n",
              "      <th>date</th>\n",
              "      <th>serial_number</th>\n",
              "      <th>model</th>\n",
              "      <th>capacity_bytes</th>\n",
              "      <th>failure</th>\n",
              "      <th>smart_1_normalized</th>\n",
              "      <th>smart_1_raw</th>\n",
              "      <th>smart_2_normalized</th>\n",
              "      <th>smart_2_raw</th>\n",
              "      <th>smart_3_normalized</th>\n",
              "      <th>...</th>\n",
              "      <th>smart_250_normalized</th>\n",
              "      <th>smart_250_raw</th>\n",
              "      <th>smart_251_normalized</th>\n",
              "      <th>smart_251_raw</th>\n",
              "      <th>smart_252_normalized</th>\n",
              "      <th>smart_252_raw</th>\n",
              "      <th>smart_254_normalized</th>\n",
              "      <th>smart_254_raw</th>\n",
              "      <th>smart_255_normalized</th>\n",
              "      <th>smart_255_raw</th>\n",
              "    </tr>\n",
              "  </thead>\n",
              "  <tbody>\n",
              "    <tr>\n",
              "      <th>0</th>\n",
              "      <td>2021-01-01</td>\n",
              "      <td>ZLW0EGC6</td>\n",
              "      <td>ST12000NM001G</td>\n",
              "      <td>12000138625024</td>\n",
              "      <td>0</td>\n",
              "      <td>83.0</td>\n",
              "      <td>213166608.0</td>\n",
              "      <td>NaN</td>\n",
              "      <td>NaN</td>\n",
              "      <td>99.0</td>\n",
              "      <td>...</td>\n",
              "      <td>NaN</td>\n",
              "      <td>NaN</td>\n",
              "      <td>NaN</td>\n",
              "      <td>NaN</td>\n",
              "      <td>NaN</td>\n",
              "      <td>NaN</td>\n",
              "      <td>NaN</td>\n",
              "      <td>NaN</td>\n",
              "      <td>NaN</td>\n",
              "      <td>NaN</td>\n",
              "    </tr>\n",
              "    <tr>\n",
              "      <th>1</th>\n",
              "      <td>2021-01-01</td>\n",
              "      <td>Z305B2QN</td>\n",
              "      <td>ST4000DM000</td>\n",
              "      <td>4000787030016</td>\n",
              "      <td>0</td>\n",
              "      <td>114.0</td>\n",
              "      <td>79306032.0</td>\n",
              "      <td>NaN</td>\n",
              "      <td>NaN</td>\n",
              "      <td>91.0</td>\n",
              "      <td>...</td>\n",
              "      <td>NaN</td>\n",
              "      <td>NaN</td>\n",
              "      <td>NaN</td>\n",
              "      <td>NaN</td>\n",
              "      <td>NaN</td>\n",
              "      <td>NaN</td>\n",
              "      <td>NaN</td>\n",
              "      <td>NaN</td>\n",
              "      <td>NaN</td>\n",
              "      <td>NaN</td>\n",
              "    </tr>\n",
              "    <tr>\n",
              "      <th>2</th>\n",
              "      <td>2021-01-01</td>\n",
              "      <td>ZLW0C6NE</td>\n",
              "      <td>ST12000NM001G</td>\n",
              "      <td>12000138625024</td>\n",
              "      <td>0</td>\n",
              "      <td>72.0</td>\n",
              "      <td>17162816.0</td>\n",
              "      <td>NaN</td>\n",
              "      <td>NaN</td>\n",
              "      <td>98.0</td>\n",
              "      <td>...</td>\n",
              "      <td>NaN</td>\n",
              "      <td>NaN</td>\n",
              "      <td>NaN</td>\n",
              "      <td>NaN</td>\n",
              "      <td>NaN</td>\n",
              "      <td>NaN</td>\n",
              "      <td>NaN</td>\n",
              "      <td>NaN</td>\n",
              "      <td>NaN</td>\n",
              "      <td>NaN</td>\n",
              "    </tr>\n",
              "    <tr>\n",
              "      <th>3</th>\n",
              "      <td>2021-01-01</td>\n",
              "      <td>ZJV0XJQ3</td>\n",
              "      <td>ST12000NM0007</td>\n",
              "      <td>12000138625024</td>\n",
              "      <td>0</td>\n",
              "      <td>100.0</td>\n",
              "      <td>1102160.0</td>\n",
              "      <td>NaN</td>\n",
              "      <td>NaN</td>\n",
              "      <td>98.0</td>\n",
              "      <td>...</td>\n",
              "      <td>NaN</td>\n",
              "      <td>NaN</td>\n",
              "      <td>NaN</td>\n",
              "      <td>NaN</td>\n",
              "      <td>NaN</td>\n",
              "      <td>NaN</td>\n",
              "      <td>NaN</td>\n",
              "      <td>NaN</td>\n",
              "      <td>NaN</td>\n",
              "      <td>NaN</td>\n",
              "    </tr>\n",
              "    <tr>\n",
              "      <th>4</th>\n",
              "      <td>2021-01-01</td>\n",
              "      <td>ZLW18MKT</td>\n",
              "      <td>ST14000NM001G</td>\n",
              "      <td>14000519643136</td>\n",
              "      <td>0</td>\n",
              "      <td>75.0</td>\n",
              "      <td>33233248.0</td>\n",
              "      <td>NaN</td>\n",
              "      <td>NaN</td>\n",
              "      <td>95.0</td>\n",
              "      <td>...</td>\n",
              "      <td>NaN</td>\n",
              "      <td>NaN</td>\n",
              "      <td>NaN</td>\n",
              "      <td>NaN</td>\n",
              "      <td>NaN</td>\n",
              "      <td>NaN</td>\n",
              "      <td>NaN</td>\n",
              "      <td>NaN</td>\n",
              "      <td>NaN</td>\n",
              "      <td>NaN</td>\n",
              "    </tr>\n",
              "  </tbody>\n",
              "</table>\n",
              "<p>5 rows × 149 columns</p>\n",
              "</div>\n",
              "      <button class=\"colab-df-convert\" onclick=\"convertToInteractive('df-edf942a5-1be5-423a-b99e-835591eaf1b6')\"\n",
              "              title=\"Convert this dataframe to an interactive table.\"\n",
              "              style=\"display:none;\">\n",
              "        \n",
              "  <svg xmlns=\"http://www.w3.org/2000/svg\" height=\"24px\"viewBox=\"0 0 24 24\"\n",
              "       width=\"24px\">\n",
              "    <path d=\"M0 0h24v24H0V0z\" fill=\"none\"/>\n",
              "    <path d=\"M18.56 5.44l.94 2.06.94-2.06 2.06-.94-2.06-.94-.94-2.06-.94 2.06-2.06.94zm-11 1L8.5 8.5l.94-2.06 2.06-.94-2.06-.94L8.5 2.5l-.94 2.06-2.06.94zm10 10l.94 2.06.94-2.06 2.06-.94-2.06-.94-.94-2.06-.94 2.06-2.06.94z\"/><path d=\"M17.41 7.96l-1.37-1.37c-.4-.4-.92-.59-1.43-.59-.52 0-1.04.2-1.43.59L10.3 9.45l-7.72 7.72c-.78.78-.78 2.05 0 2.83L4 21.41c.39.39.9.59 1.41.59.51 0 1.02-.2 1.41-.59l7.78-7.78 2.81-2.81c.8-.78.8-2.07 0-2.86zM5.41 20L4 18.59l7.72-7.72 1.47 1.35L5.41 20z\"/>\n",
              "  </svg>\n",
              "      </button>\n",
              "      \n",
              "  <style>\n",
              "    .colab-df-container {\n",
              "      display:flex;\n",
              "      flex-wrap:wrap;\n",
              "      gap: 12px;\n",
              "    }\n",
              "\n",
              "    .colab-df-convert {\n",
              "      background-color: #E8F0FE;\n",
              "      border: none;\n",
              "      border-radius: 50%;\n",
              "      cursor: pointer;\n",
              "      display: none;\n",
              "      fill: #1967D2;\n",
              "      height: 32px;\n",
              "      padding: 0 0 0 0;\n",
              "      width: 32px;\n",
              "    }\n",
              "\n",
              "    .colab-df-convert:hover {\n",
              "      background-color: #E2EBFA;\n",
              "      box-shadow: 0px 1px 2px rgba(60, 64, 67, 0.3), 0px 1px 3px 1px rgba(60, 64, 67, 0.15);\n",
              "      fill: #174EA6;\n",
              "    }\n",
              "\n",
              "    [theme=dark] .colab-df-convert {\n",
              "      background-color: #3B4455;\n",
              "      fill: #D2E3FC;\n",
              "    }\n",
              "\n",
              "    [theme=dark] .colab-df-convert:hover {\n",
              "      background-color: #434B5C;\n",
              "      box-shadow: 0px 1px 3px 1px rgba(0, 0, 0, 0.15);\n",
              "      filter: drop-shadow(0px 1px 2px rgba(0, 0, 0, 0.3));\n",
              "      fill: #FFFFFF;\n",
              "    }\n",
              "  </style>\n",
              "\n",
              "      <script>\n",
              "        const buttonEl =\n",
              "          document.querySelector('#df-edf942a5-1be5-423a-b99e-835591eaf1b6 button.colab-df-convert');\n",
              "        buttonEl.style.display =\n",
              "          google.colab.kernel.accessAllowed ? 'block' : 'none';\n",
              "\n",
              "        async function convertToInteractive(key) {\n",
              "          const element = document.querySelector('#df-edf942a5-1be5-423a-b99e-835591eaf1b6');\n",
              "          const dataTable =\n",
              "            await google.colab.kernel.invokeFunction('convertToInteractive',\n",
              "                                                     [key], {});\n",
              "          if (!dataTable) return;\n",
              "\n",
              "          const docLinkHtml = 'Like what you see? Visit the ' +\n",
              "            '<a target=\"_blank\" href=https://colab.research.google.com/notebooks/data_table.ipynb>data table notebook</a>'\n",
              "            + ' to learn more about interactive tables.';\n",
              "          element.innerHTML = '';\n",
              "          dataTable['output_type'] = 'display_data';\n",
              "          await google.colab.output.renderOutput(dataTable, element);\n",
              "          const docLink = document.createElement('div');\n",
              "          docLink.innerHTML = docLinkHtml;\n",
              "          element.appendChild(docLink);\n",
              "        }\n",
              "      </script>\n",
              "    </div>\n",
              "  </div>\n",
              "  "
            ]
          },
          "metadata": {},
          "execution_count": 5
        }
      ],
      "source": [
        "Data.head()"
      ]
    },
    {
      "cell_type": "code",
      "execution_count": 6,
      "metadata": {
        "id": "gXHSrWH6-91D",
        "colab": {
          "base_uri": "https://localhost:8080/",
          "height": 404
        },
        "outputId": "fcde3063-714e-4a04-f0cc-ddc42d2bbdc4"
      },
      "outputs": [
        {
          "output_type": "stream",
          "name": "stdout",
          "text": [
            "Warning: Total number of columns (149) exceeds max_columns (20). Falling back to pandas display.\n"
          ]
        },
        {
          "output_type": "execute_result",
          "data": {
            "text/plain": [
              "              date   serial_number                 model  capacity_bytes  \\\n",
              "165528  2021-01-05        ZJV2ESXT         ST12000NM0007  12000138625024   \n",
              "165529  2021-01-05        ZA13ZBCT           ST8000DM002   8001563222016   \n",
              "165530  2021-01-05  PL1331LAHGD9NH  HGST HMS5C4040BLE640   4000787030016   \n",
              "165531  2021-01-05  PL2331LAHDS4TJ  HGST HMS5C4040BLE640   4000787030016   \n",
              "165532  2021-01-05        X0GEV9EC   WDC WUH721414ALE6L4  14000519643136   \n",
              "\n",
              "        failure  smart_1_normalized  smart_1_raw  smart_2_normalized  \\\n",
              "165528        0                80.0   97876120.0                 NaN   \n",
              "165529        0                84.0  227496000.0                 NaN   \n",
              "165530        0               100.0          0.0               134.0   \n",
              "165531        0               100.0          0.0               133.0   \n",
              "165532        0               100.0          0.0               138.0   \n",
              "\n",
              "        smart_2_raw  smart_3_normalized  ...  smart_250_normalized  \\\n",
              "165528          NaN                98.0  ...                   NaN   \n",
              "165529          NaN                86.0  ...                   NaN   \n",
              "165530        100.0               100.0  ...                   NaN   \n",
              "165531        104.0               100.0  ...                   NaN   \n",
              "165532         92.0                85.0  ...                   NaN   \n",
              "\n",
              "        smart_250_raw  smart_251_normalized  smart_251_raw  \\\n",
              "165528            NaN                   NaN            NaN   \n",
              "165529            NaN                   NaN            NaN   \n",
              "165530            NaN                   NaN            NaN   \n",
              "165531            NaN                   NaN            NaN   \n",
              "165532            NaN                   NaN            NaN   \n",
              "\n",
              "        smart_252_normalized  smart_252_raw  smart_254_normalized  \\\n",
              "165528                   NaN            NaN                   NaN   \n",
              "165529                   NaN            NaN                   NaN   \n",
              "165530                   NaN            NaN                   NaN   \n",
              "165531                   NaN            NaN                   NaN   \n",
              "165532                   NaN            NaN                   NaN   \n",
              "\n",
              "        smart_254_raw  smart_255_normalized  smart_255_raw  \n",
              "165528            NaN                   NaN            NaN  \n",
              "165529            NaN                   NaN            NaN  \n",
              "165530            NaN                   NaN            NaN  \n",
              "165531            NaN                   NaN            NaN  \n",
              "165532            NaN                   NaN            NaN  \n",
              "\n",
              "[5 rows x 149 columns]"
            ],
            "text/html": [
              "\n",
              "  <div id=\"df-27413d24-3f0e-4a24-962e-207c77e45797\">\n",
              "    <div class=\"colab-df-container\">\n",
              "      <div>\n",
              "<style scoped>\n",
              "    .dataframe tbody tr th:only-of-type {\n",
              "        vertical-align: middle;\n",
              "    }\n",
              "\n",
              "    .dataframe tbody tr th {\n",
              "        vertical-align: top;\n",
              "    }\n",
              "\n",
              "    .dataframe thead th {\n",
              "        text-align: right;\n",
              "    }\n",
              "</style>\n",
              "<table border=\"1\" class=\"dataframe\">\n",
              "  <thead>\n",
              "    <tr style=\"text-align: right;\">\n",
              "      <th></th>\n",
              "      <th>date</th>\n",
              "      <th>serial_number</th>\n",
              "      <th>model</th>\n",
              "      <th>capacity_bytes</th>\n",
              "      <th>failure</th>\n",
              "      <th>smart_1_normalized</th>\n",
              "      <th>smart_1_raw</th>\n",
              "      <th>smart_2_normalized</th>\n",
              "      <th>smart_2_raw</th>\n",
              "      <th>smart_3_normalized</th>\n",
              "      <th>...</th>\n",
              "      <th>smart_250_normalized</th>\n",
              "      <th>smart_250_raw</th>\n",
              "      <th>smart_251_normalized</th>\n",
              "      <th>smart_251_raw</th>\n",
              "      <th>smart_252_normalized</th>\n",
              "      <th>smart_252_raw</th>\n",
              "      <th>smart_254_normalized</th>\n",
              "      <th>smart_254_raw</th>\n",
              "      <th>smart_255_normalized</th>\n",
              "      <th>smart_255_raw</th>\n",
              "    </tr>\n",
              "  </thead>\n",
              "  <tbody>\n",
              "    <tr>\n",
              "      <th>165528</th>\n",
              "      <td>2021-01-05</td>\n",
              "      <td>ZJV2ESXT</td>\n",
              "      <td>ST12000NM0007</td>\n",
              "      <td>12000138625024</td>\n",
              "      <td>0</td>\n",
              "      <td>80.0</td>\n",
              "      <td>97876120.0</td>\n",
              "      <td>NaN</td>\n",
              "      <td>NaN</td>\n",
              "      <td>98.0</td>\n",
              "      <td>...</td>\n",
              "      <td>NaN</td>\n",
              "      <td>NaN</td>\n",
              "      <td>NaN</td>\n",
              "      <td>NaN</td>\n",
              "      <td>NaN</td>\n",
              "      <td>NaN</td>\n",
              "      <td>NaN</td>\n",
              "      <td>NaN</td>\n",
              "      <td>NaN</td>\n",
              "      <td>NaN</td>\n",
              "    </tr>\n",
              "    <tr>\n",
              "      <th>165529</th>\n",
              "      <td>2021-01-05</td>\n",
              "      <td>ZA13ZBCT</td>\n",
              "      <td>ST8000DM002</td>\n",
              "      <td>8001563222016</td>\n",
              "      <td>0</td>\n",
              "      <td>84.0</td>\n",
              "      <td>227496000.0</td>\n",
              "      <td>NaN</td>\n",
              "      <td>NaN</td>\n",
              "      <td>86.0</td>\n",
              "      <td>...</td>\n",
              "      <td>NaN</td>\n",
              "      <td>NaN</td>\n",
              "      <td>NaN</td>\n",
              "      <td>NaN</td>\n",
              "      <td>NaN</td>\n",
              "      <td>NaN</td>\n",
              "      <td>NaN</td>\n",
              "      <td>NaN</td>\n",
              "      <td>NaN</td>\n",
              "      <td>NaN</td>\n",
              "    </tr>\n",
              "    <tr>\n",
              "      <th>165530</th>\n",
              "      <td>2021-01-05</td>\n",
              "      <td>PL1331LAHGD9NH</td>\n",
              "      <td>HGST HMS5C4040BLE640</td>\n",
              "      <td>4000787030016</td>\n",
              "      <td>0</td>\n",
              "      <td>100.0</td>\n",
              "      <td>0.0</td>\n",
              "      <td>134.0</td>\n",
              "      <td>100.0</td>\n",
              "      <td>100.0</td>\n",
              "      <td>...</td>\n",
              "      <td>NaN</td>\n",
              "      <td>NaN</td>\n",
              "      <td>NaN</td>\n",
              "      <td>NaN</td>\n",
              "      <td>NaN</td>\n",
              "      <td>NaN</td>\n",
              "      <td>NaN</td>\n",
              "      <td>NaN</td>\n",
              "      <td>NaN</td>\n",
              "      <td>NaN</td>\n",
              "    </tr>\n",
              "    <tr>\n",
              "      <th>165531</th>\n",
              "      <td>2021-01-05</td>\n",
              "      <td>PL2331LAHDS4TJ</td>\n",
              "      <td>HGST HMS5C4040BLE640</td>\n",
              "      <td>4000787030016</td>\n",
              "      <td>0</td>\n",
              "      <td>100.0</td>\n",
              "      <td>0.0</td>\n",
              "      <td>133.0</td>\n",
              "      <td>104.0</td>\n",
              "      <td>100.0</td>\n",
              "      <td>...</td>\n",
              "      <td>NaN</td>\n",
              "      <td>NaN</td>\n",
              "      <td>NaN</td>\n",
              "      <td>NaN</td>\n",
              "      <td>NaN</td>\n",
              "      <td>NaN</td>\n",
              "      <td>NaN</td>\n",
              "      <td>NaN</td>\n",
              "      <td>NaN</td>\n",
              "      <td>NaN</td>\n",
              "    </tr>\n",
              "    <tr>\n",
              "      <th>165532</th>\n",
              "      <td>2021-01-05</td>\n",
              "      <td>X0GEV9EC</td>\n",
              "      <td>WDC WUH721414ALE6L4</td>\n",
              "      <td>14000519643136</td>\n",
              "      <td>0</td>\n",
              "      <td>100.0</td>\n",
              "      <td>0.0</td>\n",
              "      <td>138.0</td>\n",
              "      <td>92.0</td>\n",
              "      <td>85.0</td>\n",
              "      <td>...</td>\n",
              "      <td>NaN</td>\n",
              "      <td>NaN</td>\n",
              "      <td>NaN</td>\n",
              "      <td>NaN</td>\n",
              "      <td>NaN</td>\n",
              "      <td>NaN</td>\n",
              "      <td>NaN</td>\n",
              "      <td>NaN</td>\n",
              "      <td>NaN</td>\n",
              "      <td>NaN</td>\n",
              "    </tr>\n",
              "  </tbody>\n",
              "</table>\n",
              "<p>5 rows × 149 columns</p>\n",
              "</div>\n",
              "      <button class=\"colab-df-convert\" onclick=\"convertToInteractive('df-27413d24-3f0e-4a24-962e-207c77e45797')\"\n",
              "              title=\"Convert this dataframe to an interactive table.\"\n",
              "              style=\"display:none;\">\n",
              "        \n",
              "  <svg xmlns=\"http://www.w3.org/2000/svg\" height=\"24px\"viewBox=\"0 0 24 24\"\n",
              "       width=\"24px\">\n",
              "    <path d=\"M0 0h24v24H0V0z\" fill=\"none\"/>\n",
              "    <path d=\"M18.56 5.44l.94 2.06.94-2.06 2.06-.94-2.06-.94-.94-2.06-.94 2.06-2.06.94zm-11 1L8.5 8.5l.94-2.06 2.06-.94-2.06-.94L8.5 2.5l-.94 2.06-2.06.94zm10 10l.94 2.06.94-2.06 2.06-.94-2.06-.94-.94-2.06-.94 2.06-2.06.94z\"/><path d=\"M17.41 7.96l-1.37-1.37c-.4-.4-.92-.59-1.43-.59-.52 0-1.04.2-1.43.59L10.3 9.45l-7.72 7.72c-.78.78-.78 2.05 0 2.83L4 21.41c.39.39.9.59 1.41.59.51 0 1.02-.2 1.41-.59l7.78-7.78 2.81-2.81c.8-.78.8-2.07 0-2.86zM5.41 20L4 18.59l7.72-7.72 1.47 1.35L5.41 20z\"/>\n",
              "  </svg>\n",
              "      </button>\n",
              "      \n",
              "  <style>\n",
              "    .colab-df-container {\n",
              "      display:flex;\n",
              "      flex-wrap:wrap;\n",
              "      gap: 12px;\n",
              "    }\n",
              "\n",
              "    .colab-df-convert {\n",
              "      background-color: #E8F0FE;\n",
              "      border: none;\n",
              "      border-radius: 50%;\n",
              "      cursor: pointer;\n",
              "      display: none;\n",
              "      fill: #1967D2;\n",
              "      height: 32px;\n",
              "      padding: 0 0 0 0;\n",
              "      width: 32px;\n",
              "    }\n",
              "\n",
              "    .colab-df-convert:hover {\n",
              "      background-color: #E2EBFA;\n",
              "      box-shadow: 0px 1px 2px rgba(60, 64, 67, 0.3), 0px 1px 3px 1px rgba(60, 64, 67, 0.15);\n",
              "      fill: #174EA6;\n",
              "    }\n",
              "\n",
              "    [theme=dark] .colab-df-convert {\n",
              "      background-color: #3B4455;\n",
              "      fill: #D2E3FC;\n",
              "    }\n",
              "\n",
              "    [theme=dark] .colab-df-convert:hover {\n",
              "      background-color: #434B5C;\n",
              "      box-shadow: 0px 1px 3px 1px rgba(0, 0, 0, 0.15);\n",
              "      filter: drop-shadow(0px 1px 2px rgba(0, 0, 0, 0.3));\n",
              "      fill: #FFFFFF;\n",
              "    }\n",
              "  </style>\n",
              "\n",
              "      <script>\n",
              "        const buttonEl =\n",
              "          document.querySelector('#df-27413d24-3f0e-4a24-962e-207c77e45797 button.colab-df-convert');\n",
              "        buttonEl.style.display =\n",
              "          google.colab.kernel.accessAllowed ? 'block' : 'none';\n",
              "\n",
              "        async function convertToInteractive(key) {\n",
              "          const element = document.querySelector('#df-27413d24-3f0e-4a24-962e-207c77e45797');\n",
              "          const dataTable =\n",
              "            await google.colab.kernel.invokeFunction('convertToInteractive',\n",
              "                                                     [key], {});\n",
              "          if (!dataTable) return;\n",
              "\n",
              "          const docLinkHtml = 'Like what you see? Visit the ' +\n",
              "            '<a target=\"_blank\" href=https://colab.research.google.com/notebooks/data_table.ipynb>data table notebook</a>'\n",
              "            + ' to learn more about interactive tables.';\n",
              "          element.innerHTML = '';\n",
              "          dataTable['output_type'] = 'display_data';\n",
              "          await google.colab.output.renderOutput(dataTable, element);\n",
              "          const docLink = document.createElement('div');\n",
              "          docLink.innerHTML = docLinkHtml;\n",
              "          element.appendChild(docLink);\n",
              "        }\n",
              "      </script>\n",
              "    </div>\n",
              "  </div>\n",
              "  "
            ]
          },
          "metadata": {},
          "execution_count": 6
        }
      ],
      "source": [
        "Data.tail()"
      ]
    },
    {
      "cell_type": "code",
      "execution_count": 7,
      "metadata": {
        "id": "OFLQ4fIy_Er9",
        "colab": {
          "base_uri": "https://localhost:8080/"
        },
        "outputId": "2f01d9ff-1deb-425b-e903-2416a37a5ba6"
      },
      "outputs": [
        {
          "output_type": "execute_result",
          "data": {
            "text/plain": [
              "Index(['index', 'date', 'serial_number', 'model', 'capacity_bytes', 'failure',\n",
              "       'smart_1_normalized', 'smart_1_raw', 'smart_2_normalized',\n",
              "       'smart_2_raw',\n",
              "       ...\n",
              "       'smart_250_normalized', 'smart_250_raw', 'smart_251_normalized',\n",
              "       'smart_251_raw', 'smart_252_normalized', 'smart_252_raw',\n",
              "       'smart_254_normalized', 'smart_254_raw', 'smart_255_normalized',\n",
              "       'smart_255_raw'],\n",
              "      dtype='object', length=150)"
            ]
          },
          "metadata": {},
          "execution_count": 7
        }
      ],
      "source": [
        "Data.reset_index(inplace = True)\n",
        "Data['date'] = pd.to_datetime(Data['date'])\n",
        "Data.columns"
      ]
    },
    {
      "cell_type": "markdown",
      "metadata": {
        "id": "jbDTDRywuYl7"
      },
      "source": [
        "From the above Dataset it is found that it many features contains NaN values."
      ]
    },
    {
      "cell_type": "markdown",
      "metadata": {
        "id": "mMvcgQLEpinl"
      },
      "source": [
        "# 2. To Find the common features of all the models of HDD.\n",
        "\n",
        "\n",
        "\n",
        "\n",
        "\n"
      ]
    },
    {
      "cell_type": "markdown",
      "metadata": {
        "id": "Z4b7XudXLS7j"
      },
      "source": [
        "> Since each vendors provide different SMART attributes, I am finding and keeping the common attributes that each model have defined values.\n",
        "\n",
        "\n",
        "> Attributes with many NaN are removed."
      ]
    },
    {
      "cell_type": "code",
      "execution_count": 8,
      "metadata": {
        "id": "7V_Mmy6UXI7n",
        "colab": {
          "base_uri": "https://localhost:8080/"
        },
        "outputId": "8994768c-cd18-4d7c-dc9a-648140177f96"
      },
      "outputs": [
        {
          "output_type": "execute_result",
          "data": {
            "text/plain": [
              "Index(['date', 'serial_number', 'model', 'capacity_bytes', 'failure',\n",
              "       'smart_1_normalized', 'smart_1_raw', 'smart_2_normalized',\n",
              "       'smart_2_raw', 'smart_3_normalized',\n",
              "       ...\n",
              "       'smart_250_normalized', 'smart_250_raw', 'smart_251_normalized',\n",
              "       'smart_251_raw', 'smart_252_normalized', 'smart_252_raw',\n",
              "       'smart_254_normalized', 'smart_254_raw', 'smart_255_normalized',\n",
              "       'smart_255_raw'],\n",
              "      dtype='object', length=149)"
            ]
          },
          "metadata": {},
          "execution_count": 8
        }
      ],
      "source": [
        "# Creating the copy of original data with removing the columns containing all instances as NaN.\n",
        "Data.drop('index', axis = 1, inplace = True)\n",
        "Test = Data.dropna(how = 'all', axis = 1)\n",
        "Initial = Data.columns\n",
        "Initial"
      ]
    },
    {
      "cell_type": "code",
      "execution_count": 9,
      "metadata": {
        "id": "-wnh46ZXA1Dx",
        "colab": {
          "base_uri": "https://localhost:8080/"
        },
        "outputId": "66762753-9edd-4bb2-ce95-945a0d7df101"
      },
      "outputs": [
        {
          "output_type": "execute_result",
          "data": {
            "text/plain": [
              "(827509, 139)"
            ]
          },
          "metadata": {},
          "execution_count": 9
        }
      ],
      "source": [
        "Test.shape # Shape of the data after removing the NaN Features."
      ]
    },
    {
      "cell_type": "code",
      "execution_count": 10,
      "metadata": {
        "id": "8WDwz9QzA884",
        "colab": {
          "base_uri": "https://localhost:8080/"
        },
        "outputId": "2509bb73-e670-410e-f9c6-9257811c68bd"
      },
      "outputs": [
        {
          "output_type": "execute_result",
          "data": {
            "text/plain": [
              "8"
            ]
          },
          "metadata": {},
          "execution_count": 10
        }
      ],
      "source": [
        "# Critical Features for HDD failure as mentioned in Wikipedia and BlackBlaze.\n",
        "# These features are removed to find other common features of all the models.\n",
        "Features = ['5', '10', '184', '187', '188', '196', '197', '198']\n",
        "len(Features)"
      ]
    },
    {
      "cell_type": "code",
      "execution_count": 11,
      "metadata": {
        "id": "GXeV334bA846",
        "colab": {
          "base_uri": "https://localhost:8080/"
        },
        "outputId": "f0ee6341-13f9-4fe7-b53e-68f6309422f3"
      },
      "outputs": [
        {
          "output_type": "stream",
          "name": "stderr",
          "text": [
            "/usr/local/lib/python3.8/dist-packages/pandas/core/frame.py:4906: SettingWithCopyWarning: \n",
            "A value is trying to be set on a copy of a slice from a DataFrame\n",
            "\n",
            "See the caveats in the documentation: https://pandas.pydata.org/pandas-docs/stable/user_guide/indexing.html#returning-a-view-versus-a-copy\n",
            "  return super().drop(\n"
          ]
        }
      ],
      "source": [
        "for i in Features:\n",
        "  features = ['smart_' + i + '_normalized', 'smart_' + i + '_raw']\n",
        "  Test.drop(features, axis = 1, inplace = True)"
      ]
    },
    {
      "cell_type": "code",
      "execution_count": 12,
      "metadata": {
        "id": "j_AAlxPLA832",
        "colab": {
          "base_uri": "https://localhost:8080/"
        },
        "outputId": "943afb70-e8c0-432f-e9c2-77f9beb88c85"
      },
      "outputs": [
        {
          "output_type": "execute_result",
          "data": {
            "text/plain": [
              "(827509, 123)"
            ]
          },
          "metadata": {},
          "execution_count": 12
        }
      ],
      "source": [
        "# Shape of the data after removing the critical features.\n",
        "Test.shape "
      ]
    },
    {
      "cell_type": "code",
      "execution_count": 13,
      "metadata": {
        "id": "oQfgRDw3tZWI",
        "colab": {
          "base_uri": "https://localhost:8080/",
          "height": 1000
        },
        "outputId": "6b09eca0-323c-4f13-958e-8146f8f731e1"
      },
      "outputs": [
        {
          "output_type": "display_data",
          "data": {
            "text/plain": [
              "<Figure size 1440x1440 with 1 Axes>"
            ],
            "image/png": "[encoded data removed]"
          },
          "metadata": {
            "needs_background": "light"
          }
        }
      ],
      "source": [
        "# Checking the count and percentage of unique models from the data.\n",
        "total = len(Data)\n",
        "plt.figure(figsize = (20,20))\n",
        "ax = sns.countplot(x = \"model\", data = Test, order = Test.model.value_counts().index)\n",
        "for p in ax.patches:\n",
        "        ax.annotate('{:.4f}% ({})'.format(100*p.get_height()/total, p.get_height()), (p.get_x()+0.1, p.get_height()+5), rotation = 'vertical')\n",
        "\n",
        "#put 11 ticks (therefore 10 steps), from 0 to the total number of rows in the dataframe\n",
        "ax.yaxis.set_ticks(np.linspace(0, total, 11))\n",
        "\n",
        "#adjust the ticklabel to the desired format, without changing the position of the ticks. \n",
        "ax.set_yticklabels(map('{:.1f}%'.format, 100*ax.yaxis.get_majorticklocs()/total))\n",
        "plt.xticks(rotation=90)\n",
        "plt.title('Counts of every HDD model')\n",
        "plt.grid(True)\n",
        "plt.show()"
      ]
    },
    {
      "cell_type": "code",
      "execution_count": 14,
      "metadata": {
        "id": "yH5s7PO6jdBa",
        "colab": {
          "base_uri": "https://localhost:8080/",
          "height": 390
        },
        "outputId": "15dcc2ab-7a4e-43f4-a3df-df6d12ab11c8"
      },
      "outputs": [
        {
          "output_type": "display_data",
          "data": {
            "text/plain": [
              "<Figure size 432x288 with 1 Axes>"
            ],
            "image/png": "[encoded data removed]"
          },
          "metadata": {
            "needs_background": "light"
          }
        }
      ],
      "source": [
        "#This plot tells the number of HDD failed in each days\n",
        "ax = Test.groupby(['date', 'failure'])['failure'].count().unstack(1)[1].plot.bar()\n",
        "for p in ax.patches:\n",
        "        ax.annotate('({})'.format(p.get_height()), (p.get_x()+0.1, p.get_height()+0.1))\n",
        "plt.legend()\n",
        "plt.title(\"Number of HDD falied in each Day's\")\n",
        "plt.show()"
      ]
    },
    {
      "cell_type": "code",
      "execution_count": 15,
      "metadata": {
        "id": "z2T1WSOPA8yU",
        "colab": {
          "base_uri": "https://localhost:8080/"
        },
        "outputId": "1de3d95c-223c-404d-b169-e30662dc32d4"
      },
      "outputs": [
        {
          "output_type": "stream",
          "name": "stdout",
          "text": [
            "Number of Unique Models:  59\n",
            "Index(['ST12000NM0007', 'TOSHIBA MG07ACA14TA', 'ST12000NM0008', 'ST4000DM000',\n",
            "       'ST8000NM0055', 'HGST HMS5C4040BLE640', 'HGST HUH721212ALN604',\n",
            "       'ST8000DM002', 'ST12000NM001G', 'ST14000NM001G', 'WDC WUH721414ALE6L4',\n",
            "       'HGST HMS5C4040ALE640', 'HGST HUH721212ALE600', 'HGST HUH721212ALE604',\n",
            "       'ST10000NM0086', 'HGST HUH728080ALE600', 'TOSHIBA MG08ACA16TEY',\n",
            "       'ST6000DX000', 'Seagate BarraCuda SSD ZA250CM10002', 'ST500LM012 HN',\n",
            "       'Seagate BarraCuda 120 SSD ZA250CM10003', 'TOSHIBA MQ01ABF050M',\n",
            "       'ST14000NM0138', 'TOSHIBA MQ01ABF050', 'ST500LM030', 'WDC WD5000LPVX',\n",
            "       'TOSHIBA MG07ACA14TEY', 'DELLBOSS VD', 'Seagate SSD',\n",
            "       'TOSHIBA MD04ABA400V', 'WDC  WUH721414ALE6L4', 'ST18000NM000J',\n",
            "       'ST16000NM001G', 'WDC WD5000LPCX', 'TOSHIBA MG08ACA16TA', 'ST4000DM005',\n",
            "       'MTFDDAV240TCB', 'ST500LM021', 'HGST HUS726040ALE610', 'ST16000NM005G',\n",
            "       'ST8000DM005', 'HGST HDS5C4040ALE630', 'HGST HUH721010ALE600',\n",
            "       'Seagate BarraCuda SSD ZA500CM10002', 'TOSHIBA HDWF180',\n",
            "       'ST12000NM0117', 'WDC WD5000BPKT', 'ST14000NM0018', 'TOSHIBA HDWE160',\n",
            "       'Seagate BarraCuda SSD ZA2000CM10002', 'SSDSCKKB480G8R', 'ST6000DM001',\n",
            "       'WDC WD60EFRX', 'Hitachi HDS5C4040ALE630', 'MTFDDAV240TDU',\n",
            "       'HGST HMS5C4040BLE641', 'ST1000LM024 HN', 'ST6000DM004', 'ST8000DM004'],\n",
            "      dtype='object')\n"
          ]
        }
      ],
      "source": [
        "models = Test.model.value_counts().index\n",
        "print(\"Number of Unique Models: \", len(models))\n",
        "print(models)"
      ]
    },
    {
      "cell_type": "code",
      "execution_count": 16,
      "metadata": {
        "id": "xbPG_Nw_nbge",
        "colab": {
          "base_uri": "https://localhost:8080/"
        },
        "outputId": "06a675b8-d879-4487-e0ff-de636956a4c0"
      },
      "outputs": [
        {
          "output_type": "stream",
          "name": "stdout",
          "text": [
            "ST12000NM0007 failure_rate is 0.00347 %\n",
            "TOSHIBA MG07ACA14TA failure_rate is 0.00095 %\n",
            "ST12000NM0008 failure_rate is 0.00622 %\n",
            "ST4000DM000 failure_rate is 0.00423 %\n",
            "ST8000NM0055 failure_rate is 0 %\n",
            "HGST HMS5C4040BLE640 failure_rate is 0.00157 %\n",
            "HGST HUH721212ALN604 failure_rate is 0 %\n",
            "ST8000DM002 failure_rate is 0 %\n",
            "ST12000NM001G failure_rate is 0.00561 %\n",
            "ST14000NM001G failure_rate is 0 %\n",
            "WDC WUH721414ALE6L4 failure_rate is 0 %\n",
            "HGST HMS5C4040ALE640 failure_rate is 0 %\n",
            "HGST HUH721212ALE600 failure_rate is 0 %\n",
            "HGST HUH721212ALE604 failure_rate is 0 %\n",
            "ST10000NM0086 failure_rate is 0.03331 %\n",
            "HGST HUH728080ALE600 failure_rate is 0 %\n",
            "TOSHIBA MG08ACA16TEY failure_rate is 0 %\n",
            "ST6000DX000 failure_rate is 0 %\n",
            "Seagate BarraCuda SSD ZA250CM10002 failure_rate is 0 %\n",
            "ST500LM012 HN failure_rate is 0 %\n",
            "Seagate BarraCuda 120 SSD ZA250CM10003 failure_rate is 0.04924 %\n",
            "TOSHIBA MQ01ABF050M failure_rate is 0 %\n",
            "ST14000NM0138 failure_rate is 0 %\n",
            "TOSHIBA MQ01ABF050 failure_rate is 0.17007 %\n",
            "ST500LM030 failure_rate is 0 %\n",
            "WDC WD5000LPVX failure_rate is 0 %\n",
            "TOSHIBA MG07ACA14TEY failure_rate is 0 %\n",
            "DELLBOSS VD failure_rate is 0 %\n",
            "Seagate SSD failure_rate is 0 %\n",
            "TOSHIBA MD04ABA400V failure_rate is 0 %\n",
            "WDC  WUH721414ALE6L4 failure_rate is 0 %\n",
            "ST18000NM000J failure_rate is 0 %\n",
            "ST16000NM001G failure_rate is 0 %\n",
            "WDC WD5000LPCX failure_rate is 0 %\n",
            "TOSHIBA MG08ACA16TA failure_rate is 0 %\n",
            "ST4000DM005 failure_rate is 0 %\n",
            "MTFDDAV240TCB failure_rate is 0 %\n",
            "ST500LM021 failure_rate is 0 %\n",
            "HGST HUS726040ALE610 failure_rate is 0 %\n",
            "ST16000NM005G failure_rate is 0 %\n",
            "ST8000DM005 failure_rate is 0 %\n",
            "HGST HDS5C4040ALE630 failure_rate is 0 %\n",
            "HGST HUH721010ALE600 failure_rate is 0 %\n",
            "Seagate BarraCuda SSD ZA500CM10002 failure_rate is 0 %\n",
            "TOSHIBA HDWF180 failure_rate is 0 %\n",
            "ST12000NM0117 failure_rate is 0 %\n",
            "WDC WD5000BPKT failure_rate is 0 %\n",
            "ST14000NM0018 failure_rate is 0 %\n",
            "TOSHIBA HDWE160 failure_rate is 0 %\n",
            "Seagate BarraCuda SSD ZA2000CM10002 failure_rate is 0 %\n",
            "SSDSCKKB480G8R failure_rate is 0 %\n",
            "ST6000DM001 failure_rate is 0 %\n",
            "WDC WD60EFRX failure_rate is 0 %\n",
            "Hitachi HDS5C4040ALE630 failure_rate is 0 %\n",
            "MTFDDAV240TDU failure_rate is 0 %\n",
            "HGST HMS5C4040BLE641 failure_rate is 0 %\n",
            "ST1000LM024 HN failure_rate is 0 %\n",
            "ST6000DM004 failure_rate is 0 %\n",
            "ST8000DM004 failure_rate is 0 %\n"
          ]
        }
      ],
      "source": [
        "# Finding the failure rate of every model in 7 days.\n",
        "for i in models:\n",
        "  try:\n",
        "    c = Test[Test.model == i].failure.value_counts()[1] / len(Test[Test.model == i]) * 100\n",
        "    print(i, 'failure_rate is {:.5f} %'.format(c))\n",
        "  except KeyError:\n",
        "    print(i, 'failure_rate is 0 %')"
      ]
    },
    {
      "cell_type": "markdown",
      "metadata": {
        "id": "SnqlZkpJr19K"
      },
      "source": [
        "From the above it is found that only five models have failed in these 7 days."
      ]
    },
    {
      "cell_type": "code",
      "execution_count": 17,
      "metadata": {
        "id": "__PgAGjT_HLA",
        "colab": {
          "base_uri": "https://localhost:8080/",
          "height": 404
        },
        "outputId": "d86dafd9-e29b-4967-c12e-ab32801da7b7"
      },
      "outputs": [
        {
          "output_type": "stream",
          "name": "stdout",
          "text": [
            "Warning: Total number of columns (123) exceeds max_columns (20). Falling back to pandas display.\n"
          ]
        },
        {
          "output_type": "execute_result",
          "data": {
            "text/plain": [
              "        date serial_number          model  capacity_bytes  failure  \\\n",
              "0 2021-01-01      ZLW0EGC6  ST12000NM001G  12000138625024        0   \n",
              "1 2021-01-01      Z305B2QN    ST4000DM000   4000787030016        0   \n",
              "2 2021-01-01      ZLW0C6NE  ST12000NM001G  12000138625024        0   \n",
              "3 2021-01-01      ZJV0XJQ3  ST12000NM0007  12000138625024        0   \n",
              "4 2021-01-01      ZLW18MKT  ST14000NM001G  14000519643136        0   \n",
              "\n",
              "   smart_1_normalized  smart_1_raw  smart_2_normalized  smart_2_raw  \\\n",
              "0                83.0  213166608.0                 NaN          NaN   \n",
              "1               114.0   79306032.0                 NaN          NaN   \n",
              "2                72.0   17162816.0                 NaN          NaN   \n",
              "3               100.0    1102160.0                 NaN          NaN   \n",
              "4                75.0   33233248.0                 NaN          NaN   \n",
              "\n",
              "   smart_3_normalized  ...  smart_242_normalized  smart_242_raw  \\\n",
              "0                99.0  ...                 100.0   7.022831e+10   \n",
              "1                91.0  ...                 100.0   5.457889e+11   \n",
              "2                98.0  ...                 100.0   8.706921e+10   \n",
              "3                98.0  ...                 100.0   1.295292e+11   \n",
              "4                95.0  ...                 100.0   1.872005e+10   \n",
              "\n",
              "   smart_245_normalized  smart_245_raw  smart_247_normalized  smart_247_raw  \\\n",
              "0                   NaN            NaN                   NaN            NaN   \n",
              "1                   NaN            NaN                   NaN            NaN   \n",
              "2                   NaN            NaN                   NaN            NaN   \n",
              "3                   NaN            NaN                   NaN            NaN   \n",
              "4                   NaN            NaN                   NaN            NaN   \n",
              "\n",
              "   smart_248_normalized  smart_248_raw  smart_254_normalized  smart_254_raw  \n",
              "0                   NaN            NaN                   NaN            NaN  \n",
              "1                   NaN            NaN                   NaN            NaN  \n",
              "2                   NaN            NaN                   NaN            NaN  \n",
              "3                   NaN            NaN                   NaN            NaN  \n",
              "4                   NaN            NaN                   NaN            NaN  \n",
              "\n",
              "[5 rows x 123 columns]"
            ],
            "text/html": [
              "\n",
              "  <div id=\"df-cc75dc07-4d31-4c92-852a-b8d174c945ee\">\n",
              "    <div class=\"colab-df-container\">\n",
              "      <div>\n",
              "<style scoped>\n",
              "    .dataframe tbody tr th:only-of-type {\n",
              "        vertical-align: middle;\n",
              "    }\n",
              "\n",
              "    .dataframe tbody tr th {\n",
              "        vertical-align: top;\n",
              "    }\n",
              "\n",
              "    .dataframe thead th {\n",
              "        text-align: right;\n",
              "    }\n",
              "</style>\n",
              "<table border=\"1\" class=\"dataframe\">\n",
              "  <thead>\n",
              "    <tr style=\"text-align: right;\">\n",
              "      <th></th>\n",
              "      <th>date</th>\n",
              "      <th>serial_number</th>\n",
              "      <th>model</th>\n",
              "      <th>capacity_bytes</th>\n",
              "      <th>failure</th>\n",
              "      <th>smart_1_normalized</th>\n",
              "      <th>smart_1_raw</th>\n",
              "      <th>smart_2_normalized</th>\n",
              "      <th>smart_2_raw</th>\n",
              "      <th>smart_3_normalized</th>\n",
              "      <th>...</th>\n",
              "      <th>smart_242_normalized</th>\n",
              "      <th>smart_242_raw</th>\n",
              "      <th>smart_245_normalized</th>\n",
              "      <th>smart_245_raw</th>\n",
              "      <th>smart_247_normalized</th>\n",
              "      <th>smart_247_raw</th>\n",
              "      <th>smart_248_normalized</th>\n",
              "      <th>smart_248_raw</th>\n",
              "      <th>smart_254_normalized</th>\n",
              "      <th>smart_254_raw</th>\n",
              "    </tr>\n",
              "  </thead>\n",
              "  <tbody>\n",
              "    <tr>\n",
              "      <th>0</th>\n",
              "      <td>2021-01-01</td>\n",
              "      <td>ZLW0EGC6</td>\n",
              "      <td>ST12000NM001G</td>\n",
              "      <td>12000138625024</td>\n",
              "      <td>0</td>\n",
              "      <td>83.0</td>\n",
              "      <td>213166608.0</td>\n",
              "      <td>NaN</td>\n",
              "      <td>NaN</td>\n",
              "      <td>99.0</td>\n",
              "      <td>...</td>\n",
              "      <td>100.0</td>\n",
              "      <td>7.022831e+10</td>\n",
              "      <td>NaN</td>\n",
              "      <td>NaN</td>\n",
              "      <td>NaN</td>\n",
              "      <td>NaN</td>\n",
              "      <td>NaN</td>\n",
              "      <td>NaN</td>\n",
              "      <td>NaN</td>\n",
              "      <td>NaN</td>\n",
              "    </tr>\n",
              "    <tr>\n",
              "      <th>1</th>\n",
              "      <td>2021-01-01</td>\n",
              "      <td>Z305B2QN</td>\n",
              "      <td>ST4000DM000</td>\n",
              "      <td>4000787030016</td>\n",
              "      <td>0</td>\n",
              "      <td>114.0</td>\n",
              "      <td>79306032.0</td>\n",
              "      <td>NaN</td>\n",
              "      <td>NaN</td>\n",
              "      <td>91.0</td>\n",
              "      <td>...</td>\n",
              "      <td>100.0</td>\n",
              "      <td>5.457889e+11</td>\n",
              "      <td>NaN</td>\n",
              "      <td>NaN</td>\n",
              "      <td>NaN</td>\n",
              "      <td>NaN</td>\n",
              "      <td>NaN</td>\n",
              "      <td>NaN</td>\n",
              "      <td>NaN</td>\n",
              "      <td>NaN</td>\n",
              "    </tr>\n",
              "    <tr>\n",
              "      <th>2</th>\n",
              "      <td>2021-01-01</td>\n",
              "      <td>ZLW0C6NE</td>\n",
              "      <td>ST12000NM001G</td>\n",
              "      <td>12000138625024</td>\n",
              "      <td>0</td>\n",
              "      <td>72.0</td>\n",
              "      <td>17162816.0</td>\n",
              "      <td>NaN</td>\n",
              "      <td>NaN</td>\n",
              "      <td>98.0</td>\n",
              "      <td>...</td>\n",
              "      <td>100.0</td>\n",
              "      <td>8.706921e+10</td>\n",
              "      <td>NaN</td>\n",
              "      <td>NaN</td>\n",
              "      <td>NaN</td>\n",
              "      <td>NaN</td>\n",
              "      <td>NaN</td>\n",
              "      <td>NaN</td>\n",
              "      <td>NaN</td>\n",
              "      <td>NaN</td>\n",
              "    </tr>\n",
              "    <tr>\n",
              "      <th>3</th>\n",
              "      <td>2021-01-01</td>\n",
              "      <td>ZJV0XJQ3</td>\n",
              "      <td>ST12000NM0007</td>\n",
              "      <td>12000138625024</td>\n",
              "      <td>0</td>\n",
              "      <td>100.0</td>\n",
              "      <td>1102160.0</td>\n",
              "      <td>NaN</td>\n",
              "      <td>NaN</td>\n",
              "      <td>98.0</td>\n",
              "      <td>...</td>\n",
              "      <td>100.0</td>\n",
              "      <td>1.295292e+11</td>\n",
              "      <td>NaN</td>\n",
              "      <td>NaN</td>\n",
              "      <td>NaN</td>\n",
              "      <td>NaN</td>\n",
              "      <td>NaN</td>\n",
              "      <td>NaN</td>\n",
              "      <td>NaN</td>\n",
              "      <td>NaN</td>\n",
              "    </tr>\n",
              "    <tr>\n",
              "      <th>4</th>\n",
              "      <td>2021-01-01</td>\n",
              "      <td>ZLW18MKT</td>\n",
              "      <td>ST14000NM001G</td>\n",
              "      <td>14000519643136</td>\n",
              "      <td>0</td>\n",
              "      <td>75.0</td>\n",
              "      <td>33233248.0</td>\n",
              "      <td>NaN</td>\n",
              "      <td>NaN</td>\n",
              "      <td>95.0</td>\n",
              "      <td>...</td>\n",
              "      <td>100.0</td>\n",
              "      <td>1.872005e+10</td>\n",
              "      <td>NaN</td>\n",
              "      <td>NaN</td>\n",
              "      <td>NaN</td>\n",
              "      <td>NaN</td>\n",
              "      <td>NaN</td>\n",
              "      <td>NaN</td>\n",
              "      <td>NaN</td>\n",
              "      <td>NaN</td>\n",
              "    </tr>\n",
              "  </tbody>\n",
              "</table>\n",
              "<p>5 rows × 123 columns</p>\n",
              "</div>\n",
              "      <button class=\"colab-df-convert\" onclick=\"convertToInteractive('df-cc75dc07-4d31-4c92-852a-b8d174c945ee')\"\n",
              "              title=\"Convert this dataframe to an interactive table.\"\n",
              "              style=\"display:none;\">\n",
              "        \n",
              "  <svg xmlns=\"http://www.w3.org/2000/svg\" height=\"24px\"viewBox=\"0 0 24 24\"\n",
              "       width=\"24px\">\n",
              "    <path d=\"M0 0h24v24H0V0z\" fill=\"none\"/>\n",
              "    <path d=\"M18.56 5.44l.94 2.06.94-2.06 2.06-.94-2.06-.94-.94-2.06-.94 2.06-2.06.94zm-11 1L8.5 8.5l.94-2.06 2.06-.94-2.06-.94L8.5 2.5l-.94 2.06-2.06.94zm10 10l.94 2.06.94-2.06 2.06-.94-2.06-.94-.94-2.06-.94 2.06-2.06.94z\"/><path d=\"M17.41 7.96l-1.37-1.37c-.4-.4-.92-.59-1.43-.59-.52 0-1.04.2-1.43.59L10.3 9.45l-7.72 7.72c-.78.78-.78 2.05 0 2.83L4 21.41c.39.39.9.59 1.41.59.51 0 1.02-.2 1.41-.59l7.78-7.78 2.81-2.81c.8-.78.8-2.07 0-2.86zM5.41 20L4 18.59l7.72-7.72 1.47 1.35L5.41 20z\"/>\n",
              "  </svg>\n",
              "      </button>\n",
              "      \n",
              "  <style>\n",
              "    .colab-df-container {\n",
              "      display:flex;\n",
              "      flex-wrap:wrap;\n",
              "      gap: 12px;\n",
              "    }\n",
              "\n",
              "    .colab-df-convert {\n",
              "      background-color: #E8F0FE;\n",
              "      border: none;\n",
              "      border-radius: 50%;\n",
              "      cursor: pointer;\n",
              "      display: none;\n",
              "      fill: #1967D2;\n",
              "      height: 32px;\n",
              "      padding: 0 0 0 0;\n",
              "      width: 32px;\n",
              "    }\n",
              "\n",
              "    .colab-df-convert:hover {\n",
              "      background-color: #E2EBFA;\n",
              "      box-shadow: 0px 1px 2px rgba(60, 64, 67, 0.3), 0px 1px 3px 1px rgba(60, 64, 67, 0.15);\n",
              "      fill: #174EA6;\n",
              "    }\n",
              "\n",
              "    [theme=dark] .colab-df-convert {\n",
              "      background-color: #3B4455;\n",
              "      fill: #D2E3FC;\n",
              "    }\n",
              "\n",
              "    [theme=dark] .colab-df-convert:hover {\n",
              "      background-color: #434B5C;\n",
              "      box-shadow: 0px 1px 3px 1px rgba(0, 0, 0, 0.15);\n",
              "      filter: drop-shadow(0px 1px 2px rgba(0, 0, 0, 0.3));\n",
              "      fill: #FFFFFF;\n",
              "    }\n",
              "  </style>\n",
              "\n",
              "      <script>\n",
              "        const buttonEl =\n",
              "          document.querySelector('#df-cc75dc07-4d31-4c92-852a-b8d174c945ee button.colab-df-convert');\n",
              "        buttonEl.style.display =\n",
              "          google.colab.kernel.accessAllowed ? 'block' : 'none';\n",
              "\n",
              "        async function convertToInteractive(key) {\n",
              "          const element = document.querySelector('#df-cc75dc07-4d31-4c92-852a-b8d174c945ee');\n",
              "          const dataTable =\n",
              "            await google.colab.kernel.invokeFunction('convertToInteractive',\n",
              "                                                     [key], {});\n",
              "          if (!dataTable) return;\n",
              "\n",
              "          const docLinkHtml = 'Like what you see? Visit the ' +\n",
              "            '<a target=\"_blank\" href=https://colab.research.google.com/notebooks/data_table.ipynb>data table notebook</a>'\n",
              "            + ' to learn more about interactive tables.';\n",
              "          element.innerHTML = '';\n",
              "          dataTable['output_type'] = 'display_data';\n",
              "          await google.colab.output.renderOutput(dataTable, element);\n",
              "          const docLink = document.createElement('div');\n",
              "          docLink.innerHTML = docLinkHtml;\n",
              "          element.appendChild(docLink);\n",
              "        }\n",
              "      </script>\n",
              "    </div>\n",
              "  </div>\n",
              "  "
            ]
          },
          "metadata": {},
          "execution_count": 17
        }
      ],
      "source": [
        "Test.head()"
      ]
    },
    {
      "cell_type": "code",
      "execution_count": 18,
      "metadata": {
        "id": "qIrnuvjuZac5",
        "colab": {
          "base_uri": "https://localhost:8080/"
        },
        "outputId": "c10333ca-de74-47b7-c0e7-196847a77b5a"
      },
      "outputs": [
        {
          "output_type": "stream",
          "name": "stdout",
          "text": [
            "date                    0.000000\n",
            "serial_number           0.000000\n",
            "model                   0.000000\n",
            "capacity_bytes          0.000000\n",
            "failure                 0.000000\n",
            "                          ...   \n",
            "smart_247_raw           0.999988\n",
            "smart_248_normalized    0.999988\n",
            "smart_248_raw           0.999988\n",
            "smart_254_normalized    0.998284\n",
            "smart_254_raw           0.998284\n",
            "Length: 123, dtype: float64\n"
          ]
        },
        {
          "output_type": "execute_result",
          "data": {
            "text/plain": [
              "90"
            ]
          },
          "metadata": {},
          "execution_count": 18
        }
      ],
      "source": [
        "# Finding the features which has NaN percentage greater than 50%\n",
        "M_features = Test.columns\n",
        "print(Test.isnull().sum(axis = 0) / len(Test))\n",
        "index = np.where(Test.isnull().sum(axis = 0) / len(Test) >= 0.5)[0]\n",
        "len(index) # Count of the found features."
      ]
    },
    {
      "cell_type": "code",
      "execution_count": 19,
      "metadata": {
        "id": "MoHqoQayZrVe",
        "colab": {
          "base_uri": "https://localhost:8080/"
        },
        "outputId": "6ca6cb67-135a-44d6-8a6b-15def259712f"
      },
      "outputs": [
        {
          "output_type": "execute_result",
          "data": {
            "text/plain": [
              "Index(['smart_2_normalized', 'smart_2_raw', 'smart_8_normalized',\n",
              "       'smart_8_raw', 'smart_11_normalized', 'smart_11_raw',\n",
              "       'smart_13_normalized', 'smart_13_raw', 'smart_16_normalized',\n",
              "       'smart_16_raw', 'smart_17_normalized', 'smart_17_raw',\n",
              "       'smart_18_normalized', 'smart_18_raw', 'smart_22_normalized',\n",
              "       'smart_22_raw', 'smart_23_normalized', 'smart_23_raw',\n",
              "       'smart_24_normalized', 'smart_24_raw', 'smart_168_normalized',\n",
              "       'smart_168_raw', 'smart_170_normalized', 'smart_170_raw',\n",
              "       'smart_173_normalized', 'smart_173_raw', 'smart_174_normalized',\n",
              "       'smart_174_raw', 'smart_175_normalized', 'smart_175_raw',\n",
              "       'smart_177_normalized', 'smart_177_raw', 'smart_179_normalized',\n",
              "       'smart_179_raw', 'smart_180_normalized', 'smart_180_raw',\n",
              "       'smart_181_normalized', 'smart_181_raw', 'smart_182_normalized',\n",
              "       'smart_182_raw', 'smart_183_normalized', 'smart_183_raw',\n",
              "       'smart_189_normalized', 'smart_189_raw', 'smart_191_normalized',\n",
              "       'smart_191_raw', 'smart_195_normalized', 'smart_195_raw',\n",
              "       'smart_200_normalized', 'smart_200_raw', 'smart_201_normalized',\n",
              "       'smart_201_raw', 'smart_202_normalized', 'smart_202_raw',\n",
              "       'smart_206_normalized', 'smart_206_raw', 'smart_210_normalized',\n",
              "       'smart_210_raw', 'smart_218_normalized', 'smart_218_raw',\n",
              "       'smart_220_normalized', 'smart_220_raw', 'smart_222_normalized',\n",
              "       'smart_222_raw', 'smart_223_normalized', 'smart_223_raw',\n",
              "       'smart_224_normalized', 'smart_224_raw', 'smart_225_normalized',\n",
              "       'smart_225_raw', 'smart_226_normalized', 'smart_226_raw',\n",
              "       'smart_231_normalized', 'smart_231_raw', 'smart_232_normalized',\n",
              "       'smart_232_raw', 'smart_233_normalized', 'smart_233_raw',\n",
              "       'smart_234_normalized', 'smart_234_raw', 'smart_235_normalized',\n",
              "       'smart_235_raw', 'smart_245_normalized', 'smart_245_raw',\n",
              "       'smart_247_normalized', 'smart_247_raw', 'smart_248_normalized',\n",
              "       'smart_248_raw', 'smart_254_normalized', 'smart_254_raw'],\n",
              "      dtype='object')"
            ]
          },
          "metadata": {},
          "execution_count": 19
        }
      ],
      "source": [
        "M_features[index]"
      ]
    },
    {
      "cell_type": "markdown",
      "metadata": {
        "id": "WXU7S9oQRTRY"
      },
      "source": [
        "##### These are the attributes which have more than 50% of NaN."
      ]
    },
    {
      "cell_type": "markdown",
      "metadata": {
        "id": "3xksfbafvM4j"
      },
      "source": [
        "# 3. Relevant Features for Dataset"
      ]
    },
    {
      "cell_type": "code",
      "execution_count": 20,
      "metadata": {
        "id": "kv6Ej__mDw9Y"
      },
      "outputs": [],
      "source": [
        "f = ['date',\t'serial_number',\t'model',\t'capacity_bytes',\t'failure']"
      ]
    },
    {
      "cell_type": "code",
      "execution_count": 21,
      "metadata": {
        "id": "ceWtz821xuBE",
        "colab": {
          "base_uri": "https://localhost:8080/"
        },
        "outputId": "1cb5eafb-cca1-45e3-999b-738fb10f9616"
      },
      "outputs": [
        {
          "output_type": "execute_result",
          "data": {
            "text/plain": [
              "10"
            ]
          },
          "metadata": {},
          "execution_count": 21
        }
      ],
      "source": [
        "Null = np.where(Data.isnull().sum(axis = 0) == len(Data))[0]\n",
        "len(Initial[Null])"
      ]
    },
    {
      "cell_type": "code",
      "execution_count": 22,
      "metadata": {
        "id": "gX70BgpLXmSr",
        "colab": {
          "base_uri": "https://localhost:8080/"
        },
        "outputId": "cc7e4da0-391c-4817-e05c-f81181260f18"
      },
      "outputs": [
        {
          "output_type": "stream",
          "name": "stdout",
          "text": [
            "(827509, 139)\n"
          ]
        }
      ],
      "source": [
        "# Dropping the features with all instances as NaN from the original Dataset.\n",
        "Data.dropna(how = 'all', axis = 1, inplace = True) \n",
        "print(Data.shape)\n",
        "del Test # Removing the Test Dataframe to free the memory."
      ]
    },
    {
      "cell_type": "code",
      "execution_count": 23,
      "metadata": {
        "id": "yHgE7Y6cZ7yY",
        "colab": {
          "base_uri": "https://localhost:8080/"
        },
        "outputId": "6c341424-0c4c-4294-e1ae-4b2350c2ec2d"
      },
      "outputs": [
        {
          "output_type": "execute_result",
          "data": {
            "text/plain": [
              "(827509, 49)"
            ]
          },
          "metadata": {},
          "execution_count": 23
        }
      ],
      "source": [
        "# Dropping the uncommon features found from above task from the original Dataset.\n",
        "Data.drop(M_features[index], axis = 1, inplace = True)\n",
        "Data.shape # Final shape of Data with relevant SMART attributes."
      ]
    },
    {
      "cell_type": "code",
      "execution_count": 24,
      "metadata": {
        "id": "MODn4jrYXmku",
        "colab": {
          "base_uri": "https://localhost:8080/",
          "height": 404
        },
        "outputId": "02d1ec2d-c740-4a53-9798-996ba315bb9f"
      },
      "outputs": [
        {
          "output_type": "stream",
          "name": "stdout",
          "text": [
            "Warning: Total number of columns (49) exceeds max_columns (20). Falling back to pandas display.\n"
          ]
        },
        {
          "output_type": "execute_result",
          "data": {
            "text/plain": [
              "        date serial_number          model  capacity_bytes  failure  \\\n",
              "0 2021-01-01      ZLW0EGC6  ST12000NM001G  12000138625024        0   \n",
              "1 2021-01-01      Z305B2QN    ST4000DM000   4000787030016        0   \n",
              "2 2021-01-01      ZLW0C6NE  ST12000NM001G  12000138625024        0   \n",
              "3 2021-01-01      ZJV0XJQ3  ST12000NM0007  12000138625024        0   \n",
              "4 2021-01-01      ZLW18MKT  ST14000NM001G  14000519643136        0   \n",
              "\n",
              "   smart_1_normalized  smart_1_raw  smart_3_normalized  smart_3_raw  \\\n",
              "0                83.0  213166608.0                99.0          0.0   \n",
              "1               114.0   79306032.0                91.0          0.0   \n",
              "2                72.0   17162816.0                98.0          0.0   \n",
              "3               100.0    1102160.0                98.0          0.0   \n",
              "4                75.0   33233248.0                95.0          0.0   \n",
              "\n",
              "   smart_4_normalized  ...  smart_198_normalized  smart_198_raw  \\\n",
              "0               100.0  ...                 100.0            0.0   \n",
              "1               100.0  ...                 100.0            0.0   \n",
              "2               100.0  ...                 100.0            0.0   \n",
              "3               100.0  ...                 100.0            0.0   \n",
              "4               100.0  ...                 100.0            0.0   \n",
              "\n",
              "   smart_199_normalized  smart_199_raw  smart_240_normalized  smart_240_raw  \\\n",
              "0                 200.0            0.0                 100.0         4910.0   \n",
              "1                 200.0            0.0                 100.0        44001.0   \n",
              "2                 200.0            0.0                 100.0         5414.0   \n",
              "3                 200.0            0.0                 100.0        17282.0   \n",
              "4                 200.0            0.0                 100.0          745.0   \n",
              "\n",
              "   smart_241_normalized  smart_241_raw  smart_242_normalized  smart_242_raw  \n",
              "0                 100.0   4.839342e+10                 100.0   7.022831e+10  \n",
              "1                 100.0   5.940338e+10                 100.0   5.457889e+11  \n",
              "2                 100.0   4.917863e+10                 100.0   8.706921e+10  \n",
              "3                 100.0   5.260102e+10                 100.0   1.295292e+11  \n",
              "4                 100.0   1.647225e+10                 100.0   1.872005e+10  \n",
              "\n",
              "[5 rows x 49 columns]"
            ],
            "text/html": [
              "\n",
              "  <div id=\"df-2e5227ee-1d63-42e9-9cc1-4537b7b38494\">\n",
              "    <div class=\"colab-df-container\">\n",
              "      <div>\n",
              "<style scoped>\n",
              "    .dataframe tbody tr th:only-of-type {\n",
              "        vertical-align: middle;\n",
              "    }\n",
              "\n",
              "    .dataframe tbody tr th {\n",
              "        vertical-align: top;\n",
              "    }\n",
              "\n",
              "    .dataframe thead th {\n",
              "        text-align: right;\n",
              "    }\n",
              "</style>\n",
              "<table border=\"1\" class=\"dataframe\">\n",
              "  <thead>\n",
              "    <tr style=\"text-align: right;\">\n",
              "      <th></th>\n",
              "      <th>date</th>\n",
              "      <th>serial_number</th>\n",
              "      <th>model</th>\n",
              "      <th>capacity_bytes</th>\n",
              "      <th>failure</th>\n",
              "      <th>smart_1_normalized</th>\n",
              "      <th>smart_1_raw</th>\n",
              "      <th>smart_3_normalized</th>\n",
              "      <th>smart_3_raw</th>\n",
              "      <th>smart_4_normalized</th>\n",
              "      <th>...</th>\n",
              "      <th>smart_198_normalized</th>\n",
              "      <th>smart_198_raw</th>\n",
              "      <th>smart_199_normalized</th>\n",
              "      <th>smart_199_raw</th>\n",
              "      <th>smart_240_normalized</th>\n",
              "      <th>smart_240_raw</th>\n",
              "      <th>smart_241_normalized</th>\n",
              "      <th>smart_241_raw</th>\n",
              "      <th>smart_242_normalized</th>\n",
              "      <th>smart_242_raw</th>\n",
              "    </tr>\n",
              "  </thead>\n",
              "  <tbody>\n",
              "    <tr>\n",
              "      <th>0</th>\n",
              "      <td>2021-01-01</td>\n",
              "      <td>ZLW0EGC6</td>\n",
              "      <td>ST12000NM001G</td>\n",
              "      <td>12000138625024</td>\n",
              "      <td>0</td>\n",
              "      <td>83.0</td>\n",
              "      <td>213166608.0</td>\n",
              "      <td>99.0</td>\n",
              "      <td>0.0</td>\n",
              "      <td>100.0</td>\n",
              "      <td>...</td>\n",
              "      <td>100.0</td>\n",
              "      <td>0.0</td>\n",
              "      <td>200.0</td>\n",
              "      <td>0.0</td>\n",
              "      <td>100.0</td>\n",
              "      <td>4910.0</td>\n",
              "      <td>100.0</td>\n",
              "      <td>4.839342e+10</td>\n",
              "      <td>100.0</td>\n",
              "      <td>7.022831e+10</td>\n",
              "    </tr>\n",
              "    <tr>\n",
              "      <th>1</th>\n",
              "      <td>2021-01-01</td>\n",
              "      <td>Z305B2QN</td>\n",
              "      <td>ST4000DM000</td>\n",
              "      <td>4000787030016</td>\n",
              "      <td>0</td>\n",
              "      <td>114.0</td>\n",
              "      <td>79306032.0</td>\n",
              "      <td>91.0</td>\n",
              "      <td>0.0</td>\n",
              "      <td>100.0</td>\n",
              "      <td>...</td>\n",
              "      <td>100.0</td>\n",
              "      <td>0.0</td>\n",
              "      <td>200.0</td>\n",
              "      <td>0.0</td>\n",
              "      <td>100.0</td>\n",
              "      <td>44001.0</td>\n",
              "      <td>100.0</td>\n",
              "      <td>5.940338e+10</td>\n",
              "      <td>100.0</td>\n",
              "      <td>5.457889e+11</td>\n",
              "    </tr>\n",
              "    <tr>\n",
              "      <th>2</th>\n",
              "      <td>2021-01-01</td>\n",
              "      <td>ZLW0C6NE</td>\n",
              "      <td>ST12000NM001G</td>\n",
              "      <td>12000138625024</td>\n",
              "      <td>0</td>\n",
              "      <td>72.0</td>\n",
              "      <td>17162816.0</td>\n",
              "      <td>98.0</td>\n",
              "      <td>0.0</td>\n",
              "      <td>100.0</td>\n",
              "      <td>...</td>\n",
              "      <td>100.0</td>\n",
              "      <td>0.0</td>\n",
              "      <td>200.0</td>\n",
              "      <td>0.0</td>\n",
              "      <td>100.0</td>\n",
              "      <td>5414.0</td>\n",
              "      <td>100.0</td>\n",
              "      <td>4.917863e+10</td>\n",
              "      <td>100.0</td>\n",
              "      <td>8.706921e+10</td>\n",
              "    </tr>\n",
              "    <tr>\n",
              "      <th>3</th>\n",
              "      <td>2021-01-01</td>\n",
              "      <td>ZJV0XJQ3</td>\n",
              "      <td>ST12000NM0007</td>\n",
              "      <td>12000138625024</td>\n",
              "      <td>0</td>\n",
              "      <td>100.0</td>\n",
              "      <td>1102160.0</td>\n",
              "      <td>98.0</td>\n",
              "      <td>0.0</td>\n",
              "      <td>100.0</td>\n",
              "      <td>...</td>\n",
              "      <td>100.0</td>\n",
              "      <td>0.0</td>\n",
              "      <td>200.0</td>\n",
              "      <td>0.0</td>\n",
              "      <td>100.0</td>\n",
              "      <td>17282.0</td>\n",
              "      <td>100.0</td>\n",
              "      <td>5.260102e+10</td>\n",
              "      <td>100.0</td>\n",
              "      <td>1.295292e+11</td>\n",
              "    </tr>\n",
              "    <tr>\n",
              "      <th>4</th>\n",
              "      <td>2021-01-01</td>\n",
              "      <td>ZLW18MKT</td>\n",
              "      <td>ST14000NM001G</td>\n",
              "      <td>14000519643136</td>\n",
              "      <td>0</td>\n",
              "      <td>75.0</td>\n",
              "      <td>33233248.0</td>\n",
              "      <td>95.0</td>\n",
              "      <td>0.0</td>\n",
              "      <td>100.0</td>\n",
              "      <td>...</td>\n",
              "      <td>100.0</td>\n",
              "      <td>0.0</td>\n",
              "      <td>200.0</td>\n",
              "      <td>0.0</td>\n",
              "      <td>100.0</td>\n",
              "      <td>745.0</td>\n",
              "      <td>100.0</td>\n",
              "      <td>1.647225e+10</td>\n",
              "      <td>100.0</td>\n",
              "      <td>1.872005e+10</td>\n",
              "    </tr>\n",
              "  </tbody>\n",
              "</table>\n",
              "<p>5 rows × 49 columns</p>\n",
              "</div>\n",
              "      <button class=\"colab-df-convert\" onclick=\"convertToInteractive('df-2e5227ee-1d63-42e9-9cc1-4537b7b38494')\"\n",
              "              title=\"Convert this dataframe to an interactive table.\"\n",
              "              style=\"display:none;\">\n",
              "        \n",
              "  <svg xmlns=\"http://www.w3.org/2000/svg\" height=\"24px\"viewBox=\"0 0 24 24\"\n",
              "       width=\"24px\">\n",
              "    <path d=\"M0 0h24v24H0V0z\" fill=\"none\"/>\n",
              "    <path d=\"M18.56 5.44l.94 2.06.94-2.06 2.06-.94-2.06-.94-.94-2.06-.94 2.06-2.06.94zm-11 1L8.5 8.5l.94-2.06 2.06-.94-2.06-.94L8.5 2.5l-.94 2.06-2.06.94zm10 10l.94 2.06.94-2.06 2.06-.94-2.06-.94-.94-2.06-.94 2.06-2.06.94z\"/><path d=\"M17.41 7.96l-1.37-1.37c-.4-.4-.92-.59-1.43-.59-.52 0-1.04.2-1.43.59L10.3 9.45l-7.72 7.72c-.78.78-.78 2.05 0 2.83L4 21.41c.39.39.9.59 1.41.59.51 0 1.02-.2 1.41-.59l7.78-7.78 2.81-2.81c.8-.78.8-2.07 0-2.86zM5.41 20L4 18.59l7.72-7.72 1.47 1.35L5.41 20z\"/>\n",
              "  </svg>\n",
              "      </button>\n",
              "      \n",
              "  <style>\n",
              "    .colab-df-container {\n",
              "      display:flex;\n",
              "      flex-wrap:wrap;\n",
              "      gap: 12px;\n",
              "    }\n",
              "\n",
              "    .colab-df-convert {\n",
              "      background-color: #E8F0FE;\n",
              "      border: none;\n",
              "      border-radius: 50%;\n",
              "      cursor: pointer;\n",
              "      display: none;\n",
              "      fill: #1967D2;\n",
              "      height: 32px;\n",
              "      padding: 0 0 0 0;\n",
              "      width: 32px;\n",
              "    }\n",
              "\n",
              "    .colab-df-convert:hover {\n",
              "      background-color: #E2EBFA;\n",
              "      box-shadow: 0px 1px 2px rgba(60, 64, 67, 0.3), 0px 1px 3px 1px rgba(60, 64, 67, 0.15);\n",
              "      fill: #174EA6;\n",
              "    }\n",
              "\n",
              "    [theme=dark] .colab-df-convert {\n",
              "      background-color: #3B4455;\n",
              "      fill: #D2E3FC;\n",
              "    }\n",
              "\n",
              "    [theme=dark] .colab-df-convert:hover {\n",
              "      background-color: #434B5C;\n",
              "      box-shadow: 0px 1px 3px 1px rgba(0, 0, 0, 0.15);\n",
              "      filter: drop-shadow(0px 1px 2px rgba(0, 0, 0, 0.3));\n",
              "      fill: #FFFFFF;\n",
              "    }\n",
              "  </style>\n",
              "\n",
              "      <script>\n",
              "        const buttonEl =\n",
              "          document.querySelector('#df-2e5227ee-1d63-42e9-9cc1-4537b7b38494 button.colab-df-convert');\n",
              "        buttonEl.style.display =\n",
              "          google.colab.kernel.accessAllowed ? 'block' : 'none';\n",
              "\n",
              "        async function convertToInteractive(key) {\n",
              "          const element = document.querySelector('#df-2e5227ee-1d63-42e9-9cc1-4537b7b38494');\n",
              "          const dataTable =\n",
              "            await google.colab.kernel.invokeFunction('convertToInteractive',\n",
              "                                                     [key], {});\n",
              "          if (!dataTable) return;\n",
              "\n",
              "          const docLinkHtml = 'Like what you see? Visit the ' +\n",
              "            '<a target=\"_blank\" href=https://colab.research.google.com/notebooks/data_table.ipynb>data table notebook</a>'\n",
              "            + ' to learn more about interactive tables.';\n",
              "          element.innerHTML = '';\n",
              "          dataTable['output_type'] = 'display_data';\n",
              "          await google.colab.output.renderOutput(dataTable, element);\n",
              "          const docLink = document.createElement('div');\n",
              "          docLink.innerHTML = docLinkHtml;\n",
              "          element.appendChild(docLink);\n",
              "        }\n",
              "      </script>\n",
              "    </div>\n",
              "  </div>\n",
              "  "
            ]
          },
          "metadata": {},
          "execution_count": 24
        }
      ],
      "source": [
        "Data.head()"
      ]
    },
    {
      "cell_type": "code",
      "execution_count": 25,
      "metadata": {
        "id": "cipKObSpgLZW",
        "colab": {
          "base_uri": "https://localhost:8080/",
          "height": 411
        },
        "outputId": "1c2acf94-684a-410a-f9ef-55a70c47f910"
      },
      "outputs": [
        {
          "output_type": "stream",
          "name": "stdout",
          "text": [
            "Warning: Total number of columns (46) exceeds max_columns (20). Falling back to pandas display.\n"
          ]
        },
        {
          "output_type": "execute_result",
          "data": {
            "text/plain": [
              "       capacity_bytes        failure  smart_1_normalized   smart_1_raw  \\\n",
              "count    8.275090e+05  827509.000000       826837.000000  8.268370e+05   \n",
              "mean     9.877604e+12       0.000029           92.109367  7.489772e+07   \n",
              "std      3.878876e+12       0.005385           13.814933  8.108625e+07   \n",
              "min     -1.000000e+00       0.000000           48.000000  0.000000e+00   \n",
              "25%      8.001563e+12       0.000000           81.000000  0.000000e+00   \n",
              "50%      1.200014e+13       0.000000          100.000000  4.528490e+07   \n",
              "75%      1.200014e+13       0.000000          100.000000  1.441926e+08   \n",
              "max      1.800021e+13       1.000000          200.000000  4.515787e+08   \n",
              "\n",
              "       smart_3_normalized    smart_3_raw  smart_4_normalized    smart_4_raw  \\\n",
              "count       821146.000000  821146.000000       821146.000000  821146.000000   \n",
              "mean            98.571473    1108.194427           99.998563       9.613792   \n",
              "std             15.400574    2610.030659            0.105493     113.979821   \n",
              "min             75.000000       0.000000           75.000000       1.000000   \n",
              "25%             91.000000       0.000000          100.000000       2.000000   \n",
              "50%             97.000000       0.000000          100.000000       5.000000   \n",
              "75%            100.000000     380.000000          100.000000      10.000000   \n",
              "max            253.000000   11111.000000          100.000000   25141.000000   \n",
              "\n",
              "       smart_5_normalized    smart_5_raw  ...  smart_198_normalized  \\\n",
              "count       821366.000000  821366.000000  ...         821366.000000   \n",
              "mean           100.555372      39.525386  ...            100.420319   \n",
              "std              8.978446    1035.302951  ...              7.992256   \n",
              "min              1.000000       0.000000  ...              1.000000   \n",
              "25%            100.000000       0.000000  ...            100.000000   \n",
              "50%            100.000000       0.000000  ...            100.000000   \n",
              "75%            100.000000       0.000000  ...            100.000000   \n",
              "max            252.000000   65480.000000  ...            252.000000   \n",
              "\n",
              "       smart_198_raw  smart_199_normalized  smart_199_raw  \\\n",
              "count  821366.000000         821366.000000  821366.000000   \n",
              "mean        0.411193            196.317354       0.523777   \n",
              "std       101.417785             18.833564      37.496426   \n",
              "min         0.000000            100.000000       0.000000   \n",
              "25%         0.000000            200.000000       0.000000   \n",
              "50%         0.000000            200.000000       0.000000   \n",
              "75%         0.000000            200.000000       0.000000   \n",
              "max     41040.000000            200.000000    7670.000000   \n",
              "\n",
              "       smart_240_normalized  smart_240_raw  smart_241_normalized  \\\n",
              "count         617451.000000  617451.000000         531854.000000   \n",
              "mean              99.958756   19539.948509            100.009401   \n",
              "std                1.596372   16815.497165              0.969547   \n",
              "min                8.000000       0.000000            100.000000   \n",
              "25%              100.000000    2641.000000            100.000000   \n",
              "50%              100.000000   17421.000000            100.000000   \n",
              "75%              100.000000   33203.000000            100.000000   \n",
              "max              100.000000   67845.000000            200.000000   \n",
              "\n",
              "       smart_241_raw  smart_242_normalized  smart_242_raw  \n",
              "count   5.318540e+05         531844.000000   5.318440e+05  \n",
              "mean    5.612417e+10            100.009401   1.923745e+11  \n",
              "std     1.795249e+10              0.969556   1.765763e+11  \n",
              "min     0.000000e+00            100.000000   1.000000e+00  \n",
              "25%     4.848800e+10            100.000000   1.001612e+11  \n",
              "50%     5.912925e+10            100.000000   2.255465e+11  \n",
              "75%     6.771780e+10            100.000000   2.620806e+11  \n",
              "max     2.202436e+11            200.000000   2.818246e+13  \n",
              "\n",
              "[8 rows x 46 columns]"
            ],
            "text/html": [
              "\n",
              "  <div id=\"df-41a1415d-d461-4236-a43f-7030345b9785\">\n",
              "    <div class=\"colab-df-container\">\n",
              "      <div>\n",
              "<style scoped>\n",
              "    .dataframe tbody tr th:only-of-type {\n",
              "        vertical-align: middle;\n",
              "    }\n",
              "\n",
              "    .dataframe tbody tr th {\n",
              "        vertical-align: top;\n",
              "    }\n",
              "\n",
              "    .dataframe thead th {\n",
              "        text-align: right;\n",
              "    }\n",
              "</style>\n",
              "<table border=\"1\" class=\"dataframe\">\n",
              "  <thead>\n",
              "    <tr style=\"text-align: right;\">\n",
              "      <th></th>\n",
              "      <th>capacity_bytes</th>\n",
              "      <th>failure</th>\n",
              "      <th>smart_1_normalized</th>\n",
              "      <th>smart_1_raw</th>\n",
              "      <th>smart_3_normalized</th>\n",
              "      <th>smart_3_raw</th>\n",
              "      <th>smart_4_normalized</th>\n",
              "      <th>smart_4_raw</th>\n",
              "      <th>smart_5_normalized</th>\n",
              "      <th>smart_5_raw</th>\n",
              "      <th>...</th>\n",
              "      <th>smart_198_normalized</th>\n",
              "      <th>smart_198_raw</th>\n",
              "      <th>smart_199_normalized</th>\n",
              "      <th>smart_199_raw</th>\n",
              "      <th>smart_240_normalized</th>\n",
              "      <th>smart_240_raw</th>\n",
              "      <th>smart_241_normalized</th>\n",
              "      <th>smart_241_raw</th>\n",
              "      <th>smart_242_normalized</th>\n",
              "      <th>smart_242_raw</th>\n",
              "    </tr>\n",
              "  </thead>\n",
              "  <tbody>\n",
              "    <tr>\n",
              "      <th>count</th>\n",
              "      <td>8.275090e+05</td>\n",
              "      <td>827509.000000</td>\n",
              "      <td>826837.000000</td>\n",
              "      <td>8.268370e+05</td>\n",
              "      <td>821146.000000</td>\n",
              "      <td>821146.000000</td>\n",
              "      <td>821146.000000</td>\n",
              "      <td>821146.000000</td>\n",
              "      <td>821366.000000</td>\n",
              "      <td>821366.000000</td>\n",
              "      <td>...</td>\n",
              "      <td>821366.000000</td>\n",
              "      <td>821366.000000</td>\n",
              "      <td>821366.000000</td>\n",
              "      <td>821366.000000</td>\n",
              "      <td>617451.000000</td>\n",
              "      <td>617451.000000</td>\n",
              "      <td>531854.000000</td>\n",
              "      <td>5.318540e+05</td>\n",
              "      <td>531844.000000</td>\n",
              "      <td>5.318440e+05</td>\n",
              "    </tr>\n",
              "    <tr>\n",
              "      <th>mean</th>\n",
              "      <td>9.877604e+12</td>\n",
              "      <td>0.000029</td>\n",
              "      <td>92.109367</td>\n",
              "      <td>7.489772e+07</td>\n",
              "      <td>98.571473</td>\n",
              "      <td>1108.194427</td>\n",
              "      <td>99.998563</td>\n",
              "      <td>9.613792</td>\n",
              "      <td>100.555372</td>\n",
              "      <td>39.525386</td>\n",
              "      <td>...</td>\n",
              "      <td>100.420319</td>\n",
              "      <td>0.411193</td>\n",
              "      <td>196.317354</td>\n",
              "      <td>0.523777</td>\n",
              "      <td>99.958756</td>\n",
              "      <td>19539.948509</td>\n",
              "      <td>100.009401</td>\n",
              "      <td>5.612417e+10</td>\n",
              "      <td>100.009401</td>\n",
              "      <td>1.923745e+11</td>\n",
              "    </tr>\n",
              "    <tr>\n",
              "      <th>std</th>\n",
              "      <td>3.878876e+12</td>\n",
              "      <td>0.005385</td>\n",
              "      <td>13.814933</td>\n",
              "      <td>8.108625e+07</td>\n",
              "      <td>15.400574</td>\n",
              "      <td>2610.030659</td>\n",
              "      <td>0.105493</td>\n",
              "      <td>113.979821</td>\n",
              "      <td>8.978446</td>\n",
              "      <td>1035.302951</td>\n",
              "      <td>...</td>\n",
              "      <td>7.992256</td>\n",
              "      <td>101.417785</td>\n",
              "      <td>18.833564</td>\n",
              "      <td>37.496426</td>\n",
              "      <td>1.596372</td>\n",
              "      <td>16815.497165</td>\n",
              "      <td>0.969547</td>\n",
              "      <td>1.795249e+10</td>\n",
              "      <td>0.969556</td>\n",
              "      <td>1.765763e+11</td>\n",
              "    </tr>\n",
              "    <tr>\n",
              "      <th>min</th>\n",
              "      <td>-1.000000e+00</td>\n",
              "      <td>0.000000</td>\n",
              "      <td>48.000000</td>\n",
              "      <td>0.000000e+00</td>\n",
              "      <td>75.000000</td>\n",
              "      <td>0.000000</td>\n",
              "      <td>75.000000</td>\n",
              "      <td>1.000000</td>\n",
              "      <td>1.000000</td>\n",
              "      <td>0.000000</td>\n",
              "      <td>...</td>\n",
              "      <td>1.000000</td>\n",
              "      <td>0.000000</td>\n",
              "      <td>100.000000</td>\n",
              "      <td>0.000000</td>\n",
              "      <td>8.000000</td>\n",
              "      <td>0.000000</td>\n",
              "      <td>100.000000</td>\n",
              "      <td>0.000000e+00</td>\n",
              "      <td>100.000000</td>\n",
              "      <td>1.000000e+00</td>\n",
              "    </tr>\n",
              "    <tr>\n",
              "      <th>25%</th>\n",
              "      <td>8.001563e+12</td>\n",
              "      <td>0.000000</td>\n",
              "      <td>81.000000</td>\n",
              "      <td>0.000000e+00</td>\n",
              "      <td>91.000000</td>\n",
              "      <td>0.000000</td>\n",
              "      <td>100.000000</td>\n",
              "      <td>2.000000</td>\n",
              "      <td>100.000000</td>\n",
              "      <td>0.000000</td>\n",
              "      <td>...</td>\n",
              "      <td>100.000000</td>\n",
              "      <td>0.000000</td>\n",
              "      <td>200.000000</td>\n",
              "      <td>0.000000</td>\n",
              "      <td>100.000000</td>\n",
              "      <td>2641.000000</td>\n",
              "      <td>100.000000</td>\n",
              "      <td>4.848800e+10</td>\n",
              "      <td>100.000000</td>\n",
              "      <td>1.001612e+11</td>\n",
              "    </tr>\n",
              "    <tr>\n",
              "      <th>50%</th>\n",
              "      <td>1.200014e+13</td>\n",
              "      <td>0.000000</td>\n",
              "      <td>100.000000</td>\n",
              "      <td>4.528490e+07</td>\n",
              "      <td>97.000000</td>\n",
              "      <td>0.000000</td>\n",
              "      <td>100.000000</td>\n",
              "      <td>5.000000</td>\n",
              "      <td>100.000000</td>\n",
              "      <td>0.000000</td>\n",
              "      <td>...</td>\n",
              "      <td>100.000000</td>\n",
              "      <td>0.000000</td>\n",
              "      <td>200.000000</td>\n",
              "      <td>0.000000</td>\n",
              "      <td>100.000000</td>\n",
              "      <td>17421.000000</td>\n",
              "      <td>100.000000</td>\n",
              "      <td>5.912925e+10</td>\n",
              "      <td>100.000000</td>\n",
              "      <td>2.255465e+11</td>\n",
              "    </tr>\n",
              "    <tr>\n",
              "      <th>75%</th>\n",
              "      <td>1.200014e+13</td>\n",
              "      <td>0.000000</td>\n",
              "      <td>100.000000</td>\n",
              "      <td>1.441926e+08</td>\n",
              "      <td>100.000000</td>\n",
              "      <td>380.000000</td>\n",
              "      <td>100.000000</td>\n",
              "      <td>10.000000</td>\n",
              "      <td>100.000000</td>\n",
              "      <td>0.000000</td>\n",
              "      <td>...</td>\n",
              "      <td>100.000000</td>\n",
              "      <td>0.000000</td>\n",
              "      <td>200.000000</td>\n",
              "      <td>0.000000</td>\n",
              "      <td>100.000000</td>\n",
              "      <td>33203.000000</td>\n",
              "      <td>100.000000</td>\n",
              "      <td>6.771780e+10</td>\n",
              "      <td>100.000000</td>\n",
              "      <td>2.620806e+11</td>\n",
              "    </tr>\n",
              "    <tr>\n",
              "      <th>max</th>\n",
              "      <td>1.800021e+13</td>\n",
              "      <td>1.000000</td>\n",
              "      <td>200.000000</td>\n",
              "      <td>4.515787e+08</td>\n",
              "      <td>253.000000</td>\n",
              "      <td>11111.000000</td>\n",
              "      <td>100.000000</td>\n",
              "      <td>25141.000000</td>\n",
              "      <td>252.000000</td>\n",
              "      <td>65480.000000</td>\n",
              "      <td>...</td>\n",
              "      <td>252.000000</td>\n",
              "      <td>41040.000000</td>\n",
              "      <td>200.000000</td>\n",
              "      <td>7670.000000</td>\n",
              "      <td>100.000000</td>\n",
              "      <td>67845.000000</td>\n",
              "      <td>200.000000</td>\n",
              "      <td>2.202436e+11</td>\n",
              "      <td>200.000000</td>\n",
              "      <td>2.818246e+13</td>\n",
              "    </tr>\n",
              "  </tbody>\n",
              "</table>\n",
              "<p>8 rows × 46 columns</p>\n",
              "</div>\n",
              "      <button class=\"colab-df-convert\" onclick=\"convertToInteractive('df-41a1415d-d461-4236-a43f-7030345b9785')\"\n",
              "              title=\"Convert this dataframe to an interactive table.\"\n",
              "              style=\"display:none;\">\n",
              "        \n",
              "  <svg xmlns=\"http://www.w3.org/2000/svg\" height=\"24px\"viewBox=\"0 0 24 24\"\n",
              "       width=\"24px\">\n",
              "    <path d=\"M0 0h24v24H0V0z\" fill=\"none\"/>\n",
              "    <path d=\"M18.56 5.44l.94 2.06.94-2.06 2.06-.94-2.06-.94-.94-2.06-.94 2.06-2.06.94zm-11 1L8.5 8.5l.94-2.06 2.06-.94-2.06-.94L8.5 2.5l-.94 2.06-2.06.94zm10 10l.94 2.06.94-2.06 2.06-.94-2.06-.94-.94-2.06-.94 2.06-2.06.94z\"/><path d=\"M17.41 7.96l-1.37-1.37c-.4-.4-.92-.59-1.43-.59-.52 0-1.04.2-1.43.59L10.3 9.45l-7.72 7.72c-.78.78-.78 2.05 0 2.83L4 21.41c.39.39.9.59 1.41.59.51 0 1.02-.2 1.41-.59l7.78-7.78 2.81-2.81c.8-.78.8-2.07 0-2.86zM5.41 20L4 18.59l7.72-7.72 1.47 1.35L5.41 20z\"/>\n",
              "  </svg>\n",
              "      </button>\n",
              "      \n",
              "  <style>\n",
              "    .colab-df-container {\n",
              "      display:flex;\n",
              "      flex-wrap:wrap;\n",
              "      gap: 12px;\n",
              "    }\n",
              "\n",
              "    .colab-df-convert {\n",
              "      background-color: #E8F0FE;\n",
              "      border: none;\n",
              "      border-radius: 50%;\n",
              "      cursor: pointer;\n",
              "      display: none;\n",
              "      fill: #1967D2;\n",
              "      height: 32px;\n",
              "      padding: 0 0 0 0;\n",
              "      width: 32px;\n",
              "    }\n",
              "\n",
              "    .colab-df-convert:hover {\n",
              "      background-color: #E2EBFA;\n",
              "      box-shadow: 0px 1px 2px rgba(60, 64, 67, 0.3), 0px 1px 3px 1px rgba(60, 64, 67, 0.15);\n",
              "      fill: #174EA6;\n",
              "    }\n",
              "\n",
              "    [theme=dark] .colab-df-convert {\n",
              "      background-color: #3B4455;\n",
              "      fill: #D2E3FC;\n",
              "    }\n",
              "\n",
              "    [theme=dark] .colab-df-convert:hover {\n",
              "      background-color: #434B5C;\n",
              "      box-shadow: 0px 1px 3px 1px rgba(0, 0, 0, 0.15);\n",
              "      filter: drop-shadow(0px 1px 2px rgba(0, 0, 0, 0.3));\n",
              "      fill: #FFFFFF;\n",
              "    }\n",
              "  </style>\n",
              "\n",
              "      <script>\n",
              "        const buttonEl =\n",
              "          document.querySelector('#df-41a1415d-d461-4236-a43f-7030345b9785 button.colab-df-convert');\n",
              "        buttonEl.style.display =\n",
              "          google.colab.kernel.accessAllowed ? 'block' : 'none';\n",
              "\n",
              "        async function convertToInteractive(key) {\n",
              "          const element = document.querySelector('#df-41a1415d-d461-4236-a43f-7030345b9785');\n",
              "          const dataTable =\n",
              "            await google.colab.kernel.invokeFunction('convertToInteractive',\n",
              "                                                     [key], {});\n",
              "          if (!dataTable) return;\n",
              "\n",
              "          const docLinkHtml = 'Like what you see? Visit the ' +\n",
              "            '<a target=\"_blank\" href=https://colab.research.google.com/notebooks/data_table.ipynb>data table notebook</a>'\n",
              "            + ' to learn more about interactive tables.';\n",
              "          element.innerHTML = '';\n",
              "          dataTable['output_type'] = 'display_data';\n",
              "          await google.colab.output.renderOutput(dataTable, element);\n",
              "          const docLink = document.createElement('div');\n",
              "          docLink.innerHTML = docLinkHtml;\n",
              "          element.appendChild(docLink);\n",
              "        }\n",
              "      </script>\n",
              "    </div>\n",
              "  </div>\n",
              "  "
            ]
          },
          "metadata": {},
          "execution_count": 25
        }
      ],
      "source": [
        "Data.describe()"
      ]
    },
    {
      "cell_type": "code",
      "execution_count": 26,
      "metadata": {
        "id": "AbWfLdnnmZ6D",
        "colab": {
          "base_uri": "https://localhost:8080/"
        },
        "outputId": "5bc56248-2b81-4229-f43f-abf3fb1c21b3"
      },
      "outputs": [
        {
          "output_type": "execute_result",
          "data": {
            "text/plain": [
              "Index(['date', 'serial_number', 'model', 'capacity_bytes', 'failure',\n",
              "       'smart_1_normalized', 'smart_1_raw', 'smart_3_normalized',\n",
              "       'smart_3_raw', 'smart_4_normalized', 'smart_4_raw',\n",
              "       'smart_5_normalized', 'smart_5_raw', 'smart_7_normalized',\n",
              "       'smart_7_raw', 'smart_9_normalized', 'smart_9_raw',\n",
              "       'smart_10_normalized', 'smart_10_raw', 'smart_12_normalized',\n",
              "       'smart_12_raw', 'smart_184_normalized', 'smart_184_raw',\n",
              "       'smart_187_normalized', 'smart_187_raw', 'smart_188_normalized',\n",
              "       'smart_188_raw', 'smart_190_normalized', 'smart_190_raw',\n",
              "       'smart_192_normalized', 'smart_192_raw', 'smart_193_normalized',\n",
              "       'smart_193_raw', 'smart_194_normalized', 'smart_194_raw',\n",
              "       'smart_196_normalized', 'smart_196_raw', 'smart_197_normalized',\n",
              "       'smart_197_raw', 'smart_198_normalized', 'smart_198_raw',\n",
              "       'smart_199_normalized', 'smart_199_raw', 'smart_240_normalized',\n",
              "       'smart_240_raw', 'smart_241_normalized', 'smart_241_raw',\n",
              "       'smart_242_normalized', 'smart_242_raw'],\n",
              "      dtype='object')"
            ]
          },
          "metadata": {},
          "execution_count": 26
        }
      ],
      "source": [
        "RE = Data.columns \n",
        "RE"
      ]
    },
    {
      "cell_type": "code",
      "execution_count": 27,
      "metadata": {
        "id": "CzgZTu7bM8bd",
        "colab": {
          "base_uri": "https://localhost:8080/"
        },
        "outputId": "ec3a58d2-e30f-4a91-de6b-15c7c17a11f3"
      },
      "outputs": [
        {
          "output_type": "execute_result",
          "data": {
            "text/plain": [
              " 12000.0    326984\n",
              " 4000.0     174751\n",
              " 14000.0    167734\n",
              " 8001.0     126496\n",
              " 500.0        8713\n",
              " 10000.0      6076\n",
              " 16000.0      5693\n",
              " 250.0        5361\n",
              " 6001.0       4490\n",
              " 480.0         600\n",
              " 18000.0       300\n",
              " 240.0         200\n",
              "-1.0            86\n",
              " 2000.0         20\n",
              " 1000.0          5\n",
              "Name: capacity_bytes, dtype: int64"
            ]
          },
          "metadata": {},
          "execution_count": 27
        }
      ],
      "source": [
        "# Since the capacity is in \"bytes\" notation, it is difficult to interpret so it is converted into \"GB\" notation.\n",
        "Data['capacity_bytes'] = (Data['capacity_bytes'] // 1e+9)\n",
        "Data['capacity_bytes'].value_counts() # Finding the counts of each category of HDD based on GB size."
      ]
    },
    {
      "cell_type": "markdown",
      "metadata": {
        "id": "FitTbo9QxMYg"
      },
      "source": [
        "From the above capacity_bytes unique counts, it is found that there is unmatched size value (-1) which is seems to be odd, so datapoints with that capacity is removed."
      ]
    },
    {
      "cell_type": "code",
      "execution_count": 28,
      "metadata": {
        "id": "cSZt6F47T0z0",
        "colab": {
          "base_uri": "https://localhost:8080/"
        },
        "outputId": "9f25d38b-4ccf-4b72-9eec-2f516ddf942b"
      },
      "outputs": [
        {
          "output_type": "stream",
          "name": "stdout",
          "text": [
            "(827509, 49)\n",
            "(827423, 49)\n"
          ]
        }
      ],
      "source": [
        "# Removal of odd capacity datapoints.\n",
        "print(Data.shape)\n",
        "Data.drop(np.where(Data['capacity_bytes'] == -1)[0], inplace = True)\n",
        "print(Data.shape)"
      ]
    },
    {
      "cell_type": "code",
      "execution_count": 29,
      "metadata": {
        "id": "RVXPlqR3ck8L",
        "colab": {
          "base_uri": "https://localhost:8080/"
        },
        "outputId": "e81be8e3-6da7-4153-a197-7e9dfb0700ee"
      },
      "outputs": [
        {
          "output_type": "execute_result",
          "data": {
            "text/plain": [
              "date                    0\n",
              "serial_number           0\n",
              "model                   0\n",
              "capacity_bytes          0\n",
              "failure                 0\n",
              "smart_1_normalized      0\n",
              "smart_1_raw             0\n",
              "smart_3_normalized      0\n",
              "smart_3_raw             0\n",
              "smart_4_normalized      0\n",
              "smart_4_raw             0\n",
              "smart_5_normalized      0\n",
              "smart_5_raw             0\n",
              "smart_7_normalized      0\n",
              "smart_7_raw             0\n",
              "smart_9_normalized      0\n",
              "smart_9_raw             0\n",
              "smart_10_normalized     0\n",
              "smart_10_raw            0\n",
              "smart_12_normalized     0\n",
              "smart_12_raw            0\n",
              "smart_184_normalized    0\n",
              "smart_184_raw           0\n",
              "smart_187_normalized    0\n",
              "smart_187_raw           0\n",
              "smart_188_normalized    0\n",
              "smart_188_raw           0\n",
              "smart_190_normalized    0\n",
              "smart_190_raw           0\n",
              "smart_192_normalized    0\n",
              "smart_192_raw           0\n",
              "smart_193_normalized    0\n",
              "smart_193_raw           0\n",
              "smart_194_normalized    0\n",
              "smart_194_raw           0\n",
              "smart_196_normalized    0\n",
              "smart_196_raw           0\n",
              "smart_197_normalized    0\n",
              "smart_197_raw           0\n",
              "smart_198_normalized    0\n",
              "smart_198_raw           0\n",
              "smart_199_normalized    0\n",
              "smart_199_raw           0\n",
              "smart_240_normalized    0\n",
              "smart_240_raw           0\n",
              "smart_241_normalized    0\n",
              "smart_241_raw           0\n",
              "smart_242_normalized    0\n",
              "smart_242_raw           0\n",
              "dtype: int64"
            ]
          },
          "metadata": {},
          "execution_count": 29
        }
      ],
      "source": [
        "# Filling the NaN values with zero since imputing with anyother values,\n",
        "# may not be suitable as per the BalckBlaze documentation on SMART attributes.\n",
        "\n",
        "Data = Data.fillna(0)\n",
        "Data.isnull().sum(axis = 0)"
      ]
    },
    {
      "cell_type": "markdown",
      "metadata": {
        "id": "RwjKo-wdj02P"
      },
      "source": [
        "# 4. Feature Engineering\n",
        "\n",
        "\n",
        "\n",
        "\n",
        "\n"
      ]
    },
    {
      "cell_type": "markdown",
      "metadata": {
        "id": "QGLFRXD3LASV"
      },
      "source": [
        "> Feature engineering based on correlation of attributes with target variable(Failure).\n",
        "\n",
        "> Mathematical based feature engineering."
      ]
    },
    {
      "cell_type": "code",
      "execution_count": 30,
      "metadata": {
        "id": "T7ykLcgvoriF",
        "colab": {
          "base_uri": "https://localhost:8080/"
        },
        "outputId": "811f5aae-f155-4a6f-d2a3-9b5578424fcc"
      },
      "outputs": [
        {
          "output_type": "execute_result",
          "data": {
            "text/plain": [
              "(827423, 49)"
            ]
          },
          "metadata": {},
          "execution_count": 30
        }
      ],
      "source": [
        "Test = Data.copy()\n",
        "Test.shape "
      ]
    },
    {
      "cell_type": "code",
      "execution_count": 31,
      "metadata": {
        "id": "eSvRSBLVvNWw",
        "colab": {
          "base_uri": "https://localhost:8080/",
          "height": 411
        },
        "outputId": "67e820d0-2f93-493e-d2e3-840b1b7c51f4"
      },
      "outputs": [
        {
          "output_type": "stream",
          "name": "stdout",
          "text": [
            "Warning: Total number of columns (46) exceeds max_columns (20). Falling back to pandas display.\n"
          ]
        },
        {
          "output_type": "execute_result",
          "data": {
            "text/plain": [
              "       capacity_bytes        failure  smart_1_normalized   smart_1_raw  \\\n",
              "count   827423.000000  827423.000000       827423.000000  8.274230e+05   \n",
              "mean      9878.203453       0.000029           92.044133  7.484468e+07   \n",
              "std       3877.916088       0.005386           14.025749  8.108202e+07   \n",
              "min        240.000000       0.000000            0.000000  0.000000e+00   \n",
              "25%       8001.000000       0.000000           81.000000  0.000000e+00   \n",
              "50%      12000.000000       0.000000          100.000000  4.514909e+07   \n",
              "75%      12000.000000       0.000000          100.000000  1.441262e+08   \n",
              "max      18000.000000       1.000000          200.000000  4.515787e+08   \n",
              "\n",
              "       smart_3_normalized    smart_3_raw  smart_4_normalized    smart_4_raw  \\\n",
              "count       827423.000000  827423.000000       827423.000000  827423.000000   \n",
              "mean            97.823690    1099.787438           99.239953       9.540860   \n",
              "std             17.565005    2601.889063            8.677299     113.549724   \n",
              "min              0.000000       0.000000            0.000000       0.000000   \n",
              "25%             91.000000       0.000000          100.000000       2.000000   \n",
              "50%             97.000000       0.000000          100.000000       5.000000   \n",
              "75%            100.000000     380.000000          100.000000      10.000000   \n",
              "max            253.000000   11111.000000          100.000000   25141.000000   \n",
              "\n",
              "       smart_5_normalized    smart_5_raw  ...  smart_198_normalized  \\\n",
              "count       827423.000000  827423.000000  ...         827423.000000   \n",
              "mean            99.819275      39.236047  ...             99.685211   \n",
              "std             12.389478    1031.512115  ...             11.691369   \n",
              "min              0.000000       0.000000  ...              0.000000   \n",
              "25%            100.000000       0.000000  ...            100.000000   \n",
              "50%            100.000000       0.000000  ...            100.000000   \n",
              "75%            100.000000       0.000000  ...            100.000000   \n",
              "max            252.000000   65480.000000  ...            252.000000   \n",
              "\n",
              "       smart_198_raw  smart_199_normalized  smart_199_raw  \\\n",
              "count  827423.000000         827423.000000  827423.000000   \n",
              "mean        0.408183            194.880249       0.519943   \n",
              "std       101.045904             25.142999      37.358957   \n",
              "min         0.000000              0.000000       0.000000   \n",
              "25%         0.000000            200.000000       0.000000   \n",
              "50%         0.000000            200.000000       0.000000   \n",
              "75%         0.000000            200.000000       0.000000   \n",
              "max     41040.000000            200.000000    7670.000000   \n",
              "\n",
              "       smart_240_normalized  smart_240_raw  smart_241_normalized  \\\n",
              "count         827423.000000  827423.000000         827423.000000   \n",
              "mean              74.592601   14581.369804             64.284411   \n",
              "std               43.520472   16831.774762             47.928770   \n",
              "min                0.000000       0.000000              0.000000   \n",
              "25%                0.000000       0.000000              0.000000   \n",
              "50%              100.000000    5816.000000            100.000000   \n",
              "75%              100.000000   29337.000000            100.000000   \n",
              "max              100.000000   67845.000000            200.000000   \n",
              "\n",
              "       smart_241_raw  smart_242_normalized  smart_242_raw  \n",
              "count   8.274230e+05         827423.000000   8.274230e+05  \n",
              "mean    3.607570e+10             64.283202   1.236529e+11  \n",
              "std     3.050290e+10             47.929130   1.689341e+11  \n",
              "min     0.000000e+00              0.000000   0.000000e+00  \n",
              "25%     0.000000e+00              0.000000   0.000000e+00  \n",
              "50%     4.683655e+10            100.000000   9.188942e+10  \n",
              "75%     6.341446e+10            100.000000   2.468640e+11  \n",
              "max     2.202436e+11            200.000000   2.818246e+13  \n",
              "\n",
              "[8 rows x 46 columns]"
            ],
            "text/html": [
              "\n",
              "  <div id=\"df-6356a6ff-dca5-4947-a164-25c19e559048\">\n",
              "    <div class=\"colab-df-container\">\n",
              "      <div>\n",
              "<style scoped>\n",
              "    .dataframe tbody tr th:only-of-type {\n",
              "        vertical-align: middle;\n",
              "    }\n",
              "\n",
              "    .dataframe tbody tr th {\n",
              "        vertical-align: top;\n",
              "    }\n",
              "\n",
              "    .dataframe thead th {\n",
              "        text-align: right;\n",
              "    }\n",
              "</style>\n",
              "<table border=\"1\" class=\"dataframe\">\n",
              "  <thead>\n",
              "    <tr style=\"text-align: right;\">\n",
              "      <th></th>\n",
              "      <th>capacity_bytes</th>\n",
              "      <th>failure</th>\n",
              "      <th>smart_1_normalized</th>\n",
              "      <th>smart_1_raw</th>\n",
              "      <th>smart_3_normalized</th>\n",
              "      <th>smart_3_raw</th>\n",
              "      <th>smart_4_normalized</th>\n",
              "      <th>smart_4_raw</th>\n",
              "      <th>smart_5_normalized</th>\n",
              "      <th>smart_5_raw</th>\n",
              "      <th>...</th>\n",
              "      <th>smart_198_normalized</th>\n",
              "      <th>smart_198_raw</th>\n",
              "      <th>smart_199_normalized</th>\n",
              "      <th>smart_199_raw</th>\n",
              "      <th>smart_240_normalized</th>\n",
              "      <th>smart_240_raw</th>\n",
              "      <th>smart_241_normalized</th>\n",
              "      <th>smart_241_raw</th>\n",
              "      <th>smart_242_normalized</th>\n",
              "      <th>smart_242_raw</th>\n",
              "    </tr>\n",
              "  </thead>\n",
              "  <tbody>\n",
              "    <tr>\n",
              "      <th>count</th>\n",
              "      <td>827423.000000</td>\n",
              "      <td>827423.000000</td>\n",
              "      <td>827423.000000</td>\n",
              "      <td>8.274230e+05</td>\n",
              "      <td>827423.000000</td>\n",
              "      <td>827423.000000</td>\n",
              "      <td>827423.000000</td>\n",
              "      <td>827423.000000</td>\n",
              "      <td>827423.000000</td>\n",
              "      <td>827423.000000</td>\n",
              "      <td>...</td>\n",
              "      <td>827423.000000</td>\n",
              "      <td>827423.000000</td>\n",
              "      <td>827423.000000</td>\n",
              "      <td>827423.000000</td>\n",
              "      <td>827423.000000</td>\n",
              "      <td>827423.000000</td>\n",
              "      <td>827423.000000</td>\n",
              "      <td>8.274230e+05</td>\n",
              "      <td>827423.000000</td>\n",
              "      <td>8.274230e+05</td>\n",
              "    </tr>\n",
              "    <tr>\n",
              "      <th>mean</th>\n",
              "      <td>9878.203453</td>\n",
              "      <td>0.000029</td>\n",
              "      <td>92.044133</td>\n",
              "      <td>7.484468e+07</td>\n",
              "      <td>97.823690</td>\n",
              "      <td>1099.787438</td>\n",
              "      <td>99.239953</td>\n",
              "      <td>9.540860</td>\n",
              "      <td>99.819275</td>\n",
              "      <td>39.236047</td>\n",
              "      <td>...</td>\n",
              "      <td>99.685211</td>\n",
              "      <td>0.408183</td>\n",
              "      <td>194.880249</td>\n",
              "      <td>0.519943</td>\n",
              "      <td>74.592601</td>\n",
              "      <td>14581.369804</td>\n",
              "      <td>64.284411</td>\n",
              "      <td>3.607570e+10</td>\n",
              "      <td>64.283202</td>\n",
              "      <td>1.236529e+11</td>\n",
              "    </tr>\n",
              "    <tr>\n",
              "      <th>std</th>\n",
              "      <td>3877.916088</td>\n",
              "      <td>0.005386</td>\n",
              "      <td>14.025749</td>\n",
              "      <td>8.108202e+07</td>\n",
              "      <td>17.565005</td>\n",
              "      <td>2601.889063</td>\n",
              "      <td>8.677299</td>\n",
              "      <td>113.549724</td>\n",
              "      <td>12.389478</td>\n",
              "      <td>1031.512115</td>\n",
              "      <td>...</td>\n",
              "      <td>11.691369</td>\n",
              "      <td>101.045904</td>\n",
              "      <td>25.142999</td>\n",
              "      <td>37.358957</td>\n",
              "      <td>43.520472</td>\n",
              "      <td>16831.774762</td>\n",
              "      <td>47.928770</td>\n",
              "      <td>3.050290e+10</td>\n",
              "      <td>47.929130</td>\n",
              "      <td>1.689341e+11</td>\n",
              "    </tr>\n",
              "    <tr>\n",
              "      <th>min</th>\n",
              "      <td>240.000000</td>\n",
              "      <td>0.000000</td>\n",
              "      <td>0.000000</td>\n",
              "      <td>0.000000e+00</td>\n",
              "      <td>0.000000</td>\n",
              "      <td>0.000000</td>\n",
              "      <td>0.000000</td>\n",
              "      <td>0.000000</td>\n",
              "      <td>0.000000</td>\n",
              "      <td>0.000000</td>\n",
              "      <td>...</td>\n",
              "      <td>0.000000</td>\n",
              "      <td>0.000000</td>\n",
              "      <td>0.000000</td>\n",
              "      <td>0.000000</td>\n",
              "      <td>0.000000</td>\n",
              "      <td>0.000000</td>\n",
              "      <td>0.000000</td>\n",
              "      <td>0.000000e+00</td>\n",
              "      <td>0.000000</td>\n",
              "      <td>0.000000e+00</td>\n",
              "    </tr>\n",
              "    <tr>\n",
              "      <th>25%</th>\n",
              "      <td>8001.000000</td>\n",
              "      <td>0.000000</td>\n",
              "      <td>81.000000</td>\n",
              "      <td>0.000000e+00</td>\n",
              "      <td>91.000000</td>\n",
              "      <td>0.000000</td>\n",
              "      <td>100.000000</td>\n",
              "      <td>2.000000</td>\n",
              "      <td>100.000000</td>\n",
              "      <td>0.000000</td>\n",
              "      <td>...</td>\n",
              "      <td>100.000000</td>\n",
              "      <td>0.000000</td>\n",
              "      <td>200.000000</td>\n",
              "      <td>0.000000</td>\n",
              "      <td>0.000000</td>\n",
              "      <td>0.000000</td>\n",
              "      <td>0.000000</td>\n",
              "      <td>0.000000e+00</td>\n",
              "      <td>0.000000</td>\n",
              "      <td>0.000000e+00</td>\n",
              "    </tr>\n",
              "    <tr>\n",
              "      <th>50%</th>\n",
              "      <td>12000.000000</td>\n",
              "      <td>0.000000</td>\n",
              "      <td>100.000000</td>\n",
              "      <td>4.514909e+07</td>\n",
              "      <td>97.000000</td>\n",
              "      <td>0.000000</td>\n",
              "      <td>100.000000</td>\n",
              "      <td>5.000000</td>\n",
              "      <td>100.000000</td>\n",
              "      <td>0.000000</td>\n",
              "      <td>...</td>\n",
              "      <td>100.000000</td>\n",
              "      <td>0.000000</td>\n",
              "      <td>200.000000</td>\n",
              "      <td>0.000000</td>\n",
              "      <td>100.000000</td>\n",
              "      <td>5816.000000</td>\n",
              "      <td>100.000000</td>\n",
              "      <td>4.683655e+10</td>\n",
              "      <td>100.000000</td>\n",
              "      <td>9.188942e+10</td>\n",
              "    </tr>\n",
              "    <tr>\n",
              "      <th>75%</th>\n",
              "      <td>12000.000000</td>\n",
              "      <td>0.000000</td>\n",
              "      <td>100.000000</td>\n",
              "      <td>1.441262e+08</td>\n",
              "      <td>100.000000</td>\n",
              "      <td>380.000000</td>\n",
              "      <td>100.000000</td>\n",
              "      <td>10.000000</td>\n",
              "      <td>100.000000</td>\n",
              "      <td>0.000000</td>\n",
              "      <td>...</td>\n",
              "      <td>100.000000</td>\n",
              "      <td>0.000000</td>\n",
              "      <td>200.000000</td>\n",
              "      <td>0.000000</td>\n",
              "      <td>100.000000</td>\n",
              "      <td>29337.000000</td>\n",
              "      <td>100.000000</td>\n",
              "      <td>6.341446e+10</td>\n",
              "      <td>100.000000</td>\n",
              "      <td>2.468640e+11</td>\n",
              "    </tr>\n",
              "    <tr>\n",
              "      <th>max</th>\n",
              "      <td>18000.000000</td>\n",
              "      <td>1.000000</td>\n",
              "      <td>200.000000</td>\n",
              "      <td>4.515787e+08</td>\n",
              "      <td>253.000000</td>\n",
              "      <td>11111.000000</td>\n",
              "      <td>100.000000</td>\n",
              "      <td>25141.000000</td>\n",
              "      <td>252.000000</td>\n",
              "      <td>65480.000000</td>\n",
              "      <td>...</td>\n",
              "      <td>252.000000</td>\n",
              "      <td>41040.000000</td>\n",
              "      <td>200.000000</td>\n",
              "      <td>7670.000000</td>\n",
              "      <td>100.000000</td>\n",
              "      <td>67845.000000</td>\n",
              "      <td>200.000000</td>\n",
              "      <td>2.202436e+11</td>\n",
              "      <td>200.000000</td>\n",
              "      <td>2.818246e+13</td>\n",
              "    </tr>\n",
              "  </tbody>\n",
              "</table>\n",
              "<p>8 rows × 46 columns</p>\n",
              "</div>\n",
              "      <button class=\"colab-df-convert\" onclick=\"convertToInteractive('df-6356a6ff-dca5-4947-a164-25c19e559048')\"\n",
              "              title=\"Convert this dataframe to an interactive table.\"\n",
              "              style=\"display:none;\">\n",
              "        \n",
              "  <svg xmlns=\"http://www.w3.org/2000/svg\" height=\"24px\"viewBox=\"0 0 24 24\"\n",
              "       width=\"24px\">\n",
              "    <path d=\"M0 0h24v24H0V0z\" fill=\"none\"/>\n",
              "    <path d=\"M18.56 5.44l.94 2.06.94-2.06 2.06-.94-2.06-.94-.94-2.06-.94 2.06-2.06.94zm-11 1L8.5 8.5l.94-2.06 2.06-.94-2.06-.94L8.5 2.5l-.94 2.06-2.06.94zm10 10l.94 2.06.94-2.06 2.06-.94-2.06-.94-.94-2.06-.94 2.06-2.06.94z\"/><path d=\"M17.41 7.96l-1.37-1.37c-.4-.4-.92-.59-1.43-.59-.52 0-1.04.2-1.43.59L10.3 9.45l-7.72 7.72c-.78.78-.78 2.05 0 2.83L4 21.41c.39.39.9.59 1.41.59.51 0 1.02-.2 1.41-.59l7.78-7.78 2.81-2.81c.8-.78.8-2.07 0-2.86zM5.41 20L4 18.59l7.72-7.72 1.47 1.35L5.41 20z\"/>\n",
              "  </svg>\n",
              "      </button>\n",
              "      \n",
              "  <style>\n",
              "    .colab-df-container {\n",
              "      display:flex;\n",
              "      flex-wrap:wrap;\n",
              "      gap: 12px;\n",
              "    }\n",
              "\n",
              "    .colab-df-convert {\n",
              "      background-color: #E8F0FE;\n",
              "      border: none;\n",
              "      border-radius: 50%;\n",
              "      cursor: pointer;\n",
              "      display: none;\n",
              "      fill: #1967D2;\n",
              "      height: 32px;\n",
              "      padding: 0 0 0 0;\n",
              "      width: 32px;\n",
              "    }\n",
              "\n",
              "    .colab-df-convert:hover {\n",
              "      background-color: #E2EBFA;\n",
              "      box-shadow: 0px 1px 2px rgba(60, 64, 67, 0.3), 0px 1px 3px 1px rgba(60, 64, 67, 0.15);\n",
              "      fill: #174EA6;\n",
              "    }\n",
              "\n",
              "    [theme=dark] .colab-df-convert {\n",
              "      background-color: #3B4455;\n",
              "      fill: #D2E3FC;\n",
              "    }\n",
              "\n",
              "    [theme=dark] .colab-df-convert:hover {\n",
              "      background-color: #434B5C;\n",
              "      box-shadow: 0px 1px 3px 1px rgba(0, 0, 0, 0.15);\n",
              "      filter: drop-shadow(0px 1px 2px rgba(0, 0, 0, 0.3));\n",
              "      fill: #FFFFFF;\n",
              "    }\n",
              "  </style>\n",
              "\n",
              "      <script>\n",
              "        const buttonEl =\n",
              "          document.querySelector('#df-6356a6ff-dca5-4947-a164-25c19e559048 button.colab-df-convert');\n",
              "        buttonEl.style.display =\n",
              "          google.colab.kernel.accessAllowed ? 'block' : 'none';\n",
              "\n",
              "        async function convertToInteractive(key) {\n",
              "          const element = document.querySelector('#df-6356a6ff-dca5-4947-a164-25c19e559048');\n",
              "          const dataTable =\n",
              "            await google.colab.kernel.invokeFunction('convertToInteractive',\n",
              "                                                     [key], {});\n",
              "          if (!dataTable) return;\n",
              "\n",
              "          const docLinkHtml = 'Like what you see? Visit the ' +\n",
              "            '<a target=\"_blank\" href=https://colab.research.google.com/notebooks/data_table.ipynb>data table notebook</a>'\n",
              "            + ' to learn more about interactive tables.';\n",
              "          element.innerHTML = '';\n",
              "          dataTable['output_type'] = 'display_data';\n",
              "          await google.colab.output.renderOutput(dataTable, element);\n",
              "          const docLink = document.createElement('div');\n",
              "          docLink.innerHTML = docLinkHtml;\n",
              "          element.appendChild(docLink);\n",
              "        }\n",
              "      </script>\n",
              "    </div>\n",
              "  </div>\n",
              "  "
            ]
          },
          "metadata": {},
          "execution_count": 31
        }
      ],
      "source": [
        "Test.describe()"
      ]
    },
    {
      "cell_type": "markdown",
      "metadata": {
        "id": "M9wB7VPFS9PY"
      },
      "source": [
        "##### From the above description it is seen that some attributes have values ranging from 10^7 to 10^13 which seems to be odd. Such attributes are choosen for Feature engineering. \n",
        "##### Inspite of Column Standardisation or Normalisation, Sigmoid and Tanh functions are applied on these attributes as a scaling function and it's correlation with target varibale is compared with its original correlation values."
      ]
    },
    {
      "cell_type": "code",
      "execution_count": 32,
      "metadata": {
        "id": "fdI7Fb-L3YBn"
      },
      "outputs": [],
      "source": [
        "# Sigmoid and TanH Functions.\n",
        "# Instead of using original value, it is added with random normal distributed value just like adding bias to the input value.\n",
        "def Sigmoid(x):\n",
        "  return 1 / (1 + np.exp(-(x + np.random.normal(scale = 0.5)))) \n",
        "def TanH(x):\n",
        "  return np.tanh(x + np.random.normal(scale = 0.5))"
      ]
    },
    {
      "cell_type": "code",
      "execution_count": 33,
      "metadata": {
        "id": "HWxLbNiiwS57"
      },
      "outputs": [],
      "source": [
        "# Creating new attributes based on above description.\n",
        "\n",
        "#Test['smart_1_sig'] = Test['smart_1_raw'].apply(Sigmoid)\n",
        "#Test['smart_7_sig'] = Test['smart_7_raw'].apply(Sigmoid)\n",
        "#Test['smart_188_sig'] = Test['smart_188_raw'].apply(Sigmoid)\n",
        "#Test['smart_193_sig'] = Test['smart_193_raw'].apply(Sigmoid)\n",
        "#Test['smart_240_sig'] = Test['smart_240_raw'].apply(Sigmoid)\n",
        "#Test['smart_241_sig'] = Test['smart_241_raw'].apply(Sigmoid)\n",
        "#Test['smart_242_sig'] = Test['smart_242_raw'].apply(Sigmoid)\n",
        "\n",
        "#Test['smart_1_tan'] = Test['smart_1_raw'].apply(TanH)\n",
        "#Test['smart_7_tan'] = Test['smart_7_raw'].apply(TanH)\n",
        "#Test['smart_188_tan'] = Test['smart_188_raw'].apply(TanH)\n",
        "#Test['smart_193_tan'] = Test['smart_193_raw'].apply(TanH)\n",
        "#Test['smart_240_tan'] = Test['smart_240_raw'].apply(TanH)\n",
        "#Test['smart_241_tan'] = Test['smart_241_raw'].apply(TanH)\n",
        "#Test['smart_242_tan'] = Test['smart_242_raw'].apply(TanH)\n",
        "\n",
        "cf = ['smart_1_raw', 'smart_7_raw', 'smart_188_raw', 'smart_193_raw', 'smart_240_raw', 'smart_241_raw', 'smart_242_raw']\n",
        "for i in cf:\n",
        "   n = re.findall('\\d+',i) \n",
        "   s = 'smart_' + ''.join(n) + '_sig'\n",
        "   t = 'smart_' + ''.join(n) + '_tan'\n",
        "   Test[s] = Test[i].apply(Sigmoid)\n",
        "   Test[t] = Test[i].apply(TanH)"
      ]
    },
    {
      "cell_type": "code",
      "execution_count": 34,
      "metadata": {
        "id": "8sCyRVcpoCuY",
        "colab": {
          "base_uri": "https://localhost:8080/",
          "height": 404
        },
        "outputId": "d1962d8f-9648-46e1-f24d-9f8e1957a91e"
      },
      "outputs": [
        {
          "output_type": "stream",
          "name": "stdout",
          "text": [
            "Warning: Total number of columns (63) exceeds max_columns (20). Falling back to pandas display.\n"
          ]
        },
        {
          "output_type": "execute_result",
          "data": {
            "text/plain": [
              "        date serial_number          model  capacity_bytes  failure  \\\n",
              "0 2021-01-01      ZLW0EGC6  ST12000NM001G         12000.0        0   \n",
              "1 2021-01-01      Z305B2QN    ST4000DM000          4000.0        0   \n",
              "2 2021-01-01      ZLW0C6NE  ST12000NM001G         12000.0        0   \n",
              "3 2021-01-01      ZJV0XJQ3  ST12000NM0007         12000.0        0   \n",
              "4 2021-01-01      ZLW18MKT  ST14000NM001G         14000.0        0   \n",
              "\n",
              "   smart_1_normalized  smart_1_raw  smart_3_normalized  smart_3_raw  \\\n",
              "0                83.0  213166608.0                99.0          0.0   \n",
              "1               114.0   79306032.0                91.0          0.0   \n",
              "2                72.0   17162816.0                98.0          0.0   \n",
              "3               100.0    1102160.0                98.0          0.0   \n",
              "4                75.0   33233248.0                95.0          0.0   \n",
              "\n",
              "   smart_4_normalized  ...  smart_188_sig  smart_188_tan  smart_193_sig  \\\n",
              "0               100.0  ...       0.677595      -0.249942            1.0   \n",
              "1               100.0  ...       0.617593       0.448259            1.0   \n",
              "2               100.0  ...       0.611523      -0.322652            1.0   \n",
              "3               100.0  ...       0.625603      -0.057988            1.0   \n",
              "4               100.0  ...       0.529849      -0.282929            1.0   \n",
              "\n",
              "   smart_193_tan  smart_240_sig  smart_240_tan  smart_241_sig  smart_241_tan  \\\n",
              "0            1.0            1.0            1.0            1.0            1.0   \n",
              "1            1.0            1.0            1.0            1.0            1.0   \n",
              "2            1.0            1.0            1.0            1.0            1.0   \n",
              "3            1.0            1.0            1.0            1.0            1.0   \n",
              "4            1.0            1.0            1.0            1.0            1.0   \n",
              "\n",
              "   smart_242_sig  smart_242_tan  \n",
              "0            1.0            1.0  \n",
              "1            1.0            1.0  \n",
              "2            1.0            1.0  \n",
              "3            1.0            1.0  \n",
              "4            1.0            1.0  \n",
              "\n",
              "[5 rows x 63 columns]"
            ],
            "text/html": [
              "\n",
              "  <div id=\"df-be84b7b2-fd2b-41e1-8026-e3107e6e7871\">\n",
              "    <div class=\"colab-df-container\">\n",
              "      <div>\n",
              "<style scoped>\n",
              "    .dataframe tbody tr th:only-of-type {\n",
              "        vertical-align: middle;\n",
              "    }\n",
              "\n",
              "    .dataframe tbody tr th {\n",
              "        vertical-align: top;\n",
              "    }\n",
              "\n",
              "    .dataframe thead th {\n",
              "        text-align: right;\n",
              "    }\n",
              "</style>\n",
              "<table border=\"1\" class=\"dataframe\">\n",
              "  <thead>\n",
              "    <tr style=\"text-align: right;\">\n",
              "      <th></th>\n",
              "      <th>date</th>\n",
              "      <th>serial_number</th>\n",
              "      <th>model</th>\n",
              "      <th>capacity_bytes</th>\n",
              "      <th>failure</th>\n",
              "      <th>smart_1_normalized</th>\n",
              "      <th>smart_1_raw</th>\n",
              "      <th>smart_3_normalized</th>\n",
              "      <th>smart_3_raw</th>\n",
              "      <th>smart_4_normalized</th>\n",
              "      <th>...</th>\n",
              "      <th>smart_188_sig</th>\n",
              "      <th>smart_188_tan</th>\n",
              "      <th>smart_193_sig</th>\n",
              "      <th>smart_193_tan</th>\n",
              "      <th>smart_240_sig</th>\n",
              "      <th>smart_240_tan</th>\n",
              "      <th>smart_241_sig</th>\n",
              "      <th>smart_241_tan</th>\n",
              "      <th>smart_242_sig</th>\n",
              "      <th>smart_242_tan</th>\n",
              "    </tr>\n",
              "  </thead>\n",
              "  <tbody>\n",
              "    <tr>\n",
              "      <th>0</th>\n",
              "      <td>2021-01-01</td>\n",
              "      <td>ZLW0EGC6</td>\n",
              "      <td>ST12000NM001G</td>\n",
              "      <td>12000.0</td>\n",
              "      <td>0</td>\n",
              "      <td>83.0</td>\n",
              "      <td>213166608.0</td>\n",
              "      <td>99.0</td>\n",
              "      <td>0.0</td>\n",
              "      <td>100.0</td>\n",
              "      <td>...</td>\n",
              "      <td>0.677595</td>\n",
              "      <td>-0.249942</td>\n",
              "      <td>1.0</td>\n",
              "      <td>1.0</td>\n",
              "      <td>1.0</td>\n",
              "      <td>1.0</td>\n",
              "      <td>1.0</td>\n",
              "      <td>1.0</td>\n",
              "      <td>1.0</td>\n",
              "      <td>1.0</td>\n",
              "    </tr>\n",
              "    <tr>\n",
              "      <th>1</th>\n",
              "      <td>2021-01-01</td>\n",
              "      <td>Z305B2QN</td>\n",
              "      <td>ST4000DM000</td>\n",
              "      <td>4000.0</td>\n",
              "      <td>0</td>\n",
              "      <td>114.0</td>\n",
              "      <td>79306032.0</td>\n",
              "      <td>91.0</td>\n",
              "      <td>0.0</td>\n",
              "      <td>100.0</td>\n",
              "      <td>...</td>\n",
              "      <td>0.617593</td>\n",
              "      <td>0.448259</td>\n",
              "      <td>1.0</td>\n",
              "      <td>1.0</td>\n",
              "      <td>1.0</td>\n",
              "      <td>1.0</td>\n",
              "      <td>1.0</td>\n",
              "      <td>1.0</td>\n",
              "      <td>1.0</td>\n",
              "      <td>1.0</td>\n",
              "    </tr>\n",
              "    <tr>\n",
              "      <th>2</th>\n",
              "      <td>2021-01-01</td>\n",
              "      <td>ZLW0C6NE</td>\n",
              "      <td>ST12000NM001G</td>\n",
              "      <td>12000.0</td>\n",
              "      <td>0</td>\n",
              "      <td>72.0</td>\n",
              "      <td>17162816.0</td>\n",
              "      <td>98.0</td>\n",
              "      <td>0.0</td>\n",
              "      <td>100.0</td>\n",
              "      <td>...</td>\n",
              "      <td>0.611523</td>\n",
              "      <td>-0.322652</td>\n",
              "      <td>1.0</td>\n",
              "      <td>1.0</td>\n",
              "      <td>1.0</td>\n",
              "      <td>1.0</td>\n",
              "      <td>1.0</td>\n",
              "      <td>1.0</td>\n",
              "      <td>1.0</td>\n",
              "      <td>1.0</td>\n",
              "    </tr>\n",
              "    <tr>\n",
              "      <th>3</th>\n",
              "      <td>2021-01-01</td>\n",
              "      <td>ZJV0XJQ3</td>\n",
              "      <td>ST12000NM0007</td>\n",
              "      <td>12000.0</td>\n",
              "      <td>0</td>\n",
              "      <td>100.0</td>\n",
              "      <td>1102160.0</td>\n",
              "      <td>98.0</td>\n",
              "      <td>0.0</td>\n",
              "      <td>100.0</td>\n",
              "      <td>...</td>\n",
              "      <td>0.625603</td>\n",
              "      <td>-0.057988</td>\n",
              "      <td>1.0</td>\n",
              "      <td>1.0</td>\n",
              "      <td>1.0</td>\n",
              "      <td>1.0</td>\n",
              "      <td>1.0</td>\n",
              "      <td>1.0</td>\n",
              "      <td>1.0</td>\n",
              "      <td>1.0</td>\n",
              "    </tr>\n",
              "    <tr>\n",
              "      <th>4</th>\n",
              "      <td>2021-01-01</td>\n",
              "      <td>ZLW18MKT</td>\n",
              "      <td>ST14000NM001G</td>\n",
              "      <td>14000.0</td>\n",
              "      <td>0</td>\n",
              "      <td>75.0</td>\n",
              "      <td>33233248.0</td>\n",
              "      <td>95.0</td>\n",
              "      <td>0.0</td>\n",
              "      <td>100.0</td>\n",
              "      <td>...</td>\n",
              "      <td>0.529849</td>\n",
              "      <td>-0.282929</td>\n",
              "      <td>1.0</td>\n",
              "      <td>1.0</td>\n",
              "      <td>1.0</td>\n",
              "      <td>1.0</td>\n",
              "      <td>1.0</td>\n",
              "      <td>1.0</td>\n",
              "      <td>1.0</td>\n",
              "      <td>1.0</td>\n",
              "    </tr>\n",
              "  </tbody>\n",
              "</table>\n",
              "<p>5 rows × 63 columns</p>\n",
              "</div>\n",
              "      <button class=\"colab-df-convert\" onclick=\"convertToInteractive('df-be84b7b2-fd2b-41e1-8026-e3107e6e7871')\"\n",
              "              title=\"Convert this dataframe to an interactive table.\"\n",
              "              style=\"display:none;\">\n",
              "        \n",
              "  <svg xmlns=\"http://www.w3.org/2000/svg\" height=\"24px\"viewBox=\"0 0 24 24\"\n",
              "       width=\"24px\">\n",
              "    <path d=\"M0 0h24v24H0V0z\" fill=\"none\"/>\n",
              "    <path d=\"M18.56 5.44l.94 2.06.94-2.06 2.06-.94-2.06-.94-.94-2.06-.94 2.06-2.06.94zm-11 1L8.5 8.5l.94-2.06 2.06-.94-2.06-.94L8.5 2.5l-.94 2.06-2.06.94zm10 10l.94 2.06.94-2.06 2.06-.94-2.06-.94-.94-2.06-.94 2.06-2.06.94z\"/><path d=\"M17.41 7.96l-1.37-1.37c-.4-.4-.92-.59-1.43-.59-.52 0-1.04.2-1.43.59L10.3 9.45l-7.72 7.72c-.78.78-.78 2.05 0 2.83L4 21.41c.39.39.9.59 1.41.59.51 0 1.02-.2 1.41-.59l7.78-7.78 2.81-2.81c.8-.78.8-2.07 0-2.86zM5.41 20L4 18.59l7.72-7.72 1.47 1.35L5.41 20z\"/>\n",
              "  </svg>\n",
              "      </button>\n",
              "      \n",
              "  <style>\n",
              "    .colab-df-container {\n",
              "      display:flex;\n",
              "      flex-wrap:wrap;\n",
              "      gap: 12px;\n",
              "    }\n",
              "\n",
              "    .colab-df-convert {\n",
              "      background-color: #E8F0FE;\n",
              "      border: none;\n",
              "      border-radius: 50%;\n",
              "      cursor: pointer;\n",
              "      display: none;\n",
              "      fill: #1967D2;\n",
              "      height: 32px;\n",
              "      padding: 0 0 0 0;\n",
              "      width: 32px;\n",
              "    }\n",
              "\n",
              "    .colab-df-convert:hover {\n",
              "      background-color: #E2EBFA;\n",
              "      box-shadow: 0px 1px 2px rgba(60, 64, 67, 0.3), 0px 1px 3px 1px rgba(60, 64, 67, 0.15);\n",
              "      fill: #174EA6;\n",
              "    }\n",
              "\n",
              "    [theme=dark] .colab-df-convert {\n",
              "      background-color: #3B4455;\n",
              "      fill: #D2E3FC;\n",
              "    }\n",
              "\n",
              "    [theme=dark] .colab-df-convert:hover {\n",
              "      background-color: #434B5C;\n",
              "      box-shadow: 0px 1px 3px 1px rgba(0, 0, 0, 0.15);\n",
              "      filter: drop-shadow(0px 1px 2px rgba(0, 0, 0, 0.3));\n",
              "      fill: #FFFFFF;\n",
              "    }\n",
              "  </style>\n",
              "\n",
              "      <script>\n",
              "        const buttonEl =\n",
              "          document.querySelector('#df-be84b7b2-fd2b-41e1-8026-e3107e6e7871 button.colab-df-convert');\n",
              "        buttonEl.style.display =\n",
              "          google.colab.kernel.accessAllowed ? 'block' : 'none';\n",
              "\n",
              "        async function convertToInteractive(key) {\n",
              "          const element = document.querySelector('#df-be84b7b2-fd2b-41e1-8026-e3107e6e7871');\n",
              "          const dataTable =\n",
              "            await google.colab.kernel.invokeFunction('convertToInteractive',\n",
              "                                                     [key], {});\n",
              "          if (!dataTable) return;\n",
              "\n",
              "          const docLinkHtml = 'Like what you see? Visit the ' +\n",
              "            '<a target=\"_blank\" href=https://colab.research.google.com/notebooks/data_table.ipynb>data table notebook</a>'\n",
              "            + ' to learn more about interactive tables.';\n",
              "          element.innerHTML = '';\n",
              "          dataTable['output_type'] = 'display_data';\n",
              "          await google.colab.output.renderOutput(dataTable, element);\n",
              "          const docLink = document.createElement('div');\n",
              "          docLink.innerHTML = docLinkHtml;\n",
              "          element.appendChild(docLink);\n",
              "        }\n",
              "      </script>\n",
              "    </div>\n",
              "  </div>\n",
              "  "
            ]
          },
          "metadata": {},
          "execution_count": 34
        }
      ],
      "source": [
        "Test.head()"
      ]
    },
    {
      "cell_type": "code",
      "execution_count": 35,
      "metadata": {
        "id": "1ZQ2B73No_u6",
        "colab": {
          "base_uri": "https://localhost:8080/"
        },
        "outputId": "b9f3e6fd-7673-4074-c4d4-a95e05d42c72"
      },
      "outputs": [
        {
          "output_type": "stream",
          "name": "stdout",
          "text": [
            "smart_1_raw feature Correlation with target(Failure) is 0.0004930565827411704\n",
            "smart_1_sig feature Correlation with target(Failure) is 0.0011863975155868606\n",
            "smart_1_tan feature Correlation with target(Failure) is 0.0011288322555394815\n",
            "\n",
            "smart_7_raw feature Correlation with target(Failure) is -1.8360522051362562e-05\n",
            "smart_7_sig feature Correlation with target(Failure) is 0.0004877334949193091\n",
            "smart_7_tan feature Correlation with target(Failure) is 0.0010071977468494885\n",
            "\n",
            "smart_188_raw feature Correlation with target(Failure) is 0.00044184288658845447\n",
            "smart_188_sig feature Correlation with target(Failure) is 0.0008385358006326532\n",
            "smart_188_tan feature Correlation with target(Failure) is 0.0021564833993939214\n",
            "\n",
            "smart_193_raw feature Correlation with target(Failure) is -0.0016981571065426927\n",
            "smart_193_sig feature Correlation with target(Failure) is -0.0026121545826375114\n",
            "smart_193_tan feature Correlation with target(Failure) is -0.003883002684188565\n",
            "\n",
            "smart_240_raw feature Correlation with target(Failure) is 0.00028027466558763574\n",
            "smart_240_sig feature Correlation with target(Failure) is 0.0012137458527616905\n",
            "smart_240_tan feature Correlation with target(Failure) is 0.0015950319886272185\n",
            "\n",
            "smart_241_raw feature Correlation with target(Failure) is 0.0012396855933433362\n",
            "smart_241_sig feature Correlation with target(Failure) is 0.0008352232565216658\n",
            "smart_241_tan feature Correlation with target(Failure) is 0.001005996390741941\n",
            "\n",
            "smart_242_raw feature Correlation with target(Failure) is 0.0004745561839035194\n",
            "smart_242_sig feature Correlation with target(Failure) is 0.0013964604673333103\n",
            "smart_242_tan feature Correlation with target(Failure) is 0.001376723015349306\n",
            "\n"
          ]
        }
      ],
      "source": [
        "# Checking the correlation of attributes with target variable.\n",
        "cf = ['smart_1_raw', 'smart_1_sig', 'smart_1_tan', 'smart_7_raw', 'smart_7_sig', 'smart_7_tan', 'smart_188_raw', 'smart_188_sig', 'smart_188_tan', 'smart_193_raw', 'smart_193_sig', 'smart_193_tan', 'smart_240_raw', 'smart_240_sig', 'smart_240_tan', 'smart_241_raw', 'smart_241_sig', 'smart_241_tan', 'smart_242_raw', 'smart_242_sig', 'smart_242_tan']\n",
        "j = 1\n",
        "for i in cf:\n",
        "  print(i + ' feature' + ' Correlation with target(Failure)' + ' is ' + str(Test[i].corr(Test['failure']))) # This line computes the correlation.\n",
        "  if(j % 3 == 0):\n",
        "    print()\n",
        "  j+=1"
      ]
    },
    {
      "cell_type": "markdown",
      "metadata": {
        "id": "jmNIV-zWXY2Z"
      },
      "source": [
        "##### From the above correlation values, attributes obtained from Sigmoid function shows the better correlation than the TanH function. It also show good values when compared with original raw values. \n",
        "##### But, smart_241_sig correlation values are still less than it's original raw values, which seems that sigmoidal values dosen't improve the correlation result. Thus, these attributes are not used for feature engineering."
      ]
    },
    {
      "cell_type": "markdown",
      "metadata": {
        "id": "27XNBP5-v-XL"
      },
      "source": [
        "#### Response Encoding the \"Model\" feature.\n",
        "\n",
        "> It is a method of creating the True and False probabilities for Categorical Data.\n",
        "\n",
        "> True Probability = No. of (respec. cat. data with target = 1) / (Total no. of that cat. data).\n",
        "\n",
        "> False Probability = No. of (respec. cat. data with target = 0) / (Total no. of that cat. data).\n",
        "\n",
        "\n",
        "\n",
        "\n",
        "\n",
        "\n",
        "\n"
      ]
    },
    {
      "cell_type": "code",
      "execution_count": 36,
      "metadata": {
        "id": "7McICI9RIuwZ"
      },
      "outputs": [],
      "source": [
        "# Function for Claculating the probabilities of categorical data.\n",
        "def res_fit(cat, Y):\n",
        "    j = dict(cat.value_counts()) # Storing the counts of each category in Dictionary. \n",
        "    true, false = 0, 0\n",
        "    TRUE, FALSE = {}, {} \n",
        "    for key, value in j.items(): # Iterating over each category\n",
        "        sum, neg, = 0, 0\n",
        "        for state, y in zip(cat, Y): # Iterating over every data in given Series\n",
        "            if (key == state and y == 1): \n",
        "                sum+= 1              # Calculating count when target of respective category data is 1\n",
        "            elif (key == state and y == 0):\n",
        "                neg+= 1              # Calculating count when target of respective category data is 0\n",
        "        true = sum / value           # Dividing the True count with the respective total category count.\n",
        "        false = neg / value          # Dividing the False count with the respective total category count.\n",
        "        TRUE[key] = true\n",
        "        FALSE[key] = false           # The respective category data with it's True probability and False probability is stored in dictionary.\n",
        "    return j, TRUE, FALSE"
      ]
    },
    {
      "cell_type": "code",
      "execution_count": 37,
      "metadata": {
        "id": "btVcJmKdIvE3"
      },
      "outputs": [],
      "source": [
        "# Function for transforming the query data points into respective calculated probability values.\n",
        "def res_transform(cat, TRUE, FALSE):\n",
        "    t = []\n",
        "    f = []\n",
        "    for state in cat: # Iterating over each data point in a given query series.\n",
        "        for ((key_t, value_t), (key_f, value_f)) in zip(TRUE.items(), FALSE.items()): # Iterating over the calculated True and False probabilities \n",
        "\n",
        "            # When the respective category data from query series is matched, it is then appended with it's respective probability values. \n",
        "            if state == key_t and state == key_f: \n",
        "                t.append(value_t)                 \n",
        "                f.append(value_f)\n",
        "                break\n",
        "        else :           # Incase, when the unknown category data is found, it's True and False probability values are considered as 0.5 and 0.5.\n",
        "                t.append(1/2)\n",
        "                f.append(1/2) \n",
        "\n",
        "    X_t = np.array(t).reshape(-1, 1)\n",
        "    X_f = np.array(f).reshape(-1, 1) # Reshaping the above array\n",
        "    \n",
        "    return np.concatenate((X_t, X_f), axis = 1) "
      ]
    },
    {
      "cell_type": "code",
      "execution_count": 38,
      "metadata": {
        "id": "kKINAanZGen2"
      },
      "outputs": [],
      "source": [
        "del Test"
      ]
    },
    {
      "cell_type": "markdown",
      "metadata": {
        "id": "uVf3UCABZMB0"
      },
      "source": [
        "# 5. Final Dataset\n",
        "\n",
        "\n",
        "\n"
      ]
    },
    {
      "cell_type": "markdown",
      "metadata": {
        "id": "Ju7gmaq1K8EF"
      },
      "source": [
        "> From the above task, attributes with respective transformation which given better correlation values than it's original raw values are used as a attributes for feature transformation in final dataset."
      ]
    },
    {
      "cell_type": "code",
      "execution_count": 39,
      "metadata": {
        "id": "u9a7v5ke1bxf",
        "colab": {
          "base_uri": "https://localhost:8080/"
        },
        "outputId": "98e436e9-c44a-4e7d-c0fc-5049532b10be"
      },
      "outputs": [
        {
          "output_type": "stream",
          "name": "stdout",
          "text": [
            "Original shape of Data :  (827423, 49)\n",
            "Final shape of Data :  (827423, 55)\n"
          ]
        }
      ],
      "source": [
        "print(\"Original shape of Data : \", Data.shape)\n",
        "cf = ['smart_1_raw', 'smart_7_raw', 'smart_188_raw', 'smart_193_raw', 'smart_240_raw', 'smart_242_raw']\n",
        "for i in cf:\n",
        "   n = re.findall('\\d+',i) \n",
        "   s = 'smart_' + ''.join(n) + '_sig'\n",
        "   Data[s] = Data[i].apply(Sigmoid)\n",
        "\n",
        "print(\"Final shape of Data : \", Data.shape)"
      ]
    },
    {
      "cell_type": "code",
      "execution_count": 40,
      "metadata": {
        "id": "j5nCyDpc-rFu",
        "colab": {
          "base_uri": "https://localhost:8080/",
          "height": 404
        },
        "outputId": "584e6cd2-7bf2-4247-9760-5857c533aff8"
      },
      "outputs": [
        {
          "output_type": "stream",
          "name": "stdout",
          "text": [
            "Warning: Total number of columns (55) exceeds max_columns (20). Falling back to pandas display.\n"
          ]
        },
        {
          "output_type": "execute_result",
          "data": {
            "text/plain": [
              "        date serial_number          model  capacity_bytes  failure  \\\n",
              "0 2021-01-01      ZLW0EGC6  ST12000NM001G         12000.0        0   \n",
              "1 2021-01-01      Z305B2QN    ST4000DM000          4000.0        0   \n",
              "2 2021-01-01      ZLW0C6NE  ST12000NM001G         12000.0        0   \n",
              "3 2021-01-01      ZJV0XJQ3  ST12000NM0007         12000.0        0   \n",
              "4 2021-01-01      ZLW18MKT  ST14000NM001G         14000.0        0   \n",
              "\n",
              "   smart_1_normalized  smart_1_raw  smart_3_normalized  smart_3_raw  \\\n",
              "0                83.0  213166608.0                99.0          0.0   \n",
              "1               114.0   79306032.0                91.0          0.0   \n",
              "2                72.0   17162816.0                98.0          0.0   \n",
              "3               100.0    1102160.0                98.0          0.0   \n",
              "4                75.0   33233248.0                95.0          0.0   \n",
              "\n",
              "   smart_4_normalized  ...  smart_241_normalized  smart_241_raw  \\\n",
              "0               100.0  ...                 100.0   4.839342e+10   \n",
              "1               100.0  ...                 100.0   5.940338e+10   \n",
              "2               100.0  ...                 100.0   4.917863e+10   \n",
              "3               100.0  ...                 100.0   5.260102e+10   \n",
              "4               100.0  ...                 100.0   1.647225e+10   \n",
              "\n",
              "   smart_242_normalized  smart_242_raw  smart_1_sig  smart_7_sig  \\\n",
              "0                 100.0   7.022831e+10          1.0          1.0   \n",
              "1                 100.0   5.457889e+11          1.0          1.0   \n",
              "2                 100.0   8.706921e+10          1.0          1.0   \n",
              "3                 100.0   1.295292e+11          1.0          1.0   \n",
              "4                 100.0   1.872005e+10          1.0          1.0   \n",
              "\n",
              "   smart_188_sig  smart_193_sig  smart_240_sig  smart_242_sig  \n",
              "0       0.577651            1.0            1.0            1.0  \n",
              "1       0.611831            1.0            1.0            1.0  \n",
              "2       0.459065            1.0            1.0            1.0  \n",
              "3       0.393920            1.0            1.0            1.0  \n",
              "4       0.470892            1.0            1.0            1.0  \n",
              "\n",
              "[5 rows x 55 columns]"
            ],
            "text/html": [
              "\n",
              "  <div id=\"df-d838c51f-2653-4e1a-aef5-b8d8d90d83c5\">\n",
              "    <div class=\"colab-df-container\">\n",
              "      <div>\n",
              "<style scoped>\n",
              "    .dataframe tbody tr th:only-of-type {\n",
              "        vertical-align: middle;\n",
              "    }\n",
              "\n",
              "    .dataframe tbody tr th {\n",
              "        vertical-align: top;\n",
              "    }\n",
              "\n",
              "    .dataframe thead th {\n",
              "        text-align: right;\n",
              "    }\n",
              "</style>\n",
              "<table border=\"1\" class=\"dataframe\">\n",
              "  <thead>\n",
              "    <tr style=\"text-align: right;\">\n",
              "      <th></th>\n",
              "      <th>date</th>\n",
              "      <th>serial_number</th>\n",
              "      <th>model</th>\n",
              "      <th>capacity_bytes</th>\n",
              "      <th>failure</th>\n",
              "      <th>smart_1_normalized</th>\n",
              "      <th>smart_1_raw</th>\n",
              "      <th>smart_3_normalized</th>\n",
              "      <th>smart_3_raw</th>\n",
              "      <th>smart_4_normalized</th>\n",
              "      <th>...</th>\n",
              "      <th>smart_241_normalized</th>\n",
              "      <th>smart_241_raw</th>\n",
              "      <th>smart_242_normalized</th>\n",
              "      <th>smart_242_raw</th>\n",
              "      <th>smart_1_sig</th>\n",
              "      <th>smart_7_sig</th>\n",
              "      <th>smart_188_sig</th>\n",
              "      <th>smart_193_sig</th>\n",
              "      <th>smart_240_sig</th>\n",
              "      <th>smart_242_sig</th>\n",
              "    </tr>\n",
              "  </thead>\n",
              "  <tbody>\n",
              "    <tr>\n",
              "      <th>0</th>\n",
              "      <td>2021-01-01</td>\n",
              "      <td>ZLW0EGC6</td>\n",
              "      <td>ST12000NM001G</td>\n",
              "      <td>12000.0</td>\n",
              "      <td>0</td>\n",
              "      <td>83.0</td>\n",
              "      <td>213166608.0</td>\n",
              "      <td>99.0</td>\n",
              "      <td>0.0</td>\n",
              "      <td>100.0</td>\n",
              "      <td>...</td>\n",
              "      <td>100.0</td>\n",
              "      <td>4.839342e+10</td>\n",
              "      <td>100.0</td>\n",
              "      <td>7.022831e+10</td>\n",
              "      <td>1.0</td>\n",
              "      <td>1.0</td>\n",
              "      <td>0.577651</td>\n",
              "      <td>1.0</td>\n",
              "      <td>1.0</td>\n",
              "      <td>1.0</td>\n",
              "    </tr>\n",
              "    <tr>\n",
              "      <th>1</th>\n",
              "      <td>2021-01-01</td>\n",
              "      <td>Z305B2QN</td>\n",
              "      <td>ST4000DM000</td>\n",
              "      <td>4000.0</td>\n",
              "      <td>0</td>\n",
              "      <td>114.0</td>\n",
              "      <td>79306032.0</td>\n",
              "      <td>91.0</td>\n",
              "      <td>0.0</td>\n",
              "      <td>100.0</td>\n",
              "      <td>...</td>\n",
              "      <td>100.0</td>\n",
              "      <td>5.940338e+10</td>\n",
              "      <td>100.0</td>\n",
              "      <td>5.457889e+11</td>\n",
              "      <td>1.0</td>\n",
              "      <td>1.0</td>\n",
              "      <td>0.611831</td>\n",
              "      <td>1.0</td>\n",
              "      <td>1.0</td>\n",
              "      <td>1.0</td>\n",
              "    </tr>\n",
              "    <tr>\n",
              "      <th>2</th>\n",
              "      <td>2021-01-01</td>\n",
              "      <td>ZLW0C6NE</td>\n",
              "      <td>ST12000NM001G</td>\n",
              "      <td>12000.0</td>\n",
              "      <td>0</td>\n",
              "      <td>72.0</td>\n",
              "      <td>17162816.0</td>\n",
              "      <td>98.0</td>\n",
              "      <td>0.0</td>\n",
              "      <td>100.0</td>\n",
              "      <td>...</td>\n",
              "      <td>100.0</td>\n",
              "      <td>4.917863e+10</td>\n",
              "      <td>100.0</td>\n",
              "      <td>8.706921e+10</td>\n",
              "      <td>1.0</td>\n",
              "      <td>1.0</td>\n",
              "      <td>0.459065</td>\n",
              "      <td>1.0</td>\n",
              "      <td>1.0</td>\n",
              "      <td>1.0</td>\n",
              "    </tr>\n",
              "    <tr>\n",
              "      <th>3</th>\n",
              "      <td>2021-01-01</td>\n",
              "      <td>ZJV0XJQ3</td>\n",
              "      <td>ST12000NM0007</td>\n",
              "      <td>12000.0</td>\n",
              "      <td>0</td>\n",
              "      <td>100.0</td>\n",
              "      <td>1102160.0</td>\n",
              "      <td>98.0</td>\n",
              "      <td>0.0</td>\n",
              "      <td>100.0</td>\n",
              "      <td>...</td>\n",
              "      <td>100.0</td>\n",
              "      <td>5.260102e+10</td>\n",
              "      <td>100.0</td>\n",
              "      <td>1.295292e+11</td>\n",
              "      <td>1.0</td>\n",
              "      <td>1.0</td>\n",
              "      <td>0.393920</td>\n",
              "      <td>1.0</td>\n",
              "      <td>1.0</td>\n",
              "      <td>1.0</td>\n",
              "    </tr>\n",
              "    <tr>\n",
              "      <th>4</th>\n",
              "      <td>2021-01-01</td>\n",
              "      <td>ZLW18MKT</td>\n",
              "      <td>ST14000NM001G</td>\n",
              "      <td>14000.0</td>\n",
              "      <td>0</td>\n",
              "      <td>75.0</td>\n",
              "      <td>33233248.0</td>\n",
              "      <td>95.0</td>\n",
              "      <td>0.0</td>\n",
              "      <td>100.0</td>\n",
              "      <td>...</td>\n",
              "      <td>100.0</td>\n",
              "      <td>1.647225e+10</td>\n",
              "      <td>100.0</td>\n",
              "      <td>1.872005e+10</td>\n",
              "      <td>1.0</td>\n",
              "      <td>1.0</td>\n",
              "      <td>0.470892</td>\n",
              "      <td>1.0</td>\n",
              "      <td>1.0</td>\n",
              "      <td>1.0</td>\n",
              "    </tr>\n",
              "  </tbody>\n",
              "</table>\n",
              "<p>5 rows × 55 columns</p>\n",
              "</div>\n",
              "      <button class=\"colab-df-convert\" onclick=\"convertToInteractive('df-d838c51f-2653-4e1a-aef5-b8d8d90d83c5')\"\n",
              "              title=\"Convert this dataframe to an interactive table.\"\n",
              "              style=\"display:none;\">\n",
              "        \n",
              "  <svg xmlns=\"http://www.w3.org/2000/svg\" height=\"24px\"viewBox=\"0 0 24 24\"\n",
              "       width=\"24px\">\n",
              "    <path d=\"M0 0h24v24H0V0z\" fill=\"none\"/>\n",
              "    <path d=\"M18.56 5.44l.94 2.06.94-2.06 2.06-.94-2.06-.94-.94-2.06-.94 2.06-2.06.94zm-11 1L8.5 8.5l.94-2.06 2.06-.94-2.06-.94L8.5 2.5l-.94 2.06-2.06.94zm10 10l.94 2.06.94-2.06 2.06-.94-2.06-.94-.94-2.06-.94 2.06-2.06.94z\"/><path d=\"M17.41 7.96l-1.37-1.37c-.4-.4-.92-.59-1.43-.59-.52 0-1.04.2-1.43.59L10.3 9.45l-7.72 7.72c-.78.78-.78 2.05 0 2.83L4 21.41c.39.39.9.59 1.41.59.51 0 1.02-.2 1.41-.59l7.78-7.78 2.81-2.81c.8-.78.8-2.07 0-2.86zM5.41 20L4 18.59l7.72-7.72 1.47 1.35L5.41 20z\"/>\n",
              "  </svg>\n",
              "      </button>\n",
              "      \n",
              "  <style>\n",
              "    .colab-df-container {\n",
              "      display:flex;\n",
              "      flex-wrap:wrap;\n",
              "      gap: 12px;\n",
              "    }\n",
              "\n",
              "    .colab-df-convert {\n",
              "      background-color: #E8F0FE;\n",
              "      border: none;\n",
              "      border-radius: 50%;\n",
              "      cursor: pointer;\n",
              "      display: none;\n",
              "      fill: #1967D2;\n",
              "      height: 32px;\n",
              "      padding: 0 0 0 0;\n",
              "      width: 32px;\n",
              "    }\n",
              "\n",
              "    .colab-df-convert:hover {\n",
              "      background-color: #E2EBFA;\n",
              "      box-shadow: 0px 1px 2px rgba(60, 64, 67, 0.3), 0px 1px 3px 1px rgba(60, 64, 67, 0.15);\n",
              "      fill: #174EA6;\n",
              "    }\n",
              "\n",
              "    [theme=dark] .colab-df-convert {\n",
              "      background-color: #3B4455;\n",
              "      fill: #D2E3FC;\n",
              "    }\n",
              "\n",
              "    [theme=dark] .colab-df-convert:hover {\n",
              "      background-color: #434B5C;\n",
              "      box-shadow: 0px 1px 3px 1px rgba(0, 0, 0, 0.15);\n",
              "      filter: drop-shadow(0px 1px 2px rgba(0, 0, 0, 0.3));\n",
              "      fill: #FFFFFF;\n",
              "    }\n",
              "  </style>\n",
              "\n",
              "      <script>\n",
              "        const buttonEl =\n",
              "          document.querySelector('#df-d838c51f-2653-4e1a-aef5-b8d8d90d83c5 button.colab-df-convert');\n",
              "        buttonEl.style.display =\n",
              "          google.colab.kernel.accessAllowed ? 'block' : 'none';\n",
              "\n",
              "        async function convertToInteractive(key) {\n",
              "          const element = document.querySelector('#df-d838c51f-2653-4e1a-aef5-b8d8d90d83c5');\n",
              "          const dataTable =\n",
              "            await google.colab.kernel.invokeFunction('convertToInteractive',\n",
              "                                                     [key], {});\n",
              "          if (!dataTable) return;\n",
              "\n",
              "          const docLinkHtml = 'Like what you see? Visit the ' +\n",
              "            '<a target=\"_blank\" href=https://colab.research.google.com/notebooks/data_table.ipynb>data table notebook</a>'\n",
              "            + ' to learn more about interactive tables.';\n",
              "          element.innerHTML = '';\n",
              "          dataTable['output_type'] = 'display_data';\n",
              "          await google.colab.output.renderOutput(dataTable, element);\n",
              "          const docLink = document.createElement('div');\n",
              "          docLink.innerHTML = docLinkHtml;\n",
              "          element.appendChild(docLink);\n",
              "        }\n",
              "      </script>\n",
              "    </div>\n",
              "  </div>\n",
              "  "
            ]
          },
          "metadata": {},
          "execution_count": 40
        }
      ],
      "source": [
        "Data.head()"
      ]
    },
    {
      "cell_type": "code",
      "execution_count": 41,
      "metadata": {
        "id": "3QAlS29T6rlB"
      },
      "outputs": [],
      "source": [
        "# Splitting the Dataset into Train and Val Dataset based on date\n",
        "split_date = '2021-01-03'"
      ]
    },
    {
      "cell_type": "code",
      "execution_count": 42,
      "metadata": {
        "id": "DzBEaUAp6_fi",
        "colab": {
          "base_uri": "https://localhost:8080/"
        },
        "outputId": "b0b20722-5ead-4537-f54f-2da6931d571a"
      },
      "outputs": [
        {
          "output_type": "stream",
          "name": "stdout",
          "text": [
            "(496415, 55) (331008, 55)\n"
          ]
        }
      ],
      "source": [
        "Train = Data.loc[Data.date <= split_date]\n",
        "Val = Data.loc[Data.date > split_date]\n",
        "print(Train.shape, Val.shape)"
      ]
    },
    {
      "cell_type": "code",
      "execution_count": 43,
      "metadata": {
        "id": "SYGMOpVx6xox",
        "colab": {
          "base_uri": "https://localhost:8080/"
        },
        "outputId": "5fefbd44-e756-4cf8-b44f-ed2730726ac3"
      },
      "outputs": [
        {
          "output_type": "stream",
          "name": "stdout",
          "text": [
            "{'ST12000NM0007': 69106, 'TOSHIBA MG07ACA14TA': 63099, 'ST12000NM0008': 57859, 'ST4000DM000': 56775, 'ST8000NM0055': 43219, 'HGST HMS5C4040BLE640': 38229, 'HGST HUH721212ALN604': 32490, 'ST8000DM002': 29310, 'ST12000NM001G': 21386, 'ST14000NM001G': 17961, 'WDC WUH721414ALE6L4': 17686, 'HGST HMS5C4040ALE640': 9241, 'HGST HUH721212ALE600': 7800, 'HGST HUH721212ALE604': 7518, 'ST10000NM0086': 3603, 'HGST HUH728080ALE600': 3238, 'TOSHIBA MG08ACA16TEY': 3042, 'ST6000DX000': 2658, 'Seagate BarraCuda SSD ZA250CM10002': 1674, 'ST500LM012 HN': 1362, 'Seagate BarraCuda 120 SSD ZA250CM10003': 1218, 'TOSHIBA MQ01ABF050M': 1149, 'ST14000NM0138': 1080, 'TOSHIBA MQ01ABF050': 1059, 'ST500LM030': 723, 'WDC WD5000LPVX': 593, 'TOSHIBA MG07ACA14TEY': 480, 'DELLBOSS VD': 348, 'Seagate SSD': 324, 'TOSHIBA MD04ABA400V': 297, 'WDC  WUH721414ALE6L4': 293, 'ST18000NM000J': 180, 'ST16000NM001G': 177, 'WDC WD5000LPCX': 159, 'TOSHIBA MG08ACA16TA': 118, 'ST4000DM005': 114, 'MTFDDAV240TCB': 114, 'ST500LM021': 99, 'HGST HUS726040ALE610': 82, 'ST16000NM005G': 78, 'ST8000DM005': 75, 'HGST HDS5C4040ALE630': 75, 'HGST HUH721010ALE600': 60, 'Seagate BarraCuda SSD ZA500CM10002': 54, 'TOSHIBA HDWF180': 51, 'ST12000NM0117': 30, 'WDC WD5000BPKT': 30, 'ST14000NM0018': 15, 'TOSHIBA HDWE160': 12, 'Seagate BarraCuda SSD ZA2000CM10002': 12, 'SSDSCKKB480G8R': 12, 'ST6000DM001': 12, 'WDC WD60EFRX': 9, 'Hitachi HDS5C4040ALE630': 9, 'MTFDDAV240TDU': 6, 'HGST HMS5C4040BLE641': 3, 'ST1000LM024 HN': 3, 'ST6000DM004': 3, 'ST8000DM004': 3}\n",
            "\n",
            "**************************************************\n",
            "(496415, 2)\n",
            "(331008, 2)\n"
          ]
        }
      ],
      "source": [
        "# Response encoding the 'model' feature.\n",
        "values, TR, FA = res_fit(Train['model'], Train['failure'].values)\n",
        "print(values)\n",
        "print()\n",
        "Train_model = res_transform(Train['model'], TR, FA)\n",
        "Val_model = res_transform(Val['model'], TR, FA)\n",
        "print('*'*50)\n",
        "print(Train_model.shape)\n",
        "print(Val_model.shape)"
      ]
    },
    {
      "cell_type": "code",
      "execution_count": 44,
      "metadata": {
        "id": "ZRn1AKVA9Toz",
        "colab": {
          "base_uri": "https://localhost:8080/",
          "height": 364
        },
        "outputId": "e85c24cc-11af-4bf8-acb3-5cfb4f68e66f"
      },
      "outputs": [
        {
          "output_type": "stream",
          "name": "stderr",
          "text": [
            "WARNING:matplotlib.legend:No handles with labels found to put in legend.\n"
          ]
        },
        {
          "output_type": "stream",
          "name": "stdout",
          "text": [
            "0    496406\n",
            "1         9\n",
            "Name: failure, dtype: int64\n"
          ]
        },
        {
          "output_type": "display_data",
          "data": {
            "text/plain": [
              "<Figure size 432x288 with 1 Axes>"
            ],
            "image/png": "[encoded data removed]"
          },
          "metadata": {
            "needs_background": "light"
          }
        }
      ],
      "source": [
        "# Checking the balance of the Train Dataset.\n",
        "total = len(Train)\n",
        "print(Train.failure.value_counts())\n",
        "ax = sns.countplot(x = 'failure', data = Train)\n",
        "for p in ax.patches:\n",
        "  ax.annotate('{}'.format(p.get_height()), (p.get_x()+0.25, p.get_height()+5))\n",
        "ax.yaxis.set_ticks(np.linspace(0, total, 11))\n",
        "plt.legend()\n",
        "plt.title(\"Failure Counts\")\n",
        "plt.show()"
      ]
    },
    {
      "cell_type": "code",
      "execution_count": 45,
      "metadata": {
        "id": "QYjz4-iJ9ftm",
        "colab": {
          "base_uri": "https://localhost:8080/",
          "height": 364
        },
        "outputId": "0b5b50ee-7903-4f34-a941-5ad47f17dcde"
      },
      "outputs": [
        {
          "output_type": "stream",
          "name": "stderr",
          "text": [
            "WARNING:matplotlib.legend:No handles with labels found to put in legend.\n"
          ]
        },
        {
          "output_type": "stream",
          "name": "stdout",
          "text": [
            "0    330993\n",
            "1        15\n",
            "Name: failure, dtype: int64\n"
          ]
        },
        {
          "output_type": "display_data",
          "data": {
            "text/plain": [
              "<Figure size 432x288 with 1 Axes>"
            ],
            "image/png": "[encoded data removed]"
          },
          "metadata": {
            "needs_background": "light"
          }
        }
      ],
      "source": [
        "# Checking the balance of the Val Dataset.\n",
        "total = len(Val)\n",
        "print(Val.failure.value_counts())\n",
        "ax = sns.countplot(x = 'failure', data = Val)\n",
        "for p in ax.patches:\n",
        "  ax.annotate('{}'.format(p.get_height()), (p.get_x()+0.25, p.get_height()+5))\n",
        "ax.yaxis.set_ticks(np.linspace(0, total, 11))\n",
        "plt.legend()\n",
        "plt.title(\"Failure Counts\")\n",
        "plt.show()"
      ]
    },
    {
      "cell_type": "markdown",
      "metadata": {
        "id": "2zZY14OkzpMd"
      },
      "source": [
        "From the above, it is found that Dataset is highly imbalanced with class 1 (i.e. HDD is failure) as minority."
      ]
    },
    {
      "cell_type": "code",
      "execution_count": 46,
      "metadata": {
        "id": "nljjqfZ79xGn"
      },
      "outputs": [],
      "source": [
        "#del Data"
      ]
    },
    {
      "cell_type": "code",
      "execution_count": 47,
      "metadata": {
        "id": "MVAMFSxJdncm"
      },
      "outputs": [],
      "source": [
        "#Train.drop('smart_241_normalized', axis = 1, inplace = True)\n",
        "#Val.drop('smart_241_normalized', axis = 1, inplace = True)"
      ]
    },
    {
      "cell_type": "markdown",
      "metadata": {
        "id": "d3yK3kWBr5Vh"
      },
      "source": [
        "# 6. Upsampling of Minority Class of Train using SMOTE\n",
        "\n",
        "\n",
        "\n"
      ]
    },
    {
      "cell_type": "markdown",
      "metadata": {
        "id": "Udw33iYPKy1A"
      },
      "source": [
        "> Instead of upsampling the minority class by normal sampling (i.e. creating duplicates of same points) SMOTE technique is used as upsampling technique as it upsamples by interpolation."
      ]
    },
    {
      "cell_type": "code",
      "execution_count": 48,
      "metadata": {
        "id": "cfRuGFdV96K9"
      },
      "outputs": [],
      "source": [
        "X_Train_orig = Train.drop(f, axis = 1).values\n",
        "Y_Train_orig = Train.failure.values\n",
        "X_Val_orig = Val.drop(f, axis = 1).values\n",
        "Y_Val_orig = Val.failure.values"
      ]
    },
    {
      "cell_type": "code",
      "execution_count": 49,
      "metadata": {
        "id": "AdqDxKPifOVJ",
        "colab": {
          "base_uri": "https://localhost:8080/"
        },
        "outputId": "eab380a6-a9b6-4e0a-d373-107b12cffcaa"
      },
      "outputs": [
        {
          "output_type": "execute_result",
          "data": {
            "text/plain": [
              "((496415, 50), (496415,))"
            ]
          },
          "metadata": {},
          "execution_count": 49
        }
      ],
      "source": [
        "X_Train_orig.shape, Y_Train_orig.shape"
      ]
    },
    {
      "cell_type": "code",
      "execution_count": 50,
      "metadata": {
        "id": "v4rPjqq1-eij",
        "colab": {
          "base_uri": "https://localhost:8080/"
        },
        "outputId": "8a1a6720-94a9-491e-dcfc-a9c867ca24ab"
      },
      "outputs": [
        {
          "output_type": "execute_result",
          "data": {
            "text/plain": [
              "((331008, 50), (331008,))"
            ]
          },
          "metadata": {},
          "execution_count": 50
        }
      ],
      "source": [
        "X_Val_orig.shape, Y_Val_orig.shape"
      ]
    },
    {
      "cell_type": "code",
      "execution_count": 51,
      "metadata": {
        "id": "oLm712gdq87g",
        "colab": {
          "base_uri": "https://localhost:8080/"
        },
        "outputId": "9d6ea801-3771-428d-b3d9-52b88e4a14dd"
      },
      "outputs": [
        {
          "output_type": "execute_result",
          "data": {
            "text/plain": [
              "((496415, 52), (331008, 52))"
            ]
          },
          "metadata": {},
          "execution_count": 51
        }
      ],
      "source": [
        "# Stacking the response encoded array with respective Train and Val dataset.\n",
        "X_Train_orig = np.hstack((X_Train_orig, Train_model))\n",
        "X_Val_orig = np.hstack((X_Val_orig, Val_model))\n",
        "X_Train_orig.shape, X_Val_orig.shape"
      ]
    },
    {
      "cell_type": "code",
      "execution_count": 52,
      "metadata": {
        "id": "UpWqZuTZGbP7"
      },
      "outputs": [],
      "source": [
        "del Train_model\n",
        "del Val_model"
      ]
    },
    {
      "cell_type": "code",
      "execution_count": 53,
      "metadata": {
        "id": "kn2-CUWfg7Ha",
        "colab": {
          "base_uri": "https://localhost:8080/"
        },
        "outputId": "5a5129c2-538b-40ec-9fd3-d8e8063dfaae"
      },
      "outputs": [
        {
          "output_type": "execute_result",
          "data": {
            "text/plain": [
              "(Counter({0: 496406, 1: 9}), Counter({0: 330993, 1: 15}))"
            ]
          },
          "metadata": {},
          "execution_count": 53
        }
      ],
      "source": [
        "Counter(Y_Train_orig), Counter(Y_Val_orig)"
      ]
    },
    {
      "cell_type": "code",
      "execution_count": 54,
      "metadata": {
        "id": "HPbTQ3VZg8aH"
      },
      "outputs": [],
      "source": [
        "# SMOTE sampling\n",
        "# class imblearn.over_sampling.SMOTE(sampling_strategy='auto', random_state=None, k_neighbors=5, m_neighbors='deprecated', out_step='deprecated', kind='deprecated', svm_estimator='deprecated', n_jobs=1, ratio=None)\n",
        "# k_neighbors (default=5) : number of nearest neighbours to used to construct synthetic samples.\n",
        "from imblearn.under_sampling import RandomUnderSampler\n",
        "from imblearn.pipeline import Pipeline\n",
        "\n",
        "under = RandomUnderSampler(sampling_strategy = 0.8)\n",
        "over_smote = SMOTE(n_jobs = -1, k_neighbors = 1, sampling_strategy = 0.5)\n",
        "steps = [('o', over_smote), ('u', under)]\n",
        "pipeline = Pipeline(steps = steps)"
      ]
    },
    {
      "cell_type": "code",
      "execution_count": 55,
      "metadata": {
        "id": "rGmZBD2phFh4"
      },
      "outputs": [],
      "source": [
        "# SMOTE oversampling is applied on Train dataset as per oversampling concepts.\n",
        "# Since Val dataset is also highly imbalanced, regular oversampling is applied(i.e creating duplicates of minority class)\n",
        "\n",
        "x_train_sam, y_train_sam = pipeline.fit_resample(X_Train_orig, Y_Train_orig) # Resampling the Training Data by oversampling the minority class using SMOTE \n",
        "#and undersampling the majority class.\n",
        "x_val, y_val = X_Val_orig, Y_Val_orig"
      ]
    },
    {
      "cell_type": "code",
      "execution_count": 56,
      "metadata": {
        "id": "HvaU_DlWhRX1",
        "colab": {
          "base_uri": "https://localhost:8080/"
        },
        "outputId": "e465fb4d-c054-430c-f97a-d0cd611deb32"
      },
      "outputs": [
        {
          "output_type": "execute_result",
          "data": {
            "text/plain": [
              "((558456, 52), (558456,))"
            ]
          },
          "metadata": {},
          "execution_count": 56
        }
      ],
      "source": [
        "x_train_sam.shape, y_train_sam.shape # Final shape of Train datapoints."
      ]
    },
    {
      "cell_type": "code",
      "execution_count": 57,
      "metadata": {
        "id": "zVsgKmeAACO-",
        "colab": {
          "base_uri": "https://localhost:8080/"
        },
        "outputId": "4fa23122-5e3c-4e2b-b366-526bf730f699"
      },
      "outputs": [
        {
          "output_type": "execute_result",
          "data": {
            "text/plain": [
              "((331008, 52), (331008,))"
            ]
          },
          "metadata": {},
          "execution_count": 57
        }
      ],
      "source": [
        "x_val.shape, y_val.shape # Final shape of Val datapoints."
      ]
    },
    {
      "cell_type": "code",
      "execution_count": 58,
      "metadata": {
        "id": "CFmCkWbefdYi",
        "colab": {
          "base_uri": "https://localhost:8080/",
          "height": 0
        },
        "outputId": "5c1fc485-23aa-403a-c474-0d193820b3ed"
      },
      "outputs": [
        {
          "output_type": "stream",
          "name": "stdout",
          "text": [
            "Counter({0: 310253, 1: 248203})\n"
          ]
        },
        {
          "output_type": "stream",
          "name": "stderr",
          "text": [
            "/usr/local/lib/python3.8/dist-packages/seaborn/_decorators.py:36: FutureWarning: Pass the following variable as a keyword arg: x. From version 0.12, the only valid positional argument will be `data`, and passing other arguments without an explicit keyword will result in an error or misinterpretation.\n",
            "  warnings.warn(\n"
          ]
        },
        {
          "output_type": "display_data",
          "data": {
            "text/plain": [
              "<Figure size 432x288 with 1 Axes>"
            ],
            "image/png": "[encoded data removed]"
          },
          "metadata": {
            "needs_background": "light"
          }
        }
      ],
      "source": [
        "# Visualization after balancing Train Dataset.\n",
        "total = len(X_Train_orig)\n",
        "print(Counter(y_train_sam))\n",
        "ax = sns.countplot(y_train_sam)\n",
        "for p in ax.patches:\n",
        "  ax.annotate('{}'.format(p.get_height()), (p.get_x()+0.25, p.get_height()+5))\n",
        "\n",
        "ax.yaxis.set_ticks(np.linspace(0, total, 11))\n",
        "plt.title(\"Failure counts after sampling\")\n",
        "plt.show()"
      ]
    },
    {
      "cell_type": "code",
      "execution_count": 59,
      "metadata": {
        "id": "vNkJypyqALV-",
        "colab": {
          "base_uri": "https://localhost:8080/",
          "height": 0
        },
        "outputId": "b885de53-058a-44a0-ac59-5f884eb136d6"
      },
      "outputs": [
        {
          "output_type": "stream",
          "name": "stdout",
          "text": [
            "Counter({0: 330993, 1: 15})\n"
          ]
        },
        {
          "output_type": "stream",
          "name": "stderr",
          "text": [
            "/usr/local/lib/python3.8/dist-packages/seaborn/_decorators.py:36: FutureWarning: Pass the following variable as a keyword arg: x. From version 0.12, the only valid positional argument will be `data`, and passing other arguments without an explicit keyword will result in an error or misinterpretation.\n",
            "  warnings.warn(\n"
          ]
        },
        {
          "output_type": "display_data",
          "data": {
            "text/plain": [
              "<Figure size 432x288 with 1 Axes>"
            ],
            "image/png": "[encoded data removed]"
          },
          "metadata": {
            "needs_background": "light"
          }
        }
      ],
      "source": [
        "# Visualization after balancing Val Dataset.\n",
        "total = len(X_Val_orig)\n",
        "print(Counter(y_val))\n",
        "ax = sns.countplot(y_val)\n",
        "for p in ax.patches:\n",
        "  ax.annotate('{}'.format(p.get_height()), (p.get_x()+0.25, p.get_height()+5))\n",
        "\n",
        "ax.yaxis.set_ticks(np.linspace(0, total, 11))\n",
        "plt.title(\"Failure counts after sampling\")\n",
        "plt.show()"
      ]
    },
    {
      "cell_type": "markdown",
      "metadata": {
        "id": "USW9WhReu7eP"
      },
      "source": [
        "From the above it is seen that, after oversampling both classes are balanced."
      ]
    },
    {
      "cell_type": "markdown",
      "metadata": {
        "id": "eT72b-HvAx2T"
      },
      "source": [
        "# 7. Standardization:"
      ]
    },
    {
      "cell_type": "code",
      "execution_count": 60,
      "metadata": {
        "id": "2Lx2yzno3sgG"
      },
      "outputs": [],
      "source": [
        "from sklearn.preprocessing import Normalizer, StandardScaler\n",
        "normalizer = Normalizer()\n",
        "sc = StandardScaler()"
      ]
    },
    {
      "cell_type": "code",
      "execution_count": 61,
      "metadata": {
        "id": "RuQGHLW9BA7w"
      },
      "outputs": [],
      "source": [
        "# Standardizing both Train and Val Dataset.\n",
        "sc.fit(x_train_sam)\n",
        "\n",
        "X_train_standard = sc.transform(x_train_sam)\n",
        "X_val_standard = sc.transform(x_val)"
      ]
    },
    {
      "cell_type": "code",
      "execution_count": 62,
      "metadata": {
        "id": "LJUGKcCcYVl_",
        "colab": {
          "base_uri": "https://localhost:8080/"
        },
        "outputId": "62a5d5ee-293f-43f3-d6f2-666d21df77a1"
      },
      "outputs": [
        {
          "output_type": "stream",
          "name": "stdout",
          "text": [
            "Train 8.108949469133346e-11 0.9999999999999335\n",
            "Val 0.019665222306164576 1.0737987616819318\n",
            "(558456, 52) (331008, 52)\n"
          ]
        }
      ],
      "source": [
        "print(\"Train\", np.mean(X_train_standard), np.std(X_train_standard))\n",
        "print(\"Val\", np.mean(X_val_standard), np.std(X_val_standard))\n",
        "print(X_train_standard.shape, X_val_standard.shape)"
      ]
    },
    {
      "cell_type": "code",
      "execution_count": 63,
      "metadata": {
        "id": "cTOUclsgIIAD",
        "colab": {
          "base_uri": "https://localhost:8080/"
        },
        "outputId": "385c121e-3c66-4b99-face-26487cc80e08"
      },
      "outputs": [
        {
          "output_type": "execute_result",
          "data": {
            "text/plain": [
              "array([-0.69662228,  1.32114118,  0.33770289, -0.48513052,  0.28950076,\n",
              "       -0.12000811,  0.28871344, -0.33598051,  0.14367963, -0.0016419 ,\n",
              "        0.81647377, -0.95357858,  0.26239141, -0.01524927,  0.01962764,\n",
              "       -0.68574159, -0.65613891, -0.00242408,  1.05808777, -0.18764966,\n",
              "        0.75480941, -0.03744327,  0.74208205,  0.73287084, -0.01764662,\n",
              "       -0.22958824,  0.42961408, -0.34968459, -0.62640549, -0.01683987,\n",
              "       -0.68857031, -0.00774503,  0.26420763, -0.24015016,  0.26333236,\n",
              "       -0.23951394,  0.3260061 , -0.01005951,  0.56678329, -0.6231669 ,\n",
              "        0.67736604,  0.34285887,  0.67737725, -0.40465421,  0.67434823,\n",
              "        0.70389423, -0.37581374,  0.30060472,  0.71539231,  0.65814986,\n",
              "       -0.45217008,  0.45217009])"
            ]
          },
          "metadata": {},
          "execution_count": 63
        }
      ],
      "source": [
        "X_val_standard[0]"
      ]
    },
    {
      "cell_type": "markdown",
      "metadata": {
        "id": "ibqu809NDoqf"
      },
      "source": [
        "# 8. Test Dataset"
      ]
    },
    {
      "cell_type": "code",
      "execution_count": 64,
      "metadata": {
        "id": "hy7C32blKL5V",
        "colab": {
          "base_uri": "https://localhost:8080/"
        },
        "outputId": "329e4b2e-413b-4e25-9068-2890a08d3152"
      },
      "outputs": [
        {
          "output_type": "execute_result",
          "data": {
            "text/plain": [
              "(330211, 149)"
            ]
          },
          "metadata": {},
          "execution_count": 64
        }
      ],
      "source": [
        "# Creating the Test Dataset to check performance of the model.\n",
        "# Test data is from 2021-01-06 to 2019-01-07\n",
        "\n",
        "Dates = ['07']\n",
        "Test = pd.read_csv(\"/content/drive/My Drive/hdddata/2021/2021-01-06.csv\")\n",
        "for i in Dates:\n",
        "  Test = Test.append(pd.read_csv(\"/content/drive/My Drive/hdddata/2021/2021-01-\" + i + \".csv\"))\n",
        "\n",
        "Test.reset_index(inplace = True)\n",
        "Test.drop('index', axis = 1, inplace = True)\n",
        "Test.shape"
      ]
    },
    {
      "cell_type": "code",
      "execution_count": 65,
      "metadata": {
        "id": "-6w9KFRDoO6m",
        "colab": {
          "base_uri": "https://localhost:8080/"
        },
        "outputId": "91a7ea2b-f0bd-4064-c1c6-ca2f2f05e97b"
      },
      "outputs": [
        {
          "output_type": "execute_result",
          "data": {
            "text/plain": [
              "0    330204\n",
              "1         7\n",
              "Name: failure, dtype: int64"
            ]
          },
          "metadata": {},
          "execution_count": 65
        }
      ],
      "source": [
        "Test.failure.value_counts()"
      ]
    },
    {
      "cell_type": "code",
      "execution_count": 66,
      "metadata": {
        "id": "2ZAlaYf6KLyS",
        "colab": {
          "base_uri": "https://localhost:8080/"
        },
        "outputId": "45879d41-f7ae-4f67-9f2f-fc55c0f81f80"
      },
      "outputs": [
        {
          "output_type": "execute_result",
          "data": {
            "text/plain": [
              "(330211, 49)"
            ]
          },
          "metadata": {},
          "execution_count": 66
        }
      ],
      "source": [
        "# Preprocessing of Test Data.\n",
        "Test.drop(Initial[Null], axis = 1, inplace = True)\n",
        "Test.drop(M_features[index], axis = 1, inplace = True)\n",
        "Test.shape"
      ]
    },
    {
      "cell_type": "code",
      "execution_count": 67,
      "metadata": {
        "id": "k7bGNfZprH7P",
        "colab": {
          "base_uri": "https://localhost:8080/"
        },
        "outputId": "392ea0fe-58a8-4be0-c85b-a0707c830e39"
      },
      "outputs": [
        {
          "output_type": "stream",
          "name": "stdout",
          "text": [
            "(330211, 49)\n",
            "(330155, 49)\n"
          ]
        }
      ],
      "source": [
        "print(Test.shape)\n",
        "Test.drop(np.where(Test['capacity_bytes'] == -1)[0], inplace = True)\n",
        "print(Test.shape)"
      ]
    },
    {
      "cell_type": "code",
      "execution_count": 68,
      "metadata": {
        "id": "ds6QtRN0TV6L",
        "colab": {
          "base_uri": "https://localhost:8080/"
        },
        "outputId": "7d3cc184-b6ba-410a-fa3d-308a68c3ca1b"
      },
      "outputs": [
        {
          "output_type": "execute_result",
          "data": {
            "text/plain": [
              "0    330148\n",
              "1         7\n",
              "Name: failure, dtype: int64"
            ]
          },
          "metadata": {},
          "execution_count": 68
        }
      ],
      "source": [
        "Test.failure.value_counts()"
      ]
    },
    {
      "cell_type": "code",
      "execution_count": 69,
      "metadata": {
        "id": "W9w_Ez_nsw2u"
      },
      "outputs": [],
      "source": [
        "Test = Test.fillna(0)"
      ]
    },
    {
      "cell_type": "code",
      "execution_count": 70,
      "metadata": {
        "id": "UofI_2KBnmvt",
        "colab": {
          "base_uri": "https://localhost:8080/"
        },
        "outputId": "ce35cca6-c6c8-44ee-f99a-685c25bd8106"
      },
      "outputs": [
        {
          "output_type": "execute_result",
          "data": {
            "text/plain": [
              "(330155, 55)"
            ]
          },
          "metadata": {},
          "execution_count": 70
        }
      ],
      "source": [
        "for i in cf:\n",
        "   n = re.findall('\\d+',i) \n",
        "   s = 'smart_' + ''.join(n) + '_sig'\n",
        "   Test[s] = Test[i].apply(Sigmoid)\n",
        "Test.shape"
      ]
    },
    {
      "cell_type": "code",
      "execution_count": 71,
      "metadata": {
        "id": "GDmdT8u5nmhL"
      },
      "outputs": [],
      "source": [
        "Test_model = res_transform(Test['model'], TR, FA)"
      ]
    },
    {
      "cell_type": "code",
      "execution_count": 72,
      "metadata": {
        "id": "r5-dHoXaobSS"
      },
      "outputs": [],
      "source": [
        "X_Test_orig = Test.drop(f, axis = 1).values\n",
        "Y_Test_orig = Test.failure.values"
      ]
    },
    {
      "cell_type": "code",
      "execution_count": 73,
      "metadata": {
        "id": "-LbqqfhvobI8",
        "colab": {
          "base_uri": "https://localhost:8080/"
        },
        "outputId": "d9700b58-4272-48b0-c38e-d30511e4afbd"
      },
      "outputs": [
        {
          "output_type": "execute_result",
          "data": {
            "text/plain": [
              "(330155, 52)"
            ]
          },
          "metadata": {},
          "execution_count": 73
        }
      ],
      "source": [
        "X_Test_orig = np.hstack((X_Test_orig, Test_model))\n",
        "X_Test_orig.shape"
      ]
    },
    {
      "cell_type": "code",
      "execution_count": 74,
      "metadata": {
        "id": "7GuNFmP-uRoe"
      },
      "outputs": [],
      "source": [
        "x_test, y_test = X_Test_orig, Y_Test_orig"
      ]
    },
    {
      "cell_type": "code",
      "execution_count": 75,
      "metadata": {
        "id": "mN7ts7SWFq8I",
        "colab": {
          "base_uri": "https://localhost:8080/"
        },
        "outputId": "f7d5780c-1522-4f0b-f537-a35cca17f395"
      },
      "outputs": [
        {
          "output_type": "execute_result",
          "data": {
            "text/plain": [
              "(330155, 52)"
            ]
          },
          "metadata": {},
          "execution_count": 75
        }
      ],
      "source": [
        "x_test.shape"
      ]
    },
    {
      "cell_type": "code",
      "execution_count": 76,
      "metadata": {
        "id": "dA8Unaz6F7f0",
        "colab": {
          "base_uri": "https://localhost:8080/"
        },
        "outputId": "0e12db00-a64e-4b01-acee-7f0502a61651"
      },
      "outputs": [
        {
          "output_type": "execute_result",
          "data": {
            "text/plain": [
              "Counter({0: 330148, 1: 7})"
            ]
          },
          "metadata": {},
          "execution_count": 76
        }
      ],
      "source": [
        "(Counter(y_test))"
      ]
    },
    {
      "cell_type": "code",
      "execution_count": 77,
      "metadata": {
        "id": "hcDmxKp4pFXX",
        "colab": {
          "base_uri": "https://localhost:8080/"
        },
        "outputId": "7c56db31-ddc7-4bc3-cf5f-7086a1656c00"
      },
      "outputs": [
        {
          "output_type": "execute_result",
          "data": {
            "text/plain": [
              "(330155, 52)"
            ]
          },
          "metadata": {},
          "execution_count": 77
        }
      ],
      "source": [
        "# Standardisation of Test Dataset.\n",
        "X_test_standard = sc.transform(x_test)\n",
        "X_test_standard.shape"
      ]
    },
    {
      "cell_type": "markdown",
      "metadata": {
        "id": "0XaXwc65r-VD"
      },
      "source": [
        "# 9. Modelling"
      ]
    },
    {
      "cell_type": "code",
      "execution_count": 78,
      "metadata": {
        "id": "Hh6aUpAKrgDH"
      },
      "outputs": [],
      "source": [
        "import warnings\n",
        "warnings.filterwarnings(\"ignore\")\n",
        "from random import sample, choice\n",
        "from tqdm import tqdm\n",
        "\n",
        "from sklearn.linear_model import LogisticRegression\n",
        "from sklearn.metrics import roc_auc_score, confusion_matrix, precision_score, recall_score, roc_curve, auc, classification_report, f1_score, precision_recall_curve\n",
        "from scipy.stats import randint as sp_randint, uniform\n",
        "from sklearn.model_selection import RandomizedSearchCV, StratifiedKFold\n",
        "from sklearn.calibration import CalibratedClassifierCV\n",
        "from sklearn.ensemble import StackingClassifier\n",
        "from sklearn.linear_model import SGDClassifier\n",
        "from sklearn.kernel_approximation import Nystroem\n",
        "from sklearn.svm import LinearSVC\n",
        "\n",
        "balance = [{0:1,1:10}, {0:1,1:100}, {0:1,1:1000}, {0:1,1:10000}, {0:10,1:100000}]"
      ]
    },
    {
      "cell_type": "code",
      "execution_count": 79,
      "metadata": {
        "id": "3drECh-zrksQ"
      },
      "outputs": [],
      "source": [
        "# This function is used to plot Cofusion Matrix, Precision Matrix and Recall Matrix.\n",
        "def plot_matrices(Y, Y_Pred):\n",
        "    C = confusion_matrix(Y, Y_Pred) # Confusion Matrix\n",
        "    \n",
        "    A =(((C.T)/(C.sum(axis=1))).T) # Calculating Recall Matrix\n",
        "    \n",
        "    B =(C/C.sum(axis=0)) # Calculating Precision Matrix\n",
        "    plt.figure(figsize=(20,4))\n",
        "    \n",
        "    labels = [0,1]\n",
        "    # representing A in heatmap format\n",
        "    cmap=sns.light_palette(\"blue\")\n",
        "    plt.subplot(1, 3, 1)\n",
        "    sns.heatmap(C, annot=True, cmap=cmap, fmt=\".3f\", xticklabels=labels, yticklabels=labels)\n",
        "    plt.xlabel('Predicted Class')\n",
        "    plt.ylabel('Original Class')\n",
        "    plt.title(\"Confusion matrix\")\n",
        "    \n",
        "    plt.subplot(1, 3, 2)\n",
        "    sns.heatmap(B, annot=True, cmap=cmap, fmt=\".3f\", xticklabels=labels, yticklabels=labels)\n",
        "    plt.xlabel('Predicted Class')\n",
        "    plt.ylabel('Original Class')\n",
        "    plt.title(\"Precision matrix\")\n",
        "    print(\"Sum of columns in precision matrix\",B.sum(axis=0))\n",
        "    \n",
        "    plt.subplot(1, 3, 3)\n",
        "    # representing B in heatmap format\n",
        "    sns.heatmap(A, annot=True, cmap=cmap, fmt=\".3f\", xticklabels=labels, yticklabels=labels)\n",
        "    plt.xlabel('Predicted Class')\n",
        "    plt.ylabel('Original Class')\n",
        "    plt.title(\"Recall matrix\")\n",
        "    print(\"Sum of rows in recall matrix\",A.sum(axis=1))\n",
        "    \n",
        "    plt.show()\n"
      ]
    },
    {
      "cell_type": "code",
      "execution_count": 80,
      "metadata": {
        "id": "fg3-Y1ZOroMB"
      },
      "outputs": [],
      "source": [
        "# This function prints the metrics of the model.\n",
        "def Metrics(model, X, Y, threshold):\n",
        "    y_pred_prob = model.predict_proba(X)[:, 1]\n",
        "    y_pred = model.predict(X)\n",
        "\n",
        "    print(\"The Prescision Score: \", precision_score(Y, predict_with_best_t(y_pred_prob, threshold)))\n",
        "    print(\"The Recall Score: \", recall_score(Y, predict_with_best_t(y_pred_prob, threshold)))\n",
        "    print(\"The ROC Score: \", roc_auc_score(Y, y_pred_prob))\n",
        "    print(\"The F1 Score: \", f1_score(Y, predict_with_best_t(y_pred_prob, threshold)))\n",
        "    print('*'*100)\n",
        "    print(classification_report(Y, predict_with_best_t(y_pred_prob, threshold)))\n",
        "    print('*'*100)\n",
        "    plot_matrices(Y, predict_with_best_t(y_pred_prob, threshold))"
      ]
    },
    {
      "cell_type": "code",
      "execution_count": 81,
      "metadata": {
        "id": "TRwipCbh6sZn"
      },
      "outputs": [],
      "source": [
        "def to_labels(pos_probs, threshold):\n",
        "\treturn (pos_probs >= threshold).astype('int')"
      ]
    },
    {
      "cell_type": "code",
      "execution_count": 82,
      "metadata": {
        "id": "cHwuTub86tb-"
      },
      "outputs": [],
      "source": [
        "def find_best_threshold(threshould, fpr, tpr):\n",
        "    # This function finds the optimal threshold value based on G-Mean metric\n",
        "    # The Geometric Mean or G-Mean is a metric for imbalanced classification that, if optimized, will seek a balance between the sensitivity and the specificity.\n",
        "    # Ref: https://machinelearningmastery.com/threshold-moving-for-imbalanced-classification/\n",
        "    t = threshould[np.argmax(np.sqrt(tpr*(1-fpr)))]\n",
        "    # sqrt(tpr*(1-fpr)) will be maximum if your fpr is very low and tpr is very high\n",
        "    print(\"the maximum value of sqrt(tpr*(1-fpr))\", max(np.sqrt(tpr*(1-fpr))), \"for threshold\", np.round(t,3))\n",
        "    return t\n",
        "\n",
        "def predict_with_best_t(proba, threshould): # This function predicts class labels based on the optimal threshold value.\n",
        "    predictions = []\n",
        "    for i in proba:\n",
        "        if i>=threshould:\n",
        "            predictions.append(1)\n",
        "        else:\n",
        "            predictions.append(0)\n",
        "    return predictions\n",
        "\n",
        "def BEST(trainscores, testscores, TR, Models): # This function is used to get the best model based on the highest test score.\n",
        "  ind = np.argmax(testscores)\n",
        "  test_score = testscores[ind]\n",
        "  train_score = trainscores[ind]\n",
        "  threshold = TR[ind]\n",
        "  best_est = Models[ind]\n",
        "  return test_score, train_score, threshold, best_est"
      ]
    },
    {
      "cell_type": "markdown",
      "metadata": {
        "id": "UGYiNdBp3Yta"
      },
      "source": [
        "# 9.3. STACKING CLASSIFIER\n",
        "\n",
        "\n",
        "\n",
        "\n",
        "\n"
      ]
    },
    {
      "cell_type": "markdown",
      "metadata": {
        "id": "OoNcGN917AyC"
      },
      "source": [
        "> Estimators : Logistic Regression, SVC\n",
        "\n",
        "> Meta Classifier : Logistic Regression"
      ]
    },
    {
      "cell_type": "code",
      "execution_count": 83,
      "metadata": {
        "id": "1RKLpKJc2OPM",
        "colab": {
          "base_uri": "https://localhost:8080/"
        },
        "outputId": "1304902a-d62c-4dfc-c531-f4b8bc200400"
      },
      "outputs": [
        {
          "output_type": "execute_result",
          "data": {
            "text/plain": [
              "{'lr__C': [0.0001,\n",
              "  0.001,\n",
              "  0.01,\n",
              "  0.1,\n",
              "  1,\n",
              "  10.0,\n",
              "  100.0,\n",
              "  1000.0,\n",
              "  10000.0,\n",
              "  100000.0],\n",
              " 'lr__penalty': ['l1', 'l2', 'elasticnet'],\n",
              " 'lr__l1_ratio': [0.06312143616984756,\n",
              "  0.08010778544005881,\n",
              "  0.1484652528741386,\n",
              "  0.2790789213459075,\n",
              "  0.5979506164513365,\n",
              "  0.6185946267645039,\n",
              "  0.699003263681232,\n",
              "  0.7302420396989175,\n",
              "  0.8824556045702142,\n",
              "  0.9008169756076922],\n",
              " 'lr__class_weight': [{0: 1, 1: 10},\n",
              "  {0: 1, 1: 100},\n",
              "  {0: 1, 1: 1000},\n",
              "  {0: 1, 1: 10000},\n",
              "  {0: 10, 1: 100000}],\n",
              " 'svc__alpha': [0.0001,\n",
              "  0.001,\n",
              "  0.01,\n",
              "  0.1,\n",
              "  1,\n",
              "  10.0,\n",
              "  100.0,\n",
              "  1000.0,\n",
              "  10000.0,\n",
              "  100000.0],\n",
              " 'svc__penalty': ['l1', 'l2'],\n",
              " 'svc__l1_ratio': [0.17677423305111495,\n",
              "  0.3072892605973454,\n",
              "  0.5075826043176433,\n",
              "  0.5167092740550165,\n",
              "  0.5565850770153404,\n",
              "  0.6033700748599373,\n",
              "  0.6480888489268055,\n",
              "  0.8052317083701516,\n",
              "  0.8329655029087657,\n",
              "  0.8334394540218354],\n",
              " 'final_estimator__C': [0.0001,\n",
              "  0.001,\n",
              "  0.01,\n",
              "  0.1,\n",
              "  1,\n",
              "  10.0,\n",
              "  100.0,\n",
              "  1000.0,\n",
              "  10000.0,\n",
              "  100000.0],\n",
              " 'final_estimator__penalty': ['l1', 'l2', 'elasticnet'],\n",
              " 'final_estimator__l1_ratio': [0.029183102313423914,\n",
              "  0.2734574868135575,\n",
              "  0.36391863359596976,\n",
              "  0.4353767836528608,\n",
              "  0.4557005872876372,\n",
              "  0.5974686377267786,\n",
              "  0.6574387774532411,\n",
              "  0.6887691701580607,\n",
              "  0.8318995611144935,\n",
              "  0.9243471366821949]}"
            ]
          },
          "metadata": {},
          "execution_count": 83
        }
      ],
      "source": [
        "# Hyperparameter tuning of estimators and meta classifier.\n",
        "param = {'lr__C' : [1e-4, 1e-3, 1e-2, 1e-1, 1, 1e1, 1e2, 1e3, 1e4, 1e5],\n",
        "         'lr__penalty' : ['l1', 'l2', 'elasticnet'],\n",
        "         'lr__l1_ratio' : list(np.sort(np.random.uniform(0, 1, 10))),\n",
        "         'lr__class_weight' : balance,\n",
        "         'svc__alpha' : [1e-4, 1e-3, 1e-2, 1e-1, 1, 1e1, 1e2, 1e3, 1e4, 1e5],\n",
        "         'svc__penalty' : ['l1', 'l2'],\n",
        "         'svc__l1_ratio' : list(np.sort(np.random.uniform(0, 1, 10))),\n",
        "         'final_estimator__C' : [1e-4, 1e-3, 1e-2, 1e-1, 1, 1e1, 1e2, 1e3, 1e4, 1e5],\n",
        "         'final_estimator__penalty' : ['l1', 'l2', 'elasticnet'],\n",
        "         'final_estimator__l1_ratio' : list(np.sort(np.random.uniform(0, 1, 10)))}\n",
        "\n",
        "svc = SGDClassifier(loss='hinge', n_jobs = -1)\n",
        "LR = LogisticRegression(n_jobs = -1, solver = 'saga')\n",
        "meta = LogisticRegression(n_jobs = -1, solver = 'saga')\n",
        "models = [('lr', LR), ('svc', svc)]\n",
        "param"
      ]
    },
    {
      "cell_type": "markdown",
      "metadata": {
        "id": "56stpxQQ7cGA"
      },
      "source": [
        "This custom Random SearchCV is built on the original Training dataset with stratifiedkfold split where at each fold the generated training data is sampled and trained with assigned parameter and evaluated on the generated unsampled val data using f1-score metric."
      ]
    },
    {
      "cell_type": "code",
      "execution_count": 84,
      "metadata": {
        "id": "zCkHTRay2OUy",
        "colab": {
          "base_uri": "https://localhost:8080/"
        },
        "outputId": "365ce0f0-38b2-428f-9084-a445595ce8a3"
      },
      "outputs": [
        {
          "output_type": "stream",
          "name": "stderr",
          "text": [
            "\r  0%|          | 0/10 [00:00<?, ?it/s]"
          ]
        },
        {
          "output_type": "stream",
          "name": "stdout",
          "text": [
            "\n",
            "B Counter({0: 446765, 1: 8})\n",
            "A Counter({0: 279227, 1: 223382})\n",
            "the maximum value of sqrt(tpr*(1-fpr)) 0.8136048311413979 for threshold 0.011\n",
            "Test 0.00011916820592265985\n",
            "Train 0.8242163502426911\n",
            "\n",
            "B Counter({0: 446765, 1: 8})\n",
            "A Counter({0: 279227, 1: 223382})\n",
            "the maximum value of sqrt(tpr*(1-fpr)) 0.9278802212797743 for threshold 0.009\n",
            "Test 0.00028968713789107763\n",
            "Train 0.9205744781685933\n",
            "\n",
            "B Counter({0: 446765, 1: 8})\n",
            "A Counter({0: 279227, 1: 223382})\n",
            "the maximum value of sqrt(tpr*(1-fpr)) 0.9993350058207235 for threshold 0.679\n",
            "Test 0.029411764705882353\n",
            "Train 0.31479633151918046\n",
            "\n",
            "B Counter({0: 446765, 1: 8})\n",
            "A Counter({0: 279227, 1: 223382})\n",
            "the maximum value of sqrt(tpr*(1-fpr)) 0.19015684609161296 for threshold 0.0\n",
            "Test 4.179903026249791e-05\n",
            "Train 0.6239729385096907\n",
            "\n",
            "B Counter({0: 446765, 1: 8})\n",
            "A Counter({0: 279227, 1: 223382})\n",
            "the maximum value of sqrt(tpr*(1-fpr)) 0.606631895138652 for threshold 0.0\n",
            "Test 6.374501992031872e-05\n",
            "Train 0.7174649669663303\n",
            "\n",
            "B Counter({0: 446765, 1: 9})\n",
            "A Counter({0: 279227, 1: 223382})\n",
            "the maximum value of sqrt(tpr*(1-fpr)) nan for threshold 2.0\n",
            "Test 0.0\n",
            "Train 0.0\n",
            "\n",
            "B Counter({0: 446766, 1: 8})\n",
            "A Counter({0: 279228, 1: 223383})\n",
            "the maximum value of sqrt(tpr*(1-fpr)) 0.30865176912665204 for threshold 0.0\n",
            "Test 4.453053681562131e-05\n",
            "Train 0.6386312695835145\n",
            "\n",
            "B Counter({0: 446766, 1: 8})\n",
            "A Counter({0: 279228, 1: 223383})\n",
            "the maximum value of sqrt(tpr*(1-fpr)) 0.9992442752781062 for threshold 0.681\n",
            "Test 0.025974025974025976\n",
            "Train 0.5880786090974218\n",
            "\n",
            "B Counter({0: 446766, 1: 8})\n",
            "A Counter({0: 279228, 1: 223383})\n",
            "the maximum value of sqrt(tpr*(1-fpr)) 0.12789752142675476 for threshold 0.0\n",
            "Test 4.095842719639566e-05\n",
            "Train 0.6191281934022076\n",
            "\n",
            "B Counter({0: 446766, 1: 8})\n",
            "A Counter({0: 279228, 1: 223383})\n",
            "the maximum value of sqrt(tpr*(1-fpr)) 0.7051382728826769 for threshold 0.0\n",
            "Test 8.012820512820511e-05\n",
            "Train 0.7617649465973728\n"
          ]
        },
        {
          "output_type": "stream",
          "name": "stderr",
          "text": [
            "\r 10%|█         | 1/10 [57:14<8:35:13, 3434.85s/it]"
          ]
        },
        {
          "output_type": "stream",
          "name": "stdout",
          "text": [
            "\n",
            "\n",
            "B Counter({0: 446765, 1: 8})\n",
            "A Counter({0: 279227, 1: 223382})\n",
            "the maximum value of sqrt(tpr*(1-fpr)) 0.7861408046135189 for threshold 0.0\n",
            "Test 0.0001054629824931449\n",
            "Train 0.8086270151693131\n",
            "\n",
            "B Counter({0: 446765, 1: 8})\n",
            "A Counter({0: 279227, 1: 223382})\n",
            "the maximum value of sqrt(tpr*(1-fpr)) 0.7907015875945134 for threshold 0.0\n",
            "Test 0.00010748642983823291\n",
            "Train 0.8098304077030721\n",
            "\n",
            "B Counter({0: 446765, 1: 8})\n",
            "A Counter({0: 279227, 1: 223382})\n",
            "the maximum value of sqrt(tpr*(1-fpr)) 0.9997380853998131 for threshold 1.0\n",
            "Test 0.07142857142857142\n",
            "Train 0.31300331328256487\n",
            "\n",
            "B Counter({0: 446765, 1: 8})\n",
            "A Counter({0: 279227, 1: 223382})\n",
            "the maximum value of sqrt(tpr*(1-fpr)) 0.9989821777744833 for threshold 0.996\n",
            "Test 0.01941747572815534\n",
            "Train 0.6078241250069925\n",
            "\n",
            "B Counter({0: 446765, 1: 8})\n",
            "A Counter({0: 279227, 1: 223382})\n",
            "the maximum value of sqrt(tpr*(1-fpr)) 0.973190720921281 for threshold 0.119\n",
            "Test 0.0007610350076103501\n",
            "Train 0.9691508400490254\n",
            "\n",
            "B Counter({0: 446765, 1: 9})\n",
            "A Counter({0: 279227, 1: 223382})\n",
            "the maximum value of sqrt(tpr*(1-fpr)) nan for threshold 2.0\n",
            "Test 0.0\n",
            "Train 0.0\n",
            "\n",
            "B Counter({0: 446766, 1: 8})\n",
            "A Counter({0: 279228, 1: 223383})\n",
            "the maximum value of sqrt(tpr*(1-fpr)) 0.3801320861238714 for threshold 0.0\n",
            "Test 4.709317384445125e-05\n",
            "Train 0.6509103677165848\n",
            "\n",
            "B Counter({0: 446766, 1: 8})\n",
            "A Counter({0: 279228, 1: 223383})\n",
            "the maximum value of sqrt(tpr*(1-fpr)) 0.9994559358004578 for threshold 1.0\n",
            "Test 0.03571428571428572\n",
            "Train 0.48559247130854705\n",
            "\n",
            "B Counter({0: 446766, 1: 8})\n",
            "A Counter({0: 279228, 1: 223383})\n",
            "the maximum value of sqrt(tpr*(1-fpr)) 0.7598400951419545 for threshold 0.0\n",
            "Test 9.53197979220284e-05\n",
            "Train 0.7917340081660429\n",
            "\n",
            "B Counter({0: 446766, 1: 8})\n",
            "A Counter({0: 279228, 1: 223383})\n",
            "the maximum value of sqrt(tpr*(1-fpr)) 0.37576138124154584 for threshold 0.0\n",
            "Test 4.691201651302981e-05\n",
            "Train 0.6504649547711916\n"
          ]
        },
        {
          "output_type": "stream",
          "name": "stderr",
          "text": [
            "\r 20%|██        | 2/10 [2:02:37<8:16:15, 3721.96s/it]"
          ]
        },
        {
          "output_type": "stream",
          "name": "stdout",
          "text": [
            "\n",
            "\n",
            "B Counter({0: 446765, 1: 8})\n",
            "A Counter({0: 279227, 1: 223382})\n",
            "the maximum value of sqrt(tpr*(1-fpr)) 0.719553680305843 for threshold 0.001\n",
            "Test 8.353869930245185e-05\n",
            "Train 0.7679959843706756\n",
            "\n",
            "B Counter({0: 446765, 1: 8})\n",
            "A Counter({0: 279227, 1: 223382})\n",
            "the maximum value of sqrt(tpr*(1-fpr)) 0.6812579001408358 for threshold 0.003\n",
            "Test 7.517666516313337e-05\n",
            "Train 0.7491753879072544\n",
            "\n",
            "B Counter({0: 446765, 1: 8})\n",
            "A Counter({0: 279227, 1: 223382})\n",
            "the maximum value of sqrt(tpr*(1-fpr)) 0.9998186818153177 for threshold 1.0\n",
            "Test 0.1\n",
            "Train 0.277924409800756\n",
            "\n",
            "B Counter({0: 446765, 1: 8})\n",
            "A Counter({0: 279227, 1: 223382})\n",
            "the maximum value of sqrt(tpr*(1-fpr)) 0.9949106001012107 for threshold 0.791\n",
            "Test 0.003952569169960474\n",
            "Train 0.9509522319203442\n",
            "\n",
            "B Counter({0: 446765, 1: 8})\n",
            "A Counter({0: 279227, 1: 223382})\n",
            "the maximum value of sqrt(tpr*(1-fpr)) 0.9977412495106136 for threshold 0.979\n",
            "Test 0.008849557522123894\n",
            "Train 0.5627638025325044\n",
            "\n",
            "B Counter({0: 446765, 1: 9})\n",
            "A Counter({0: 279227, 1: 223382})\n",
            "the maximum value of sqrt(tpr*(1-fpr)) nan for threshold 2.0\n",
            "Test 0.0\n",
            "Train 0.0\n",
            "\n",
            "B Counter({0: 446766, 1: 8})\n",
            "A Counter({0: 279228, 1: 223383})\n",
            "the maximum value of sqrt(tpr*(1-fpr)) 0.3160684653337067 for threshold 0.001\n",
            "Test 4.475975203097375e-05\n",
            "Train 0.639465830774846\n",
            "\n",
            "B Counter({0: 446766, 1: 8})\n",
            "A Counter({0: 279228, 1: 223383})\n",
            "the maximum value of sqrt(tpr*(1-fpr)) 0.9994055445039183 for threshold 0.999\n",
            "Test 0.03278688524590164\n",
            "Train 0.551064498262275\n",
            "\n",
            "B Counter({0: 446766, 1: 8})\n",
            "A Counter({0: 279228, 1: 223383})\n",
            "the maximum value of sqrt(tpr*(1-fpr)) 0.6736373418479638 for threshold 0.0\n",
            "Test 7.37571913261543e-05\n",
            "Train 0.7449800067366792\n",
            "\n",
            "B Counter({0: 446766, 1: 8})\n",
            "A Counter({0: 279228, 1: 223383})\n",
            "the maximum value of sqrt(tpr*(1-fpr)) 0.5659026148911958 for threshold 0.008\n",
            "Test 5.926803970958661e-05\n",
            "Train 0.702132173710787\n"
          ]
        },
        {
          "output_type": "stream",
          "name": "stderr",
          "text": [
            "\r 30%|███       | 3/10 [3:09:06<7:28:27, 3843.87s/it]"
          ]
        },
        {
          "output_type": "stream",
          "name": "stdout",
          "text": [
            "\n",
            "\n",
            "B Counter({0: 446765, 1: 8})\n",
            "A Counter({0: 279227, 1: 223382})\n",
            "the maximum value of sqrt(tpr*(1-fpr)) 0.5258760285364364 for threshold 0.0\n",
            "Test 5.56870388417096e-05\n",
            "Train 0.6882165006577711\n",
            "\n",
            "B Counter({0: 446765, 1: 8})\n",
            "A Counter({0: 279227, 1: 223382})\n",
            "the maximum value of sqrt(tpr*(1-fpr)) 0.8642120530014205 for threshold 0.016\n",
            "Test 0.00015913430935709738\n",
            "Train 0.863145285935085\n",
            "\n",
            "B Counter({0: 446765, 1: 8})\n",
            "A Counter({0: 279227, 1: 223382})\n",
            "the maximum value of sqrt(tpr*(1-fpr)) 0.999909345017567 for threshold 0.993\n",
            "Test 0.18181818181818182\n",
            "Train 0.22950689772664243\n",
            "\n",
            "B Counter({0: 446765, 1: 8})\n",
            "A Counter({0: 279227, 1: 223382})\n",
            "the maximum value of sqrt(tpr*(1-fpr)) 0.9990124250611514 for threshold 0.986\n",
            "Test 0.02\n",
            "Train 0.7817807388142736\n",
            "\n",
            "B Counter({0: 446765, 1: 8})\n",
            "A Counter({0: 279227, 1: 223382})\n",
            "the maximum value of sqrt(tpr*(1-fpr)) 0.9995768730732082 for threshold 0.991\n",
            "Test 0.04545454545454545\n",
            "Train 0.3015157442186378\n",
            "\n",
            "B Counter({0: 446765, 1: 9})\n",
            "A Counter({0: 279227, 1: 223382})\n",
            "the maximum value of sqrt(tpr*(1-fpr)) nan for threshold 1.994\n",
            "Test 0.0\n",
            "Train 0.0\n",
            "\n",
            "B Counter({0: 446766, 1: 8})\n",
            "A Counter({0: 279228, 1: 223383})\n",
            "the maximum value of sqrt(tpr*(1-fpr)) 0.48519582429465885 for threshold 0.004\n",
            "Test 5.269259142164611e-05\n",
            "Train 0.6764456947495764\n",
            "\n",
            "B Counter({0: 446766, 1: 8})\n",
            "A Counter({0: 279228, 1: 223383})\n",
            "the maximum value of sqrt(tpr*(1-fpr)) 0.9994458577444051 for threshold 0.993\n",
            "Test 0.03508771929824561\n",
            "Train 0.5178535330940711\n",
            "\n",
            "B Counter({0: 446766, 1: 8})\n",
            "A Counter({0: 279228, 1: 223383})\n",
            "the maximum value of sqrt(tpr*(1-fpr)) 0.03701166050988094 for threshold 0.0\n",
            "Test 4.0343728567394196e-05\n",
            "Train 0.6156837669263907\n",
            "\n",
            "B Counter({0: 446766, 1: 8})\n",
            "A Counter({0: 279228, 1: 223383})\n",
            "the maximum value of sqrt(tpr*(1-fpr)) 0.683331531741629 for threshold 0.004\n",
            "Test 7.55772210255829e-05\n",
            "Train 0.7497482748435949\n"
          ]
        },
        {
          "output_type": "stream",
          "name": "stderr",
          "text": [
            "\r 40%|████      | 4/10 [4:14:06<6:26:36, 3866.09s/it]"
          ]
        },
        {
          "output_type": "stream",
          "name": "stdout",
          "text": [
            "\n",
            "\n",
            "B Counter({0: 446765, 1: 8})\n",
            "A Counter({0: 279227, 1: 223382})\n",
            "the maximum value of sqrt(tpr*(1-fpr)) 0.7641153070141493 for threshold 0.0\n",
            "Test 9.681010697516822e-05\n",
            "Train 0.7940706509664519\n",
            "\n",
            "B Counter({0: 446765, 1: 8})\n",
            "A Counter({0: 279227, 1: 223382})\n",
            "the maximum value of sqrt(tpr*(1-fpr)) 0.8250744020882514 for threshold 0.002\n",
            "Test 0.00012618296529968452\n",
            "Train 0.8334589467871562\n",
            "\n",
            "B Counter({0: 446765, 1: 8})\n",
            "A Counter({0: 279227, 1: 223382})\n",
            "the maximum value of sqrt(tpr*(1-fpr)) 0.9995365659288282 for threshold 0.998\n",
            "Test 0.04166666666666667\n",
            "Train 0.3972954670049124\n",
            "\n",
            "B Counter({0: 446765, 1: 8})\n",
            "A Counter({0: 279227, 1: 223382})\n",
            "the maximum value of sqrt(tpr*(1-fpr)) 0.9998690512759368 for threshold 0.997\n",
            "Test 0.13333333333333333\n",
            "Train 0.0\n",
            "\n",
            "B Counter({0: 446765, 1: 8})\n",
            "A Counter({0: 279227, 1: 223382})\n",
            "the maximum value of sqrt(tpr*(1-fpr)) 0.9997683098170282 for threshold 0.996\n",
            "Test 0.07999999999999999\n",
            "Train 0.2411681842148754\n",
            "\n",
            "B Counter({0: 446765, 1: 9})\n",
            "A Counter({0: 279227, 1: 223382})\n",
            "the maximum value of sqrt(tpr*(1-fpr)) nan for threshold 1.997\n",
            "Test 0.0\n",
            "Train 0.0\n",
            "\n",
            "B Counter({0: 446766, 1: 8})\n",
            "A Counter({0: 279228, 1: 223383})\n",
            "the maximum value of sqrt(tpr*(1-fpr)) 0.3904583145573031 for threshold 0.001\n",
            "Test 4.753529495650521e-05\n",
            "Train 0.6535861466643065\n",
            "\n",
            "B Counter({0: 446766, 1: 8})\n",
            "A Counter({0: 279228, 1: 223383})\n",
            "the maximum value of sqrt(tpr*(1-fpr)) 0.9990426521373779 for threshold 0.996\n",
            "Test 0.020618556701030924\n",
            "Train 0.7100934773337636\n",
            "\n",
            "B Counter({0: 446766, 1: 8})\n",
            "A Counter({0: 279228, 1: 223383})\n",
            "the maximum value of sqrt(tpr*(1-fpr)) 0.794712076445316 for threshold 0.0\n",
            "Test 0.00010934339292548249\n",
            "Train 0.8125987861018299\n",
            "\n",
            "B Counter({0: 446766, 1: 8})\n",
            "A Counter({0: 279228, 1: 223383})\n",
            "the maximum value of sqrt(tpr*(1-fpr)) 0.4894742200433303 for threshold 0.001\n",
            "Test 5.2981535934726746e-05\n",
            "Train 0.6778168025791769\n"
          ]
        },
        {
          "output_type": "stream",
          "name": "stderr",
          "text": [
            "\r 50%|█████     | 5/10 [5:16:01<5:17:37, 3811.53s/it]"
          ]
        },
        {
          "output_type": "stream",
          "name": "stdout",
          "text": [
            "\n",
            "\n",
            "B Counter({0: 446765, 1: 8})\n",
            "A Counter({0: 279227, 1: 223382})\n",
            "the maximum value of sqrt(tpr*(1-fpr)) 0.7443372842926917 for threshold 0.001\n",
            "Test 9.033423667570008e-05\n",
            "Train 0.7823594205030409\n",
            "\n",
            "B Counter({0: 446765, 1: 8})\n",
            "A Counter({0: 279227, 1: 223382})\n",
            "the maximum value of sqrt(tpr*(1-fpr)) 0.8370126868262994 for threshold 0.001\n",
            "Test 0.000134544231416078\n",
            "Train 0.8430845643460473\n",
            "\n",
            "B Counter({0: 446765, 1: 8})\n",
            "A Counter({0: 279227, 1: 223382})\n",
            "the maximum value of sqrt(tpr*(1-fpr)) 0.9995869496053442 for threshold 0.998\n",
            "Test 0.046511627906976744\n",
            "Train 0.3714585366564216\n",
            "\n",
            "B Counter({0: 446765, 1: 8})\n",
            "A Counter({0: 279227, 1: 223382})\n",
            "the maximum value of sqrt(tpr*(1-fpr)) 0.9997683098170282 for threshold 0.996\n",
            "Test 0.07999999999999999\n",
            "Train 0.17914350296291773\n",
            "\n",
            "B Counter({0: 446765, 1: 8})\n",
            "A Counter({0: 279227, 1: 223382})\n",
            "the maximum value of sqrt(tpr*(1-fpr)) 0.9997179352806845 for threshold 0.996\n",
            "Test 0.06666666666666667\n",
            "Train 0.2798608545745598\n",
            "\n",
            "B Counter({0: 446765, 1: 9})\n",
            "A Counter({0: 279227, 1: 223382})\n",
            "the maximum value of sqrt(tpr*(1-fpr)) nan for threshold 1.998\n",
            "Test 0.0\n",
            "Train 0.0\n",
            "\n",
            "B Counter({0: 446766, 1: 8})\n",
            "A Counter({0: 279228, 1: 223383})\n",
            "the maximum value of sqrt(tpr*(1-fpr)) 0.3982738743234029 for threshold 0.001\n",
            "Test 4.788354721317755e-05\n",
            "Train 0.6549227020989027\n",
            "\n",
            "B Counter({0: 446766, 1: 8})\n",
            "A Counter({0: 279228, 1: 223383})\n",
            "the maximum value of sqrt(tpr*(1-fpr)) 0.9991938733071136 for threshold 0.996\n",
            "Test 0.024390243902439022\n",
            "Train 0.6579733442099833\n",
            "\n",
            "B Counter({0: 446766, 1: 8})\n",
            "A Counter({0: 279228, 1: 223383})\n",
            "the maximum value of sqrt(tpr*(1-fpr)) 0.8073494001909699 for threshold 0.0\n",
            "Test 0.00011570056693277798\n",
            "Train 0.820867194232179\n",
            "\n",
            "B Counter({0: 446766, 1: 8})\n",
            "A Counter({0: 279228, 1: 223383})\n",
            "the maximum value of sqrt(tpr*(1-fpr)) 0.48815543554343876 for threshold 0.001\n",
            "Test 5.2891862586941e-05\n",
            "Train 0.6775700863709782\n"
          ]
        },
        {
          "output_type": "stream",
          "name": "stderr",
          "text": [
            "\r 60%|██████    | 6/10 [6:17:26<4:11:13, 3768.36s/it]"
          ]
        },
        {
          "output_type": "stream",
          "name": "stdout",
          "text": [
            "\n",
            "\n",
            "B Counter({0: 446765, 1: 8})\n",
            "A Counter({0: 279227, 1: 223382})\n",
            "the maximum value of sqrt(tpr*(1-fpr)) 0.7383319460576301 for threshold 0.001\n",
            "Test 8.85661146045523e-05\n",
            "Train 0.7786044290616433\n",
            "\n",
            "B Counter({0: 446765, 1: 8})\n",
            "A Counter({0: 279227, 1: 223382})\n",
            "the maximum value of sqrt(tpr*(1-fpr)) 0.8297125262712898 for threshold 0.002\n",
            "Test 0.00012929083974400413\n",
            "Train 0.8360386390260152\n",
            "\n",
            "B Counter({0: 446765, 1: 8})\n",
            "A Counter({0: 279227, 1: 223382})\n",
            "the maximum value of sqrt(tpr*(1-fpr)) 0.9996373307424244 for threshold 0.998\n",
            "Test 0.052631578947368425\n",
            "Train 0.3709170922921114\n",
            "\n",
            "B Counter({0: 446765, 1: 8})\n",
            "A Counter({0: 279227, 1: 223382})\n",
            "the maximum value of sqrt(tpr*(1-fpr)) 0.9998589775868082 for threshold 0.998\n",
            "Test 0.125\n",
            "Train 0.13216079981943873\n",
            "\n",
            "B Counter({0: 446765, 1: 8})\n",
            "A Counter({0: 279227, 1: 223382})\n",
            "the maximum value of sqrt(tpr*(1-fpr)) 0.9997582351128161 for threshold 0.995\n",
            "Test 0.07692307692307693\n",
            "Train 0.34116760744757046\n",
            "\n",
            "B Counter({0: 446765, 1: 9})\n",
            "A Counter({0: 279227, 1: 223382})\n",
            "the maximum value of sqrt(tpr*(1-fpr)) nan for threshold 1.998\n",
            "Test 0.0\n",
            "Train 0.0\n",
            "\n",
            "B Counter({0: 446766, 1: 8})\n",
            "A Counter({0: 279228, 1: 223383})\n",
            "the maximum value of sqrt(tpr*(1-fpr)) 0.5123377084285721 for threshold 0.001\n",
            "Test 5.46268982847154e-05\n",
            "Train 0.6838729626137324\n",
            "\n",
            "B Counter({0: 446766, 1: 8})\n",
            "A Counter({0: 279228, 1: 223383})\n",
            "the maximum value of sqrt(tpr*(1-fpr)) 0.9991333875857406 for threshold 0.996\n",
            "Test 0.022727272727272724\n",
            "Train 0.6809276937632076\n",
            "\n",
            "B Counter({0: 446766, 1: 8})\n",
            "A Counter({0: 279228, 1: 223383})\n",
            "the maximum value of sqrt(tpr*(1-fpr)) 0.8103256873510694 for threshold 0.0\n",
            "Test 0.00011732269607555581\n",
            "Train 0.8228537960427077\n",
            "\n",
            "B Counter({0: 446766, 1: 8})\n",
            "A Counter({0: 279228, 1: 223383})\n",
            "the maximum value of sqrt(tpr*(1-fpr)) 0.5848958391260052 for threshold 0.001\n",
            "Test 6.12369871402327e-05\n",
            "Train 0.7088227221308185\n"
          ]
        },
        {
          "output_type": "stream",
          "name": "stderr",
          "text": [
            "\r 70%|███████   | 7/10 [7:08:00<2:56:25, 3528.48s/it]"
          ]
        },
        {
          "output_type": "stream",
          "name": "stdout",
          "text": [
            "\n",
            "\n",
            "B Counter({0: 446765, 1: 8})\n",
            "A Counter({0: 279227, 1: 223382})\n",
            "the maximum value of sqrt(tpr*(1-fpr)) 0.7442019527004581 for threshold 0.001\n",
            "Test 9.029345372460495e-05\n",
            "Train 0.7819212520149046\n",
            "\n",
            "B Counter({0: 446765, 1: 8})\n",
            "A Counter({0: 279227, 1: 223382})\n",
            "the maximum value of sqrt(tpr*(1-fpr)) 0.8090611123790276 for threshold 0.001\n",
            "Test 0.00011662487608606916\n",
            "Train 0.8222912632795648\n",
            "\n",
            "B Counter({0: 446765, 1: 8})\n",
            "A Counter({0: 279227, 1: 223382})\n",
            "the maximum value of sqrt(tpr*(1-fpr)) 0.9995063345038296 for threshold 0.998\n",
            "Test 0.0392156862745098\n",
            "Train 0.40261391229824306\n",
            "\n",
            "B Counter({0: 446765, 1: 8})\n",
            "A Counter({0: 279227, 1: 223382})\n",
            "the maximum value of sqrt(tpr*(1-fpr)) 0.9998690512759368 for threshold 0.997\n",
            "Test 0.13333333333333333\n",
            "Train 0.0\n",
            "\n",
            "B Counter({0: 446765, 1: 8})\n",
            "A Counter({0: 279227, 1: 223382})\n",
            "the maximum value of sqrt(tpr*(1-fpr)) 0.9997884589208891 for threshold 0.996\n",
            "Test 0.08695652173913045\n",
            "Train 0.25917156076207687\n",
            "\n",
            "B Counter({0: 446765, 1: 9})\n",
            "A Counter({0: 279227, 1: 223382})\n",
            "the maximum value of sqrt(tpr*(1-fpr)) nan for threshold 1.997\n",
            "Test 0.0\n",
            "Train 0.0\n",
            "\n",
            "B Counter({0: 446766, 1: 8})\n",
            "A Counter({0: 279228, 1: 223383})\n",
            "the maximum value of sqrt(tpr*(1-fpr)) 0.39708344448689387 for threshold 0.001\n",
            "Test 4.782972617481765e-05\n",
            "Train 0.6548065550127732\n",
            "\n",
            "B Counter({0: 446766, 1: 8})\n",
            "A Counter({0: 279228, 1: 223383})\n",
            "the maximum value of sqrt(tpr*(1-fpr)) 0.9988107352098026 for threshold 0.997\n",
            "Test 0.016666666666666666\n",
            "Train 0.6998743394112815\n",
            "\n",
            "B Counter({0: 446766, 1: 8})\n",
            "A Counter({0: 279228, 1: 223383})\n",
            "the maximum value of sqrt(tpr*(1-fpr)) 0.7980889745393209 for threshold 0.0\n",
            "Test 0.00011096316023080337\n",
            "Train 0.8148441318732628\n",
            "\n",
            "B Counter({0: 446766, 1: 8})\n",
            "A Counter({0: 279228, 1: 223383})\n",
            "the maximum value of sqrt(tpr*(1-fpr)) 0.49220351784751243 for threshold 0.001\n",
            "Test 5.316886431305827e-05\n",
            "Train 0.6789344112819891\n"
          ]
        },
        {
          "output_type": "stream",
          "name": "stderr",
          "text": [
            "\r 80%|████████  | 8/10 [8:09:55<1:59:35, 3587.65s/it]"
          ]
        },
        {
          "output_type": "stream",
          "name": "stdout",
          "text": [
            "\n",
            "\n",
            "B Counter({0: 446765, 1: 8})\n",
            "A Counter({0: 279227, 1: 223382})\n",
            "the maximum value of sqrt(tpr*(1-fpr)) 0.7636669985695178 for threshold 0.0\n",
            "Test 9.665104141497125e-05\n",
            "Train 0.793495230297336\n",
            "\n",
            "B Counter({0: 446765, 1: 8})\n",
            "A Counter({0: 279227, 1: 223382})\n",
            "the maximum value of sqrt(tpr*(1-fpr)) 0.8247691513500454 for threshold 0.001\n",
            "Test 0.00012598425196850391\n",
            "Train 0.833682906257231\n",
            "\n",
            "B Counter({0: 446765, 1: 8})\n",
            "A Counter({0: 279227, 1: 223382})\n",
            "the maximum value of sqrt(tpr*(1-fpr)) 0.9995466428673047 for threshold 0.998\n",
            "Test 0.042553191489361694\n",
            "Train 0.38629607180996905\n",
            "\n",
            "B Counter({0: 446765, 1: 8})\n",
            "A Counter({0: 279227, 1: 223382})\n",
            "the maximum value of sqrt(tpr*(1-fpr)) 0.9999294912794946 for threshold 0.997\n",
            "Test 0.2222222222222222\n",
            "Train 0.0\n",
            "\n",
            "B Counter({0: 446765, 1: 8})\n",
            "A Counter({0: 279227, 1: 223382})\n",
            "the maximum value of sqrt(tpr*(1-fpr)) 0.9997683098170282 for threshold 0.996\n",
            "Test 0.07999999999999999\n",
            "Train 0.2366034267138501\n",
            "\n",
            "B Counter({0: 446765, 1: 9})\n",
            "A Counter({0: 279227, 1: 223382})\n",
            "the maximum value of sqrt(tpr*(1-fpr)) nan for threshold 1.998\n",
            "Test 0.0\n",
            "Train 0.0\n",
            "\n",
            "B Counter({0: 446766, 1: 8})\n",
            "A Counter({0: 279228, 1: 223383})\n",
            "the maximum value of sqrt(tpr*(1-fpr)) 0.39441099405578306 for threshold 0.001\n",
            "Test 4.770992366412214e-05\n",
            "Train 0.6544018022319905\n",
            "\n",
            "B Counter({0: 446766, 1: 8})\n",
            "A Counter({0: 279228, 1: 223383})\n",
            "the maximum value of sqrt(tpr*(1-fpr)) 0.9987401411078424 for threshold 0.996\n",
            "Test 0.015748031496062992\n",
            "Train 0.7200957347758287\n",
            "\n",
            "B Counter({0: 446766, 1: 8})\n",
            "A Counter({0: 279228, 1: 223383})\n",
            "the maximum value of sqrt(tpr*(1-fpr)) 0.8376827136613978 for threshold 0.0\n",
            "Test 0.00013505300830576002\n",
            "Train 0.8428020584950651\n",
            "\n",
            "B Counter({0: 446766, 1: 8})\n",
            "A Counter({0: 279228, 1: 223383})\n",
            "the maximum value of sqrt(tpr*(1-fpr)) 0.48465577140964383 for threshold 0.001\n",
            "Test 5.265652151018904e-05\n",
            "Train 0.6764989574642382\n"
          ]
        },
        {
          "output_type": "stream",
          "name": "stderr",
          "text": [
            "\r 90%|█████████ | 9/10 [9:12:28<1:00:39, 3639.52s/it]"
          ]
        },
        {
          "output_type": "stream",
          "name": "stdout",
          "text": [
            "\n",
            "\n",
            "B Counter({0: 446765, 1: 8})\n",
            "A Counter({0: 279227, 1: 223382})\n",
            "the maximum value of sqrt(tpr*(1-fpr)) 0.7610907174547631 for threshold 0.0\n",
            "Test 9.574875526618152e-05\n",
            "Train 0.7919859033585885\n",
            "\n",
            "B Counter({0: 446765, 1: 8})\n",
            "A Counter({0: 279227, 1: 223382})\n",
            "the maximum value of sqrt(tpr*(1-fpr)) 0.8144091249239614 for threshold 0.001\n",
            "Test 0.00011963153487259242\n",
            "Train 0.8258496233652202\n",
            "\n",
            "B Counter({0: 446765, 1: 8})\n",
            "A Counter({0: 279227, 1: 223382})\n",
            "the maximum value of sqrt(tpr*(1-fpr)) 0.9995164117470937 for threshold 0.998\n",
            "Test 0.039999999999999994\n",
            "Train 0.40270665952508483\n",
            "\n",
            "B Counter({0: 446765, 1: 8})\n",
            "A Counter({0: 279227, 1: 223382})\n",
            "the maximum value of sqrt(tpr*(1-fpr)) 0.9998589775868082 for threshold 0.997\n",
            "Test 0.125\n",
            "Train 0.0\n",
            "\n",
            "B Counter({0: 446765, 1: 8})\n",
            "A Counter({0: 279227, 1: 223382})\n",
            "the maximum value of sqrt(tpr*(1-fpr)) 0.999627254718145 for threshold 0.995\n",
            "Test 0.05128205128205127\n",
            "Train 0.49187781645484224\n",
            "\n",
            "B Counter({0: 446765, 1: 9})\n",
            "A Counter({0: 279227, 1: 223382})\n",
            "the maximum value of sqrt(tpr*(1-fpr)) nan for threshold 1.998\n",
            "Test 0.0\n",
            "Train 0.0\n",
            "\n",
            "B Counter({0: 446766, 1: 8})\n",
            "A Counter({0: 279228, 1: 223383})\n",
            "the maximum value of sqrt(tpr*(1-fpr)) 0.37304418794068567 for threshold 0.001\n",
            "Test 4.6801141947863526e-05\n",
            "Train 0.6497403313229796\n",
            "\n",
            "B Counter({0: 446766, 1: 8})\n",
            "A Counter({0: 279228, 1: 223383})\n",
            "the maximum value of sqrt(tpr*(1-fpr)) 0.9991737118068279 for threshold 0.998\n",
            "Test 0.02380952380952381\n",
            "Train 0.6186743046210447\n",
            "\n",
            "B Counter({0: 446766, 1: 8})\n",
            "A Counter({0: 279228, 1: 223383})\n",
            "the maximum value of sqrt(tpr*(1-fpr)) 0.8287612961882507 for threshold 0.0\n",
            "Test 0.00012864218177140285\n",
            "Train 0.8367705092739134\n",
            "\n",
            "B Counter({0: 446766, 1: 8})\n",
            "A Counter({0: 279228, 1: 223383})\n",
            "the maximum value of sqrt(tpr*(1-fpr)) 0.48081652280881837 for threshold 0.001\n",
            "Test 5.2402662055232405e-05\n",
            "Train 0.6754812489794437\n"
          ]
        },
        {
          "output_type": "stream",
          "name": "stderr",
          "text": [
            "100%|██████████| 10/10 [10:05:22<00:00, 3632.22s/it]"
          ]
        },
        {
          "output_type": "stream",
          "name": "stdout",
          "text": [
            "\n"
          ]
        },
        {
          "output_type": "stream",
          "name": "stderr",
          "text": [
            "\n"
          ]
        }
      ],
      "source": [
        "# Creating custom RandomSearchCV for hyperparameter tuning.\n",
        "# In this Cross-Validation is done by StratifiedKFold\n",
        "trainscores = [] # This list is to store the trainscores\n",
        "testscores  = [] # This list is to store the testscores\n",
        "Models = [] # This list is to store the models on each iter\n",
        "TR = []\n",
        "# This loop is to use ten random values for each hyperparameter\n",
        "for iter in tqdm(range(0, 10)):\n",
        "  #print(iter)\n",
        "  Thresholds = []\n",
        "  trainscores_folds = []\n",
        "  testscores_folds  = []\n",
        "  svc = SGDClassifier(loss='hinge', n_jobs = -1)\n",
        "  LR = LogisticRegression(n_jobs = -1, solver = 'saga')\n",
        "  meta = LogisticRegression(n_jobs = -1, solver = 'saga')\n",
        "  models = [('lr', LR), ('svc', svc)]\n",
        "  for key, value in param.items(): # Assigns the value for each hyperparameter\n",
        "    if isinstance(value, list):\n",
        "      if ('C' in key and 'lr' in key):\n",
        "        LR.C = value[iter]\n",
        "      if ('penalty' in key and 'lr' in key):\n",
        "        LR.penalty = choice(value)\n",
        "      if ('l1_ratio' in key and 'lr' in key):\n",
        "        LR.l1_ratio = value[iter]\n",
        "      \n",
        "      if ('alpha' in key and 'svc' in key):\n",
        "        svc.alpha = value[iter]\n",
        "      if ('penalty' in key and 'svc' in key):\n",
        "        svc.penalty = choice(value)\n",
        "      if ('l1_ratio' in key and 'svc' in key):\n",
        "        svc.l1_ratio = value[iter]\n",
        "\n",
        "      if ('C' in key and 'final' in key):\n",
        "        meta.C = value[iter]\n",
        "      if ('penalty' in key and 'final' in key):\n",
        "        meta.penalty = choice(value)\n",
        "      if ('l1_ratio' in key and 'final' in key):\n",
        "        meta.l1_ratio = value[iter]\n",
        "\n",
        "  Stack = StackingClassifier(estimators = models, final_estimator = meta, n_jobs = -1)\n",
        "  #print(Stack)\n",
        "  Models.append(Stack)\n",
        "  ss = StratifiedKFold(n_splits = 10, shuffle = True, random_state = 1) # Splitting the training data into train and val data\n",
        "  # using stratifiedKFold (10-folds) to ensure that each fold consists of both classes.\n",
        "  # Running the loop for each fold\n",
        "  for train, test in ss.split(X_Train_orig, Y_Train_orig): # This loop uses original training dataset.\n",
        "      print()\n",
        "      X_train = np.zeros(len(train))\n",
        "      Y_train = np.zeros(len(train))\n",
        "      X_test = np.zeros(len(test))\n",
        "      Y_test = np.zeros(len(test))\n",
        "\n",
        "      # selecting the data points based on the train_indices and test_indices\n",
        "      X_train = X_Train_orig[train]\n",
        "      Y_train = Y_Train_orig[train]\n",
        "      X_test  = X_Train_orig[test]\n",
        "      Y_test  = Y_Train_orig[test]\n",
        "      print(\"B\", Counter(Y_train)) # Count of training classes before sampling\n",
        "\n",
        "      X_train, Y_train = pipeline.fit_resample(X_train, Y_train) # Sampling the training data by the above defined pipeline\n",
        "      print(\"A\", Counter(Y_train)) # Count of training classes after sampling\n",
        "      # Standardizing the above train and val data.\n",
        "      sc = StandardScaler()\n",
        "      sc.fit(X_train)\n",
        "      X_train = sc.transform(X_train)\n",
        "      X_test = sc.transform(X_test)\n",
        "      \n",
        "      Stack.fit(X_train,Y_train)\n",
        "\n",
        "      Y_predicted_test = Stack.predict_proba(X_test)[:, 1]\n",
        "     \n",
        "      Y_predicted_train = Stack.predict_proba(X_train)[:, 1]\n",
        "      \n",
        "      # This following snippets are used tuning the thresholds generated by roc_curve \n",
        "      train_fpr, train_tpr, tr_thresholds = roc_curve(Y_train, Y_predicted_train)\n",
        "      test_fpr, test_tpr, te_thresholds = roc_curve(Y_test, Y_predicted_test)\n",
        "      thresholds = np.linspace(0.0, 1.0, num=len(te_thresholds))\n",
        "      best_t = find_best_threshold(te_thresholds, test_fpr, test_tpr) # Finding the best threshold based on the prediction on val data\n",
        "      Thresholds.append(best_t)\n",
        "\n",
        "      # F1-score based on the optimal threshold value\n",
        "      print('Test', f1_score(Y_test, predict_with_best_t(Y_predicted_test, best_t)))\n",
        "      testscores_folds.append(f1_score(Y_test, predict_with_best_t(Y_predicted_test, best_t)))\n",
        "\n",
        "      print('Train', f1_score(Y_train, predict_with_best_t(Y_predicted_train, best_t)))\n",
        "      trainscores_folds.append(f1_score(Y_train, predict_with_best_t(Y_predicted_train, best_t))) \n",
        "  \n",
        "  TR.append(Thresholds[np.argmax(testscores_folds)]) \n",
        "  trainscores.append(np.mean(np.array(trainscores_folds))) # Taking the mean of trainscores obtained from each fold\n",
        "  testscores.append(np.mean(np.array(testscores_folds))) # Taking the mean of testscores obtained from each fold\n",
        "  print() "
      ]
    },
    {
      "cell_type": "code",
      "execution_count": 85,
      "metadata": {
        "id": "iUrV6DI42OLF",
        "outputId": "c7e1f153-0924-4cd9-8b97-81f75ea0be1a",
        "colab": {
          "base_uri": "https://localhost:8080/"
        }
      },
      "outputs": [
        {
          "output_type": "stream",
          "name": "stdout",
          "text": [
            "[0.6008628084087002, 0.6087137503173334, 0.5946454326016122, 0.5423896436966043, 0.5120088461652472, 0.526724020595503, 0.5355365742197246, 0.5114457425934096, 0.5143876188045509, 0.5293086396901117]\n",
            "[0.00560658072430451, 0.012772364227923372, 0.014592551228551834, 0.028274388146018632, 0.02760514099971225, 0.02180098929209071, 0.027773297213356713, 0.02765910880941696, 0.036098149995451044, 0.024053480136748833]\n"
          ]
        }
      ],
      "source": [
        "print(trainscores)\n",
        "print(testscores)"
      ]
    },
    {
      "cell_type": "code",
      "execution_count": 86,
      "metadata": {
        "id": "SS8Y3jCN6gud",
        "outputId": "e816ec4c-5d34-4c23-94d9-8ab9ed563523",
        "colab": {
          "base_uri": "https://localhost:8080/",
          "height": 265
        }
      },
      "outputs": [
        {
          "output_type": "display_data",
          "data": {
            "text/plain": [
              "<Figure size 432x288 with 1 Axes>"
            ],
            "image/png": "[encoded data removed]"
          },
          "metadata": {
            "needs_background": "light"
          }
        }
      ],
      "source": [
        "plt.plot(trainscores,label = \"Train\")\n",
        "plt.plot(testscores, label = 'Val')\n",
        "plt.legend()\n",
        "plt.grid(True)\n",
        "plt.show()"
      ]
    },
    {
      "cell_type": "markdown",
      "metadata": {
        "id": "fZQC6LRM8n7s"
      },
      "source": [
        "This plot shows the trainscores and testscores on each iteration"
      ]
    },
    {
      "cell_type": "code",
      "execution_count": 87,
      "metadata": {
        "id": "n0oUWi2HRfxx",
        "outputId": "25e4d0be-a133-4d5e-c5c1-f9f183d4e5ca",
        "colab": {
          "base_uri": "https://localhost:8080/"
        }
      },
      "outputs": [
        {
          "output_type": "stream",
          "name": "stdout",
          "text": [
            "0.036098149995451044 0.5143876188045509\n"
          ]
        }
      ],
      "source": [
        "# Choosing the best model based on highest test score.\n",
        "test_score, train_score, threshold, est = BEST(trainscores, testscores, TR, Models)\n",
        "print(test_score, train_score)"
      ]
    },
    {
      "cell_type": "code",
      "execution_count": 88,
      "metadata": {
        "id": "D83WxCnQRf4M",
        "outputId": "123af412-9ca3-47ae-cd11-48b359b00226",
        "colab": {
          "base_uri": "https://localhost:8080/"
        }
      },
      "outputs": [
        {
          "output_type": "execute_result",
          "data": {
            "text/plain": [
              "StackingClassifier(estimators=[('lr',\n",
              "                                LogisticRegression(C=10000.0,\n",
              "                                                   l1_ratio=0.8824556045702142,\n",
              "                                                   n_jobs=-1, penalty='l1',\n",
              "                                                   solver='saga')),\n",
              "                               ('svc',\n",
              "                                SGDClassifier(alpha=10000.0,\n",
              "                                              l1_ratio=0.8329655029087657,\n",
              "                                              n_jobs=-1, penalty='l1'))],\n",
              "                   final_estimator=LogisticRegression(C=10000.0,\n",
              "                                                      l1_ratio=0.8318995611144935,\n",
              "                                                      n_jobs=-1, penalty='l1',\n",
              "                                                      solver='saga'),\n",
              "                   n_jobs=-1)"
            ]
          },
          "metadata": {},
          "execution_count": 88
        }
      ],
      "source": [
        "# Using the best model\n",
        "Stack = est\n",
        "Stack"
      ]
    },
    {
      "cell_type": "code",
      "execution_count": 89,
      "metadata": {
        "id": "oci8rsTJRfqW",
        "outputId": "340c6ffe-7ca8-4ae1-9176-99e8fe2ec3b8",
        "colab": {
          "base_uri": "https://localhost:8080/"
        }
      },
      "outputs": [
        {
          "output_type": "execute_result",
          "data": {
            "text/plain": [
              "CalibratedClassifierCV(base_estimator=StackingClassifier(estimators=[('lr',\n",
              "                                                                      LogisticRegression(C=10000.0,\n",
              "                                                                                         l1_ratio=0.8824556045702142,\n",
              "                                                                                         n_jobs=-1,\n",
              "                                                                                         penalty='l1',\n",
              "                                                                                         solver='saga')),\n",
              "                                                                     ('svc',\n",
              "                                                                      SGDClassifier(alpha=10000.0,\n",
              "                                                                                    l1_ratio=0.8329655029087657,\n",
              "                                                                                    n_jobs=-1,\n",
              "                                                                                    penalty='l1'))],\n",
              "                                                         final_estimator=LogisticRegression(C=10000.0,\n",
              "                                                                                            l1_ratio=0.8318995611144935,\n",
              "                                                                                            n_jobs=-1,\n",
              "                                                                                            penalty='l1',\n",
              "                                                                                            solver='saga'),\n",
              "                                                         n_jobs=-1),\n",
              "                       method='isotonic')"
            ]
          },
          "metadata": {},
          "execution_count": 89
        }
      ],
      "source": [
        "# Fitting the calibrated classifier over the best model\n",
        "sig_clf = CalibratedClassifierCV(Stack, method=\"isotonic\")\n",
        "sig_clf.fit(X_train_standard, y_train_sam)"
      ]
    },
    {
      "cell_type": "code",
      "execution_count": 90,
      "metadata": {
        "id": "_Lj8OmNEv8My",
        "outputId": "5b673007-bdc3-4a12-a756-8b85883ae3a7",
        "colab": {
          "base_uri": "https://localhost:8080/"
        }
      },
      "outputs": [
        {
          "output_type": "stream",
          "name": "stdout",
          "text": [
            "the maximum value of sqrt(tpr*(1-fpr)) 0.6254857656111591 for threshold 0.676\n"
          ]
        }
      ],
      "source": [
        "# Threshold Tuning based on the original Val Dataset.\n",
        "Y_predicted_val = sig_clf.predict_proba(X_val_standard)[:, 1] #NEW\n",
        "\n",
        "Y_predicted_train = sig_clf.predict_proba(X_train_standard)[:, 1]\n",
        "\n",
        "train_fpr, train_tpr, tr_thresholds = roc_curve(y_train_sam, Y_predicted_train)\n",
        "val_fpr, val_tpr, val_thresholds = roc_curve(y_val, Y_predicted_val)\n",
        "thresholds = np.linspace(0.0, 1.0, num=len(val_thresholds))\n",
        "best_t = find_best_threshold(val_thresholds, val_fpr, val_tpr)"
      ]
    },
    {
      "cell_type": "code",
      "execution_count": 91,
      "metadata": {
        "id": "viU0OBoWv_Bn",
        "outputId": "e6d3c63e-f6b4-4e16-a963-8ebc71bd2642",
        "colab": {
          "base_uri": "https://localhost:8080/",
          "height": 1000
        }
      },
      "outputs": [
        {
          "output_type": "stream",
          "name": "stdout",
          "text": [
            "The Prescision Score:  0.9726302613798079\n",
            "The Recall Score:  0.9830461356228571\n",
            "The ROC Score:  0.9960627285492537\n",
            "The F1 Score:  0.9778104611833353\n",
            "****************************************************************************************************\n",
            "              precision    recall  f1-score   support\n",
            "\n",
            "           0       0.99      0.98      0.98    310253\n",
            "           1       0.97      0.98      0.98    248203\n",
            "\n",
            "    accuracy                           0.98    558456\n",
            "   macro avg       0.98      0.98      0.98    558456\n",
            "weighted avg       0.98      0.98      0.98    558456\n",
            "\n",
            "****************************************************************************************************\n",
            "Sum of columns in precision matrix [1. 1.]\n",
            "Sum of rows in recall matrix [1. 1.]\n"
          ]
        },
        {
          "output_type": "display_data",
          "data": {
            "text/plain": [
              "<Figure size 1440x288 with 6 Axes>"
            ],
            "image/png": "[encoded data removed]"
          },
          "metadata": {
            "needs_background": "light"
          }
        },
        {
          "output_type": "stream",
          "name": "stdout",
          "text": [
            "====================================================================================================\n",
            "====================================================================================================\n",
            "The Prescision Score:  0.0008263324610935132\n",
            "The Recall Score:  0.4\n",
            "The ROC Score:  0.6776156394042574\n",
            "The F1 Score:  0.0016492578339747112\n",
            "****************************************************************************************************\n",
            "              precision    recall  f1-score   support\n",
            "\n",
            "           0       1.00      0.98      0.99    330993\n",
            "           1       0.00      0.40      0.00        15\n",
            "\n",
            "    accuracy                           0.98    331008\n",
            "   macro avg       0.50      0.69      0.50    331008\n",
            "weighted avg       1.00      0.98      0.99    331008\n",
            "\n",
            "****************************************************************************************************\n",
            "Sum of columns in precision matrix [1. 1.]\n",
            "Sum of rows in recall matrix [1. 1.]\n"
          ]
        },
        {
          "output_type": "display_data",
          "data": {
            "text/plain": [
              "<Figure size 1440x288 with 6 Axes>"
            ],
            "image/png": "[encoded data removed]"
          },
          "metadata": {
            "needs_background": "light"
          }
        }
      ],
      "source": [
        "# Getting the metrics based on the optimal threshold value\n",
        "Metrics(sig_clf, X_train_standard, y_train_sam, best_t) \n",
        "print('='*100)\n",
        "print('='*100)\n",
        "Metrics(sig_clf, X_val_standard, y_val, best_t)"
      ]
    },
    {
      "cell_type": "code",
      "execution_count": 92,
      "metadata": {
        "id": "L9vnDoNawLv9",
        "outputId": "6e365e6f-eb01-4c54-80b0-e9d604510b50",
        "colab": {
          "base_uri": "https://localhost:8080/",
          "height": 590
        }
      },
      "outputs": [
        {
          "output_type": "stream",
          "name": "stdout",
          "text": [
            "The Prescision Score:  0.00039814200398142005\n",
            "The Recall Score:  0.42857142857142855\n",
            "The ROC Score:  0.6924885635706238\n",
            "The F1 Score:  0.0007955449482895784\n",
            "****************************************************************************************************\n",
            "              precision    recall  f1-score   support\n",
            "\n",
            "           0       1.00      0.98      0.99    330148\n",
            "           1       0.00      0.43      0.00         7\n",
            "\n",
            "    accuracy                           0.98    330155\n",
            "   macro avg       0.50      0.70      0.49    330155\n",
            "weighted avg       1.00      0.98      0.99    330155\n",
            "\n",
            "****************************************************************************************************\n",
            "Sum of columns in precision matrix [1. 1.]\n",
            "Sum of rows in recall matrix [1. 1.]\n"
          ]
        },
        {
          "output_type": "display_data",
          "data": {
            "text/plain": [
              "<Figure size 1440x288 with 6 Axes>"
            ],
            "image/png": "[encoded data removed]"
          },
          "metadata": {
            "needs_background": "light"
          }
        }
      ],
      "source": [
        "Metrics(sig_clf, X_test_standard, y_test, best_t) "
      ]
    },
    {
      "cell_type": "code",
      "execution_count": 93,
      "metadata": {
        "id": "tkM3bboTwQ3W",
        "outputId": "fc73123e-8d86-4686-83bc-f24e8eb09750",
        "colab": {
          "base_uri": "https://localhost:8080/",
          "height": 295
        }
      },
      "outputs": [
        {
          "output_type": "display_data",
          "data": {
            "text/plain": [
              "<Figure size 432x288 with 1 Axes>"
            ],
            "image/png": "[encoded data removed]"
          },
          "metadata": {
            "needs_background": "light"
          }
        }
      ],
      "source": [
        "# Plotting ROC curve for Train, Val and Test.\n",
        "Y_predicted_test = sig_clf.predict_proba(X_test_standard)[:, 1]\n",
        "\n",
        "test_fpr, test_tpr, te_thresholds = roc_curve(y_test, Y_predicted_test)\n",
        "\n",
        "plt.plot(train_fpr, train_tpr, label=\"train AUC =\"+str(auc(train_fpr, train_tpr)))\n",
        "plt.plot(test_fpr, test_tpr, label=\"test AUC =\"+str(auc(test_fpr, test_tpr)))\n",
        "plt.plot(val_fpr, val_tpr, label=\"val AUC =\"+str(auc(val_fpr, val_tpr)))\n",
        "plt.legend()\n",
        "plt.xlabel(\"FPR\")\n",
        "plt.ylabel(\"TPR\")\n",
        "plt.title(\"ERROR PLOTS\")\n",
        "plt.grid()\n",
        "plt.show()"
      ]
    },
    {
      "cell_type": "markdown",
      "metadata": {
        "id": "Mbyb0Tqn9De7"
      },
      "source": [
        "This plot shows the roc_curve of train, val and test dataset."
      ]
    },
    {
      "cell_type": "markdown",
      "metadata": {
        "id": "hqhivtp0Daig"
      },
      "source": [
        "|  Data| Precision  | Recall | ROC-Score | F1-Score |\n",
        "|------------|--------|----------------------|----------||\n",
        "|      Train |  0.8176|     0.9999 |  0.9979 | 0.8997|\n",
        "|    Val   |  0.000127    |  1.0        |   0.9420 |0.00025|\n",
        "|    Test  |    0.000127  |    0.8333  |   0.9136 |0.00025|"
      ]
    },
    {
      "cell_type": "markdown",
      "metadata": {
        "id": "dwNB5oq9QQCu"
      },
      "source": [
        "# 10. Summary"
      ]
    },
    {
      "cell_type": "markdown",
      "metadata": {
        "id": "IpA4UMGCE066"
      },
      "source": [
        "|  Data|Model| Precision  | Recall | ROC-Score | F1-Score |\n",
        "|------------|----|--------|----------------------|----------||\n",
        "|      Train |Logistic Reg|  0.8080|   0.9911 |  0.9929 | 0.8903|\n",
        "|     | SVC|  0.7723    |  0.9999     |   0.9975 |0.8714|\n",
        "|      |Stacking|    0.8176  |    0.9999  |   0.9979 |0.8997|\n",
        "|      |GBDT|    0.8771  |    0.9999  |   0.9999 |0.9345|"
      ]
    },
    {
      "cell_type": "markdown",
      "metadata": {
        "id": "GJs34w2CMpjr"
      },
      "source": [
        "|  Data|Model| Precision  | Recall | ROC-Score | F1-Score |\n",
        "|------------|----|--------|----------------------|----------||\n",
        "|      Val |Logistic Reg|  0.00012    |  1.0    |   0.9392 |0.00024|\n",
        "|     | SVC|  9.629458439257376e-05    | 1.0       |   0.9357 |0.00019|\n",
        "|      |Stacking|    0.000127  |    1.0  |   0.9420 |0.00025|\n",
        "|      |GBDT|    0.00016  |    0.8  |   0.8993 |0.00032|"
      ]
    },
    {
      "cell_type": "markdown",
      "metadata": {
        "id": "ldZOL4r0NyfY"
      },
      "source": [
        "|  Data|Model| Precision  | Recall | ROC-Score | F1-Score |\n",
        "|------------|----|--------|----------------------|----------||\n",
        "|      Test |Logistic Reg|  0.00012  |    0.8333 |   0.8468 |0.00024|\n",
        "|     |SVC| 9.681666795755558e-05   |    0.8333  |   0.9203 |0.00019|\n",
        "|      |Stacking|    0.000127  |    0.8333  |   0.9136 |0.00025|\n",
        "|      |GBDT|    0.00012 |    0.5  |   0.8946 |0.00024|"
      ]
    },
    {
      "cell_type": "markdown",
      "metadata": {
        "id": "nGWIKhA9fTho"
      },
      "source": [
        "\n",
        "\n",
        "> The above tables show the performance of each models on Train, Val and Test Dataset.\n",
        "\n",
        "> All these models doesn't show good precision score on Val and Test data but shows good recall score on par with Train recall score.\n",
        "\n",
        "> Because of that F1-score is very much less than the Train Data.\n",
        "\n",
        "> Stacking shows good ROC score on Val Data and also on Test Data when compared to other models.\n",
        "\n",
        "> Logistic Regression shows good ROC score on Val Data but it doesn't achieve same on the Test Data.\n",
        "\n",
        "> SVC shows good ROC score on Test Data when compared to other models and it also achieved the good score on Val Data.\n",
        "\n",
        "> XGboost doesn't perform well on Val and Test Data.\n",
        "\n",
        "\n",
        "\n",
        "\n",
        "\n",
        "\n",
        "\n",
        "\n",
        "\n",
        "\n",
        "\n",
        "\n",
        "\n",
        "\n",
        "\n",
        "\n",
        "\n",
        "\n",
        "\n"
      ]
    }
  ],
  "metadata": {
    "colab": {
      "collapsed_sections": [
        "d3yK3kWBr5Vh",
        "eT72b-HvAx2T",
        "mvlWAduJbQO8",
        "BDFbUjuuYUwN"
      ],
      "provenance": [],
      "include_colab_link": true
    },
    "gpuClass": "standard",
    "kernelspec": {
      "display_name": "Python 3",
      "language": "python",
      "name": "python3"
    },
    "language_info": {
      "codemirror_mode": {
        "name": "ipython",
        "version": 3
      },
      "file_extension": ".py",
      "mimetype": "text/x-python",
      "name": "python",
      "nbconvert_exporter": "python",
      "pygments_lexer": "ipython3",
      "version": "3.7.6"
    }
  },
  "nbformat": 4,
  "nbformat_minor": 0
}