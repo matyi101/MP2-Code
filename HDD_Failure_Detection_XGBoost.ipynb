{
  "cells": [
    {
      "cell_type": "markdown",
      "metadata": {
        "id": "view-in-github",
        "colab_type": "text"
      },
      "source": [
        "<a href=\"https://colab.research.google.com/github/matyi101/MP2-Code/blob/main/HDD_Failure_Detection_XGBoost.ipynb\" target=\"_parent\"><img src=\"https://colab.research.google.com/assets/colab-badge.svg\" alt=\"Open In Colab\"/></a>"
      ]
    },
    {
      "cell_type": "code",
      "source": [
        "pip install xgboost --upgrade"
      ],
      "metadata": {
        "id": "7GK1_D4a1NWU",
        "outputId": "002e326d-c1c4-46da-9dad-3a7775382fa4",
        "colab": {
          "base_uri": "https://localhost:8080/"
        }
      },
      "execution_count": 2,
      "outputs": [
        {
          "output_type": "stream",
          "name": "stdout",
          "text": [
            "Looking in indexes: https://pypi.org/simple, https://us-python.pkg.dev/colab-wheels/public/simple/\n",
            "Requirement already satisfied: xgboost in /usr/local/lib/python3.8/dist-packages (1.7.2)\n",
            "Requirement already satisfied: numpy in /usr/local/lib/python3.8/dist-packages (from xgboost) (1.21.6)\n",
            "Requirement already satisfied: scipy in /usr/local/lib/python3.8/dist-packages (from xgboost) (1.7.3)\n"
          ]
        }
      ]
    },
    {
      "cell_type": "code",
      "execution_count": 3,
      "metadata": {
        "id": "Vsr1DT-teT0I",
        "colab": {
          "base_uri": "https://localhost:8080/"
        },
        "outputId": "ebc66ecc-d3da-4425-ee94-2fbd071e1d9c"
      },
      "outputs": [
        {
          "output_type": "stream",
          "name": "stdout",
          "text": [
            "Mounted at /content/drive/\n"
          ]
        }
      ],
      "source": [
        "from google.colab import drive\n",
        "from google.colab import data_table\n",
        "\n",
        "drive.mount('/content/drive/')\n",
        "data_table.enable_dataframe_formatter()"
      ]
    },
    {
      "cell_type": "code",
      "execution_count": 4,
      "metadata": {
        "id": "00O_gJByq_rn"
      },
      "outputs": [],
      "source": [
        "import os\n",
        "import pandas as pd\n",
        "import numpy as np\n",
        "import seaborn as sns\n",
        "import re\n",
        "import matplotlib.pyplot as plt\n",
        "from collections import Counter\n",
        "from imblearn.over_sampling import SMOTE\n",
        "from math import log"
      ]
    },
    {
      "cell_type": "markdown",
      "metadata": {
        "id": "2wc4xb0T9q6g"
      },
      "source": [
        "# DATA INFORMATION:\n",
        "\n",
        "\n",
        "\n",
        "> The dataset is available publicly for the users from https://www.backblaze.com/b2/hard-drive-test-data.html#how-you-can-use-the-data\n",
        "\n",
        "\n",
        "> The first row of the each file contains the column names, the remaining rows are the actual data. The columns are as follows:\n",
        "\n",
        "##### Date – The date of the file in yyyy-mm-dd format.\n",
        "##### Serial Number – The manufacturer-assigned serial number of the drive.\n",
        "##### Model – The manufacturer-assigned model number of the drive.\n",
        "##### Capacity – The drive capacity in bytes.\n",
        "##### Failure – Contains a “0” if the drive is OK. Contains a “1” if the drive is failed.\n",
        "##### S.M.A.R.T Attributes - Raw and Normalized.\n",
        "\n",
        "> In this dataset SMART attributes have two variants namely raw value often corresponds to counts or a physical unit, such as degrees Celsius or seconds and normalized value which ranges from 1 to 253 (1 as worst case and 253 as best case).\n",
        "\n",
        "\n",
        "\n",
        "\n",
        "\n",
        "\n",
        "\n"
      ]
    },
    {
      "cell_type": "markdown",
      "metadata": {
        "id": "jtNSJKkGA8ab"
      },
      "source": [
        "# ML PROBLEM FORMULATION:\n",
        "\n",
        "> It is the Binary class classification problem where we have to predict Hard Drive failure. These are predicted by using attributes that are recorded during normal operations of hard drive. These attributes are known as SMART(Self – Monitoring and Reporting Technology) which is the monitoring system included in computer HDD.\n",
        "\n",
        "> The motive of this prediction is to reduce the rate of failures as a cost saving measure by the HDD vendors and software running on the host system may notify the user so preventive action can be taken to prevent data loss and failing drive can be replaced and data integrity is maintained.\n",
        "\n",
        "> The HDD is said to be failed or critical when some of these attributes crosses the threshold values. Depending upon the manufacturers they use different SMART attributes in which the common attributes are like Read Error Rate, Throughput Performance, Spin-Up Time etc.\n",
        "\n",
        "> References:\n",
        "###### https://en.wikipedia.org/wiki/S.M.A.R.T\n",
        "###### https://www.backblaze.com/b2/hard-drive-test-data.html#how-you-can-use-the-data\n",
        "\n",
        "\n",
        "\n",
        "\n",
        "\n",
        "\n",
        "\n"
      ]
    },
    {
      "cell_type": "markdown",
      "metadata": {
        "id": "pbdpwrt2DJLd"
      },
      "source": [
        "# PERFORMANCE METRICS:\n",
        "\n",
        "\n",
        "1.   PRECISION, RECALL SCORES\n",
        "2.   AUC SCORE AND CONFUSION MATRIX\n",
        "\n"
      ]
    },
    {
      "cell_type": "markdown",
      "metadata": {
        "id": "SdIIo0TQ0OCD"
      },
      "source": [
        "# 1. Importing Data\n",
        "\n",
        "\n"
      ]
    },
    {
      "cell_type": "code",
      "execution_count": 5,
      "metadata": {
        "id": "Utoqk-Ia2RCp"
      },
      "outputs": [],
      "source": [
        "# Using 5 days of data for Train and Val.\n",
        "# dates = ['02', '03', '04', '05', '06', '07', '08', '09', '10']\n",
        "dates = ['02', '03', '04', '05']\n",
        "Data = pd.read_csv(\"/content/drive/My Drive/hdddata/2021/2021-01-01.csv\")\n",
        "for i in dates:\n",
        "  Data = Data.append(pd.read_csv(\"/content/drive/My Drive/hdddata/2021/2021-01-\" + i + \".csv\"))"
      ]
    },
    {
      "cell_type": "code",
      "execution_count": 6,
      "metadata": {
        "id": "iPodCMoH8nhu",
        "colab": {
          "base_uri": "https://localhost:8080/"
        },
        "outputId": "1db500ca-dad0-47a4-c911-05bd32374605"
      },
      "outputs": [
        {
          "output_type": "stream",
          "name": "stdout",
          "text": [
            "<class 'pandas.core.frame.DataFrame'>\n",
            "Int64Index: 827509 entries, 0 to 165532\n",
            "Columns: 149 entries, date to smart_255_raw\n",
            "dtypes: float64(144), int64(2), object(3)\n",
            "memory usage: 947.0+ MB\n",
            "None\n",
            "\n",
            "Shape of the Data:  (827509, 149)\n"
          ]
        }
      ],
      "source": [
        "print(Data.info())\n",
        "print()\n",
        "print(\"Shape of the Data: \", Data.shape)"
      ]
    },
    {
      "cell_type": "code",
      "execution_count": 7,
      "metadata": {
        "id": "qXosMjoJPcfw",
        "colab": {
          "base_uri": "https://localhost:8080/",
          "height": 404
        },
        "outputId": "d7c578b8-0244-47e0-fec9-0be8a549f0b2"
      },
      "outputs": [
        {
          "output_type": "stream",
          "name": "stdout",
          "text": [
            "Warning: Total number of columns (149) exceeds max_columns (20). Falling back to pandas display.\n"
          ]
        },
        {
          "output_type": "execute_result",
          "data": {
            "text/plain": [
              "         date serial_number          model  capacity_bytes  failure  \\\n",
              "0  2021-01-01      ZLW0EGC6  ST12000NM001G  12000138625024        0   \n",
              "1  2021-01-01      Z305B2QN    ST4000DM000   4000787030016        0   \n",
              "2  2021-01-01      ZLW0C6NE  ST12000NM001G  12000138625024        0   \n",
              "3  2021-01-01      ZJV0XJQ3  ST12000NM0007  12000138625024        0   \n",
              "4  2021-01-01      ZLW18MKT  ST14000NM001G  14000519643136        0   \n",
              "\n",
              "   smart_1_normalized  smart_1_raw  smart_2_normalized  smart_2_raw  \\\n",
              "0                83.0  213166608.0                 NaN          NaN   \n",
              "1               114.0   79306032.0                 NaN          NaN   \n",
              "2                72.0   17162816.0                 NaN          NaN   \n",
              "3               100.0    1102160.0                 NaN          NaN   \n",
              "4                75.0   33233248.0                 NaN          NaN   \n",
              "\n",
              "   smart_3_normalized  ...  smart_250_normalized  smart_250_raw  \\\n",
              "0                99.0  ...                   NaN            NaN   \n",
              "1                91.0  ...                   NaN            NaN   \n",
              "2                98.0  ...                   NaN            NaN   \n",
              "3                98.0  ...                   NaN            NaN   \n",
              "4                95.0  ...                   NaN            NaN   \n",
              "\n",
              "   smart_251_normalized  smart_251_raw  smart_252_normalized  smart_252_raw  \\\n",
              "0                   NaN            NaN                   NaN            NaN   \n",
              "1                   NaN            NaN                   NaN            NaN   \n",
              "2                   NaN            NaN                   NaN            NaN   \n",
              "3                   NaN            NaN                   NaN            NaN   \n",
              "4                   NaN            NaN                   NaN            NaN   \n",
              "\n",
              "   smart_254_normalized  smart_254_raw  smart_255_normalized  smart_255_raw  \n",
              "0                   NaN            NaN                   NaN            NaN  \n",
              "1                   NaN            NaN                   NaN            NaN  \n",
              "2                   NaN            NaN                   NaN            NaN  \n",
              "3                   NaN            NaN                   NaN            NaN  \n",
              "4                   NaN            NaN                   NaN            NaN  \n",
              "\n",
              "[5 rows x 149 columns]"
            ],
            "text/html": [
              "\n",
              "  <div id=\"df-0a5de86a-3825-4677-8988-b381516ae899\">\n",
              "    <div class=\"colab-df-container\">\n",
              "      <div>\n",
              "<style scoped>\n",
              "    .dataframe tbody tr th:only-of-type {\n",
              "        vertical-align: middle;\n",
              "    }\n",
              "\n",
              "    .dataframe tbody tr th {\n",
              "        vertical-align: top;\n",
              "    }\n",
              "\n",
              "    .dataframe thead th {\n",
              "        text-align: right;\n",
              "    }\n",
              "</style>\n",
              "<table border=\"1\" class=\"dataframe\">\n",
              "  <thead>\n",
              "    <tr style=\"text-align: right;\">\n",
              "      <th></th>\n",
              "      <th>date</th>\n",
              "      <th>serial_number</th>\n",
              "      <th>model</th>\n",
              "      <th>capacity_bytes</th>\n",
              "      <th>failure</th>\n",
              "      <th>smart_1_normalized</th>\n",
              "      <th>smart_1_raw</th>\n",
              "      <th>smart_2_normalized</th>\n",
              "      <th>smart_2_raw</th>\n",
              "      <th>smart_3_normalized</th>\n",
              "      <th>...</th>\n",
              "      <th>smart_250_normalized</th>\n",
              "      <th>smart_250_raw</th>\n",
              "      <th>smart_251_normalized</th>\n",
              "      <th>smart_251_raw</th>\n",
              "      <th>smart_252_normalized</th>\n",
              "      <th>smart_252_raw</th>\n",
              "      <th>smart_254_normalized</th>\n",
              "      <th>smart_254_raw</th>\n",
              "      <th>smart_255_normalized</th>\n",
              "      <th>smart_255_raw</th>\n",
              "    </tr>\n",
              "  </thead>\n",
              "  <tbody>\n",
              "    <tr>\n",
              "      <th>0</th>\n",
              "      <td>2021-01-01</td>\n",
              "      <td>ZLW0EGC6</td>\n",
              "      <td>ST12000NM001G</td>\n",
              "      <td>12000138625024</td>\n",
              "      <td>0</td>\n",
              "      <td>83.0</td>\n",
              "      <td>213166608.0</td>\n",
              "      <td>NaN</td>\n",
              "      <td>NaN</td>\n",
              "      <td>99.0</td>\n",
              "      <td>...</td>\n",
              "      <td>NaN</td>\n",
              "      <td>NaN</td>\n",
              "      <td>NaN</td>\n",
              "      <td>NaN</td>\n",
              "      <td>NaN</td>\n",
              "      <td>NaN</td>\n",
              "      <td>NaN</td>\n",
              "      <td>NaN</td>\n",
              "      <td>NaN</td>\n",
              "      <td>NaN</td>\n",
              "    </tr>\n",
              "    <tr>\n",
              "      <th>1</th>\n",
              "      <td>2021-01-01</td>\n",
              "      <td>Z305B2QN</td>\n",
              "      <td>ST4000DM000</td>\n",
              "      <td>4000787030016</td>\n",
              "      <td>0</td>\n",
              "      <td>114.0</td>\n",
              "      <td>79306032.0</td>\n",
              "      <td>NaN</td>\n",
              "      <td>NaN</td>\n",
              "      <td>91.0</td>\n",
              "      <td>...</td>\n",
              "      <td>NaN</td>\n",
              "      <td>NaN</td>\n",
              "      <td>NaN</td>\n",
              "      <td>NaN</td>\n",
              "      <td>NaN</td>\n",
              "      <td>NaN</td>\n",
              "      <td>NaN</td>\n",
              "      <td>NaN</td>\n",
              "      <td>NaN</td>\n",
              "      <td>NaN</td>\n",
              "    </tr>\n",
              "    <tr>\n",
              "      <th>2</th>\n",
              "      <td>2021-01-01</td>\n",
              "      <td>ZLW0C6NE</td>\n",
              "      <td>ST12000NM001G</td>\n",
              "      <td>12000138625024</td>\n",
              "      <td>0</td>\n",
              "      <td>72.0</td>\n",
              "      <td>17162816.0</td>\n",
              "      <td>NaN</td>\n",
              "      <td>NaN</td>\n",
              "      <td>98.0</td>\n",
              "      <td>...</td>\n",
              "      <td>NaN</td>\n",
              "      <td>NaN</td>\n",
              "      <td>NaN</td>\n",
              "      <td>NaN</td>\n",
              "      <td>NaN</td>\n",
              "      <td>NaN</td>\n",
              "      <td>NaN</td>\n",
              "      <td>NaN</td>\n",
              "      <td>NaN</td>\n",
              "      <td>NaN</td>\n",
              "    </tr>\n",
              "    <tr>\n",
              "      <th>3</th>\n",
              "      <td>2021-01-01</td>\n",
              "      <td>ZJV0XJQ3</td>\n",
              "      <td>ST12000NM0007</td>\n",
              "      <td>12000138625024</td>\n",
              "      <td>0</td>\n",
              "      <td>100.0</td>\n",
              "      <td>1102160.0</td>\n",
              "      <td>NaN</td>\n",
              "      <td>NaN</td>\n",
              "      <td>98.0</td>\n",
              "      <td>...</td>\n",
              "      <td>NaN</td>\n",
              "      <td>NaN</td>\n",
              "      <td>NaN</td>\n",
              "      <td>NaN</td>\n",
              "      <td>NaN</td>\n",
              "      <td>NaN</td>\n",
              "      <td>NaN</td>\n",
              "      <td>NaN</td>\n",
              "      <td>NaN</td>\n",
              "      <td>NaN</td>\n",
              "    </tr>\n",
              "    <tr>\n",
              "      <th>4</th>\n",
              "      <td>2021-01-01</td>\n",
              "      <td>ZLW18MKT</td>\n",
              "      <td>ST14000NM001G</td>\n",
              "      <td>14000519643136</td>\n",
              "      <td>0</td>\n",
              "      <td>75.0</td>\n",
              "      <td>33233248.0</td>\n",
              "      <td>NaN</td>\n",
              "      <td>NaN</td>\n",
              "      <td>95.0</td>\n",
              "      <td>...</td>\n",
              "      <td>NaN</td>\n",
              "      <td>NaN</td>\n",
              "      <td>NaN</td>\n",
              "      <td>NaN</td>\n",
              "      <td>NaN</td>\n",
              "      <td>NaN</td>\n",
              "      <td>NaN</td>\n",
              "      <td>NaN</td>\n",
              "      <td>NaN</td>\n",
              "      <td>NaN</td>\n",
              "    </tr>\n",
              "  </tbody>\n",
              "</table>\n",
              "<p>5 rows × 149 columns</p>\n",
              "</div>\n",
              "      <button class=\"colab-df-convert\" onclick=\"convertToInteractive('df-0a5de86a-3825-4677-8988-b381516ae899')\"\n",
              "              title=\"Convert this dataframe to an interactive table.\"\n",
              "              style=\"display:none;\">\n",
              "        \n",
              "  <svg xmlns=\"http://www.w3.org/2000/svg\" height=\"24px\"viewBox=\"0 0 24 24\"\n",
              "       width=\"24px\">\n",
              "    <path d=\"M0 0h24v24H0V0z\" fill=\"none\"/>\n",
              "    <path d=\"M18.56 5.44l.94 2.06.94-2.06 2.06-.94-2.06-.94-.94-2.06-.94 2.06-2.06.94zm-11 1L8.5 8.5l.94-2.06 2.06-.94-2.06-.94L8.5 2.5l-.94 2.06-2.06.94zm10 10l.94 2.06.94-2.06 2.06-.94-2.06-.94-.94-2.06-.94 2.06-2.06.94z\"/><path d=\"M17.41 7.96l-1.37-1.37c-.4-.4-.92-.59-1.43-.59-.52 0-1.04.2-1.43.59L10.3 9.45l-7.72 7.72c-.78.78-.78 2.05 0 2.83L4 21.41c.39.39.9.59 1.41.59.51 0 1.02-.2 1.41-.59l7.78-7.78 2.81-2.81c.8-.78.8-2.07 0-2.86zM5.41 20L4 18.59l7.72-7.72 1.47 1.35L5.41 20z\"/>\n",
              "  </svg>\n",
              "      </button>\n",
              "      \n",
              "  <style>\n",
              "    .colab-df-container {\n",
              "      display:flex;\n",
              "      flex-wrap:wrap;\n",
              "      gap: 12px;\n",
              "    }\n",
              "\n",
              "    .colab-df-convert {\n",
              "      background-color: #E8F0FE;\n",
              "      border: none;\n",
              "      border-radius: 50%;\n",
              "      cursor: pointer;\n",
              "      display: none;\n",
              "      fill: #1967D2;\n",
              "      height: 32px;\n",
              "      padding: 0 0 0 0;\n",
              "      width: 32px;\n",
              "    }\n",
              "\n",
              "    .colab-df-convert:hover {\n",
              "      background-color: #E2EBFA;\n",
              "      box-shadow: 0px 1px 2px rgba(60, 64, 67, 0.3), 0px 1px 3px 1px rgba(60, 64, 67, 0.15);\n",
              "      fill: #174EA6;\n",
              "    }\n",
              "\n",
              "    [theme=dark] .colab-df-convert {\n",
              "      background-color: #3B4455;\n",
              "      fill: #D2E3FC;\n",
              "    }\n",
              "\n",
              "    [theme=dark] .colab-df-convert:hover {\n",
              "      background-color: #434B5C;\n",
              "      box-shadow: 0px 1px 3px 1px rgba(0, 0, 0, 0.15);\n",
              "      filter: drop-shadow(0px 1px 2px rgba(0, 0, 0, 0.3));\n",
              "      fill: #FFFFFF;\n",
              "    }\n",
              "  </style>\n",
              "\n",
              "      <script>\n",
              "        const buttonEl =\n",
              "          document.querySelector('#df-0a5de86a-3825-4677-8988-b381516ae899 button.colab-df-convert');\n",
              "        buttonEl.style.display =\n",
              "          google.colab.kernel.accessAllowed ? 'block' : 'none';\n",
              "\n",
              "        async function convertToInteractive(key) {\n",
              "          const element = document.querySelector('#df-0a5de86a-3825-4677-8988-b381516ae899');\n",
              "          const dataTable =\n",
              "            await google.colab.kernel.invokeFunction('convertToInteractive',\n",
              "                                                     [key], {});\n",
              "          if (!dataTable) return;\n",
              "\n",
              "          const docLinkHtml = 'Like what you see? Visit the ' +\n",
              "            '<a target=\"_blank\" href=https://colab.research.google.com/notebooks/data_table.ipynb>data table notebook</a>'\n",
              "            + ' to learn more about interactive tables.';\n",
              "          element.innerHTML = '';\n",
              "          dataTable['output_type'] = 'display_data';\n",
              "          await google.colab.output.renderOutput(dataTable, element);\n",
              "          const docLink = document.createElement('div');\n",
              "          docLink.innerHTML = docLinkHtml;\n",
              "          element.appendChild(docLink);\n",
              "        }\n",
              "      </script>\n",
              "    </div>\n",
              "  </div>\n",
              "  "
            ]
          },
          "metadata": {},
          "execution_count": 7
        }
      ],
      "source": [
        "Data.head()"
      ]
    },
    {
      "cell_type": "code",
      "execution_count": 8,
      "metadata": {
        "id": "gXHSrWH6-91D",
        "colab": {
          "base_uri": "https://localhost:8080/",
          "height": 404
        },
        "outputId": "6203399c-28b0-441e-e96f-0044d808ba43"
      },
      "outputs": [
        {
          "output_type": "stream",
          "name": "stdout",
          "text": [
            "Warning: Total number of columns (149) exceeds max_columns (20). Falling back to pandas display.\n"
          ]
        },
        {
          "output_type": "execute_result",
          "data": {
            "text/plain": [
              "              date   serial_number                 model  capacity_bytes  \\\n",
              "165528  2021-01-05        ZJV2ESXT         ST12000NM0007  12000138625024   \n",
              "165529  2021-01-05        ZA13ZBCT           ST8000DM002   8001563222016   \n",
              "165530  2021-01-05  PL1331LAHGD9NH  HGST HMS5C4040BLE640   4000787030016   \n",
              "165531  2021-01-05  PL2331LAHDS4TJ  HGST HMS5C4040BLE640   4000787030016   \n",
              "165532  2021-01-05        X0GEV9EC   WDC WUH721414ALE6L4  14000519643136   \n",
              "\n",
              "        failure  smart_1_normalized  smart_1_raw  smart_2_normalized  \\\n",
              "165528        0                80.0   97876120.0                 NaN   \n",
              "165529        0                84.0  227496000.0                 NaN   \n",
              "165530        0               100.0          0.0               134.0   \n",
              "165531        0               100.0          0.0               133.0   \n",
              "165532        0               100.0          0.0               138.0   \n",
              "\n",
              "        smart_2_raw  smart_3_normalized  ...  smart_250_normalized  \\\n",
              "165528          NaN                98.0  ...                   NaN   \n",
              "165529          NaN                86.0  ...                   NaN   \n",
              "165530        100.0               100.0  ...                   NaN   \n",
              "165531        104.0               100.0  ...                   NaN   \n",
              "165532         92.0                85.0  ...                   NaN   \n",
              "\n",
              "        smart_250_raw  smart_251_normalized  smart_251_raw  \\\n",
              "165528            NaN                   NaN            NaN   \n",
              "165529            NaN                   NaN            NaN   \n",
              "165530            NaN                   NaN            NaN   \n",
              "165531            NaN                   NaN            NaN   \n",
              "165532            NaN                   NaN            NaN   \n",
              "\n",
              "        smart_252_normalized  smart_252_raw  smart_254_normalized  \\\n",
              "165528                   NaN            NaN                   NaN   \n",
              "165529                   NaN            NaN                   NaN   \n",
              "165530                   NaN            NaN                   NaN   \n",
              "165531                   NaN            NaN                   NaN   \n",
              "165532                   NaN            NaN                   NaN   \n",
              "\n",
              "        smart_254_raw  smart_255_normalized  smart_255_raw  \n",
              "165528            NaN                   NaN            NaN  \n",
              "165529            NaN                   NaN            NaN  \n",
              "165530            NaN                   NaN            NaN  \n",
              "165531            NaN                   NaN            NaN  \n",
              "165532            NaN                   NaN            NaN  \n",
              "\n",
              "[5 rows x 149 columns]"
            ],
            "text/html": [
              "\n",
              "  <div id=\"df-3604e8b8-f7fb-4f21-9056-47443693348b\">\n",
              "    <div class=\"colab-df-container\">\n",
              "      <div>\n",
              "<style scoped>\n",
              "    .dataframe tbody tr th:only-of-type {\n",
              "        vertical-align: middle;\n",
              "    }\n",
              "\n",
              "    .dataframe tbody tr th {\n",
              "        vertical-align: top;\n",
              "    }\n",
              "\n",
              "    .dataframe thead th {\n",
              "        text-align: right;\n",
              "    }\n",
              "</style>\n",
              "<table border=\"1\" class=\"dataframe\">\n",
              "  <thead>\n",
              "    <tr style=\"text-align: right;\">\n",
              "      <th></th>\n",
              "      <th>date</th>\n",
              "      <th>serial_number</th>\n",
              "      <th>model</th>\n",
              "      <th>capacity_bytes</th>\n",
              "      <th>failure</th>\n",
              "      <th>smart_1_normalized</th>\n",
              "      <th>smart_1_raw</th>\n",
              "      <th>smart_2_normalized</th>\n",
              "      <th>smart_2_raw</th>\n",
              "      <th>smart_3_normalized</th>\n",
              "      <th>...</th>\n",
              "      <th>smart_250_normalized</th>\n",
              "      <th>smart_250_raw</th>\n",
              "      <th>smart_251_normalized</th>\n",
              "      <th>smart_251_raw</th>\n",
              "      <th>smart_252_normalized</th>\n",
              "      <th>smart_252_raw</th>\n",
              "      <th>smart_254_normalized</th>\n",
              "      <th>smart_254_raw</th>\n",
              "      <th>smart_255_normalized</th>\n",
              "      <th>smart_255_raw</th>\n",
              "    </tr>\n",
              "  </thead>\n",
              "  <tbody>\n",
              "    <tr>\n",
              "      <th>165528</th>\n",
              "      <td>2021-01-05</td>\n",
              "      <td>ZJV2ESXT</td>\n",
              "      <td>ST12000NM0007</td>\n",
              "      <td>12000138625024</td>\n",
              "      <td>0</td>\n",
              "      <td>80.0</td>\n",
              "      <td>97876120.0</td>\n",
              "      <td>NaN</td>\n",
              "      <td>NaN</td>\n",
              "      <td>98.0</td>\n",
              "      <td>...</td>\n",
              "      <td>NaN</td>\n",
              "      <td>NaN</td>\n",
              "      <td>NaN</td>\n",
              "      <td>NaN</td>\n",
              "      <td>NaN</td>\n",
              "      <td>NaN</td>\n",
              "      <td>NaN</td>\n",
              "      <td>NaN</td>\n",
              "      <td>NaN</td>\n",
              "      <td>NaN</td>\n",
              "    </tr>\n",
              "    <tr>\n",
              "      <th>165529</th>\n",
              "      <td>2021-01-05</td>\n",
              "      <td>ZA13ZBCT</td>\n",
              "      <td>ST8000DM002</td>\n",
              "      <td>8001563222016</td>\n",
              "      <td>0</td>\n",
              "      <td>84.0</td>\n",
              "      <td>227496000.0</td>\n",
              "      <td>NaN</td>\n",
              "      <td>NaN</td>\n",
              "      <td>86.0</td>\n",
              "      <td>...</td>\n",
              "      <td>NaN</td>\n",
              "      <td>NaN</td>\n",
              "      <td>NaN</td>\n",
              "      <td>NaN</td>\n",
              "      <td>NaN</td>\n",
              "      <td>NaN</td>\n",
              "      <td>NaN</td>\n",
              "      <td>NaN</td>\n",
              "      <td>NaN</td>\n",
              "      <td>NaN</td>\n",
              "    </tr>\n",
              "    <tr>\n",
              "      <th>165530</th>\n",
              "      <td>2021-01-05</td>\n",
              "      <td>PL1331LAHGD9NH</td>\n",
              "      <td>HGST HMS5C4040BLE640</td>\n",
              "      <td>4000787030016</td>\n",
              "      <td>0</td>\n",
              "      <td>100.0</td>\n",
              "      <td>0.0</td>\n",
              "      <td>134.0</td>\n",
              "      <td>100.0</td>\n",
              "      <td>100.0</td>\n",
              "      <td>...</td>\n",
              "      <td>NaN</td>\n",
              "      <td>NaN</td>\n",
              "      <td>NaN</td>\n",
              "      <td>NaN</td>\n",
              "      <td>NaN</td>\n",
              "      <td>NaN</td>\n",
              "      <td>NaN</td>\n",
              "      <td>NaN</td>\n",
              "      <td>NaN</td>\n",
              "      <td>NaN</td>\n",
              "    </tr>\n",
              "    <tr>\n",
              "      <th>165531</th>\n",
              "      <td>2021-01-05</td>\n",
              "      <td>PL2331LAHDS4TJ</td>\n",
              "      <td>HGST HMS5C4040BLE640</td>\n",
              "      <td>4000787030016</td>\n",
              "      <td>0</td>\n",
              "      <td>100.0</td>\n",
              "      <td>0.0</td>\n",
              "      <td>133.0</td>\n",
              "      <td>104.0</td>\n",
              "      <td>100.0</td>\n",
              "      <td>...</td>\n",
              "      <td>NaN</td>\n",
              "      <td>NaN</td>\n",
              "      <td>NaN</td>\n",
              "      <td>NaN</td>\n",
              "      <td>NaN</td>\n",
              "      <td>NaN</td>\n",
              "      <td>NaN</td>\n",
              "      <td>NaN</td>\n",
              "      <td>NaN</td>\n",
              "      <td>NaN</td>\n",
              "    </tr>\n",
              "    <tr>\n",
              "      <th>165532</th>\n",
              "      <td>2021-01-05</td>\n",
              "      <td>X0GEV9EC</td>\n",
              "      <td>WDC WUH721414ALE6L4</td>\n",
              "      <td>14000519643136</td>\n",
              "      <td>0</td>\n",
              "      <td>100.0</td>\n",
              "      <td>0.0</td>\n",
              "      <td>138.0</td>\n",
              "      <td>92.0</td>\n",
              "      <td>85.0</td>\n",
              "      <td>...</td>\n",
              "      <td>NaN</td>\n",
              "      <td>NaN</td>\n",
              "      <td>NaN</td>\n",
              "      <td>NaN</td>\n",
              "      <td>NaN</td>\n",
              "      <td>NaN</td>\n",
              "      <td>NaN</td>\n",
              "      <td>NaN</td>\n",
              "      <td>NaN</td>\n",
              "      <td>NaN</td>\n",
              "    </tr>\n",
              "  </tbody>\n",
              "</table>\n",
              "<p>5 rows × 149 columns</p>\n",
              "</div>\n",
              "      <button class=\"colab-df-convert\" onclick=\"convertToInteractive('df-3604e8b8-f7fb-4f21-9056-47443693348b')\"\n",
              "              title=\"Convert this dataframe to an interactive table.\"\n",
              "              style=\"display:none;\">\n",
              "        \n",
              "  <svg xmlns=\"http://www.w3.org/2000/svg\" height=\"24px\"viewBox=\"0 0 24 24\"\n",
              "       width=\"24px\">\n",
              "    <path d=\"M0 0h24v24H0V0z\" fill=\"none\"/>\n",
              "    <path d=\"M18.56 5.44l.94 2.06.94-2.06 2.06-.94-2.06-.94-.94-2.06-.94 2.06-2.06.94zm-11 1L8.5 8.5l.94-2.06 2.06-.94-2.06-.94L8.5 2.5l-.94 2.06-2.06.94zm10 10l.94 2.06.94-2.06 2.06-.94-2.06-.94-.94-2.06-.94 2.06-2.06.94z\"/><path d=\"M17.41 7.96l-1.37-1.37c-.4-.4-.92-.59-1.43-.59-.52 0-1.04.2-1.43.59L10.3 9.45l-7.72 7.72c-.78.78-.78 2.05 0 2.83L4 21.41c.39.39.9.59 1.41.59.51 0 1.02-.2 1.41-.59l7.78-7.78 2.81-2.81c.8-.78.8-2.07 0-2.86zM5.41 20L4 18.59l7.72-7.72 1.47 1.35L5.41 20z\"/>\n",
              "  </svg>\n",
              "      </button>\n",
              "      \n",
              "  <style>\n",
              "    .colab-df-container {\n",
              "      display:flex;\n",
              "      flex-wrap:wrap;\n",
              "      gap: 12px;\n",
              "    }\n",
              "\n",
              "    .colab-df-convert {\n",
              "      background-color: #E8F0FE;\n",
              "      border: none;\n",
              "      border-radius: 50%;\n",
              "      cursor: pointer;\n",
              "      display: none;\n",
              "      fill: #1967D2;\n",
              "      height: 32px;\n",
              "      padding: 0 0 0 0;\n",
              "      width: 32px;\n",
              "    }\n",
              "\n",
              "    .colab-df-convert:hover {\n",
              "      background-color: #E2EBFA;\n",
              "      box-shadow: 0px 1px 2px rgba(60, 64, 67, 0.3), 0px 1px 3px 1px rgba(60, 64, 67, 0.15);\n",
              "      fill: #174EA6;\n",
              "    }\n",
              "\n",
              "    [theme=dark] .colab-df-convert {\n",
              "      background-color: #3B4455;\n",
              "      fill: #D2E3FC;\n",
              "    }\n",
              "\n",
              "    [theme=dark] .colab-df-convert:hover {\n",
              "      background-color: #434B5C;\n",
              "      box-shadow: 0px 1px 3px 1px rgba(0, 0, 0, 0.15);\n",
              "      filter: drop-shadow(0px 1px 2px rgba(0, 0, 0, 0.3));\n",
              "      fill: #FFFFFF;\n",
              "    }\n",
              "  </style>\n",
              "\n",
              "      <script>\n",
              "        const buttonEl =\n",
              "          document.querySelector('#df-3604e8b8-f7fb-4f21-9056-47443693348b button.colab-df-convert');\n",
              "        buttonEl.style.display =\n",
              "          google.colab.kernel.accessAllowed ? 'block' : 'none';\n",
              "\n",
              "        async function convertToInteractive(key) {\n",
              "          const element = document.querySelector('#df-3604e8b8-f7fb-4f21-9056-47443693348b');\n",
              "          const dataTable =\n",
              "            await google.colab.kernel.invokeFunction('convertToInteractive',\n",
              "                                                     [key], {});\n",
              "          if (!dataTable) return;\n",
              "\n",
              "          const docLinkHtml = 'Like what you see? Visit the ' +\n",
              "            '<a target=\"_blank\" href=https://colab.research.google.com/notebooks/data_table.ipynb>data table notebook</a>'\n",
              "            + ' to learn more about interactive tables.';\n",
              "          element.innerHTML = '';\n",
              "          dataTable['output_type'] = 'display_data';\n",
              "          await google.colab.output.renderOutput(dataTable, element);\n",
              "          const docLink = document.createElement('div');\n",
              "          docLink.innerHTML = docLinkHtml;\n",
              "          element.appendChild(docLink);\n",
              "        }\n",
              "      </script>\n",
              "    </div>\n",
              "  </div>\n",
              "  "
            ]
          },
          "metadata": {},
          "execution_count": 8
        }
      ],
      "source": [
        "Data.tail()"
      ]
    },
    {
      "cell_type": "code",
      "execution_count": 9,
      "metadata": {
        "id": "OFLQ4fIy_Er9",
        "colab": {
          "base_uri": "https://localhost:8080/"
        },
        "outputId": "864187bd-fd9a-4a5f-f0aa-1ca3a04da45a"
      },
      "outputs": [
        {
          "output_type": "execute_result",
          "data": {
            "text/plain": [
              "Index(['index', 'date', 'serial_number', 'model', 'capacity_bytes', 'failure',\n",
              "       'smart_1_normalized', 'smart_1_raw', 'smart_2_normalized',\n",
              "       'smart_2_raw',\n",
              "       ...\n",
              "       'smart_250_normalized', 'smart_250_raw', 'smart_251_normalized',\n",
              "       'smart_251_raw', 'smart_252_normalized', 'smart_252_raw',\n",
              "       'smart_254_normalized', 'smart_254_raw', 'smart_255_normalized',\n",
              "       'smart_255_raw'],\n",
              "      dtype='object', length=150)"
            ]
          },
          "metadata": {},
          "execution_count": 9
        }
      ],
      "source": [
        "Data.reset_index(inplace = True)\n",
        "Data['date'] = pd.to_datetime(Data['date'])\n",
        "Data.columns"
      ]
    },
    {
      "cell_type": "markdown",
      "metadata": {
        "id": "jbDTDRywuYl7"
      },
      "source": [
        "From the above Dataset it is found that it many features contains NaN values."
      ]
    },
    {
      "cell_type": "markdown",
      "metadata": {
        "id": "mMvcgQLEpinl"
      },
      "source": [
        "# 2. To Find the common features of all the models of HDD.\n",
        "\n",
        "\n",
        "\n",
        "\n",
        "\n"
      ]
    },
    {
      "cell_type": "markdown",
      "metadata": {
        "id": "Z4b7XudXLS7j"
      },
      "source": [
        "> Since each vendors provide different SMART attributes, I am finding and keeping the common attributes that each model have defined values.\n",
        "\n",
        "\n",
        "> Attributes with many NaN are removed."
      ]
    },
    {
      "cell_type": "code",
      "execution_count": 10,
      "metadata": {
        "id": "7V_Mmy6UXI7n",
        "colab": {
          "base_uri": "https://localhost:8080/"
        },
        "outputId": "2fc517d3-0d06-4b6a-98d1-e4baf3a02416"
      },
      "outputs": [
        {
          "output_type": "execute_result",
          "data": {
            "text/plain": [
              "Index(['date', 'serial_number', 'model', 'capacity_bytes', 'failure',\n",
              "       'smart_1_normalized', 'smart_1_raw', 'smart_2_normalized',\n",
              "       'smart_2_raw', 'smart_3_normalized',\n",
              "       ...\n",
              "       'smart_250_normalized', 'smart_250_raw', 'smart_251_normalized',\n",
              "       'smart_251_raw', 'smart_252_normalized', 'smart_252_raw',\n",
              "       'smart_254_normalized', 'smart_254_raw', 'smart_255_normalized',\n",
              "       'smart_255_raw'],\n",
              "      dtype='object', length=149)"
            ]
          },
          "metadata": {},
          "execution_count": 10
        }
      ],
      "source": [
        "# Creating the copy of original data with removing the columns containing all instances as NaN.\n",
        "Data.drop('index', axis = 1, inplace = True)\n",
        "Test = Data.dropna(how = 'all', axis = 1)\n",
        "Initial = Data.columns\n",
        "Initial"
      ]
    },
    {
      "cell_type": "code",
      "execution_count": 11,
      "metadata": {
        "id": "-wnh46ZXA1Dx",
        "colab": {
          "base_uri": "https://localhost:8080/"
        },
        "outputId": "beadf436-b647-401a-972b-0c01f8e4081e"
      },
      "outputs": [
        {
          "output_type": "execute_result",
          "data": {
            "text/plain": [
              "(827509, 139)"
            ]
          },
          "metadata": {},
          "execution_count": 11
        }
      ],
      "source": [
        "Test.shape # Shape of the data after removing the NaN Features."
      ]
    },
    {
      "cell_type": "code",
      "execution_count": 12,
      "metadata": {
        "id": "8WDwz9QzA884",
        "colab": {
          "base_uri": "https://localhost:8080/"
        },
        "outputId": "141148c1-c604-4693-9cc7-bc1ef878c87d"
      },
      "outputs": [
        {
          "output_type": "execute_result",
          "data": {
            "text/plain": [
              "8"
            ]
          },
          "metadata": {},
          "execution_count": 12
        }
      ],
      "source": [
        "# Critical Features for HDD failure as mentioned in Wikipedia and BlackBlaze.\n",
        "# These features are removed to find other common features of all the models.\n",
        "Features = ['5', '10', '184', '187', '188', '196', '197', '198']\n",
        "len(Features)"
      ]
    },
    {
      "cell_type": "code",
      "execution_count": 13,
      "metadata": {
        "id": "GXeV334bA846",
        "colab": {
          "base_uri": "https://localhost:8080/"
        },
        "outputId": "90d70e69-e46c-4dc2-9fe7-7c7d6e23c8c5"
      },
      "outputs": [
        {
          "output_type": "stream",
          "name": "stderr",
          "text": [
            "/usr/local/lib/python3.8/dist-packages/pandas/core/frame.py:4906: SettingWithCopyWarning: \n",
            "A value is trying to be set on a copy of a slice from a DataFrame\n",
            "\n",
            "See the caveats in the documentation: https://pandas.pydata.org/pandas-docs/stable/user_guide/indexing.html#returning-a-view-versus-a-copy\n",
            "  return super().drop(\n"
          ]
        }
      ],
      "source": [
        "for i in Features:\n",
        "  features = ['smart_' + i + '_normalized', 'smart_' + i + '_raw']\n",
        "  Test.drop(features, axis = 1, inplace = True)"
      ]
    },
    {
      "cell_type": "code",
      "execution_count": 14,
      "metadata": {
        "id": "j_AAlxPLA832",
        "colab": {
          "base_uri": "https://localhost:8080/"
        },
        "outputId": "d2a4349b-61ef-4140-cf81-598c6da6c67a"
      },
      "outputs": [
        {
          "output_type": "execute_result",
          "data": {
            "text/plain": [
              "(827509, 123)"
            ]
          },
          "metadata": {},
          "execution_count": 14
        }
      ],
      "source": [
        "# Shape of the data after removing the critical features.\n",
        "Test.shape "
      ]
    },
    {
      "cell_type": "code",
      "execution_count": 15,
      "metadata": {
        "id": "oQfgRDw3tZWI",
        "colab": {
          "base_uri": "https://localhost:8080/",
          "height": 1000
        },
        "outputId": "d5350888-e593-4415-de0a-88d5190066df"
      },
      "outputs": [
        {
          "output_type": "display_data",
          "data": {
            "text/plain": [
              "<Figure size 1440x1440 with 1 Axes>"
            ],
            "image/png": "[encoded data removed]"
          },
          "metadata": {
            "needs_background": "light"
          }
        }
      ],
      "source": [
        "# Checking the count and percentage of unique models from the data.\n",
        "total = len(Data)\n",
        "plt.figure(figsize = (20,20))\n",
        "ax = sns.countplot(x = \"model\", data = Test, order = Test.model.value_counts().index)\n",
        "for p in ax.patches:\n",
        "        ax.annotate('{:.4f}% ({})'.format(100*p.get_height()/total, p.get_height()), (p.get_x()+0.1, p.get_height()+5), rotation = 'vertical')\n",
        "\n",
        "#put 11 ticks (therefore 10 steps), from 0 to the total number of rows in the dataframe\n",
        "ax.yaxis.set_ticks(np.linspace(0, total, 11))\n",
        "\n",
        "#adjust the ticklabel to the desired format, without changing the position of the ticks. \n",
        "ax.set_yticklabels(map('{:.1f}%'.format, 100*ax.yaxis.get_majorticklocs()/total))\n",
        "plt.xticks(rotation=90)\n",
        "plt.title('Counts of every HDD model')\n",
        "plt.grid(True)\n",
        "plt.show()"
      ]
    },
    {
      "cell_type": "code",
      "execution_count": 16,
      "metadata": {
        "id": "yH5s7PO6jdBa",
        "colab": {
          "base_uri": "https://localhost:8080/",
          "height": 390
        },
        "outputId": "24aa8f72-cbcb-4c0d-8b47-98dc7146da23"
      },
      "outputs": [
        {
          "output_type": "display_data",
          "data": {
            "text/plain": [
              "<Figure size 432x288 with 1 Axes>"
            ],
            "image/png": "[encoded data removed]"
          },
          "metadata": {
            "needs_background": "light"
          }
        }
      ],
      "source": [
        "#This plot tells the number of HDD failed in each days\n",
        "ax = Test.groupby(['date', 'failure'])['failure'].count().unstack(1)[1].plot.bar()\n",
        "for p in ax.patches:\n",
        "        ax.annotate('({})'.format(p.get_height()), (p.get_x()+0.1, p.get_height()+0.1))\n",
        "plt.legend()\n",
        "plt.title(\"Number of HDD falied in each Day's\")\n",
        "plt.show()"
      ]
    },
    {
      "cell_type": "code",
      "execution_count": 17,
      "metadata": {
        "id": "z2T1WSOPA8yU",
        "colab": {
          "base_uri": "https://localhost:8080/"
        },
        "outputId": "95fcde86-4f14-4faa-aa2a-e29f6ac32728"
      },
      "outputs": [
        {
          "output_type": "stream",
          "name": "stdout",
          "text": [
            "Number of Unique Models:  59\n",
            "Index(['ST12000NM0007', 'TOSHIBA MG07ACA14TA', 'ST12000NM0008', 'ST4000DM000',\n",
            "       'ST8000NM0055', 'HGST HMS5C4040BLE640', 'HGST HUH721212ALN604',\n",
            "       'ST8000DM002', 'ST12000NM001G', 'ST14000NM001G', 'WDC WUH721414ALE6L4',\n",
            "       'HGST HMS5C4040ALE640', 'HGST HUH721212ALE600', 'HGST HUH721212ALE604',\n",
            "       'ST10000NM0086', 'HGST HUH728080ALE600', 'TOSHIBA MG08ACA16TEY',\n",
            "       'ST6000DX000', 'Seagate BarraCuda SSD ZA250CM10002', 'ST500LM012 HN',\n",
            "       'Seagate BarraCuda 120 SSD ZA250CM10003', 'TOSHIBA MQ01ABF050M',\n",
            "       'ST14000NM0138', 'TOSHIBA MQ01ABF050', 'ST500LM030', 'WDC WD5000LPVX',\n",
            "       'TOSHIBA MG07ACA14TEY', 'DELLBOSS VD', 'Seagate SSD',\n",
            "       'TOSHIBA MD04ABA400V', 'WDC  WUH721414ALE6L4', 'ST18000NM000J',\n",
            "       'ST16000NM001G', 'WDC WD5000LPCX', 'TOSHIBA MG08ACA16TA', 'ST4000DM005',\n",
            "       'MTFDDAV240TCB', 'ST500LM021', 'HGST HUS726040ALE610', 'ST16000NM005G',\n",
            "       'ST8000DM005', 'HGST HDS5C4040ALE630', 'HGST HUH721010ALE600',\n",
            "       'Seagate BarraCuda SSD ZA500CM10002', 'TOSHIBA HDWF180',\n",
            "       'ST12000NM0117', 'WDC WD5000BPKT', 'ST14000NM0018', 'TOSHIBA HDWE160',\n",
            "       'Seagate BarraCuda SSD ZA2000CM10002', 'SSDSCKKB480G8R', 'ST6000DM001',\n",
            "       'WDC WD60EFRX', 'Hitachi HDS5C4040ALE630', 'MTFDDAV240TDU',\n",
            "       'HGST HMS5C4040BLE641', 'ST1000LM024 HN', 'ST6000DM004', 'ST8000DM004'],\n",
            "      dtype='object')\n"
          ]
        }
      ],
      "source": [
        "models = Test.model.value_counts().index\n",
        "print(\"Number of Unique Models: \", len(models))\n",
        "print(models)"
      ]
    },
    {
      "cell_type": "code",
      "execution_count": 18,
      "metadata": {
        "id": "xbPG_Nw_nbge",
        "colab": {
          "base_uri": "https://localhost:8080/"
        },
        "outputId": "0c8d9408-0423-48ab-9c49-5f4124e2d564"
      },
      "outputs": [
        {
          "output_type": "stream",
          "name": "stdout",
          "text": [
            "ST12000NM0007 failure_rate is 0.00347 %\n",
            "TOSHIBA MG07ACA14TA failure_rate is 0.00095 %\n",
            "ST12000NM0008 failure_rate is 0.00622 %\n",
            "ST4000DM000 failure_rate is 0.00423 %\n",
            "ST8000NM0055 failure_rate is 0 %\n",
            "HGST HMS5C4040BLE640 failure_rate is 0.00157 %\n",
            "HGST HUH721212ALN604 failure_rate is 0 %\n",
            "ST8000DM002 failure_rate is 0 %\n",
            "ST12000NM001G failure_rate is 0.00561 %\n",
            "ST14000NM001G failure_rate is 0 %\n",
            "WDC WUH721414ALE6L4 failure_rate is 0 %\n",
            "HGST HMS5C4040ALE640 failure_rate is 0 %\n",
            "HGST HUH721212ALE600 failure_rate is 0 %\n",
            "HGST HUH721212ALE604 failure_rate is 0 %\n",
            "ST10000NM0086 failure_rate is 0.03331 %\n",
            "HGST HUH728080ALE600 failure_rate is 0 %\n",
            "TOSHIBA MG08ACA16TEY failure_rate is 0 %\n",
            "ST6000DX000 failure_rate is 0 %\n",
            "Seagate BarraCuda SSD ZA250CM10002 failure_rate is 0 %\n",
            "ST500LM012 HN failure_rate is 0 %\n",
            "Seagate BarraCuda 120 SSD ZA250CM10003 failure_rate is 0.04924 %\n",
            "TOSHIBA MQ01ABF050M failure_rate is 0 %\n",
            "ST14000NM0138 failure_rate is 0 %\n",
            "TOSHIBA MQ01ABF050 failure_rate is 0.17007 %\n",
            "ST500LM030 failure_rate is 0 %\n",
            "WDC WD5000LPVX failure_rate is 0 %\n",
            "TOSHIBA MG07ACA14TEY failure_rate is 0 %\n",
            "DELLBOSS VD failure_rate is 0 %\n",
            "Seagate SSD failure_rate is 0 %\n",
            "TOSHIBA MD04ABA400V failure_rate is 0 %\n",
            "WDC  WUH721414ALE6L4 failure_rate is 0 %\n",
            "ST18000NM000J failure_rate is 0 %\n",
            "ST16000NM001G failure_rate is 0 %\n",
            "WDC WD5000LPCX failure_rate is 0 %\n",
            "TOSHIBA MG08ACA16TA failure_rate is 0 %\n",
            "ST4000DM005 failure_rate is 0 %\n",
            "MTFDDAV240TCB failure_rate is 0 %\n",
            "ST500LM021 failure_rate is 0 %\n",
            "HGST HUS726040ALE610 failure_rate is 0 %\n",
            "ST16000NM005G failure_rate is 0 %\n",
            "ST8000DM005 failure_rate is 0 %\n",
            "HGST HDS5C4040ALE630 failure_rate is 0 %\n",
            "HGST HUH721010ALE600 failure_rate is 0 %\n",
            "Seagate BarraCuda SSD ZA500CM10002 failure_rate is 0 %\n",
            "TOSHIBA HDWF180 failure_rate is 0 %\n",
            "ST12000NM0117 failure_rate is 0 %\n",
            "WDC WD5000BPKT failure_rate is 0 %\n",
            "ST14000NM0018 failure_rate is 0 %\n",
            "TOSHIBA HDWE160 failure_rate is 0 %\n",
            "Seagate BarraCuda SSD ZA2000CM10002 failure_rate is 0 %\n",
            "SSDSCKKB480G8R failure_rate is 0 %\n",
            "ST6000DM001 failure_rate is 0 %\n",
            "WDC WD60EFRX failure_rate is 0 %\n",
            "Hitachi HDS5C4040ALE630 failure_rate is 0 %\n",
            "MTFDDAV240TDU failure_rate is 0 %\n",
            "HGST HMS5C4040BLE641 failure_rate is 0 %\n",
            "ST1000LM024 HN failure_rate is 0 %\n",
            "ST6000DM004 failure_rate is 0 %\n",
            "ST8000DM004 failure_rate is 0 %\n"
          ]
        }
      ],
      "source": [
        "# Finding the failure rate of every model in 7 days.\n",
        "for i in models:\n",
        "  try:\n",
        "    c = Test[Test.model == i].failure.value_counts()[1] / len(Test[Test.model == i]) * 100\n",
        "    print(i, 'failure_rate is {:.5f} %'.format(c))\n",
        "  except KeyError:\n",
        "    print(i, 'failure_rate is 0 %')"
      ]
    },
    {
      "cell_type": "markdown",
      "metadata": {
        "id": "SnqlZkpJr19K"
      },
      "source": [
        "From the above it is found that only five models have failed in these 7 days."
      ]
    },
    {
      "cell_type": "code",
      "execution_count": 19,
      "metadata": {
        "id": "__PgAGjT_HLA",
        "colab": {
          "base_uri": "https://localhost:8080/",
          "height": 404
        },
        "outputId": "81a92b6f-4f4b-49ee-8557-f61848ac8f94"
      },
      "outputs": [
        {
          "output_type": "stream",
          "name": "stdout",
          "text": [
            "Warning: Total number of columns (123) exceeds max_columns (20). Falling back to pandas display.\n"
          ]
        },
        {
          "output_type": "execute_result",
          "data": {
            "text/plain": [
              "        date serial_number          model  capacity_bytes  failure  \\\n",
              "0 2021-01-01      ZLW0EGC6  ST12000NM001G  12000138625024        0   \n",
              "1 2021-01-01      Z305B2QN    ST4000DM000   4000787030016        0   \n",
              "2 2021-01-01      ZLW0C6NE  ST12000NM001G  12000138625024        0   \n",
              "3 2021-01-01      ZJV0XJQ3  ST12000NM0007  12000138625024        0   \n",
              "4 2021-01-01      ZLW18MKT  ST14000NM001G  14000519643136        0   \n",
              "\n",
              "   smart_1_normalized  smart_1_raw  smart_2_normalized  smart_2_raw  \\\n",
              "0                83.0  213166608.0                 NaN          NaN   \n",
              "1               114.0   79306032.0                 NaN          NaN   \n",
              "2                72.0   17162816.0                 NaN          NaN   \n",
              "3               100.0    1102160.0                 NaN          NaN   \n",
              "4                75.0   33233248.0                 NaN          NaN   \n",
              "\n",
              "   smart_3_normalized  ...  smart_242_normalized  smart_242_raw  \\\n",
              "0                99.0  ...                 100.0   7.022831e+10   \n",
              "1                91.0  ...                 100.0   5.457889e+11   \n",
              "2                98.0  ...                 100.0   8.706921e+10   \n",
              "3                98.0  ...                 100.0   1.295292e+11   \n",
              "4                95.0  ...                 100.0   1.872005e+10   \n",
              "\n",
              "   smart_245_normalized  smart_245_raw  smart_247_normalized  smart_247_raw  \\\n",
              "0                   NaN            NaN                   NaN            NaN   \n",
              "1                   NaN            NaN                   NaN            NaN   \n",
              "2                   NaN            NaN                   NaN            NaN   \n",
              "3                   NaN            NaN                   NaN            NaN   \n",
              "4                   NaN            NaN                   NaN            NaN   \n",
              "\n",
              "   smart_248_normalized  smart_248_raw  smart_254_normalized  smart_254_raw  \n",
              "0                   NaN            NaN                   NaN            NaN  \n",
              "1                   NaN            NaN                   NaN            NaN  \n",
              "2                   NaN            NaN                   NaN            NaN  \n",
              "3                   NaN            NaN                   NaN            NaN  \n",
              "4                   NaN            NaN                   NaN            NaN  \n",
              "\n",
              "[5 rows x 123 columns]"
            ],
            "text/html": [
              "\n",
              "  <div id=\"df-7deb71c0-34b5-4264-be74-d2d9ea257d84\">\n",
              "    <div class=\"colab-df-container\">\n",
              "      <div>\n",
              "<style scoped>\n",
              "    .dataframe tbody tr th:only-of-type {\n",
              "        vertical-align: middle;\n",
              "    }\n",
              "\n",
              "    .dataframe tbody tr th {\n",
              "        vertical-align: top;\n",
              "    }\n",
              "\n",
              "    .dataframe thead th {\n",
              "        text-align: right;\n",
              "    }\n",
              "</style>\n",
              "<table border=\"1\" class=\"dataframe\">\n",
              "  <thead>\n",
              "    <tr style=\"text-align: right;\">\n",
              "      <th></th>\n",
              "      <th>date</th>\n",
              "      <th>serial_number</th>\n",
              "      <th>model</th>\n",
              "      <th>capacity_bytes</th>\n",
              "      <th>failure</th>\n",
              "      <th>smart_1_normalized</th>\n",
              "      <th>smart_1_raw</th>\n",
              "      <th>smart_2_normalized</th>\n",
              "      <th>smart_2_raw</th>\n",
              "      <th>smart_3_normalized</th>\n",
              "      <th>...</th>\n",
              "      <th>smart_242_normalized</th>\n",
              "      <th>smart_242_raw</th>\n",
              "      <th>smart_245_normalized</th>\n",
              "      <th>smart_245_raw</th>\n",
              "      <th>smart_247_normalized</th>\n",
              "      <th>smart_247_raw</th>\n",
              "      <th>smart_248_normalized</th>\n",
              "      <th>smart_248_raw</th>\n",
              "      <th>smart_254_normalized</th>\n",
              "      <th>smart_254_raw</th>\n",
              "    </tr>\n",
              "  </thead>\n",
              "  <tbody>\n",
              "    <tr>\n",
              "      <th>0</th>\n",
              "      <td>2021-01-01</td>\n",
              "      <td>ZLW0EGC6</td>\n",
              "      <td>ST12000NM001G</td>\n",
              "      <td>12000138625024</td>\n",
              "      <td>0</td>\n",
              "      <td>83.0</td>\n",
              "      <td>213166608.0</td>\n",
              "      <td>NaN</td>\n",
              "      <td>NaN</td>\n",
              "      <td>99.0</td>\n",
              "      <td>...</td>\n",
              "      <td>100.0</td>\n",
              "      <td>7.022831e+10</td>\n",
              "      <td>NaN</td>\n",
              "      <td>NaN</td>\n",
              "      <td>NaN</td>\n",
              "      <td>NaN</td>\n",
              "      <td>NaN</td>\n",
              "      <td>NaN</td>\n",
              "      <td>NaN</td>\n",
              "      <td>NaN</td>\n",
              "    </tr>\n",
              "    <tr>\n",
              "      <th>1</th>\n",
              "      <td>2021-01-01</td>\n",
              "      <td>Z305B2QN</td>\n",
              "      <td>ST4000DM000</td>\n",
              "      <td>4000787030016</td>\n",
              "      <td>0</td>\n",
              "      <td>114.0</td>\n",
              "      <td>79306032.0</td>\n",
              "      <td>NaN</td>\n",
              "      <td>NaN</td>\n",
              "      <td>91.0</td>\n",
              "      <td>...</td>\n",
              "      <td>100.0</td>\n",
              "      <td>5.457889e+11</td>\n",
              "      <td>NaN</td>\n",
              "      <td>NaN</td>\n",
              "      <td>NaN</td>\n",
              "      <td>NaN</td>\n",
              "      <td>NaN</td>\n",
              "      <td>NaN</td>\n",
              "      <td>NaN</td>\n",
              "      <td>NaN</td>\n",
              "    </tr>\n",
              "    <tr>\n",
              "      <th>2</th>\n",
              "      <td>2021-01-01</td>\n",
              "      <td>ZLW0C6NE</td>\n",
              "      <td>ST12000NM001G</td>\n",
              "      <td>12000138625024</td>\n",
              "      <td>0</td>\n",
              "      <td>72.0</td>\n",
              "      <td>17162816.0</td>\n",
              "      <td>NaN</td>\n",
              "      <td>NaN</td>\n",
              "      <td>98.0</td>\n",
              "      <td>...</td>\n",
              "      <td>100.0</td>\n",
              "      <td>8.706921e+10</td>\n",
              "      <td>NaN</td>\n",
              "      <td>NaN</td>\n",
              "      <td>NaN</td>\n",
              "      <td>NaN</td>\n",
              "      <td>NaN</td>\n",
              "      <td>NaN</td>\n",
              "      <td>NaN</td>\n",
              "      <td>NaN</td>\n",
              "    </tr>\n",
              "    <tr>\n",
              "      <th>3</th>\n",
              "      <td>2021-01-01</td>\n",
              "      <td>ZJV0XJQ3</td>\n",
              "      <td>ST12000NM0007</td>\n",
              "      <td>12000138625024</td>\n",
              "      <td>0</td>\n",
              "      <td>100.0</td>\n",
              "      <td>1102160.0</td>\n",
              "      <td>NaN</td>\n",
              "      <td>NaN</td>\n",
              "      <td>98.0</td>\n",
              "      <td>...</td>\n",
              "      <td>100.0</td>\n",
              "      <td>1.295292e+11</td>\n",
              "      <td>NaN</td>\n",
              "      <td>NaN</td>\n",
              "      <td>NaN</td>\n",
              "      <td>NaN</td>\n",
              "      <td>NaN</td>\n",
              "      <td>NaN</td>\n",
              "      <td>NaN</td>\n",
              "      <td>NaN</td>\n",
              "    </tr>\n",
              "    <tr>\n",
              "      <th>4</th>\n",
              "      <td>2021-01-01</td>\n",
              "      <td>ZLW18MKT</td>\n",
              "      <td>ST14000NM001G</td>\n",
              "      <td>14000519643136</td>\n",
              "      <td>0</td>\n",
              "      <td>75.0</td>\n",
              "      <td>33233248.0</td>\n",
              "      <td>NaN</td>\n",
              "      <td>NaN</td>\n",
              "      <td>95.0</td>\n",
              "      <td>...</td>\n",
              "      <td>100.0</td>\n",
              "      <td>1.872005e+10</td>\n",
              "      <td>NaN</td>\n",
              "      <td>NaN</td>\n",
              "      <td>NaN</td>\n",
              "      <td>NaN</td>\n",
              "      <td>NaN</td>\n",
              "      <td>NaN</td>\n",
              "      <td>NaN</td>\n",
              "      <td>NaN</td>\n",
              "    </tr>\n",
              "  </tbody>\n",
              "</table>\n",
              "<p>5 rows × 123 columns</p>\n",
              "</div>\n",
              "      <button class=\"colab-df-convert\" onclick=\"convertToInteractive('df-7deb71c0-34b5-4264-be74-d2d9ea257d84')\"\n",
              "              title=\"Convert this dataframe to an interactive table.\"\n",
              "              style=\"display:none;\">\n",
              "        \n",
              "  <svg xmlns=\"http://www.w3.org/2000/svg\" height=\"24px\"viewBox=\"0 0 24 24\"\n",
              "       width=\"24px\">\n",
              "    <path d=\"M0 0h24v24H0V0z\" fill=\"none\"/>\n",
              "    <path d=\"M18.56 5.44l.94 2.06.94-2.06 2.06-.94-2.06-.94-.94-2.06-.94 2.06-2.06.94zm-11 1L8.5 8.5l.94-2.06 2.06-.94-2.06-.94L8.5 2.5l-.94 2.06-2.06.94zm10 10l.94 2.06.94-2.06 2.06-.94-2.06-.94-.94-2.06-.94 2.06-2.06.94z\"/><path d=\"M17.41 7.96l-1.37-1.37c-.4-.4-.92-.59-1.43-.59-.52 0-1.04.2-1.43.59L10.3 9.45l-7.72 7.72c-.78.78-.78 2.05 0 2.83L4 21.41c.39.39.9.59 1.41.59.51 0 1.02-.2 1.41-.59l7.78-7.78 2.81-2.81c.8-.78.8-2.07 0-2.86zM5.41 20L4 18.59l7.72-7.72 1.47 1.35L5.41 20z\"/>\n",
              "  </svg>\n",
              "      </button>\n",
              "      \n",
              "  <style>\n",
              "    .colab-df-container {\n",
              "      display:flex;\n",
              "      flex-wrap:wrap;\n",
              "      gap: 12px;\n",
              "    }\n",
              "\n",
              "    .colab-df-convert {\n",
              "      background-color: #E8F0FE;\n",
              "      border: none;\n",
              "      border-radius: 50%;\n",
              "      cursor: pointer;\n",
              "      display: none;\n",
              "      fill: #1967D2;\n",
              "      height: 32px;\n",
              "      padding: 0 0 0 0;\n",
              "      width: 32px;\n",
              "    }\n",
              "\n",
              "    .colab-df-convert:hover {\n",
              "      background-color: #E2EBFA;\n",
              "      box-shadow: 0px 1px 2px rgba(60, 64, 67, 0.3), 0px 1px 3px 1px rgba(60, 64, 67, 0.15);\n",
              "      fill: #174EA6;\n",
              "    }\n",
              "\n",
              "    [theme=dark] .colab-df-convert {\n",
              "      background-color: #3B4455;\n",
              "      fill: #D2E3FC;\n",
              "    }\n",
              "\n",
              "    [theme=dark] .colab-df-convert:hover {\n",
              "      background-color: #434B5C;\n",
              "      box-shadow: 0px 1px 3px 1px rgba(0, 0, 0, 0.15);\n",
              "      filter: drop-shadow(0px 1px 2px rgba(0, 0, 0, 0.3));\n",
              "      fill: #FFFFFF;\n",
              "    }\n",
              "  </style>\n",
              "\n",
              "      <script>\n",
              "        const buttonEl =\n",
              "          document.querySelector('#df-7deb71c0-34b5-4264-be74-d2d9ea257d84 button.colab-df-convert');\n",
              "        buttonEl.style.display =\n",
              "          google.colab.kernel.accessAllowed ? 'block' : 'none';\n",
              "\n",
              "        async function convertToInteractive(key) {\n",
              "          const element = document.querySelector('#df-7deb71c0-34b5-4264-be74-d2d9ea257d84');\n",
              "          const dataTable =\n",
              "            await google.colab.kernel.invokeFunction('convertToInteractive',\n",
              "                                                     [key], {});\n",
              "          if (!dataTable) return;\n",
              "\n",
              "          const docLinkHtml = 'Like what you see? Visit the ' +\n",
              "            '<a target=\"_blank\" href=https://colab.research.google.com/notebooks/data_table.ipynb>data table notebook</a>'\n",
              "            + ' to learn more about interactive tables.';\n",
              "          element.innerHTML = '';\n",
              "          dataTable['output_type'] = 'display_data';\n",
              "          await google.colab.output.renderOutput(dataTable, element);\n",
              "          const docLink = document.createElement('div');\n",
              "          docLink.innerHTML = docLinkHtml;\n",
              "          element.appendChild(docLink);\n",
              "        }\n",
              "      </script>\n",
              "    </div>\n",
              "  </div>\n",
              "  "
            ]
          },
          "metadata": {},
          "execution_count": 19
        }
      ],
      "source": [
        "Test.head()"
      ]
    },
    {
      "cell_type": "code",
      "execution_count": 20,
      "metadata": {
        "id": "qIrnuvjuZac5",
        "colab": {
          "base_uri": "https://localhost:8080/"
        },
        "outputId": "a1547a98-891a-4d6f-d17c-5527f9b7678d"
      },
      "outputs": [
        {
          "output_type": "stream",
          "name": "stdout",
          "text": [
            "date                    0.000000\n",
            "serial_number           0.000000\n",
            "model                   0.000000\n",
            "capacity_bytes          0.000000\n",
            "failure                 0.000000\n",
            "                          ...   \n",
            "smart_247_raw           0.999988\n",
            "smart_248_normalized    0.999988\n",
            "smart_248_raw           0.999988\n",
            "smart_254_normalized    0.998284\n",
            "smart_254_raw           0.998284\n",
            "Length: 123, dtype: float64\n"
          ]
        },
        {
          "output_type": "execute_result",
          "data": {
            "text/plain": [
              "90"
            ]
          },
          "metadata": {},
          "execution_count": 20
        }
      ],
      "source": [
        "# Finding the features which has NaN percentage greater than 50%\n",
        "M_features = Test.columns\n",
        "print(Test.isnull().sum(axis = 0) / len(Test))\n",
        "index = np.where(Test.isnull().sum(axis = 0) / len(Test) >= 0.5)[0]\n",
        "len(index) # Count of the found features."
      ]
    },
    {
      "cell_type": "code",
      "execution_count": 21,
      "metadata": {
        "id": "MoHqoQayZrVe",
        "colab": {
          "base_uri": "https://localhost:8080/"
        },
        "outputId": "3980918b-eba6-45d2-bed6-6c0baaa4a8bb"
      },
      "outputs": [
        {
          "output_type": "execute_result",
          "data": {
            "text/plain": [
              "Index(['smart_2_normalized', 'smart_2_raw', 'smart_8_normalized',\n",
              "       'smart_8_raw', 'smart_11_normalized', 'smart_11_raw',\n",
              "       'smart_13_normalized', 'smart_13_raw', 'smart_16_normalized',\n",
              "       'smart_16_raw', 'smart_17_normalized', 'smart_17_raw',\n",
              "       'smart_18_normalized', 'smart_18_raw', 'smart_22_normalized',\n",
              "       'smart_22_raw', 'smart_23_normalized', 'smart_23_raw',\n",
              "       'smart_24_normalized', 'smart_24_raw', 'smart_168_normalized',\n",
              "       'smart_168_raw', 'smart_170_normalized', 'smart_170_raw',\n",
              "       'smart_173_normalized', 'smart_173_raw', 'smart_174_normalized',\n",
              "       'smart_174_raw', 'smart_175_normalized', 'smart_175_raw',\n",
              "       'smart_177_normalized', 'smart_177_raw', 'smart_179_normalized',\n",
              "       'smart_179_raw', 'smart_180_normalized', 'smart_180_raw',\n",
              "       'smart_181_normalized', 'smart_181_raw', 'smart_182_normalized',\n",
              "       'smart_182_raw', 'smart_183_normalized', 'smart_183_raw',\n",
              "       'smart_189_normalized', 'smart_189_raw', 'smart_191_normalized',\n",
              "       'smart_191_raw', 'smart_195_normalized', 'smart_195_raw',\n",
              "       'smart_200_normalized', 'smart_200_raw', 'smart_201_normalized',\n",
              "       'smart_201_raw', 'smart_202_normalized', 'smart_202_raw',\n",
              "       'smart_206_normalized', 'smart_206_raw', 'smart_210_normalized',\n",
              "       'smart_210_raw', 'smart_218_normalized', 'smart_218_raw',\n",
              "       'smart_220_normalized', 'smart_220_raw', 'smart_222_normalized',\n",
              "       'smart_222_raw', 'smart_223_normalized', 'smart_223_raw',\n",
              "       'smart_224_normalized', 'smart_224_raw', 'smart_225_normalized',\n",
              "       'smart_225_raw', 'smart_226_normalized', 'smart_226_raw',\n",
              "       'smart_231_normalized', 'smart_231_raw', 'smart_232_normalized',\n",
              "       'smart_232_raw', 'smart_233_normalized', 'smart_233_raw',\n",
              "       'smart_234_normalized', 'smart_234_raw', 'smart_235_normalized',\n",
              "       'smart_235_raw', 'smart_245_normalized', 'smart_245_raw',\n",
              "       'smart_247_normalized', 'smart_247_raw', 'smart_248_normalized',\n",
              "       'smart_248_raw', 'smart_254_normalized', 'smart_254_raw'],\n",
              "      dtype='object')"
            ]
          },
          "metadata": {},
          "execution_count": 21
        }
      ],
      "source": [
        "M_features[index]"
      ]
    },
    {
      "cell_type": "markdown",
      "metadata": {
        "id": "WXU7S9oQRTRY"
      },
      "source": [
        "##### These are the attributes which have more than 50% of NaN."
      ]
    },
    {
      "cell_type": "markdown",
      "metadata": {
        "id": "3xksfbafvM4j"
      },
      "source": [
        "# 3. Relevant Features for Dataset"
      ]
    },
    {
      "cell_type": "code",
      "execution_count": 22,
      "metadata": {
        "id": "kv6Ej__mDw9Y"
      },
      "outputs": [],
      "source": [
        "f = ['date',\t'serial_number',\t'model',\t'capacity_bytes',\t'failure']"
      ]
    },
    {
      "cell_type": "code",
      "execution_count": 23,
      "metadata": {
        "id": "ceWtz821xuBE",
        "colab": {
          "base_uri": "https://localhost:8080/"
        },
        "outputId": "4cb6f634-208d-454d-f115-ff1e77b49102"
      },
      "outputs": [
        {
          "output_type": "execute_result",
          "data": {
            "text/plain": [
              "10"
            ]
          },
          "metadata": {},
          "execution_count": 23
        }
      ],
      "source": [
        "Null = np.where(Data.isnull().sum(axis = 0) == len(Data))[0]\n",
        "len(Initial[Null])"
      ]
    },
    {
      "cell_type": "code",
      "execution_count": 24,
      "metadata": {
        "id": "gX70BgpLXmSr",
        "colab": {
          "base_uri": "https://localhost:8080/"
        },
        "outputId": "e26b0564-97b6-42f4-ed3a-ee804ef491e7"
      },
      "outputs": [
        {
          "output_type": "stream",
          "name": "stdout",
          "text": [
            "(827509, 139)\n"
          ]
        }
      ],
      "source": [
        "# Dropping the features with all instances as NaN from the original Dataset.\n",
        "Data.dropna(how = 'all', axis = 1, inplace = True) \n",
        "print(Data.shape)\n",
        "del Test # Removing the Test Dataframe to free the memory."
      ]
    },
    {
      "cell_type": "code",
      "execution_count": 25,
      "metadata": {
        "id": "yHgE7Y6cZ7yY",
        "colab": {
          "base_uri": "https://localhost:8080/"
        },
        "outputId": "42cf9922-4d74-471f-c3cc-23007ea929c8"
      },
      "outputs": [
        {
          "output_type": "execute_result",
          "data": {
            "text/plain": [
              "(827509, 49)"
            ]
          },
          "metadata": {},
          "execution_count": 25
        }
      ],
      "source": [
        "# Dropping the uncommon features found from above task from the original Dataset.\n",
        "Data.drop(M_features[index], axis = 1, inplace = True)\n",
        "Data.shape # Final shape of Data with relevant SMART attributes."
      ]
    },
    {
      "cell_type": "code",
      "execution_count": 26,
      "metadata": {
        "id": "MODn4jrYXmku",
        "colab": {
          "base_uri": "https://localhost:8080/",
          "height": 404
        },
        "outputId": "2d624265-ebe5-4536-eedc-31fd4efc68e1"
      },
      "outputs": [
        {
          "output_type": "stream",
          "name": "stdout",
          "text": [
            "Warning: Total number of columns (49) exceeds max_columns (20). Falling back to pandas display.\n"
          ]
        },
        {
          "output_type": "execute_result",
          "data": {
            "text/plain": [
              "        date serial_number          model  capacity_bytes  failure  \\\n",
              "0 2021-01-01      ZLW0EGC6  ST12000NM001G  12000138625024        0   \n",
              "1 2021-01-01      Z305B2QN    ST4000DM000   4000787030016        0   \n",
              "2 2021-01-01      ZLW0C6NE  ST12000NM001G  12000138625024        0   \n",
              "3 2021-01-01      ZJV0XJQ3  ST12000NM0007  12000138625024        0   \n",
              "4 2021-01-01      ZLW18MKT  ST14000NM001G  14000519643136        0   \n",
              "\n",
              "   smart_1_normalized  smart_1_raw  smart_3_normalized  smart_3_raw  \\\n",
              "0                83.0  213166608.0                99.0          0.0   \n",
              "1               114.0   79306032.0                91.0          0.0   \n",
              "2                72.0   17162816.0                98.0          0.0   \n",
              "3               100.0    1102160.0                98.0          0.0   \n",
              "4                75.0   33233248.0                95.0          0.0   \n",
              "\n",
              "   smart_4_normalized  ...  smart_198_normalized  smart_198_raw  \\\n",
              "0               100.0  ...                 100.0            0.0   \n",
              "1               100.0  ...                 100.0            0.0   \n",
              "2               100.0  ...                 100.0            0.0   \n",
              "3               100.0  ...                 100.0            0.0   \n",
              "4               100.0  ...                 100.0            0.0   \n",
              "\n",
              "   smart_199_normalized  smart_199_raw  smart_240_normalized  smart_240_raw  \\\n",
              "0                 200.0            0.0                 100.0         4910.0   \n",
              "1                 200.0            0.0                 100.0        44001.0   \n",
              "2                 200.0            0.0                 100.0         5414.0   \n",
              "3                 200.0            0.0                 100.0        17282.0   \n",
              "4                 200.0            0.0                 100.0          745.0   \n",
              "\n",
              "   smart_241_normalized  smart_241_raw  smart_242_normalized  smart_242_raw  \n",
              "0                 100.0   4.839342e+10                 100.0   7.022831e+10  \n",
              "1                 100.0   5.940338e+10                 100.0   5.457889e+11  \n",
              "2                 100.0   4.917863e+10                 100.0   8.706921e+10  \n",
              "3                 100.0   5.260102e+10                 100.0   1.295292e+11  \n",
              "4                 100.0   1.647225e+10                 100.0   1.872005e+10  \n",
              "\n",
              "[5 rows x 49 columns]"
            ],
            "text/html": [
              "\n",
              "  <div id=\"df-37b9e30c-34da-4bfd-a237-f702015e1dab\">\n",
              "    <div class=\"colab-df-container\">\n",
              "      <div>\n",
              "<style scoped>\n",
              "    .dataframe tbody tr th:only-of-type {\n",
              "        vertical-align: middle;\n",
              "    }\n",
              "\n",
              "    .dataframe tbody tr th {\n",
              "        vertical-align: top;\n",
              "    }\n",
              "\n",
              "    .dataframe thead th {\n",
              "        text-align: right;\n",
              "    }\n",
              "</style>\n",
              "<table border=\"1\" class=\"dataframe\">\n",
              "  <thead>\n",
              "    <tr style=\"text-align: right;\">\n",
              "      <th></th>\n",
              "      <th>date</th>\n",
              "      <th>serial_number</th>\n",
              "      <th>model</th>\n",
              "      <th>capacity_bytes</th>\n",
              "      <th>failure</th>\n",
              "      <th>smart_1_normalized</th>\n",
              "      <th>smart_1_raw</th>\n",
              "      <th>smart_3_normalized</th>\n",
              "      <th>smart_3_raw</th>\n",
              "      <th>smart_4_normalized</th>\n",
              "      <th>...</th>\n",
              "      <th>smart_198_normalized</th>\n",
              "      <th>smart_198_raw</th>\n",
              "      <th>smart_199_normalized</th>\n",
              "      <th>smart_199_raw</th>\n",
              "      <th>smart_240_normalized</th>\n",
              "      <th>smart_240_raw</th>\n",
              "      <th>smart_241_normalized</th>\n",
              "      <th>smart_241_raw</th>\n",
              "      <th>smart_242_normalized</th>\n",
              "      <th>smart_242_raw</th>\n",
              "    </tr>\n",
              "  </thead>\n",
              "  <tbody>\n",
              "    <tr>\n",
              "      <th>0</th>\n",
              "      <td>2021-01-01</td>\n",
              "      <td>ZLW0EGC6</td>\n",
              "      <td>ST12000NM001G</td>\n",
              "      <td>12000138625024</td>\n",
              "      <td>0</td>\n",
              "      <td>83.0</td>\n",
              "      <td>213166608.0</td>\n",
              "      <td>99.0</td>\n",
              "      <td>0.0</td>\n",
              "      <td>100.0</td>\n",
              "      <td>...</td>\n",
              "      <td>100.0</td>\n",
              "      <td>0.0</td>\n",
              "      <td>200.0</td>\n",
              "      <td>0.0</td>\n",
              "      <td>100.0</td>\n",
              "      <td>4910.0</td>\n",
              "      <td>100.0</td>\n",
              "      <td>4.839342e+10</td>\n",
              "      <td>100.0</td>\n",
              "      <td>7.022831e+10</td>\n",
              "    </tr>\n",
              "    <tr>\n",
              "      <th>1</th>\n",
              "      <td>2021-01-01</td>\n",
              "      <td>Z305B2QN</td>\n",
              "      <td>ST4000DM000</td>\n",
              "      <td>4000787030016</td>\n",
              "      <td>0</td>\n",
              "      <td>114.0</td>\n",
              "      <td>79306032.0</td>\n",
              "      <td>91.0</td>\n",
              "      <td>0.0</td>\n",
              "      <td>100.0</td>\n",
              "      <td>...</td>\n",
              "      <td>100.0</td>\n",
              "      <td>0.0</td>\n",
              "      <td>200.0</td>\n",
              "      <td>0.0</td>\n",
              "      <td>100.0</td>\n",
              "      <td>44001.0</td>\n",
              "      <td>100.0</td>\n",
              "      <td>5.940338e+10</td>\n",
              "      <td>100.0</td>\n",
              "      <td>5.457889e+11</td>\n",
              "    </tr>\n",
              "    <tr>\n",
              "      <th>2</th>\n",
              "      <td>2021-01-01</td>\n",
              "      <td>ZLW0C6NE</td>\n",
              "      <td>ST12000NM001G</td>\n",
              "      <td>12000138625024</td>\n",
              "      <td>0</td>\n",
              "      <td>72.0</td>\n",
              "      <td>17162816.0</td>\n",
              "      <td>98.0</td>\n",
              "      <td>0.0</td>\n",
              "      <td>100.0</td>\n",
              "      <td>...</td>\n",
              "      <td>100.0</td>\n",
              "      <td>0.0</td>\n",
              "      <td>200.0</td>\n",
              "      <td>0.0</td>\n",
              "      <td>100.0</td>\n",
              "      <td>5414.0</td>\n",
              "      <td>100.0</td>\n",
              "      <td>4.917863e+10</td>\n",
              "      <td>100.0</td>\n",
              "      <td>8.706921e+10</td>\n",
              "    </tr>\n",
              "    <tr>\n",
              "      <th>3</th>\n",
              "      <td>2021-01-01</td>\n",
              "      <td>ZJV0XJQ3</td>\n",
              "      <td>ST12000NM0007</td>\n",
              "      <td>12000138625024</td>\n",
              "      <td>0</td>\n",
              "      <td>100.0</td>\n",
              "      <td>1102160.0</td>\n",
              "      <td>98.0</td>\n",
              "      <td>0.0</td>\n",
              "      <td>100.0</td>\n",
              "      <td>...</td>\n",
              "      <td>100.0</td>\n",
              "      <td>0.0</td>\n",
              "      <td>200.0</td>\n",
              "      <td>0.0</td>\n",
              "      <td>100.0</td>\n",
              "      <td>17282.0</td>\n",
              "      <td>100.0</td>\n",
              "      <td>5.260102e+10</td>\n",
              "      <td>100.0</td>\n",
              "      <td>1.295292e+11</td>\n",
              "    </tr>\n",
              "    <tr>\n",
              "      <th>4</th>\n",
              "      <td>2021-01-01</td>\n",
              "      <td>ZLW18MKT</td>\n",
              "      <td>ST14000NM001G</td>\n",
              "      <td>14000519643136</td>\n",
              "      <td>0</td>\n",
              "      <td>75.0</td>\n",
              "      <td>33233248.0</td>\n",
              "      <td>95.0</td>\n",
              "      <td>0.0</td>\n",
              "      <td>100.0</td>\n",
              "      <td>...</td>\n",
              "      <td>100.0</td>\n",
              "      <td>0.0</td>\n",
              "      <td>200.0</td>\n",
              "      <td>0.0</td>\n",
              "      <td>100.0</td>\n",
              "      <td>745.0</td>\n",
              "      <td>100.0</td>\n",
              "      <td>1.647225e+10</td>\n",
              "      <td>100.0</td>\n",
              "      <td>1.872005e+10</td>\n",
              "    </tr>\n",
              "  </tbody>\n",
              "</table>\n",
              "<p>5 rows × 49 columns</p>\n",
              "</div>\n",
              "      <button class=\"colab-df-convert\" onclick=\"convertToInteractive('df-37b9e30c-34da-4bfd-a237-f702015e1dab')\"\n",
              "              title=\"Convert this dataframe to an interactive table.\"\n",
              "              style=\"display:none;\">\n",
              "        \n",
              "  <svg xmlns=\"http://www.w3.org/2000/svg\" height=\"24px\"viewBox=\"0 0 24 24\"\n",
              "       width=\"24px\">\n",
              "    <path d=\"M0 0h24v24H0V0z\" fill=\"none\"/>\n",
              "    <path d=\"M18.56 5.44l.94 2.06.94-2.06 2.06-.94-2.06-.94-.94-2.06-.94 2.06-2.06.94zm-11 1L8.5 8.5l.94-2.06 2.06-.94-2.06-.94L8.5 2.5l-.94 2.06-2.06.94zm10 10l.94 2.06.94-2.06 2.06-.94-2.06-.94-.94-2.06-.94 2.06-2.06.94z\"/><path d=\"M17.41 7.96l-1.37-1.37c-.4-.4-.92-.59-1.43-.59-.52 0-1.04.2-1.43.59L10.3 9.45l-7.72 7.72c-.78.78-.78 2.05 0 2.83L4 21.41c.39.39.9.59 1.41.59.51 0 1.02-.2 1.41-.59l7.78-7.78 2.81-2.81c.8-.78.8-2.07 0-2.86zM5.41 20L4 18.59l7.72-7.72 1.47 1.35L5.41 20z\"/>\n",
              "  </svg>\n",
              "      </button>\n",
              "      \n",
              "  <style>\n",
              "    .colab-df-container {\n",
              "      display:flex;\n",
              "      flex-wrap:wrap;\n",
              "      gap: 12px;\n",
              "    }\n",
              "\n",
              "    .colab-df-convert {\n",
              "      background-color: #E8F0FE;\n",
              "      border: none;\n",
              "      border-radius: 50%;\n",
              "      cursor: pointer;\n",
              "      display: none;\n",
              "      fill: #1967D2;\n",
              "      height: 32px;\n",
              "      padding: 0 0 0 0;\n",
              "      width: 32px;\n",
              "    }\n",
              "\n",
              "    .colab-df-convert:hover {\n",
              "      background-color: #E2EBFA;\n",
              "      box-shadow: 0px 1px 2px rgba(60, 64, 67, 0.3), 0px 1px 3px 1px rgba(60, 64, 67, 0.15);\n",
              "      fill: #174EA6;\n",
              "    }\n",
              "\n",
              "    [theme=dark] .colab-df-convert {\n",
              "      background-color: #3B4455;\n",
              "      fill: #D2E3FC;\n",
              "    }\n",
              "\n",
              "    [theme=dark] .colab-df-convert:hover {\n",
              "      background-color: #434B5C;\n",
              "      box-shadow: 0px 1px 3px 1px rgba(0, 0, 0, 0.15);\n",
              "      filter: drop-shadow(0px 1px 2px rgba(0, 0, 0, 0.3));\n",
              "      fill: #FFFFFF;\n",
              "    }\n",
              "  </style>\n",
              "\n",
              "      <script>\n",
              "        const buttonEl =\n",
              "          document.querySelector('#df-37b9e30c-34da-4bfd-a237-f702015e1dab button.colab-df-convert');\n",
              "        buttonEl.style.display =\n",
              "          google.colab.kernel.accessAllowed ? 'block' : 'none';\n",
              "\n",
              "        async function convertToInteractive(key) {\n",
              "          const element = document.querySelector('#df-37b9e30c-34da-4bfd-a237-f702015e1dab');\n",
              "          const dataTable =\n",
              "            await google.colab.kernel.invokeFunction('convertToInteractive',\n",
              "                                                     [key], {});\n",
              "          if (!dataTable) return;\n",
              "\n",
              "          const docLinkHtml = 'Like what you see? Visit the ' +\n",
              "            '<a target=\"_blank\" href=https://colab.research.google.com/notebooks/data_table.ipynb>data table notebook</a>'\n",
              "            + ' to learn more about interactive tables.';\n",
              "          element.innerHTML = '';\n",
              "          dataTable['output_type'] = 'display_data';\n",
              "          await google.colab.output.renderOutput(dataTable, element);\n",
              "          const docLink = document.createElement('div');\n",
              "          docLink.innerHTML = docLinkHtml;\n",
              "          element.appendChild(docLink);\n",
              "        }\n",
              "      </script>\n",
              "    </div>\n",
              "  </div>\n",
              "  "
            ]
          },
          "metadata": {},
          "execution_count": 26
        }
      ],
      "source": [
        "Data.head()"
      ]
    },
    {
      "cell_type": "code",
      "execution_count": 27,
      "metadata": {
        "id": "cipKObSpgLZW",
        "colab": {
          "base_uri": "https://localhost:8080/",
          "height": 411
        },
        "outputId": "d08b3ff4-1bfe-47ae-e122-19f7782b7a28"
      },
      "outputs": [
        {
          "output_type": "stream",
          "name": "stdout",
          "text": [
            "Warning: Total number of columns (46) exceeds max_columns (20). Falling back to pandas display.\n"
          ]
        },
        {
          "output_type": "execute_result",
          "data": {
            "text/plain": [
              "       capacity_bytes        failure  smart_1_normalized   smart_1_raw  \\\n",
              "count    8.275090e+05  827509.000000       826837.000000  8.268370e+05   \n",
              "mean     9.877604e+12       0.000029           92.109367  7.489772e+07   \n",
              "std      3.878876e+12       0.005385           13.814933  8.108625e+07   \n",
              "min     -1.000000e+00       0.000000           48.000000  0.000000e+00   \n",
              "25%      8.001563e+12       0.000000           81.000000  0.000000e+00   \n",
              "50%      1.200014e+13       0.000000          100.000000  4.528490e+07   \n",
              "75%      1.200014e+13       0.000000          100.000000  1.441926e+08   \n",
              "max      1.800021e+13       1.000000          200.000000  4.515787e+08   \n",
              "\n",
              "       smart_3_normalized    smart_3_raw  smart_4_normalized    smart_4_raw  \\\n",
              "count       821146.000000  821146.000000       821146.000000  821146.000000   \n",
              "mean            98.571473    1108.194427           99.998563       9.613792   \n",
              "std             15.400574    2610.030659            0.105493     113.979821   \n",
              "min             75.000000       0.000000           75.000000       1.000000   \n",
              "25%             91.000000       0.000000          100.000000       2.000000   \n",
              "50%             97.000000       0.000000          100.000000       5.000000   \n",
              "75%            100.000000     380.000000          100.000000      10.000000   \n",
              "max            253.000000   11111.000000          100.000000   25141.000000   \n",
              "\n",
              "       smart_5_normalized    smart_5_raw  ...  smart_198_normalized  \\\n",
              "count       821366.000000  821366.000000  ...         821366.000000   \n",
              "mean           100.555372      39.525386  ...            100.420319   \n",
              "std              8.978446    1035.302951  ...              7.992256   \n",
              "min              1.000000       0.000000  ...              1.000000   \n",
              "25%            100.000000       0.000000  ...            100.000000   \n",
              "50%            100.000000       0.000000  ...            100.000000   \n",
              "75%            100.000000       0.000000  ...            100.000000   \n",
              "max            252.000000   65480.000000  ...            252.000000   \n",
              "\n",
              "       smart_198_raw  smart_199_normalized  smart_199_raw  \\\n",
              "count  821366.000000         821366.000000  821366.000000   \n",
              "mean        0.411193            196.317354       0.523777   \n",
              "std       101.417785             18.833564      37.496426   \n",
              "min         0.000000            100.000000       0.000000   \n",
              "25%         0.000000            200.000000       0.000000   \n",
              "50%         0.000000            200.000000       0.000000   \n",
              "75%         0.000000            200.000000       0.000000   \n",
              "max     41040.000000            200.000000    7670.000000   \n",
              "\n",
              "       smart_240_normalized  smart_240_raw  smart_241_normalized  \\\n",
              "count         617451.000000  617451.000000         531854.000000   \n",
              "mean              99.958756   19539.948509            100.009401   \n",
              "std                1.596372   16815.497165              0.969547   \n",
              "min                8.000000       0.000000            100.000000   \n",
              "25%              100.000000    2641.000000            100.000000   \n",
              "50%              100.000000   17421.000000            100.000000   \n",
              "75%              100.000000   33203.000000            100.000000   \n",
              "max              100.000000   67845.000000            200.000000   \n",
              "\n",
              "       smart_241_raw  smart_242_normalized  smart_242_raw  \n",
              "count   5.318540e+05         531844.000000   5.318440e+05  \n",
              "mean    5.612417e+10            100.009401   1.923745e+11  \n",
              "std     1.795249e+10              0.969556   1.765763e+11  \n",
              "min     0.000000e+00            100.000000   1.000000e+00  \n",
              "25%     4.848800e+10            100.000000   1.001612e+11  \n",
              "50%     5.912925e+10            100.000000   2.255465e+11  \n",
              "75%     6.771780e+10            100.000000   2.620806e+11  \n",
              "max     2.202436e+11            200.000000   2.818246e+13  \n",
              "\n",
              "[8 rows x 46 columns]"
            ],
            "text/html": [
              "\n",
              "  <div id=\"df-a24b917f-601c-433f-bc72-203f691fae3c\">\n",
              "    <div class=\"colab-df-container\">\n",
              "      <div>\n",
              "<style scoped>\n",
              "    .dataframe tbody tr th:only-of-type {\n",
              "        vertical-align: middle;\n",
              "    }\n",
              "\n",
              "    .dataframe tbody tr th {\n",
              "        vertical-align: top;\n",
              "    }\n",
              "\n",
              "    .dataframe thead th {\n",
              "        text-align: right;\n",
              "    }\n",
              "</style>\n",
              "<table border=\"1\" class=\"dataframe\">\n",
              "  <thead>\n",
              "    <tr style=\"text-align: right;\">\n",
              "      <th></th>\n",
              "      <th>capacity_bytes</th>\n",
              "      <th>failure</th>\n",
              "      <th>smart_1_normalized</th>\n",
              "      <th>smart_1_raw</th>\n",
              "      <th>smart_3_normalized</th>\n",
              "      <th>smart_3_raw</th>\n",
              "      <th>smart_4_normalized</th>\n",
              "      <th>smart_4_raw</th>\n",
              "      <th>smart_5_normalized</th>\n",
              "      <th>smart_5_raw</th>\n",
              "      <th>...</th>\n",
              "      <th>smart_198_normalized</th>\n",
              "      <th>smart_198_raw</th>\n",
              "      <th>smart_199_normalized</th>\n",
              "      <th>smart_199_raw</th>\n",
              "      <th>smart_240_normalized</th>\n",
              "      <th>smart_240_raw</th>\n",
              "      <th>smart_241_normalized</th>\n",
              "      <th>smart_241_raw</th>\n",
              "      <th>smart_242_normalized</th>\n",
              "      <th>smart_242_raw</th>\n",
              "    </tr>\n",
              "  </thead>\n",
              "  <tbody>\n",
              "    <tr>\n",
              "      <th>count</th>\n",
              "      <td>8.275090e+05</td>\n",
              "      <td>827509.000000</td>\n",
              "      <td>826837.000000</td>\n",
              "      <td>8.268370e+05</td>\n",
              "      <td>821146.000000</td>\n",
              "      <td>821146.000000</td>\n",
              "      <td>821146.000000</td>\n",
              "      <td>821146.000000</td>\n",
              "      <td>821366.000000</td>\n",
              "      <td>821366.000000</td>\n",
              "      <td>...</td>\n",
              "      <td>821366.000000</td>\n",
              "      <td>821366.000000</td>\n",
              "      <td>821366.000000</td>\n",
              "      <td>821366.000000</td>\n",
              "      <td>617451.000000</td>\n",
              "      <td>617451.000000</td>\n",
              "      <td>531854.000000</td>\n",
              "      <td>5.318540e+05</td>\n",
              "      <td>531844.000000</td>\n",
              "      <td>5.318440e+05</td>\n",
              "    </tr>\n",
              "    <tr>\n",
              "      <th>mean</th>\n",
              "      <td>9.877604e+12</td>\n",
              "      <td>0.000029</td>\n",
              "      <td>92.109367</td>\n",
              "      <td>7.489772e+07</td>\n",
              "      <td>98.571473</td>\n",
              "      <td>1108.194427</td>\n",
              "      <td>99.998563</td>\n",
              "      <td>9.613792</td>\n",
              "      <td>100.555372</td>\n",
              "      <td>39.525386</td>\n",
              "      <td>...</td>\n",
              "      <td>100.420319</td>\n",
              "      <td>0.411193</td>\n",
              "      <td>196.317354</td>\n",
              "      <td>0.523777</td>\n",
              "      <td>99.958756</td>\n",
              "      <td>19539.948509</td>\n",
              "      <td>100.009401</td>\n",
              "      <td>5.612417e+10</td>\n",
              "      <td>100.009401</td>\n",
              "      <td>1.923745e+11</td>\n",
              "    </tr>\n",
              "    <tr>\n",
              "      <th>std</th>\n",
              "      <td>3.878876e+12</td>\n",
              "      <td>0.005385</td>\n",
              "      <td>13.814933</td>\n",
              "      <td>8.108625e+07</td>\n",
              "      <td>15.400574</td>\n",
              "      <td>2610.030659</td>\n",
              "      <td>0.105493</td>\n",
              "      <td>113.979821</td>\n",
              "      <td>8.978446</td>\n",
              "      <td>1035.302951</td>\n",
              "      <td>...</td>\n",
              "      <td>7.992256</td>\n",
              "      <td>101.417785</td>\n",
              "      <td>18.833564</td>\n",
              "      <td>37.496426</td>\n",
              "      <td>1.596372</td>\n",
              "      <td>16815.497165</td>\n",
              "      <td>0.969547</td>\n",
              "      <td>1.795249e+10</td>\n",
              "      <td>0.969556</td>\n",
              "      <td>1.765763e+11</td>\n",
              "    </tr>\n",
              "    <tr>\n",
              "      <th>min</th>\n",
              "      <td>-1.000000e+00</td>\n",
              "      <td>0.000000</td>\n",
              "      <td>48.000000</td>\n",
              "      <td>0.000000e+00</td>\n",
              "      <td>75.000000</td>\n",
              "      <td>0.000000</td>\n",
              "      <td>75.000000</td>\n",
              "      <td>1.000000</td>\n",
              "      <td>1.000000</td>\n",
              "      <td>0.000000</td>\n",
              "      <td>...</td>\n",
              "      <td>1.000000</td>\n",
              "      <td>0.000000</td>\n",
              "      <td>100.000000</td>\n",
              "      <td>0.000000</td>\n",
              "      <td>8.000000</td>\n",
              "      <td>0.000000</td>\n",
              "      <td>100.000000</td>\n",
              "      <td>0.000000e+00</td>\n",
              "      <td>100.000000</td>\n",
              "      <td>1.000000e+00</td>\n",
              "    </tr>\n",
              "    <tr>\n",
              "      <th>25%</th>\n",
              "      <td>8.001563e+12</td>\n",
              "      <td>0.000000</td>\n",
              "      <td>81.000000</td>\n",
              "      <td>0.000000e+00</td>\n",
              "      <td>91.000000</td>\n",
              "      <td>0.000000</td>\n",
              "      <td>100.000000</td>\n",
              "      <td>2.000000</td>\n",
              "      <td>100.000000</td>\n",
              "      <td>0.000000</td>\n",
              "      <td>...</td>\n",
              "      <td>100.000000</td>\n",
              "      <td>0.000000</td>\n",
              "      <td>200.000000</td>\n",
              "      <td>0.000000</td>\n",
              "      <td>100.000000</td>\n",
              "      <td>2641.000000</td>\n",
              "      <td>100.000000</td>\n",
              "      <td>4.848800e+10</td>\n",
              "      <td>100.000000</td>\n",
              "      <td>1.001612e+11</td>\n",
              "    </tr>\n",
              "    <tr>\n",
              "      <th>50%</th>\n",
              "      <td>1.200014e+13</td>\n",
              "      <td>0.000000</td>\n",
              "      <td>100.000000</td>\n",
              "      <td>4.528490e+07</td>\n",
              "      <td>97.000000</td>\n",
              "      <td>0.000000</td>\n",
              "      <td>100.000000</td>\n",
              "      <td>5.000000</td>\n",
              "      <td>100.000000</td>\n",
              "      <td>0.000000</td>\n",
              "      <td>...</td>\n",
              "      <td>100.000000</td>\n",
              "      <td>0.000000</td>\n",
              "      <td>200.000000</td>\n",
              "      <td>0.000000</td>\n",
              "      <td>100.000000</td>\n",
              "      <td>17421.000000</td>\n",
              "      <td>100.000000</td>\n",
              "      <td>5.912925e+10</td>\n",
              "      <td>100.000000</td>\n",
              "      <td>2.255465e+11</td>\n",
              "    </tr>\n",
              "    <tr>\n",
              "      <th>75%</th>\n",
              "      <td>1.200014e+13</td>\n",
              "      <td>0.000000</td>\n",
              "      <td>100.000000</td>\n",
              "      <td>1.441926e+08</td>\n",
              "      <td>100.000000</td>\n",
              "      <td>380.000000</td>\n",
              "      <td>100.000000</td>\n",
              "      <td>10.000000</td>\n",
              "      <td>100.000000</td>\n",
              "      <td>0.000000</td>\n",
              "      <td>...</td>\n",
              "      <td>100.000000</td>\n",
              "      <td>0.000000</td>\n",
              "      <td>200.000000</td>\n",
              "      <td>0.000000</td>\n",
              "      <td>100.000000</td>\n",
              "      <td>33203.000000</td>\n",
              "      <td>100.000000</td>\n",
              "      <td>6.771780e+10</td>\n",
              "      <td>100.000000</td>\n",
              "      <td>2.620806e+11</td>\n",
              "    </tr>\n",
              "    <tr>\n",
              "      <th>max</th>\n",
              "      <td>1.800021e+13</td>\n",
              "      <td>1.000000</td>\n",
              "      <td>200.000000</td>\n",
              "      <td>4.515787e+08</td>\n",
              "      <td>253.000000</td>\n",
              "      <td>11111.000000</td>\n",
              "      <td>100.000000</td>\n",
              "      <td>25141.000000</td>\n",
              "      <td>252.000000</td>\n",
              "      <td>65480.000000</td>\n",
              "      <td>...</td>\n",
              "      <td>252.000000</td>\n",
              "      <td>41040.000000</td>\n",
              "      <td>200.000000</td>\n",
              "      <td>7670.000000</td>\n",
              "      <td>100.000000</td>\n",
              "      <td>67845.000000</td>\n",
              "      <td>200.000000</td>\n",
              "      <td>2.202436e+11</td>\n",
              "      <td>200.000000</td>\n",
              "      <td>2.818246e+13</td>\n",
              "    </tr>\n",
              "  </tbody>\n",
              "</table>\n",
              "<p>8 rows × 46 columns</p>\n",
              "</div>\n",
              "      <button class=\"colab-df-convert\" onclick=\"convertToInteractive('df-a24b917f-601c-433f-bc72-203f691fae3c')\"\n",
              "              title=\"Convert this dataframe to an interactive table.\"\n",
              "              style=\"display:none;\">\n",
              "        \n",
              "  <svg xmlns=\"http://www.w3.org/2000/svg\" height=\"24px\"viewBox=\"0 0 24 24\"\n",
              "       width=\"24px\">\n",
              "    <path d=\"M0 0h24v24H0V0z\" fill=\"none\"/>\n",
              "    <path d=\"M18.56 5.44l.94 2.06.94-2.06 2.06-.94-2.06-.94-.94-2.06-.94 2.06-2.06.94zm-11 1L8.5 8.5l.94-2.06 2.06-.94-2.06-.94L8.5 2.5l-.94 2.06-2.06.94zm10 10l.94 2.06.94-2.06 2.06-.94-2.06-.94-.94-2.06-.94 2.06-2.06.94z\"/><path d=\"M17.41 7.96l-1.37-1.37c-.4-.4-.92-.59-1.43-.59-.52 0-1.04.2-1.43.59L10.3 9.45l-7.72 7.72c-.78.78-.78 2.05 0 2.83L4 21.41c.39.39.9.59 1.41.59.51 0 1.02-.2 1.41-.59l7.78-7.78 2.81-2.81c.8-.78.8-2.07 0-2.86zM5.41 20L4 18.59l7.72-7.72 1.47 1.35L5.41 20z\"/>\n",
              "  </svg>\n",
              "      </button>\n",
              "      \n",
              "  <style>\n",
              "    .colab-df-container {\n",
              "      display:flex;\n",
              "      flex-wrap:wrap;\n",
              "      gap: 12px;\n",
              "    }\n",
              "\n",
              "    .colab-df-convert {\n",
              "      background-color: #E8F0FE;\n",
              "      border: none;\n",
              "      border-radius: 50%;\n",
              "      cursor: pointer;\n",
              "      display: none;\n",
              "      fill: #1967D2;\n",
              "      height: 32px;\n",
              "      padding: 0 0 0 0;\n",
              "      width: 32px;\n",
              "    }\n",
              "\n",
              "    .colab-df-convert:hover {\n",
              "      background-color: #E2EBFA;\n",
              "      box-shadow: 0px 1px 2px rgba(60, 64, 67, 0.3), 0px 1px 3px 1px rgba(60, 64, 67, 0.15);\n",
              "      fill: #174EA6;\n",
              "    }\n",
              "\n",
              "    [theme=dark] .colab-df-convert {\n",
              "      background-color: #3B4455;\n",
              "      fill: #D2E3FC;\n",
              "    }\n",
              "\n",
              "    [theme=dark] .colab-df-convert:hover {\n",
              "      background-color: #434B5C;\n",
              "      box-shadow: 0px 1px 3px 1px rgba(0, 0, 0, 0.15);\n",
              "      filter: drop-shadow(0px 1px 2px rgba(0, 0, 0, 0.3));\n",
              "      fill: #FFFFFF;\n",
              "    }\n",
              "  </style>\n",
              "\n",
              "      <script>\n",
              "        const buttonEl =\n",
              "          document.querySelector('#df-a24b917f-601c-433f-bc72-203f691fae3c button.colab-df-convert');\n",
              "        buttonEl.style.display =\n",
              "          google.colab.kernel.accessAllowed ? 'block' : 'none';\n",
              "\n",
              "        async function convertToInteractive(key) {\n",
              "          const element = document.querySelector('#df-a24b917f-601c-433f-bc72-203f691fae3c');\n",
              "          const dataTable =\n",
              "            await google.colab.kernel.invokeFunction('convertToInteractive',\n",
              "                                                     [key], {});\n",
              "          if (!dataTable) return;\n",
              "\n",
              "          const docLinkHtml = 'Like what you see? Visit the ' +\n",
              "            '<a target=\"_blank\" href=https://colab.research.google.com/notebooks/data_table.ipynb>data table notebook</a>'\n",
              "            + ' to learn more about interactive tables.';\n",
              "          element.innerHTML = '';\n",
              "          dataTable['output_type'] = 'display_data';\n",
              "          await google.colab.output.renderOutput(dataTable, element);\n",
              "          const docLink = document.createElement('div');\n",
              "          docLink.innerHTML = docLinkHtml;\n",
              "          element.appendChild(docLink);\n",
              "        }\n",
              "      </script>\n",
              "    </div>\n",
              "  </div>\n",
              "  "
            ]
          },
          "metadata": {},
          "execution_count": 27
        }
      ],
      "source": [
        "Data.describe()"
      ]
    },
    {
      "cell_type": "code",
      "execution_count": 28,
      "metadata": {
        "id": "AbWfLdnnmZ6D",
        "colab": {
          "base_uri": "https://localhost:8080/"
        },
        "outputId": "a60c45c3-082c-4052-8a2a-b6d18d39e1bb"
      },
      "outputs": [
        {
          "output_type": "execute_result",
          "data": {
            "text/plain": [
              "Index(['date', 'serial_number', 'model', 'capacity_bytes', 'failure',\n",
              "       'smart_1_normalized', 'smart_1_raw', 'smart_3_normalized',\n",
              "       'smart_3_raw', 'smart_4_normalized', 'smart_4_raw',\n",
              "       'smart_5_normalized', 'smart_5_raw', 'smart_7_normalized',\n",
              "       'smart_7_raw', 'smart_9_normalized', 'smart_9_raw',\n",
              "       'smart_10_normalized', 'smart_10_raw', 'smart_12_normalized',\n",
              "       'smart_12_raw', 'smart_184_normalized', 'smart_184_raw',\n",
              "       'smart_187_normalized', 'smart_187_raw', 'smart_188_normalized',\n",
              "       'smart_188_raw', 'smart_190_normalized', 'smart_190_raw',\n",
              "       'smart_192_normalized', 'smart_192_raw', 'smart_193_normalized',\n",
              "       'smart_193_raw', 'smart_194_normalized', 'smart_194_raw',\n",
              "       'smart_196_normalized', 'smart_196_raw', 'smart_197_normalized',\n",
              "       'smart_197_raw', 'smart_198_normalized', 'smart_198_raw',\n",
              "       'smart_199_normalized', 'smart_199_raw', 'smart_240_normalized',\n",
              "       'smart_240_raw', 'smart_241_normalized', 'smart_241_raw',\n",
              "       'smart_242_normalized', 'smart_242_raw'],\n",
              "      dtype='object')"
            ]
          },
          "metadata": {},
          "execution_count": 28
        }
      ],
      "source": [
        "RE = Data.columns \n",
        "RE"
      ]
    },
    {
      "cell_type": "code",
      "execution_count": 29,
      "metadata": {
        "id": "CzgZTu7bM8bd",
        "colab": {
          "base_uri": "https://localhost:8080/"
        },
        "outputId": "2288c5ff-c78c-4518-867c-e7275580bc92"
      },
      "outputs": [
        {
          "output_type": "execute_result",
          "data": {
            "text/plain": [
              " 12000.0    326984\n",
              " 4000.0     174751\n",
              " 14000.0    167734\n",
              " 8001.0     126496\n",
              " 500.0        8713\n",
              " 10000.0      6076\n",
              " 16000.0      5693\n",
              " 250.0        5361\n",
              " 6001.0       4490\n",
              " 480.0         600\n",
              " 18000.0       300\n",
              " 240.0         200\n",
              "-1.0            86\n",
              " 2000.0         20\n",
              " 1000.0          5\n",
              "Name: capacity_bytes, dtype: int64"
            ]
          },
          "metadata": {},
          "execution_count": 29
        }
      ],
      "source": [
        "# Since the capacity is in \"bytes\" notation, it is difficult to interpret so it is converted into \"GB\" notation.\n",
        "Data['capacity_bytes'] = (Data['capacity_bytes'] // 1e+9)\n",
        "Data['capacity_bytes'].value_counts() # Finding the counts of each category of HDD based on GB size."
      ]
    },
    {
      "cell_type": "markdown",
      "metadata": {
        "id": "FitTbo9QxMYg"
      },
      "source": [
        "From the above capacity_bytes unique counts, it is found that there is unmatched size value (-1) which is seems to be odd, so datapoints with that capacity is removed."
      ]
    },
    {
      "cell_type": "code",
      "execution_count": 30,
      "metadata": {
        "id": "cSZt6F47T0z0",
        "colab": {
          "base_uri": "https://localhost:8080/"
        },
        "outputId": "5ed5561b-2c3f-4859-f56a-7db4381db14b"
      },
      "outputs": [
        {
          "output_type": "stream",
          "name": "stdout",
          "text": [
            "(827509, 49)\n",
            "(827423, 49)\n"
          ]
        }
      ],
      "source": [
        "# Removal of odd capacity datapoints.\n",
        "print(Data.shape)\n",
        "Data.drop(np.where(Data['capacity_bytes'] == -1)[0], inplace = True)\n",
        "print(Data.shape)"
      ]
    },
    {
      "cell_type": "code",
      "execution_count": 31,
      "metadata": {
        "id": "RVXPlqR3ck8L",
        "colab": {
          "base_uri": "https://localhost:8080/"
        },
        "outputId": "6edd0b4a-76a7-4136-d413-77ad9751c80c"
      },
      "outputs": [
        {
          "output_type": "execute_result",
          "data": {
            "text/plain": [
              "date                    0\n",
              "serial_number           0\n",
              "model                   0\n",
              "capacity_bytes          0\n",
              "failure                 0\n",
              "smart_1_normalized      0\n",
              "smart_1_raw             0\n",
              "smart_3_normalized      0\n",
              "smart_3_raw             0\n",
              "smart_4_normalized      0\n",
              "smart_4_raw             0\n",
              "smart_5_normalized      0\n",
              "smart_5_raw             0\n",
              "smart_7_normalized      0\n",
              "smart_7_raw             0\n",
              "smart_9_normalized      0\n",
              "smart_9_raw             0\n",
              "smart_10_normalized     0\n",
              "smart_10_raw            0\n",
              "smart_12_normalized     0\n",
              "smart_12_raw            0\n",
              "smart_184_normalized    0\n",
              "smart_184_raw           0\n",
              "smart_187_normalized    0\n",
              "smart_187_raw           0\n",
              "smart_188_normalized    0\n",
              "smart_188_raw           0\n",
              "smart_190_normalized    0\n",
              "smart_190_raw           0\n",
              "smart_192_normalized    0\n",
              "smart_192_raw           0\n",
              "smart_193_normalized    0\n",
              "smart_193_raw           0\n",
              "smart_194_normalized    0\n",
              "smart_194_raw           0\n",
              "smart_196_normalized    0\n",
              "smart_196_raw           0\n",
              "smart_197_normalized    0\n",
              "smart_197_raw           0\n",
              "smart_198_normalized    0\n",
              "smart_198_raw           0\n",
              "smart_199_normalized    0\n",
              "smart_199_raw           0\n",
              "smart_240_normalized    0\n",
              "smart_240_raw           0\n",
              "smart_241_normalized    0\n",
              "smart_241_raw           0\n",
              "smart_242_normalized    0\n",
              "smart_242_raw           0\n",
              "dtype: int64"
            ]
          },
          "metadata": {},
          "execution_count": 31
        }
      ],
      "source": [
        "# Filling the NaN values with zero since imputing with anyother values,\n",
        "# may not be suitable as per the BalckBlaze documentation on SMART attributes.\n",
        "\n",
        "Data = Data.fillna(0)\n",
        "Data.isnull().sum(axis = 0)"
      ]
    },
    {
      "cell_type": "markdown",
      "metadata": {
        "id": "RwjKo-wdj02P"
      },
      "source": [
        "# 4. Feature Engineering\n",
        "\n",
        "\n",
        "\n",
        "\n",
        "\n"
      ]
    },
    {
      "cell_type": "markdown",
      "metadata": {
        "id": "QGLFRXD3LASV"
      },
      "source": [
        "> Feature engineering based on correlation of attributes with target variable(Failure).\n",
        "\n",
        "> Mathematical based feature engineering."
      ]
    },
    {
      "cell_type": "code",
      "execution_count": 32,
      "metadata": {
        "id": "T7ykLcgvoriF",
        "colab": {
          "base_uri": "https://localhost:8080/"
        },
        "outputId": "4006fdbd-69c1-4569-de75-5ec362211cd2"
      },
      "outputs": [
        {
          "output_type": "execute_result",
          "data": {
            "text/plain": [
              "(827423, 49)"
            ]
          },
          "metadata": {},
          "execution_count": 32
        }
      ],
      "source": [
        "Test = Data.copy()\n",
        "Test.shape "
      ]
    },
    {
      "cell_type": "code",
      "execution_count": 33,
      "metadata": {
        "id": "eSvRSBLVvNWw",
        "colab": {
          "base_uri": "https://localhost:8080/",
          "height": 411
        },
        "outputId": "980923b1-09c6-46e9-a5e0-407375062b4f"
      },
      "outputs": [
        {
          "output_type": "stream",
          "name": "stdout",
          "text": [
            "Warning: Total number of columns (46) exceeds max_columns (20). Falling back to pandas display.\n"
          ]
        },
        {
          "output_type": "execute_result",
          "data": {
            "text/plain": [
              "       capacity_bytes        failure  smart_1_normalized   smart_1_raw  \\\n",
              "count   827423.000000  827423.000000       827423.000000  8.274230e+05   \n",
              "mean      9878.203453       0.000029           92.044133  7.484468e+07   \n",
              "std       3877.916088       0.005386           14.025749  8.108202e+07   \n",
              "min        240.000000       0.000000            0.000000  0.000000e+00   \n",
              "25%       8001.000000       0.000000           81.000000  0.000000e+00   \n",
              "50%      12000.000000       0.000000          100.000000  4.514909e+07   \n",
              "75%      12000.000000       0.000000          100.000000  1.441262e+08   \n",
              "max      18000.000000       1.000000          200.000000  4.515787e+08   \n",
              "\n",
              "       smart_3_normalized    smart_3_raw  smart_4_normalized    smart_4_raw  \\\n",
              "count       827423.000000  827423.000000       827423.000000  827423.000000   \n",
              "mean            97.823690    1099.787438           99.239953       9.540860   \n",
              "std             17.565005    2601.889063            8.677299     113.549724   \n",
              "min              0.000000       0.000000            0.000000       0.000000   \n",
              "25%             91.000000       0.000000          100.000000       2.000000   \n",
              "50%             97.000000       0.000000          100.000000       5.000000   \n",
              "75%            100.000000     380.000000          100.000000      10.000000   \n",
              "max            253.000000   11111.000000          100.000000   25141.000000   \n",
              "\n",
              "       smart_5_normalized    smart_5_raw  ...  smart_198_normalized  \\\n",
              "count       827423.000000  827423.000000  ...         827423.000000   \n",
              "mean            99.819275      39.236047  ...             99.685211   \n",
              "std             12.389478    1031.512115  ...             11.691369   \n",
              "min              0.000000       0.000000  ...              0.000000   \n",
              "25%            100.000000       0.000000  ...            100.000000   \n",
              "50%            100.000000       0.000000  ...            100.000000   \n",
              "75%            100.000000       0.000000  ...            100.000000   \n",
              "max            252.000000   65480.000000  ...            252.000000   \n",
              "\n",
              "       smart_198_raw  smart_199_normalized  smart_199_raw  \\\n",
              "count  827423.000000         827423.000000  827423.000000   \n",
              "mean        0.408183            194.880249       0.519943   \n",
              "std       101.045904             25.142999      37.358957   \n",
              "min         0.000000              0.000000       0.000000   \n",
              "25%         0.000000            200.000000       0.000000   \n",
              "50%         0.000000            200.000000       0.000000   \n",
              "75%         0.000000            200.000000       0.000000   \n",
              "max     41040.000000            200.000000    7670.000000   \n",
              "\n",
              "       smart_240_normalized  smart_240_raw  smart_241_normalized  \\\n",
              "count         827423.000000  827423.000000         827423.000000   \n",
              "mean              74.592601   14581.369804             64.284411   \n",
              "std               43.520472   16831.774762             47.928770   \n",
              "min                0.000000       0.000000              0.000000   \n",
              "25%                0.000000       0.000000              0.000000   \n",
              "50%              100.000000    5816.000000            100.000000   \n",
              "75%              100.000000   29337.000000            100.000000   \n",
              "max              100.000000   67845.000000            200.000000   \n",
              "\n",
              "       smart_241_raw  smart_242_normalized  smart_242_raw  \n",
              "count   8.274230e+05         827423.000000   8.274230e+05  \n",
              "mean    3.607570e+10             64.283202   1.236529e+11  \n",
              "std     3.050290e+10             47.929130   1.689341e+11  \n",
              "min     0.000000e+00              0.000000   0.000000e+00  \n",
              "25%     0.000000e+00              0.000000   0.000000e+00  \n",
              "50%     4.683655e+10            100.000000   9.188942e+10  \n",
              "75%     6.341446e+10            100.000000   2.468640e+11  \n",
              "max     2.202436e+11            200.000000   2.818246e+13  \n",
              "\n",
              "[8 rows x 46 columns]"
            ],
            "text/html": [
              "\n",
              "  <div id=\"df-6fcc73cb-9148-4341-a4db-8cea83c213e4\">\n",
              "    <div class=\"colab-df-container\">\n",
              "      <div>\n",
              "<style scoped>\n",
              "    .dataframe tbody tr th:only-of-type {\n",
              "        vertical-align: middle;\n",
              "    }\n",
              "\n",
              "    .dataframe tbody tr th {\n",
              "        vertical-align: top;\n",
              "    }\n",
              "\n",
              "    .dataframe thead th {\n",
              "        text-align: right;\n",
              "    }\n",
              "</style>\n",
              "<table border=\"1\" class=\"dataframe\">\n",
              "  <thead>\n",
              "    <tr style=\"text-align: right;\">\n",
              "      <th></th>\n",
              "      <th>capacity_bytes</th>\n",
              "      <th>failure</th>\n",
              "      <th>smart_1_normalized</th>\n",
              "      <th>smart_1_raw</th>\n",
              "      <th>smart_3_normalized</th>\n",
              "      <th>smart_3_raw</th>\n",
              "      <th>smart_4_normalized</th>\n",
              "      <th>smart_4_raw</th>\n",
              "      <th>smart_5_normalized</th>\n",
              "      <th>smart_5_raw</th>\n",
              "      <th>...</th>\n",
              "      <th>smart_198_normalized</th>\n",
              "      <th>smart_198_raw</th>\n",
              "      <th>smart_199_normalized</th>\n",
              "      <th>smart_199_raw</th>\n",
              "      <th>smart_240_normalized</th>\n",
              "      <th>smart_240_raw</th>\n",
              "      <th>smart_241_normalized</th>\n",
              "      <th>smart_241_raw</th>\n",
              "      <th>smart_242_normalized</th>\n",
              "      <th>smart_242_raw</th>\n",
              "    </tr>\n",
              "  </thead>\n",
              "  <tbody>\n",
              "    <tr>\n",
              "      <th>count</th>\n",
              "      <td>827423.000000</td>\n",
              "      <td>827423.000000</td>\n",
              "      <td>827423.000000</td>\n",
              "      <td>8.274230e+05</td>\n",
              "      <td>827423.000000</td>\n",
              "      <td>827423.000000</td>\n",
              "      <td>827423.000000</td>\n",
              "      <td>827423.000000</td>\n",
              "      <td>827423.000000</td>\n",
              "      <td>827423.000000</td>\n",
              "      <td>...</td>\n",
              "      <td>827423.000000</td>\n",
              "      <td>827423.000000</td>\n",
              "      <td>827423.000000</td>\n",
              "      <td>827423.000000</td>\n",
              "      <td>827423.000000</td>\n",
              "      <td>827423.000000</td>\n",
              "      <td>827423.000000</td>\n",
              "      <td>8.274230e+05</td>\n",
              "      <td>827423.000000</td>\n",
              "      <td>8.274230e+05</td>\n",
              "    </tr>\n",
              "    <tr>\n",
              "      <th>mean</th>\n",
              "      <td>9878.203453</td>\n",
              "      <td>0.000029</td>\n",
              "      <td>92.044133</td>\n",
              "      <td>7.484468e+07</td>\n",
              "      <td>97.823690</td>\n",
              "      <td>1099.787438</td>\n",
              "      <td>99.239953</td>\n",
              "      <td>9.540860</td>\n",
              "      <td>99.819275</td>\n",
              "      <td>39.236047</td>\n",
              "      <td>...</td>\n",
              "      <td>99.685211</td>\n",
              "      <td>0.408183</td>\n",
              "      <td>194.880249</td>\n",
              "      <td>0.519943</td>\n",
              "      <td>74.592601</td>\n",
              "      <td>14581.369804</td>\n",
              "      <td>64.284411</td>\n",
              "      <td>3.607570e+10</td>\n",
              "      <td>64.283202</td>\n",
              "      <td>1.236529e+11</td>\n",
              "    </tr>\n",
              "    <tr>\n",
              "      <th>std</th>\n",
              "      <td>3877.916088</td>\n",
              "      <td>0.005386</td>\n",
              "      <td>14.025749</td>\n",
              "      <td>8.108202e+07</td>\n",
              "      <td>17.565005</td>\n",
              "      <td>2601.889063</td>\n",
              "      <td>8.677299</td>\n",
              "      <td>113.549724</td>\n",
              "      <td>12.389478</td>\n",
              "      <td>1031.512115</td>\n",
              "      <td>...</td>\n",
              "      <td>11.691369</td>\n",
              "      <td>101.045904</td>\n",
              "      <td>25.142999</td>\n",
              "      <td>37.358957</td>\n",
              "      <td>43.520472</td>\n",
              "      <td>16831.774762</td>\n",
              "      <td>47.928770</td>\n",
              "      <td>3.050290e+10</td>\n",
              "      <td>47.929130</td>\n",
              "      <td>1.689341e+11</td>\n",
              "    </tr>\n",
              "    <tr>\n",
              "      <th>min</th>\n",
              "      <td>240.000000</td>\n",
              "      <td>0.000000</td>\n",
              "      <td>0.000000</td>\n",
              "      <td>0.000000e+00</td>\n",
              "      <td>0.000000</td>\n",
              "      <td>0.000000</td>\n",
              "      <td>0.000000</td>\n",
              "      <td>0.000000</td>\n",
              "      <td>0.000000</td>\n",
              "      <td>0.000000</td>\n",
              "      <td>...</td>\n",
              "      <td>0.000000</td>\n",
              "      <td>0.000000</td>\n",
              "      <td>0.000000</td>\n",
              "      <td>0.000000</td>\n",
              "      <td>0.000000</td>\n",
              "      <td>0.000000</td>\n",
              "      <td>0.000000</td>\n",
              "      <td>0.000000e+00</td>\n",
              "      <td>0.000000</td>\n",
              "      <td>0.000000e+00</td>\n",
              "    </tr>\n",
              "    <tr>\n",
              "      <th>25%</th>\n",
              "      <td>8001.000000</td>\n",
              "      <td>0.000000</td>\n",
              "      <td>81.000000</td>\n",
              "      <td>0.000000e+00</td>\n",
              "      <td>91.000000</td>\n",
              "      <td>0.000000</td>\n",
              "      <td>100.000000</td>\n",
              "      <td>2.000000</td>\n",
              "      <td>100.000000</td>\n",
              "      <td>0.000000</td>\n",
              "      <td>...</td>\n",
              "      <td>100.000000</td>\n",
              "      <td>0.000000</td>\n",
              "      <td>200.000000</td>\n",
              "      <td>0.000000</td>\n",
              "      <td>0.000000</td>\n",
              "      <td>0.000000</td>\n",
              "      <td>0.000000</td>\n",
              "      <td>0.000000e+00</td>\n",
              "      <td>0.000000</td>\n",
              "      <td>0.000000e+00</td>\n",
              "    </tr>\n",
              "    <tr>\n",
              "      <th>50%</th>\n",
              "      <td>12000.000000</td>\n",
              "      <td>0.000000</td>\n",
              "      <td>100.000000</td>\n",
              "      <td>4.514909e+07</td>\n",
              "      <td>97.000000</td>\n",
              "      <td>0.000000</td>\n",
              "      <td>100.000000</td>\n",
              "      <td>5.000000</td>\n",
              "      <td>100.000000</td>\n",
              "      <td>0.000000</td>\n",
              "      <td>...</td>\n",
              "      <td>100.000000</td>\n",
              "      <td>0.000000</td>\n",
              "      <td>200.000000</td>\n",
              "      <td>0.000000</td>\n",
              "      <td>100.000000</td>\n",
              "      <td>5816.000000</td>\n",
              "      <td>100.000000</td>\n",
              "      <td>4.683655e+10</td>\n",
              "      <td>100.000000</td>\n",
              "      <td>9.188942e+10</td>\n",
              "    </tr>\n",
              "    <tr>\n",
              "      <th>75%</th>\n",
              "      <td>12000.000000</td>\n",
              "      <td>0.000000</td>\n",
              "      <td>100.000000</td>\n",
              "      <td>1.441262e+08</td>\n",
              "      <td>100.000000</td>\n",
              "      <td>380.000000</td>\n",
              "      <td>100.000000</td>\n",
              "      <td>10.000000</td>\n",
              "      <td>100.000000</td>\n",
              "      <td>0.000000</td>\n",
              "      <td>...</td>\n",
              "      <td>100.000000</td>\n",
              "      <td>0.000000</td>\n",
              "      <td>200.000000</td>\n",
              "      <td>0.000000</td>\n",
              "      <td>100.000000</td>\n",
              "      <td>29337.000000</td>\n",
              "      <td>100.000000</td>\n",
              "      <td>6.341446e+10</td>\n",
              "      <td>100.000000</td>\n",
              "      <td>2.468640e+11</td>\n",
              "    </tr>\n",
              "    <tr>\n",
              "      <th>max</th>\n",
              "      <td>18000.000000</td>\n",
              "      <td>1.000000</td>\n",
              "      <td>200.000000</td>\n",
              "      <td>4.515787e+08</td>\n",
              "      <td>253.000000</td>\n",
              "      <td>11111.000000</td>\n",
              "      <td>100.000000</td>\n",
              "      <td>25141.000000</td>\n",
              "      <td>252.000000</td>\n",
              "      <td>65480.000000</td>\n",
              "      <td>...</td>\n",
              "      <td>252.000000</td>\n",
              "      <td>41040.000000</td>\n",
              "      <td>200.000000</td>\n",
              "      <td>7670.000000</td>\n",
              "      <td>100.000000</td>\n",
              "      <td>67845.000000</td>\n",
              "      <td>200.000000</td>\n",
              "      <td>2.202436e+11</td>\n",
              "      <td>200.000000</td>\n",
              "      <td>2.818246e+13</td>\n",
              "    </tr>\n",
              "  </tbody>\n",
              "</table>\n",
              "<p>8 rows × 46 columns</p>\n",
              "</div>\n",
              "      <button class=\"colab-df-convert\" onclick=\"convertToInteractive('df-6fcc73cb-9148-4341-a4db-8cea83c213e4')\"\n",
              "              title=\"Convert this dataframe to an interactive table.\"\n",
              "              style=\"display:none;\">\n",
              "        \n",
              "  <svg xmlns=\"http://www.w3.org/2000/svg\" height=\"24px\"viewBox=\"0 0 24 24\"\n",
              "       width=\"24px\">\n",
              "    <path d=\"M0 0h24v24H0V0z\" fill=\"none\"/>\n",
              "    <path d=\"M18.56 5.44l.94 2.06.94-2.06 2.06-.94-2.06-.94-.94-2.06-.94 2.06-2.06.94zm-11 1L8.5 8.5l.94-2.06 2.06-.94-2.06-.94L8.5 2.5l-.94 2.06-2.06.94zm10 10l.94 2.06.94-2.06 2.06-.94-2.06-.94-.94-2.06-.94 2.06-2.06.94z\"/><path d=\"M17.41 7.96l-1.37-1.37c-.4-.4-.92-.59-1.43-.59-.52 0-1.04.2-1.43.59L10.3 9.45l-7.72 7.72c-.78.78-.78 2.05 0 2.83L4 21.41c.39.39.9.59 1.41.59.51 0 1.02-.2 1.41-.59l7.78-7.78 2.81-2.81c.8-.78.8-2.07 0-2.86zM5.41 20L4 18.59l7.72-7.72 1.47 1.35L5.41 20z\"/>\n",
              "  </svg>\n",
              "      </button>\n",
              "      \n",
              "  <style>\n",
              "    .colab-df-container {\n",
              "      display:flex;\n",
              "      flex-wrap:wrap;\n",
              "      gap: 12px;\n",
              "    }\n",
              "\n",
              "    .colab-df-convert {\n",
              "      background-color: #E8F0FE;\n",
              "      border: none;\n",
              "      border-radius: 50%;\n",
              "      cursor: pointer;\n",
              "      display: none;\n",
              "      fill: #1967D2;\n",
              "      height: 32px;\n",
              "      padding: 0 0 0 0;\n",
              "      width: 32px;\n",
              "    }\n",
              "\n",
              "    .colab-df-convert:hover {\n",
              "      background-color: #E2EBFA;\n",
              "      box-shadow: 0px 1px 2px rgba(60, 64, 67, 0.3), 0px 1px 3px 1px rgba(60, 64, 67, 0.15);\n",
              "      fill: #174EA6;\n",
              "    }\n",
              "\n",
              "    [theme=dark] .colab-df-convert {\n",
              "      background-color: #3B4455;\n",
              "      fill: #D2E3FC;\n",
              "    }\n",
              "\n",
              "    [theme=dark] .colab-df-convert:hover {\n",
              "      background-color: #434B5C;\n",
              "      box-shadow: 0px 1px 3px 1px rgba(0, 0, 0, 0.15);\n",
              "      filter: drop-shadow(0px 1px 2px rgba(0, 0, 0, 0.3));\n",
              "      fill: #FFFFFF;\n",
              "    }\n",
              "  </style>\n",
              "\n",
              "      <script>\n",
              "        const buttonEl =\n",
              "          document.querySelector('#df-6fcc73cb-9148-4341-a4db-8cea83c213e4 button.colab-df-convert');\n",
              "        buttonEl.style.display =\n",
              "          google.colab.kernel.accessAllowed ? 'block' : 'none';\n",
              "\n",
              "        async function convertToInteractive(key) {\n",
              "          const element = document.querySelector('#df-6fcc73cb-9148-4341-a4db-8cea83c213e4');\n",
              "          const dataTable =\n",
              "            await google.colab.kernel.invokeFunction('convertToInteractive',\n",
              "                                                     [key], {});\n",
              "          if (!dataTable) return;\n",
              "\n",
              "          const docLinkHtml = 'Like what you see? Visit the ' +\n",
              "            '<a target=\"_blank\" href=https://colab.research.google.com/notebooks/data_table.ipynb>data table notebook</a>'\n",
              "            + ' to learn more about interactive tables.';\n",
              "          element.innerHTML = '';\n",
              "          dataTable['output_type'] = 'display_data';\n",
              "          await google.colab.output.renderOutput(dataTable, element);\n",
              "          const docLink = document.createElement('div');\n",
              "          docLink.innerHTML = docLinkHtml;\n",
              "          element.appendChild(docLink);\n",
              "        }\n",
              "      </script>\n",
              "    </div>\n",
              "  </div>\n",
              "  "
            ]
          },
          "metadata": {},
          "execution_count": 33
        }
      ],
      "source": [
        "Test.describe()"
      ]
    },
    {
      "cell_type": "markdown",
      "metadata": {
        "id": "M9wB7VPFS9PY"
      },
      "source": [
        "##### From the above description it is seen that some attributes have values ranging from 10^7 to 10^13 which seems to be odd. Such attributes are choosen for Feature engineering. \n",
        "##### Inspite of Column Standardisation or Normalisation, Sigmoid and Tanh functions are applied on these attributes as a scaling function and it's correlation with target varibale is compared with its original correlation values."
      ]
    },
    {
      "cell_type": "code",
      "execution_count": 34,
      "metadata": {
        "id": "fdI7Fb-L3YBn"
      },
      "outputs": [],
      "source": [
        "# Sigmoid and TanH Functions.\n",
        "# Instead of using original value, it is added with random normal distributed value just like adding bias to the input value.\n",
        "def Sigmoid(x):\n",
        "  return 1 / (1 + np.exp(-(x + np.random.normal(scale = 0.5)))) \n",
        "def TanH(x):\n",
        "  return np.tanh(x + np.random.normal(scale = 0.5))"
      ]
    },
    {
      "cell_type": "code",
      "execution_count": 35,
      "metadata": {
        "id": "HWxLbNiiwS57"
      },
      "outputs": [],
      "source": [
        "# Creating new attributes based on above description.\n",
        "\n",
        "#Test['smart_1_sig'] = Test['smart_1_raw'].apply(Sigmoid)\n",
        "#Test['smart_7_sig'] = Test['smart_7_raw'].apply(Sigmoid)\n",
        "#Test['smart_188_sig'] = Test['smart_188_raw'].apply(Sigmoid)\n",
        "#Test['smart_193_sig'] = Test['smart_193_raw'].apply(Sigmoid)\n",
        "#Test['smart_240_sig'] = Test['smart_240_raw'].apply(Sigmoid)\n",
        "#Test['smart_241_sig'] = Test['smart_241_raw'].apply(Sigmoid)\n",
        "#Test['smart_242_sig'] = Test['smart_242_raw'].apply(Sigmoid)\n",
        "\n",
        "#Test['smart_1_tan'] = Test['smart_1_raw'].apply(TanH)\n",
        "#Test['smart_7_tan'] = Test['smart_7_raw'].apply(TanH)\n",
        "#Test['smart_188_tan'] = Test['smart_188_raw'].apply(TanH)\n",
        "#Test['smart_193_tan'] = Test['smart_193_raw'].apply(TanH)\n",
        "#Test['smart_240_tan'] = Test['smart_240_raw'].apply(TanH)\n",
        "#Test['smart_241_tan'] = Test['smart_241_raw'].apply(TanH)\n",
        "#Test['smart_242_tan'] = Test['smart_242_raw'].apply(TanH)\n",
        "\n",
        "cf = ['smart_1_raw', 'smart_7_raw', 'smart_188_raw', 'smart_193_raw', 'smart_240_raw', 'smart_241_raw', 'smart_242_raw']\n",
        "for i in cf:\n",
        "   n = re.findall('\\d+',i) \n",
        "   s = 'smart_' + ''.join(n) + '_sig'\n",
        "   t = 'smart_' + ''.join(n) + '_tan'\n",
        "   Test[s] = Test[i].apply(Sigmoid)\n",
        "   Test[t] = Test[i].apply(TanH)"
      ]
    },
    {
      "cell_type": "code",
      "execution_count": 36,
      "metadata": {
        "id": "8sCyRVcpoCuY",
        "colab": {
          "base_uri": "https://localhost:8080/",
          "height": 404
        },
        "outputId": "cb5d99c8-3303-49db-8586-7fd904a488d8"
      },
      "outputs": [
        {
          "output_type": "stream",
          "name": "stdout",
          "text": [
            "Warning: Total number of columns (63) exceeds max_columns (20). Falling back to pandas display.\n"
          ]
        },
        {
          "output_type": "execute_result",
          "data": {
            "text/plain": [
              "        date serial_number          model  capacity_bytes  failure  \\\n",
              "0 2021-01-01      ZLW0EGC6  ST12000NM001G         12000.0        0   \n",
              "1 2021-01-01      Z305B2QN    ST4000DM000          4000.0        0   \n",
              "2 2021-01-01      ZLW0C6NE  ST12000NM001G         12000.0        0   \n",
              "3 2021-01-01      ZJV0XJQ3  ST12000NM0007         12000.0        0   \n",
              "4 2021-01-01      ZLW18MKT  ST14000NM001G         14000.0        0   \n",
              "\n",
              "   smart_1_normalized  smart_1_raw  smart_3_normalized  smart_3_raw  \\\n",
              "0                83.0  213166608.0                99.0          0.0   \n",
              "1               114.0   79306032.0                91.0          0.0   \n",
              "2                72.0   17162816.0                98.0          0.0   \n",
              "3               100.0    1102160.0                98.0          0.0   \n",
              "4                75.0   33233248.0                95.0          0.0   \n",
              "\n",
              "   smart_4_normalized  ...  smart_188_sig  smart_188_tan  smart_193_sig  \\\n",
              "0               100.0  ...       0.450770      -0.234189            1.0   \n",
              "1               100.0  ...       0.278187      -0.372412            1.0   \n",
              "2               100.0  ...       0.707116      -0.067363            1.0   \n",
              "3               100.0  ...       0.464356       0.006807            1.0   \n",
              "4               100.0  ...       0.546858       0.289808            1.0   \n",
              "\n",
              "   smart_193_tan  smart_240_sig  smart_240_tan  smart_241_sig  smart_241_tan  \\\n",
              "0            1.0            1.0            1.0            1.0            1.0   \n",
              "1            1.0            1.0            1.0            1.0            1.0   \n",
              "2            1.0            1.0            1.0            1.0            1.0   \n",
              "3            1.0            1.0            1.0            1.0            1.0   \n",
              "4            1.0            1.0            1.0            1.0            1.0   \n",
              "\n",
              "   smart_242_sig  smart_242_tan  \n",
              "0            1.0            1.0  \n",
              "1            1.0            1.0  \n",
              "2            1.0            1.0  \n",
              "3            1.0            1.0  \n",
              "4            1.0            1.0  \n",
              "\n",
              "[5 rows x 63 columns]"
            ],
            "text/html": [
              "\n",
              "  <div id=\"df-33e95ea9-8a85-4c73-9bd5-4641adf2f26c\">\n",
              "    <div class=\"colab-df-container\">\n",
              "      <div>\n",
              "<style scoped>\n",
              "    .dataframe tbody tr th:only-of-type {\n",
              "        vertical-align: middle;\n",
              "    }\n",
              "\n",
              "    .dataframe tbody tr th {\n",
              "        vertical-align: top;\n",
              "    }\n",
              "\n",
              "    .dataframe thead th {\n",
              "        text-align: right;\n",
              "    }\n",
              "</style>\n",
              "<table border=\"1\" class=\"dataframe\">\n",
              "  <thead>\n",
              "    <tr style=\"text-align: right;\">\n",
              "      <th></th>\n",
              "      <th>date</th>\n",
              "      <th>serial_number</th>\n",
              "      <th>model</th>\n",
              "      <th>capacity_bytes</th>\n",
              "      <th>failure</th>\n",
              "      <th>smart_1_normalized</th>\n",
              "      <th>smart_1_raw</th>\n",
              "      <th>smart_3_normalized</th>\n",
              "      <th>smart_3_raw</th>\n",
              "      <th>smart_4_normalized</th>\n",
              "      <th>...</th>\n",
              "      <th>smart_188_sig</th>\n",
              "      <th>smart_188_tan</th>\n",
              "      <th>smart_193_sig</th>\n",
              "      <th>smart_193_tan</th>\n",
              "      <th>smart_240_sig</th>\n",
              "      <th>smart_240_tan</th>\n",
              "      <th>smart_241_sig</th>\n",
              "      <th>smart_241_tan</th>\n",
              "      <th>smart_242_sig</th>\n",
              "      <th>smart_242_tan</th>\n",
              "    </tr>\n",
              "  </thead>\n",
              "  <tbody>\n",
              "    <tr>\n",
              "      <th>0</th>\n",
              "      <td>2021-01-01</td>\n",
              "      <td>ZLW0EGC6</td>\n",
              "      <td>ST12000NM001G</td>\n",
              "      <td>12000.0</td>\n",
              "      <td>0</td>\n",
              "      <td>83.0</td>\n",
              "      <td>213166608.0</td>\n",
              "      <td>99.0</td>\n",
              "      <td>0.0</td>\n",
              "      <td>100.0</td>\n",
              "      <td>...</td>\n",
              "      <td>0.450770</td>\n",
              "      <td>-0.234189</td>\n",
              "      <td>1.0</td>\n",
              "      <td>1.0</td>\n",
              "      <td>1.0</td>\n",
              "      <td>1.0</td>\n",
              "      <td>1.0</td>\n",
              "      <td>1.0</td>\n",
              "      <td>1.0</td>\n",
              "      <td>1.0</td>\n",
              "    </tr>\n",
              "    <tr>\n",
              "      <th>1</th>\n",
              "      <td>2021-01-01</td>\n",
              "      <td>Z305B2QN</td>\n",
              "      <td>ST4000DM000</td>\n",
              "      <td>4000.0</td>\n",
              "      <td>0</td>\n",
              "      <td>114.0</td>\n",
              "      <td>79306032.0</td>\n",
              "      <td>91.0</td>\n",
              "      <td>0.0</td>\n",
              "      <td>100.0</td>\n",
              "      <td>...</td>\n",
              "      <td>0.278187</td>\n",
              "      <td>-0.372412</td>\n",
              "      <td>1.0</td>\n",
              "      <td>1.0</td>\n",
              "      <td>1.0</td>\n",
              "      <td>1.0</td>\n",
              "      <td>1.0</td>\n",
              "      <td>1.0</td>\n",
              "      <td>1.0</td>\n",
              "      <td>1.0</td>\n",
              "    </tr>\n",
              "    <tr>\n",
              "      <th>2</th>\n",
              "      <td>2021-01-01</td>\n",
              "      <td>ZLW0C6NE</td>\n",
              "      <td>ST12000NM001G</td>\n",
              "      <td>12000.0</td>\n",
              "      <td>0</td>\n",
              "      <td>72.0</td>\n",
              "      <td>17162816.0</td>\n",
              "      <td>98.0</td>\n",
              "      <td>0.0</td>\n",
              "      <td>100.0</td>\n",
              "      <td>...</td>\n",
              "      <td>0.707116</td>\n",
              "      <td>-0.067363</td>\n",
              "      <td>1.0</td>\n",
              "      <td>1.0</td>\n",
              "      <td>1.0</td>\n",
              "      <td>1.0</td>\n",
              "      <td>1.0</td>\n",
              "      <td>1.0</td>\n",
              "      <td>1.0</td>\n",
              "      <td>1.0</td>\n",
              "    </tr>\n",
              "    <tr>\n",
              "      <th>3</th>\n",
              "      <td>2021-01-01</td>\n",
              "      <td>ZJV0XJQ3</td>\n",
              "      <td>ST12000NM0007</td>\n",
              "      <td>12000.0</td>\n",
              "      <td>0</td>\n",
              "      <td>100.0</td>\n",
              "      <td>1102160.0</td>\n",
              "      <td>98.0</td>\n",
              "      <td>0.0</td>\n",
              "      <td>100.0</td>\n",
              "      <td>...</td>\n",
              "      <td>0.464356</td>\n",
              "      <td>0.006807</td>\n",
              "      <td>1.0</td>\n",
              "      <td>1.0</td>\n",
              "      <td>1.0</td>\n",
              "      <td>1.0</td>\n",
              "      <td>1.0</td>\n",
              "      <td>1.0</td>\n",
              "      <td>1.0</td>\n",
              "      <td>1.0</td>\n",
              "    </tr>\n",
              "    <tr>\n",
              "      <th>4</th>\n",
              "      <td>2021-01-01</td>\n",
              "      <td>ZLW18MKT</td>\n",
              "      <td>ST14000NM001G</td>\n",
              "      <td>14000.0</td>\n",
              "      <td>0</td>\n",
              "      <td>75.0</td>\n",
              "      <td>33233248.0</td>\n",
              "      <td>95.0</td>\n",
              "      <td>0.0</td>\n",
              "      <td>100.0</td>\n",
              "      <td>...</td>\n",
              "      <td>0.546858</td>\n",
              "      <td>0.289808</td>\n",
              "      <td>1.0</td>\n",
              "      <td>1.0</td>\n",
              "      <td>1.0</td>\n",
              "      <td>1.0</td>\n",
              "      <td>1.0</td>\n",
              "      <td>1.0</td>\n",
              "      <td>1.0</td>\n",
              "      <td>1.0</td>\n",
              "    </tr>\n",
              "  </tbody>\n",
              "</table>\n",
              "<p>5 rows × 63 columns</p>\n",
              "</div>\n",
              "      <button class=\"colab-df-convert\" onclick=\"convertToInteractive('df-33e95ea9-8a85-4c73-9bd5-4641adf2f26c')\"\n",
              "              title=\"Convert this dataframe to an interactive table.\"\n",
              "              style=\"display:none;\">\n",
              "        \n",
              "  <svg xmlns=\"http://www.w3.org/2000/svg\" height=\"24px\"viewBox=\"0 0 24 24\"\n",
              "       width=\"24px\">\n",
              "    <path d=\"M0 0h24v24H0V0z\" fill=\"none\"/>\n",
              "    <path d=\"M18.56 5.44l.94 2.06.94-2.06 2.06-.94-2.06-.94-.94-2.06-.94 2.06-2.06.94zm-11 1L8.5 8.5l.94-2.06 2.06-.94-2.06-.94L8.5 2.5l-.94 2.06-2.06.94zm10 10l.94 2.06.94-2.06 2.06-.94-2.06-.94-.94-2.06-.94 2.06-2.06.94z\"/><path d=\"M17.41 7.96l-1.37-1.37c-.4-.4-.92-.59-1.43-.59-.52 0-1.04.2-1.43.59L10.3 9.45l-7.72 7.72c-.78.78-.78 2.05 0 2.83L4 21.41c.39.39.9.59 1.41.59.51 0 1.02-.2 1.41-.59l7.78-7.78 2.81-2.81c.8-.78.8-2.07 0-2.86zM5.41 20L4 18.59l7.72-7.72 1.47 1.35L5.41 20z\"/>\n",
              "  </svg>\n",
              "      </button>\n",
              "      \n",
              "  <style>\n",
              "    .colab-df-container {\n",
              "      display:flex;\n",
              "      flex-wrap:wrap;\n",
              "      gap: 12px;\n",
              "    }\n",
              "\n",
              "    .colab-df-convert {\n",
              "      background-color: #E8F0FE;\n",
              "      border: none;\n",
              "      border-radius: 50%;\n",
              "      cursor: pointer;\n",
              "      display: none;\n",
              "      fill: #1967D2;\n",
              "      height: 32px;\n",
              "      padding: 0 0 0 0;\n",
              "      width: 32px;\n",
              "    }\n",
              "\n",
              "    .colab-df-convert:hover {\n",
              "      background-color: #E2EBFA;\n",
              "      box-shadow: 0px 1px 2px rgba(60, 64, 67, 0.3), 0px 1px 3px 1px rgba(60, 64, 67, 0.15);\n",
              "      fill: #174EA6;\n",
              "    }\n",
              "\n",
              "    [theme=dark] .colab-df-convert {\n",
              "      background-color: #3B4455;\n",
              "      fill: #D2E3FC;\n",
              "    }\n",
              "\n",
              "    [theme=dark] .colab-df-convert:hover {\n",
              "      background-color: #434B5C;\n",
              "      box-shadow: 0px 1px 3px 1px rgba(0, 0, 0, 0.15);\n",
              "      filter: drop-shadow(0px 1px 2px rgba(0, 0, 0, 0.3));\n",
              "      fill: #FFFFFF;\n",
              "    }\n",
              "  </style>\n",
              "\n",
              "      <script>\n",
              "        const buttonEl =\n",
              "          document.querySelector('#df-33e95ea9-8a85-4c73-9bd5-4641adf2f26c button.colab-df-convert');\n",
              "        buttonEl.style.display =\n",
              "          google.colab.kernel.accessAllowed ? 'block' : 'none';\n",
              "\n",
              "        async function convertToInteractive(key) {\n",
              "          const element = document.querySelector('#df-33e95ea9-8a85-4c73-9bd5-4641adf2f26c');\n",
              "          const dataTable =\n",
              "            await google.colab.kernel.invokeFunction('convertToInteractive',\n",
              "                                                     [key], {});\n",
              "          if (!dataTable) return;\n",
              "\n",
              "          const docLinkHtml = 'Like what you see? Visit the ' +\n",
              "            '<a target=\"_blank\" href=https://colab.research.google.com/notebooks/data_table.ipynb>data table notebook</a>'\n",
              "            + ' to learn more about interactive tables.';\n",
              "          element.innerHTML = '';\n",
              "          dataTable['output_type'] = 'display_data';\n",
              "          await google.colab.output.renderOutput(dataTable, element);\n",
              "          const docLink = document.createElement('div');\n",
              "          docLink.innerHTML = docLinkHtml;\n",
              "          element.appendChild(docLink);\n",
              "        }\n",
              "      </script>\n",
              "    </div>\n",
              "  </div>\n",
              "  "
            ]
          },
          "metadata": {},
          "execution_count": 36
        }
      ],
      "source": [
        "Test.head()"
      ]
    },
    {
      "cell_type": "code",
      "execution_count": 37,
      "metadata": {
        "id": "1ZQ2B73No_u6",
        "colab": {
          "base_uri": "https://localhost:8080/"
        },
        "outputId": "4c080c95-4a66-471d-99aa-e5b5f8af5b90"
      },
      "outputs": [
        {
          "output_type": "stream",
          "name": "stdout",
          "text": [
            "smart_1_raw feature Correlation with target(Failure) is 0.0004930565827411704\n",
            "smart_1_sig feature Correlation with target(Failure) is 0.0012394507823508013\n",
            "smart_1_tan feature Correlation with target(Failure) is 0.0012923800761721262\n",
            "\n",
            "smart_7_raw feature Correlation with target(Failure) is -1.8360522051362562e-05\n",
            "smart_7_sig feature Correlation with target(Failure) is 0.0008390321598985323\n",
            "smart_7_tan feature Correlation with target(Failure) is 0.000551557228095322\n",
            "\n",
            "smart_188_raw feature Correlation with target(Failure) is 0.00044184288658845447\n",
            "smart_188_sig feature Correlation with target(Failure) is -0.0003813131457642028\n",
            "smart_188_tan feature Correlation with target(Failure) is 0.00034793320880466787\n",
            "\n",
            "smart_193_raw feature Correlation with target(Failure) is -0.0016981571065426927\n",
            "smart_193_sig feature Correlation with target(Failure) is -0.003094926604939239\n",
            "smart_193_tan feature Correlation with target(Failure) is -0.00468170659009642\n",
            "\n",
            "smart_240_raw feature Correlation with target(Failure) is 0.00028027466558763574\n",
            "smart_240_sig feature Correlation with target(Failure) is 0.0010552167169874797\n",
            "smart_240_tan feature Correlation with target(Failure) is 0.001235915705232004\n",
            "\n",
            "smart_241_raw feature Correlation with target(Failure) is 0.0012396855933433362\n",
            "smart_241_sig feature Correlation with target(Failure) is 0.0008942478236303777\n",
            "smart_241_tan feature Correlation with target(Failure) is 0.0007706612379416105\n",
            "\n",
            "smart_242_raw feature Correlation with target(Failure) is 0.0004745561839035194\n",
            "smart_242_sig feature Correlation with target(Failure) is 0.0017031507476747505\n",
            "smart_242_tan feature Correlation with target(Failure) is 0.0008226562722949182\n",
            "\n"
          ]
        }
      ],
      "source": [
        "# Checking the correlation of attributes with target variable.\n",
        "cf = ['smart_1_raw', 'smart_1_sig', 'smart_1_tan', 'smart_7_raw', 'smart_7_sig', 'smart_7_tan', 'smart_188_raw', 'smart_188_sig', 'smart_188_tan', 'smart_193_raw', 'smart_193_sig', 'smart_193_tan', 'smart_240_raw', 'smart_240_sig', 'smart_240_tan', 'smart_241_raw', 'smart_241_sig', 'smart_241_tan', 'smart_242_raw', 'smart_242_sig', 'smart_242_tan']\n",
        "j = 1\n",
        "for i in cf:\n",
        "  print(i + ' feature' + ' Correlation with target(Failure)' + ' is ' + str(Test[i].corr(Test['failure']))) # This line computes the correlation.\n",
        "  if(j % 3 == 0):\n",
        "    print()\n",
        "  j+=1"
      ]
    },
    {
      "cell_type": "markdown",
      "metadata": {
        "id": "jmNIV-zWXY2Z"
      },
      "source": [
        "##### From the above correlation values, attributes obtained from Sigmoid function shows the better correlation than the TanH function. It also show good values when compared with original raw values. \n",
        "##### But, smart_241_sig correlation values are still less than it's original raw values, which seems that sigmoidal values dosen't improve the correlation result. Thus, these attributes are not used for feature engineering."
      ]
    },
    {
      "cell_type": "markdown",
      "metadata": {
        "id": "27XNBP5-v-XL"
      },
      "source": [
        "#### Response Encoding the \"Model\" feature.\n",
        "\n",
        "> It is a method of creating the True and False probabilities for Categorical Data.\n",
        "\n",
        "> True Probability = No. of (respec. cat. data with target = 1) / (Total no. of that cat. data).\n",
        "\n",
        "> False Probability = No. of (respec. cat. data with target = 0) / (Total no. of that cat. data).\n",
        "\n",
        "\n",
        "\n",
        "\n",
        "\n",
        "\n",
        "\n"
      ]
    },
    {
      "cell_type": "code",
      "execution_count": 38,
      "metadata": {
        "id": "7McICI9RIuwZ"
      },
      "outputs": [],
      "source": [
        "# Function for Claculating the probabilities of categorical data.\n",
        "def res_fit(cat, Y):\n",
        "    j = dict(cat.value_counts()) # Storing the counts of each category in Dictionary. \n",
        "    true, false = 0, 0\n",
        "    TRUE, FALSE = {}, {} \n",
        "    for key, value in j.items(): # Iterating over each category\n",
        "        sum, neg, = 0, 0\n",
        "        for state, y in zip(cat, Y): # Iterating over every data in given Series\n",
        "            if (key == state and y == 1): \n",
        "                sum+= 1              # Calculating count when target of respective category data is 1\n",
        "            elif (key == state and y == 0):\n",
        "                neg+= 1              # Calculating count when target of respective category data is 0\n",
        "        true = sum / value           # Dividing the True count with the respective total category count.\n",
        "        false = neg / value          # Dividing the False count with the respective total category count.\n",
        "        TRUE[key] = true\n",
        "        FALSE[key] = false           # The respective category data with it's True probability and False probability is stored in dictionary.\n",
        "    return j, TRUE, FALSE"
      ]
    },
    {
      "cell_type": "code",
      "execution_count": 39,
      "metadata": {
        "id": "btVcJmKdIvE3"
      },
      "outputs": [],
      "source": [
        "# Function for transforming the query data points into respective calculated probability values.\n",
        "def res_transform(cat, TRUE, FALSE):\n",
        "    t = []\n",
        "    f = []\n",
        "    for state in cat: # Iterating over each data point in a given query series.\n",
        "        for ((key_t, value_t), (key_f, value_f)) in zip(TRUE.items(), FALSE.items()): # Iterating over the calculated True and False probabilities \n",
        "\n",
        "            # When the respective category data from query series is matched, it is then appended with it's respective probability values. \n",
        "            if state == key_t and state == key_f: \n",
        "                t.append(value_t)                 \n",
        "                f.append(value_f)\n",
        "                break\n",
        "        else :           # Incase, when the unknown category data is found, it's True and False probability values are considered as 0.5 and 0.5.\n",
        "                t.append(1/2)\n",
        "                f.append(1/2) \n",
        "\n",
        "    X_t = np.array(t).reshape(-1, 1)\n",
        "    X_f = np.array(f).reshape(-1, 1) # Reshaping the above array\n",
        "    \n",
        "    return np.concatenate((X_t, X_f), axis = 1) "
      ]
    },
    {
      "cell_type": "code",
      "execution_count": 40,
      "metadata": {
        "id": "kKINAanZGen2"
      },
      "outputs": [],
      "source": [
        "del Test"
      ]
    },
    {
      "cell_type": "markdown",
      "metadata": {
        "id": "uVf3UCABZMB0"
      },
      "source": [
        "# 5. Final Dataset\n",
        "\n",
        "\n",
        "\n"
      ]
    },
    {
      "cell_type": "markdown",
      "metadata": {
        "id": "Ju7gmaq1K8EF"
      },
      "source": [
        "> From the above task, attributes with respective transformation which given better correlation values than it's original raw values are used as a attributes for feature transformation in final dataset."
      ]
    },
    {
      "cell_type": "code",
      "execution_count": 41,
      "metadata": {
        "id": "u9a7v5ke1bxf",
        "colab": {
          "base_uri": "https://localhost:8080/"
        },
        "outputId": "3f83bed0-c0c7-45e4-df57-0f61c853d867"
      },
      "outputs": [
        {
          "output_type": "stream",
          "name": "stdout",
          "text": [
            "Original shape of Data :  (827423, 49)\n",
            "Final shape of Data :  (827423, 55)\n"
          ]
        }
      ],
      "source": [
        "print(\"Original shape of Data : \", Data.shape)\n",
        "cf = ['smart_1_raw', 'smart_7_raw', 'smart_188_raw', 'smart_193_raw', 'smart_240_raw', 'smart_242_raw']\n",
        "for i in cf:\n",
        "   n = re.findall('\\d+',i) \n",
        "   s = 'smart_' + ''.join(n) + '_sig'\n",
        "   Data[s] = Data[i].apply(Sigmoid)\n",
        "\n",
        "print(\"Final shape of Data : \", Data.shape)"
      ]
    },
    {
      "cell_type": "code",
      "execution_count": 42,
      "metadata": {
        "id": "j5nCyDpc-rFu",
        "colab": {
          "base_uri": "https://localhost:8080/",
          "height": 404
        },
        "outputId": "fde8c4c0-99b3-42e5-de7d-d692b4e74ae5"
      },
      "outputs": [
        {
          "output_type": "stream",
          "name": "stdout",
          "text": [
            "Warning: Total number of columns (55) exceeds max_columns (20). Falling back to pandas display.\n"
          ]
        },
        {
          "output_type": "execute_result",
          "data": {
            "text/plain": [
              "        date serial_number          model  capacity_bytes  failure  \\\n",
              "0 2021-01-01      ZLW0EGC6  ST12000NM001G         12000.0        0   \n",
              "1 2021-01-01      Z305B2QN    ST4000DM000          4000.0        0   \n",
              "2 2021-01-01      ZLW0C6NE  ST12000NM001G         12000.0        0   \n",
              "3 2021-01-01      ZJV0XJQ3  ST12000NM0007         12000.0        0   \n",
              "4 2021-01-01      ZLW18MKT  ST14000NM001G         14000.0        0   \n",
              "\n",
              "   smart_1_normalized  smart_1_raw  smart_3_normalized  smart_3_raw  \\\n",
              "0                83.0  213166608.0                99.0          0.0   \n",
              "1               114.0   79306032.0                91.0          0.0   \n",
              "2                72.0   17162816.0                98.0          0.0   \n",
              "3               100.0    1102160.0                98.0          0.0   \n",
              "4                75.0   33233248.0                95.0          0.0   \n",
              "\n",
              "   smart_4_normalized  ...  smart_241_normalized  smart_241_raw  \\\n",
              "0               100.0  ...                 100.0   4.839342e+10   \n",
              "1               100.0  ...                 100.0   5.940338e+10   \n",
              "2               100.0  ...                 100.0   4.917863e+10   \n",
              "3               100.0  ...                 100.0   5.260102e+10   \n",
              "4               100.0  ...                 100.0   1.647225e+10   \n",
              "\n",
              "   smart_242_normalized  smart_242_raw  smart_1_sig  smart_7_sig  \\\n",
              "0                 100.0   7.022831e+10          1.0          1.0   \n",
              "1                 100.0   5.457889e+11          1.0          1.0   \n",
              "2                 100.0   8.706921e+10          1.0          1.0   \n",
              "3                 100.0   1.295292e+11          1.0          1.0   \n",
              "4                 100.0   1.872005e+10          1.0          1.0   \n",
              "\n",
              "   smart_188_sig  smart_193_sig  smart_240_sig  smart_242_sig  \n",
              "0       0.430634            1.0            1.0            1.0  \n",
              "1       0.451259            1.0            1.0            1.0  \n",
              "2       0.489407            1.0            1.0            1.0  \n",
              "3       0.407276            1.0            1.0            1.0  \n",
              "4       0.519472            1.0            1.0            1.0  \n",
              "\n",
              "[5 rows x 55 columns]"
            ],
            "text/html": [
              "\n",
              "  <div id=\"df-960fb52e-1d1c-4f5f-8273-2fcbe455637f\">\n",
              "    <div class=\"colab-df-container\">\n",
              "      <div>\n",
              "<style scoped>\n",
              "    .dataframe tbody tr th:only-of-type {\n",
              "        vertical-align: middle;\n",
              "    }\n",
              "\n",
              "    .dataframe tbody tr th {\n",
              "        vertical-align: top;\n",
              "    }\n",
              "\n",
              "    .dataframe thead th {\n",
              "        text-align: right;\n",
              "    }\n",
              "</style>\n",
              "<table border=\"1\" class=\"dataframe\">\n",
              "  <thead>\n",
              "    <tr style=\"text-align: right;\">\n",
              "      <th></th>\n",
              "      <th>date</th>\n",
              "      <th>serial_number</th>\n",
              "      <th>model</th>\n",
              "      <th>capacity_bytes</th>\n",
              "      <th>failure</th>\n",
              "      <th>smart_1_normalized</th>\n",
              "      <th>smart_1_raw</th>\n",
              "      <th>smart_3_normalized</th>\n",
              "      <th>smart_3_raw</th>\n",
              "      <th>smart_4_normalized</th>\n",
              "      <th>...</th>\n",
              "      <th>smart_241_normalized</th>\n",
              "      <th>smart_241_raw</th>\n",
              "      <th>smart_242_normalized</th>\n",
              "      <th>smart_242_raw</th>\n",
              "      <th>smart_1_sig</th>\n",
              "      <th>smart_7_sig</th>\n",
              "      <th>smart_188_sig</th>\n",
              "      <th>smart_193_sig</th>\n",
              "      <th>smart_240_sig</th>\n",
              "      <th>smart_242_sig</th>\n",
              "    </tr>\n",
              "  </thead>\n",
              "  <tbody>\n",
              "    <tr>\n",
              "      <th>0</th>\n",
              "      <td>2021-01-01</td>\n",
              "      <td>ZLW0EGC6</td>\n",
              "      <td>ST12000NM001G</td>\n",
              "      <td>12000.0</td>\n",
              "      <td>0</td>\n",
              "      <td>83.0</td>\n",
              "      <td>213166608.0</td>\n",
              "      <td>99.0</td>\n",
              "      <td>0.0</td>\n",
              "      <td>100.0</td>\n",
              "      <td>...</td>\n",
              "      <td>100.0</td>\n",
              "      <td>4.839342e+10</td>\n",
              "      <td>100.0</td>\n",
              "      <td>7.022831e+10</td>\n",
              "      <td>1.0</td>\n",
              "      <td>1.0</td>\n",
              "      <td>0.430634</td>\n",
              "      <td>1.0</td>\n",
              "      <td>1.0</td>\n",
              "      <td>1.0</td>\n",
              "    </tr>\n",
              "    <tr>\n",
              "      <th>1</th>\n",
              "      <td>2021-01-01</td>\n",
              "      <td>Z305B2QN</td>\n",
              "      <td>ST4000DM000</td>\n",
              "      <td>4000.0</td>\n",
              "      <td>0</td>\n",
              "      <td>114.0</td>\n",
              "      <td>79306032.0</td>\n",
              "      <td>91.0</td>\n",
              "      <td>0.0</td>\n",
              "      <td>100.0</td>\n",
              "      <td>...</td>\n",
              "      <td>100.0</td>\n",
              "      <td>5.940338e+10</td>\n",
              "      <td>100.0</td>\n",
              "      <td>5.457889e+11</td>\n",
              "      <td>1.0</td>\n",
              "      <td>1.0</td>\n",
              "      <td>0.451259</td>\n",
              "      <td>1.0</td>\n",
              "      <td>1.0</td>\n",
              "      <td>1.0</td>\n",
              "    </tr>\n",
              "    <tr>\n",
              "      <th>2</th>\n",
              "      <td>2021-01-01</td>\n",
              "      <td>ZLW0C6NE</td>\n",
              "      <td>ST12000NM001G</td>\n",
              "      <td>12000.0</td>\n",
              "      <td>0</td>\n",
              "      <td>72.0</td>\n",
              "      <td>17162816.0</td>\n",
              "      <td>98.0</td>\n",
              "      <td>0.0</td>\n",
              "      <td>100.0</td>\n",
              "      <td>...</td>\n",
              "      <td>100.0</td>\n",
              "      <td>4.917863e+10</td>\n",
              "      <td>100.0</td>\n",
              "      <td>8.706921e+10</td>\n",
              "      <td>1.0</td>\n",
              "      <td>1.0</td>\n",
              "      <td>0.489407</td>\n",
              "      <td>1.0</td>\n",
              "      <td>1.0</td>\n",
              "      <td>1.0</td>\n",
              "    </tr>\n",
              "    <tr>\n",
              "      <th>3</th>\n",
              "      <td>2021-01-01</td>\n",
              "      <td>ZJV0XJQ3</td>\n",
              "      <td>ST12000NM0007</td>\n",
              "      <td>12000.0</td>\n",
              "      <td>0</td>\n",
              "      <td>100.0</td>\n",
              "      <td>1102160.0</td>\n",
              "      <td>98.0</td>\n",
              "      <td>0.0</td>\n",
              "      <td>100.0</td>\n",
              "      <td>...</td>\n",
              "      <td>100.0</td>\n",
              "      <td>5.260102e+10</td>\n",
              "      <td>100.0</td>\n",
              "      <td>1.295292e+11</td>\n",
              "      <td>1.0</td>\n",
              "      <td>1.0</td>\n",
              "      <td>0.407276</td>\n",
              "      <td>1.0</td>\n",
              "      <td>1.0</td>\n",
              "      <td>1.0</td>\n",
              "    </tr>\n",
              "    <tr>\n",
              "      <th>4</th>\n",
              "      <td>2021-01-01</td>\n",
              "      <td>ZLW18MKT</td>\n",
              "      <td>ST14000NM001G</td>\n",
              "      <td>14000.0</td>\n",
              "      <td>0</td>\n",
              "      <td>75.0</td>\n",
              "      <td>33233248.0</td>\n",
              "      <td>95.0</td>\n",
              "      <td>0.0</td>\n",
              "      <td>100.0</td>\n",
              "      <td>...</td>\n",
              "      <td>100.0</td>\n",
              "      <td>1.647225e+10</td>\n",
              "      <td>100.0</td>\n",
              "      <td>1.872005e+10</td>\n",
              "      <td>1.0</td>\n",
              "      <td>1.0</td>\n",
              "      <td>0.519472</td>\n",
              "      <td>1.0</td>\n",
              "      <td>1.0</td>\n",
              "      <td>1.0</td>\n",
              "    </tr>\n",
              "  </tbody>\n",
              "</table>\n",
              "<p>5 rows × 55 columns</p>\n",
              "</div>\n",
              "      <button class=\"colab-df-convert\" onclick=\"convertToInteractive('df-960fb52e-1d1c-4f5f-8273-2fcbe455637f')\"\n",
              "              title=\"Convert this dataframe to an interactive table.\"\n",
              "              style=\"display:none;\">\n",
              "        \n",
              "  <svg xmlns=\"http://www.w3.org/2000/svg\" height=\"24px\"viewBox=\"0 0 24 24\"\n",
              "       width=\"24px\">\n",
              "    <path d=\"M0 0h24v24H0V0z\" fill=\"none\"/>\n",
              "    <path d=\"M18.56 5.44l.94 2.06.94-2.06 2.06-.94-2.06-.94-.94-2.06-.94 2.06-2.06.94zm-11 1L8.5 8.5l.94-2.06 2.06-.94-2.06-.94L8.5 2.5l-.94 2.06-2.06.94zm10 10l.94 2.06.94-2.06 2.06-.94-2.06-.94-.94-2.06-.94 2.06-2.06.94z\"/><path d=\"M17.41 7.96l-1.37-1.37c-.4-.4-.92-.59-1.43-.59-.52 0-1.04.2-1.43.59L10.3 9.45l-7.72 7.72c-.78.78-.78 2.05 0 2.83L4 21.41c.39.39.9.59 1.41.59.51 0 1.02-.2 1.41-.59l7.78-7.78 2.81-2.81c.8-.78.8-2.07 0-2.86zM5.41 20L4 18.59l7.72-7.72 1.47 1.35L5.41 20z\"/>\n",
              "  </svg>\n",
              "      </button>\n",
              "      \n",
              "  <style>\n",
              "    .colab-df-container {\n",
              "      display:flex;\n",
              "      flex-wrap:wrap;\n",
              "      gap: 12px;\n",
              "    }\n",
              "\n",
              "    .colab-df-convert {\n",
              "      background-color: #E8F0FE;\n",
              "      border: none;\n",
              "      border-radius: 50%;\n",
              "      cursor: pointer;\n",
              "      display: none;\n",
              "      fill: #1967D2;\n",
              "      height: 32px;\n",
              "      padding: 0 0 0 0;\n",
              "      width: 32px;\n",
              "    }\n",
              "\n",
              "    .colab-df-convert:hover {\n",
              "      background-color: #E2EBFA;\n",
              "      box-shadow: 0px 1px 2px rgba(60, 64, 67, 0.3), 0px 1px 3px 1px rgba(60, 64, 67, 0.15);\n",
              "      fill: #174EA6;\n",
              "    }\n",
              "\n",
              "    [theme=dark] .colab-df-convert {\n",
              "      background-color: #3B4455;\n",
              "      fill: #D2E3FC;\n",
              "    }\n",
              "\n",
              "    [theme=dark] .colab-df-convert:hover {\n",
              "      background-color: #434B5C;\n",
              "      box-shadow: 0px 1px 3px 1px rgba(0, 0, 0, 0.15);\n",
              "      filter: drop-shadow(0px 1px 2px rgba(0, 0, 0, 0.3));\n",
              "      fill: #FFFFFF;\n",
              "    }\n",
              "  </style>\n",
              "\n",
              "      <script>\n",
              "        const buttonEl =\n",
              "          document.querySelector('#df-960fb52e-1d1c-4f5f-8273-2fcbe455637f button.colab-df-convert');\n",
              "        buttonEl.style.display =\n",
              "          google.colab.kernel.accessAllowed ? 'block' : 'none';\n",
              "\n",
              "        async function convertToInteractive(key) {\n",
              "          const element = document.querySelector('#df-960fb52e-1d1c-4f5f-8273-2fcbe455637f');\n",
              "          const dataTable =\n",
              "            await google.colab.kernel.invokeFunction('convertToInteractive',\n",
              "                                                     [key], {});\n",
              "          if (!dataTable) return;\n",
              "\n",
              "          const docLinkHtml = 'Like what you see? Visit the ' +\n",
              "            '<a target=\"_blank\" href=https://colab.research.google.com/notebooks/data_table.ipynb>data table notebook</a>'\n",
              "            + ' to learn more about interactive tables.';\n",
              "          element.innerHTML = '';\n",
              "          dataTable['output_type'] = 'display_data';\n",
              "          await google.colab.output.renderOutput(dataTable, element);\n",
              "          const docLink = document.createElement('div');\n",
              "          docLink.innerHTML = docLinkHtml;\n",
              "          element.appendChild(docLink);\n",
              "        }\n",
              "      </script>\n",
              "    </div>\n",
              "  </div>\n",
              "  "
            ]
          },
          "metadata": {},
          "execution_count": 42
        }
      ],
      "source": [
        "Data.head()"
      ]
    },
    {
      "cell_type": "code",
      "execution_count": 43,
      "metadata": {
        "id": "3QAlS29T6rlB"
      },
      "outputs": [],
      "source": [
        "# Splitting the Dataset into Train and Val Dataset based on date\n",
        "split_date = '2021-01-03'"
      ]
    },
    {
      "cell_type": "code",
      "execution_count": 44,
      "metadata": {
        "id": "DzBEaUAp6_fi",
        "colab": {
          "base_uri": "https://localhost:8080/"
        },
        "outputId": "33f2dbc0-003a-40be-bf4d-a7ffea14c93a"
      },
      "outputs": [
        {
          "output_type": "stream",
          "name": "stdout",
          "text": [
            "(496415, 55) (331008, 55)\n"
          ]
        }
      ],
      "source": [
        "Train = Data.loc[Data.date <= split_date]\n",
        "Val = Data.loc[Data.date > split_date]\n",
        "print(Train.shape, Val.shape)"
      ]
    },
    {
      "cell_type": "code",
      "execution_count": 45,
      "metadata": {
        "id": "SYGMOpVx6xox",
        "colab": {
          "base_uri": "https://localhost:8080/"
        },
        "outputId": "5ae0d319-7669-4a8e-a618-17f9bf36b87b"
      },
      "outputs": [
        {
          "output_type": "stream",
          "name": "stdout",
          "text": [
            "{'ST12000NM0007': 69106, 'TOSHIBA MG07ACA14TA': 63099, 'ST12000NM0008': 57859, 'ST4000DM000': 56775, 'ST8000NM0055': 43219, 'HGST HMS5C4040BLE640': 38229, 'HGST HUH721212ALN604': 32490, 'ST8000DM002': 29310, 'ST12000NM001G': 21386, 'ST14000NM001G': 17961, 'WDC WUH721414ALE6L4': 17686, 'HGST HMS5C4040ALE640': 9241, 'HGST HUH721212ALE600': 7800, 'HGST HUH721212ALE604': 7518, 'ST10000NM0086': 3603, 'HGST HUH728080ALE600': 3238, 'TOSHIBA MG08ACA16TEY': 3042, 'ST6000DX000': 2658, 'Seagate BarraCuda SSD ZA250CM10002': 1674, 'ST500LM012 HN': 1362, 'Seagate BarraCuda 120 SSD ZA250CM10003': 1218, 'TOSHIBA MQ01ABF050M': 1149, 'ST14000NM0138': 1080, 'TOSHIBA MQ01ABF050': 1059, 'ST500LM030': 723, 'WDC WD5000LPVX': 593, 'TOSHIBA MG07ACA14TEY': 480, 'DELLBOSS VD': 348, 'Seagate SSD': 324, 'TOSHIBA MD04ABA400V': 297, 'WDC  WUH721414ALE6L4': 293, 'ST18000NM000J': 180, 'ST16000NM001G': 177, 'WDC WD5000LPCX': 159, 'TOSHIBA MG08ACA16TA': 118, 'ST4000DM005': 114, 'MTFDDAV240TCB': 114, 'ST500LM021': 99, 'HGST HUS726040ALE610': 82, 'ST16000NM005G': 78, 'ST8000DM005': 75, 'HGST HDS5C4040ALE630': 75, 'HGST HUH721010ALE600': 60, 'Seagate BarraCuda SSD ZA500CM10002': 54, 'TOSHIBA HDWF180': 51, 'ST12000NM0117': 30, 'WDC WD5000BPKT': 30, 'ST14000NM0018': 15, 'TOSHIBA HDWE160': 12, 'Seagate BarraCuda SSD ZA2000CM10002': 12, 'SSDSCKKB480G8R': 12, 'ST6000DM001': 12, 'WDC WD60EFRX': 9, 'Hitachi HDS5C4040ALE630': 9, 'MTFDDAV240TDU': 6, 'HGST HMS5C4040BLE641': 3, 'ST1000LM024 HN': 3, 'ST6000DM004': 3, 'ST8000DM004': 3}\n",
            "\n",
            "**************************************************\n",
            "(496415, 2)\n",
            "(331008, 2)\n"
          ]
        }
      ],
      "source": [
        "# Response encoding the 'model' feature.\n",
        "values, TR, FA = res_fit(Train['model'], Train['failure'].values)\n",
        "print(values)\n",
        "print()\n",
        "Train_model = res_transform(Train['model'], TR, FA)\n",
        "Val_model = res_transform(Val['model'], TR, FA)\n",
        "print('*'*50)\n",
        "print(Train_model.shape)\n",
        "print(Val_model.shape)"
      ]
    },
    {
      "cell_type": "code",
      "execution_count": 46,
      "metadata": {
        "id": "ZRn1AKVA9Toz",
        "colab": {
          "base_uri": "https://localhost:8080/",
          "height": 364
        },
        "outputId": "33d4aec8-a267-4640-a99e-eb8ceb85b3ec"
      },
      "outputs": [
        {
          "output_type": "stream",
          "name": "stderr",
          "text": [
            "WARNING:matplotlib.legend:No handles with labels found to put in legend.\n"
          ]
        },
        {
          "output_type": "stream",
          "name": "stdout",
          "text": [
            "0    496406\n",
            "1         9\n",
            "Name: failure, dtype: int64\n"
          ]
        },
        {
          "output_type": "display_data",
          "data": {
            "text/plain": [
              "<Figure size 432x288 with 1 Axes>"
            ],
            "image/png": "[encoded data removed]"
          },
          "metadata": {
            "needs_background": "light"
          }
        }
      ],
      "source": [
        "# Checking the balance of the Train Dataset.\n",
        "total = len(Train)\n",
        "print(Train.failure.value_counts())\n",
        "ax = sns.countplot(x = 'failure', data = Train)\n",
        "for p in ax.patches:\n",
        "  ax.annotate('{}'.format(p.get_height()), (p.get_x()+0.25, p.get_height()+5))\n",
        "ax.yaxis.set_ticks(np.linspace(0, total, 11))\n",
        "plt.legend()\n",
        "plt.title(\"Failure Counts\")\n",
        "plt.show()"
      ]
    },
    {
      "cell_type": "code",
      "execution_count": 47,
      "metadata": {
        "id": "QYjz4-iJ9ftm",
        "colab": {
          "base_uri": "https://localhost:8080/",
          "height": 364
        },
        "outputId": "e7cc8438-a32d-479f-9527-76d0f0d196f9"
      },
      "outputs": [
        {
          "output_type": "stream",
          "name": "stderr",
          "text": [
            "WARNING:matplotlib.legend:No handles with labels found to put in legend.\n"
          ]
        },
        {
          "output_type": "stream",
          "name": "stdout",
          "text": [
            "0    330993\n",
            "1        15\n",
            "Name: failure, dtype: int64\n"
          ]
        },
        {
          "output_type": "display_data",
          "data": {
            "text/plain": [
              "<Figure size 432x288 with 1 Axes>"
            ],
            "image/png": "[encoded data removed]"
          },
          "metadata": {
            "needs_background": "light"
          }
        }
      ],
      "source": [
        "# Checking the balance of the Val Dataset.\n",
        "total = len(Val)\n",
        "print(Val.failure.value_counts())\n",
        "ax = sns.countplot(x = 'failure', data = Val)\n",
        "for p in ax.patches:\n",
        "  ax.annotate('{}'.format(p.get_height()), (p.get_x()+0.25, p.get_height()+5))\n",
        "ax.yaxis.set_ticks(np.linspace(0, total, 11))\n",
        "plt.legend()\n",
        "plt.title(\"Failure Counts\")\n",
        "plt.show()"
      ]
    },
    {
      "cell_type": "markdown",
      "metadata": {
        "id": "2zZY14OkzpMd"
      },
      "source": [
        "From the above, it is found that Dataset is highly imbalanced with class 1 (i.e. HDD is failure) as minority."
      ]
    },
    {
      "cell_type": "code",
      "execution_count": 48,
      "metadata": {
        "id": "nljjqfZ79xGn"
      },
      "outputs": [],
      "source": [
        "#del Data"
      ]
    },
    {
      "cell_type": "code",
      "execution_count": 49,
      "metadata": {
        "id": "MVAMFSxJdncm"
      },
      "outputs": [],
      "source": [
        "#Train.drop('smart_241_normalized', axis = 1, inplace = True)\n",
        "#Val.drop('smart_241_normalized', axis = 1, inplace = True)"
      ]
    },
    {
      "cell_type": "markdown",
      "metadata": {
        "id": "d3yK3kWBr5Vh"
      },
      "source": [
        "# 6. Upsampling of Minority Class of Train using SMOTE\n",
        "\n",
        "\n",
        "\n"
      ]
    },
    {
      "cell_type": "markdown",
      "metadata": {
        "id": "Udw33iYPKy1A"
      },
      "source": [
        "> Instead of upsampling the minority class by normal sampling (i.e. creating duplicates of same points) SMOTE technique is used as upsampling technique as it upsamples by interpolation."
      ]
    },
    {
      "cell_type": "code",
      "execution_count": 50,
      "metadata": {
        "id": "cfRuGFdV96K9"
      },
      "outputs": [],
      "source": [
        "X_Train_orig = Train.drop(f, axis = 1).values\n",
        "Y_Train_orig = Train.failure.values\n",
        "X_Val_orig = Val.drop(f, axis = 1).values\n",
        "Y_Val_orig = Val.failure.values"
      ]
    },
    {
      "cell_type": "code",
      "execution_count": 51,
      "metadata": {
        "id": "AdqDxKPifOVJ",
        "colab": {
          "base_uri": "https://localhost:8080/"
        },
        "outputId": "e3ff0833-e307-48a9-b624-d2ec48a82902"
      },
      "outputs": [
        {
          "output_type": "execute_result",
          "data": {
            "text/plain": [
              "((496415, 50), (496415,))"
            ]
          },
          "metadata": {},
          "execution_count": 51
        }
      ],
      "source": [
        "X_Train_orig.shape, Y_Train_orig.shape"
      ]
    },
    {
      "cell_type": "code",
      "execution_count": 52,
      "metadata": {
        "id": "v4rPjqq1-eij",
        "colab": {
          "base_uri": "https://localhost:8080/"
        },
        "outputId": "05275b05-8515-4447-a932-142189c2f28e"
      },
      "outputs": [
        {
          "output_type": "execute_result",
          "data": {
            "text/plain": [
              "((331008, 50), (331008,))"
            ]
          },
          "metadata": {},
          "execution_count": 52
        }
      ],
      "source": [
        "X_Val_orig.shape, Y_Val_orig.shape"
      ]
    },
    {
      "cell_type": "code",
      "execution_count": 53,
      "metadata": {
        "id": "oLm712gdq87g",
        "colab": {
          "base_uri": "https://localhost:8080/"
        },
        "outputId": "f3803481-e0a0-4777-8577-3be11f332ec0"
      },
      "outputs": [
        {
          "output_type": "execute_result",
          "data": {
            "text/plain": [
              "((496415, 52), (331008, 52))"
            ]
          },
          "metadata": {},
          "execution_count": 53
        }
      ],
      "source": [
        "# Stacking the response encoded array with respective Train and Val dataset.\n",
        "X_Train_orig = np.hstack((X_Train_orig, Train_model))\n",
        "X_Val_orig = np.hstack((X_Val_orig, Val_model))\n",
        "X_Train_orig.shape, X_Val_orig.shape"
      ]
    },
    {
      "cell_type": "code",
      "execution_count": 54,
      "metadata": {
        "id": "UpWqZuTZGbP7"
      },
      "outputs": [],
      "source": [
        "del Train_model\n",
        "del Val_model"
      ]
    },
    {
      "cell_type": "code",
      "execution_count": 55,
      "metadata": {
        "id": "kn2-CUWfg7Ha",
        "colab": {
          "base_uri": "https://localhost:8080/"
        },
        "outputId": "b57da2aa-488b-47e1-f580-04974ac6e7b1"
      },
      "outputs": [
        {
          "output_type": "execute_result",
          "data": {
            "text/plain": [
              "(Counter({0: 496406, 1: 9}), Counter({0: 330993, 1: 15}))"
            ]
          },
          "metadata": {},
          "execution_count": 55
        }
      ],
      "source": [
        "Counter(Y_Train_orig), Counter(Y_Val_orig)"
      ]
    },
    {
      "cell_type": "code",
      "execution_count": 56,
      "metadata": {
        "id": "HPbTQ3VZg8aH"
      },
      "outputs": [],
      "source": [
        "# SMOTE sampling\n",
        "# class imblearn.over_sampling.SMOTE(sampling_strategy='auto', random_state=None, k_neighbors=5, m_neighbors='deprecated', out_step='deprecated', kind='deprecated', svm_estimator='deprecated', n_jobs=1, ratio=None)\n",
        "# k_neighbors (default=5) : number of nearest neighbours to used to construct synthetic samples.\n",
        "from imblearn.under_sampling import RandomUnderSampler\n",
        "from imblearn.pipeline import Pipeline\n",
        "\n",
        "under = RandomUnderSampler(sampling_strategy = 0.8)\n",
        "over_smote = SMOTE(n_jobs = -1, k_neighbors = 1, sampling_strategy = 0.5)\n",
        "steps = [('o', over_smote), ('u', under)]\n",
        "pipeline = Pipeline(steps = steps)"
      ]
    },
    {
      "cell_type": "code",
      "execution_count": 57,
      "metadata": {
        "id": "rGmZBD2phFh4"
      },
      "outputs": [],
      "source": [
        "# SMOTE oversampling is applied on Train dataset as per oversampling concepts.\n",
        "# Since Val dataset is also highly imbalanced, regular oversampling is applied(i.e creating duplicates of minority class)\n",
        "\n",
        "x_train_sam, y_train_sam = pipeline.fit_resample(X_Train_orig, Y_Train_orig) # Resampling the Training Data by oversampling the minority class using SMOTE \n",
        "#and undersampling the majority class.\n",
        "x_val, y_val = X_Val_orig, Y_Val_orig"
      ]
    },
    {
      "cell_type": "code",
      "execution_count": 58,
      "metadata": {
        "id": "HvaU_DlWhRX1",
        "colab": {
          "base_uri": "https://localhost:8080/"
        },
        "outputId": "8429237a-a5eb-4c78-9990-ab0d3884f44f"
      },
      "outputs": [
        {
          "output_type": "execute_result",
          "data": {
            "text/plain": [
              "((558456, 52), (558456,))"
            ]
          },
          "metadata": {},
          "execution_count": 58
        }
      ],
      "source": [
        "x_train_sam.shape, y_train_sam.shape # Final shape of Train datapoints."
      ]
    },
    {
      "cell_type": "code",
      "execution_count": 59,
      "metadata": {
        "id": "zVsgKmeAACO-",
        "colab": {
          "base_uri": "https://localhost:8080/"
        },
        "outputId": "7e78a524-b134-40e0-b3fc-027f9e47016a"
      },
      "outputs": [
        {
          "output_type": "execute_result",
          "data": {
            "text/plain": [
              "((331008, 52), (331008,))"
            ]
          },
          "metadata": {},
          "execution_count": 59
        }
      ],
      "source": [
        "x_val.shape, y_val.shape # Final shape of Val datapoints."
      ]
    },
    {
      "cell_type": "code",
      "execution_count": 60,
      "metadata": {
        "id": "CFmCkWbefdYi",
        "colab": {
          "base_uri": "https://localhost:8080/",
          "height": 353
        },
        "outputId": "89c3cd05-7f67-420c-c405-6234f6bf1a4b"
      },
      "outputs": [
        {
          "output_type": "stream",
          "name": "stdout",
          "text": [
            "Counter({0: 310253, 1: 248203})\n"
          ]
        },
        {
          "output_type": "stream",
          "name": "stderr",
          "text": [
            "/usr/local/lib/python3.8/dist-packages/seaborn/_decorators.py:36: FutureWarning: Pass the following variable as a keyword arg: x. From version 0.12, the only valid positional argument will be `data`, and passing other arguments without an explicit keyword will result in an error or misinterpretation.\n",
            "  warnings.warn(\n"
          ]
        },
        {
          "output_type": "display_data",
          "data": {
            "text/plain": [
              "<Figure size 432x288 with 1 Axes>"
            ],
            "image/png": "[encoded data removed]"
          },
          "metadata": {
            "needs_background": "light"
          }
        }
      ],
      "source": [
        "# Visualization after balancing Train Dataset.\n",
        "total = len(X_Train_orig)\n",
        "print(Counter(y_train_sam))\n",
        "ax = sns.countplot(y_train_sam)\n",
        "for p in ax.patches:\n",
        "  ax.annotate('{}'.format(p.get_height()), (p.get_x()+0.25, p.get_height()+5))\n",
        "\n",
        "ax.yaxis.set_ticks(np.linspace(0, total, 11))\n",
        "plt.title(\"Failure counts after sampling\")\n",
        "plt.show()"
      ]
    },
    {
      "cell_type": "code",
      "execution_count": 61,
      "metadata": {
        "id": "vNkJypyqALV-",
        "colab": {
          "base_uri": "https://localhost:8080/",
          "height": 353
        },
        "outputId": "037b37a5-2a60-4be0-8872-8fbcd866989a"
      },
      "outputs": [
        {
          "output_type": "stream",
          "name": "stdout",
          "text": [
            "Counter({0: 330993, 1: 15})\n"
          ]
        },
        {
          "output_type": "stream",
          "name": "stderr",
          "text": [
            "/usr/local/lib/python3.8/dist-packages/seaborn/_decorators.py:36: FutureWarning: Pass the following variable as a keyword arg: x. From version 0.12, the only valid positional argument will be `data`, and passing other arguments without an explicit keyword will result in an error or misinterpretation.\n",
            "  warnings.warn(\n"
          ]
        },
        {
          "output_type": "display_data",
          "data": {
            "text/plain": [
              "<Figure size 432x288 with 1 Axes>"
            ],
            "image/png": "[encoded data removed]"
          },
          "metadata": {
            "needs_background": "light"
          }
        }
      ],
      "source": [
        "# Visualization after balancing Val Dataset.\n",
        "total = len(X_Val_orig)\n",
        "print(Counter(y_val))\n",
        "ax = sns.countplot(y_val)\n",
        "for p in ax.patches:\n",
        "  ax.annotate('{}'.format(p.get_height()), (p.get_x()+0.25, p.get_height()+5))\n",
        "\n",
        "ax.yaxis.set_ticks(np.linspace(0, total, 11))\n",
        "plt.title(\"Failure counts after sampling\")\n",
        "plt.show()"
      ]
    },
    {
      "cell_type": "markdown",
      "metadata": {
        "id": "USW9WhReu7eP"
      },
      "source": [
        "From the above it is seen that, after oversampling both classes are balanced."
      ]
    },
    {
      "cell_type": "markdown",
      "metadata": {
        "id": "eT72b-HvAx2T"
      },
      "source": [
        "# 7. Standardization:"
      ]
    },
    {
      "cell_type": "code",
      "execution_count": 62,
      "metadata": {
        "id": "2Lx2yzno3sgG"
      },
      "outputs": [],
      "source": [
        "from sklearn.preprocessing import Normalizer, StandardScaler\n",
        "normalizer = Normalizer()\n",
        "sc = StandardScaler()"
      ]
    },
    {
      "cell_type": "code",
      "execution_count": 63,
      "metadata": {
        "id": "RuQGHLW9BA7w"
      },
      "outputs": [],
      "source": [
        "# Standardizing both Train and Val Dataset.\n",
        "sc.fit(x_train_sam)\n",
        "\n",
        "X_train_standard = sc.transform(x_train_sam)\n",
        "X_val_standard = sc.transform(x_val)"
      ]
    },
    {
      "cell_type": "code",
      "execution_count": 64,
      "metadata": {
        "id": "LJUGKcCcYVl_",
        "colab": {
          "base_uri": "https://localhost:8080/"
        },
        "outputId": "5f9ad936-585c-4ab7-b681-cf2fe9e808d8"
      },
      "outputs": [
        {
          "output_type": "stream",
          "name": "stdout",
          "text": [
            "Train 7.774769025905153e-11 1.0000000000001776\n",
            "Val 0.01765594267231832 1.0828126593740013\n",
            "(558456, 52) (331008, 52)\n"
          ]
        }
      ],
      "source": [
        "print(\"Train\", np.mean(X_train_standard), np.std(X_train_standard))\n",
        "print(\"Val\", np.mean(X_val_standard), np.std(X_val_standard))\n",
        "print(X_train_standard.shape, X_val_standard.shape)"
      ]
    },
    {
      "cell_type": "code",
      "execution_count": 65,
      "metadata": {
        "id": "cTOUclsgIIAD",
        "colab": {
          "base_uri": "https://localhost:8080/"
        },
        "outputId": "8cf26f6c-fda9-4a0f-b6a0-26356d37f9e2"
      },
      "outputs": [
        {
          "output_type": "execute_result",
          "data": {
            "text/plain": [
              "array([-0.69337817,  1.3263528 ,  0.33618869, -0.4843246 ,  0.28868543,\n",
              "       -0.11171646,  0.28823929, -0.33627187,  0.14380332, -0.00253851,\n",
              "        0.81541615, -0.95376241,  0.26185559, -0.01574194,  0.02043545,\n",
              "       -0.67704684, -0.65567567, -0.00180004,  1.05855649, -0.19908721,\n",
              "        0.75474511, -0.03992445,  0.74200239,  0.73298693, -0.01666149,\n",
              "       -0.22878131,  0.42830804, -0.34749847, -0.62630351, -0.0168462 ,\n",
              "       -0.68882307, -0.00869965,  0.26371359, -0.24133888,  0.26277087,\n",
              "       -0.24073228,  0.32569072, -0.01078995,  0.56736165, -0.62260924,\n",
              "        0.67750505,  0.34335417,  0.67752187, -0.41899956,  0.65754882,\n",
              "        0.73468238,  0.18924559,  0.29921951,  0.72328637,  0.61484513,\n",
              "       -0.45179447,  0.45179448])"
            ]
          },
          "metadata": {},
          "execution_count": 65
        }
      ],
      "source": [
        "X_val_standard[0]"
      ]
    },
    {
      "cell_type": "markdown",
      "metadata": {
        "id": "ibqu809NDoqf"
      },
      "source": [
        "# 8. Test Dataset"
      ]
    },
    {
      "cell_type": "code",
      "execution_count": 66,
      "metadata": {
        "id": "hy7C32blKL5V",
        "colab": {
          "base_uri": "https://localhost:8080/"
        },
        "outputId": "b5ca662d-a657-489e-f4d9-8f308d39b09b"
      },
      "outputs": [
        {
          "output_type": "execute_result",
          "data": {
            "text/plain": [
              "(330211, 149)"
            ]
          },
          "metadata": {},
          "execution_count": 66
        }
      ],
      "source": [
        "# Creating the Test Dataset to check performance of the model.\n",
        "# Test data is from 2021-01-06 to 2019-01-07\n",
        "\n",
        "Dates = ['07']\n",
        "Test = pd.read_csv(\"/content/drive/My Drive/hdddata/2021/2021-01-06.csv\")\n",
        "for i in Dates:\n",
        "  Test = Test.append(pd.read_csv(\"/content/drive/My Drive/hdddata/2021/2021-01-\" + i + \".csv\"))\n",
        "\n",
        "Test.reset_index(inplace = True)\n",
        "Test.drop('index', axis = 1, inplace = True)\n",
        "Test.shape"
      ]
    },
    {
      "cell_type": "code",
      "execution_count": 67,
      "metadata": {
        "id": "-6w9KFRDoO6m",
        "colab": {
          "base_uri": "https://localhost:8080/"
        },
        "outputId": "e733bc59-50b4-4926-9d35-8bc728b0b48a"
      },
      "outputs": [
        {
          "output_type": "execute_result",
          "data": {
            "text/plain": [
              "0    330204\n",
              "1         7\n",
              "Name: failure, dtype: int64"
            ]
          },
          "metadata": {},
          "execution_count": 67
        }
      ],
      "source": [
        "Test.failure.value_counts()"
      ]
    },
    {
      "cell_type": "code",
      "execution_count": 68,
      "metadata": {
        "id": "2ZAlaYf6KLyS",
        "colab": {
          "base_uri": "https://localhost:8080/"
        },
        "outputId": "cbf395c9-0946-4775-ddde-7edfacc5c497"
      },
      "outputs": [
        {
          "output_type": "execute_result",
          "data": {
            "text/plain": [
              "(330211, 49)"
            ]
          },
          "metadata": {},
          "execution_count": 68
        }
      ],
      "source": [
        "# Preprocessing of Test Data.\n",
        "Test.drop(Initial[Null], axis = 1, inplace = True)\n",
        "Test.drop(M_features[index], axis = 1, inplace = True)\n",
        "Test.shape"
      ]
    },
    {
      "cell_type": "code",
      "execution_count": 69,
      "metadata": {
        "id": "k7bGNfZprH7P",
        "colab": {
          "base_uri": "https://localhost:8080/"
        },
        "outputId": "52668ba5-3857-454d-beba-5106627d710b"
      },
      "outputs": [
        {
          "output_type": "stream",
          "name": "stdout",
          "text": [
            "(330211, 49)\n",
            "(330155, 49)\n"
          ]
        }
      ],
      "source": [
        "print(Test.shape)\n",
        "Test.drop(np.where(Test['capacity_bytes'] == -1)[0], inplace = True)\n",
        "print(Test.shape)"
      ]
    },
    {
      "cell_type": "code",
      "execution_count": 70,
      "metadata": {
        "id": "ds6QtRN0TV6L",
        "colab": {
          "base_uri": "https://localhost:8080/"
        },
        "outputId": "8dbf5797-dcb1-4d4d-db70-ea5ef3f9e679"
      },
      "outputs": [
        {
          "output_type": "execute_result",
          "data": {
            "text/plain": [
              "0    330148\n",
              "1         7\n",
              "Name: failure, dtype: int64"
            ]
          },
          "metadata": {},
          "execution_count": 70
        }
      ],
      "source": [
        "Test.failure.value_counts()"
      ]
    },
    {
      "cell_type": "code",
      "execution_count": 71,
      "metadata": {
        "id": "W9w_Ez_nsw2u"
      },
      "outputs": [],
      "source": [
        "Test = Test.fillna(0)"
      ]
    },
    {
      "cell_type": "code",
      "execution_count": 72,
      "metadata": {
        "id": "UofI_2KBnmvt",
        "colab": {
          "base_uri": "https://localhost:8080/"
        },
        "outputId": "216f8237-8f31-4c5f-ad98-a80312e3ea17"
      },
      "outputs": [
        {
          "output_type": "execute_result",
          "data": {
            "text/plain": [
              "(330155, 55)"
            ]
          },
          "metadata": {},
          "execution_count": 72
        }
      ],
      "source": [
        "for i in cf:\n",
        "   n = re.findall('\\d+',i) \n",
        "   s = 'smart_' + ''.join(n) + '_sig'\n",
        "   Test[s] = Test[i].apply(Sigmoid)\n",
        "Test.shape"
      ]
    },
    {
      "cell_type": "code",
      "execution_count": 73,
      "metadata": {
        "id": "GDmdT8u5nmhL"
      },
      "outputs": [],
      "source": [
        "Test_model = res_transform(Test['model'], TR, FA)"
      ]
    },
    {
      "cell_type": "code",
      "execution_count": 74,
      "metadata": {
        "id": "r5-dHoXaobSS"
      },
      "outputs": [],
      "source": [
        "X_Test_orig = Test.drop(f, axis = 1).values\n",
        "Y_Test_orig = Test.failure.values"
      ]
    },
    {
      "cell_type": "code",
      "execution_count": 75,
      "metadata": {
        "id": "-LbqqfhvobI8",
        "colab": {
          "base_uri": "https://localhost:8080/"
        },
        "outputId": "07b63651-e19a-4942-9f2e-1516574ec956"
      },
      "outputs": [
        {
          "output_type": "execute_result",
          "data": {
            "text/plain": [
              "(330155, 52)"
            ]
          },
          "metadata": {},
          "execution_count": 75
        }
      ],
      "source": [
        "X_Test_orig = np.hstack((X_Test_orig, Test_model))\n",
        "X_Test_orig.shape"
      ]
    },
    {
      "cell_type": "code",
      "execution_count": 76,
      "metadata": {
        "id": "7GuNFmP-uRoe"
      },
      "outputs": [],
      "source": [
        "x_test, y_test = X_Test_orig, Y_Test_orig"
      ]
    },
    {
      "cell_type": "code",
      "execution_count": 77,
      "metadata": {
        "id": "mN7ts7SWFq8I",
        "colab": {
          "base_uri": "https://localhost:8080/"
        },
        "outputId": "22ab4601-285e-4ac8-bbcf-0e56e3d86a47"
      },
      "outputs": [
        {
          "output_type": "execute_result",
          "data": {
            "text/plain": [
              "(330155, 52)"
            ]
          },
          "metadata": {},
          "execution_count": 77
        }
      ],
      "source": [
        "x_test.shape"
      ]
    },
    {
      "cell_type": "code",
      "execution_count": 78,
      "metadata": {
        "id": "dA8Unaz6F7f0",
        "colab": {
          "base_uri": "https://localhost:8080/"
        },
        "outputId": "c51d9b89-e8ff-424c-a49a-2ddd9757a52e"
      },
      "outputs": [
        {
          "output_type": "execute_result",
          "data": {
            "text/plain": [
              "Counter({0: 330148, 1: 7})"
            ]
          },
          "metadata": {},
          "execution_count": 78
        }
      ],
      "source": [
        "(Counter(y_test))"
      ]
    },
    {
      "cell_type": "code",
      "execution_count": 79,
      "metadata": {
        "id": "hcDmxKp4pFXX",
        "colab": {
          "base_uri": "https://localhost:8080/"
        },
        "outputId": "71a14159-2d3e-44ef-d34d-b813c43e8695"
      },
      "outputs": [
        {
          "output_type": "execute_result",
          "data": {
            "text/plain": [
              "(330155, 52)"
            ]
          },
          "metadata": {},
          "execution_count": 79
        }
      ],
      "source": [
        "# Standardisation of Test Dataset.\n",
        "X_test_standard = sc.transform(x_test)\n",
        "X_test_standard.shape"
      ]
    },
    {
      "cell_type": "markdown",
      "metadata": {
        "id": "0XaXwc65r-VD"
      },
      "source": [
        "# 9. Modelling"
      ]
    },
    {
      "cell_type": "code",
      "execution_count": 80,
      "metadata": {
        "id": "Hh6aUpAKrgDH"
      },
      "outputs": [],
      "source": [
        "import warnings\n",
        "warnings.filterwarnings(\"ignore\")\n",
        "from random import sample, choice\n",
        "from tqdm import tqdm\n",
        "\n",
        "from sklearn.linear_model import LogisticRegression\n",
        "from sklearn.metrics import roc_auc_score, confusion_matrix, precision_score, recall_score, roc_curve, auc, classification_report, f1_score, precision_recall_curve\n",
        "from scipy.stats import randint as sp_randint, uniform\n",
        "from sklearn.model_selection import RandomizedSearchCV, StratifiedKFold\n",
        "from sklearn.calibration import CalibratedClassifierCV\n",
        "from sklearn.ensemble import StackingClassifier\n",
        "from sklearn.linear_model import SGDClassifier\n",
        "from sklearn.kernel_approximation import Nystroem\n",
        "from sklearn.svm import LinearSVC\n",
        "\n",
        "balance = [{0:1,1:10}, {0:1,1:100}, {0:1,1:1000}, {0:1,1:10000}, {0:10,1:100000}]"
      ]
    },
    {
      "cell_type": "code",
      "execution_count": 81,
      "metadata": {
        "id": "3drECh-zrksQ"
      },
      "outputs": [],
      "source": [
        "# This function is used to plot Cofusion Matrix, Precision Matrix and Recall Matrix.\n",
        "def plot_matrices(Y, Y_Pred):\n",
        "    C = confusion_matrix(Y, Y_Pred) # Confusion Matrix\n",
        "    \n",
        "    A =(((C.T)/(C.sum(axis=1))).T) # Calculating Recall Matrix\n",
        "    \n",
        "    B =(C/C.sum(axis=0)) # Calculating Precision Matrix\n",
        "    plt.figure(figsize=(20,4))\n",
        "    \n",
        "    labels = [0,1]\n",
        "    # representing A in heatmap format\n",
        "    cmap=sns.light_palette(\"blue\")\n",
        "    plt.subplot(1, 3, 1)\n",
        "    sns.heatmap(C, annot=True, cmap=cmap, fmt=\".3f\", xticklabels=labels, yticklabels=labels)\n",
        "    plt.xlabel('Predicted Class')\n",
        "    plt.ylabel('Original Class')\n",
        "    plt.title(\"Confusion matrix\")\n",
        "    \n",
        "    plt.subplot(1, 3, 2)\n",
        "    sns.heatmap(B, annot=True, cmap=cmap, fmt=\".3f\", xticklabels=labels, yticklabels=labels)\n",
        "    plt.xlabel('Predicted Class')\n",
        "    plt.ylabel('Original Class')\n",
        "    plt.title(\"Precision matrix\")\n",
        "    print(\"Sum of columns in precision matrix\",B.sum(axis=0))\n",
        "    \n",
        "    plt.subplot(1, 3, 3)\n",
        "    # representing B in heatmap format\n",
        "    sns.heatmap(A, annot=True, cmap=cmap, fmt=\".3f\", xticklabels=labels, yticklabels=labels)\n",
        "    plt.xlabel('Predicted Class')\n",
        "    plt.ylabel('Original Class')\n",
        "    plt.title(\"Recall matrix\")\n",
        "    print(\"Sum of rows in recall matrix\",A.sum(axis=1))\n",
        "    \n",
        "    plt.show()\n"
      ]
    },
    {
      "cell_type": "code",
      "execution_count": 82,
      "metadata": {
        "id": "fg3-Y1ZOroMB"
      },
      "outputs": [],
      "source": [
        "# This function prints the metrics of the model.\n",
        "def Metrics(model, X, Y, threshold):\n",
        "    y_pred_prob = model.predict_proba(X)[:, 1]\n",
        "    y_pred = model.predict(X)\n",
        "\n",
        "    print(\"The Prescision Score: \", precision_score(Y, predict_with_best_t(y_pred_prob, threshold)))\n",
        "    print(\"The Recall Score: \", recall_score(Y, predict_with_best_t(y_pred_prob, threshold)))\n",
        "    print(\"The ROC Score: \", roc_auc_score(Y, y_pred_prob))\n",
        "    print(\"The F1 Score: \", f1_score(Y, predict_with_best_t(y_pred_prob, threshold)))\n",
        "    print('*'*100)\n",
        "    print(classification_report(Y, predict_with_best_t(y_pred_prob, threshold)))\n",
        "    print('*'*100)\n",
        "    plot_matrices(Y, predict_with_best_t(y_pred_prob, threshold))"
      ]
    },
    {
      "cell_type": "code",
      "execution_count": 83,
      "metadata": {
        "id": "TRwipCbh6sZn"
      },
      "outputs": [],
      "source": [
        "def to_labels(pos_probs, threshold):\n",
        "\treturn (pos_probs >= threshold).astype('int')"
      ]
    },
    {
      "cell_type": "code",
      "execution_count": 84,
      "metadata": {
        "id": "cHwuTub86tb-"
      },
      "outputs": [],
      "source": [
        "def find_best_threshold(threshould, fpr, tpr):\n",
        "    # This function finds the optimal threshold value based on G-Mean metric\n",
        "    # The Geometric Mean or G-Mean is a metric for imbalanced classification that, if optimized, will seek a balance between the sensitivity and the specificity.\n",
        "    # Ref: https://machinelearningmastery.com/threshold-moving-for-imbalanced-classification/\n",
        "    t = threshould[np.argmax(np.sqrt(tpr*(1-fpr)))]\n",
        "    # sqrt(tpr*(1-fpr)) will be maximum if your fpr is very low and tpr is very high\n",
        "    print(\"the maximum value of sqrt(tpr*(1-fpr))\", max(np.sqrt(tpr*(1-fpr))), \"for threshold\", np.round(t,3))\n",
        "    return t\n",
        "\n",
        "def predict_with_best_t(proba, threshould): # This function predicts class labels based on the optimal threshold value.\n",
        "    predictions = []\n",
        "    for i in proba:\n",
        "        if i>=threshould:\n",
        "            predictions.append(1)\n",
        "        else:\n",
        "            predictions.append(0)\n",
        "    return predictions\n",
        "\n",
        "def BEST(trainscores, testscores, TR, Models): # This function is used to get the best model based on the highest test score.\n",
        "  ind = np.argmax(testscores)\n",
        "  test_score = testscores[ind]\n",
        "  train_score = trainscores[ind]\n",
        "  threshold = TR[ind]\n",
        "  best_est = Models[ind]\n",
        "  return test_score, train_score, threshold, best_est"
      ]
    },
    {
      "cell_type": "markdown",
      "metadata": {
        "id": "BDFbUjuuYUwN"
      },
      "source": [
        "# 9.4. XGBOOST"
      ]
    },
    {
      "cell_type": "code",
      "execution_count": 85,
      "metadata": {
        "colab": {
          "base_uri": "https://localhost:8080/"
        },
        "id": "gzPOE6iUYUwX",
        "outputId": "b6f896bf-e18e-46cc-b775-71e87b687eb5"
      },
      "outputs": [
        {
          "output_type": "execute_result",
          "data": {
            "text/plain": [
              "{'learning_rate': [0.019254580557605164,\n",
              "  0.02629735226532297,\n",
              "  0.06407950693879907,\n",
              "  0.08370446134279262,\n",
              "  0.09026235364021121,\n",
              "  0.09565078067636917,\n",
              "  0.10140698210246418,\n",
              "  0.10951739940380288,\n",
              "  0.1378526981195023,\n",
              "  0.1458630355156155],\n",
              " 'max_depth': [16, 18, 25, 37, 44, 46, 62, 71, 90, 95],\n",
              " 'colsample_bytree': [0.17982323336154227,\n",
              "  0.18710231819057854,\n",
              "  0.23951188896571374,\n",
              "  0.2992758523974125,\n",
              "  0.46794091568825047,\n",
              "  0.5046386857114753,\n",
              "  0.5852954714837698,\n",
              "  0.8674968275332062,\n",
              "  0.884942825931971,\n",
              "  0.9516778919539202],\n",
              " 'subsample': [0.10651474437483088,\n",
              "  0.11438194198276719,\n",
              "  0.12704280820081626,\n",
              "  0.17102688650409714,\n",
              "  0.515026658478339,\n",
              "  0.5799067554842936,\n",
              "  0.5908489983927441,\n",
              "  0.6926843685149576,\n",
              "  0.7416208959259638,\n",
              "  0.8741965457609899],\n",
              " 'num_leaves': [118, 125, 140, 191, 205, 243, 293, 429, 474, 483],\n",
              " 'reg_lambda': [0.13940146130500386,\n",
              "  0.21145542642374926,\n",
              "  0.34730672030542387,\n",
              "  0.5343969673246327,\n",
              "  0.5623695430933078,\n",
              "  0.6784192976571077,\n",
              "  0.8245477871873849,\n",
              "  0.8352724891781218,\n",
              "  0.8479619634926094,\n",
              "  0.8550895617516252],\n",
              " 'colsample_bylevel': [0.07383809618356996,\n",
              "  0.13925399166837238,\n",
              "  0.5044407993278103,\n",
              "  0.5737444523588195,\n",
              "  0.7209676421854435,\n",
              "  0.7336297496138375,\n",
              "  0.7907424081865936,\n",
              "  0.8071255612934582,\n",
              "  0.9381165811874718,\n",
              "  0.9415390375907906],\n",
              " 'colsample_bynode': [0.15135786045116373,\n",
              "  0.16439486254037694,\n",
              "  0.3146751655712201,\n",
              "  0.3217050356075558,\n",
              "  0.3475734676897245,\n",
              "  0.4449680223921755,\n",
              "  0.6504573073001759,\n",
              "  0.7096112223850601,\n",
              "  0.7575326635288527,\n",
              "  0.8051168641471904],\n",
              " 'gamma': [0.12993572771806783,\n",
              "  0.2679930099739367,\n",
              "  0.3138279165489305,\n",
              "  0.3581441579168997,\n",
              "  0.6124482838794423,\n",
              "  0.6428842379741065,\n",
              "  0.7974501131027154,\n",
              "  0.8460030435667191,\n",
              "  0.8896946365349065,\n",
              "  0.99339510643891]}"
            ]
          },
          "metadata": {},
          "execution_count": 85
        }
      ],
      "source": [
        "# Hyperparameter tuning of XGBoost\n",
        "from xgboost import XGBClassifier\n",
        "param = {'learning_rate' : list(np.sort(np.random.uniform(0, 0.2, 10))),\n",
        "         'max_depth' : list(np.sort(np.random.randint(10, 100, 10))),\n",
        "         'colsample_bytree' : list(np.sort(np.random.uniform(0, 1, 10))),\n",
        "         'subsample' : list(np.sort(np.random.uniform(0, 1, 10))),\n",
        "         'num_leaves' : list(np.sort(np.random.randint(100, 500, 10))),\n",
        "         'reg_lambda' : list(np.sort(np.random.uniform(0, 1, 10))),\n",
        "         'colsample_bylevel' : list(np.sort(np.random.uniform(0, 1, 10))),\n",
        "         'colsample_bynode' : list(np.sort(np.random.uniform(0, 1, 10))),\n",
        "         'gamma' : list(np.sort(np.random.uniform(0, 1, 10)))}\n",
        "GBDT = XGBClassifier(n_jobs = -1, n_estimators = 120)\n",
        "param"
      ]
    },
    {
      "cell_type": "markdown",
      "metadata": {
        "id": "g7HrN00b9YKj"
      },
      "source": [
        "This custom Random SearchCV is built on the original Training dataset with stratifiedkfold split where at each fold the generated training data is sampled and trained with assigned parameter and evaluated on the generated unsampled val data using f1-score metric."
      ]
    },
    {
      "cell_type": "code",
      "execution_count": 86,
      "metadata": {
        "id": "KdLnV5o9YUwa",
        "colab": {
          "base_uri": "https://localhost:8080/"
        },
        "outputId": "31e41ba4-c3ae-44f9-b029-d87a44abffd0"
      },
      "outputs": [
        {
          "output_type": "stream",
          "name": "stderr",
          "text": [
            "\r  0%|          | 0/10 [00:00<?, ?it/s]"
          ]
        },
        {
          "output_type": "stream",
          "name": "stdout",
          "text": [
            "\n",
            "B Counter({0: 446765, 1: 8})\n",
            "A Counter({0: 279227, 1: 223382})\n",
            "the maximum value of sqrt(tpr*(1-fpr)) 0.9780430253237226 for threshold 0.155\n",
            "Test 0.0009267840593141798\n",
            "Train 0.9734205153792354\n",
            "\n",
            "B Counter({0: 446765, 1: 8})\n",
            "A Counter({0: 279227, 1: 223382})\n",
            "the maximum value of sqrt(tpr*(1-fpr)) 0.9998186818153177 for threshold 0.35\n",
            "Test 0.1\n",
            "Train 0.9997292271336791\n",
            "\n",
            "B Counter({0: 446765, 1: 8})\n",
            "A Counter({0: 279227, 1: 223382})\n",
            "the maximum value of sqrt(tpr*(1-fpr)) 0.9988510956146023 for threshold 0.286\n",
            "Test 0.017241379310344827\n",
            "Train 0.998857505695703\n",
            "\n",
            "B Counter({0: 446765, 1: 8})\n",
            "A Counter({0: 279227, 1: 223382})\n",
            "the maximum value of sqrt(tpr*(1-fpr)) 0.9993753210944942 for threshold 0.289\n",
            "Test 0.03125\n",
            "Train 0.9991836661664293\n",
            "\n",
            "B Counter({0: 446765, 1: 8})\n",
            "A Counter({0: 279227, 1: 223382})\n",
            "the maximum value of sqrt(tpr*(1-fpr)) 0.7519841404303377 for threshold 0.107\n",
            "Test 9.271277582050806e-05\n",
            "Train 0.7873617203512747\n",
            "\n",
            "B Counter({0: 446765, 1: 9})\n",
            "A Counter({0: 279227, 1: 223382})\n",
            "the maximum value of sqrt(tpr*(1-fpr)) nan for threshold 1.488\n",
            "Test 0.0\n",
            "Train 0.0\n",
            "\n",
            "B Counter({0: 446766, 1: 8})\n",
            "A Counter({0: 279228, 1: 223383})\n",
            "the maximum value of sqrt(tpr*(1-fpr)) 0.5821685543075101 for threshold 0.084\n",
            "Test 6.094216588457554e-05\n",
            "Train 0.7073794410517134\n",
            "\n",
            "B Counter({0: 446766, 1: 8})\n",
            "A Counter({0: 279228, 1: 223383})\n",
            "the maximum value of sqrt(tpr*(1-fpr)) 0.9999798547527654 for threshold 0.537\n",
            "Test 0.5\n",
            "Train 0.9999440409172812\n",
            "\n",
            "B Counter({0: 446766, 1: 8})\n",
            "A Counter({0: 279228, 1: 223383})\n",
            "the maximum value of sqrt(tpr*(1-fpr)) 0.2962973221995549 for threshold 0.096\n",
            "Test 4.416570974295557e-05\n",
            "Train 0.6365339598474368\n",
            "\n",
            "B Counter({0: 446766, 1: 8})\n",
            "A Counter({0: 279228, 1: 223383})\n",
            "the maximum value of sqrt(tpr*(1-fpr)) 0.05272585813465154 for threshold 0.068\n",
            "Test 4.040077569489334e-05\n",
            "Train 0.6160139978738454\n"
          ]
        },
        {
          "output_type": "stream",
          "name": "stderr",
          "text": [
            "\r 10%|█         | 1/10 [05:06<45:55, 306.14s/it]"
          ]
        },
        {
          "output_type": "stream",
          "name": "stdout",
          "text": [
            "\n",
            "\n",
            "B Counter({0: 446765, 1: 8})\n",
            "A Counter({0: 279227, 1: 223382})\n",
            "the maximum value of sqrt(tpr*(1-fpr)) 0.9738839099538926 for threshold 0.097\n",
            "Test 0.0007809449433814916\n",
            "Train 0.9686906444870383\n",
            "\n",
            "B Counter({0: 446765, 1: 8})\n",
            "A Counter({0: 279227, 1: 223382})\n",
            "the maximum value of sqrt(tpr*(1-fpr)) 0.9998791248635739 for threshold 0.337\n",
            "Test 0.14285714285714288\n",
            "Train 0.9998231993751552\n",
            "\n",
            "B Counter({0: 446765, 1: 8})\n",
            "A Counter({0: 279227, 1: 223382})\n",
            "the maximum value of sqrt(tpr*(1-fpr)) 0.9991737284589873 for threshold 0.244\n",
            "Test 0.02380952380952381\n",
            "Train 0.9991099223530253\n",
            "\n",
            "B Counter({0: 446765, 1: 8})\n",
            "A Counter({0: 279227, 1: 223382})\n",
            "the maximum value of sqrt(tpr*(1-fpr)) 0.9997280103910161 for threshold 0.268\n",
            "Test 0.0689655172413793\n",
            "Train 0.999581598383672\n",
            "\n",
            "B Counter({0: 446765, 1: 8})\n",
            "A Counter({0: 279227, 1: 223382})\n",
            "the maximum value of sqrt(tpr*(1-fpr)) 0.8028122846044139 for threshold 0.065\n",
            "Test 0.00011332086803784918\n",
            "Train 0.8195098686624109\n",
            "\n",
            "B Counter({0: 446765, 1: 9})\n",
            "A Counter({0: 279227, 1: 223382})\n",
            "the maximum value of sqrt(tpr*(1-fpr)) nan for threshold 1.508\n",
            "Test 0.0\n",
            "Train 0.0\n",
            "\n",
            "B Counter({0: 446766, 1: 8})\n",
            "A Counter({0: 279228, 1: 223383})\n",
            "the maximum value of sqrt(tpr*(1-fpr)) 0.5836546062834926 for threshold 0.044\n",
            "Test 6.110228522546743e-05\n",
            "Train 0.7071376000126622\n",
            "\n",
            "B Counter({0: 446766, 1: 8})\n",
            "A Counter({0: 279228, 1: 223383})\n",
            "the maximum value of sqrt(tpr*(1-fpr)) 1.0 for threshold 0.532\n",
            "Test 1.0\n",
            "Train 0.9999552322327924\n",
            "\n",
            "B Counter({0: 446766, 1: 8})\n",
            "A Counter({0: 279228, 1: 223383})\n",
            "the maximum value of sqrt(tpr*(1-fpr)) 0.2169304578186563 for threshold 0.051\n",
            "Test 4.2277935145647484e-05\n",
            "Train 0.6268270987257661\n",
            "\n",
            "B Counter({0: 446766, 1: 8})\n",
            "A Counter({0: 279228, 1: 223383})\n",
            "the maximum value of sqrt(tpr*(1-fpr)) 0.06851127882582346 for threshold 0.035\n",
            "Test 4.0478455342144145e-05\n",
            "Train 0.6164840623706361\n"
          ]
        },
        {
          "output_type": "stream",
          "name": "stderr",
          "text": [
            "\r 20%|██        | 2/10 [10:15<41:01, 307.74s/it]"
          ]
        },
        {
          "output_type": "stream",
          "name": "stdout",
          "text": [
            "\n",
            "\n",
            "B Counter({0: 446765, 1: 8})\n",
            "A Counter({0: 279227, 1: 223382})\n",
            "the maximum value of sqrt(tpr*(1-fpr)) 0.841513206876371 for threshold 0.006\n",
            "Test 0.00013802622498274673\n",
            "Train 0.8444183193814156\n",
            "\n",
            "B Counter({0: 446765, 1: 8})\n",
            "A Counter({0: 279227, 1: 223382})\n",
            "the maximum value of sqrt(tpr*(1-fpr)) 0.9992342105200667 for threshold 0.093\n",
            "Test 0.025641025641025647\n",
            "Train 0.9990227976609757\n",
            "\n",
            "B Counter({0: 446765, 1: 8})\n",
            "A Counter({0: 279227, 1: 223382})\n",
            "the maximum value of sqrt(tpr*(1-fpr)) 0.9998186818153177 for threshold 0.147\n",
            "Test 0.1\n",
            "Train 0.9996665898406121\n",
            "\n",
            "B Counter({0: 446765, 1: 8})\n",
            "A Counter({0: 279227, 1: 223382})\n",
            "the maximum value of sqrt(tpr*(1-fpr)) 0.9996675582059031 for threshold 0.153\n",
            "Test 0.05714285714285715\n",
            "Train 0.9996017255575842\n",
            "\n",
            "B Counter({0: 446765, 1: 8})\n",
            "A Counter({0: 279227, 1: 223382})\n",
            "the maximum value of sqrt(tpr*(1-fpr)) 0.9445026053598776 for threshold 0.01\n",
            "Test 0.0003732039559619332\n",
            "Train 0.9358839807360763\n",
            "\n",
            "B Counter({0: 446765, 1: 9})\n",
            "A Counter({0: 279227, 1: 223382})\n",
            "the maximum value of sqrt(tpr*(1-fpr)) nan for threshold 1.608\n",
            "Test 0.0\n",
            "Train 0.0\n",
            "\n",
            "B Counter({0: 446766, 1: 8})\n",
            "A Counter({0: 279228, 1: 223383})\n",
            "the maximum value of sqrt(tpr*(1-fpr)) 0.44350446754420414 for threshold 0.001\n",
            "Test 5.0152966547971315e-05\n",
            "Train 0.6656326822509274\n",
            "\n",
            "B Counter({0: 446766, 1: 8})\n",
            "A Counter({0: 279228, 1: 223383})\n",
            "the maximum value of sqrt(tpr*(1-fpr)) 0.9999194165758795 for threshold 0.357\n",
            "Test 0.19999999999999998\n",
            "Train 0.9999037568405386\n",
            "\n",
            "B Counter({0: 446766, 1: 8})\n",
            "A Counter({0: 279228, 1: 223383})\n",
            "the maximum value of sqrt(tpr*(1-fpr)) 0.571992713927776 for threshold 0.006\n",
            "Test 5.987844675309122e-05\n",
            "Train 0.7045415479331298\n",
            "\n",
            "B Counter({0: 446766, 1: 8})\n",
            "A Counter({0: 279228, 1: 223383})\n",
            "the maximum value of sqrt(tpr*(1-fpr)) 0.33470373684573834 for threshold 0.001\n",
            "Test 4.5371021528549705e-05\n",
            "Train 0.642950891392322\n"
          ]
        },
        {
          "output_type": "stream",
          "name": "stderr",
          "text": [
            "\r 30%|███       | 3/10 [15:10<35:16, 302.33s/it]"
          ]
        },
        {
          "output_type": "stream",
          "name": "stdout",
          "text": [
            "\n",
            "\n",
            "B Counter({0: 446765, 1: 8})\n",
            "A Counter({0: 279227, 1: 223382})\n",
            "the maximum value of sqrt(tpr*(1-fpr)) 0.7478473098162349 for threshold 0.0\n",
            "Test 9.140767824497257e-05\n",
            "Train 0.7823292806998805\n",
            "\n",
            "B Counter({0: 446765, 1: 8})\n",
            "A Counter({0: 279227, 1: 223382})\n",
            "the maximum value of sqrt(tpr*(1-fpr)) 0.9997884589208891 for threshold 0.015\n",
            "Test 0.08695652173913045\n",
            "Train 0.9997605540823291\n",
            "\n",
            "B Counter({0: 446765, 1: 8})\n",
            "A Counter({0: 279227, 1: 223382})\n",
            "the maximum value of sqrt(tpr*(1-fpr)) 0.9999395642582471 for threshold 0.053\n",
            "Test 0.25\n",
            "Train 0.9998791416370488\n",
            "\n",
            "B Counter({0: 446765, 1: 8})\n",
            "A Counter({0: 279227, 1: 223382})\n",
            "the maximum value of sqrt(tpr*(1-fpr)) 0.9998086076186858 for threshold 0.032\n",
            "Test 0.09523809523809523\n",
            "Train 0.9998679542987591\n",
            "\n",
            "B Counter({0: 446765, 1: 8})\n",
            "A Counter({0: 279227, 1: 223382})\n",
            "the maximum value of sqrt(tpr*(1-fpr)) 0.991167861961638 for threshold 0.001\n",
            "Test 0.0022857142857142855\n",
            "Train 0.9898700297340772\n",
            "\n",
            "B Counter({0: 446765, 1: 9})\n",
            "A Counter({0: 279227, 1: 223382})\n",
            "the maximum value of sqrt(tpr*(1-fpr)) nan for threshold 1.616\n",
            "Test 0.0\n",
            "Train 0.0\n",
            "\n",
            "B Counter({0: 446766, 1: 8})\n",
            "A Counter({0: 279228, 1: 223383})\n",
            "the maximum value of sqrt(tpr*(1-fpr)) 0.8760512276257921 for threshold 0.0\n",
            "Test 0.00017323516673884798\n",
            "Train 0.8726443840240016\n",
            "\n",
            "B Counter({0: 446766, 1: 8})\n",
            "A Counter({0: 279228, 1: 223383})\n",
            "the maximum value of sqrt(tpr*(1-fpr)) 0.9999899274271121 for threshold 0.338\n",
            "Test 0.6666666666666666\n",
            "Train 0.9999753784444997\n",
            "\n",
            "B Counter({0: 446766, 1: 8})\n",
            "A Counter({0: 279228, 1: 223383})\n",
            "the maximum value of sqrt(tpr*(1-fpr)) 0.9943535187374883 for threshold 0.001\n",
            "Test 0.0035650623885918\n",
            "Train 0.9931465587188534\n",
            "\n",
            "B Counter({0: 446766, 1: 8})\n",
            "A Counter({0: 279228, 1: 223383})\n",
            "the maximum value of sqrt(tpr*(1-fpr)) 0.4544080812119756 for threshold 0.0\n",
            "Test 5.077173030056865e-05\n",
            "Train 0.6693263978570336\n"
          ]
        },
        {
          "output_type": "stream",
          "name": "stderr",
          "text": [
            "\r 40%|████      | 4/10 [21:26<33:08, 331.34s/it]"
          ]
        },
        {
          "output_type": "stream",
          "name": "stdout",
          "text": [
            "\n",
            "\n",
            "B Counter({0: 446765, 1: 8})\n",
            "A Counter({0: 279227, 1: 223382})\n",
            "the maximum value of sqrt(tpr*(1-fpr)) 0.6931156750892383 for threshold 0.0\n",
            "Test 7.753440589261483e-05\n",
            "Train 0.7530445306324027\n",
            "\n",
            "B Counter({0: 446765, 1: 8})\n",
            "A Counter({0: 279227, 1: 223382})\n",
            "the maximum value of sqrt(tpr*(1-fpr)) 0.9981752453505809 for threshold 0.001\n",
            "Test 0.010928961748633882\n",
            "Train 0.9977176597749818\n",
            "\n",
            "B Counter({0: 446765, 1: 8})\n",
            "A Counter({0: 279227, 1: 223382})\n",
            "the maximum value of sqrt(tpr*(1-fpr)) 0.9999496371355298 for threshold 0.02\n",
            "Test 0.2857142857142857\n",
            "Train 0.9999194255940125\n",
            "\n",
            "B Counter({0: 446765, 1: 8})\n",
            "A Counter({0: 279227, 1: 223382})\n",
            "the maximum value of sqrt(tpr*(1-fpr)) 0.9988208434423953 for threshold 0.001\n",
            "Test 0.01680672268907563\n",
            "Train 0.9987570419386569\n",
            "\n",
            "B Counter({0: 446765, 1: 8})\n",
            "A Counter({0: 279227, 1: 223382})\n",
            "the maximum value of sqrt(tpr*(1-fpr)) 0.9876557245829972 for threshold 0.0\n",
            "Test 0.001639344262295082\n",
            "Train 0.9854986786900723\n",
            "\n",
            "B Counter({0: 446765, 1: 9})\n",
            "A Counter({0: 279227, 1: 223382})\n",
            "the maximum value of sqrt(tpr*(1-fpr)) nan for threshold 1.832\n",
            "Test 0.0\n",
            "Train 0.0\n",
            "\n",
            "B Counter({0: 446766, 1: 8})\n",
            "A Counter({0: 279228, 1: 223383})\n",
            "the maximum value of sqrt(tpr*(1-fpr)) 0.9446933938481514 for threshold 0.0\n",
            "Test 0.0003744617112900206\n",
            "Train 0.9368088202607663\n",
            "\n",
            "B Counter({0: 446766, 1: 8})\n",
            "A Counter({0: 279228, 1: 223383})\n",
            "the maximum value of sqrt(tpr*(1-fpr)) 0.9999798547527654 for threshold 0.201\n",
            "Test 0.5\n",
            "Train 0.9999820934542621\n",
            "\n",
            "B Counter({0: 446766, 1: 8})\n",
            "A Counter({0: 279228, 1: 223383})\n",
            "the maximum value of sqrt(tpr*(1-fpr)) 0.9935833618058291 for threshold 0.0\n",
            "Test 0.0031397174254317113\n",
            "Train 0.9925795257117213\n",
            "\n",
            "B Counter({0: 446766, 1: 8})\n",
            "A Counter({0: 279228, 1: 223383})\n",
            "the maximum value of sqrt(tpr*(1-fpr)) 0.6710605939176474 for threshold 0.0\n",
            "Test 7.32922896511287e-05\n",
            "Train 0.7439132013014476\n"
          ]
        },
        {
          "output_type": "stream",
          "name": "stderr",
          "text": [
            "\r 50%|█████     | 5/10 [31:57<36:37, 439.41s/it]"
          ]
        },
        {
          "output_type": "stream",
          "name": "stdout",
          "text": [
            "\n",
            "\n",
            "B Counter({0: 446765, 1: 8})\n",
            "A Counter({0: 279227, 1: 223382})\n",
            "the maximum value of sqrt(tpr*(1-fpr)) 0.7595407543317105 for threshold 0.0\n",
            "Test 9.521542489883361e-05\n",
            "Train 0.7899246434620865\n",
            "\n",
            "B Counter({0: 446765, 1: 8})\n",
            "A Counter({0: 279227, 1: 223382})\n",
            "the maximum value of sqrt(tpr*(1-fpr)) 0.998941846634243 for threshold 0.001\n",
            "Test 0.018691588785046728\n",
            "Train 0.9985516704960975\n",
            "\n",
            "B Counter({0: 446765, 1: 8})\n",
            "A Counter({0: 279227, 1: 223382})\n",
            "the maximum value of sqrt(tpr*(1-fpr)) 0.9999496371355298 for threshold 0.017\n",
            "Test 0.2857142857142857\n",
            "Train 0.9999216639472865\n",
            "\n",
            "B Counter({0: 446765, 1: 8})\n",
            "A Counter({0: 279227, 1: 223382})\n",
            "the maximum value of sqrt(tpr*(1-fpr)) 0.9995164117470937 for threshold 0.002\n",
            "Test 0.039999999999999994\n",
            "Train 0.9994921597974008\n",
            "\n",
            "B Counter({0: 446765, 1: 8})\n",
            "A Counter({0: 279227, 1: 223382})\n",
            "the maximum value of sqrt(tpr*(1-fpr)) 0.9720826626204714 for threshold 0.0\n",
            "Test 0.0007312614259597806\n",
            "Train 0.9675326362840981\n",
            "\n",
            "B Counter({0: 446765, 1: 9})\n",
            "A Counter({0: 279227, 1: 223382})\n",
            "the maximum value of sqrt(tpr*(1-fpr)) nan for threshold 1.793\n",
            "Test 0.0\n",
            "Train 0.0\n",
            "\n",
            "B Counter({0: 446766, 1: 8})\n",
            "A Counter({0: 279228, 1: 223383})\n",
            "the maximum value of sqrt(tpr*(1-fpr)) 0.9285298093054067 for threshold 0.0\n",
            "Test 0.0002922267679719462\n",
            "Train 0.9199113786954713\n",
            "\n",
            "B Counter({0: 446766, 1: 8})\n",
            "A Counter({0: 279228, 1: 223383})\n",
            "the maximum value of sqrt(tpr*(1-fpr)) 0.9999798547527654 for threshold 0.109\n",
            "Test 0.5\n",
            "Train 0.9999776170182286\n",
            "\n",
            "B Counter({0: 446766, 1: 8})\n",
            "A Counter({0: 279228, 1: 223383})\n",
            "the maximum value of sqrt(tpr*(1-fpr)) 0.9968018965425608 for threshold 0.0\n",
            "Test 0.006269592476489028\n",
            "Train 0.9966359860264035\n",
            "\n",
            "B Counter({0: 446766, 1: 8})\n",
            "A Counter({0: 279228, 1: 223383})\n",
            "the maximum value of sqrt(tpr*(1-fpr)) 0.6327102976158248 for threshold 0.0\n",
            "Test 6.718172657037287e-05\n",
            "Train 0.7269156612783821\n"
          ]
        },
        {
          "output_type": "stream",
          "name": "stderr",
          "text": [
            "\r 60%|██████    | 6/10 [45:30<37:44, 566.21s/it]"
          ]
        },
        {
          "output_type": "stream",
          "name": "stdout",
          "text": [
            "\n",
            "\n",
            "B Counter({0: 446765, 1: 8})\n",
            "A Counter({0: 279227, 1: 223382})\n",
            "the maximum value of sqrt(tpr*(1-fpr)) 0.493118577410506 for threshold 0.0\n",
            "Test 5.323112956456936e-05\n",
            "Train 0.6776955281839695\n",
            "\n",
            "B Counter({0: 446765, 1: 8})\n",
            "A Counter({0: 279227, 1: 223382})\n",
            "the maximum value of sqrt(tpr*(1-fpr)) 0.99934508479164 for threshold 0.001\n",
            "Test 0.02985074626865672\n",
            "Train 0.9991546309673437\n",
            "\n",
            "B Counter({0: 446765, 1: 8})\n",
            "A Counter({0: 279227, 1: 223382})\n",
            "the maximum value of sqrt(tpr*(1-fpr)) 0.9999697825856972 for threshold 0.019\n",
            "Test 0.4\n",
            "Train 0.999919426676037\n",
            "\n",
            "B Counter({0: 446765, 1: 8})\n",
            "A Counter({0: 279227, 1: 223382})\n",
            "the maximum value of sqrt(tpr*(1-fpr)) 0.9995667964394916 for threshold 0.003\n",
            "Test 0.044444444444444446\n",
            "Train 0.9994608561425486\n",
            "\n",
            "B Counter({0: 446765, 1: 8})\n",
            "A Counter({0: 279227, 1: 223382})\n",
            "the maximum value of sqrt(tpr*(1-fpr)) 0.9622097409946935 for threshold 0.0\n",
            "Test 0.0005430355688297582\n",
            "Train 0.9554058128767774\n",
            "\n",
            "B Counter({0: 446765, 1: 9})\n",
            "A Counter({0: 279227, 1: 223382})\n",
            "the maximum value of sqrt(tpr*(1-fpr)) nan for threshold 1.19\n",
            "Test 0.0\n",
            "Train 0.0\n",
            "\n",
            "B Counter({0: 446766, 1: 8})\n",
            "A Counter({0: 279228, 1: 223383})\n",
            "the maximum value of sqrt(tpr*(1-fpr)) 0.8601786632997427 for threshold 0.0\n",
            "Test 0.00015488267637264774\n",
            "Train 0.8590381808847537\n",
            "\n",
            "B Counter({0: 446766, 1: 8})\n",
            "A Counter({0: 279228, 1: 223383})\n",
            "the maximum value of sqrt(tpr*(1-fpr)) 0.9999597090996835 for threshold 0.098\n",
            "Test 0.33333333333333337\n",
            "Train 0.9999776171184278\n",
            "\n",
            "B Counter({0: 446766, 1: 8})\n",
            "A Counter({0: 279228, 1: 223383})\n",
            "the maximum value of sqrt(tpr*(1-fpr)) 0.9965088131399502 for threshold 0.0\n",
            "Test 0.005747126436781608\n",
            "Train 0.9959872125841014\n",
            "\n",
            "B Counter({0: 446766, 1: 8})\n",
            "A Counter({0: 279228, 1: 223383})\n",
            "the maximum value of sqrt(tpr*(1-fpr)) 0.7489987945238813 for threshold 0.0\n",
            "Test 9.176837661741764e-05\n",
            "Train 0.7850629872971078\n"
          ]
        },
        {
          "output_type": "stream",
          "name": "stderr",
          "text": [
            "\r 70%|███████   | 7/10 [1:04:07<37:19, 746.55s/it]"
          ]
        },
        {
          "output_type": "stream",
          "name": "stdout",
          "text": [
            "\n",
            "\n",
            "B Counter({0: 446765, 1: 8})\n",
            "A Counter({0: 279227, 1: 223382})\n",
            "the maximum value of sqrt(tpr*(1-fpr)) 0.48924287905908037 for threshold 0.0\n",
            "Test 5.296469902809777e-05\n",
            "Train 0.6772712319962162\n",
            "\n",
            "B Counter({0: 446765, 1: 8})\n",
            "A Counter({0: 279227, 1: 223382})\n",
            "the maximum value of sqrt(tpr*(1-fpr)) 0.9986191388737193 for threshold 0.0\n",
            "Test 0.014388489208633093\n",
            "Train 0.99832630560453\n",
            "\n",
            "B Counter({0: 446765, 1: 8})\n",
            "A Counter({0: 279227, 1: 223382})\n",
            "the maximum value of sqrt(tpr*(1-fpr)) 0.9996373307424244 for threshold 0.003\n",
            "Test 0.052631578947368425\n",
            "Train 0.9995637183723787\n",
            "\n",
            "B Counter({0: 446765, 1: 8})\n",
            "A Counter({0: 279227, 1: 223382})\n",
            "the maximum value of sqrt(tpr*(1-fpr)) 0.9990426714320445 for threshold 0.001\n",
            "Test 0.020618556701030924\n",
            "Train 0.998723551700627\n",
            "\n",
            "B Counter({0: 446765, 1: 8})\n",
            "A Counter({0: 279227, 1: 223382})\n",
            "the maximum value of sqrt(tpr*(1-fpr)) 0.9895711305107906 for threshold 0.0\n",
            "Test 0.001937984496124031\n",
            "Train 0.9874634202406528\n",
            "\n",
            "B Counter({0: 446765, 1: 9})\n",
            "A Counter({0: 279227, 1: 223382})\n",
            "the maximum value of sqrt(tpr*(1-fpr)) nan for threshold 1.947\n",
            "Test 0.0\n",
            "Train 0.0\n",
            "\n",
            "B Counter({0: 446766, 1: 8})\n",
            "A Counter({0: 279228, 1: 223383})\n",
            "the maximum value of sqrt(tpr*(1-fpr)) 0.949447440983952 for threshold 0.0\n",
            "Test 0.0004086636697997548\n",
            "Train 0.9411107974772603\n",
            "\n",
            "B Counter({0: 446766, 1: 8})\n",
            "A Counter({0: 279228, 1: 223383})\n",
            "the maximum value of sqrt(tpr*(1-fpr)) 0.9999496361209421 for threshold 0.028\n",
            "Test 0.2857142857142857\n",
            "Train 0.9999485211007532\n",
            "\n",
            "B Counter({0: 446766, 1: 8})\n",
            "A Counter({0: 279228, 1: 223383})\n",
            "the maximum value of sqrt(tpr*(1-fpr)) 0.9966907371212678 for threshold 0.0\n",
            "Test 0.00606060606060606\n",
            "Train 0.9962826107802059\n",
            "\n",
            "B Counter({0: 446766, 1: 8})\n",
            "A Counter({0: 279228, 1: 223383})\n",
            "the maximum value of sqrt(tpr*(1-fpr)) 0.49617797877746506 for threshold 0.0\n",
            "Test 5.3445926084284224e-05\n",
            "Train 0.6794630798992589\n"
          ]
        },
        {
          "output_type": "stream",
          "name": "stderr",
          "text": [
            "\r 80%|████████  | 8/10 [1:33:58<35:57, 1079.00s/it]"
          ]
        },
        {
          "output_type": "stream",
          "name": "stdout",
          "text": [
            "\n",
            "\n",
            "B Counter({0: 446765, 1: 8})\n",
            "A Counter({0: 279227, 1: 223382})\n",
            "the maximum value of sqrt(tpr*(1-fpr)) 0.6295279765810903 for threshold 0.0\n",
            "Test 6.673340006673339e-05\n",
            "Train 0.7261102190208099\n",
            "\n",
            "B Counter({0: 446765, 1: 8})\n",
            "A Counter({0: 279227, 1: 223382})\n",
            "the maximum value of sqrt(tpr*(1-fpr)) 0.9980137805735054 for threshold 0.0\n",
            "Test 0.010050251256281409\n",
            "Train 0.9975104883238552\n",
            "\n",
            "B Counter({0: 446765, 1: 8})\n",
            "A Counter({0: 279227, 1: 223382})\n",
            "the maximum value of sqrt(tpr*(1-fpr)) 0.999697784755406 for threshold 0.002\n",
            "Test 0.0625\n",
            "Train 0.99955253666962\n",
            "\n",
            "B Counter({0: 446765, 1: 8})\n",
            "A Counter({0: 279227, 1: 223382})\n",
            "the maximum value of sqrt(tpr*(1-fpr)) 0.9984980965744678 for threshold 0.0\n",
            "Test 0.013245033112582783\n",
            "Train 0.9980876636432688\n",
            "\n",
            "B Counter({0: 446765, 1: 8})\n",
            "A Counter({0: 279227, 1: 223382})\n",
            "the maximum value of sqrt(tpr*(1-fpr)) 0.9780430253237226 for threshold 0.0\n",
            "Test 0.0009267840593141798\n",
            "Train 0.9727571220790985\n",
            "\n",
            "B Counter({0: 446765, 1: 9})\n",
            "A Counter({0: 279227, 1: 223382})\n",
            "the maximum value of sqrt(tpr*(1-fpr)) nan for threshold 1.294\n",
            "Test 0.0\n",
            "Train 0.0\n",
            "\n",
            "B Counter({0: 446766, 1: 8})\n",
            "A Counter({0: 279228, 1: 223383})\n",
            "the maximum value of sqrt(tpr*(1-fpr)) 0.9171896781588815 for threshold 0.0\n",
            "Test 0.00025371051630090067\n",
            "Train 0.9090790702595793\n",
            "\n",
            "B Counter({0: 446766, 1: 8})\n",
            "A Counter({0: 279228, 1: 223383})\n",
            "the maximum value of sqrt(tpr*(1-fpr)) 0.9999798547527654 for threshold 0.06\n",
            "Test 0.5\n",
            "Train 0.999977617218626\n",
            "\n",
            "B Counter({0: 446766, 1: 8})\n",
            "A Counter({0: 279228, 1: 223383})\n",
            "the maximum value of sqrt(tpr*(1-fpr)) 0.9976301491960896 for threshold 0.0\n",
            "Test 0.008438818565400843\n",
            "Train 0.9973279043135258\n",
            "\n",
            "B Counter({0: 446766, 1: 8})\n",
            "A Counter({0: 279228, 1: 223383})\n",
            "the maximum value of sqrt(tpr*(1-fpr)) 0.6238769119700479 for threshold 0.0\n",
            "Test 6.596088519507932e-05\n",
            "Train 0.7237925207814574\n"
          ]
        },
        {
          "output_type": "stream",
          "name": "stderr",
          "text": [
            "\r 90%|█████████ | 9/10 [2:07:00<22:41, 1361.34s/it]"
          ]
        },
        {
          "output_type": "stream",
          "name": "stdout",
          "text": [
            "\n",
            "\n",
            "B Counter({0: 446765, 1: 8})\n",
            "A Counter({0: 279227, 1: 223382})\n",
            "the maximum value of sqrt(tpr*(1-fpr)) 0.6656738038879488 for threshold 0.0\n",
            "Test 7.234319612240469e-05\n",
            "Train 0.7403054917595437\n",
            "\n",
            "B Counter({0: 446765, 1: 8})\n",
            "A Counter({0: 279227, 1: 223382})\n",
            "the maximum value of sqrt(tpr*(1-fpr)) 0.9975393266457775 for threshold 0.0\n",
            "Test 0.008130081300813009\n",
            "Train 0.9968761435545916\n",
            "\n",
            "B Counter({0: 446765, 1: 8})\n",
            "A Counter({0: 279227, 1: 223382})\n",
            "the maximum value of sqrt(tpr*(1-fpr)) 0.9997380853998131 for threshold 0.002\n",
            "Test 0.07142857142857142\n",
            "Train 0.9996084476852546\n",
            "\n",
            "B Counter({0: 446765, 1: 8})\n",
            "A Counter({0: 279227, 1: 223382})\n",
            "the maximum value of sqrt(tpr*(1-fpr)) 0.9989115972104429 for threshold 0.0\n",
            "Test 0.018181818181818184\n",
            "Train 0.9985985413206793\n",
            "\n",
            "B Counter({0: 446765, 1: 8})\n",
            "A Counter({0: 279227, 1: 223382})\n",
            "the maximum value of sqrt(tpr*(1-fpr)) 0.9785063454659252 for threshold 0.0\n",
            "Test 0.000946521533364884\n",
            "Train 0.9743291133719345\n",
            "\n",
            "B Counter({0: 446765, 1: 9})\n",
            "A Counter({0: 279227, 1: 223382})\n",
            "the maximum value of sqrt(tpr*(1-fpr)) nan for threshold 1.705\n",
            "Test 0.0\n",
            "Train 0.0\n",
            "\n",
            "B Counter({0: 446766, 1: 8})\n",
            "A Counter({0: 279228, 1: 223383})\n",
            "the maximum value of sqrt(tpr*(1-fpr)) 0.9558863819415493 for threshold 0.0\n",
            "Test 0.0004667444574095683\n",
            "Train 0.9487834557628966\n",
            "\n",
            "B Counter({0: 446766, 1: 8})\n",
            "A Counter({0: 279228, 1: 223383})\n",
            "the maximum value of sqrt(tpr*(1-fpr)) 0.9999697819769569 for threshold 0.02\n",
            "Test 0.4\n",
            "Train 0.999948521561632\n",
            "\n",
            "B Counter({0: 446766, 1: 8})\n",
            "A Counter({0: 279228, 1: 223383})\n",
            "the maximum value of sqrt(tpr*(1-fpr)) 0.9970847918766893 for threshold 0.0\n",
            "Test 0.006872852233676977\n",
            "Train 0.9967315959851059\n",
            "\n",
            "B Counter({0: 446766, 1: 8})\n",
            "A Counter({0: 279228, 1: 223383})\n",
            "the maximum value of sqrt(tpr*(1-fpr)) 0.7630809302056456 for threshold 0.0\n",
            "Test 9.644596614746588e-05\n",
            "Train 0.7935523406069326\n"
          ]
        },
        {
          "output_type": "stream",
          "name": "stderr",
          "text": [
            "100%|██████████| 10/10 [2:46:42<00:00, 1000.26s/it]"
          ]
        },
        {
          "output_type": "stream",
          "name": "stdout",
          "text": [
            "\n"
          ]
        },
        {
          "output_type": "stream",
          "name": "stderr",
          "text": [
            "\n"
          ]
        }
      ],
      "source": [
        "# Creating custom RandomSearchCV for hyperparameter tuning.\n",
        "# In this Cross-Validation is done by StratifiedKFold\n",
        "\n",
        "trainscores = [] # This list is to store the trainscores\n",
        "testscores  = [] # This list is to store the testscores\n",
        "Models = [] # This list is to store the models on each iter\n",
        "TR = []\n",
        "# This loop is to use ten random values for each hyperparameter\n",
        "for iter in tqdm(range(0, 10)):\n",
        "  #print(iter)\n",
        "  Thresholds = []\n",
        "  trainscores_folds = []\n",
        "  testscores_folds  = []\n",
        "  GBDT = XGBClassifier(n_jobs = -1, n_estimators = 120)\n",
        "  for key, value in param.items(): # Assigns the value for each hyperparameter\n",
        "    if isinstance(value, list):\n",
        "      if (key == \"learning_rate\"):\n",
        "        GBDT.learning_rate = value[iter]\n",
        "      #if (key == \"n_estimators\"):\n",
        "        #GBDT.n_estimators = value[iter]\n",
        "      if (key == \"max_depth\"):\n",
        "        GBDT.max_depth = value[iter]\n",
        "      if (key ==  \"colsample_bytree\"):\n",
        "        GBDT.colsample_bytree= value[iter]\n",
        "      if (key == 'subsample'):\n",
        "        GBDT.subsample = value[iter]\n",
        "      if (key == \"num_leaves\"):\n",
        "        GBDT.num_leaves = value[iter]\n",
        "      if (key == \"reg_lambda\"):\n",
        "        GBDT.reg_lambda = value[iter]\n",
        "      if (key == 'colsample_bylevel'):\n",
        "        GBDT.colsample_bylevel = value[iter]\n",
        "      if (key == \"colsample_bynode\"):\n",
        "        GBDT.colsample_bynode = value[iter]\n",
        "      if (key == \"gamma\"):\n",
        "        GBDT.gamma = value[iter]\n",
        "\n",
        "  Models.append(GBDT)\n",
        "  ss = StratifiedKFold(n_splits = 10, shuffle = True, random_state = 1) # Splitting the training data into train and val data\n",
        "  # using stratifiedKFold (10-folds) to ensure that each fold consists of both classes.\n",
        "  # Running the loop for each fold\n",
        "  for train, test in ss.split(X_Train_orig, Y_Train_orig): # This loop uses original training dataset.\n",
        "      print()\n",
        "      X_train = np.zeros(len(train))\n",
        "      Y_train = np.zeros(len(train))\n",
        "      X_test = np.zeros(len(test))\n",
        "      Y_test = np.zeros(len(test))\n",
        "\n",
        "      # selecting the data points based on the train_indices and test_indices\n",
        "      X_train = X_Train_orig[train]\n",
        "      Y_train = Y_Train_orig[train]\n",
        "      X_test  = X_Train_orig[test]\n",
        "      Y_test  = Y_Train_orig[test]\n",
        "      print(\"B\", Counter(Y_train)) # Count of training classes before sampling\n",
        "\n",
        "      X_train, Y_train = pipeline.fit_resample(X_train, Y_train) # Sampling the training data by the above defined pipeline\n",
        "      print(\"A\", Counter(Y_train)) # Count of training classes after sampling\n",
        "      # Standardizing the above train and val data.\n",
        "      sc = StandardScaler()\n",
        "      sc.fit(X_train)\n",
        "      X_train = sc.transform(X_train)\n",
        "      X_test = sc.transform(X_test)\n",
        "\n",
        "      GBDT.fit(X_train,Y_train)\n",
        "\n",
        "      Y_predicted_test = GBDT.predict_proba(X_test)[:, 1]\n",
        "\n",
        "      Y_predicted_train = GBDT.predict_proba(X_train)[:, 1]\n",
        "\n",
        "      # This following snippets are used tuning the thresholds generated by roc_curve \n",
        "      train_fpr, train_tpr, tr_thresholds = roc_curve(Y_train, Y_predicted_train)\n",
        "      test_fpr, test_tpr, te_thresholds = roc_curve(Y_test, Y_predicted_test)\n",
        "      thresholds = np.linspace(0.0, 1.0, num=len(te_thresholds))\n",
        "      best_t = find_best_threshold(te_thresholds, test_fpr, test_tpr) # Finding the best threshold based on the prediction on val data\n",
        "      Thresholds.append(best_t)\n",
        "\n",
        "      # F1-score based on the optimal threshold value\n",
        "      print('Test', f1_score(Y_test, predict_with_best_t(Y_predicted_test, best_t)))\n",
        "      testscores_folds.append(f1_score(Y_test, predict_with_best_t(Y_predicted_test, best_t)))\n",
        "\n",
        "      print('Train', f1_score(Y_train, predict_with_best_t(Y_predicted_train, best_t)))\n",
        "      trainscores_folds.append(f1_score(Y_train, predict_with_best_t(Y_predicted_train, best_t)))\n",
        "\n",
        "  TR.append(Thresholds[np.argmax(testscores_folds)])    \n",
        "  trainscores.append(np.mean(np.array(trainscores_folds))) # Taking the mean of trainscores obtained from each fold\n",
        "  testscores.append(np.mean(np.array(testscores_folds))) # Taking the mean of testscores obtained from each fold\n",
        "  print() "
      ]
    },
    {
      "cell_type": "code",
      "execution_count": 87,
      "metadata": {
        "id": "i-RoYrXUYUwe",
        "colab": {
          "base_uri": "https://localhost:8080/"
        },
        "outputId": "0cb6d41f-6c72-4b13-d725-646eb2868b08"
      },
      "outputs": [
        {
          "output_type": "stream",
          "name": "stdout",
          "text": [
            "[0.7718424074416599, 0.773711922660316, 0.7791622291593582, 0.8306799679496484, 0.8408220977358323, 0.8398863417005454, 0.8271702252731068, 0.8278153237171884, 0.832419514230984, 0.8448733651608571]\n",
            "[0.0649656384796802, 0.12366703083951787, 0.03834505153996571, 0.1105027474893483, 0.08187543202465558, 0.08518613523212223, 0.08142185682346006, 0.03818665754229604, 0.05955472917951419, 0.050619537829792394]\n"
          ]
        }
      ],
      "source": [
        "print(trainscores)\n",
        "print(testscores)"
      ]
    },
    {
      "cell_type": "code",
      "execution_count": 88,
      "metadata": {
        "id": "wB8LXrB2YUwi",
        "colab": {
          "base_uri": "https://localhost:8080/",
          "height": 265
        },
        "outputId": "f7ec6d49-119f-4cdc-d68a-c7fd4dd18541"
      },
      "outputs": [
        {
          "output_type": "display_data",
          "data": {
            "text/plain": [
              "<Figure size 432x288 with 1 Axes>"
            ],
            "image/png": "[encoded data removed]"
          },
          "metadata": {
            "needs_background": "light"
          }
        }
      ],
      "source": [
        "plt.plot(trainscores,label = \"Train\")\n",
        "plt.plot(testscores, label = 'Val')\n",
        "plt.legend()\n",
        "plt.grid(True)\n",
        "plt.show()"
      ]
    },
    {
      "cell_type": "markdown",
      "metadata": {
        "id": "TdbL4Fnz-TTA"
      },
      "source": [
        "This plot shows the trainscores and testscores on each iteration"
      ]
    },
    {
      "cell_type": "code",
      "execution_count": 89,
      "metadata": {
        "id": "N3mEDdtlYUwm",
        "colab": {
          "base_uri": "https://localhost:8080/"
        },
        "outputId": "baec28be-6e29-4beb-e88b-8d44fac72936"
      },
      "outputs": [
        {
          "output_type": "stream",
          "name": "stdout",
          "text": [
            "0.12366703083951787 0.773711922660316\n"
          ]
        }
      ],
      "source": [
        "# Choosing the best model based on highest test score.\n",
        "test_score, train_score, threshold, est = BEST(trainscores, testscores, TR, Models)\n",
        "print(test_score, train_score)"
      ]
    },
    {
      "cell_type": "code",
      "execution_count": 90,
      "metadata": {
        "id": "DejdAciWYUwq",
        "colab": {
          "base_uri": "https://localhost:8080/"
        },
        "outputId": "f56e6a00-2214-43ce-f2dd-82a3ef94bb5b"
      },
      "outputs": [
        {
          "output_type": "execute_result",
          "data": {
            "text/plain": [
              "XGBClassifier(base_score=0.5, booster='gbtree', callbacks=None,\n",
              "              colsample_bylevel=0.13925399166837238,\n",
              "              colsample_bynode=0.16439486254037694,\n",
              "              colsample_bytree=0.18710231819057854, early_stopping_rounds=None,\n",
              "              enable_categorical=False, eval_metric=None, feature_types=None,\n",
              "              gamma=0.2679930099739367, gpu_id=-1, grow_policy='depthwise',\n",
              "              importance_type=None, interaction_constraints='',\n",
              "              learning_rate=0.02629735226532297, max_bin=256,\n",
              "              max_cat_threshold=64, max_cat_to_onehot=4, max_delta_step=0,\n",
              "              max_depth=18, max_leaves=0, min_child_weight=1, missing=nan,\n",
              "              monotone_constraints='()', n_estimators=120, n_jobs=-1,\n",
              "              num_parallel_tree=1, predictor='auto', random_state=0, ...)"
            ]
          },
          "metadata": {},
          "execution_count": 90
        }
      ],
      "source": [
        "# Using the best model\n",
        "GBDT = est\n",
        "GBDT"
      ]
    },
    {
      "cell_type": "code",
      "execution_count": 91,
      "metadata": {
        "id": "6XSuNs7JYUwt",
        "colab": {
          "base_uri": "https://localhost:8080/"
        },
        "outputId": "51ec7a77-33a1-471a-8983-b8d9c192aa12"
      },
      "outputs": [
        {
          "output_type": "execute_result",
          "data": {
            "text/plain": [
              "CalibratedClassifierCV(base_estimator=XGBClassifier(base_score=0.5,\n",
              "                                                    booster='gbtree',\n",
              "                                                    callbacks=None,\n",
              "                                                    colsample_bylevel=0.13925399166837238,\n",
              "                                                    colsample_bynode=0.16439486254037694,\n",
              "                                                    colsample_bytree=0.18710231819057854,\n",
              "                                                    early_stopping_rounds=None,\n",
              "                                                    enable_categorical=False,\n",
              "                                                    eval_metric=None,\n",
              "                                                    feature_types=None,\n",
              "                                                    gamma=0.2679930099739367,\n",
              "                                                    gpu_id=-1,\n",
              "                                                    grow_policy='depthwise',\n",
              "                                                    importance_type=None,\n",
              "                                                    interaction_constraints='',\n",
              "                                                    learning_rate=0.02629735226532297,\n",
              "                                                    max_bin=256,\n",
              "                                                    max_cat_threshold=64,\n",
              "                                                    max_cat_to_onehot=4,\n",
              "                                                    max_delta_step=0,\n",
              "                                                    max_depth=18, max_leaves=0,\n",
              "                                                    min_child_weight=1,\n",
              "                                                    missing=nan,\n",
              "                                                    monotone_constraints='()',\n",
              "                                                    n_estimators=120, n_jobs=-1,\n",
              "                                                    num_parallel_tree=1,\n",
              "                                                    predictor='auto',\n",
              "                                                    random_state=0, ...),\n",
              "                       method='isotonic')"
            ]
          },
          "metadata": {},
          "execution_count": 91
        }
      ],
      "source": [
        "# Fitting the calibrated classifier over the best model\n",
        "sig_clf = CalibratedClassifierCV(GBDT, method=\"isotonic\")\n",
        "sig_clf.fit(X_train_standard, y_train_sam)"
      ]
    },
    {
      "cell_type": "code",
      "execution_count": 92,
      "metadata": {
        "id": "-eTZ0UooYUww",
        "outputId": "f9d6ea32-887f-43c9-bd5b-ab42756226e3",
        "colab": {
          "base_uri": "https://localhost:8080/"
        }
      },
      "outputs": [
        {
          "output_type": "stream",
          "name": "stdout",
          "text": [
            "the maximum value of sqrt(tpr*(1-fpr)) 0.625177523860258 for threshold 0.0\n"
          ]
        }
      ],
      "source": [
        "# Threshold Tuning based on the original Val Dataset.\n",
        "Y_predicted_val = sig_clf.predict_proba(X_val_standard)[:, 1]\n",
        "\n",
        "Y_predicted_train = sig_clf.predict_proba(X_train_standard)[:, 1]\n",
        "\n",
        "train_fpr, train_tpr, tr_thresholds = roc_curve(y_train_sam, Y_predicted_train)\n",
        "val_fpr, val_tpr, val_thresholds = roc_curve(y_val, Y_predicted_val)\n",
        "thresholds = np.linspace(0.0, 1.0, num=len(val_thresholds))\n",
        "best_t = find_best_threshold(val_thresholds, val_fpr, val_tpr)"
      ]
    },
    {
      "cell_type": "code",
      "execution_count": 93,
      "metadata": {
        "id": "ZtMMBDA3YUw0",
        "outputId": "df451019-0515-42a2-acc0-1a3871f30264",
        "colab": {
          "base_uri": "https://localhost:8080/",
          "height": 1000
        }
      },
      "outputs": [
        {
          "output_type": "stream",
          "name": "stdout",
          "text": [
            "The Prescision Score:  0.9738950623096965\n",
            "The Recall Score:  1.0\n",
            "The ROC Score:  0.999999841135189\n",
            "The F1 Score:  0.9867749110939273\n",
            "****************************************************************************************************\n",
            "              precision    recall  f1-score   support\n",
            "\n",
            "           0       1.00      0.98      0.99    310253\n",
            "           1       0.97      1.00      0.99    248203\n",
            "\n",
            "    accuracy                           0.99    558456\n",
            "   macro avg       0.99      0.99      0.99    558456\n",
            "weighted avg       0.99      0.99      0.99    558456\n",
            "\n",
            "****************************************************************************************************\n",
            "Sum of columns in precision matrix [1. 1.]\n",
            "Sum of rows in recall matrix [1. 1.]\n"
          ]
        },
        {
          "output_type": "display_data",
          "data": {
            "text/plain": [
              "<Figure size 1440x288 with 6 Axes>"
            ],
            "image/png": "[encoded data removed]"
          },
          "metadata": {
            "needs_background": "light"
          }
        },
        {
          "output_type": "stream",
          "name": "stdout",
          "text": [
            "====================================================================================================\n",
            "====================================================================================================\n",
            "The Prescision Score:  0.0007915567282321899\n",
            "The Recall Score:  0.4\n",
            "The ROC Score:  0.6908989011852215\n",
            "The F1 Score:  0.0015799868334430546\n",
            "****************************************************************************************************\n",
            "              precision    recall  f1-score   support\n",
            "\n",
            "           0       1.00      0.98      0.99    330993\n",
            "           1       0.00      0.40      0.00        15\n",
            "\n",
            "    accuracy                           0.98    331008\n",
            "   macro avg       0.50      0.69      0.49    331008\n",
            "weighted avg       1.00      0.98      0.99    331008\n",
            "\n",
            "****************************************************************************************************\n",
            "Sum of columns in precision matrix [1. 1.]\n",
            "Sum of rows in recall matrix [1. 1.]\n"
          ]
        },
        {
          "output_type": "display_data",
          "data": {
            "text/plain": [
              "<Figure size 1440x288 with 6 Axes>"
            ],
            "image/png": "[encoded data removed]"
          },
          "metadata": {
            "needs_background": "light"
          }
        }
      ],
      "source": [
        "# Getting the metrics based on the optimal threshold value\n",
        "Metrics(sig_clf, X_train_standard, y_train_sam, best_t)\n",
        "print('='*100)\n",
        "print('='*100)\n",
        "Metrics(sig_clf, X_val_standard, y_val, best_t)"
      ]
    },
    {
      "cell_type": "code",
      "execution_count": 94,
      "metadata": {
        "id": "biMOCynLYUw4",
        "outputId": "9dd65c8a-62ff-4603-e490-e3df2a25decd",
        "colab": {
          "base_uri": "https://localhost:8080/",
          "height": 590
        }
      },
      "outputs": [
        {
          "output_type": "stream",
          "name": "stdout",
          "text": [
            "The Prescision Score:  0.0001278281989006775\n",
            "The Recall Score:  0.14285714285714285\n",
            "The ROC Score:  0.5612286005064395\n",
            "The F1 Score:  0.0002554278416347382\n",
            "****************************************************************************************************\n",
            "              precision    recall  f1-score   support\n",
            "\n",
            "           0       1.00      0.98      0.99    330148\n",
            "           1       0.00      0.14      0.00         7\n",
            "\n",
            "    accuracy                           0.98    330155\n",
            "   macro avg       0.50      0.56      0.49    330155\n",
            "weighted avg       1.00      0.98      0.99    330155\n",
            "\n",
            "****************************************************************************************************\n",
            "Sum of columns in precision matrix [1. 1.]\n",
            "Sum of rows in recall matrix [1. 1.]\n"
          ]
        },
        {
          "output_type": "display_data",
          "data": {
            "text/plain": [
              "<Figure size 1440x288 with 6 Axes>"
            ],
            "image/png": "[encoded data removed]"
          },
          "metadata": {
            "needs_background": "light"
          }
        }
      ],
      "source": [
        "Metrics(sig_clf, X_test_standard, y_test, best_t)"
      ]
    },
    {
      "cell_type": "code",
      "execution_count": 95,
      "metadata": {
        "id": "gskgegCKYUw8",
        "outputId": "7e05ef39-2ecd-4e0d-a3c7-c30431368b09",
        "colab": {
          "base_uri": "https://localhost:8080/",
          "height": 295
        }
      },
      "outputs": [
        {
          "output_type": "display_data",
          "data": {
            "text/plain": [
              "<Figure size 432x288 with 1 Axes>"
            ],
            "image/png": "[encoded data removed]"
          },
          "metadata": {
            "needs_background": "light"
          }
        }
      ],
      "source": [
        "# Plotting ROC curve for Train, Val and Test.\n",
        "Y_predicted_test = sig_clf.predict_proba(X_test_standard)[:, 1]\n",
        "\n",
        "test_fpr, test_tpr, te_thresholds = roc_curve(y_test, Y_predicted_test)\n",
        "\n",
        "plt.plot(train_fpr, train_tpr, label=\"train AUC =\"+str(auc(train_fpr, train_tpr)))\n",
        "plt.plot(test_fpr, test_tpr, label=\"test AUC =\"+str(auc(test_fpr, test_tpr)))\n",
        "plt.plot(val_fpr, val_tpr, label=\"val AUC =\"+str(auc(val_fpr, val_tpr)))\n",
        "plt.legend()\n",
        "plt.xlabel(\"FPR\")\n",
        "plt.ylabel(\"TPR\")\n",
        "plt.title(\"ERROR PLOTS\")\n",
        "plt.grid()\n",
        "plt.show()"
      ]
    },
    {
      "cell_type": "markdown",
      "metadata": {
        "id": "ty-HrRXY-mxF"
      },
      "source": [
        "This plot shows the roc_curve of train, val and test dataset."
      ]
    },
    {
      "cell_type": "code",
      "execution_count": 96,
      "metadata": {
        "id": "39n-_e68YUxA",
        "outputId": "acb24fa8-f810-4ed5-e9af-dce260b4d256",
        "colab": {
          "base_uri": "https://localhost:8080/",
          "height": 730
        }
      },
      "outputs": [
        {
          "output_type": "display_data",
          "data": {
            "text/plain": [
              "<Figure size 720x864 with 1 Axes>"
            ],
            "image/png": "[encoded data removed]"
          },
          "metadata": {
            "needs_background": "light"
          }
        }
      ],
      "source": [
        "GBDT.fit(X_train_standard, y_train_sam)\n",
        "features = list(Data.columns)[5:]\n",
        "features.append('model_1')\n",
        "features.append('model_0')\n",
        "importances = GBDT.feature_importances_\n",
        "indices = (np.argsort(importances))[-25:]\n",
        "plt.figure(figsize=(10,12))\n",
        "plt.title('Feature Importances')\n",
        "plt.barh(range(len(indices)), importances[indices], color='y', align='center')\n",
        "plt.yticks(range(len(indices)), [features[i] for i in indices])\n",
        "plt.xlabel('Relative Importance')\n",
        "plt.grid(True)\n",
        "plt.show()"
      ]
    },
    {
      "cell_type": "markdown",
      "metadata": {
        "id": "Xrqw24C3EJ6o"
      },
      "source": [
        "|  Data| Precision  | Recall | ROC-Score | F1-Score |\n",
        "|------------|--------|----------------------|----------||\n",
        "|      Train |  0.8771|        0.9999 |  0.9999 | 0.9345|\n",
        "|    Val   |  0.00016    |  0.8        |   0.8993 |0.00032|\n",
        "|    Test  |    0.00012  |   0.5  |   0.8946 |0.00024|"
      ]
    },
    {
      "cell_type": "markdown",
      "metadata": {
        "id": "dwNB5oq9QQCu"
      },
      "source": [
        "# 10. Summary"
      ]
    },
    {
      "cell_type": "markdown",
      "metadata": {
        "id": "IpA4UMGCE066"
      },
      "source": [
        "|  Data|Model| Precision  | Recall | ROC-Score | F1-Score |\n",
        "|------------|----|--------|----------------------|----------||\n",
        "|      Train |Logistic Reg|  0.8080|   0.9911 |  0.9929 | 0.8903|\n",
        "|     | SVC|  0.7723    |  0.9999     |   0.9975 |0.8714|\n",
        "|      |Stacking|    0.8176  |    0.9999  |   0.9979 |0.8997|\n",
        "|      |GBDT|    0.8771  |    0.9999  |   0.9999 |0.9345|"
      ]
    },
    {
      "cell_type": "markdown",
      "metadata": {
        "id": "GJs34w2CMpjr"
      },
      "source": [
        "|  Data|Model| Precision  | Recall | ROC-Score | F1-Score |\n",
        "|------------|----|--------|----------------------|----------||\n",
        "|      Val |Logistic Reg|  0.00012    |  1.0    |   0.9392 |0.00024|\n",
        "|     | SVC|  9.629458439257376e-05    | 1.0       |   0.9357 |0.00019|\n",
        "|      |Stacking|    0.000127  |    1.0  |   0.9420 |0.00025|\n",
        "|      |GBDT|    0.00016  |    0.8  |   0.8993 |0.00032|"
      ]
    },
    {
      "cell_type": "markdown",
      "metadata": {
        "id": "ldZOL4r0NyfY"
      },
      "source": [
        "|  Data|Model| Precision  | Recall | ROC-Score | F1-Score |\n",
        "|------------|----|--------|----------------------|----------||\n",
        "|      Test |Logistic Reg|  0.00012  |    0.8333 |   0.8468 |0.00024|\n",
        "|     |SVC| 9.681666795755558e-05   |    0.8333  |   0.9203 |0.00019|\n",
        "|      |Stacking|    0.000127  |    0.8333  |   0.9136 |0.00025|\n",
        "|      |GBDT|    0.00012 |    0.5  |   0.8946 |0.00024|"
      ]
    },
    {
      "cell_type": "markdown",
      "metadata": {
        "id": "nGWIKhA9fTho"
      },
      "source": [
        "\n",
        "\n",
        "> The above tables show the performance of each models on Train, Val and Test Dataset.\n",
        "\n",
        "> All these models doesn't show good precision score on Val and Test data but shows good recall score on par with Train recall score.\n",
        "\n",
        "> Because of that F1-score is very much less than the Train Data.\n",
        "\n",
        "> Stacking shows good ROC score on Val Data and also on Test Data when compared to other models.\n",
        "\n",
        "> Logistic Regression shows good ROC score on Val Data but it doesn't achieve same on the Test Data.\n",
        "\n",
        "> SVC shows good ROC score on Test Data when compared to other models and it also achieved the good score on Val Data.\n",
        "\n",
        "> XGboost doesn't perform well on Val and Test Data.\n",
        "\n",
        "\n",
        "\n",
        "\n",
        "\n",
        "\n",
        "\n",
        "\n",
        "\n",
        "\n",
        "\n",
        "\n",
        "\n",
        "\n",
        "\n",
        "\n",
        "\n",
        "\n",
        "\n"
      ]
    }
  ],
  "metadata": {
    "colab": {
      "collapsed_sections": [
        "d3yK3kWBr5Vh",
        "eT72b-HvAx2T",
        "mvlWAduJbQO8",
        "BDFbUjuuYUwN"
      ],
      "provenance": [],
      "include_colab_link": true
    },
    "gpuClass": "standard",
    "kernelspec": {
      "display_name": "Python 3",
      "language": "python",
      "name": "python3"
    },
    "language_info": {
      "codemirror_mode": {
        "name": "ipython",
        "version": 3
      },
      "file_extension": ".py",
      "mimetype": "text/x-python",
      "name": "python",
      "nbconvert_exporter": "python",
      "pygments_lexer": "ipython3",
      "version": "3.7.6"
    }
  },
  "nbformat": 4,
  "nbformat_minor": 0
}